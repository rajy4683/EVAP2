{
  "nbformat": 4,
  "nbformat_minor": 0,
  "metadata": {
    "colab": {
      "name": "ENDS3.ipynb",
      "provenance": [],
      "collapsed_sections": [],
      "authorship_tag": "ABX9TyNB0zn5huW7iaBRdMfPRuWW",
      "include_colab_link": true
    },
    "kernelspec": {
      "name": "python3",
      "display_name": "Python 3"
    }
  },
  "cells": [
    {
      "cell_type": "markdown",
      "metadata": {
        "id": "view-in-github",
        "colab_type": "text"
      },
      "source": [
        "<a href=\"https://colab.research.google.com/github/rajy4683/EVAP2/blob/master/ENDS3.ipynb\" target=\"_parent\"><img src=\"https://colab.research.google.com/assets/colab-badge.svg\" alt=\"Open In Colab\"/></a>"
      ]
    },
    {
      "cell_type": "markdown",
      "metadata": {
        "id": "VPEQJZFzbipl"
      },
      "source": [
        "## 1: Fibonacci generator\n",
        "Write a function using only list filter lambda that can tell whether a number is a Fibonacci number or not. You can use a pre-calculated list/dict to store fab numbers till 10000"
      ]
    },
    {
      "cell_type": "code",
      "metadata": {
        "id": "HvhXAWB7bfWE"
      },
      "source": [
        "class FibonacciGen():\n",
        "    def __init__(self, count=100, max_value=10000):\n",
        "        #self.start = start\n",
        "        self.count = count\n",
        "        self.max_value = max_value\n",
        "    \n",
        "    def get_fibonacci(self): \n",
        "        start,end = 0,1\n",
        "        fib_array = [start,end ]\n",
        "        count_int = 0\n",
        "        for _ in range(0,self.count -2):\n",
        "            start, end = end, start+end\n",
        "            if (end < self.max_value):\n",
        "                fib_array.append(end)\n",
        "\n",
        "        return fib_array\n",
        "my_fib_arr = FibonacciGen(100,20000).get_fibonacci()"
      ],
      "execution_count": 19,
      "outputs": []
    },
    {
      "cell_type": "code",
      "metadata": {
        "id": "C5l8ziXVfiko",
        "outputId": "93c40b60-f191-40d7-d812-61f3ffc43988",
        "colab": {
          "base_uri": "https://localhost:8080/"
        }
      },
      "source": [
        "fn = lambda x:  x in my_fib_arr \n",
        "[ x  for x in range(20000)  if fn(x)] "
      ],
      "execution_count": 49,
      "outputs": [
        {
          "output_type": "execute_result",
          "data": {
            "text/plain": [
              "[0,\n",
              " 1,\n",
              " 2,\n",
              " 3,\n",
              " 5,\n",
              " 8,\n",
              " 13,\n",
              " 21,\n",
              " 34,\n",
              " 55,\n",
              " 89,\n",
              " 144,\n",
              " 233,\n",
              " 377,\n",
              " 610,\n",
              " 987,\n",
              " 1597,\n",
              " 2584,\n",
              " 4181,\n",
              " 6765,\n",
              " 10946,\n",
              " 17711]"
            ]
          },
          "metadata": {
            "tags": []
          },
          "execution_count": 49
        }
      ]
    },
    {
      "cell_type": "markdown",
      "metadata": {
        "id": "h--l0XibguMm"
      },
      "source": [
        "## 2: Lambdas and Lists"
      ]
    },
    {
      "cell_type": "markdown",
      "metadata": {
        "id": "cHUIaoiF5nBg"
      },
      "source": [
        "### 2.1 Add 2 iterables a and b such that a is even and b is odd\n"
      ]
    },
    {
      "cell_type": "code",
      "metadata": {
        "id": "G6h-0Kz8xvuB"
      },
      "source": [
        "even_lambda = lambda x: (int(x)%2 == 0)\n",
        "odd_lambda = lambda x: (int(x)%2 != 0)\n",
        "even_list,odd_list = [ x for x in range(100) if (even_lambda(x))], [ x for x in range(100) if (odd_lambda(x))]\n",
        "[ x+y for x,y in zip(even_list,odd_list)]"
      ],
      "execution_count": null,
      "outputs": []
    },
    {
      "cell_type": "markdown",
      "metadata": {
        "id": "XRJqc5_h6nzH"
      },
      "source": [
        "### 2.2 Strips every vowel from a string provided"
      ]
    },
    {
      "cell_type": "code",
      "metadata": {
        "id": "yLfE8cpCx_ow",
        "outputId": "45cf6f3b-4cbb-4d31-9833-ecab52ee65d3",
        "colab": {
          "base_uri": "https://localhost:8080/"
        }
      },
      "source": [
        "vowel_fn = lambda x: x in ['a','e','i','o','u']\n",
        "my_string = \"Anything humans can do, Deep Learning can do\"\n",
        "print(my_string)\n",
        "print(\"\".join([ alpha for alpha in my_string if not vowel_fn(alpha) ]))"
      ],
      "execution_count": 43,
      "outputs": [
        {
          "output_type": "stream",
          "text": [
            "Anything humans can do, Deep Learning can do\n",
            "Anythng hmns cn d, Dp Lrnng cn d\n"
          ],
          "name": "stdout"
        }
      ]
    },
    {
      "cell_type": "markdown",
      "metadata": {
        "id": "FBb13VAv6wwe"
      },
      "source": [
        "### 2.3 Acts like a ReLU function for a 1D array\n"
      ]
    },
    {
      "cell_type": "code",
      "metadata": {
        "id": "zMwDjZNr5ZRF",
        "outputId": "d785172b-7ea7-4d5b-fa29-3f9546c975cc",
        "colab": {
          "base_uri": "https://localhost:8080/"
        }
      },
      "source": [
        "import numpy as np\n",
        "import random\n",
        "relu_fn = lambda x: 0 if x < 0. else np.round(x, 3)\n",
        "#input_array = [x for x in range(-5,5)]\n",
        "[ relu_fn(random.uniform(-50,50)) for _ in range(20) ]"
      ],
      "execution_count": 79,
      "outputs": [
        {
          "output_type": "execute_result",
          "data": {
            "text/plain": [
              "[0,\n",
              " 0,\n",
              " 0,\n",
              " 35.881,\n",
              " 0,\n",
              " 0,\n",
              " 8.812,\n",
              " 25.681,\n",
              " 16.5,\n",
              " 0,\n",
              " 0,\n",
              " 40.582,\n",
              " 0,\n",
              " 0,\n",
              " 44.842,\n",
              " 0,\n",
              " 0,\n",
              " 0,\n",
              " 0,\n",
              " 0]"
            ]
          },
          "metadata": {
            "tags": []
          },
          "execution_count": 79
        }
      ]
    },
    {
      "cell_type": "markdown",
      "metadata": {
        "id": "zUOaeD2A_Sz3"
      },
      "source": [
        "### 2.4 Acts like a Sigmoid function for a 1D array\n"
      ]
    },
    {
      "cell_type": "code",
      "metadata": {
        "id": "Y7Xp5rqp7avG",
        "outputId": "0c864277-0901-454f-ebed-501a872022a3",
        "colab": {
          "base_uri": "https://localhost:8080/"
        }
      },
      "source": [
        "sigmoid_fn = lambda x: np.round(1/(1+np.exp(-x)), 4)\n",
        "[ sigmoid_fn(random.uniform(-50,50)) for _ in range(20)]"
      ],
      "execution_count": 75,
      "outputs": [
        {
          "output_type": "execute_result",
          "data": {
            "text/plain": [
              "[1.0,\n",
              " 0.0,\n",
              " 0.0,\n",
              " 0.0,\n",
              " 0.2105,\n",
              " 0.0,\n",
              " 1.0,\n",
              " 1.0,\n",
              " 0.999,\n",
              " 1.0,\n",
              " 0.0,\n",
              " 1.0,\n",
              " 0.1041,\n",
              " 0.0,\n",
              " 1.0,\n",
              " 1.0,\n",
              " 0.9198,\n",
              " 0.0,\n",
              " 0.0,\n",
              " 0.0]"
            ]
          },
          "metadata": {
            "tags": []
          },
          "execution_count": 75
        }
      ]
    },
    {
      "cell_type": "markdown",
      "metadata": {
        "id": "0cGLrxzdEkaR"
      },
      "source": [
        "2.4 Takes a small character string and shifts all characters by 5 (handle boundary conditions) tsai>>yxfn\n"
      ]
    },
    {
      "cell_type": "code",
      "metadata": {
        "id": "2iEY251C_CRo",
        "outputId": "5fcccf68-75aa-4578-9ef2-7eed8f2320bf",
        "colab": {
          "base_uri": "https://localhost:8080/",
          "height": 35
        }
      },
      "source": [
        "char_gen = lambda x : chr(97+ord(x.lower())-122+4) if ord(x.lower()) > 117 else chr(ord(x.lower())+5) ### Rolls over anything above ascii(122) to start of alphabets\n",
        "string_shifter_fn = lambda x: char_gen(x) if x.isalpha() and ord(x.lower()) <= 122 and ord(x.lower()) >=97 else \"*\"\n",
        "#string_shifter_fn('Z')\n",
        "my_sentence = \"ACrazyLongSentenceWithoutSpacesTabsMakingitHopelesslyUnreadable\"\n",
        "\"\".join([string_shifter_fn(x) for x in my_sentence ])\n"
      ],
      "execution_count": 148,
      "outputs": [
        {
          "output_type": "execute_result",
          "data": {
            "application/vnd.google.colaboratory.intrinsic+json": {
              "type": "string"
            },
            "text/plain": [
              "'fhwfedqtslxjsyjshjbnymtzyxufhjxyfgxrfpnslnymtujqjxxqdzswjfifgqj'"
            ]
          },
          "metadata": {
            "tags": []
          },
          "execution_count": 148
        }
      ]
    },
    {
      "cell_type": "code",
      "metadata": {
        "id": "VxbN5L--DJT_",
        "outputId": "cd6dd25f-9357-4252-f95c-e132c5cdcf45",
        "colab": {
          "base_uri": "https://localhost:8080/"
        }
      },
      "source": [
        "[ (chr(x),string_shifter_fn(chr(x))) for x in range(97,123)]"
      ],
      "execution_count": 147,
      "outputs": [
        {
          "output_type": "execute_result",
          "data": {
            "text/plain": [
              "[('a', 'f'),\n",
              " ('b', 'g'),\n",
              " ('c', 'h'),\n",
              " ('d', 'i'),\n",
              " ('e', 'j'),\n",
              " ('f', 'k'),\n",
              " ('g', 'l'),\n",
              " ('h', 'm'),\n",
              " ('i', 'n'),\n",
              " ('j', 'o'),\n",
              " ('k', 'p'),\n",
              " ('l', 'q'),\n",
              " ('m', 'r'),\n",
              " ('n', 's'),\n",
              " ('o', 't'),\n",
              " ('p', 'u'),\n",
              " ('q', 'v'),\n",
              " ('r', 'w'),\n",
              " ('s', 'x'),\n",
              " ('t', 'y'),\n",
              " ('u', 'z'),\n",
              " ('v', 'a'),\n",
              " ('w', 'b'),\n",
              " ('x', 'c'),\n",
              " ('y', 'd'),\n",
              " ('z', 'e')]"
            ]
          },
          "metadata": {
            "tags": []
          },
          "execution_count": 147
        }
      ]
    },
    {
      "cell_type": "markdown",
      "metadata": {
        "id": "XDtLsB_XSn6d"
      },
      "source": [
        "## 3. Profanity screener"
      ]
    },
    {
      "cell_type": "code",
      "metadata": {
        "id": "IY2QOx-NLGeJ"
      },
      "source": [
        "import spacy"
      ],
      "execution_count": 202,
      "outputs": []
    },
    {
      "cell_type": "code",
      "metadata": {
        "id": "b49a8gDASGXa"
      },
      "source": [
        "with open(\"/content/profanity.txt\",\"r\") as profanitus_maximus_vocabulous:\n",
        "    profanity_array = profanitus_maximus_vocabulous.read().split(\"\\n\")"
      ],
      "execution_count": 219,
      "outputs": []
    },
    {
      "cell_type": "code",
      "metadata": {
        "id": "1DTvIewcG3gn"
      },
      "source": [
        "profanity_array"
      ],
      "execution_count": null,
      "outputs": []
    },
    {
      "cell_type": "code",
      "metadata": {
        "id": "7yzkwj1OHPmS"
      },
      "source": [
        "my_text_with_profanity = \"\"\"\n",
        "As you can see, English has a lot of words with four, five, six, or seven letters. And in general English looks like a smoother version of the profane distribution. \n",
        "But what really sticks out is how many more profane four-letter words there are than expected from English in general.\n",
        "The three-letter words included in the list are ass, cum, fag, gay, god, Jew, and tit. \n",
        "And the four-letter words are anal, anus, arse, clit, cock, crap, cunt, dick, dumb, dyke, fuck, gook, homo, \n",
        "jerk, jism, jugs, kike, Paki, piss, scum, shag, shit, slag, slut, spic, suck, turd, twat, and wank\n",
        "\"\"\"\n",
        "eng_nlp = spacy.load('en').tokenizer()"
      ],
      "execution_count": 199,
      "outputs": []
    },
    {
      "cell_type": "code",
      "metadata": {
        "id": "_lFlxe1WHbPX",
        "outputId": "0aaa910a-4ecb-4c3b-d5e2-bd1a8f34f006",
        "colab": {
          "base_uri": "https://localhost:8080/"
        }
      },
      "source": [
        "shudhi_fn = lambda x: \"<unspeakable>\"  if x in profanity_array else x\n",
        "print(\" \".join([shudhi_fn(tok.text) for tok in eng_nlp.tokenizer(my_text_with_profanity)]))"
      ],
      "execution_count": 209,
      "outputs": [
        {
          "output_type": "stream",
          "text": [
            "\n",
            " As you can see , English has a lot of words with four , five , six , or seven letters . And in general English looks like a smoother version of the profane distribution . \n",
            " But what really sticks out is how many more profane four - letter words there are than expected from English in general . \n",
            " The three - letter words included in the list are <unspeakable> , <unspeakable> , <unspeakable> , gay , god , Jew , and <unspeakable> . And the four - letter words \n",
            " are <unspeakable> , <unspeakable> , <unspeakable> , <unspeakable> , <unspeakable> , <unspeakable> , <unspeakable> , <unspeakable> , dumb , <unspeakable> , <unspeakable> , gook , <unspeakable> , jerk , <unspeakable> , jugs , kike , Paki , <unspeakable> , scum , <unspeakable> , <unspeakable> , slag , <unspeakable> , spic , suck , <unspeakable> , <unspeakable> , and <unspeakable> \n",
            "\n"
          ],
          "name": "stdout"
        }
      ]
    },
    {
      "cell_type": "markdown",
      "metadata": {
        "id": "l1zcGsWohAv0"
      },
      "source": [
        "## 4: Reduce Functions"
      ]
    },
    {
      "cell_type": "code",
      "metadata": {
        "id": "Z-eikfczhVkN"
      },
      "source": [
        "from functools import reduce\n"
      ],
      "execution_count": 300,
      "outputs": []
    },
    {
      "cell_type": "markdown",
      "metadata": {
        "id": "q33bV12Skyot"
      },
      "source": [
        "### 4.1 add only even numbers in a list"
      ]
    },
    {
      "cell_type": "code",
      "metadata": {
        "id": "_gqFIS9_g_4i",
        "outputId": "56ccfc43-ea08-4580-bd6a-3f557175fab0",
        "colab": {
          "base_uri": "https://localhost:8080/"
        }
      },
      "source": [
        "even_number= lambda x: (int(x)%2 == 0)\n",
        "number_array = reduce(lambda a, b: a + b, { x for x in range(0,1000) if (even_number(x))})\n",
        "print(number_array)"
      ],
      "execution_count": 314,
      "outputs": [
        {
          "output_type": "stream",
          "text": [
            "249500\n"
          ],
          "name": "stdout"
        }
      ]
    },
    {
      "cell_type": "markdown",
      "metadata": {
        "id": "1gZ6zAJZhFT0"
      },
      "source": [
        "### 4.2 find the biggest character in a string (printable ascii characters)"
      ]
    },
    {
      "cell_type": "code",
      "metadata": {
        "id": "nLaznZzqhqJy",
        "outputId": "b70e9455-fc86-46e2-b435-07f90ea46476",
        "colab": {
          "base_uri": "https://localhost:8080/",
          "height": 35
        }
      },
      "source": [
        "my_large_string = \"This is an large very very  asdfasdfa !@!@!@$(()))) large 2!@!21 1212121 Stringzz\" +chr(224)+chr(255)+chr(90000)\n",
        "reduce(lambda a, b: a if a.isprintable() else \"None\" if ord(a) > ord(b) else b if b.isprintable() else \"None\", {*my_large_string})"
      ],
      "execution_count": 345,
      "outputs": [
        {
          "output_type": "execute_result",
          "data": {
            "application/vnd.google.colaboratory.intrinsic+json": {
              "type": "string"
            },
            "text/plain": [
              "' '"
            ]
          },
          "metadata": {
            "tags": []
          },
          "execution_count": 345
        }
      ]
    },
    {
      "cell_type": "code",
      "metadata": {
        "id": "Bz63ViSflRzo",
        "outputId": "8b60f780-9bde-4fb8-8122-e9cc2c07fb1b",
        "colab": {
          "base_uri": "https://localhost:8080/"
        }
      },
      "source": [
        "chr(90000).isprintable()"
      ],
      "execution_count": 333,
      "outputs": [
        {
          "output_type": "execute_result",
          "data": {
            "text/plain": [
              "False"
            ]
          },
          "metadata": {
            "tags": []
          },
          "execution_count": 333
        }
      ]
    },
    {
      "cell_type": "markdown",
      "metadata": {
        "id": "sUnCUuqylwFC"
      },
      "source": [
        "### 4.3 Add every 3rd number in the list"
      ]
    },
    {
      "cell_type": "code",
      "metadata": {
        "id": "R34AXpBxmBNE",
        "outputId": "6e49bd34-c32b-4d44-bb0e-2e1301b02e41",
        "colab": {
          "base_uri": "https://localhost:8080/"
        }
      },
      "source": [
        "main_number_range = range(1000)\n",
        "reduce(lambda x,y:x+y, { x for idx,x in enumerate(main_number_range) if (idx%3 == 0 and idx > 0)})"
      ],
      "execution_count": 341,
      "outputs": [
        {
          "output_type": "execute_result",
          "data": {
            "text/plain": [
              "166833"
            ]
          },
          "metadata": {
            "tags": []
          },
          "execution_count": 341
        }
      ]
    },
    {
      "cell_type": "markdown",
      "metadata": {
        "id": "d7_PT18Rc714"
      },
      "source": [
        "## 5: DMV Number generator\n",
        "Using randint, random.choice and list comprehensions, write an expression that generates 15 random KADDAADDDD number plates, where KA is fixed, D stands for a digit, and A stands for Capital alphabets. 10<<DD<<99 & 1000<<DDDD<<9999"
      ]
    },
    {
      "cell_type": "code",
      "metadata": {
        "id": "lR_opCLUFV0q"
      },
      "source": [
        "state_string = ['KA', 'DL']\n",
        "alpha_range = range(ord('A'),ord('Z'))\n",
        "two_digit_range = range(10,99)\n",
        "four_digit_range = range(1000,9999)\n",
        "\n",
        "random_selector = lambda x: random.choice(x) ### x must be a sequence\n",
        "alpha_two_char = lambda x: chr(random_selector(alpha_range))+chr(random_selector(alpha_range))\n",
        "two_digit = lambda x:random_selector(two_digit_range)\n",
        "four_digit_selector = lambda x:random_selector(four_digit_range)\n",
        "\n",
        "final_string_generator = lambda x: state_string[0]+str(alpha_two_char(1))+str(two_digit(1))+str(four_digit_selector(1))"
      ],
      "execution_count": 282,
      "outputs": []
    },
    {
      "cell_type": "code",
      "metadata": {
        "id": "EuNHDIPJcAgA",
        "outputId": "a7c3d15d-8455-4b1a-9c47-c2d7d2b51fb2",
        "colab": {
          "base_uri": "https://localhost:8080/"
        }
      },
      "source": [
        "print(\"\\n\".join([ final_string_generator(1) for _ in range(15)]))"
      ],
      "execution_count": 283,
      "outputs": [
        {
          "output_type": "stream",
          "text": [
            "KAEL924912\n",
            "KAST707265\n",
            "KAKM915460\n",
            "KACS754299\n",
            "KAHI766331\n",
            "KAWI951610\n",
            "KAHX627031\n",
            "KACB197369\n",
            "KAQA908953\n",
            "KADL475617\n",
            "KAEJ121215\n",
            "KAPK715850\n",
            "KATL852462\n",
            "KAPB819563\n",
            "KAJF501929\n"
          ],
          "name": "stdout"
        }
      ]
    },
    {
      "cell_type": "markdown",
      "metadata": {
        "id": "MHs8pxHKfvEQ"
      },
      "source": [
        "## 6: Custom DMV generator\n",
        "Write the above again from scratch where KA can be changed to DL, and 1000/9999 ranges can be provided."
      ]
    },
    {
      "cell_type": "code",
      "metadata": {
        "id": "wOLnMa8ie8bU"
      },
      "source": [
        "state_string = ['KA', 'DL']\n",
        "alpha_range = range(ord('A'),ord('Z'))\n",
        "two_digit_range = range(10,99)\n",
        "four_digit_range = range(1000,9999)\n",
        "\n",
        "random_selector = lambda x: random.choice(x) ### x must be a sequence\n",
        "alpha_two_char = lambda x: chr(random_selector(alpha_range))+chr(random_selector(alpha_range))\n",
        "two_digit = lambda x:random_selector(two_digit_range)\n",
        "four_digit_selector = lambda x:random_selector(four_digit_range)\n",
        "\n",
        "final_number_gen = lambda state_allowed,last_four_digits : state_allowed+str(alpha_two_char(1))+str(two_digit(1))+str(last_four_digits)"
      ],
      "execution_count": 294,
      "outputs": []
    },
    {
      "cell_type": "code",
      "metadata": {
        "id": "X-fr0WF0dMuN"
      },
      "source": [
        "def dmv_generator():\n",
        "    state_allowed = input(\"Please enter the 2 letter state. Allowed values are KA/DL:\")\n",
        "    while not (state_allowed in  state_string):\n",
        "        state_allowed = input(\"Please enter the 2 letter state. Allowed values are KA/DL:\")\n",
        "\n",
        "    last_four_digits = int(input(\"Please enter 4 digit number between 1000 to 9999:\"))\n",
        "\n",
        "    while not (last_four_digits >= 1000 and last_four_digits <= 9999):\n",
        "        last_four_digits = int(input(\"Please enter 4 digit number between 1000 to 9999:\"))\n",
        "    #print(state_allowed, last_four_digits)\n",
        "\n",
        "    print(\"Your generated DMV is:{}\".format(final_number_gen(state_allowed, last_four_digits)))\n"
      ],
      "execution_count": 297,
      "outputs": []
    },
    {
      "cell_type": "code",
      "metadata": {
        "id": "_rEUi33FYWvL",
        "outputId": "e13e896a-17d6-4a62-f6b5-97e8e476b314",
        "colab": {
          "base_uri": "https://localhost:8080/"
        }
      },
      "source": [
        "dmv_generator()"
      ],
      "execution_count": 299,
      "outputs": [
        {
          "output_type": "stream",
          "text": [
            "Please enter the 2 letter state. Allowed values are KA/DL:KA\n",
            "Please enter 4 digit number between 1000 to 9999:7878\n",
            "Your generated DMV is:KAFD567878\n"
          ],
          "name": "stdout"
        }
      ]
    },
    {
      "cell_type": "code",
      "metadata": {
        "id": "Nq-c-lkJgHV5"
      },
      "source": [
        ""
      ],
      "execution_count": null,
      "outputs": []
    }
  ]
}