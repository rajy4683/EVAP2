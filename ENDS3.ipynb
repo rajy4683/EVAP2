{
  "nbformat": 4,
  "nbformat_minor": 0,
  "metadata": {
    "colab": {
      "name": "ENDS3.ipynb",
      "provenance": [],
      "collapsed_sections": [],
      "authorship_tag": "ABX9TyP+87LPL22QPFIUp1ihe23O",
      "include_colab_link": true
    },
    "kernelspec": {
      "name": "python3",
      "display_name": "Python 3"
    }
  },
  "cells": [
    {
      "cell_type": "markdown",
      "metadata": {
        "id": "view-in-github",
        "colab_type": "text"
      },
      "source": [
        "<a href=\"https://colab.research.google.com/github/rajy4683/EVAP2/blob/master/ENDS3.ipynb\" target=\"_parent\"><img src=\"https://colab.research.google.com/assets/colab-badge.svg\" alt=\"Open In Colab\"/></a>"
      ]
    },
    {
      "cell_type": "markdown",
      "metadata": {
        "id": "VPEQJZFzbipl"
      },
      "source": [
        "## 1: Fibonacci generator\n",
        "Write a function using only list filter lambda that can tell whether a number is a Fibonacci number or not. You can use a pre-calculated list/dict to store fab numbers till 10000"
      ]
    },
    {
      "cell_type": "code",
      "metadata": {
        "id": "HvhXAWB7bfWE"
      },
      "source": [
        "class FibonacciGen():\n",
        "    def __init__(self, count=100, max_value=10000):\n",
        "        #self.start = start\n",
        "        self.count = count\n",
        "        self.max_value = max_value\n",
        "    \n",
        "    def get_fibonacci(self): \n",
        "        start,end = 0,1\n",
        "        fib_array = [start,end ]\n",
        "        count_int = 0\n",
        "        for _ in range(0,self.count -2):\n",
        "            start, end = end, start+end\n",
        "            if (end < self.max_value):\n",
        "                fib_array.append(end)\n",
        "\n",
        "        return fib_array\n",
        "my_fib_arr = FibonacciGen(100,20000).get_fibonacci()"
      ],
      "execution_count": null,
      "outputs": []
    },
    {
      "cell_type": "code",
      "metadata": {
        "id": "C5l8ziXVfiko",
        "colab": {
          "base_uri": "https://localhost:8080/"
        },
        "outputId": "206d75b1-fd1a-4317-cfbb-39432ccbf096"
      },
      "source": [
        "fn = lambda x:  x in my_fib_arr \n",
        "#[ x  for x in range(20000)  if fn(x)] \n",
        "\n",
        "list(filter(fn, [ x  for x in range(20000)  if fn(x)] ))"
      ],
      "execution_count": null,
      "outputs": [
        {
          "output_type": "execute_result",
          "data": {
            "text/plain": [
              "[0,\n",
              " 1,\n",
              " 2,\n",
              " 3,\n",
              " 5,\n",
              " 8,\n",
              " 13,\n",
              " 21,\n",
              " 34,\n",
              " 55,\n",
              " 89,\n",
              " 144,\n",
              " 233,\n",
              " 377,\n",
              " 610,\n",
              " 987,\n",
              " 1597,\n",
              " 2584,\n",
              " 4181,\n",
              " 6765,\n",
              " 10946,\n",
              " 17711]"
            ]
          },
          "metadata": {
            "tags": []
          },
          "execution_count": 5
        }
      ]
    },
    {
      "cell_type": "markdown",
      "metadata": {
        "id": "h--l0XibguMm"
      },
      "source": [
        "## 2: Lambdas and Lists"
      ]
    },
    {
      "cell_type": "markdown",
      "metadata": {
        "id": "cHUIaoiF5nBg"
      },
      "source": [
        "### 2.1 Add 2 iterables a and b such that a is even and b is odd\n"
      ]
    },
    {
      "cell_type": "code",
      "metadata": {
        "id": "G6h-0Kz8xvuB",
        "colab": {
          "base_uri": "https://localhost:8080/"
        },
        "outputId": "d49d302d-904a-4d07-870e-11e477bc1a88"
      },
      "source": [
        "even_lambda = lambda x: (int(x)%2 == 0)\n",
        "odd_lambda = lambda x: (int(x)%2 != 0)\n",
        "even_list,odd_list = [ x for x in range(100) if (even_lambda(x))], [ x for x in range(100) if (odd_lambda(x))]\n",
        "[ x+y for x,y in zip(even_list,odd_list)]"
      ],
      "execution_count": null,
      "outputs": [
        {
          "output_type": "execute_result",
          "data": {
            "text/plain": [
              "[1,\n",
              " 5,\n",
              " 9,\n",
              " 13,\n",
              " 17,\n",
              " 21,\n",
              " 25,\n",
              " 29,\n",
              " 33,\n",
              " 37,\n",
              " 41,\n",
              " 45,\n",
              " 49,\n",
              " 53,\n",
              " 57,\n",
              " 61,\n",
              " 65,\n",
              " 69,\n",
              " 73,\n",
              " 77,\n",
              " 81,\n",
              " 85,\n",
              " 89,\n",
              " 93,\n",
              " 97,\n",
              " 101,\n",
              " 105,\n",
              " 109,\n",
              " 113,\n",
              " 117,\n",
              " 121,\n",
              " 125,\n",
              " 129,\n",
              " 133,\n",
              " 137,\n",
              " 141,\n",
              " 145,\n",
              " 149,\n",
              " 153,\n",
              " 157,\n",
              " 161,\n",
              " 165,\n",
              " 169,\n",
              " 173,\n",
              " 177,\n",
              " 181,\n",
              " 185,\n",
              " 189,\n",
              " 193,\n",
              " 197]"
            ]
          },
          "metadata": {
            "tags": []
          },
          "execution_count": 1
        }
      ]
    },
    {
      "cell_type": "markdown",
      "metadata": {
        "id": "XRJqc5_h6nzH"
      },
      "source": [
        "### 2.2 Strips every vowel from a string provided"
      ]
    },
    {
      "cell_type": "code",
      "metadata": {
        "id": "yLfE8cpCx_ow",
        "colab": {
          "base_uri": "https://localhost:8080/"
        },
        "outputId": "2206cad8-fbc8-4e52-8713-c99ad1f6c56a"
      },
      "source": [
        "vowel_fn = lambda x: x in ['a','e','i','o','u']\n",
        "my_string = \"Anything humans can do, Deep Learning can do\"\n",
        "print(my_string)\n",
        "print(\"\".join([ alpha for alpha in my_string if not vowel_fn(alpha) ]))"
      ],
      "execution_count": null,
      "outputs": [
        {
          "output_type": "stream",
          "text": [
            "Anything humans can do, Deep Learning can do\n",
            "Anythng hmns cn d, Dp Lrnng cn d\n"
          ],
          "name": "stdout"
        }
      ]
    },
    {
      "cell_type": "markdown",
      "metadata": {
        "id": "FBb13VAv6wwe"
      },
      "source": [
        "### 2.3 Acts like a ReLU function for a 1D array\n"
      ]
    },
    {
      "cell_type": "code",
      "metadata": {
        "id": "zMwDjZNr5ZRF",
        "colab": {
          "base_uri": "https://localhost:8080/"
        },
        "outputId": "f25be8d7-5ae3-425d-efb8-522e9ebc9078"
      },
      "source": [
        "import numpy as np\n",
        "import random\n",
        "relu_fn = lambda x: 0 if x < 0. else np.round(x, 3)\n",
        "#input_array = [x for x in range(-5,5)]\n",
        "[ relu_fn(random.uniform(-50,50)) for _ in range(20) ]"
      ],
      "execution_count": null,
      "outputs": [
        {
          "output_type": "execute_result",
          "data": {
            "text/plain": [
              "[10.725,\n",
              " 0.886,\n",
              " 31.793,\n",
              " 38.963,\n",
              " 0,\n",
              " 14.545,\n",
              " 0,\n",
              " 0,\n",
              " 24.609,\n",
              " 0,\n",
              " 19.522,\n",
              " 6.211,\n",
              " 22.804,\n",
              " 35.56,\n",
              " 27.041,\n",
              " 46.037,\n",
              " 0,\n",
              " 15.004,\n",
              " 17.375,\n",
              " 0]"
            ]
          },
          "metadata": {
            "tags": []
          },
          "execution_count": 10
        }
      ]
    },
    {
      "cell_type": "markdown",
      "metadata": {
        "id": "zUOaeD2A_Sz3"
      },
      "source": [
        "### 2.4 Acts like a Sigmoid function for a 1D array\n"
      ]
    },
    {
      "cell_type": "code",
      "metadata": {
        "id": "Y7Xp5rqp7avG",
        "colab": {
          "base_uri": "https://localhost:8080/"
        },
        "outputId": "4deb65f6-c9e0-4f78-e287-1ab23b591144"
      },
      "source": [
        "sigmoid_fn = lambda x: np.round(1/(1+np.exp(-x)), 4)\n",
        "[ sigmoid_fn(random.uniform(-50,50)) for _ in range(20)]"
      ],
      "execution_count": null,
      "outputs": [
        {
          "output_type": "execute_result",
          "data": {
            "text/plain": [
              "[0.9863,\n",
              " 0.9995,\n",
              " 1.0,\n",
              " 1.0,\n",
              " 0.0,\n",
              " 0.0001,\n",
              " 0.0,\n",
              " 0.0,\n",
              " 1.0,\n",
              " 0.0,\n",
              " 1.0,\n",
              " 0.0,\n",
              " 0.0,\n",
              " 0.9975,\n",
              " 0.0,\n",
              " 0.0,\n",
              " 1.0,\n",
              " 0.0,\n",
              " 0.0,\n",
              " 0.0]"
            ]
          },
          "metadata": {
            "tags": []
          },
          "execution_count": 11
        }
      ]
    },
    {
      "cell_type": "markdown",
      "metadata": {
        "id": "0cGLrxzdEkaR"
      },
      "source": [
        "2.4 Takes a small character string and shifts all characters by 5 (handle boundary conditions) tsai>>yxfn\n"
      ]
    },
    {
      "cell_type": "code",
      "metadata": {
        "id": "2iEY251C_CRo",
        "colab": {
          "base_uri": "https://localhost:8080/",
          "height": 35
        },
        "outputId": "e94bb590-f57a-4c65-e5a3-ae49985b0fb4"
      },
      "source": [
        "char_gen = lambda x : chr(97+ord(x.lower())-122+4) if ord(x.lower()) > 117 else chr(ord(x.lower())+5) ### Rolls over anything above ascii(122) to start of alphabets\n",
        "string_shifter_fn = lambda x: char_gen(x) if x.isalpha() and ord(x.lower()) <= 122 and ord(x.lower()) >=97 else \"*\"\n",
        "#string_shifter_fn('Z')\n",
        "my_sentence = \"ACrazyLongSentenceWithoutSpacesTabsMakingitHopelesslyUnreadable\"\n",
        "\"\".join([string_shifter_fn(x) for x in my_sentence ])\n"
      ],
      "execution_count": null,
      "outputs": [
        {
          "output_type": "execute_result",
          "data": {
            "application/vnd.google.colaboratory.intrinsic+json": {
              "type": "string"
            },
            "text/plain": [
              "'fhwfedqtslxjsyjshjbnymtzyxufhjxyfgxrfpnslnymtujqjxxqdzswjfifgqj'"
            ]
          },
          "metadata": {
            "tags": []
          },
          "execution_count": 12
        }
      ]
    },
    {
      "cell_type": "code",
      "metadata": {
        "id": "VxbN5L--DJT_",
        "colab": {
          "base_uri": "https://localhost:8080/"
        },
        "outputId": "1369df4c-9b1a-4c04-fa75-6cf58542856e"
      },
      "source": [
        "[ (chr(x),string_shifter_fn(chr(x))) for x in range(97,123)]"
      ],
      "execution_count": null,
      "outputs": [
        {
          "output_type": "execute_result",
          "data": {
            "text/plain": [
              "[('a', 'f'),\n",
              " ('b', 'g'),\n",
              " ('c', 'h'),\n",
              " ('d', 'i'),\n",
              " ('e', 'j'),\n",
              " ('f', 'k'),\n",
              " ('g', 'l'),\n",
              " ('h', 'm'),\n",
              " ('i', 'n'),\n",
              " ('j', 'o'),\n",
              " ('k', 'p'),\n",
              " ('l', 'q'),\n",
              " ('m', 'r'),\n",
              " ('n', 's'),\n",
              " ('o', 't'),\n",
              " ('p', 'u'),\n",
              " ('q', 'v'),\n",
              " ('r', 'w'),\n",
              " ('s', 'x'),\n",
              " ('t', 'y'),\n",
              " ('u', 'z'),\n",
              " ('v', 'a'),\n",
              " ('w', 'b'),\n",
              " ('x', 'c'),\n",
              " ('y', 'd'),\n",
              " ('z', 'e')]"
            ]
          },
          "metadata": {
            "tags": []
          },
          "execution_count": 13
        }
      ]
    },
    {
      "cell_type": "markdown",
      "metadata": {
        "id": "XDtLsB_XSn6d"
      },
      "source": [
        "## 3. Profanity screener"
      ]
    },
    {
      "cell_type": "code",
      "metadata": {
        "id": "IY2QOx-NLGeJ"
      },
      "source": [
        "import spacy"
      ],
      "execution_count": null,
      "outputs": []
    },
    {
      "cell_type": "code",
      "metadata": {
        "id": "b49a8gDASGXa"
      },
      "source": [
        "with open(\"/content/profanity.txt\",\"r\") as profanitus_maximus_vocabulous:\n",
        "    profanity_array = profanitus_maximus_vocabulous.read().split(\"\\n\")"
      ],
      "execution_count": null,
      "outputs": []
    },
    {
      "cell_type": "code",
      "metadata": {
        "id": "1DTvIewcG3gn"
      },
      "source": [
        "profanity_array"
      ],
      "execution_count": null,
      "outputs": []
    },
    {
      "cell_type": "code",
      "metadata": {
        "id": "7yzkwj1OHPmS"
      },
      "source": [
        "my_text_with_profanity = \"\"\"\n",
        "As you can see, English has a lot of words with four, five, six, or seven letters. And in general English looks like a smoother version of the profane distribution. \n",
        "But what really sticks out is how many more profane four-letter words there are than expected from English in general.\n",
        "The three-letter words included in the list are ass, cum, fag, gay, god, Jew, and tit. \n",
        "And the four-letter words are anal, anus, arse, clit, cock, crap, cunt, dick, dumb, dyke, fuck, gook, homo, \n",
        "jerk, jism, jugs, kike, Paki, piss, scum, shag, shit, slag, slut, spic, suck, turd, twat, and wank\n",
        "\"\"\"\n",
        "eng_nlp = spacy.load('en').tokenizer()"
      ],
      "execution_count": null,
      "outputs": []
    },
    {
      "cell_type": "code",
      "metadata": {
        "id": "_lFlxe1WHbPX",
        "colab": {
          "base_uri": "https://localhost:8080/"
        },
        "outputId": "0aaa910a-4ecb-4c3b-d5e2-bd1a8f34f006"
      },
      "source": [
        "shudhi_fn = lambda x: \"<unspeakable>\"  if x in profanity_array else x\n",
        "print(\" \".join([shudhi_fn(tok.text) for tok in eng_nlp.tokenizer(my_text_with_profanity)]))"
      ],
      "execution_count": null,
      "outputs": [
        {
          "output_type": "stream",
          "text": [
            "\n",
            " As you can see , English has a lot of words with four , five , six , or seven letters . And in general English looks like a smoother version of the profane distribution . \n",
            " But what really sticks out is how many more profane four - letter words there are than expected from English in general . \n",
            " The three - letter words included in the list are <unspeakable> , <unspeakable> , <unspeakable> , gay , god , Jew , and <unspeakable> . And the four - letter words \n",
            " are <unspeakable> , <unspeakable> , <unspeakable> , <unspeakable> , <unspeakable> , <unspeakable> , <unspeakable> , <unspeakable> , dumb , <unspeakable> , <unspeakable> , gook , <unspeakable> , jerk , <unspeakable> , jugs , kike , Paki , <unspeakable> , scum , <unspeakable> , <unspeakable> , slag , <unspeakable> , spic , suck , <unspeakable> , <unspeakable> , and <unspeakable> \n",
            "\n"
          ],
          "name": "stdout"
        }
      ]
    },
    {
      "cell_type": "markdown",
      "metadata": {
        "id": "l1zcGsWohAv0"
      },
      "source": [
        "## 4: Reduce Functions"
      ]
    },
    {
      "cell_type": "code",
      "metadata": {
        "id": "Z-eikfczhVkN"
      },
      "source": [
        "from functools import reduce\n"
      ],
      "execution_count": null,
      "outputs": []
    },
    {
      "cell_type": "markdown",
      "metadata": {
        "id": "q33bV12Skyot"
      },
      "source": [
        "### 4.1 add only even numbers in a list"
      ]
    },
    {
      "cell_type": "code",
      "metadata": {
        "id": "_gqFIS9_g_4i",
        "colab": {
          "base_uri": "https://localhost:8080/"
        },
        "outputId": "56ccfc43-ea08-4580-bd6a-3f557175fab0"
      },
      "source": [
        "even_number= lambda x: (int(x)%2 == 0)\n",
        "number_array = reduce(lambda a, b: a + b, { x for x in range(0,1000) if (even_number(x))})\n",
        "print(number_array)"
      ],
      "execution_count": null,
      "outputs": [
        {
          "output_type": "stream",
          "text": [
            "249500\n"
          ],
          "name": "stdout"
        }
      ]
    },
    {
      "cell_type": "markdown",
      "metadata": {
        "id": "1gZ6zAJZhFT0"
      },
      "source": [
        "### 4.2 find the biggest character in a string (printable ascii characters)"
      ]
    },
    {
      "cell_type": "code",
      "metadata": {
        "id": "nLaznZzqhqJy",
        "colab": {
          "base_uri": "https://localhost:8080/",
          "height": 35
        },
        "outputId": "b70e9455-fc86-46e2-b435-07f90ea46476"
      },
      "source": [
        "my_large_string = \"This is an large very very  asdfasdfa !@!@!@$(()))) large 2!@!21 1212121 Stringzz\" +chr(224)+chr(255)+chr(90000)\n",
        "reduce(lambda a, b: a if a.isprintable() else \"None\" if ord(a) > ord(b) else b if b.isprintable() else \"None\", {*my_large_string})"
      ],
      "execution_count": null,
      "outputs": [
        {
          "output_type": "execute_result",
          "data": {
            "application/vnd.google.colaboratory.intrinsic+json": {
              "type": "string"
            },
            "text/plain": [
              "' '"
            ]
          },
          "metadata": {
            "tags": []
          },
          "execution_count": 345
        }
      ]
    },
    {
      "cell_type": "code",
      "metadata": {
        "id": "Bz63ViSflRzo",
        "colab": {
          "base_uri": "https://localhost:8080/"
        },
        "outputId": "8b60f780-9bde-4fb8-8122-e9cc2c07fb1b"
      },
      "source": [
        "chr(90000).isprintable()"
      ],
      "execution_count": null,
      "outputs": [
        {
          "output_type": "execute_result",
          "data": {
            "text/plain": [
              "False"
            ]
          },
          "metadata": {
            "tags": []
          },
          "execution_count": 333
        }
      ]
    },
    {
      "cell_type": "markdown",
      "metadata": {
        "id": "sUnCUuqylwFC"
      },
      "source": [
        "### 4.3 Add every 3rd number in the list"
      ]
    },
    {
      "cell_type": "code",
      "metadata": {
        "id": "R34AXpBxmBNE",
        "colab": {
          "base_uri": "https://localhost:8080/"
        },
        "outputId": "6e49bd34-c32b-4d44-bb0e-2e1301b02e41"
      },
      "source": [
        "main_number_range = range(1000)\n",
        "reduce(lambda x,y:x+y, { x for idx,x in enumerate(main_number_range) if (idx%3 == 0 and idx > 0)})"
      ],
      "execution_count": null,
      "outputs": [
        {
          "output_type": "execute_result",
          "data": {
            "text/plain": [
              "166833"
            ]
          },
          "metadata": {
            "tags": []
          },
          "execution_count": 341
        }
      ]
    },
    {
      "cell_type": "markdown",
      "metadata": {
        "id": "d7_PT18Rc714"
      },
      "source": [
        "## 5: DMV Number generator\n",
        "Using randint, random.choice and list comprehensions, write an expression that generates 15 random KADDAADDDD number plates, where KA is fixed, D stands for a digit, and A stands for Capital alphabets. 10<<DD<<99 & 1000<<DDDD<<9999"
      ]
    },
    {
      "cell_type": "code",
      "metadata": {
        "id": "lR_opCLUFV0q"
      },
      "source": [
        "state_string = ['KA', 'DL']\n",
        "alpha_range = range(ord('A'),ord('Z'))\n",
        "two_digit_range = range(10,99)\n",
        "four_digit_range = range(1000,9999)\n",
        "\n",
        "random_selector = lambda x: random.choice(x) ### x must be a sequence\n",
        "alpha_two_char = lambda x: chr(random_selector(alpha_range))+chr(random_selector(alpha_range))\n",
        "two_digit = lambda x:random_selector(two_digit_range)\n",
        "four_digit_selector = lambda x:random_selector(four_digit_range)\n",
        "\n",
        "final_string_generator = lambda x: state_string[0]+str(alpha_two_char(1))+str(two_digit(1))+str(four_digit_selector(1))"
      ],
      "execution_count": null,
      "outputs": []
    },
    {
      "cell_type": "code",
      "metadata": {
        "id": "EuNHDIPJcAgA",
        "colab": {
          "base_uri": "https://localhost:8080/"
        },
        "outputId": "f2eb2fff-8d35-4036-b635-0a20bc460b22"
      },
      "source": [
        "print(\"\\n\".join([ final_string_generator(1) for _ in range(15)]))"
      ],
      "execution_count": null,
      "outputs": [
        {
          "output_type": "stream",
          "text": [
            "KAYE376066\n",
            "KAJN977830\n",
            "KALS798461\n",
            "KAEG789814\n",
            "KAIN358787\n",
            "KAVO129674\n",
            "KAJT892450\n",
            "KAIE296329\n",
            "KABO799016\n",
            "KADF672880\n",
            "KAEO866646\n",
            "KABS265488\n",
            "KANL122734\n",
            "KAPU711287\n",
            "KAMI476810\n"
          ],
          "name": "stdout"
        }
      ]
    },
    {
      "cell_type": "markdown",
      "metadata": {
        "id": "MHs8pxHKfvEQ"
      },
      "source": [
        "## 6: Custom DMV generator\n",
        "Write the above again from scratch where KA can be changed to DL, and 1000/9999 ranges can be provided."
      ]
    },
    {
      "cell_type": "code",
      "metadata": {
        "id": "wOLnMa8ie8bU"
      },
      "source": [
        "state_string = ['KA', 'DL']\n",
        "alpha_range = range(ord('A'),ord('Z'))\n",
        "two_digit_range = range(10,99)\n",
        "four_digit_range = range(1000,9999)\n",
        "\n",
        "random_selector = lambda x: random.choice(x) ### x must be a sequence\n",
        "alpha_two_char = lambda x: chr(random_selector(alpha_range))+chr(random_selector(alpha_range))\n",
        "two_digit = lambda x:random_selector(two_digit_range)\n",
        "four_digit_selector = lambda x:random_selector(four_digit_range)\n",
        "\n",
        "final_number_gen = lambda state_allowed,last_four_digits : state_allowed+str(alpha_two_char(1))+str(two_digit(1))+str(last_four_digits)"
      ],
      "execution_count": null,
      "outputs": []
    },
    {
      "cell_type": "code",
      "metadata": {
        "id": "X-fr0WF0dMuN"
      },
      "source": [
        "def dmv_generator():\n",
        "    state_allowed = input(\"Please enter the 2 letter state. Allowed values are KA/DL:\")\n",
        "    while not (state_allowed in  state_string):\n",
        "        state_allowed = input(\"Please enter the 2 letter state. Allowed values are KA/DL:\")\n",
        "\n",
        "    last_four_digits = int(input(\"Please enter 4 digit number between 1000 to 9999:\"))\n",
        "\n",
        "    while not (last_four_digits >= 1000 and last_four_digits <= 9999):\n",
        "        last_four_digits = int(input(\"Please enter 4 digit number between 1000 to 9999:\"))\n",
        "    #print(state_allowed, last_four_digits)\n",
        "\n",
        "    print(\"Your generated DMV is:{}\".format(final_number_gen(state_allowed, last_four_digits)))\n"
      ],
      "execution_count": null,
      "outputs": []
    },
    {
      "cell_type": "code",
      "metadata": {
        "id": "_rEUi33FYWvL",
        "colab": {
          "base_uri": "https://localhost:8080/"
        },
        "outputId": "e3836bff-ad6c-4cd5-c015-e98d9cb37901"
      },
      "source": [
        "for _ in range(16):\n",
        "    dmv_generator()"
      ],
      "execution_count": null,
      "outputs": [
        {
          "output_type": "stream",
          "text": [
            "Please enter the 2 letter state. Allowed values are KA/DL:KA\n",
            "Please enter 4 digit number between 1000 to 9999:1000\n",
            "Your generated DMV is:KACO951000\n",
            "Please enter the 2 letter state. Allowed values are KA/DL:KA\n",
            "Please enter 4 digit number between 1000 to 9999:1111\n",
            "Your generated DMV is:KAUO121111\n",
            "Please enter the 2 letter state. Allowed values are KA/DL:DL\n",
            "Please enter 4 digit number between 1000 to 9999:9090\n",
            "Your generated DMV is:DLFQ909090\n",
            "Please enter the 2 letter state. Allowed values are KA/DL:KA\n",
            "Please enter 4 digit number between 1000 to 9999:9099\n",
            "Your generated DMV is:KADX359099\n",
            "Please enter the 2 letter state. Allowed values are KA/DL:KA\n",
            "Please enter 4 digit number between 1000 to 9999:1890\n",
            "Your generated DMV is:KAEC941890\n",
            "Please enter the 2 letter state. Allowed values are KA/DL:KA\n",
            "Please enter 4 digit number between 1000 to 9999:2121\n",
            "Your generated DMV is:KAOV912121\n",
            "Please enter the 2 letter state. Allowed values are KA/DL:DL\n",
            "Please enter 4 digit number between 1000 to 9999:1212\n",
            "Your generated DMV is:DLQV621212\n",
            "Please enter the 2 letter state. Allowed values are KA/DL:KA\n",
            "Please enter 4 digit number between 1000 to 9999:3131\n",
            "Your generated DMV is:KAAG933131\n",
            "Please enter the 2 letter state. Allowed values are KA/DL:DL\n",
            "Please enter 4 digit number between 1000 to 9999:3131\n",
            "Your generated DMV is:DLOG423131\n",
            "Please enter the 2 letter state. Allowed values are KA/DL:KA\n",
            "Please enter 4 digit number between 1000 to 9999:9091\n",
            "Your generated DMV is:KAHW829091\n",
            "Please enter the 2 letter state. Allowed values are KA/DL:DL\n",
            "Please enter 4 digit number between 1000 to 9999:8989\n",
            "Your generated DMV is:DLOU668989\n",
            "Please enter the 2 letter state. Allowed values are KA/DL:KA\n",
            "Please enter 4 digit number between 1000 to 9999:9899\n",
            "Your generated DMV is:KAAY369899\n",
            "Please enter the 2 letter state. Allowed values are KA/DL:KA\n",
            "Please enter 4 digit number between 1000 to 9999:1011\n",
            "Your generated DMV is:KALH561011\n",
            "Please enter the 2 letter state. Allowed values are KA/DL:DL\n",
            "Please enter 4 digit number between 1000 to 9999:9888\n",
            "Your generated DMV is:DLVE679888\n",
            "Please enter the 2 letter state. Allowed values are KA/DL:KA\n",
            "Please enter 4 digit number between 1000 to 9999:7878\n",
            "Your generated DMV is:KAJH617878\n",
            "Please enter the 2 letter state. Allowed values are KA/DL:KA\n",
            "Please enter 4 digit number between 1000 to 9999:7865\n",
            "Your generated DMV is:KASY177865\n"
          ],
          "name": "stdout"
        }
      ]
    },
    {
      "cell_type": "code",
      "metadata": {
        "id": "Nq-c-lkJgHV5"
      },
      "source": [
        ""
      ],
      "execution_count": null,
      "outputs": []
    }
  ]
}