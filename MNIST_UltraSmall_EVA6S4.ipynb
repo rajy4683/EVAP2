{
  "nbformat": 4,
  "nbformat_minor": 0,
  "metadata": {
    "colab": {
      "name": "MNIST-UltraSmall_EVA6S4.ipynb",
      "provenance": [],
      "collapsed_sections": [],
      "toc_visible": true,
      "include_colab_link": true
    },
    "kernelspec": {
      "name": "python3",
      "display_name": "Python 3"
    },
    "accelerator": "GPU",
    "widgets": {
      "application/vnd.jupyter.widget-state+json": {
        "984a120ad02f4e8ba3acad174b6a759a": {
          "model_module": "@jupyter-widgets/controls",
          "model_name": "VBoxModel",
          "state": {
            "_view_name": "VBoxView",
            "_dom_classes": [],
            "_model_name": "VBoxModel",
            "_view_module": "@jupyter-widgets/controls",
            "_model_module_version": "1.5.0",
            "_view_count": null,
            "_view_module_version": "1.5.0",
            "box_style": "",
            "layout": "IPY_MODEL_c3b576c99c73478ab9446c78c0c253ec",
            "_model_module": "@jupyter-widgets/controls",
            "children": [
              "IPY_MODEL_1324c6dc5ab24785835b89612fd81892",
              "IPY_MODEL_2b68f40ac6704e65bcad7216192b3e88"
            ]
          }
        },
        "c3b576c99c73478ab9446c78c0c253ec": {
          "model_module": "@jupyter-widgets/base",
          "model_name": "LayoutModel",
          "state": {
            "_view_name": "LayoutView",
            "grid_template_rows": null,
            "right": null,
            "justify_content": null,
            "_view_module": "@jupyter-widgets/base",
            "overflow": null,
            "_model_module_version": "1.2.0",
            "_view_count": null,
            "flex_flow": null,
            "width": null,
            "min_width": null,
            "border": null,
            "align_items": null,
            "bottom": null,
            "_model_module": "@jupyter-widgets/base",
            "top": null,
            "grid_column": null,
            "overflow_y": null,
            "overflow_x": null,
            "grid_auto_flow": null,
            "grid_area": null,
            "grid_template_columns": null,
            "flex": null,
            "_model_name": "LayoutModel",
            "justify_items": null,
            "grid_row": null,
            "max_height": null,
            "align_content": null,
            "visibility": null,
            "align_self": null,
            "height": null,
            "min_height": null,
            "padding": null,
            "grid_auto_rows": null,
            "grid_gap": null,
            "max_width": null,
            "order": null,
            "_view_module_version": "1.2.0",
            "grid_template_areas": null,
            "object_position": null,
            "object_fit": null,
            "grid_auto_columns": null,
            "margin": null,
            "display": null,
            "left": null
          }
        },
        "1324c6dc5ab24785835b89612fd81892": {
          "model_module": "@jupyter-widgets/controls",
          "model_name": "LabelModel",
          "state": {
            "_view_name": "LabelView",
            "style": "IPY_MODEL_bc4beb53dc364c59b48ec185d35d29a1",
            "_dom_classes": [],
            "description": "",
            "_model_name": "LabelModel",
            "placeholder": "​",
            "_view_module": "@jupyter-widgets/controls",
            "_model_module_version": "1.5.0",
            "value": " 0.13MB of 0.13MB uploaded (0.00MB deduped)\r",
            "_view_count": null,
            "_view_module_version": "1.5.0",
            "description_tooltip": null,
            "_model_module": "@jupyter-widgets/controls",
            "layout": "IPY_MODEL_65662290f0a046c5b887cbbf37d63f42"
          }
        },
        "2b68f40ac6704e65bcad7216192b3e88": {
          "model_module": "@jupyter-widgets/controls",
          "model_name": "FloatProgressModel",
          "state": {
            "_view_name": "ProgressView",
            "style": "IPY_MODEL_9a30f884803846798a05e05c418ec842",
            "_dom_classes": [],
            "description": "",
            "_model_name": "FloatProgressModel",
            "bar_style": "",
            "max": 1,
            "_view_module": "@jupyter-widgets/controls",
            "_model_module_version": "1.5.0",
            "value": 1,
            "_view_count": null,
            "_view_module_version": "1.5.0",
            "orientation": "horizontal",
            "min": 0,
            "description_tooltip": null,
            "_model_module": "@jupyter-widgets/controls",
            "layout": "IPY_MODEL_9c9b1bd8c53a4936a57da3f387e167ce"
          }
        },
        "bc4beb53dc364c59b48ec185d35d29a1": {
          "model_module": "@jupyter-widgets/controls",
          "model_name": "DescriptionStyleModel",
          "state": {
            "_view_name": "StyleView",
            "_model_name": "DescriptionStyleModel",
            "description_width": "",
            "_view_module": "@jupyter-widgets/base",
            "_model_module_version": "1.5.0",
            "_view_count": null,
            "_view_module_version": "1.2.0",
            "_model_module": "@jupyter-widgets/controls"
          }
        },
        "65662290f0a046c5b887cbbf37d63f42": {
          "model_module": "@jupyter-widgets/base",
          "model_name": "LayoutModel",
          "state": {
            "_view_name": "LayoutView",
            "grid_template_rows": null,
            "right": null,
            "justify_content": null,
            "_view_module": "@jupyter-widgets/base",
            "overflow": null,
            "_model_module_version": "1.2.0",
            "_view_count": null,
            "flex_flow": null,
            "width": null,
            "min_width": null,
            "border": null,
            "align_items": null,
            "bottom": null,
            "_model_module": "@jupyter-widgets/base",
            "top": null,
            "grid_column": null,
            "overflow_y": null,
            "overflow_x": null,
            "grid_auto_flow": null,
            "grid_area": null,
            "grid_template_columns": null,
            "flex": null,
            "_model_name": "LayoutModel",
            "justify_items": null,
            "grid_row": null,
            "max_height": null,
            "align_content": null,
            "visibility": null,
            "align_self": null,
            "height": null,
            "min_height": null,
            "padding": null,
            "grid_auto_rows": null,
            "grid_gap": null,
            "max_width": null,
            "order": null,
            "_view_module_version": "1.2.0",
            "grid_template_areas": null,
            "object_position": null,
            "object_fit": null,
            "grid_auto_columns": null,
            "margin": null,
            "display": null,
            "left": null
          }
        },
        "9a30f884803846798a05e05c418ec842": {
          "model_module": "@jupyter-widgets/controls",
          "model_name": "ProgressStyleModel",
          "state": {
            "_view_name": "StyleView",
            "_model_name": "ProgressStyleModel",
            "description_width": "",
            "_view_module": "@jupyter-widgets/base",
            "_model_module_version": "1.5.0",
            "_view_count": null,
            "_view_module_version": "1.2.0",
            "bar_color": null,
            "_model_module": "@jupyter-widgets/controls"
          }
        },
        "9c9b1bd8c53a4936a57da3f387e167ce": {
          "model_module": "@jupyter-widgets/base",
          "model_name": "LayoutModel",
          "state": {
            "_view_name": "LayoutView",
            "grid_template_rows": null,
            "right": null,
            "justify_content": null,
            "_view_module": "@jupyter-widgets/base",
            "overflow": null,
            "_model_module_version": "1.2.0",
            "_view_count": null,
            "flex_flow": null,
            "width": null,
            "min_width": null,
            "border": null,
            "align_items": null,
            "bottom": null,
            "_model_module": "@jupyter-widgets/base",
            "top": null,
            "grid_column": null,
            "overflow_y": null,
            "overflow_x": null,
            "grid_auto_flow": null,
            "grid_area": null,
            "grid_template_columns": null,
            "flex": null,
            "_model_name": "LayoutModel",
            "justify_items": null,
            "grid_row": null,
            "max_height": null,
            "align_content": null,
            "visibility": null,
            "align_self": null,
            "height": null,
            "min_height": null,
            "padding": null,
            "grid_auto_rows": null,
            "grid_gap": null,
            "max_width": null,
            "order": null,
            "_view_module_version": "1.2.0",
            "grid_template_areas": null,
            "object_position": null,
            "object_fit": null,
            "grid_auto_columns": null,
            "margin": null,
            "display": null,
            "left": null
          }
        },
        "ad132c22880449ba958beb373ba045f7": {
          "model_module": "@jupyter-widgets/controls",
          "model_name": "VBoxModel",
          "state": {
            "_view_name": "VBoxView",
            "_dom_classes": [],
            "_model_name": "VBoxModel",
            "_view_module": "@jupyter-widgets/controls",
            "_model_module_version": "1.5.0",
            "_view_count": null,
            "_view_module_version": "1.5.0",
            "box_style": "",
            "layout": "IPY_MODEL_8559e9b35ec544ed99d335fc62c488fe",
            "_model_module": "@jupyter-widgets/controls",
            "children": [
              "IPY_MODEL_af0811fa4b3d4dca8c587b32b09cb687",
              "IPY_MODEL_5034a81a1e0e4fc08e506875717a7b96"
            ]
          }
        },
        "8559e9b35ec544ed99d335fc62c488fe": {
          "model_module": "@jupyter-widgets/base",
          "model_name": "LayoutModel",
          "state": {
            "_view_name": "LayoutView",
            "grid_template_rows": null,
            "right": null,
            "justify_content": null,
            "_view_module": "@jupyter-widgets/base",
            "overflow": null,
            "_model_module_version": "1.2.0",
            "_view_count": null,
            "flex_flow": null,
            "width": null,
            "min_width": null,
            "border": null,
            "align_items": null,
            "bottom": null,
            "_model_module": "@jupyter-widgets/base",
            "top": null,
            "grid_column": null,
            "overflow_y": null,
            "overflow_x": null,
            "grid_auto_flow": null,
            "grid_area": null,
            "grid_template_columns": null,
            "flex": null,
            "_model_name": "LayoutModel",
            "justify_items": null,
            "grid_row": null,
            "max_height": null,
            "align_content": null,
            "visibility": null,
            "align_self": null,
            "height": null,
            "min_height": null,
            "padding": null,
            "grid_auto_rows": null,
            "grid_gap": null,
            "max_width": null,
            "order": null,
            "_view_module_version": "1.2.0",
            "grid_template_areas": null,
            "object_position": null,
            "object_fit": null,
            "grid_auto_columns": null,
            "margin": null,
            "display": null,
            "left": null
          }
        },
        "af0811fa4b3d4dca8c587b32b09cb687": {
          "model_module": "@jupyter-widgets/controls",
          "model_name": "LabelModel",
          "state": {
            "_view_name": "LabelView",
            "style": "IPY_MODEL_4d6103f9d98f40099f42aab15863b805",
            "_dom_classes": [],
            "description": "",
            "_model_name": "LabelModel",
            "placeholder": "​",
            "_view_module": "@jupyter-widgets/controls",
            "_model_module_version": "1.5.0",
            "value": " 0.13MB of 0.13MB uploaded (0.00MB deduped)\r",
            "_view_count": null,
            "_view_module_version": "1.5.0",
            "description_tooltip": null,
            "_model_module": "@jupyter-widgets/controls",
            "layout": "IPY_MODEL_297cc7b1ee884251a9510f2f8a9e55f8"
          }
        },
        "5034a81a1e0e4fc08e506875717a7b96": {
          "model_module": "@jupyter-widgets/controls",
          "model_name": "FloatProgressModel",
          "state": {
            "_view_name": "ProgressView",
            "style": "IPY_MODEL_d7b2d9e0a2b94bfaa51f42d5e5d70e9d",
            "_dom_classes": [],
            "description": "",
            "_model_name": "FloatProgressModel",
            "bar_style": "",
            "max": 1,
            "_view_module": "@jupyter-widgets/controls",
            "_model_module_version": "1.5.0",
            "value": 1,
            "_view_count": null,
            "_view_module_version": "1.5.0",
            "orientation": "horizontal",
            "min": 0,
            "description_tooltip": null,
            "_model_module": "@jupyter-widgets/controls",
            "layout": "IPY_MODEL_941e5fd6409c460e893f41bac4d590af"
          }
        },
        "4d6103f9d98f40099f42aab15863b805": {
          "model_module": "@jupyter-widgets/controls",
          "model_name": "DescriptionStyleModel",
          "state": {
            "_view_name": "StyleView",
            "_model_name": "DescriptionStyleModel",
            "description_width": "",
            "_view_module": "@jupyter-widgets/base",
            "_model_module_version": "1.5.0",
            "_view_count": null,
            "_view_module_version": "1.2.0",
            "_model_module": "@jupyter-widgets/controls"
          }
        },
        "297cc7b1ee884251a9510f2f8a9e55f8": {
          "model_module": "@jupyter-widgets/base",
          "model_name": "LayoutModel",
          "state": {
            "_view_name": "LayoutView",
            "grid_template_rows": null,
            "right": null,
            "justify_content": null,
            "_view_module": "@jupyter-widgets/base",
            "overflow": null,
            "_model_module_version": "1.2.0",
            "_view_count": null,
            "flex_flow": null,
            "width": null,
            "min_width": null,
            "border": null,
            "align_items": null,
            "bottom": null,
            "_model_module": "@jupyter-widgets/base",
            "top": null,
            "grid_column": null,
            "overflow_y": null,
            "overflow_x": null,
            "grid_auto_flow": null,
            "grid_area": null,
            "grid_template_columns": null,
            "flex": null,
            "_model_name": "LayoutModel",
            "justify_items": null,
            "grid_row": null,
            "max_height": null,
            "align_content": null,
            "visibility": null,
            "align_self": null,
            "height": null,
            "min_height": null,
            "padding": null,
            "grid_auto_rows": null,
            "grid_gap": null,
            "max_width": null,
            "order": null,
            "_view_module_version": "1.2.0",
            "grid_template_areas": null,
            "object_position": null,
            "object_fit": null,
            "grid_auto_columns": null,
            "margin": null,
            "display": null,
            "left": null
          }
        },
        "d7b2d9e0a2b94bfaa51f42d5e5d70e9d": {
          "model_module": "@jupyter-widgets/controls",
          "model_name": "ProgressStyleModel",
          "state": {
            "_view_name": "StyleView",
            "_model_name": "ProgressStyleModel",
            "description_width": "",
            "_view_module": "@jupyter-widgets/base",
            "_model_module_version": "1.5.0",
            "_view_count": null,
            "_view_module_version": "1.2.0",
            "bar_color": null,
            "_model_module": "@jupyter-widgets/controls"
          }
        },
        "941e5fd6409c460e893f41bac4d590af": {
          "model_module": "@jupyter-widgets/base",
          "model_name": "LayoutModel",
          "state": {
            "_view_name": "LayoutView",
            "grid_template_rows": null,
            "right": null,
            "justify_content": null,
            "_view_module": "@jupyter-widgets/base",
            "overflow": null,
            "_model_module_version": "1.2.0",
            "_view_count": null,
            "flex_flow": null,
            "width": null,
            "min_width": null,
            "border": null,
            "align_items": null,
            "bottom": null,
            "_model_module": "@jupyter-widgets/base",
            "top": null,
            "grid_column": null,
            "overflow_y": null,
            "overflow_x": null,
            "grid_auto_flow": null,
            "grid_area": null,
            "grid_template_columns": null,
            "flex": null,
            "_model_name": "LayoutModel",
            "justify_items": null,
            "grid_row": null,
            "max_height": null,
            "align_content": null,
            "visibility": null,
            "align_self": null,
            "height": null,
            "min_height": null,
            "padding": null,
            "grid_auto_rows": null,
            "grid_gap": null,
            "max_width": null,
            "order": null,
            "_view_module_version": "1.2.0",
            "grid_template_areas": null,
            "object_position": null,
            "object_fit": null,
            "grid_auto_columns": null,
            "margin": null,
            "display": null,
            "left": null
          }
        }
      }
    }
  },
  "cells": [
    {
      "cell_type": "markdown",
      "metadata": {
        "id": "view-in-github",
        "colab_type": "text"
      },
      "source": [
        "<a href=\"https://colab.research.google.com/github/rajy4683/EVAP2/blob/master/MNIST_UltraSmall_EVA6S4.ipynb\" target=\"_parent\"><img src=\"https://colab.research.google.com/assets/colab-badge.svg\" alt=\"Open In Colab\"/></a>"
      ]
    },
    {
      "cell_type": "markdown",
      "metadata": {
        "id": "PbZiFNg_soz5"
      },
      "source": [
        "### **Final Accuracy: 99.06**\n",
        "###  Number of parameters - 4464"
      ]
    },
    {
      "cell_type": "code",
      "metadata": {
        "id": "CfLcwaRjfCGb",
        "colab": {
          "base_uri": "https://localhost:8080/"
        },
        "outputId": "62eeb894-fb14-4af3-b829-291b48058221"
      },
      "source": [
        "!nvidia-smi"
      ],
      "execution_count": 1,
      "outputs": [
        {
          "output_type": "stream",
          "text": [
            "Fri May 28 08:24:57 2021       \n",
            "+-----------------------------------------------------------------------------+\n",
            "| NVIDIA-SMI 465.19.01    Driver Version: 460.32.03    CUDA Version: 11.2     |\n",
            "|-------------------------------+----------------------+----------------------+\n",
            "| GPU  Name        Persistence-M| Bus-Id        Disp.A | Volatile Uncorr. ECC |\n",
            "| Fan  Temp  Perf  Pwr:Usage/Cap|         Memory-Usage | GPU-Util  Compute M. |\n",
            "|                               |                      |               MIG M. |\n",
            "|===============================+======================+======================|\n",
            "|   0  Tesla P100-PCIE...  Off  | 00000000:00:04.0 Off |                    0 |\n",
            "| N/A   37C    P0    29W / 250W |      0MiB / 16280MiB |      0%      Default |\n",
            "|                               |                      |                  N/A |\n",
            "+-------------------------------+----------------------+----------------------+\n",
            "                                                                               \n",
            "+-----------------------------------------------------------------------------+\n",
            "| Processes:                                                                  |\n",
            "|  GPU   GI   CI        PID   Type   Process name                  GPU Memory |\n",
            "|        ID   ID                                                   Usage      |\n",
            "|=============================================================================|\n",
            "|  No running processes found                                                 |\n",
            "+-----------------------------------------------------------------------------+\n"
          ],
          "name": "stdout"
        }
      ]
    },
    {
      "cell_type": "code",
      "metadata": {
        "colab": {
          "base_uri": "https://localhost:8080/"
        },
        "id": "ui5Ua1AUDvKl",
        "outputId": "8a90d310-7bd8-413c-d9a0-81ff1b5088ad"
      },
      "source": [
        "from google.colab import drive\n",
        "drive.mount('/content/drive')"
      ],
      "execution_count": 2,
      "outputs": [
        {
          "output_type": "stream",
          "text": [
            "Drive already mounted at /content/drive; to attempt to forcibly remount, call drive.mount(\"/content/drive\", force_remount=True).\n"
          ],
          "name": "stdout"
        }
      ]
    },
    {
      "cell_type": "code",
      "metadata": {
        "id": "auzVE6mdHdzZ"
      },
      "source": [
        "!pip install pytorch-ignite\n",
        "!pip install torchsummary\n",
        "!pip install wandb\n",
        "!pip install gradio\n",
        "!pip install netron\n",
        "!pip install plotly --upgrade"
      ],
      "execution_count": null,
      "outputs": []
    },
    {
      "cell_type": "code",
      "metadata": {
        "id": "0m2JWFliFfKT"
      },
      "source": [
        "from __future__ import print_function\n",
        "import torch\n",
        "import torch.nn as nn\n",
        "import torch.nn.functional as F\n",
        "import torch.optim as optim\n",
        "from torchvision import datasets, transforms\n",
        "from torchsummary import summary\n",
        "import pandas as pd\n",
        "import numpy as np\n",
        "import matplotlib as mpl\n",
        "import matplotlib.pyplot as plt\n",
        "mpl.rcParams['figure.figsize'] = (15, 10)\n",
        "\n",
        "import pandas as pd\n",
        "import plotly.express as px\n",
        "pd.options.plotting.backend = \"plotly\""
      ],
      "execution_count": 3,
      "outputs": []
    },
    {
      "cell_type": "code",
      "metadata": {
        "id": "yXqF5fu1mV8R"
      },
      "source": [
        "from __future__ import print_function\n",
        "import torch\n",
        "import torch.nn as nn\n",
        "import torch.nn.functional as F\n",
        "import torch.optim as optim\n",
        "from torchvision import datasets, transforms\n",
        "from torchsummary import summary\n",
        "\n",
        "import logging\n",
        "logging.propagate = False \n",
        "logging.getLogger().setLevel(logging.ERROR)\n",
        "\n",
        "from argparse import ArgumentParser\n",
        "from tqdm import tqdm\n",
        "import os\n",
        "import wandb\n"
      ],
      "execution_count": 4,
      "outputs": []
    },
    {
      "cell_type": "code",
      "metadata": {
        "id": "6N8hW64W9CHV"
      },
      "source": [
        "import logging\n",
        "logging.propagate = False \n",
        "logging.getLogger().setLevel(logging.ERROR)"
      ],
      "execution_count": 5,
      "outputs": []
    },
    {
      "cell_type": "code",
      "metadata": {
        "id": "sWIjKEiV7azI",
        "colab": {
          "base_uri": "https://localhost:8080/"
        },
        "outputId": "612e442d-c795-4ad5-eb07-9bfa80250571"
      },
      "source": [
        "#wandb.init()\n"
      ],
      "execution_count": 6,
      "outputs": [
        {
          "output_type": "stream",
          "text": [
            "\u001b[34m\u001b[1mwandb\u001b[0m: Appending key for api.wandb.ai to your netrc file: /root/.netrc\n"
          ],
          "name": "stdout"
        }
      ]
    },
    {
      "cell_type": "code",
      "metadata": {
        "id": "OONup7Ukaulv"
      },
      "source": [
        "use_cuda = torch.cuda.is_available()\n",
        "device = torch.device(\"cuda\" if use_cuda else \"cpu\")"
      ],
      "execution_count": 7,
      "outputs": []
    },
    {
      "cell_type": "code",
      "metadata": {
        "id": "YbXlXnfGLJED"
      },
      "source": [
        "class Net(nn.Module):\n",
        "    def __init__(self, dropout_val=0.1):\n",
        "        super(Net, self).__init__()\n",
        "        self.dropout_val = dropout_val\n",
        "        self.bias = False\n",
        "        self.conv1 = nn.Sequential(\n",
        "            nn.Conv2d(1, 8, 3, padding=1, stride=1,bias=self.bias), # Input=1x28x28 Output=8x28x28 RF=3\n",
        "            nn.ReLU(),\n",
        "            nn.BatchNorm2d(8),\n",
        "            nn.Dropout(self.dropout_val),\n",
        "            nn.Conv2d(8, 8, 3, padding=1, stride=1,bias=self.bias), # Input=1x28x28 Output=8x28x28 RF=3\n",
        "            nn.ReLU(),\n",
        "            nn.BatchNorm2d(8),\n",
        "            nn.Dropout(self.dropout_val),\n",
        "            nn.Conv2d(8, 8, 3, padding=1, stride=1,bias=self.bias), # Input=1x28x28 Output=8x28x28 RF=3\n",
        "            nn.ReLU(),\n",
        "            nn.BatchNorm2d(8),\n",
        "            nn.Dropout(self.dropout_val),\n",
        "            nn.Conv2d(8, 8, 3, padding=1, stride=2,bias=self.bias), # Input=8x28x28 Output=8x28x28 RF=5\n",
        "            nn.ReLU(),\n",
        "            nn.BatchNorm2d(8),\n",
        "            # nn.Conv2d(8, 8, 3, padding=1, bias=self.bias),\n",
        "            # nn.ReLU(),\n",
        "            # nn.BatchNorm2d(8),\n",
        "            nn.MaxPool2d(2, 2),            # Input=8x28x28 Output=8x14x14 RF=6\n",
        "            nn.Dropout(self.dropout_val),\n",
        "            nn.Conv2d(8, 8, 1)\n",
        "        )\n",
        "        \n",
        "        self.conv2 = nn.Sequential(\n",
        "            nn.Conv2d(8, 8, 3, padding=1,stride=1, bias=self.bias), # Input=8x14x14 Output=8x14x14 RF=10\n",
        "            nn.ReLU(),\n",
        "            nn.BatchNorm2d(8),\n",
        "            nn.Dropout(self.dropout_val),\n",
        "            nn.Conv2d(8, 8, 3, padding=1,stride=1, bias=self.bias), # Input=8x14x14 Output=8x14x14 RF=10\n",
        "            nn.ReLU(),\n",
        "            nn.BatchNorm2d(8),\n",
        "            nn.Dropout(self.dropout_val),\n",
        "            nn.Conv2d(8, 16, 3, padding=1, stride=2,bias=self.bias), # Input=8x14x14 Output=16x14x14 RF=14\n",
        "            nn.ReLU(),\n",
        "            nn.BatchNorm2d(16),\n",
        "            # nn.MaxPool2d(2, 2), # Input=16x14x14 Output=16x7x7 RF=16\n",
        "            nn.Dropout(self.dropout_val),\n",
        "            # nn.Conv2d(16, 16, 1)\n",
        "            # nn.Conv2d(16, 16, 3, padding=1, bias=self.bias),\n",
        "            # nn.ReLU(),\n",
        "            # nn.BatchNorm2d(16),\n",
        "            # nn.MaxPool2d(2, 2),\n",
        "            # nn.Dropout(self.dropout_val)\n",
        "        )\n",
        "        \n",
        "        # self.conv3 = nn.Sequential(\n",
        "        #     nn.Conv2d(16, 16, 3, padding=1, stride=1,bias=self.bias), # Input=16x7x7 Output=16x5x5 RF=24\n",
        "        #     nn.ReLU(),\n",
        "        #     nn.BatchNorm2d(16),\n",
        "        #     nn.Dropout(self.dropout_val),\n",
        "        #     nn.Conv2d(16, 16, 3, padding=1, stride=1,bias=self.bias), # Input=16x5x5 Output=16x3x3 RF=32\n",
        "        #     nn.ReLU(),\n",
        "        #     nn.BatchNorm2d(16),\n",
        "        #     # nn.MaxPool2d(2, 2), # Input=16x3x3 Output=16x1x1 RF=36\n",
        "        #     nn.Dropout(self.dropout_val)\n",
        "        # )\n",
        "        \n",
        "        self.gap_linear = nn.Sequential(\n",
        "            nn.AdaptiveAvgPool2d((1,1)), # Input=16x1x1 Output=16x1x1 RF=36\n",
        "            nn.Conv2d(16, 10, 1, bias=self.bias) # Input=16x1x1 Output=10x1x1 RF=36\n",
        "        )\n",
        "                \n",
        "        \n",
        "    def forward(self, x):\n",
        "        x = self.conv1(x)\n",
        "        x = self.conv2(x)\n",
        "        # x = self.conv3(x)\n",
        "        \n",
        "        #x = x.view(x.size(0), -1)\n",
        "        x = self.gap_linear(x)\n",
        "        x = x.view(-1, 10)\n",
        "        x = F.log_softmax(x, dim=1)\n",
        "        return x"
      ],
      "execution_count": 8,
      "outputs": []
    },
    {
      "cell_type": "markdown",
      "metadata": {
        "id": "PjxGyR_Mb98O"
      },
      "source": [
        "### Final Model\n"
      ]
    },
    {
      "cell_type": "code",
      "metadata": {
        "colab": {
          "base_uri": "https://localhost:8080/"
        },
        "id": "SOhfaazU8K5r",
        "outputId": "9ea2c849-65ba-4866-c7f5-477db82cb09e"
      },
      "source": [
        "model = Net(dropout_val=0.1).to(device)\n",
        "summary(model, input_size=(1, 28, 28))"
      ],
      "execution_count": null,
      "outputs": [
        {
          "output_type": "stream",
          "text": [
            "----------------------------------------------------------------\n",
            "        Layer (type)               Output Shape         Param #\n",
            "================================================================\n",
            "            Conv2d-1            [-1, 8, 28, 28]              72\n",
            "              ReLU-2            [-1, 8, 28, 28]               0\n",
            "       BatchNorm2d-3            [-1, 8, 28, 28]              16\n",
            "           Dropout-4            [-1, 8, 28, 28]               0\n",
            "            Conv2d-5            [-1, 8, 28, 28]             576\n",
            "              ReLU-6            [-1, 8, 28, 28]               0\n",
            "       BatchNorm2d-7            [-1, 8, 28, 28]              16\n",
            "           Dropout-8            [-1, 8, 28, 28]               0\n",
            "            Conv2d-9            [-1, 8, 28, 28]             576\n",
            "             ReLU-10            [-1, 8, 28, 28]               0\n",
            "      BatchNorm2d-11            [-1, 8, 28, 28]              16\n",
            "          Dropout-12            [-1, 8, 28, 28]               0\n",
            "           Conv2d-13            [-1, 8, 14, 14]             576\n",
            "             ReLU-14            [-1, 8, 14, 14]               0\n",
            "      BatchNorm2d-15            [-1, 8, 14, 14]              16\n",
            "        MaxPool2d-16              [-1, 8, 7, 7]               0\n",
            "          Dropout-17              [-1, 8, 7, 7]               0\n",
            "           Conv2d-18              [-1, 8, 7, 7]              72\n",
            "           Conv2d-19              [-1, 8, 7, 7]             576\n",
            "             ReLU-20              [-1, 8, 7, 7]               0\n",
            "      BatchNorm2d-21              [-1, 8, 7, 7]              16\n",
            "          Dropout-22              [-1, 8, 7, 7]               0\n",
            "           Conv2d-23              [-1, 8, 7, 7]             576\n",
            "             ReLU-24              [-1, 8, 7, 7]               0\n",
            "      BatchNorm2d-25              [-1, 8, 7, 7]              16\n",
            "          Dropout-26              [-1, 8, 7, 7]               0\n",
            "           Conv2d-27             [-1, 16, 4, 4]           1,152\n",
            "             ReLU-28             [-1, 16, 4, 4]               0\n",
            "      BatchNorm2d-29             [-1, 16, 4, 4]              32\n",
            "          Dropout-30             [-1, 16, 4, 4]               0\n",
            "AdaptiveAvgPool2d-31             [-1, 16, 1, 1]               0\n",
            "           Conv2d-32             [-1, 10, 1, 1]             160\n",
            "================================================================\n",
            "Total params: 4,464\n",
            "Trainable params: 4,464\n",
            "Non-trainable params: 0\n",
            "----------------------------------------------------------------\n",
            "Input size (MB): 0.00\n",
            "Forward/backward pass size (MB): 0.65\n",
            "Params size (MB): 0.02\n",
            "Estimated Total Size (MB): 0.67\n",
            "----------------------------------------------------------------\n"
          ],
          "name": "stdout"
        }
      ]
    },
    {
      "cell_type": "markdown",
      "metadata": {
        "id": "HHBvREl3k9rG"
      },
      "source": [
        "### Datasets and Basic Transforms"
      ]
    },
    {
      "cell_type": "code",
      "metadata": {
        "id": "Pgpl_L2KLjP2"
      },
      "source": [
        "train_transforms = transforms.Compose([\n",
        "                                      #  transforms.Resize((28, 28)),\n",
        "                                      #  transforms.ColorJitter(brightness=0.10, contrast=0.1, saturation=0.10, hue=0.1),\n",
        "                                       transforms.RandomRotation((-5.0, 5.0), fill=(1,)),\n",
        "                                       transforms.ToTensor(),\n",
        "                                       transforms.Normalize((0.1307,), (0.3081,)) # The mean and std have to be sequences (e.g., tuples), therefore you should add a comma after the values. \n",
        "                                       # Note the difference between (0.1307) and (0.1307,)\n",
        "                                       ])\n",
        "\n",
        "# Test Phase transformations\n",
        "test_transforms = transforms.Compose([\n",
        "                                      #  transforms.Resize((28, 28)),\n",
        "                                      #  transforms.ColorJitter(brightness=0.10, contrast=0.1, saturation=0.10, hue=0.1),\n",
        "                                       #transforms.RandomRotation((-7.0, 7.0), fill=(1,)),\n",
        "                                       transforms.ToTensor(),\n",
        "                                       transforms.Normalize((0.1307,), (0.3081,))\n",
        "                                       ])"
      ],
      "execution_count": 11,
      "outputs": []
    },
    {
      "cell_type": "code",
      "metadata": {
        "id": "DqTWLaM5GHgH"
      },
      "source": [
        "torch.manual_seed(1)\n",
        "batch_size = 128\n",
        "\n",
        "kwargs = {'num_workers': 1, 'pin_memory': True} if use_cuda else {}\n",
        "train_loader = torch.utils.data.DataLoader(\n",
        "    datasets.MNIST('../data', train=True, download=True,\n",
        "                    transform=transforms.Compose([\n",
        "                        transforms.ToTensor(),\n",
        "                        transforms.Normalize((0.1307,), (0.3081,))\n",
        "                    ])),\n",
        "    batch_size=batch_size, shuffle=True, **kwargs)\n",
        "test_loader = torch.utils.data.DataLoader(\n",
        "    datasets.MNIST('../data', train=False, transform=transforms.Compose([\n",
        "                        transforms.ToTensor(),\n",
        "                        transforms.Normalize((0.1307,), (0.3081,))\n",
        "                    ])),\n",
        "    batch_size=batch_size, shuffle=True, **kwargs)\n"
      ],
      "execution_count": 12,
      "outputs": []
    },
    {
      "cell_type": "code",
      "metadata": {
        "id": "8fDefDhaFlwH"
      },
      "source": [
        "classes = ('0', '1', '2', '3', '4', '5', '6', '7', '8', '9')\n",
        "train_losses = []\n",
        "test_losses = []\n",
        "train_acc = []\n",
        "test_acc = []\n",
        "\n",
        "from tqdm import tqdm\n",
        "def train(args, model, device, train_loader, optimizer, epoch_number):\n",
        "    model.train()\n",
        "    pbar = tqdm(train_loader)\n",
        "    train_loss = 0\n",
        "    train_accuracy = 0\n",
        "    for batch_idx, (data, target) in enumerate(pbar):\n",
        "        data, target = data.to(device), target.to(device)\n",
        "        optimizer.zero_grad()\n",
        "        output = model(data)\n",
        "        pred = output.argmax(dim=1, keepdim=True)  # get the index of the max log-probability\n",
        "        train_accuracy += pred.eq(target.view_as(pred)).sum().item()\n",
        "\n",
        "        loss = F.nll_loss(output, target)\n",
        "        loss.backward()\n",
        "        optimizer.step()\n",
        "        pbar.set_description(desc= f'loss={loss.item()} batch_id={batch_idx}')\n",
        "        train_loss += loss.item()\n",
        "\n",
        "    train_loss /= len(train_loader.dataset)\n",
        "    print('\\nEpoch: {:.0f} Train set: Average loss: {:.4f}, Accuracy: {}/{} ({:.3f}%)\\n'.format(\n",
        "        epoch_number, train_loss, train_accuracy, len(train_loader.dataset),\n",
        "        100. * train_accuracy / len(train_loader.dataset)))\n",
        "    train_accuracy = (100. * train_accuracy) / len(train_loader.dataset)\n",
        "    train_acc.append(train_accuracy)\n",
        "    train_losses.append(train_loss)\n",
        "\n",
        "    return train_accuracy, train_loss\n",
        "\n",
        "def test(args, model, device, test_loader,classes,epoch_number):\n",
        "    model.eval()\n",
        "    test_loss = 0\n",
        "    correct = 0\n",
        "    example_images = []\n",
        "    with torch.no_grad():\n",
        "        for data, target in test_loader:\n",
        "            data, target = data.to(device), target.to(device)\n",
        "            output = model(data)\n",
        "            test_loss += F.nll_loss(output, target, reduction='sum').item()  # sum up batch loss\n",
        "            pred = output.argmax(dim=1, keepdim=True)  # get the index of the max log-probability\n",
        "            correct += pred.eq(target.view_as(pred)).sum().item()\n",
        "        #example_images.append(wandb.Image(\n",
        "        #        data[0], caption=\"Pred: {} Truth: {}\".format(classes[pred[0].item()], classes[target[0]])))\n",
        "\n",
        "    test_loss /= len(test_loader.dataset)\n",
        "    test_accuracy = (100. * correct) / len(test_loader.dataset)\n",
        "\n",
        "    print('\\nEpoch: {:.0f} Test set: Average loss: {:.4f}, Accuracy: {}/{} ({:.3f}%)\\n'.format(\n",
        "        epoch_number, test_loss, correct, len(test_loader.dataset),\n",
        "        100. * correct / len(test_loader.dataset)))\n",
        "    test_acc.append(test_accuracy)\n",
        "    test_losses.append(test_loss)\n",
        "\n",
        "    return test_accuracy, test_loss"
      ],
      "execution_count": 13,
      "outputs": []
    },
    {
      "cell_type": "markdown",
      "metadata": {
        "id": "Gjk4i-ptB2W5"
      },
      "source": [
        "## Attempt 1\n"
      ]
    },
    {
      "cell_type": "code",
      "metadata": {
        "colab": {
          "base_uri": "https://localhost:8080/",
          "height": 1000,
          "referenced_widgets": [
            "984a120ad02f4e8ba3acad174b6a759a",
            "c3b576c99c73478ab9446c78c0c253ec",
            "1324c6dc5ab24785835b89612fd81892",
            "2b68f40ac6704e65bcad7216192b3e88",
            "bc4beb53dc364c59b48ec185d35d29a1",
            "65662290f0a046c5b887cbbf37d63f42",
            "9a30f884803846798a05e05c418ec842",
            "9c9b1bd8c53a4936a57da3f387e167ce"
          ]
        },
        "id": "y9f6sXqDLvXx",
        "outputId": "0cb8e4d9-ae8a-4588-8417-bb1494ff16bc"
      },
      "source": [
        "from torch.optim.lr_scheduler import StepLR, OneCycleLR\n",
        "hyperparameter_defaults = dict(\n",
        "    dropout = 0.02,#0.07114420042272313,\n",
        "    channels_one = 16,\n",
        "    channels_two = 32,\n",
        "    batch_size = 32,\n",
        "    test_batch_size=34,\n",
        "    lr = 0.02, #0.030455453938066226, #0.018,# 0.017530428914306426,\n",
        "    momentum = 0.9, #0.8424379743502641,\n",
        "    no_cuda = False,\n",
        "    seed = 1,\n",
        "    epochs = 19,\n",
        "    bias = False,\n",
        "    log_interval = 11,\n",
        "    sched_lr_gamma = 0.5,\n",
        "    sched_lr_step= 1,\n",
        "    start_lr = 5\n",
        "    )\n",
        "\n",
        "classes = ('0', '1', '2', '3', '4', '5', '6', '7', '8', '9')\n",
        "train_losses = []\n",
        "test_losses = []\n",
        "train_acc = []\n",
        "test_acc = []\n",
        "\n",
        "wandb.init(config=hyperparameter_defaults, project=\"news4eva4\")\n",
        "wandb.watch_called = False # Re-run the model without restarting the runtime, unnecessary after our next release\n",
        "config = wandb.config\n",
        "\n",
        "\n",
        "\n",
        "def main():\n",
        "    use_cuda = not config.no_cuda and torch.cuda.is_available()\n",
        "    device = torch.device(\"cuda\" if use_cuda else \"cpu\")\n",
        "    kwargs = {'num_workers': 4, 'pin_memory': True} if use_cuda else {}\n",
        "    \n",
        "    # Set random seeds and deterministic pytorch for reproducibility\n",
        "    # random.seed(config.seed)       # python random seed\n",
        "    torch.manual_seed(config.seed) # pytorch random seed\n",
        "    # numpy.random.seed(config.seed) # numpy random seed\n",
        "    torch.backends.cudnn.deterministic = True\n",
        "\n",
        "    # Load the dataset: We're training our CNN on CIFAR10 (https://www.cs.toronto.edu/~kriz/cifar.html)\n",
        "    # First we define the tranformations to apply to our images\n",
        "    #kwargs = {'num_workers': 4, 'pin_memory': True} if use_cuda else {}\n",
        "    train_loader = torch.utils.data.DataLoader(\n",
        "        datasets.MNIST('../data', train=True, download=True,\n",
        "                        transform=train_transforms),\n",
        "        batch_size=config.batch_size, shuffle=True, **kwargs)\n",
        "    test_loader = torch.utils.data.DataLoader(\n",
        "        datasets.MNIST('../data', train=False, transform=test_transforms),\n",
        "        batch_size=config.batch_size, shuffle=True, **kwargs)\n",
        "\n",
        "    # Initialize our model, recursively go over all modules and convert their parameters and buffers to CUDA tensors (if device is set to cuda)\n",
        "    model = Net(dropout_val=config.dropout).to(device)\n",
        "    optimizer = optim.SGD(model.parameters(), lr=config.lr,\n",
        "                          momentum=config.momentum)\n",
        "    \n",
        "    # scheduler = StepLR(optimizer, step_size=config.sched_lr_step, gamma=config.sched_lr_gamma)\n",
        "    #scheduler = torch.optim.lr_scheduler.OneCycleLR(optimizer, max_lr=config.lr, steps_per_epoch=len(train_loader), epochs=10)\n",
        "    # WandB – wandb.watch() automatically fetches all layer dimensions, gradients, model parameters and logs them automatically to your dashboard.\n",
        "    # Using log=\"all\" log histograms of parameter values in addition to gradients\n",
        "    wandb.watch(model, log=\"all\")\n",
        "\n",
        "    for epoch in range(1, config.epochs + 1):\n",
        "        epoch_train_acc,epoch_train_loss = train(config, model, device, train_loader, optimizer, epoch)        \n",
        "        epoch_test_acc,epoch_test_loss = test(config, model, device, test_loader, classes,epoch)\n",
        "        # wandb.log({ \"Train Accuracy\": epoch_train_acc, \n",
        "        #            \"Train Loss\": epoch_train_loss, \n",
        "        #            \"Test Accuracy\":epoch_test_acc, \n",
        "        #            \"Test Loss\": epoch_test_loss,\n",
        "        #            #\"Learning Rate\": config.lr})\n",
        "        #            \"Learning Rate\": scheduler.get_lr()})\n",
        "        wandb.log({ \"Train Accuracy\": epoch_train_acc, \n",
        "            \"Train Loss\": epoch_train_loss, \n",
        "            \"Test Accuracy\":epoch_test_acc, \n",
        "            \"Test Loss\": epoch_test_loss})\n",
        "        \n",
        "    # WandB – Save the model checkpoint. This automatically saves a file to the cloud and associates it with the current run.\n",
        "    torch.save(model.state_dict(), \"model.pth\")\n",
        "    wandb.save('model.pth')\n",
        "\n",
        "if __name__ == '__main__':\n",
        "    main()"
      ],
      "execution_count": null,
      "outputs": [
        {
          "output_type": "display_data",
          "data": {
            "text/html": [
              "Finishing last run (ID:2r1kqymy) before initializing another..."
            ],
            "text/plain": [
              "<IPython.core.display.HTML object>"
            ]
          },
          "metadata": {
            "tags": []
          }
        },
        {
          "output_type": "display_data",
          "data": {
            "text/html": [
              "<br/>Waiting for W&B process to finish, PID 4020<br/>Program ended successfully."
            ],
            "text/plain": [
              "<IPython.core.display.HTML object>"
            ]
          },
          "metadata": {
            "tags": []
          }
        },
        {
          "output_type": "display_data",
          "data": {
            "application/vnd.jupyter.widget-view+json": {
              "model_id": "984a120ad02f4e8ba3acad174b6a759a",
              "version_minor": 0,
              "version_major": 2
            },
            "text/plain": [
              "VBox(children=(Label(value=' 0.04MB of 0.04MB uploaded (0.00MB deduped)\\r'), FloatProgress(value=1.0, max=1.0)…"
            ]
          },
          "metadata": {
            "tags": []
          }
        },
        {
          "output_type": "display_data",
          "data": {
            "text/html": [
              "Find user logs for this run at: <code>/content/wandb/run-20210527_195644-2r1kqymy/logs/debug.log</code>"
            ],
            "text/plain": [
              "<IPython.core.display.HTML object>"
            ]
          },
          "metadata": {
            "tags": []
          }
        },
        {
          "output_type": "display_data",
          "data": {
            "text/html": [
              "Find internal logs for this run at: <code>/content/wandb/run-20210527_195644-2r1kqymy/logs/debug-internal.log</code>"
            ],
            "text/plain": [
              "<IPython.core.display.HTML object>"
            ]
          },
          "metadata": {
            "tags": []
          }
        },
        {
          "output_type": "display_data",
          "data": {
            "text/html": [
              "<h3>Run summary:</h3><br/><style>\n",
              "    table.wandb td:nth-child(1) { padding: 0 10px; text-align: right }\n",
              "    </style><table class=\"wandb\">\n",
              "<tr><td>Train Accuracy</td><td>98.535</td></tr><tr><td>Train Loss</td><td>0.00073</td></tr><tr><td>Test Accuracy</td><td>98.81</td></tr><tr><td>Test Loss</td><td>0.03559</td></tr><tr><td>_runtime</td><td>396</td></tr><tr><td>_timestamp</td><td>1622145803</td></tr><tr><td>_step</td><td>18</td></tr></table>"
            ],
            "text/plain": [
              "<IPython.core.display.HTML object>"
            ]
          },
          "metadata": {
            "tags": []
          }
        },
        {
          "output_type": "display_data",
          "data": {
            "text/html": [
              "<h3>Run history:</h3><br/><style>\n",
              "    table.wandb td:nth-child(1) { padding: 0 10px; text-align: right }\n",
              "    </style><table class=\"wandb\">\n",
              "<tr><td>Train Accuracy</td><td>▁▇▇▇▇██████████████</td></tr><tr><td>Train Loss</td><td>█▃▂▂▂▁▁▁▁▁▁▁▁▁▁▁▁▁▁</td></tr><tr><td>Test Accuracy</td><td>▁▆▆▇▆▆▇▇▇█▇▇██████▇</td></tr><tr><td>Test Loss</td><td>█▄▃▂▃▂▂▂▂▁▁▂▁▁▁▁▁▁▂</td></tr><tr><td>_runtime</td><td>▁▁▂▂▃▃▃▄▄▄▅▅▆▆▆▇▇██</td></tr><tr><td>_timestamp</td><td>▁▁▂▂▃▃▃▄▄▄▅▅▆▆▆▇▇██</td></tr><tr><td>_step</td><td>▁▁▂▂▃▃▃▄▄▅▅▅▆▆▆▇▇██</td></tr></table><br/>"
            ],
            "text/plain": [
              "<IPython.core.display.HTML object>"
            ]
          },
          "metadata": {
            "tags": []
          }
        },
        {
          "output_type": "display_data",
          "data": {
            "text/html": [
              "Synced 5 W&B file(s), 1 media file(s), 0 artifact file(s) and 1 other file(s)"
            ],
            "text/plain": [
              "<IPython.core.display.HTML object>"
            ]
          },
          "metadata": {
            "tags": []
          }
        },
        {
          "output_type": "display_data",
          "data": {
            "text/html": [
              "\n",
              "                    <br/>Synced <strong style=\"color:#cdcd00\">stellar-eon-498</strong>: <a href=\"https://wandb.ai/rajy4683/news4eva4/runs/2r1kqymy\" target=\"_blank\">https://wandb.ai/rajy4683/news4eva4/runs/2r1kqymy</a><br/>\n",
              "                "
            ],
            "text/plain": [
              "<IPython.core.display.HTML object>"
            ]
          },
          "metadata": {
            "tags": []
          }
        },
        {
          "output_type": "display_data",
          "data": {
            "text/html": [
              "...Successfully finished last run (ID:2r1kqymy). Initializing new run:<br/><br/>"
            ],
            "text/plain": [
              "<IPython.core.display.HTML object>"
            ]
          },
          "metadata": {
            "tags": []
          }
        },
        {
          "output_type": "display_data",
          "data": {
            "text/html": [
              "\n",
              "                Tracking run with wandb version 0.10.30<br/>\n",
              "                Syncing run <strong style=\"color:#cdcd00\">comic-fog-500</strong> to <a href=\"https://wandb.ai\" target=\"_blank\">Weights & Biases</a> <a href=\"https://docs.wandb.com/integrations/jupyter.html\" target=\"_blank\">(Documentation)</a>.<br/>\n",
              "                Project page: <a href=\"https://wandb.ai/rajy4683/news4eva4\" target=\"_blank\">https://wandb.ai/rajy4683/news4eva4</a><br/>\n",
              "                Run page: <a href=\"https://wandb.ai/rajy4683/news4eva4/runs/364w0rl4\" target=\"_blank\">https://wandb.ai/rajy4683/news4eva4/runs/364w0rl4</a><br/>\n",
              "                Run data is saved locally in <code>/content/wandb/run-20210527_200341-364w0rl4</code><br/><br/>\n",
              "            "
            ],
            "text/plain": [
              "<IPython.core.display.HTML object>"
            ]
          },
          "metadata": {
            "tags": []
          }
        },
        {
          "output_type": "stream",
          "text": [
            "/usr/local/lib/python3.7/dist-packages/torch/utils/data/dataloader.py:477: UserWarning: This DataLoader will create 4 worker processes in total. Our suggested max number of worker in current system is 2, which is smaller than what this DataLoader is going to create. Please be aware that excessive worker creation might get DataLoader running slow or even freeze, lower the worker number to avoid potential slowness/freeze if necessary.\n",
            "  cpuset_checked))\n",
            "loss=0.1168295368552208 batch_id=1874: 100%|██████████| 1875/1875 [00:28<00:00, 66.31it/s]"
          ],
          "name": "stderr"
        },
        {
          "output_type": "stream",
          "text": [
            "\n",
            "Epoch: 1 Train set: Average loss: 0.0097, Accuracy: 54217/60000 (90.362%)\n",
            "\n"
          ],
          "name": "stdout"
        },
        {
          "output_type": "stream",
          "text": [
            "\n",
            "  0%|          | 0/1875 [00:00<?, ?it/s]"
          ],
          "name": "stderr"
        },
        {
          "output_type": "stream",
          "text": [
            "\n",
            "Epoch: 1 Test set: Average loss: 0.1494, Accuracy: 9507/10000 (95.070%)\n",
            "\n"
          ],
          "name": "stdout"
        },
        {
          "output_type": "stream",
          "text": [
            "loss=0.1556624472141266 batch_id=1874: 100%|██████████| 1875/1875 [00:28<00:00, 65.77it/s]\n"
          ],
          "name": "stderr"
        },
        {
          "output_type": "stream",
          "text": [
            "\n",
            "Epoch: 2 Train set: Average loss: 0.0038, Accuracy: 57798/60000 (96.330%)\n",
            "\n"
          ],
          "name": "stdout"
        },
        {
          "output_type": "stream",
          "text": [
            "\r  0%|          | 0/1875 [00:00<?, ?it/s]"
          ],
          "name": "stderr"
        },
        {
          "output_type": "stream",
          "text": [
            "\n",
            "Epoch: 2 Test set: Average loss: 0.0697, Accuracy: 9768/10000 (97.680%)\n",
            "\n"
          ],
          "name": "stdout"
        },
        {
          "output_type": "stream",
          "text": [
            "loss=0.05389326810836792 batch_id=1874: 100%|██████████| 1875/1875 [00:28<00:00, 65.91it/s]"
          ],
          "name": "stderr"
        },
        {
          "output_type": "stream",
          "text": [
            "\n",
            "Epoch: 3 Train set: Average loss: 0.0030, Accuracy: 58223/60000 (97.038%)\n",
            "\n"
          ],
          "name": "stdout"
        },
        {
          "output_type": "stream",
          "text": [
            "\n",
            "  0%|          | 0/1875 [00:00<?, ?it/s]"
          ],
          "name": "stderr"
        },
        {
          "output_type": "stream",
          "text": [
            "\n",
            "Epoch: 3 Test set: Average loss: 0.0612, Accuracy: 9806/10000 (98.060%)\n",
            "\n"
          ],
          "name": "stdout"
        },
        {
          "output_type": "stream",
          "text": [
            "loss=0.20167948305606842 batch_id=1874: 100%|██████████| 1875/1875 [00:28<00:00, 65.74it/s]\n"
          ],
          "name": "stderr"
        },
        {
          "output_type": "stream",
          "text": [
            "\n",
            "Epoch: 4 Train set: Average loss: 0.0027, Accuracy: 58438/60000 (97.397%)\n",
            "\n"
          ],
          "name": "stdout"
        },
        {
          "output_type": "stream",
          "text": [
            "\r  0%|          | 0/1875 [00:00<?, ?it/s]"
          ],
          "name": "stderr"
        },
        {
          "output_type": "stream",
          "text": [
            "\n",
            "Epoch: 4 Test set: Average loss: 0.0462, Accuracy: 9850/10000 (98.500%)\n",
            "\n"
          ],
          "name": "stdout"
        },
        {
          "output_type": "stream",
          "text": [
            "loss=0.02446025051176548 batch_id=1874: 100%|██████████| 1875/1875 [00:28<00:00, 66.08it/s]\n"
          ],
          "name": "stderr"
        },
        {
          "output_type": "stream",
          "text": [
            "\n",
            "Epoch: 5 Train set: Average loss: 0.0025, Accuracy: 58508/60000 (97.513%)\n",
            "\n"
          ],
          "name": "stdout"
        },
        {
          "output_type": "stream",
          "text": [
            "\r  0%|          | 0/1875 [00:00<?, ?it/s]"
          ],
          "name": "stderr"
        },
        {
          "output_type": "stream",
          "text": [
            "\n",
            "Epoch: 5 Test set: Average loss: 0.0527, Accuracy: 9827/10000 (98.270%)\n",
            "\n"
          ],
          "name": "stdout"
        },
        {
          "output_type": "stream",
          "text": [
            "loss=0.0636017918586731 batch_id=1874: 100%|██████████| 1875/1875 [00:28<00:00, 65.79it/s]"
          ],
          "name": "stderr"
        },
        {
          "output_type": "stream",
          "text": [
            "\n",
            "Epoch: 6 Train set: Average loss: 0.0023, Accuracy: 58620/60000 (97.700%)\n",
            "\n"
          ],
          "name": "stdout"
        },
        {
          "output_type": "stream",
          "text": [
            "\n",
            "  0%|          | 0/1875 [00:00<?, ?it/s]"
          ],
          "name": "stderr"
        },
        {
          "output_type": "stream",
          "text": [
            "\n",
            "Epoch: 6 Test set: Average loss: 0.0409, Accuracy: 9866/10000 (98.660%)\n",
            "\n"
          ],
          "name": "stdout"
        },
        {
          "output_type": "stream",
          "text": [
            "loss=0.04256809875369072 batch_id=1874: 100%|██████████| 1875/1875 [00:28<00:00, 65.47it/s]"
          ],
          "name": "stderr"
        },
        {
          "output_type": "stream",
          "text": [
            "\n",
            "Epoch: 7 Train set: Average loss: 0.0021, Accuracy: 58675/60000 (97.792%)\n",
            "\n"
          ],
          "name": "stdout"
        },
        {
          "output_type": "stream",
          "text": [
            "\n",
            "  0%|          | 0/1875 [00:00<?, ?it/s]"
          ],
          "name": "stderr"
        },
        {
          "output_type": "stream",
          "text": [
            "\n",
            "Epoch: 7 Test set: Average loss: 0.0381, Accuracy: 9876/10000 (98.760%)\n",
            "\n"
          ],
          "name": "stdout"
        },
        {
          "output_type": "stream",
          "text": [
            "loss=0.08399717509746552 batch_id=1874: 100%|██████████| 1875/1875 [00:28<00:00, 65.01it/s]\n"
          ],
          "name": "stderr"
        },
        {
          "output_type": "stream",
          "text": [
            "\n",
            "Epoch: 8 Train set: Average loss: 0.0021, Accuracy: 58754/60000 (97.923%)\n",
            "\n"
          ],
          "name": "stdout"
        },
        {
          "output_type": "stream",
          "text": [
            "\r  0%|          | 0/1875 [00:00<?, ?it/s]"
          ],
          "name": "stderr"
        },
        {
          "output_type": "stream",
          "text": [
            "\n",
            "Epoch: 8 Test set: Average loss: 0.0373, Accuracy: 9878/10000 (98.780%)\n",
            "\n"
          ],
          "name": "stdout"
        },
        {
          "output_type": "stream",
          "text": [
            "loss=0.006265033967792988 batch_id=1874: 100%|██████████| 1875/1875 [00:28<00:00, 65.30it/s]\n"
          ],
          "name": "stderr"
        },
        {
          "output_type": "stream",
          "text": [
            "\n",
            "Epoch: 9 Train set: Average loss: 0.0020, Accuracy: 58754/60000 (97.923%)\n",
            "\n"
          ],
          "name": "stdout"
        },
        {
          "output_type": "stream",
          "text": [
            "\r  0%|          | 0/1875 [00:00<?, ?it/s]"
          ],
          "name": "stderr"
        },
        {
          "output_type": "stream",
          "text": [
            "\n",
            "Epoch: 9 Test set: Average loss: 0.0332, Accuracy: 9899/10000 (98.990%)\n",
            "\n"
          ],
          "name": "stdout"
        },
        {
          "output_type": "stream",
          "text": [
            "loss=0.12142576277256012 batch_id=1874: 100%|██████████| 1875/1875 [00:28<00:00, 64.98it/s]\n"
          ],
          "name": "stderr"
        },
        {
          "output_type": "stream",
          "text": [
            "\n",
            "Epoch: 10 Train set: Average loss: 0.0020, Accuracy: 58831/60000 (98.052%)\n",
            "\n"
          ],
          "name": "stdout"
        },
        {
          "output_type": "stream",
          "text": [
            "\r  0%|          | 0/1875 [00:00<?, ?it/s]"
          ],
          "name": "stderr"
        },
        {
          "output_type": "stream",
          "text": [
            "\n",
            "Epoch: 10 Test set: Average loss: 0.0387, Accuracy: 9873/10000 (98.730%)\n",
            "\n"
          ],
          "name": "stdout"
        },
        {
          "output_type": "stream",
          "text": [
            "loss=0.08913970738649368 batch_id=1874: 100%|██████████| 1875/1875 [00:29<00:00, 64.57it/s]"
          ],
          "name": "stderr"
        },
        {
          "output_type": "stream",
          "text": [
            "\n",
            "Epoch: 11 Train set: Average loss: 0.0019, Accuracy: 58902/60000 (98.170%)\n",
            "\n"
          ],
          "name": "stdout"
        },
        {
          "output_type": "stream",
          "text": [
            "\n",
            "  0%|          | 0/1875 [00:00<?, ?it/s]"
          ],
          "name": "stderr"
        },
        {
          "output_type": "stream",
          "text": [
            "\n",
            "Epoch: 11 Test set: Average loss: 0.0332, Accuracy: 9894/10000 (98.940%)\n",
            "\n"
          ],
          "name": "stdout"
        },
        {
          "output_type": "stream",
          "text": [
            "loss=0.007959404960274696 batch_id=1874: 100%|██████████| 1875/1875 [00:29<00:00, 64.22it/s]\n"
          ],
          "name": "stderr"
        },
        {
          "output_type": "stream",
          "text": [
            "\n",
            "Epoch: 12 Train set: Average loss: 0.0018, Accuracy: 58915/60000 (98.192%)\n",
            "\n"
          ],
          "name": "stdout"
        },
        {
          "output_type": "stream",
          "text": [
            "\r  0%|          | 0/1875 [00:00<?, ?it/s]"
          ],
          "name": "stderr"
        },
        {
          "output_type": "stream",
          "text": [
            "\n",
            "Epoch: 12 Test set: Average loss: 0.0329, Accuracy: 9893/10000 (98.930%)\n",
            "\n"
          ],
          "name": "stdout"
        },
        {
          "output_type": "stream",
          "text": [
            "loss=0.06756178289651871 batch_id=1874: 100%|██████████| 1875/1875 [00:29<00:00, 64.33it/s]"
          ],
          "name": "stderr"
        },
        {
          "output_type": "stream",
          "text": [
            "\n",
            "Epoch: 13 Train set: Average loss: 0.0018, Accuracy: 58927/60000 (98.212%)\n",
            "\n"
          ],
          "name": "stdout"
        },
        {
          "output_type": "stream",
          "text": [
            "\n",
            "  0%|          | 0/1875 [00:00<?, ?it/s]"
          ],
          "name": "stderr"
        },
        {
          "output_type": "stream",
          "text": [
            "\n",
            "Epoch: 13 Test set: Average loss: 0.0325, Accuracy: 9902/10000 (99.020%)\n",
            "\n"
          ],
          "name": "stdout"
        },
        {
          "output_type": "stream",
          "text": [
            "loss=0.06386945396661758 batch_id=1874: 100%|██████████| 1875/1875 [00:29<00:00, 64.25it/s]\n"
          ],
          "name": "stderr"
        },
        {
          "output_type": "stream",
          "text": [
            "\n",
            "Epoch: 14 Train set: Average loss: 0.0017, Accuracy: 59022/60000 (98.370%)\n",
            "\n"
          ],
          "name": "stdout"
        },
        {
          "output_type": "stream",
          "text": [
            "\r  0%|          | 0/1875 [00:00<?, ?it/s]"
          ],
          "name": "stderr"
        },
        {
          "output_type": "stream",
          "text": [
            "\n",
            "Epoch: 14 Test set: Average loss: 0.0304, Accuracy: 9905/10000 (99.050%)\n",
            "\n"
          ],
          "name": "stdout"
        },
        {
          "output_type": "stream",
          "text": [
            "loss=0.024427153170108795 batch_id=1874: 100%|██████████| 1875/1875 [00:28<00:00, 64.95it/s]"
          ],
          "name": "stderr"
        },
        {
          "output_type": "stream",
          "text": [
            "\n",
            "Epoch: 15 Train set: Average loss: 0.0016, Accuracy: 59052/60000 (98.420%)\n",
            "\n"
          ],
          "name": "stdout"
        },
        {
          "output_type": "stream",
          "text": [
            "\n",
            "  0%|          | 0/1875 [00:00<?, ?it/s]"
          ],
          "name": "stderr"
        },
        {
          "output_type": "stream",
          "text": [
            "\n",
            "Epoch: 15 Test set: Average loss: 0.0288, Accuracy: 9899/10000 (98.990%)\n",
            "\n"
          ],
          "name": "stdout"
        },
        {
          "output_type": "stream",
          "text": [
            "loss=0.06571946293115616 batch_id=1874: 100%|██████████| 1875/1875 [00:29<00:00, 64.18it/s]"
          ],
          "name": "stderr"
        },
        {
          "output_type": "stream",
          "text": [
            "\n",
            "Epoch: 16 Train set: Average loss: 0.0016, Accuracy: 59027/60000 (98.378%)\n",
            "\n"
          ],
          "name": "stdout"
        },
        {
          "output_type": "stream",
          "text": [
            "\n",
            "  0%|          | 0/1875 [00:00<?, ?it/s]"
          ],
          "name": "stderr"
        },
        {
          "output_type": "stream",
          "text": [
            "\n",
            "Epoch: 16 Test set: Average loss: 0.0323, Accuracy: 9898/10000 (98.980%)\n",
            "\n"
          ],
          "name": "stdout"
        },
        {
          "output_type": "stream",
          "text": [
            "loss=0.0036540974397212267 batch_id=1874: 100%|██████████| 1875/1875 [00:28<00:00, 64.72it/s]"
          ],
          "name": "stderr"
        },
        {
          "output_type": "stream",
          "text": [
            "\n",
            "Epoch: 17 Train set: Average loss: 0.0015, Accuracy: 59048/60000 (98.413%)\n",
            "\n"
          ],
          "name": "stdout"
        },
        {
          "output_type": "stream",
          "text": [
            "\n",
            "  0%|          | 0/1875 [00:00<?, ?it/s]"
          ],
          "name": "stderr"
        },
        {
          "output_type": "stream",
          "text": [
            "\n",
            "Epoch: 17 Test set: Average loss: 0.0323, Accuracy: 9899/10000 (98.990%)\n",
            "\n"
          ],
          "name": "stdout"
        },
        {
          "output_type": "stream",
          "text": [
            "loss=0.003675888292491436 batch_id=1874: 100%|██████████| 1875/1875 [00:29<00:00, 64.39it/s]"
          ],
          "name": "stderr"
        },
        {
          "output_type": "stream",
          "text": [
            "\n",
            "Epoch: 18 Train set: Average loss: 0.0016, Accuracy: 59037/60000 (98.395%)\n",
            "\n"
          ],
          "name": "stdout"
        },
        {
          "output_type": "stream",
          "text": [
            "\n",
            "  0%|          | 0/1875 [00:00<?, ?it/s]"
          ],
          "name": "stderr"
        },
        {
          "output_type": "stream",
          "text": [
            "\n",
            "Epoch: 18 Test set: Average loss: 0.0319, Accuracy: 9899/10000 (98.990%)\n",
            "\n"
          ],
          "name": "stdout"
        },
        {
          "output_type": "stream",
          "text": [
            "loss=0.00648799492046237 batch_id=1874: 100%|██████████| 1875/1875 [00:29<00:00, 64.26it/s]"
          ],
          "name": "stderr"
        },
        {
          "output_type": "stream",
          "text": [
            "\n",
            "Epoch: 19 Train set: Average loss: 0.0015, Accuracy: 59070/60000 (98.450%)\n",
            "\n"
          ],
          "name": "stdout"
        },
        {
          "output_type": "stream",
          "text": [
            "\n"
          ],
          "name": "stderr"
        },
        {
          "output_type": "stream",
          "text": [
            "\n",
            "Epoch: 19 Test set: Average loss: 0.0321, Accuracy: 9900/10000 (99.000%)\n",
            "\n"
          ],
          "name": "stdout"
        }
      ]
    },
    {
      "cell_type": "markdown",
      "metadata": {
        "id": "H70wZlCm76j4"
      },
      "source": [
        "## Final Attempt"
      ]
    },
    {
      "cell_type": "code",
      "metadata": {
        "colab": {
          "base_uri": "https://localhost:8080/",
          "height": 1000,
          "referenced_widgets": [
            "ad132c22880449ba958beb373ba045f7",
            "8559e9b35ec544ed99d335fc62c488fe",
            "af0811fa4b3d4dca8c587b32b09cb687",
            "5034a81a1e0e4fc08e506875717a7b96",
            "4d6103f9d98f40099f42aab15863b805",
            "297cc7b1ee884251a9510f2f8a9e55f8",
            "d7b2d9e0a2b94bfaa51f42d5e5d70e9d",
            "941e5fd6409c460e893f41bac4d590af"
          ]
        },
        "id": "2euYw7t-dnw7",
        "outputId": "e8a4d4cf-3d91-4eba-de28-56959d338ef1"
      },
      "source": [
        "from torch.optim.lr_scheduler import StepLR, OneCycleLR\n",
        "hyperparameter_defaults = dict(\n",
        "    dropout = 0.02,#0.07114420042272313,\n",
        "    channels_one = 16,\n",
        "    channels_two = 32,\n",
        "    batch_size = 32,\n",
        "    test_batch_size=34,\n",
        "    lr = 0.025, #0.030455453938066226, #0.018,# 0.017530428914306426,\n",
        "    momentum = 0.9, #0.8424379743502641,\n",
        "    no_cuda = False,\n",
        "    seed = 1,\n",
        "    epochs = 19,\n",
        "    bias = False,\n",
        "    log_interval = 11,\n",
        "    sched_lr_gamma = 0.5,\n",
        "    sched_lr_step= 1,\n",
        "    start_lr = 5\n",
        "    )\n",
        "\n",
        "classes = ('0', '1', '2', '3', '4', '5', '6', '7', '8', '9')\n",
        "train_losses = []\n",
        "test_losses = []\n",
        "train_acc = []\n",
        "test_acc = []\n",
        "\n",
        "wandb.init(config=hyperparameter_defaults, project=\"news4eva4\")\n",
        "wandb.watch_called = False # Re-run the model without restarting the runtime, unnecessary after our next release\n",
        "config = wandb.config\n",
        "\n",
        "\n",
        "\n",
        "def main():\n",
        "    use_cuda = not config.no_cuda and torch.cuda.is_available()\n",
        "    device = torch.device(\"cuda\" if use_cuda else \"cpu\")\n",
        "    kwargs = {'num_workers': 4, 'pin_memory': True} if use_cuda else {}\n",
        "    \n",
        "    # Set random seeds and deterministic pytorch for reproducibility\n",
        "    # random.seed(config.seed)       # python random seed\n",
        "    torch.manual_seed(config.seed) # pytorch random seed\n",
        "    # numpy.random.seed(config.seed) # numpy random seed\n",
        "    torch.backends.cudnn.deterministic = True\n",
        "\n",
        "    # Load the dataset: We're training our CNN on CIFAR10 (https://www.cs.toronto.edu/~kriz/cifar.html)\n",
        "    # First we define the tranformations to apply to our images\n",
        "    #kwargs = {'num_workers': 4, 'pin_memory': True} if use_cuda else {}\n",
        "    train_loader = torch.utils.data.DataLoader(\n",
        "        datasets.MNIST('../data', train=True, download=True,\n",
        "                        transform=train_transforms),\n",
        "        batch_size=config.batch_size, shuffle=True, **kwargs)\n",
        "    test_loader = torch.utils.data.DataLoader(\n",
        "        datasets.MNIST('../data', train=False, transform=test_transforms),\n",
        "        batch_size=config.batch_size, shuffle=True, **kwargs)\n",
        "\n",
        "    # Initialize our model, recursively go over all modules and convert their parameters and buffers to CUDA tensors (if device is set to cuda)\n",
        "    model = Net(dropout_val=config.dropout).to(device)\n",
        "    optimizer = optim.SGD(model.parameters(), lr=config.lr,\n",
        "                          momentum=config.momentum)\n",
        "    \n",
        "    # scheduler = StepLR(optimizer, step_size=config.sched_lr_step, gamma=config.sched_lr_gamma)\n",
        "    #scheduler = torch.optim.lr_scheduler.OneCycleLR(optimizer, max_lr=config.lr, steps_per_epoch=len(train_loader), epochs=10)\n",
        "    # WandB – wandb.watch() automatically fetches all layer dimensions, gradients, model parameters and logs them automatically to your dashboard.\n",
        "    # Using log=\"all\" log histograms of parameter values in addition to gradients\n",
        "    wandb.watch(model, log=\"all\")\n",
        "\n",
        "    for epoch in range(1, config.epochs + 1):\n",
        "        epoch_train_acc,epoch_train_loss = train(config, model, device, train_loader, optimizer, epoch)        \n",
        "        epoch_test_acc,epoch_test_loss = test(config, model, device, test_loader, classes,epoch)\n",
        "        # wandb.log({ \"Train Accuracy\": epoch_train_acc, \n",
        "        #            \"Train Loss\": epoch_train_loss, \n",
        "        #            \"Test Accuracy\":epoch_test_acc, \n",
        "        #            \"Test Loss\": epoch_test_loss,\n",
        "        #            #\"Learning Rate\": config.lr})\n",
        "        #            \"Learning Rate\": scheduler.get_lr()})\n",
        "        wandb.log({ \"Train Accuracy\": epoch_train_acc, \n",
        "            \"Train Loss\": epoch_train_loss, \n",
        "            \"Test Accuracy\":epoch_test_acc, \n",
        "            \"Test Loss\": epoch_test_loss})\n",
        "        \n",
        "    # WandB – Save the model checkpoint. This automatically saves a file to the cloud and associates it with the current run.\n",
        "    torch.save(model.state_dict(), \"model.pth\")\n",
        "    wandb.save('model.pth')\n",
        "\n",
        "if __name__ == '__main__':\n",
        "    main()"
      ],
      "execution_count": null,
      "outputs": [
        {
          "output_type": "display_data",
          "data": {
            "text/html": [
              "Finishing last run (ID:1sm66tv6) before initializing another..."
            ],
            "text/plain": [
              "<IPython.core.display.HTML object>"
            ]
          },
          "metadata": {
            "tags": []
          }
        },
        {
          "output_type": "display_data",
          "data": {
            "text/html": [
              "<br/>Waiting for W&B process to finish, PID 6369<br/>Program ended successfully."
            ],
            "text/plain": [
              "<IPython.core.display.HTML object>"
            ]
          },
          "metadata": {
            "tags": []
          }
        },
        {
          "output_type": "display_data",
          "data": {
            "application/vnd.jupyter.widget-view+json": {
              "model_id": "ad132c22880449ba958beb373ba045f7",
              "version_minor": 0,
              "version_major": 2
            },
            "text/plain": [
              "VBox(children=(Label(value=' 0.04MB of 0.04MB uploaded (0.00MB deduped)\\r'), FloatProgress(value=1.0, max=1.0)…"
            ]
          },
          "metadata": {
            "tags": []
          }
        },
        {
          "output_type": "display_data",
          "data": {
            "text/html": [
              "Find user logs for this run at: <code>/content/wandb/run-20210527_202447-1sm66tv6/logs/debug.log</code>"
            ],
            "text/plain": [
              "<IPython.core.display.HTML object>"
            ]
          },
          "metadata": {
            "tags": []
          }
        },
        {
          "output_type": "display_data",
          "data": {
            "text/html": [
              "Find internal logs for this run at: <code>/content/wandb/run-20210527_202447-1sm66tv6/logs/debug-internal.log</code>"
            ],
            "text/plain": [
              "<IPython.core.display.HTML object>"
            ]
          },
          "metadata": {
            "tags": []
          }
        },
        {
          "output_type": "display_data",
          "data": {
            "text/html": [
              "<h3>Run summary:</h3><br/><style>\n",
              "    table.wandb td:nth-child(1) { padding: 0 10px; text-align: right }\n",
              "    </style><table class=\"wandb\">\n",
              "<tr><td>Train Accuracy</td><td>98.53167</td></tr><tr><td>Train Loss</td><td>0.0015</td></tr><tr><td>Test Accuracy</td><td>99.02</td></tr><tr><td>Test Loss</td><td>0.02796</td></tr><tr><td>_runtime</td><td>587</td></tr><tr><td>_timestamp</td><td>1622147677</td></tr><tr><td>_step</td><td>18</td></tr></table>"
            ],
            "text/plain": [
              "<IPython.core.display.HTML object>"
            ]
          },
          "metadata": {
            "tags": []
          }
        },
        {
          "output_type": "display_data",
          "data": {
            "text/html": [
              "<h3>Run history:</h3><br/><style>\n",
              "    table.wandb td:nth-child(1) { padding: 0 10px; text-align: right }\n",
              "    </style><table class=\"wandb\">\n",
              "<tr><td>Train Accuracy</td><td>▁▆▇▇▇▇█████████████</td></tr><tr><td>Train Loss</td><td>█▃▂▂▂▂▁▁▁▁▁▁▁▁▁▁▁▁▁</td></tr><tr><td>Test Accuracy</td><td>▁▄▆▆▆▇▆▇▇▇▇▇▇██▇█▇▇</td></tr><tr><td>Test Loss</td><td>█▅▃▃▂▂▂▂▂▂▂▂▁▂▁▂▁▁▁</td></tr><tr><td>_runtime</td><td>▁▁▂▂▃▃▃▄▄▄▅▅▆▆▆▇▇██</td></tr><tr><td>_timestamp</td><td>▁▁▂▂▃▃▃▄▄▄▅▅▆▆▆▇▇██</td></tr><tr><td>_step</td><td>▁▁▂▂▃▃▃▄▄▅▅▅▆▆▆▇▇██</td></tr></table><br/>"
            ],
            "text/plain": [
              "<IPython.core.display.HTML object>"
            ]
          },
          "metadata": {
            "tags": []
          }
        },
        {
          "output_type": "display_data",
          "data": {
            "text/html": [
              "Synced 5 W&B file(s), 1 media file(s), 0 artifact file(s) and 1 other file(s)"
            ],
            "text/plain": [
              "<IPython.core.display.HTML object>"
            ]
          },
          "metadata": {
            "tags": []
          }
        },
        {
          "output_type": "display_data",
          "data": {
            "text/html": [
              "\n",
              "                    <br/>Synced <strong style=\"color:#cdcd00\">floral-moon-504</strong>: <a href=\"https://wandb.ai/rajy4683/news4eva4/runs/1sm66tv6\" target=\"_blank\">https://wandb.ai/rajy4683/news4eva4/runs/1sm66tv6</a><br/>\n",
              "                "
            ],
            "text/plain": [
              "<IPython.core.display.HTML object>"
            ]
          },
          "metadata": {
            "tags": []
          }
        },
        {
          "output_type": "display_data",
          "data": {
            "text/html": [
              "...Successfully finished last run (ID:1sm66tv6). Initializing new run:<br/><br/>"
            ],
            "text/plain": [
              "<IPython.core.display.HTML object>"
            ]
          },
          "metadata": {
            "tags": []
          }
        },
        {
          "output_type": "display_data",
          "data": {
            "text/html": [
              "\n",
              "                Tracking run with wandb version 0.10.30<br/>\n",
              "                Syncing run <strong style=\"color:#cdcd00\">logical-voice-506</strong> to <a href=\"https://wandb.ai\" target=\"_blank\">Weights & Biases</a> <a href=\"https://docs.wandb.com/integrations/jupyter.html\" target=\"_blank\">(Documentation)</a>.<br/>\n",
              "                Project page: <a href=\"https://wandb.ai/rajy4683/news4eva4\" target=\"_blank\">https://wandb.ai/rajy4683/news4eva4</a><br/>\n",
              "                Run page: <a href=\"https://wandb.ai/rajy4683/news4eva4/runs/ple7ifxp\" target=\"_blank\">https://wandb.ai/rajy4683/news4eva4/runs/ple7ifxp</a><br/>\n",
              "                Run data is saved locally in <code>/content/wandb/run-20210527_203526-ple7ifxp</code><br/><br/>\n",
              "            "
            ],
            "text/plain": [
              "<IPython.core.display.HTML object>"
            ]
          },
          "metadata": {
            "tags": []
          }
        },
        {
          "output_type": "stream",
          "text": [
            "/usr/local/lib/python3.7/dist-packages/torch/utils/data/dataloader.py:477: UserWarning: This DataLoader will create 4 worker processes in total. Our suggested max number of worker in current system is 2, which is smaller than what this DataLoader is going to create. Please be aware that excessive worker creation might get DataLoader running slow or even freeze, lower the worker number to avoid potential slowness/freeze if necessary.\n",
            "  cpuset_checked))\n",
            "loss=0.08414260298013687 batch_id=1874: 100%|██████████| 1875/1875 [00:28<00:00, 66.17it/s]"
          ],
          "name": "stderr"
        },
        {
          "output_type": "stream",
          "text": [
            "\n",
            "Epoch: 1 Train set: Average loss: 0.0087, Accuracy: 54903/60000 (91.505%)\n",
            "\n"
          ],
          "name": "stdout"
        },
        {
          "output_type": "stream",
          "text": [
            "\n",
            "  0%|          | 0/1875 [00:00<?, ?it/s]"
          ],
          "name": "stderr"
        },
        {
          "output_type": "stream",
          "text": [
            "\n",
            "Epoch: 1 Test set: Average loss: 0.1156, Accuracy: 9642/10000 (96.420%)\n",
            "\n"
          ],
          "name": "stdout"
        },
        {
          "output_type": "stream",
          "text": [
            "loss=0.10225743055343628 batch_id=1874: 100%|██████████| 1875/1875 [00:28<00:00, 66.41it/s]"
          ],
          "name": "stderr"
        },
        {
          "output_type": "stream",
          "text": [
            "\n",
            "Epoch: 2 Train set: Average loss: 0.0035, Accuracy: 57894/60000 (96.490%)\n",
            "\n"
          ],
          "name": "stdout"
        },
        {
          "output_type": "stream",
          "text": [
            "\n",
            "  0%|          | 0/1875 [00:00<?, ?it/s]"
          ],
          "name": "stderr"
        },
        {
          "output_type": "stream",
          "text": [
            "\n",
            "Epoch: 2 Test set: Average loss: 0.0624, Accuracy: 9801/10000 (98.010%)\n",
            "\n"
          ],
          "name": "stdout"
        },
        {
          "output_type": "stream",
          "text": [
            "loss=0.035953719168901443 batch_id=1874: 100%|██████████| 1875/1875 [00:28<00:00, 66.65it/s]\n"
          ],
          "name": "stderr"
        },
        {
          "output_type": "stream",
          "text": [
            "\n",
            "Epoch: 3 Train set: Average loss: 0.0029, Accuracy: 58268/60000 (97.113%)\n",
            "\n"
          ],
          "name": "stdout"
        },
        {
          "output_type": "stream",
          "text": [
            "\r  0%|          | 0/1875 [00:00<?, ?it/s]"
          ],
          "name": "stderr"
        },
        {
          "output_type": "stream",
          "text": [
            "\n",
            "Epoch: 3 Test set: Average loss: 0.0545, Accuracy: 9829/10000 (98.290%)\n",
            "\n"
          ],
          "name": "stdout"
        },
        {
          "output_type": "stream",
          "text": [
            "loss=0.24218256771564484 batch_id=1874: 100%|██████████| 1875/1875 [00:28<00:00, 65.77it/s]\n"
          ],
          "name": "stderr"
        },
        {
          "output_type": "stream",
          "text": [
            "\n",
            "Epoch: 4 Train set: Average loss: 0.0026, Accuracy: 58487/60000 (97.478%)\n",
            "\n"
          ],
          "name": "stdout"
        },
        {
          "output_type": "stream",
          "text": [
            "\r  0%|          | 0/1875 [00:00<?, ?it/s]"
          ],
          "name": "stderr"
        },
        {
          "output_type": "stream",
          "text": [
            "\n",
            "Epoch: 4 Test set: Average loss: 0.0409, Accuracy: 9865/10000 (98.650%)\n",
            "\n"
          ],
          "name": "stdout"
        },
        {
          "output_type": "stream",
          "text": [
            "loss=0.008173407055437565 batch_id=1874: 100%|██████████| 1875/1875 [00:28<00:00, 66.29it/s]"
          ],
          "name": "stderr"
        },
        {
          "output_type": "stream",
          "text": [
            "\n",
            "Epoch: 5 Train set: Average loss: 0.0024, Accuracy: 58613/60000 (97.688%)\n",
            "\n"
          ],
          "name": "stdout"
        },
        {
          "output_type": "stream",
          "text": [
            "\n",
            "  0%|          | 0/1875 [00:00<?, ?it/s]"
          ],
          "name": "stderr"
        },
        {
          "output_type": "stream",
          "text": [
            "\n",
            "Epoch: 5 Test set: Average loss: 0.0463, Accuracy: 9838/10000 (98.380%)\n",
            "\n"
          ],
          "name": "stdout"
        },
        {
          "output_type": "stream",
          "text": [
            "loss=0.09763909131288528 batch_id=1874: 100%|██████████| 1875/1875 [00:28<00:00, 65.79it/s]\n"
          ],
          "name": "stderr"
        },
        {
          "output_type": "stream",
          "text": [
            "\n",
            "Epoch: 6 Train set: Average loss: 0.0022, Accuracy: 58679/60000 (97.798%)\n",
            "\n"
          ],
          "name": "stdout"
        },
        {
          "output_type": "stream",
          "text": [
            "\r  0%|          | 0/1875 [00:00<?, ?it/s]"
          ],
          "name": "stderr"
        },
        {
          "output_type": "stream",
          "text": [
            "\n",
            "Epoch: 6 Test set: Average loss: 0.0399, Accuracy: 9867/10000 (98.670%)\n",
            "\n"
          ],
          "name": "stdout"
        },
        {
          "output_type": "stream",
          "text": [
            "loss=0.032665327191352844 batch_id=1874: 100%|██████████| 1875/1875 [00:28<00:00, 65.86it/s]\n"
          ],
          "name": "stderr"
        },
        {
          "output_type": "stream",
          "text": [
            "\n",
            "Epoch: 7 Train set: Average loss: 0.0021, Accuracy: 58721/60000 (97.868%)\n",
            "\n"
          ],
          "name": "stdout"
        },
        {
          "output_type": "stream",
          "text": [
            "\r  0%|          | 0/1875 [00:00<?, ?it/s]"
          ],
          "name": "stderr"
        },
        {
          "output_type": "stream",
          "text": [
            "\n",
            "Epoch: 7 Test set: Average loss: 0.0424, Accuracy: 9874/10000 (98.740%)\n",
            "\n"
          ],
          "name": "stdout"
        },
        {
          "output_type": "stream",
          "text": [
            "loss=0.010511924512684345 batch_id=1874: 100%|██████████| 1875/1875 [00:28<00:00, 65.86it/s]"
          ],
          "name": "stderr"
        },
        {
          "output_type": "stream",
          "text": [
            "\n",
            "Epoch: 8 Train set: Average loss: 0.0020, Accuracy: 58804/60000 (98.007%)\n",
            "\n"
          ],
          "name": "stdout"
        },
        {
          "output_type": "stream",
          "text": [
            "\n",
            "  0%|          | 0/1875 [00:00<?, ?it/s]"
          ],
          "name": "stderr"
        },
        {
          "output_type": "stream",
          "text": [
            "\n",
            "Epoch: 8 Test set: Average loss: 0.0371, Accuracy: 9885/10000 (98.850%)\n",
            "\n"
          ],
          "name": "stdout"
        },
        {
          "output_type": "stream",
          "text": [
            "loss=0.042935729026794434 batch_id=1874: 100%|██████████| 1875/1875 [00:28<00:00, 65.16it/s]\n"
          ],
          "name": "stderr"
        },
        {
          "output_type": "stream",
          "text": [
            "\n",
            "Epoch: 9 Train set: Average loss: 0.0020, Accuracy: 58807/60000 (98.012%)\n",
            "\n"
          ],
          "name": "stdout"
        },
        {
          "output_type": "stream",
          "text": [
            "\r  0%|          | 0/1875 [00:00<?, ?it/s]"
          ],
          "name": "stderr"
        },
        {
          "output_type": "stream",
          "text": [
            "\n",
            "Epoch: 9 Test set: Average loss: 0.0446, Accuracy: 9855/10000 (98.550%)\n",
            "\n"
          ],
          "name": "stdout"
        },
        {
          "output_type": "stream",
          "text": [
            "loss=0.02895892597734928 batch_id=1874: 100%|██████████| 1875/1875 [00:28<00:00, 65.20it/s]"
          ],
          "name": "stderr"
        },
        {
          "output_type": "stream",
          "text": [
            "\n",
            "Epoch: 10 Train set: Average loss: 0.0018, Accuracy: 58907/60000 (98.178%)\n",
            "\n"
          ],
          "name": "stdout"
        },
        {
          "output_type": "stream",
          "text": [
            "\n",
            "  0%|          | 0/1875 [00:00<?, ?it/s]"
          ],
          "name": "stderr"
        },
        {
          "output_type": "stream",
          "text": [
            "\n",
            "Epoch: 10 Test set: Average loss: 0.0328, Accuracy: 9892/10000 (98.920%)\n",
            "\n"
          ],
          "name": "stdout"
        },
        {
          "output_type": "stream",
          "text": [
            "loss=0.05691207945346832 batch_id=1874: 100%|██████████| 1875/1875 [00:28<00:00, 64.80it/s]\n"
          ],
          "name": "stderr"
        },
        {
          "output_type": "stream",
          "text": [
            "\n",
            "Epoch: 11 Train set: Average loss: 0.0019, Accuracy: 58854/60000 (98.090%)\n",
            "\n"
          ],
          "name": "stdout"
        },
        {
          "output_type": "stream",
          "text": [
            "\r  0%|          | 0/1875 [00:00<?, ?it/s]"
          ],
          "name": "stderr"
        },
        {
          "output_type": "stream",
          "text": [
            "\n",
            "Epoch: 11 Test set: Average loss: 0.0356, Accuracy: 9883/10000 (98.830%)\n",
            "\n"
          ],
          "name": "stdout"
        },
        {
          "output_type": "stream",
          "text": [
            "loss=0.002282395726069808 batch_id=1874: 100%|██████████| 1875/1875 [00:28<00:00, 64.87it/s]"
          ],
          "name": "stderr"
        },
        {
          "output_type": "stream",
          "text": [
            "\n",
            "Epoch: 12 Train set: Average loss: 0.0017, Accuracy: 58989/60000 (98.315%)\n",
            "\n"
          ],
          "name": "stdout"
        },
        {
          "output_type": "stream",
          "text": [
            "\n",
            "  0%|          | 0/1875 [00:00<?, ?it/s]"
          ],
          "name": "stderr"
        },
        {
          "output_type": "stream",
          "text": [
            "\n",
            "Epoch: 12 Test set: Average loss: 0.0352, Accuracy: 9886/10000 (98.860%)\n",
            "\n"
          ],
          "name": "stdout"
        },
        {
          "output_type": "stream",
          "text": [
            "loss=0.0744406208395958 batch_id=1874: 100%|██████████| 1875/1875 [00:28<00:00, 65.19it/s]\n"
          ],
          "name": "stderr"
        },
        {
          "output_type": "stream",
          "text": [
            "\n",
            "Epoch: 13 Train set: Average loss: 0.0017, Accuracy: 58979/60000 (98.298%)\n",
            "\n"
          ],
          "name": "stdout"
        },
        {
          "output_type": "stream",
          "text": [
            "\r  0%|          | 0/1875 [00:00<?, ?it/s]"
          ],
          "name": "stderr"
        },
        {
          "output_type": "stream",
          "text": [
            "\n",
            "Epoch: 13 Test set: Average loss: 0.0328, Accuracy: 9894/10000 (98.940%)\n",
            "\n"
          ],
          "name": "stdout"
        },
        {
          "output_type": "stream",
          "text": [
            "loss=0.008786401711404324 batch_id=1874: 100%|██████████| 1875/1875 [00:29<00:00, 64.35it/s]\n"
          ],
          "name": "stderr"
        },
        {
          "output_type": "stream",
          "text": [
            "\n",
            "Epoch: 14 Train set: Average loss: 0.0017, Accuracy: 58969/60000 (98.282%)\n",
            "\n"
          ],
          "name": "stdout"
        },
        {
          "output_type": "stream",
          "text": [
            "\r  0%|          | 0/1875 [00:00<?, ?it/s]"
          ],
          "name": "stderr"
        },
        {
          "output_type": "stream",
          "text": [
            "\n",
            "Epoch: 14 Test set: Average loss: 0.0334, Accuracy: 9892/10000 (98.920%)\n",
            "\n"
          ],
          "name": "stdout"
        },
        {
          "output_type": "stream",
          "text": [
            "loss=0.02073018252849579 batch_id=1874: 100%|██████████| 1875/1875 [00:29<00:00, 64.41it/s]\n"
          ],
          "name": "stderr"
        },
        {
          "output_type": "stream",
          "text": [
            "\n",
            "Epoch: 15 Train set: Average loss: 0.0017, Accuracy: 59022/60000 (98.370%)\n",
            "\n"
          ],
          "name": "stdout"
        },
        {
          "output_type": "stream",
          "text": [
            "\r  0%|          | 0/1875 [00:00<?, ?it/s]"
          ],
          "name": "stderr"
        },
        {
          "output_type": "stream",
          "text": [
            "\n",
            "Epoch: 15 Test set: Average loss: 0.0309, Accuracy: 9903/10000 (99.030%)\n",
            "\n"
          ],
          "name": "stdout"
        },
        {
          "output_type": "stream",
          "text": [
            "loss=0.0989963710308075 batch_id=1874: 100%|██████████| 1875/1875 [00:28<00:00, 64.86it/s]\n"
          ],
          "name": "stderr"
        },
        {
          "output_type": "stream",
          "text": [
            "\n",
            "Epoch: 16 Train set: Average loss: 0.0016, Accuracy: 59006/60000 (98.343%)\n",
            "\n"
          ],
          "name": "stdout"
        },
        {
          "output_type": "stream",
          "text": [
            "\r  0%|          | 0/1875 [00:00<?, ?it/s]"
          ],
          "name": "stderr"
        },
        {
          "output_type": "stream",
          "text": [
            "\n",
            "Epoch: 16 Test set: Average loss: 0.0385, Accuracy: 9873/10000 (98.730%)\n",
            "\n"
          ],
          "name": "stdout"
        },
        {
          "output_type": "stream",
          "text": [
            "loss=0.002951880684122443 batch_id=1874: 100%|██████████| 1875/1875 [00:29<00:00, 64.14it/s]\n"
          ],
          "name": "stderr"
        },
        {
          "output_type": "stream",
          "text": [
            "\n",
            "Epoch: 17 Train set: Average loss: 0.0016, Accuracy: 59083/60000 (98.472%)\n",
            "\n"
          ],
          "name": "stdout"
        },
        {
          "output_type": "stream",
          "text": [
            "\r  0%|          | 0/1875 [00:00<?, ?it/s]"
          ],
          "name": "stderr"
        },
        {
          "output_type": "stream",
          "text": [
            "\n",
            "Epoch: 17 Test set: Average loss: 0.0308, Accuracy: 9909/10000 (99.090%)\n",
            "\n"
          ],
          "name": "stdout"
        },
        {
          "output_type": "stream",
          "text": [
            "loss=0.004851120058447123 batch_id=1874: 100%|██████████| 1875/1875 [00:29<00:00, 64.22it/s]"
          ],
          "name": "stderr"
        },
        {
          "output_type": "stream",
          "text": [
            "\n",
            "Epoch: 18 Train set: Average loss: 0.0016, Accuracy: 59027/60000 (98.378%)\n",
            "\n"
          ],
          "name": "stdout"
        },
        {
          "output_type": "stream",
          "text": [
            "\n",
            "  0%|          | 0/1875 [00:00<?, ?it/s]"
          ],
          "name": "stderr"
        },
        {
          "output_type": "stream",
          "text": [
            "\n",
            "Epoch: 18 Test set: Average loss: 0.0282, Accuracy: 9908/10000 (99.080%)\n",
            "\n"
          ],
          "name": "stdout"
        },
        {
          "output_type": "stream",
          "text": [
            "loss=0.019811881706118584 batch_id=1874: 100%|██████████| 1875/1875 [00:29<00:00, 64.24it/s]"
          ],
          "name": "stderr"
        },
        {
          "output_type": "stream",
          "text": [
            "\n",
            "Epoch: 19 Train set: Average loss: 0.0016, Accuracy: 59051/60000 (98.418%)\n",
            "\n"
          ],
          "name": "stdout"
        },
        {
          "output_type": "stream",
          "text": [
            "\n"
          ],
          "name": "stderr"
        },
        {
          "output_type": "stream",
          "text": [
            "\n",
            "Epoch: 19 Test set: Average loss: 0.0301, Accuracy: 9906/10000 (99.060%)\n",
            "\n"
          ],
          "name": "stdout"
        }
      ]
    },
    {
      "cell_type": "markdown",
      "metadata": {
        "id": "zzzHUsobcLMR"
      },
      "source": [
        "## RESULTS of the Final Run"
      ]
    },
    {
      "cell_type": "code",
      "metadata": {
        "id": "_H6n18QPxaBL"
      },
      "source": [
        "def plot_metrics(metrics_dataframe_local):\n",
        "    dataset_metrics = metrics_dataframe_local.loc[:,['Test Accuracy', 'Test Loss']].dropna().reset_index().drop(columns='index')\n",
        "    final_run_metrics = pd.concat([metrics_dataframe.loc[:,['Train Accuracy', 'Train Loss']].dropna().reset_index().drop(columns='index'), \n",
        "                                   metrics_dataframe.loc[:,['Test Accuracy', 'Test Loss']].dropna().reset_index().drop(columns='index')],axis=1)\n",
        "    return final_run_metrics\n",
        "    # final_run_metrics.loc[:,['Train Accuracy', 'Test Accuracy']].plot()\n",
        "    # final_run_metrics.loc[:,['Train Loss', 'Test Loss']].plot()\n"
      ],
      "execution_count": null,
      "outputs": []
    },
    {
      "cell_type": "code",
      "metadata": {
        "id": "XrZdlGNFx16L"
      },
      "source": [
        "import wandb\n",
        "#api = wandb.Api()\n",
        "\n",
        "# run is specified by <entity>/<project>/<run id>\n",
        "runs = api.runs('rajy4683/news4eva4')\n",
        "run = runs.objects[0] #.history()\n",
        "\n",
        "# save the metrics for the run to a csv file\n",
        "metrics_dataframe = run.history()\n",
        "metrics_dataframe.to_csv(\"metrics.csv\")"
      ],
      "execution_count": null,
      "outputs": []
    }
  ]
}