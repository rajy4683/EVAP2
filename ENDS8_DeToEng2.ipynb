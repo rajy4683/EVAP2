{
  "nbformat": 4,
  "nbformat_minor": 0,
  "metadata": {
    "kernelspec": {
      "display_name": "Python 3",
      "language": "python",
      "name": "python3"
    },
    "language_info": {
      "codemirror_mode": {
        "name": "ipython",
        "version": 3
      },
      "file_extension": ".py",
      "mimetype": "text/x-python",
      "name": "python",
      "nbconvert_exporter": "python",
      "pygments_lexer": "ipython3",
      "version": "3.8.2"
    },
    "colab": {
      "name": " ENDS8_DeToEng2.ipynb",
      "provenance": [],
      "collapsed_sections": [],
      "toc_visible": true,
      "include_colab_link": true
    },
    "accelerator": "GPU"
  },
  "cells": [
    {
      "cell_type": "markdown",
      "metadata": {
        "id": "view-in-github",
        "colab_type": "text"
      },
      "source": [
        "<a href=\"https://colab.research.google.com/github/rajy4683/EVAP2/blob/master/ENDS8_DeToEng2.ipynb\" target=\"_parent\"><img src=\"https://colab.research.google.com/assets/colab-badge.svg\" alt=\"Open In Colab\"/></a>"
      ]
    },
    {
      "cell_type": "code",
      "metadata": {
        "id": "6AjBdi2y4-_l",
        "colab": {
          "base_uri": "https://localhost:8080/"
        },
        "outputId": "a88045d9-fd7b-43d3-9d47-8d3a6eb93ce4"
      },
      "source": [
        "!nvidia-smi"
      ],
      "execution_count": 1,
      "outputs": [
        {
          "output_type": "stream",
          "text": [
            "Thu Dec 17 12:15:55 2020       \n",
            "+-----------------------------------------------------------------------------+\n",
            "| NVIDIA-SMI 455.45.01    Driver Version: 418.67       CUDA Version: 10.1     |\n",
            "|-------------------------------+----------------------+----------------------+\n",
            "| GPU  Name        Persistence-M| Bus-Id        Disp.A | Volatile Uncorr. ECC |\n",
            "| Fan  Temp  Perf  Pwr:Usage/Cap|         Memory-Usage | GPU-Util  Compute M. |\n",
            "|                               |                      |               MIG M. |\n",
            "|===============================+======================+======================|\n",
            "|   0  Tesla P100-PCIE...  Off  | 00000000:00:04.0 Off |                    0 |\n",
            "| N/A   33C    P0    27W / 250W |      0MiB / 16280MiB |      0%      Default |\n",
            "|                               |                      |                 ERR! |\n",
            "+-------------------------------+----------------------+----------------------+\n",
            "                                                                               \n",
            "+-----------------------------------------------------------------------------+\n",
            "| Processes:                                                                  |\n",
            "|  GPU   GI   CI        PID   Type   Process name                  GPU Memory |\n",
            "|        ID   ID                                                   Usage      |\n",
            "|=============================================================================|\n",
            "|  No running processes found                                                 |\n",
            "+-----------------------------------------------------------------------------+\n"
          ],
          "name": "stdout"
        }
      ]
    },
    {
      "cell_type": "code",
      "metadata": {
        "id": "GBiewbpl-VLI",
        "colab": {
          "base_uri": "https://localhost:8080/"
        },
        "outputId": "73626d19-e24b-4b8c-b32c-816658eef6ab"
      },
      "source": [
        "%%bash\n",
        "python -m spacy download en\n",
        "python -m spacy download de"
      ],
      "execution_count": 2,
      "outputs": [
        {
          "output_type": "stream",
          "text": [
            "Requirement already satisfied: en_core_web_sm==2.2.5 from https://github.com/explosion/spacy-models/releases/download/en_core_web_sm-2.2.5/en_core_web_sm-2.2.5.tar.gz#egg=en_core_web_sm==2.2.5 in /usr/local/lib/python3.6/dist-packages (2.2.5)\n",
            "Requirement already satisfied: spacy>=2.2.2 in /usr/local/lib/python3.6/dist-packages (from en_core_web_sm==2.2.5) (2.2.4)\n",
            "Requirement already satisfied: requests<3.0.0,>=2.13.0 in /usr/local/lib/python3.6/dist-packages (from spacy>=2.2.2->en_core_web_sm==2.2.5) (2.23.0)\n",
            "Requirement already satisfied: tqdm<5.0.0,>=4.38.0 in /usr/local/lib/python3.6/dist-packages (from spacy>=2.2.2->en_core_web_sm==2.2.5) (4.41.1)\n",
            "Requirement already satisfied: cymem<2.1.0,>=2.0.2 in /usr/local/lib/python3.6/dist-packages (from spacy>=2.2.2->en_core_web_sm==2.2.5) (2.0.5)\n",
            "Requirement already satisfied: blis<0.5.0,>=0.4.0 in /usr/local/lib/python3.6/dist-packages (from spacy>=2.2.2->en_core_web_sm==2.2.5) (0.4.1)\n",
            "Requirement already satisfied: setuptools in /usr/local/lib/python3.6/dist-packages (from spacy>=2.2.2->en_core_web_sm==2.2.5) (50.3.2)\n",
            "Requirement already satisfied: numpy>=1.15.0 in /usr/local/lib/python3.6/dist-packages (from spacy>=2.2.2->en_core_web_sm==2.2.5) (1.18.5)\n",
            "Requirement already satisfied: catalogue<1.1.0,>=0.0.7 in /usr/local/lib/python3.6/dist-packages (from spacy>=2.2.2->en_core_web_sm==2.2.5) (1.0.0)\n",
            "Requirement already satisfied: preshed<3.1.0,>=3.0.2 in /usr/local/lib/python3.6/dist-packages (from spacy>=2.2.2->en_core_web_sm==2.2.5) (3.0.5)\n",
            "Requirement already satisfied: wasabi<1.1.0,>=0.4.0 in /usr/local/lib/python3.6/dist-packages (from spacy>=2.2.2->en_core_web_sm==2.2.5) (0.8.0)\n",
            "Requirement already satisfied: murmurhash<1.1.0,>=0.28.0 in /usr/local/lib/python3.6/dist-packages (from spacy>=2.2.2->en_core_web_sm==2.2.5) (1.0.5)\n",
            "Requirement already satisfied: plac<1.2.0,>=0.9.6 in /usr/local/lib/python3.6/dist-packages (from spacy>=2.2.2->en_core_web_sm==2.2.5) (1.1.3)\n",
            "Requirement already satisfied: srsly<1.1.0,>=1.0.2 in /usr/local/lib/python3.6/dist-packages (from spacy>=2.2.2->en_core_web_sm==2.2.5) (1.0.5)\n",
            "Requirement already satisfied: thinc==7.4.0 in /usr/local/lib/python3.6/dist-packages (from spacy>=2.2.2->en_core_web_sm==2.2.5) (7.4.0)\n",
            "Requirement already satisfied: certifi>=2017.4.17 in /usr/local/lib/python3.6/dist-packages (from requests<3.0.0,>=2.13.0->spacy>=2.2.2->en_core_web_sm==2.2.5) (2020.12.5)\n",
            "Requirement already satisfied: urllib3!=1.25.0,!=1.25.1,<1.26,>=1.21.1 in /usr/local/lib/python3.6/dist-packages (from requests<3.0.0,>=2.13.0->spacy>=2.2.2->en_core_web_sm==2.2.5) (1.24.3)\n",
            "Requirement already satisfied: idna<3,>=2.5 in /usr/local/lib/python3.6/dist-packages (from requests<3.0.0,>=2.13.0->spacy>=2.2.2->en_core_web_sm==2.2.5) (2.10)\n",
            "Requirement already satisfied: chardet<4,>=3.0.2 in /usr/local/lib/python3.6/dist-packages (from requests<3.0.0,>=2.13.0->spacy>=2.2.2->en_core_web_sm==2.2.5) (3.0.4)\n",
            "Requirement already satisfied: importlib-metadata>=0.20; python_version < \"3.8\" in /usr/local/lib/python3.6/dist-packages (from catalogue<1.1.0,>=0.0.7->spacy>=2.2.2->en_core_web_sm==2.2.5) (3.1.1)\n",
            "Requirement already satisfied: zipp>=0.5 in /usr/local/lib/python3.6/dist-packages (from importlib-metadata>=0.20; python_version < \"3.8\"->catalogue<1.1.0,>=0.0.7->spacy>=2.2.2->en_core_web_sm==2.2.5) (3.4.0)\n",
            "\u001b[38;5;2m✔ Download and installation successful\u001b[0m\n",
            "You can now load the model via spacy.load('en_core_web_sm')\n",
            "\u001b[38;5;2m✔ Linking successful\u001b[0m\n",
            "/usr/local/lib/python3.6/dist-packages/en_core_web_sm -->\n",
            "/usr/local/lib/python3.6/dist-packages/spacy/data/en\n",
            "You can now load the model via spacy.load('en')\n",
            "Collecting de_core_news_sm==2.2.5\n",
            "  Downloading https://github.com/explosion/spacy-models/releases/download/de_core_news_sm-2.2.5/de_core_news_sm-2.2.5.tar.gz (14.9MB)\n",
            "Requirement already satisfied: spacy>=2.2.2 in /usr/local/lib/python3.6/dist-packages (from de_core_news_sm==2.2.5) (2.2.4)\n",
            "Requirement already satisfied: cymem<2.1.0,>=2.0.2 in /usr/local/lib/python3.6/dist-packages (from spacy>=2.2.2->de_core_news_sm==2.2.5) (2.0.5)\n",
            "Requirement already satisfied: setuptools in /usr/local/lib/python3.6/dist-packages (from spacy>=2.2.2->de_core_news_sm==2.2.5) (50.3.2)\n",
            "Requirement already satisfied: plac<1.2.0,>=0.9.6 in /usr/local/lib/python3.6/dist-packages (from spacy>=2.2.2->de_core_news_sm==2.2.5) (1.1.3)\n",
            "Requirement already satisfied: requests<3.0.0,>=2.13.0 in /usr/local/lib/python3.6/dist-packages (from spacy>=2.2.2->de_core_news_sm==2.2.5) (2.23.0)\n",
            "Requirement already satisfied: blis<0.5.0,>=0.4.0 in /usr/local/lib/python3.6/dist-packages (from spacy>=2.2.2->de_core_news_sm==2.2.5) (0.4.1)\n",
            "Requirement already satisfied: tqdm<5.0.0,>=4.38.0 in /usr/local/lib/python3.6/dist-packages (from spacy>=2.2.2->de_core_news_sm==2.2.5) (4.41.1)\n",
            "Requirement already satisfied: numpy>=1.15.0 in /usr/local/lib/python3.6/dist-packages (from spacy>=2.2.2->de_core_news_sm==2.2.5) (1.18.5)\n",
            "Requirement already satisfied: catalogue<1.1.0,>=0.0.7 in /usr/local/lib/python3.6/dist-packages (from spacy>=2.2.2->de_core_news_sm==2.2.5) (1.0.0)\n",
            "Requirement already satisfied: srsly<1.1.0,>=1.0.2 in /usr/local/lib/python3.6/dist-packages (from spacy>=2.2.2->de_core_news_sm==2.2.5) (1.0.5)\n",
            "Requirement already satisfied: murmurhash<1.1.0,>=0.28.0 in /usr/local/lib/python3.6/dist-packages (from spacy>=2.2.2->de_core_news_sm==2.2.5) (1.0.5)\n",
            "Requirement already satisfied: thinc==7.4.0 in /usr/local/lib/python3.6/dist-packages (from spacy>=2.2.2->de_core_news_sm==2.2.5) (7.4.0)\n",
            "Requirement already satisfied: preshed<3.1.0,>=3.0.2 in /usr/local/lib/python3.6/dist-packages (from spacy>=2.2.2->de_core_news_sm==2.2.5) (3.0.5)\n",
            "Requirement already satisfied: wasabi<1.1.0,>=0.4.0 in /usr/local/lib/python3.6/dist-packages (from spacy>=2.2.2->de_core_news_sm==2.2.5) (0.8.0)\n",
            "Requirement already satisfied: certifi>=2017.4.17 in /usr/local/lib/python3.6/dist-packages (from requests<3.0.0,>=2.13.0->spacy>=2.2.2->de_core_news_sm==2.2.5) (2020.12.5)\n",
            "Requirement already satisfied: idna<3,>=2.5 in /usr/local/lib/python3.6/dist-packages (from requests<3.0.0,>=2.13.0->spacy>=2.2.2->de_core_news_sm==2.2.5) (2.10)\n",
            "Requirement already satisfied: urllib3!=1.25.0,!=1.25.1,<1.26,>=1.21.1 in /usr/local/lib/python3.6/dist-packages (from requests<3.0.0,>=2.13.0->spacy>=2.2.2->de_core_news_sm==2.2.5) (1.24.3)\n",
            "Requirement already satisfied: chardet<4,>=3.0.2 in /usr/local/lib/python3.6/dist-packages (from requests<3.0.0,>=2.13.0->spacy>=2.2.2->de_core_news_sm==2.2.5) (3.0.4)\n",
            "Requirement already satisfied: importlib-metadata>=0.20; python_version < \"3.8\" in /usr/local/lib/python3.6/dist-packages (from catalogue<1.1.0,>=0.0.7->spacy>=2.2.2->de_core_news_sm==2.2.5) (3.1.1)\n",
            "Requirement already satisfied: zipp>=0.5 in /usr/local/lib/python3.6/dist-packages (from importlib-metadata>=0.20; python_version < \"3.8\"->catalogue<1.1.0,>=0.0.7->spacy>=2.2.2->de_core_news_sm==2.2.5) (3.4.0)\n",
            "Building wheels for collected packages: de-core-news-sm\n",
            "  Building wheel for de-core-news-sm (setup.py): started\n",
            "  Building wheel for de-core-news-sm (setup.py): finished with status 'done'\n",
            "  Created wheel for de-core-news-sm: filename=de_core_news_sm-2.2.5-cp36-none-any.whl size=14907057 sha256=f96bdd49cbfe9d04098488059ccc992516edea905a2c66db5b508c85056a2490\n",
            "  Stored in directory: /tmp/pip-ephem-wheel-cache-3dmp78su/wheels/ba/3f/ed/d4aa8e45e7191b7f32db4bfad565e7da1edbf05c916ca7a1ca\n",
            "Successfully built de-core-news-sm\n",
            "Installing collected packages: de-core-news-sm\n",
            "Successfully installed de-core-news-sm-2.2.5\n",
            "\u001b[38;5;2m✔ Download and installation successful\u001b[0m\n",
            "You can now load the model via spacy.load('de_core_news_sm')\n",
            "\u001b[38;5;2m✔ Linking successful\u001b[0m\n",
            "/usr/local/lib/python3.6/dist-packages/de_core_news_sm -->\n",
            "/usr/local/lib/python3.6/dist-packages/spacy/data/de\n",
            "You can now load the model via spacy.load('de')\n"
          ],
          "name": "stdout"
        }
      ]
    },
    {
      "cell_type": "code",
      "metadata": {
        "id": "RtUh0ys7n6RZ"
      },
      "source": [
        ""
      ],
      "execution_count": null,
      "outputs": []
    },
    {
      "cell_type": "markdown",
      "metadata": {
        "id": "VPvA96iA-ZD6"
      },
      "source": [
        "**Restart Notebook**"
      ]
    },
    {
      "cell_type": "markdown",
      "metadata": {
        "id": "uvcqvR837ubU"
      },
      "source": [
        "# 1 - Sequence to Sequence Learning with Neural Networks\n",
        "\n",
        "Today we'll be building a machine learning model to go from once sequence to another, using PyTorch and TorchText. This will be done on German to English translations, but the models can be applied to any problem that involves going from one sequence to another, such as summarization, i.e. going from a sequence to a shorter sequence in the same language.\n",
        "\n",
        "In this second notebook, we'll start simple to understand the general concepts by implementing the model from the [Sequence to Sequence Learning with Neural Networks](https://arxiv.org/abs/1409.3215) paper. \n",
        "\n",
        "## Introduction\n",
        "\n",
        "The most common sequence-to-sequence (seq2seq) models are *encoder-decoder* models, which commonly use a *recurrent neural network* (RNN) to *encode* the source (input) sentence into a single vector. In this notebook, we'll refer to this single vector as a *context vector*. We can think of the context vector as being an abstract representation of the entire input sentence. This vector is then *decoded* by a second RNN which learns to output the target (output) sentence by generating it one word at a time.\n",
        "\n",
        "![](https://github.com/bentrevett/pytorch-seq2seq/blob/master/assets/seq2seq1.png?raw=1)\n",
        "\n",
        "The above image shows an example translation. The input/source sentence, \"guten morgen\", is passed through the embedding layer (yellow) and then input into the encoder (green). We also append a *start of sequence* (`<sos>`) and *end of sequence* (`<eos>`) token to the start and end of sentence, respectively. At each time-step, the input to the encoder RNN is both the embedding, $e$, of the current word, $e(x_t)$, as well as the hidden state from the previous time-step, $h_{t-1}$, and the encoder RNN outputs a new hidden state $h_t$. We can think of the hidden state as a vector representation of the sentence so far. The RNN can be represented as a function of both of $e(x_t)$ and $h_{t-1}$:\n",
        "\n",
        "$$h_t = \\text{EncoderRNN}(e(x_t), h_{t-1})$$\n",
        "\n",
        "We're using the term RNN generally here, it could be any recurrent architecture, such as an *LSTM* (Long Short-Term Memory) or a *GRU* (Gated Recurrent Unit). \n",
        "\n",
        "Here, we have $X = \\{x_1, x_2, ..., x_T\\}$, where $x_1 = \\text{<sos>}, x_2 = \\text{guten}$, etc. The initial hidden state, $h_0$, is usually either initialized to zeros or a learned parameter.\n",
        "\n",
        "Once the final word, $x_T$, has been passed into the RNN via the embedding layer, we use the final hidden state, $h_T$, as the context vector, i.e. $h_T = z$. This is a vector representation of the entire source sentence.\n",
        "\n",
        "Now we have our context vector, $z$, we can start decoding it to get the output/target sentence, \"good morning\". Again, we append start and end of sequence tokens to the target sentence. At each time-step, the input to the decoder RNN (blue) is the embedding, $d$, of current word, $d(y_t)$, as well as the hidden state from the previous time-step, $s_{t-1}$, where the initial decoder hidden state, $s_0$, is the context vector, $s_0 = z = h_T$, i.e. the initial decoder hidden state is the final encoder hidden state. Thus, similar to the encoder, we can represent the decoder as:\n",
        "\n",
        "$$s_t = \\text{DecoderRNN}(d(y_t), s_{t-1})$$\n",
        "\n",
        "Although the input/source embedding layer, $e$, and the output/target embedding layer, $d$, are both shown in yellow in the diagram they are two different embedding layers with their own parameters.\n",
        "\n",
        "In the decoder, we need to go from the hidden state to an actual word, therefore at each time-step we use $s_t$ to predict (by passing it through a `Linear` layer, shown in purple) what we think is the next word in the sequence, $\\hat{y}_t$. \n",
        "\n",
        "$$\\hat{y}_t = f(s_t)$$\n",
        "\n",
        "The words in the decoder are always generated one after another, with one per time-step. We always use `<sos>` for the first input to the decoder, $y_1$, but for subsequent inputs, $y_{t>1}$, we will sometimes use the actual, ground truth next word in the sequence, $y_t$ and sometimes use the word predicted by our decoder, $\\hat{y}_{t-1}$. This is called *teacher forcing*, see a bit more info about it [here](https://machinelearningmastery.com/teacher-forcing-for-recurrent-neural-networks/). \n",
        "\n",
        "When training/testing our model, we always know how many words are in our target sentence, so we stop generating words once we hit that many. During inference it is common to keep generating words until the model outputs an `<eos>` token or after a certain amount of words have been generated.\n",
        "\n",
        "Once we have our predicted target sentence, $\\hat{Y} = \\{ \\hat{y}_1, \\hat{y}_2, ..., \\hat{y}_T \\}$, we compare it against our actual target sentence, $Y = \\{ y_1, y_2, ..., y_T \\}$, to calculate our loss. We then use this loss to update all of the parameters in our model.\n",
        "\n",
        "## Preparing Data\n",
        "\n",
        "We'll be coding up the models in PyTorch and using TorchText to help us do all of the pre-processing required. We'll also be using spaCy to assist in the tokenization of the data."
      ]
    },
    {
      "cell_type": "code",
      "metadata": {
        "id": "dJCYbInh7ubV"
      },
      "source": [
        "import torch\n",
        "import torch.nn as nn\n",
        "import torch.optim as optim\n",
        "\n",
        "from torchtext.datasets import Multi30k\n",
        "from torchtext.data import Field, BucketIterator\n",
        "\n",
        "import spacy\n",
        "import numpy as np\n",
        "\n",
        "import random\n",
        "import math\n",
        "import time"
      ],
      "execution_count": 3,
      "outputs": []
    },
    {
      "cell_type": "markdown",
      "metadata": {
        "id": "28oirOW27ubV"
      },
      "source": [
        "We'll set the random seeds for deterministic results."
      ]
    },
    {
      "cell_type": "code",
      "metadata": {
        "id": "YuBNQiux7ubV"
      },
      "source": [
        "SEED = 1234\n",
        "\n",
        "random.seed(SEED)\n",
        "np.random.seed(SEED)\n",
        "torch.manual_seed(SEED)\n",
        "torch.cuda.manual_seed(SEED)\n",
        "torch.backends.cudnn.deterministic = True"
      ],
      "execution_count": 4,
      "outputs": []
    },
    {
      "cell_type": "markdown",
      "metadata": {
        "id": "sK-BZHcf7ubV"
      },
      "source": [
        "Next, we'll create the tokenizers. A tokenizer is used to turn a string containing a sentence into a list of individual tokens that make up that string, e.g. \"good morning!\" becomes [\"good\", \"morning\", \"!\"]. We'll start talking about the sentences being a sequence of tokens from now, instead of saying they're a sequence of words. What's the difference? Well, \"good\" and \"morning\" are both words and tokens, but \"!\" is a token, not a word. \n",
        "\n",
        "spaCy has model for each language (\"de\" for German and \"en\" for English) which need to be loaded so we can access the tokenizer of each model. \n",
        "\n",
        "**Note**: the models must first be downloaded using the following on the command line: \n",
        "```\n",
        "python -m spacy download en\n",
        "python -m spacy download de\n",
        "```\n",
        "\n",
        "We load the models as such:"
      ]
    },
    {
      "cell_type": "code",
      "metadata": {
        "id": "UX-uqN427ubV"
      },
      "source": [
        "spacy_de = spacy.load('de')\n",
        "spacy_en = spacy.load('en')"
      ],
      "execution_count": 5,
      "outputs": []
    },
    {
      "cell_type": "markdown",
      "metadata": {
        "id": "rA0X50HQ7ubW"
      },
      "source": [
        "Next, we create the tokenizer functions. These can be passed to TorchText and will take in the sentence as a string and return the sentence as a list of tokens.\n",
        "\n",
        "In the paper we are implementing, they find it beneficial to reverse the order of the input which they believe \"introduces many short term dependencies in the data that make the optimization problem much easier\". We copy this by reversing the German sentence after it has been transformed into a list of tokens."
      ]
    },
    {
      "cell_type": "code",
      "metadata": {
        "id": "LUHqw4RF7ubW"
      },
      "source": [
        "def tokenize_de(text):\n",
        "    \"\"\"\n",
        "    Tokenizes German text from a string into a list of strings (tokens) and reverses it\n",
        "    \"\"\"\n",
        "    return [tok.text for tok in spacy_de.tokenizer(text)][::-1]\n",
        "\n",
        "def tokenize_en(text):\n",
        "    \"\"\"\n",
        "    Tokenizes English text from a string into a list of strings (tokens)\n",
        "    \"\"\"\n",
        "    return [tok.text for tok in spacy_en.tokenizer(text)]"
      ],
      "execution_count": 6,
      "outputs": []
    },
    {
      "cell_type": "markdown",
      "metadata": {
        "id": "M6r5c2ES7ubW"
      },
      "source": [
        "TorchText's `Field`s handle how data should be processed. All of the possible arguments are detailed [here](https://github.com/pytorch/text/blob/master/torchtext/data/field.py#L61). \n",
        "\n",
        "We set the `tokenize` argument to the correct tokenization function for each, with German being the `SRC` (source) field and English being the `TRG` (target) field. The field also appends the \"start of sequence\" and \"end of sequence\" tokens via the `init_token` and `eos_token` arguments, and converts all words to lowercase."
      ]
    },
    {
      "cell_type": "code",
      "metadata": {
        "id": "VW1TzGB87ubW"
      },
      "source": [
        "SRC = Field(tokenize = tokenize_en, \n",
        "            init_token = '<sos>', \n",
        "            eos_token = '<eos>', \n",
        "            lower = True)\n",
        "\n",
        "TRG = Field(tokenize = tokenize_de, \n",
        "            init_token = '<sos>', \n",
        "            eos_token = '<eos>', \n",
        "            lower = True)"
      ],
      "execution_count": 7,
      "outputs": []
    },
    {
      "cell_type": "markdown",
      "metadata": {
        "id": "vs4hdZXA7ubW"
      },
      "source": [
        "Next, we download and load the train, validation and test data. \n",
        "\n",
        "The dataset we'll be using is the [Multi30k dataset](https://github.com/multi30k/dataset). This is a dataset with ~30,000 parallel English, German and French sentences, each with ~12 words per sentence. \n",
        "\n",
        "`exts` specifies which languages to use as the source and target (source goes first) and `fields` specifies which field to use for the source and target."
      ]
    },
    {
      "cell_type": "code",
      "metadata": {
        "id": "fd7Abnja7ubW",
        "colab": {
          "base_uri": "https://localhost:8080/"
        },
        "outputId": "6f8d8b40-354b-40f9-fe0a-cbf3416de93d"
      },
      "source": [
        "train_data, valid_data, test_data = Multi30k.splits(exts = ('.en', '.de'), \n",
        "                                                    fields = (SRC, TRG))"
      ],
      "execution_count": 8,
      "outputs": [
        {
          "output_type": "stream",
          "text": [
            "downloading training.tar.gz\n"
          ],
          "name": "stdout"
        },
        {
          "output_type": "stream",
          "text": [
            "training.tar.gz: 100%|██████████| 1.21M/1.21M [00:04<00:00, 300kB/s]\n"
          ],
          "name": "stderr"
        },
        {
          "output_type": "stream",
          "text": [
            "downloading validation.tar.gz\n"
          ],
          "name": "stdout"
        },
        {
          "output_type": "stream",
          "text": [
            "validation.tar.gz: 100%|██████████| 46.3k/46.3k [00:00<00:00, 92.5kB/s]\n"
          ],
          "name": "stderr"
        },
        {
          "output_type": "stream",
          "text": [
            "downloading mmt_task1_test2016.tar.gz\n"
          ],
          "name": "stdout"
        },
        {
          "output_type": "stream",
          "text": [
            "mmt_task1_test2016.tar.gz: 100%|██████████| 66.2k/66.2k [00:00<00:00, 87.4kB/s]\n"
          ],
          "name": "stderr"
        }
      ]
    },
    {
      "cell_type": "markdown",
      "metadata": {
        "id": "WjO3g2PN7ubW"
      },
      "source": [
        "We can double check that we've loaded the right number of examples:"
      ]
    },
    {
      "cell_type": "code",
      "metadata": {
        "id": "aEsfdQFi7ubW",
        "colab": {
          "base_uri": "https://localhost:8080/"
        },
        "outputId": "949e4b8a-0f03-4ad4-d214-3a6170b51fce"
      },
      "source": [
        "print(f\"Number of training examples: {len(train_data.examples)}\")\n",
        "print(f\"Number of validation examples: {len(valid_data.examples)}\")\n",
        "print(f\"Number of testing examples: {len(test_data.examples)}\")"
      ],
      "execution_count": 9,
      "outputs": [
        {
          "output_type": "stream",
          "text": [
            "Number of training examples: 29000\n",
            "Number of validation examples: 1014\n",
            "Number of testing examples: 1000\n"
          ],
          "name": "stdout"
        }
      ]
    },
    {
      "cell_type": "markdown",
      "metadata": {
        "id": "EuyDrsG37ubX"
      },
      "source": [
        "We can also print out an example, making sure the source sentence is reversed:"
      ]
    },
    {
      "cell_type": "code",
      "metadata": {
        "id": "pk3JSFei7ubX",
        "colab": {
          "base_uri": "https://localhost:8080/"
        },
        "outputId": "c6dc5cbf-de43-4c47-900c-a7b4e2ec6813"
      },
      "source": [
        "print(vars(train_data.examples[0]))"
      ],
      "execution_count": 10,
      "outputs": [
        {
          "output_type": "stream",
          "text": [
            "{'src': ['two', 'young', ',', 'white', 'males', 'are', 'outside', 'near', 'many', 'bushes', '.'], 'trg': ['.', 'büsche', 'vieler', 'nähe', 'der', 'in', 'freien', 'im', 'sind', 'männer', 'weiße', 'junge', 'zwei']}\n"
          ],
          "name": "stdout"
        }
      ]
    },
    {
      "cell_type": "markdown",
      "metadata": {
        "id": "QVtDoqA1DEyn"
      },
      "source": [
        "https://www.programiz.com/python-programming/methods/built-in/vars"
      ]
    },
    {
      "cell_type": "markdown",
      "metadata": {
        "id": "m0l94cJM7ubX"
      },
      "source": [
        "The period is at the beginning of the German (src) sentence, so it looks like the sentence has been correctly reversed.\n",
        "\n",
        "Next, we'll build the *vocabulary* for the source and target languages. The vocabulary is used to associate each unique token with an index (an integer). The vocabularies of the source and target languages are distinct.\n",
        "\n",
        "Using the `min_freq` argument, we only allow tokens that appear at least 2 times to appear in our vocabulary. Tokens that appear only once are converted into an `<unk>` (unknown) token.\n",
        "\n",
        "It is important to note that our vocabulary should only be built from the training set and not the validation/test set. This prevents \"information leakage\" into our model, giving us artifically inflated validation/test scores."
      ]
    },
    {
      "cell_type": "code",
      "metadata": {
        "id": "GA1rdFW87ubX"
      },
      "source": [
        "SRC.build_vocab(train_data, min_freq = 2)\n",
        "TRG.build_vocab(train_data, min_freq = 2)"
      ],
      "execution_count": 11,
      "outputs": []
    },
    {
      "cell_type": "code",
      "metadata": {
        "id": "KOjSLO0u7ubX",
        "colab": {
          "base_uri": "https://localhost:8080/"
        },
        "outputId": "fd43c69f-456f-49f7-ca25-aad4f51f4426"
      },
      "source": [
        "print(f\"Unique tokens in source (de) vocabulary: {len(SRC.vocab)}\")\n",
        "print(f\"Unique tokens in target (en) vocabulary: {len(TRG.vocab)}\")"
      ],
      "execution_count": 12,
      "outputs": [
        {
          "output_type": "stream",
          "text": [
            "Unique tokens in source (de) vocabulary: 5893\n",
            "Unique tokens in target (en) vocabulary: 7855\n"
          ],
          "name": "stdout"
        }
      ]
    },
    {
      "cell_type": "code",
      "metadata": {
        "id": "7WAt7ECtoawR"
      },
      "source": [
        "vars(SRC.vocab)"
      ],
      "execution_count": null,
      "outputs": []
    },
    {
      "cell_type": "markdown",
      "metadata": {
        "id": "VAQhG3wy7ubY"
      },
      "source": [
        "The final step of preparing the data is to create the iterators. These can be iterated on to return a batch of data which will have a `src` attribute (the PyTorch tensors containing a batch of numericalized source sentences) and a `trg` attribute (the PyTorch tensors containing a batch of numericalized target sentences). Numericalized is just a fancy way of saying they have been converted from a sequence of readable tokens to a sequence of corresponding indexes, using the vocabulary. \n",
        "\n",
        "We also need to define a `torch.device`. This is used to tell TorchText to put the tensors on the GPU or not. We use the `torch.cuda.is_available()` function, which will return `True` if a GPU is detected on our computer. We pass this `device` to the iterator.\n",
        "\n",
        "When we get a batch of examples using an iterator we need to make sure that all of the source sentences are padded to the same length, the same with the target sentences. Luckily, TorchText iterators handle this for us! \n",
        "\n",
        "We use a `BucketIterator` instead of the standard `Iterator` as it creates batches in such a way that it minimizes the amount of padding in both the source and target sentences. "
      ]
    },
    {
      "cell_type": "code",
      "metadata": {
        "id": "Jrvp3tWW7ubY"
      },
      "source": [
        "device = torch.device('cuda' if torch.cuda.is_available() else 'cpu')"
      ],
      "execution_count": 16,
      "outputs": []
    },
    {
      "cell_type": "code",
      "metadata": {
        "id": "Br5RZU5S7ubY"
      },
      "source": [
        "BATCH_SIZE = 128\n",
        "\n",
        "train_iterator, valid_iterator, test_iterator = BucketIterator.splits(\n",
        "    (train_data, valid_data, test_data), \n",
        "    batch_size = BATCH_SIZE, \n",
        "    device = device)"
      ],
      "execution_count": 17,
      "outputs": []
    },
    {
      "cell_type": "markdown",
      "metadata": {
        "id": "la3yL8L67ubY"
      },
      "source": [
        "## Building the Seq2Seq Model\n",
        "\n",
        "We'll be building our model in three parts. The encoder, the decoder and a seq2seq model that encapsulates the encoder and decoder and will provide a way to interface with each.\n",
        "\n",
        "### Encoder\n",
        "\n",
        "First, the encoder, a 2 layer LSTM. The paper we are implementing uses a 4-layer LSTM, but in the interest of training time we cut this down to 2-layers. The concept of multi-layer RNNs is easy to expand from 2 to 4 layers. \n",
        "\n",
        "For a multi-layer RNN, the input sentence, $X$, after being embedded goes into the first (bottom) layer of the RNN and hidden states, $H=\\{h_1, h_2, ..., h_T\\}$, output by this layer are used as inputs to the RNN in the layer above. Thus, representing each layer with a superscript, the hidden states in the first layer are given by:\n",
        "\n",
        "$$h_t^1 = \\text{EncoderRNN}^1(e(x_t), h_{t-1}^1)$$\n",
        "\n",
        "The hidden states in the second layer are given by:\n",
        "\n",
        "$$h_t^2 = \\text{EncoderRNN}^2(h_t^1, h_{t-1}^2)$$\n",
        "\n",
        "Using a multi-layer RNN also means we'll also need an initial hidden state as input per layer, $h_0^l$, and we will also output a context vector per layer, $z^l$.\n",
        "\n",
        "Without going into too much detail about LSTMs (see [this](https://colah.github.io/posts/2015-08-Understanding-LSTMs/) blog post to learn more about them), all we need to know is that they're a type of RNN which instead of just taking in a hidden state and returning a new hidden state per time-step, also take in and return a *cell state*, $c_t$, per time-step.\n",
        "\n",
        "$$\\begin{align*}\n",
        "h_t &= \\text{RNN}(e(x_t), h_{t-1})\\\\\n",
        "(h_t, c_t) &= \\text{LSTM}(e(x_t), h_{t-1}, c_{t-1})\n",
        "\\end{align*}$$\n",
        "\n",
        "We can just think of $c_t$ as another type of hidden state. Similar to $h_0^l$, $c_0^l$ will be initialized to a tensor of all zeros. Also, our context vector will now be both the final hidden state and the final cell state, i.e. $z^l = (h_T^l, c_T^l)$.\n",
        "\n",
        "Extending our multi-layer equations to LSTMs, we get:\n",
        "\n",
        "$$\\begin{align*}\n",
        "(h_t^1, c_t^1) &= \\text{EncoderLSTM}^1(e(x_t), (h_{t-1}^1, c_{t-1}^1))\\\\\n",
        "(h_t^2, c_t^2) &= \\text{EncoderLSTM}^2(h_t^1, (h_{t-1}^2, c_{t-1}^2))\n",
        "\\end{align*}$$\n",
        "\n",
        "Note how only our hidden state from the first layer is passed as input to the second layer, and not the cell state.\n",
        "\n",
        "So our encoder looks something like this: \n",
        "\n",
        "![](https://github.com/bentrevett/pytorch-seq2seq/blob/master/assets/seq2seq2.png?raw=1)\n",
        "\n",
        "We create this in code by making an `Encoder` module, which requires we inherit from `torch.nn.Module` and use the `super().__init__()` as some boilerplate code. The encoder takes the following arguments:\n",
        "- `input_dim` is the size/dimensionality of the one-hot vectors that will be input to the encoder. This is equal to the input (source) vocabulary size.\n",
        "- `emb_dim` is the dimensionality of the embedding layer. This layer converts the one-hot vectors into dense vectors with `emb_dim` dimensions. \n",
        "- `hid_dim` is the dimensionality of the hidden and cell states.\n",
        "- `n_layers` is the number of layers in the RNN.\n",
        "- `dropout` is the amount of dropout to use. This is a regularization parameter to prevent overfitting. Check out [this](https://www.coursera.org/lecture/deep-neural-network/understanding-dropout-YaGbR) for more details about dropout.\n",
        "\n",
        "We aren't going to discuss the embedding layer in detail during these tutorials. All we need to know is that there is a step before the words - technically, the indexes of the words - are passed into the RNN, where the words are transformed into vectors. To read more about word embeddings, check these articles: [1](https://monkeylearn.com/blog/word-embeddings-transform-text-numbers/), [2](http://p.migdal.pl/2017/01/06/king-man-woman-queen-why.html), [3](http://mccormickml.com/2016/04/19/word2vec-tutorial-the-skip-gram-model/), [4](http://mccormickml.com/2017/01/11/word2vec-tutorial-part-2-negative-sampling/). \n",
        "\n",
        "The embedding layer is created using `nn.Embedding`, the LSTM with `nn.LSTM` and a dropout layer with `nn.Dropout`. Check the PyTorch [documentation](https://pytorch.org/docs/stable/nn.html) for more about these.\n",
        "\n",
        "One thing to note is that the `dropout` argument to the LSTM is how much dropout to apply between the layers of a multi-layer RNN, i.e. between the hidden states output from layer $l$ and those same hidden states being used for the input of layer $l+1$.\n",
        "\n",
        "In the `forward` method, we pass in the source sentence, $X$, which is converted into dense vectors using the `embedding` layer, and then dropout is applied. These embeddings are then passed into the RNN. As we pass a whole sequence to the RNN, it will automatically do the recurrent calculation of the hidden states over the whole sequence for us! Notice that we do not pass an initial hidden or cell state to the RNN. This is because, as noted in the [documentation](https://pytorch.org/docs/stable/nn.html#torch.nn.LSTM), that if no hidden/cell state is passed to the RNN, it will automatically create an initial hidden/cell state as a tensor of all zeros. \n",
        "\n",
        "The RNN returns: `outputs` (the top-layer hidden state for each time-step), `hidden` (the final hidden state for each layer, $h_T$, stacked on top of each other) and `cell` (the final cell state for each layer, $c_T$, stacked on top of each other).\n",
        "\n",
        "As we only need the final hidden and cell states (to make our context vector), `forward` only returns `hidden` and `cell`. \n",
        "\n",
        "The sizes of each of the tensors is left as comments in the code. In this implementation `n_directions` will always be 1, however note that bidirectional RNNs (covered in tutorial 3) will have `n_directions` as 2."
      ]
    },
    {
      "cell_type": "code",
      "metadata": {
        "id": "7jMJVcoU7ubY"
      },
      "source": [
        "class Encoder(nn.Module):\n",
        "    def __init__(self, input_dim, emb_dim, hid_dim, n_layers, dropout):\n",
        "        super().__init__()\n",
        "        \n",
        "        self.hid_dim = hid_dim\n",
        "        self.n_layers = n_layers\n",
        "        \n",
        "        self.embedding = nn.Embedding(input_dim, emb_dim)\n",
        "        \n",
        "        self.rnn = nn.LSTM(emb_dim, hid_dim, n_layers, dropout = dropout)\n",
        "        # Here you can use nn.GRU(emb_dim, hid_dim) or \n",
        "        # nn.RNN(emb_dim, hid_dim, n_layers, dropout = dropout)\n",
        "        \n",
        "        self.dropout = nn.Dropout(dropout)\n",
        "        \n",
        "    def forward(self, src):\n",
        "        \n",
        "        #src = [src len, batch size]\n",
        "        \n",
        "        embedded = self.dropout(self.embedding(src))\n",
        "        \n",
        "        #embedded = [src len, batch size, emb dim]\n",
        "        \n",
        "        outputs, (hidden, cell) = self.rnn(embedded)\n",
        "        \n",
        "        #outputs = [src len, batch size, hid dim * n directions]\n",
        "        #hidden = [n layers * n directions, batch size, hid dim]\n",
        "        #cell = [n layers * n directions, batch size, hid dim]\n",
        "        \n",
        "        #outputs are always from the top hidden layer\n",
        "        \n",
        "        return hidden, cell"
      ],
      "execution_count": 18,
      "outputs": []
    },
    {
      "cell_type": "markdown",
      "metadata": {
        "id": "VmHNYJx37ubY"
      },
      "source": [
        "### Decoder\n",
        "\n",
        "Next, we'll build our decoder, which will also be a 2-layer (4 in the paper) LSTM.\n",
        "\n",
        "![](https://github.com/bentrevett/pytorch-seq2seq/blob/master/assets/seq2seq3.png?raw=1)\n",
        "\n",
        "The `Decoder` class does a single step of decoding, i.e. it ouputs single token per time-step. The first layer will receive a hidden and cell state from the previous time-step, $(s_{t-1}^1, c_{t-1}^1)$, and feeds it through the LSTM with the current embedded token, $y_t$, to produce a new hidden and cell state, $(s_t^1, c_t^1)$. The subsequent layers will use the hidden state from the layer below, $s_t^{l-1}$, and the previous hidden and cell states from their layer, $(s_{t-1}^l, c_{t-1}^l)$. This provides equations very similar to those in the encoder.\n",
        "\n",
        "$$\\begin{align*}\n",
        "(s_t^1, c_t^1) = \\text{DecoderLSTM}^1(d(y_t), (s_{t-1}^1, c_{t-1}^1))\\\\\n",
        "(s_t^2, c_t^2) = \\text{DecoderLSTM}^2(s_t^1, (s_{t-1}^2, c_{t-1}^2))\n",
        "\\end{align*}$$\n",
        "\n",
        "Remember that the initial hidden and cell states to our decoder are our context vectors, which are the final hidden and cell states of our encoder from the same layer, i.e. $(s_0^l,c_0^l)=z^l=(h_T^l,c_T^l)$.\n",
        "\n",
        "We then pass the hidden state from the top layer of the RNN, $s_t^L$, through a linear layer, $f$, to make a prediction of what the next token in the target (output) sequence should be, $\\hat{y}_{t+1}$. \n",
        "\n",
        "$$\\hat{y}_{t+1} = f(s_t^L)$$\n",
        "\n",
        "The arguments and initialization are similar to the `Encoder` class, except we now have an `output_dim` which is the size of the vocabulary for the output/target. There is also the addition of the `Linear` layer, used to make the predictions from the top layer hidden state.\n",
        "\n",
        "Within the `forward` method, we accept a batch of input tokens, previous hidden states and previous cell states. As we are only decoding one token at a time, the input tokens will always have a sequence length of 1. We `unsqueeze` the input tokens to add a sentence length dimension of 1. Then, similar to the encoder, we pass through an embedding layer and apply dropout. This batch of embedded tokens is then passed into the RNN with the previous hidden and cell states. This produces an `output` (hidden state from the top layer of the RNN), a new `hidden` state (one for each layer, stacked on top of each other) and a new `cell` state (also one per layer, stacked on top of each other). We then pass the `output` (after getting rid of the sentence length dimension) through the linear layer to receive our `prediction`. We then return the `prediction`, the new `hidden` state and the new `cell` state.\n",
        "\n",
        "**Note**: as we always have a sequence length of 1, we could use `nn.LSTMCell`, instead of `nn.LSTM`, as it is designed to handle a batch of inputs that aren't necessarily in a sequence. `nn.LSTMCell` is just a single cell and `nn.LSTM` is a wrapper around potentially multiple cells. Using the `nn.LSTMCell` in this case would mean we don't have to `unsqueeze` to add a fake sequence length dimension, but we would need one `nn.LSTMCell` per layer in the decoder and to ensure each `nn.LSTMCell` receives the correct initial hidden state from the encoder. All of this makes the code less concise - hence the decision to stick with the regular `nn.LSTM`."
      ]
    },
    {
      "cell_type": "code",
      "metadata": {
        "id": "2_9T70-B7ubY"
      },
      "source": [
        "class Decoder(nn.Module):\n",
        "    def __init__(self, output_dim, emb_dim, hid_dim, n_layers, dropout):\n",
        "        super().__init__()\n",
        "        \n",
        "        self.output_dim = output_dim\n",
        "        self.hid_dim = hid_dim\n",
        "        self.n_layers = n_layers\n",
        "        \n",
        "        self.embedding = nn.Embedding(output_dim, emb_dim)\n",
        "        \n",
        "        self.rnn = nn.LSTM(emb_dim, hid_dim, n_layers, dropout = dropout)\n",
        "        \n",
        "        self.fc_out = nn.Linear(hid_dim, output_dim)\n",
        "        \n",
        "        self.dropout = nn.Dropout(dropout)\n",
        "        \n",
        "    def forward(self, input, hidden, cell):\n",
        "        \n",
        "        #input = [batch size]\n",
        "        #hidden = [n layers * n directions, batch size, hid dim]\n",
        "        #cell = [n layers * n directions, batch size, hid dim]\n",
        "        \n",
        "        #n directions in the decoder will both always be 1, therefore:\n",
        "        #hidden = [n layers, batch size, hid dim]\n",
        "        #context = [n layers, batch size, hid dim]\n",
        "        \n",
        "        input = input.unsqueeze(0)\n",
        "        \n",
        "        #input = [1, batch size]\n",
        "        \n",
        "        embedded = self.dropout(self.embedding(input))\n",
        "        \n",
        "        #embedded = [1, batch size, emb dim]\n",
        "                \n",
        "        output, (hidden, cell) = self.rnn(embedded, (hidden, cell))\n",
        "        \n",
        "        #output = [seq len, batch size, hid dim * n directions]\n",
        "        #hidden = [n layers * n directions, batch size, hid dim]\n",
        "        #cell = [n layers * n directions, batch size, hid dim]\n",
        "        \n",
        "        #seq len and n directions will always be 1 in the decoder, therefore:\n",
        "        #output = [1, batch size, hid dim]\n",
        "        #hidden = [n layers, batch size, hid dim]\n",
        "        #cell = [n layers, batch size, hid dim]\n",
        "        \n",
        "        prediction = self.fc_out(output.squeeze(0))\n",
        "        \n",
        "        #prediction = [batch size, output dim]\n",
        "        \n",
        "        return prediction, hidden, cell"
      ],
      "execution_count": 19,
      "outputs": []
    },
    {
      "cell_type": "markdown",
      "metadata": {
        "id": "Tojj2Tlm7ubY"
      },
      "source": [
        "### Seq2Seq\n",
        "\n",
        "For the final part of the implemenetation, we'll implement the seq2seq model. This will handle: \n",
        "- receiving the input/source sentence\n",
        "- using the encoder to produce the context vectors \n",
        "- using the decoder to produce the predicted output/target sentence\n",
        "\n",
        "Our full model will look like this:\n",
        "\n",
        "![](https://github.com/bentrevett/pytorch-seq2seq/blob/master/assets/seq2seq4.png?raw=1)\n",
        "\n",
        "The `Seq2Seq` model takes in an `Encoder`, `Decoder`, and a `device` (used to place tensors on the GPU, if it exists).\n",
        "\n",
        "For this implementation, we have to ensure that the number of layers and the hidden (and cell) dimensions are equal in the `Encoder` and `Decoder`. This is not always the case, we do not necessarily need the same number of layers or the same hidden dimension sizes in a sequence-to-sequence model. However, if we did something like having a different number of layers then we would need to make decisions about how this is handled. For example, if our encoder has 2 layers and our decoder only has 1, how is this handled? Do we average the two context vectors output by the decoder? Do we pass both through a linear layer? Do we only use the context vector from the highest layer? Etc.\n",
        "\n",
        "Our `forward` method takes the source sentence, target sentence and a teacher-forcing ratio. The teacher forcing ratio is used when training our model. When decoding, at each time-step we will predict what the next token in the target sequence will be from the previous tokens decoded, $\\hat{y}_{t+1}=f(s_t^L)$. With probability equal to the teaching forcing ratio (`teacher_forcing_ratio`) we will use the actual ground-truth next token in the sequence as the input to the decoder during the next time-step. However, with probability `1 - teacher_forcing_ratio`, we will use the token that the model predicted as the next input to the model, even if it doesn't match the actual next token in the sequence.  \n",
        "\n",
        "The first thing we do in the `forward` method is to create an `outputs` tensor that will store all of our predictions, $\\hat{Y}$.\n",
        "\n",
        "We then feed the input/source sentence, `src`, into the encoder and receive out final hidden and cell states.\n",
        "\n",
        "The first input to the decoder is the start of sequence (`<sos>`) token. As our `trg` tensor already has the `<sos>` token appended (all the way back when we defined the `init_token` in our `TRG` field) we get our $y_1$ by slicing into it. We know how long our target sentences should be (`max_len`), so we loop that many times. The last token input into the decoder is the one **before** the `<eos>` token - the `<eos>` token is never input into the decoder. \n",
        "\n",
        "During each iteration of the loop, we:\n",
        "- pass the input, previous hidden and previous cell states ($y_t, s_{t-1}, c_{t-1}$) into the decoder\n",
        "- receive a prediction, next hidden state and next cell state ($\\hat{y}_{t+1}, s_{t}, c_{t}$) from the decoder\n",
        "- place our prediction, $\\hat{y}_{t+1}$/`output` in our tensor of predictions, $\\hat{Y}$/`outputs`\n",
        "- decide if we are going to \"teacher force\" or not\n",
        "    - if we do, the next `input` is the ground-truth next token in the sequence, $y_{t+1}$/`trg[t]`\n",
        "    - if we don't, the next `input` is the predicted next token in the sequence, $\\hat{y}_{t+1}$/`top1`, which we get by doing an `argmax` over the output tensor\n",
        "    \n",
        "Once we've made all of our predictions, we return our tensor full of predictions, $\\hat{Y}$/`outputs`.\n",
        "\n",
        "**Note**: our decoder loop starts at 1, not 0. This means the 0th element of our `outputs` tensor remains all zeros. So our `trg` and `outputs` look something like:\n",
        "\n",
        "$$\\begin{align*}\n",
        "\\text{trg} = [<sos>, &y_1, y_2, y_3, <eos>]\\\\\n",
        "\\text{outputs} = [0, &\\hat{y}_1, \\hat{y}_2, \\hat{y}_3, <eos>]\n",
        "\\end{align*}$$\n",
        "\n",
        "Later on when we calculate the loss, we cut off the first element of each tensor to get:\n",
        "\n",
        "$$\\begin{align*}\n",
        "\\text{trg} = [&y_1, y_2, y_3, <eos>]\\\\\n",
        "\\text{outputs} = [&\\hat{y}_1, \\hat{y}_2, \\hat{y}_3, <eos>]\n",
        "\\end{align*}$$"
      ]
    },
    {
      "cell_type": "code",
      "metadata": {
        "id": "i8wToa0Z7ubY"
      },
      "source": [
        "class Seq2Seq(nn.Module):\n",
        "    def __init__(self, encoder, decoder, device):\n",
        "        super().__init__()\n",
        "        \n",
        "        self.encoder = encoder\n",
        "        self.decoder = decoder\n",
        "        self.device = device\n",
        "        \n",
        "        assert encoder.hid_dim == decoder.hid_dim, \\\n",
        "            \"Hidden dimensions of encoder and decoder must be equal!\"\n",
        "        assert encoder.n_layers == decoder.n_layers, \\\n",
        "            \"Encoder and decoder must have equal number of layers!\"\n",
        "        \n",
        "    def forward(self, src, trg, teacher_forcing_ratio = 0.5):\n",
        "        \n",
        "        #src = [src len, batch size]\n",
        "        #trg = [trg len, batch size]\n",
        "        #teacher_forcing_ratio is probability to use teacher forcing\n",
        "        #e.g. if teacher_forcing_ratio is 0.75 we use ground-truth inputs 75% of the time\n",
        "        \n",
        "        batch_size = trg.shape[1]\n",
        "        trg_len = trg.shape[0]\n",
        "        trg_vocab_size = self.decoder.output_dim\n",
        "        \n",
        "        #tensor to store decoder outputs\n",
        "        outputs = torch.zeros(trg_len, batch_size, trg_vocab_size).to(self.device)\n",
        "        \n",
        "        #last hidden state of the encoder is used as the initial hidden state of the decoder\n",
        "        hidden, cell = self.encoder(src)\n",
        "        \n",
        "        #first input to the decoder is the <sos> tokens\n",
        "        input = trg[0,:]\n",
        "        \n",
        "        for t in range(1, trg_len):\n",
        "            \n",
        "            #insert input token embedding, previous hidden and previous cell states\n",
        "            #receive output tensor (predictions) and new hidden and cell states\n",
        "            output, hidden, cell = self.decoder(input, hidden, cell)\n",
        "            \n",
        "            #place predictions in a tensor holding predictions for each token\n",
        "            outputs[t] = output\n",
        "            \n",
        "            #decide if we are going to use teacher forcing or not\n",
        "            teacher_force = random.random() < teacher_forcing_ratio\n",
        "            \n",
        "            #get the highest predicted token from our predictions\n",
        "            top1 = output.argmax(1) \n",
        "            \n",
        "            #if teacher forcing, use actual next token as next input\n",
        "            #if not, use predicted token\n",
        "            input = trg[t] if teacher_force else top1\n",
        "        \n",
        "        return outputs"
      ],
      "execution_count": 20,
      "outputs": []
    },
    {
      "cell_type": "markdown",
      "metadata": {
        "id": "R8GEyDko7ubY"
      },
      "source": [
        "# Training the Seq2Seq Model\n",
        "\n",
        "Now we have our model implemented, we can begin training it. \n",
        "\n",
        "First, we'll initialize our model. As mentioned before, the input and output dimensions are defined by the size of the vocabulary. The embedding dimesions and dropout for the encoder and decoder can be different, but the number of layers and the size of the hidden/cell states must be the same. \n",
        "\n",
        "We then define the encoder, decoder and then our Seq2Seq model, which we place on the `device`."
      ]
    },
    {
      "cell_type": "code",
      "metadata": {
        "id": "MOqu2mwa7ubY"
      },
      "source": [
        "INPUT_DIM = len(SRC.vocab)\n",
        "OUTPUT_DIM = len(TRG.vocab)\n",
        "ENC_EMB_DIM = 256\n",
        "DEC_EMB_DIM = 256\n",
        "HID_DIM = 512\n",
        "N_LAYERS = 3\n",
        "ENC_DROPOUT = 0.5\n",
        "DEC_DROPOUT = 0.8\n",
        "\n",
        "enc = Encoder(INPUT_DIM, ENC_EMB_DIM, HID_DIM, N_LAYERS, ENC_DROPOUT)\n",
        "dec = Decoder(OUTPUT_DIM, DEC_EMB_DIM, HID_DIM, N_LAYERS, DEC_DROPOUT)\n",
        "\n",
        "model = Seq2Seq(enc, dec, device).to(device)"
      ],
      "execution_count": 21,
      "outputs": []
    },
    {
      "cell_type": "code",
      "metadata": {
        "id": "cr1IvVUc63n6"
      },
      "source": [
        ""
      ],
      "execution_count": null,
      "outputs": []
    },
    {
      "cell_type": "markdown",
      "metadata": {
        "id": "mPsLIP-J7ubY"
      },
      "source": [
        "Next up is initializing the weights of our model. In the paper they state they initialize all weights from a uniform distribution between -0.08 and +0.08, i.e. $\\mathcal{U}(-0.08, 0.08)$.\n",
        "\n",
        "We initialize weights in PyTorch by creating a function which we `apply` to our model. When using `apply`, the `init_weights` function will be called on every module and sub-module within our model. For each module we loop through all of the parameters and sample them from a uniform distribution with `nn.init.uniform_`."
      ]
    },
    {
      "cell_type": "code",
      "metadata": {
        "id": "1Del5cn67ubY",
        "colab": {
          "base_uri": "https://localhost:8080/"
        },
        "outputId": "74f16255-7aad-4e83-c51f-09c912ee15d6"
      },
      "source": [
        "def init_weights(m):\n",
        "    for name, param in m.named_parameters():\n",
        "        nn.init.uniform_(param.data, -0.08, 0.08)\n",
        "        \n",
        "model.apply(init_weights)"
      ],
      "execution_count": 22,
      "outputs": [
        {
          "output_type": "execute_result",
          "data": {
            "text/plain": [
              "Seq2Seq(\n",
              "  (encoder): Encoder(\n",
              "    (embedding): Embedding(5893, 256)\n",
              "    (rnn): LSTM(256, 512, num_layers=3, dropout=0.5)\n",
              "    (dropout): Dropout(p=0.5, inplace=False)\n",
              "  )\n",
              "  (decoder): Decoder(\n",
              "    (embedding): Embedding(7855, 256)\n",
              "    (rnn): LSTM(256, 512, num_layers=3, dropout=0.8)\n",
              "    (fc_out): Linear(in_features=512, out_features=7855, bias=True)\n",
              "    (dropout): Dropout(p=0.8, inplace=False)\n",
              "  )\n",
              ")"
            ]
          },
          "metadata": {
            "tags": []
          },
          "execution_count": 22
        }
      ]
    },
    {
      "cell_type": "code",
      "metadata": {
        "id": "kbAzQbWbC_CR",
        "colab": {
          "base_uri": "https://localhost:8080/"
        },
        "outputId": "d533a5a9-5701-4cb2-ed4e-8dc8a9ee8d04"
      },
      "source": [
        "w = torch.zeros(3, 5)\n",
        "print(w)\n",
        "nn.init.uniform_(w)\n",
        "print(w)"
      ],
      "execution_count": 23,
      "outputs": [
        {
          "output_type": "stream",
          "text": [
            "tensor([[0., 0., 0., 0., 0.],\n",
            "        [0., 0., 0., 0., 0.],\n",
            "        [0., 0., 0., 0., 0.]])\n",
            "tensor([[0.8454, 0.2419, 0.8817, 0.2492, 0.6684],\n",
            "        [0.3801, 0.0176, 0.6638, 0.9933, 0.7593],\n",
            "        [0.8080, 0.2283, 0.2845, 0.2050, 0.0490]])\n"
          ],
          "name": "stdout"
        }
      ]
    },
    {
      "cell_type": "markdown",
      "metadata": {
        "id": "1yLSBAlm7ubY"
      },
      "source": [
        "We also define a function that will calculate the number of trainable parameters in the model."
      ]
    },
    {
      "cell_type": "code",
      "metadata": {
        "id": "n2_mqWwF7ubY",
        "colab": {
          "base_uri": "https://localhost:8080/"
        },
        "outputId": "89506bb9-034e-4d91-e2ce-6e32bf1fe1da"
      },
      "source": [
        "def count_parameters(model):\n",
        "    return sum(p.numel() for p in model.parameters() if p.requires_grad)\n",
        "\n",
        "print(f'The model has {count_parameters(model):,} trainable parameters')"
      ],
      "execution_count": 24,
      "outputs": [
        {
          "output_type": "stream",
          "text": [
            "The model has 19,108,015 trainable parameters\n"
          ],
          "name": "stdout"
        }
      ]
    },
    {
      "cell_type": "markdown",
      "metadata": {
        "id": "brtROa2O7ubY"
      },
      "source": [
        "We define our optimizer, which we use to update our parameters in the training loop. Check out [this](http://ruder.io/optimizing-gradient-descent/) post for information about different optimizers. Here, we'll use Adam."
      ]
    },
    {
      "cell_type": "code",
      "metadata": {
        "id": "aWtOt8W97ubY"
      },
      "source": [
        "optimizer = optim.Adam(model.parameters(), lr=0.0001)"
      ],
      "execution_count": 25,
      "outputs": []
    },
    {
      "cell_type": "markdown",
      "metadata": {
        "id": "wTdFbb4W7ubY"
      },
      "source": [
        "Next, we define our loss function. The `CrossEntropyLoss` function calculates both the log softmax as well as the negative log-likelihood of our predictions. \n",
        "\n",
        "Our loss function calculates the average loss per token, however by passing the index of the `<pad>` token as the `ignore_index` argument we ignore the loss whenever the target token is a padding token. "
      ]
    },
    {
      "cell_type": "code",
      "metadata": {
        "id": "aQASatct7ubY"
      },
      "source": [
        "TRG_PAD_IDX = TRG.vocab.stoi[TRG.pad_token]\n",
        "\n",
        "criterion = nn.CrossEntropyLoss(ignore_index = TRG_PAD_IDX)"
      ],
      "execution_count": 26,
      "outputs": []
    },
    {
      "cell_type": "markdown",
      "metadata": {
        "id": "g6RVuL_R7ubY"
      },
      "source": [
        "Next, we'll define our training loop. \n",
        "\n",
        "First, we'll set the model into \"training mode\" with `model.train()`. This will turn on dropout (and batch normalization, which we aren't using) and then iterate through our data iterator.\n",
        "\n",
        "As stated before, our decoder loop starts at 1, not 0. This means the 0th element of our `outputs` tensor remains all zeros. So our `trg` and `outputs` look something like:\n",
        "\n",
        "$$\\begin{align*}\n",
        "\\text{trg} = [<sos>, &y_1, y_2, y_3, <eos>]\\\\\n",
        "\\text{outputs} = [0, &\\hat{y}_1, \\hat{y}_2, \\hat{y}_3, <eos>]\n",
        "\\end{align*}$$\n",
        "\n",
        "Here, when we calculate the loss, we cut off the first element of each tensor to get:\n",
        "\n",
        "$$\\begin{align*}\n",
        "\\text{trg} = [&y_1, y_2, y_3, <eos>]\\\\\n",
        "\\text{outputs} = [&\\hat{y}_1, \\hat{y}_2, \\hat{y}_3, <eos>]\n",
        "\\end{align*}$$\n",
        "\n",
        "At each iteration:\n",
        "- get the source and target sentences from the batch, $X$ and $Y$\n",
        "- zero the gradients calculated from the last batch\n",
        "- feed the source and target into the model to get the output, $\\hat{Y}$\n",
        "- as the loss function only works on 2d inputs with 1d targets we need to flatten each of them with `.view`\n",
        "    - we slice off the first column of the output and target tensors as mentioned above\n",
        "- calculate the gradients with `loss.backward()`\n",
        "- clip the gradients to prevent them from exploding (a common issue in RNNs)\n",
        "- update the parameters of our model by doing an optimizer step\n",
        "- sum the loss value to a running total\n",
        "\n",
        "Finally, we return the loss that is averaged over all batches."
      ]
    },
    {
      "cell_type": "code",
      "metadata": {
        "id": "lzO_3aRh7ubY"
      },
      "source": [
        "def train(model, iterator, optimizer, criterion, clip):\n",
        "    \n",
        "    model.train()\n",
        "    \n",
        "    epoch_loss = 0\n",
        "    \n",
        "    for i, batch in enumerate(iterator):\n",
        "        \n",
        "        src = batch.src\n",
        "        trg = batch.trg\n",
        "        \n",
        "        optimizer.zero_grad()\n",
        "        \n",
        "        output = model(src, trg)\n",
        "        \n",
        "        #trg = [trg len, batch size]\n",
        "        #output = [trg len, batch size, output dim]\n",
        "        \n",
        "        output_dim = output.shape[-1]\n",
        "        \n",
        "        output = output[1:].view(-1, output_dim)\n",
        "        trg = trg[1:].view(-1)\n",
        "        \n",
        "        #trg = [(trg len - 1) * batch size]\n",
        "        #output = [(trg len - 1) * batch size, output dim]\n",
        "        \n",
        "        loss = criterion(output, trg)\n",
        "        \n",
        "        loss.backward()\n",
        "        \n",
        "        torch.nn.utils.clip_grad_norm_(model.parameters(), clip)\n",
        "        \n",
        "        optimizer.step()\n",
        "        \n",
        "        epoch_loss += loss.item()\n",
        "        \n",
        "    return epoch_loss / len(iterator)"
      ],
      "execution_count": 27,
      "outputs": []
    },
    {
      "cell_type": "markdown",
      "metadata": {
        "id": "MgPNqmVx7ubZ"
      },
      "source": [
        "Our evaluation loop is similar to our training loop, however as we aren't updating any parameters we don't need to pass an optimizer or a clip value.\n",
        "\n",
        "We must remember to set the model to evaluation mode with `model.eval()`. This will turn off dropout (and batch normalization, if used).\n",
        "\n",
        "We use the `with torch.no_grad()` block to ensure no gradients are calculated within the block. This reduces memory consumption and speeds things up. \n",
        "\n",
        "The iteration loop is similar (without the parameter updates), however we must ensure we turn teacher forcing off for evaluation. This will cause the model to only use it's own predictions to make further predictions within a sentence, which mirrors how it would be used in deployment."
      ]
    },
    {
      "cell_type": "code",
      "metadata": {
        "id": "KE0d_F7B7ubZ"
      },
      "source": [
        "def evaluate(model, iterator, criterion):\n",
        "    \n",
        "    model.eval()\n",
        "    \n",
        "    epoch_loss = 0\n",
        "    \n",
        "    with torch.no_grad():\n",
        "    \n",
        "        for i, batch in enumerate(iterator):\n",
        "\n",
        "            src = batch.src\n",
        "            trg = batch.trg\n",
        "\n",
        "            output = model(src, trg, 0) #turn off teacher forcing\n",
        "\n",
        "            #trg = [trg len, batch size]\n",
        "            #output = [trg len, batch size, output dim]\n",
        "\n",
        "            output_dim = output.shape[-1]\n",
        "            \n",
        "            output = output[1:].view(-1, output_dim)\n",
        "            trg = trg[1:].view(-1)\n",
        "\n",
        "            #trg = [(trg len - 1) * batch size]\n",
        "            #output = [(trg len - 1) * batch size, output dim]\n",
        "\n",
        "            loss = criterion(output, trg)\n",
        "            \n",
        "            epoch_loss += loss.item()\n",
        "        \n",
        "    return epoch_loss / len(iterator)"
      ],
      "execution_count": 28,
      "outputs": []
    },
    {
      "cell_type": "markdown",
      "metadata": {
        "id": "05McGgDx7ubZ"
      },
      "source": [
        "Next, we'll create a function that we'll use to tell us how long an epoch takes."
      ]
    },
    {
      "cell_type": "code",
      "metadata": {
        "id": "El6u-TnV7ubZ"
      },
      "source": [
        "def epoch_time(start_time, end_time):\n",
        "    elapsed_time = end_time - start_time\n",
        "    elapsed_mins = int(elapsed_time / 60)\n",
        "    elapsed_secs = int(elapsed_time - (elapsed_mins * 60))\n",
        "    return elapsed_mins, elapsed_secs"
      ],
      "execution_count": 29,
      "outputs": []
    },
    {
      "cell_type": "markdown",
      "metadata": {
        "id": "kAEYrCwD7ubZ"
      },
      "source": [
        "We can finally start training our model!\n",
        "\n",
        "At each epoch, we'll be checking if our model has achieved the best validation loss so far. If it has, we'll update our best validation loss and save the parameters of our model (called `state_dict` in PyTorch). Then, when we come to test our model, we'll use the saved parameters used to achieve the best validation loss. \n",
        "\n",
        "We'll be printing out both the loss and the perplexity at each epoch. It is easier to see a change in perplexity than a change in loss as the numbers are much bigger."
      ]
    },
    {
      "cell_type": "markdown",
      "metadata": {
        "id": "z_qUg-WrGpGd"
      },
      "source": [
        "![PPL](https://miro.medium.com/max/1050/1*QsEk2VjesgHrXPZilDEv1A.png)"
      ]
    },
    {
      "cell_type": "code",
      "metadata": {
        "id": "N0xD5eES7ubZ",
        "colab": {
          "base_uri": "https://localhost:8080/"
        },
        "outputId": "1ccf1c9d-8bd8-4c0f-a6f3-fedd3f65f6dc"
      },
      "source": [
        "N_EPOCHS = 100\n",
        "CLIP = 1\n",
        "\n",
        "best_valid_loss = float('inf')\n",
        "\n",
        "for epoch in range(N_EPOCHS):\n",
        "    \n",
        "    start_time = time.time()\n",
        "    \n",
        "    train_loss = train(model, train_iterator, optimizer, criterion, CLIP)\n",
        "    valid_loss = evaluate(model, valid_iterator, criterion)\n",
        "    \n",
        "    end_time = time.time()\n",
        "    \n",
        "    epoch_mins, epoch_secs = epoch_time(start_time, end_time)\n",
        "    \n",
        "    if valid_loss < best_valid_loss:\n",
        "        best_valid_loss = valid_loss\n",
        "        torch.save(model.state_dict(), 'tut1-model.pt')\n",
        "    \n",
        "    print(f'Epoch: {epoch+1:02} | Time: {epoch_mins}m {epoch_secs}s')\n",
        "    print(f'\\tTrain Loss: {train_loss:.3f} | Train PPL: {math.exp(train_loss):7.3f}')\n",
        "    print(f'\\t Val. Loss: {valid_loss:.3f} |  Val. PPL: {math.exp(valid_loss):7.3f}')"
      ],
      "execution_count": 30,
      "outputs": [
        {
          "output_type": "stream",
          "text": [
            "Epoch: 01 | Time: 0m 44s\n",
            "\tTrain Loss: 5.721 | Train PPL: 305.314\n",
            "\t Val. Loss: 5.054 |  Val. PPL: 156.704\n",
            "Epoch: 02 | Time: 0m 44s\n",
            "\tTrain Loss: 5.036 | Train PPL: 153.859\n",
            "\t Val. Loss: 5.188 |  Val. PPL: 179.110\n",
            "Epoch: 03 | Time: 0m 44s\n",
            "\tTrain Loss: 4.969 | Train PPL: 143.925\n",
            "\t Val. Loss: 5.187 |  Val. PPL: 178.862\n",
            "Epoch: 04 | Time: 0m 44s\n",
            "\tTrain Loss: 4.928 | Train PPL: 138.148\n",
            "\t Val. Loss: 5.206 |  Val. PPL: 182.354\n",
            "Epoch: 05 | Time: 0m 44s\n",
            "\tTrain Loss: 4.905 | Train PPL: 134.976\n",
            "\t Val. Loss: 5.220 |  Val. PPL: 185.017\n",
            "Epoch: 06 | Time: 0m 44s\n",
            "\tTrain Loss: 4.886 | Train PPL: 132.447\n",
            "\t Val. Loss: 5.195 |  Val. PPL: 180.454\n",
            "Epoch: 07 | Time: 0m 44s\n",
            "\tTrain Loss: 4.866 | Train PPL: 129.813\n",
            "\t Val. Loss: 5.216 |  Val. PPL: 184.213\n",
            "Epoch: 08 | Time: 0m 44s\n",
            "\tTrain Loss: 4.852 | Train PPL: 127.960\n",
            "\t Val. Loss: 5.145 |  Val. PPL: 171.577\n",
            "Epoch: 09 | Time: 0m 44s\n",
            "\tTrain Loss: 4.835 | Train PPL: 125.792\n",
            "\t Val. Loss: 5.050 |  Val. PPL: 156.095\n",
            "Epoch: 10 | Time: 0m 44s\n",
            "\tTrain Loss: 4.811 | Train PPL: 122.883\n",
            "\t Val. Loss: 5.059 |  Val. PPL: 157.418\n",
            "Epoch: 11 | Time: 0m 44s\n",
            "\tTrain Loss: 4.752 | Train PPL: 115.869\n",
            "\t Val. Loss: 4.977 |  Val. PPL: 145.093\n",
            "Epoch: 12 | Time: 0m 44s\n",
            "\tTrain Loss: 4.694 | Train PPL: 109.285\n",
            "\t Val. Loss: 4.935 |  Val. PPL: 139.105\n",
            "Epoch: 13 | Time: 0m 44s\n",
            "\tTrain Loss: 4.642 | Train PPL: 103.729\n",
            "\t Val. Loss: 4.876 |  Val. PPL: 131.080\n",
            "Epoch: 14 | Time: 0m 44s\n",
            "\tTrain Loss: 4.592 | Train PPL:  98.676\n",
            "\t Val. Loss: 4.884 |  Val. PPL: 132.175\n",
            "Epoch: 15 | Time: 0m 44s\n",
            "\tTrain Loss: 4.544 | Train PPL:  94.098\n",
            "\t Val. Loss: 4.809 |  Val. PPL: 122.619\n",
            "Epoch: 16 | Time: 0m 44s\n",
            "\tTrain Loss: 4.507 | Train PPL:  90.655\n",
            "\t Val. Loss: 4.699 |  Val. PPL: 109.860\n",
            "Epoch: 17 | Time: 0m 44s\n",
            "\tTrain Loss: 4.465 | Train PPL:  86.935\n",
            "\t Val. Loss: 4.669 |  Val. PPL: 106.623\n",
            "Epoch: 18 | Time: 0m 44s\n",
            "\tTrain Loss: 4.418 | Train PPL:  82.907\n",
            "\t Val. Loss: 4.665 |  Val. PPL: 106.195\n",
            "Epoch: 19 | Time: 0m 44s\n",
            "\tTrain Loss: 4.383 | Train PPL:  80.076\n",
            "\t Val. Loss: 4.606 |  Val. PPL: 100.063\n",
            "Epoch: 20 | Time: 0m 44s\n",
            "\tTrain Loss: 4.339 | Train PPL:  76.617\n",
            "\t Val. Loss: 4.605 |  Val. PPL:  99.986\n",
            "Epoch: 21 | Time: 0m 44s\n",
            "\tTrain Loss: 4.294 | Train PPL:  73.247\n",
            "\t Val. Loss: 4.591 |  Val. PPL:  98.600\n",
            "Epoch: 22 | Time: 0m 44s\n",
            "\tTrain Loss: 4.248 | Train PPL:  69.932\n",
            "\t Val. Loss: 4.531 |  Val. PPL:  92.816\n",
            "Epoch: 23 | Time: 0m 45s\n",
            "\tTrain Loss: 4.204 | Train PPL:  66.969\n",
            "\t Val. Loss: 4.519 |  Val. PPL:  91.751\n",
            "Epoch: 24 | Time: 0m 44s\n",
            "\tTrain Loss: 4.152 | Train PPL:  63.590\n",
            "\t Val. Loss: 4.487 |  Val. PPL:  88.845\n",
            "Epoch: 25 | Time: 0m 44s\n",
            "\tTrain Loss: 4.111 | Train PPL:  61.020\n",
            "\t Val. Loss: 4.468 |  Val. PPL:  87.162\n",
            "Epoch: 26 | Time: 0m 44s\n",
            "\tTrain Loss: 4.071 | Train PPL:  58.600\n",
            "\t Val. Loss: 4.451 |  Val. PPL:  85.708\n",
            "Epoch: 27 | Time: 0m 44s\n",
            "\tTrain Loss: 4.030 | Train PPL:  56.255\n",
            "\t Val. Loss: 4.461 |  Val. PPL:  86.556\n",
            "Epoch: 28 | Time: 0m 44s\n",
            "\tTrain Loss: 3.996 | Train PPL:  54.395\n",
            "\t Val. Loss: 4.462 |  Val. PPL:  86.667\n",
            "Epoch: 29 | Time: 0m 44s\n",
            "\tTrain Loss: 3.979 | Train PPL:  53.487\n",
            "\t Val. Loss: 4.397 |  Val. PPL:  81.198\n",
            "Epoch: 30 | Time: 0m 44s\n",
            "\tTrain Loss: 3.922 | Train PPL:  50.510\n",
            "\t Val. Loss: 4.407 |  Val. PPL:  82.019\n",
            "Epoch: 31 | Time: 0m 45s\n",
            "\tTrain Loss: 3.878 | Train PPL:  48.336\n",
            "\t Val. Loss: 4.379 |  Val. PPL:  79.738\n",
            "Epoch: 32 | Time: 0m 44s\n",
            "\tTrain Loss: 3.857 | Train PPL:  47.318\n",
            "\t Val. Loss: 4.365 |  Val. PPL:  78.647\n",
            "Epoch: 33 | Time: 0m 44s\n",
            "\tTrain Loss: 3.821 | Train PPL:  45.669\n",
            "\t Val. Loss: 4.384 |  Val. PPL:  80.143\n",
            "Epoch: 34 | Time: 0m 44s\n",
            "\tTrain Loss: 3.789 | Train PPL:  44.221\n",
            "\t Val. Loss: 4.337 |  Val. PPL:  76.455\n",
            "Epoch: 35 | Time: 0m 44s\n",
            "\tTrain Loss: 3.743 | Train PPL:  42.241\n",
            "\t Val. Loss: 4.331 |  Val. PPL:  76.031\n",
            "Epoch: 36 | Time: 0m 44s\n",
            "\tTrain Loss: 3.719 | Train PPL:  41.203\n",
            "\t Val. Loss: 4.337 |  Val. PPL:  76.473\n",
            "Epoch: 37 | Time: 0m 44s\n",
            "\tTrain Loss: 3.683 | Train PPL:  39.756\n",
            "\t Val. Loss: 4.343 |  Val. PPL:  76.950\n",
            "Epoch: 38 | Time: 0m 44s\n",
            "\tTrain Loss: 3.656 | Train PPL:  38.704\n",
            "\t Val. Loss: 4.291 |  Val. PPL:  73.059\n",
            "Epoch: 39 | Time: 0m 44s\n",
            "\tTrain Loss: 3.619 | Train PPL:  37.308\n",
            "\t Val. Loss: 4.318 |  Val. PPL:  75.015\n",
            "Epoch: 40 | Time: 0m 44s\n",
            "\tTrain Loss: 3.596 | Train PPL:  36.435\n",
            "\t Val. Loss: 4.292 |  Val. PPL:  73.119\n",
            "Epoch: 41 | Time: 0m 44s\n",
            "\tTrain Loss: 3.558 | Train PPL:  35.082\n",
            "\t Val. Loss: 4.319 |  Val. PPL:  75.078\n",
            "Epoch: 42 | Time: 0m 44s\n",
            "\tTrain Loss: 3.530 | Train PPL:  34.136\n",
            "\t Val. Loss: 4.292 |  Val. PPL:  73.096\n",
            "Epoch: 43 | Time: 0m 44s\n",
            "\tTrain Loss: 3.508 | Train PPL:  33.380\n",
            "\t Val. Loss: 4.269 |  Val. PPL:  71.433\n",
            "Epoch: 44 | Time: 0m 44s\n",
            "\tTrain Loss: 3.470 | Train PPL:  32.128\n",
            "\t Val. Loss: 4.263 |  Val. PPL:  71.007\n",
            "Epoch: 45 | Time: 0m 44s\n",
            "\tTrain Loss: 3.457 | Train PPL:  31.720\n",
            "\t Val. Loss: 4.286 |  Val. PPL:  72.687\n",
            "Epoch: 46 | Time: 0m 44s\n",
            "\tTrain Loss: 3.435 | Train PPL:  31.037\n",
            "\t Val. Loss: 4.242 |  Val. PPL:  69.554\n",
            "Epoch: 47 | Time: 0m 44s\n",
            "\tTrain Loss: 3.377 | Train PPL:  29.276\n",
            "\t Val. Loss: 4.264 |  Val. PPL:  71.085\n",
            "Epoch: 48 | Time: 0m 44s\n",
            "\tTrain Loss: 3.376 | Train PPL:  29.240\n",
            "\t Val. Loss: 4.260 |  Val. PPL:  70.814\n",
            "Epoch: 49 | Time: 0m 44s\n",
            "\tTrain Loss: 3.344 | Train PPL:  28.328\n",
            "\t Val. Loss: 4.231 |  Val. PPL:  68.789\n",
            "Epoch: 50 | Time: 0m 44s\n",
            "\tTrain Loss: 3.315 | Train PPL:  27.528\n",
            "\t Val. Loss: 4.249 |  Val. PPL:  70.030\n",
            "Epoch: 51 | Time: 0m 44s\n",
            "\tTrain Loss: 3.303 | Train PPL:  27.181\n",
            "\t Val. Loss: 4.259 |  Val. PPL:  70.736\n",
            "Epoch: 52 | Time: 0m 44s\n",
            "\tTrain Loss: 3.271 | Train PPL:  26.345\n",
            "\t Val. Loss: 4.234 |  Val. PPL:  68.987\n",
            "Epoch: 53 | Time: 0m 44s\n",
            "\tTrain Loss: 3.258 | Train PPL:  25.989\n",
            "\t Val. Loss: 4.181 |  Val. PPL:  65.414\n",
            "Epoch: 54 | Time: 0m 44s\n",
            "\tTrain Loss: 3.215 | Train PPL:  24.894\n",
            "\t Val. Loss: 4.220 |  Val. PPL:  68.019\n",
            "Epoch: 55 | Time: 0m 44s\n",
            "\tTrain Loss: 3.201 | Train PPL:  24.557\n",
            "\t Val. Loss: 4.172 |  Val. PPL:  64.827\n",
            "Epoch: 56 | Time: 0m 44s\n",
            "\tTrain Loss: 3.178 | Train PPL:  24.001\n",
            "\t Val. Loss: 4.153 |  Val. PPL:  63.604\n",
            "Epoch: 57 | Time: 0m 44s\n",
            "\tTrain Loss: 3.150 | Train PPL:  23.338\n",
            "\t Val. Loss: 4.217 |  Val. PPL:  67.833\n",
            "Epoch: 58 | Time: 0m 44s\n",
            "\tTrain Loss: 3.122 | Train PPL:  22.703\n",
            "\t Val. Loss: 4.194 |  Val. PPL:  66.286\n",
            "Epoch: 59 | Time: 0m 44s\n",
            "\tTrain Loss: 3.098 | Train PPL:  22.144\n",
            "\t Val. Loss: 4.236 |  Val. PPL:  69.140\n",
            "Epoch: 60 | Time: 0m 44s\n",
            "\tTrain Loss: 3.091 | Train PPL:  21.999\n",
            "\t Val. Loss: 4.187 |  Val. PPL:  65.797\n",
            "Epoch: 61 | Time: 0m 44s\n",
            "\tTrain Loss: 3.056 | Train PPL:  21.247\n",
            "\t Val. Loss: 4.160 |  Val. PPL:  64.088\n",
            "Epoch: 62 | Time: 0m 44s\n",
            "\tTrain Loss: 3.026 | Train PPL:  20.607\n",
            "\t Val. Loss: 4.204 |  Val. PPL:  66.933\n",
            "Epoch: 63 | Time: 0m 44s\n",
            "\tTrain Loss: 3.022 | Train PPL:  20.525\n",
            "\t Val. Loss: 4.148 |  Val. PPL:  63.297\n",
            "Epoch: 64 | Time: 0m 44s\n",
            "\tTrain Loss: 2.991 | Train PPL:  19.910\n",
            "\t Val. Loss: 4.143 |  Val. PPL:  62.995\n",
            "Epoch: 65 | Time: 0m 44s\n",
            "\tTrain Loss: 2.969 | Train PPL:  19.467\n",
            "\t Val. Loss: 4.124 |  Val. PPL:  61.784\n",
            "Epoch: 66 | Time: 0m 44s\n",
            "\tTrain Loss: 2.947 | Train PPL:  19.052\n",
            "\t Val. Loss: 4.136 |  Val. PPL:  62.559\n",
            "Epoch: 67 | Time: 0m 44s\n",
            "\tTrain Loss: 2.948 | Train PPL:  19.074\n",
            "\t Val. Loss: 4.110 |  Val. PPL:  60.958\n",
            "Epoch: 68 | Time: 0m 44s\n",
            "\tTrain Loss: 2.912 | Train PPL:  18.388\n",
            "\t Val. Loss: 4.153 |  Val. PPL:  63.611\n",
            "Epoch: 69 | Time: 0m 44s\n",
            "\tTrain Loss: 2.895 | Train PPL:  18.091\n",
            "\t Val. Loss: 4.141 |  Val. PPL:  62.839\n",
            "Epoch: 70 | Time: 0m 44s\n",
            "\tTrain Loss: 2.868 | Train PPL:  17.607\n",
            "\t Val. Loss: 4.111 |  Val. PPL:  60.994\n",
            "Epoch: 71 | Time: 0m 44s\n",
            "\tTrain Loss: 2.867 | Train PPL:  17.590\n",
            "\t Val. Loss: 4.105 |  Val. PPL:  60.633\n",
            "Epoch: 72 | Time: 0m 44s\n",
            "\tTrain Loss: 2.826 | Train PPL:  16.873\n",
            "\t Val. Loss: 4.097 |  Val. PPL:  60.150\n",
            "Epoch: 73 | Time: 0m 44s\n",
            "\tTrain Loss: 2.829 | Train PPL:  16.925\n",
            "\t Val. Loss: 4.075 |  Val. PPL:  58.875\n",
            "Epoch: 74 | Time: 0m 44s\n",
            "\tTrain Loss: 2.797 | Train PPL:  16.398\n",
            "\t Val. Loss: 4.087 |  Val. PPL:  59.569\n",
            "Epoch: 75 | Time: 0m 44s\n",
            "\tTrain Loss: 2.799 | Train PPL:  16.428\n",
            "\t Val. Loss: 4.059 |  Val. PPL:  57.916\n",
            "Epoch: 76 | Time: 0m 44s\n",
            "\tTrain Loss: 2.776 | Train PPL:  16.063\n",
            "\t Val. Loss: 4.068 |  Val. PPL:  58.437\n",
            "Epoch: 77 | Time: 0m 44s\n",
            "\tTrain Loss: 2.755 | Train PPL:  15.726\n",
            "\t Val. Loss: 4.081 |  Val. PPL:  59.233\n",
            "Epoch: 78 | Time: 0m 44s\n",
            "\tTrain Loss: 2.728 | Train PPL:  15.295\n",
            "\t Val. Loss: 4.084 |  Val. PPL:  59.372\n",
            "Epoch: 79 | Time: 0m 45s\n",
            "\tTrain Loss: 2.709 | Train PPL:  15.018\n",
            "\t Val. Loss: 4.103 |  Val. PPL:  60.509\n",
            "Epoch: 80 | Time: 0m 44s\n",
            "\tTrain Loss: 2.699 | Train PPL:  14.866\n",
            "\t Val. Loss: 4.083 |  Val. PPL:  59.324\n",
            "Epoch: 81 | Time: 0m 44s\n",
            "\tTrain Loss: 2.682 | Train PPL:  14.608\n",
            "\t Val. Loss: 4.083 |  Val. PPL:  59.320\n",
            "Epoch: 82 | Time: 0m 44s\n",
            "\tTrain Loss: 2.667 | Train PPL:  14.403\n",
            "\t Val. Loss: 4.049 |  Val. PPL:  57.357\n",
            "Epoch: 83 | Time: 0m 45s\n",
            "\tTrain Loss: 2.636 | Train PPL:  13.956\n",
            "\t Val. Loss: 4.055 |  Val. PPL:  57.671\n",
            "Epoch: 84 | Time: 0m 45s\n",
            "\tTrain Loss: 2.621 | Train PPL:  13.748\n",
            "\t Val. Loss: 4.072 |  Val. PPL:  58.684\n",
            "Epoch: 85 | Time: 0m 44s\n",
            "\tTrain Loss: 2.611 | Train PPL:  13.609\n",
            "\t Val. Loss: 4.101 |  Val. PPL:  60.403\n",
            "Epoch: 86 | Time: 0m 44s\n",
            "\tTrain Loss: 2.590 | Train PPL:  13.335\n",
            "\t Val. Loss: 4.103 |  Val. PPL:  60.552\n",
            "Epoch: 87 | Time: 0m 44s\n",
            "\tTrain Loss: 2.565 | Train PPL:  13.004\n",
            "\t Val. Loss: 4.100 |  Val. PPL:  60.350\n",
            "Epoch: 88 | Time: 0m 44s\n",
            "\tTrain Loss: 2.564 | Train PPL:  12.983\n",
            "\t Val. Loss: 4.121 |  Val. PPL:  61.609\n",
            "Epoch: 89 | Time: 0m 44s\n",
            "\tTrain Loss: 2.551 | Train PPL:  12.822\n",
            "\t Val. Loss: 4.099 |  Val. PPL:  60.272\n",
            "Epoch: 90 | Time: 0m 44s\n",
            "\tTrain Loss: 2.525 | Train PPL:  12.493\n",
            "\t Val. Loss: 4.103 |  Val. PPL:  60.526\n",
            "Epoch: 91 | Time: 0m 44s\n",
            "\tTrain Loss: 2.519 | Train PPL:  12.417\n",
            "\t Val. Loss: 4.077 |  Val. PPL:  58.950\n",
            "Epoch: 92 | Time: 0m 44s\n",
            "\tTrain Loss: 2.495 | Train PPL:  12.118\n",
            "\t Val. Loss: 4.056 |  Val. PPL:  57.727\n",
            "Epoch: 93 | Time: 0m 44s\n",
            "\tTrain Loss: 2.484 | Train PPL:  11.988\n",
            "\t Val. Loss: 4.058 |  Val. PPL:  57.844\n",
            "Epoch: 94 | Time: 0m 44s\n",
            "\tTrain Loss: 2.450 | Train PPL:  11.589\n",
            "\t Val. Loss: 4.089 |  Val. PPL:  59.667\n",
            "Epoch: 95 | Time: 0m 44s\n",
            "\tTrain Loss: 2.453 | Train PPL:  11.617\n",
            "\t Val. Loss: 4.091 |  Val. PPL:  59.775\n",
            "Epoch: 96 | Time: 0m 44s\n",
            "\tTrain Loss: 2.423 | Train PPL:  11.281\n",
            "\t Val. Loss: 4.065 |  Val. PPL:  58.281\n",
            "Epoch: 97 | Time: 0m 44s\n",
            "\tTrain Loss: 2.416 | Train PPL:  11.196\n",
            "\t Val. Loss: 4.069 |  Val. PPL:  58.496\n",
            "Epoch: 98 | Time: 0m 44s\n",
            "\tTrain Loss: 2.381 | Train PPL:  10.815\n",
            "\t Val. Loss: 4.065 |  Val. PPL:  58.257\n",
            "Epoch: 99 | Time: 0m 44s\n",
            "\tTrain Loss: 2.377 | Train PPL:  10.777\n",
            "\t Val. Loss: 4.124 |  Val. PPL:  61.788\n",
            "Epoch: 100 | Time: 0m 44s\n",
            "\tTrain Loss: 2.354 | Train PPL:  10.523\n",
            "\t Val. Loss: 4.097 |  Val. PPL:  60.178\n"
          ],
          "name": "stdout"
        }
      ]
    },
    {
      "cell_type": "markdown",
      "metadata": {
        "id": "GOLIwcDw7ubZ"
      },
      "source": [
        "We'll load the parameters (`state_dict`) that gave our model the best validation loss and run it the model on the test set."
      ]
    },
    {
      "cell_type": "code",
      "metadata": {
        "id": "FCHxRBxO7ubZ",
        "colab": {
          "base_uri": "https://localhost:8080/"
        },
        "outputId": "c36c3360-b267-4374-e1cf-1b01245559dd"
      },
      "source": [
        "model.load_state_dict(torch.load('tut1-model.pt'))\n",
        "\n",
        "test_loss = evaluate(model, test_iterator, criterion)\n",
        "\n",
        "print(f'| Test Loss: {test_loss:.3f} | Test PPL: {math.exp(test_loss):7.3f} |')"
      ],
      "execution_count": 34,
      "outputs": [
        {
          "output_type": "stream",
          "text": [
            "| Test Loss: 3.944 | Test PPL:  51.601 |\n"
          ],
          "name": "stdout"
        }
      ]
    },
    {
      "cell_type": "markdown",
      "metadata": {
        "id": "2RSsiHkp7ubZ"
      },
      "source": [
        "In the following notebook we'll implement a model that achieves improved test perplexity, but only uses a single layer in the encoder and the decoder.\n",
        "\n",
        "One downside of the model is that the decoder is trying to cram lots of information into the hidden states. Whilst decoding, the hidden state will need to contain information about the whole of the source sequence, as well as all of the tokens have been decoded so far. By alleviating some of this information compression, we can create a better model! "
      ]
    }
  ]
}