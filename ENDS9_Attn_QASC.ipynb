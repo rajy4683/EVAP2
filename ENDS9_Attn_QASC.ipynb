{
  "nbformat": 4,
  "nbformat_minor": 0,
  "metadata": {
    "kernelspec": {
      "display_name": "Python 3",
      "language": "python",
      "name": "python3"
    },
    "language_info": {
      "codemirror_mode": {
        "name": "ipython",
        "version": 3
      },
      "file_extension": ".py",
      "mimetype": "text/x-python",
      "name": "python",
      "nbconvert_exporter": "python",
      "pygments_lexer": "ipython3",
      "version": "3.8.2"
    },
    "colab": {
      "name": "ENDS9_Attn_QASC.ipynb",
      "provenance": [],
      "collapsed_sections": [],
      "toc_visible": true,
      "include_colab_link": true
    },
    "accelerator": "GPU"
  },
  "cells": [
    {
      "cell_type": "markdown",
      "metadata": {
        "id": "view-in-github",
        "colab_type": "text"
      },
      "source": [
        "<a href=\"https://colab.research.google.com/github/rajy4683/EVAP2/blob/master/ENDS9_Attn_QASC.ipynb\" target=\"_parent\"><img src=\"https://colab.research.google.com/assets/colab-badge.svg\" alt=\"Open In Colab\"/></a>"
      ]
    },
    {
      "cell_type": "code",
      "metadata": {
        "id": "_KDJ9ysmCdyp",
        "colab": {
          "base_uri": "https://localhost:8080/"
        },
        "outputId": "32af3f3f-49e4-45a1-a1e2-b51317b92f47"
      },
      "source": [
        "%%bash\n",
        "python -m spacy download en\n",
        "python -m spacy download de"
      ],
      "execution_count": null,
      "outputs": [
        {
          "output_type": "stream",
          "text": [
            "Requirement already satisfied: en_core_web_sm==2.2.5 from https://github.com/explosion/spacy-models/releases/download/en_core_web_sm-2.2.5/en_core_web_sm-2.2.5.tar.gz#egg=en_core_web_sm==2.2.5 in /usr/local/lib/python3.6/dist-packages (2.2.5)\n",
            "Requirement already satisfied: spacy>=2.2.2 in /usr/local/lib/python3.6/dist-packages (from en_core_web_sm==2.2.5) (2.2.4)\n",
            "Requirement already satisfied: requests<3.0.0,>=2.13.0 in /usr/local/lib/python3.6/dist-packages (from spacy>=2.2.2->en_core_web_sm==2.2.5) (2.23.0)\n",
            "Requirement already satisfied: tqdm<5.0.0,>=4.38.0 in /usr/local/lib/python3.6/dist-packages (from spacy>=2.2.2->en_core_web_sm==2.2.5) (4.41.1)\n",
            "Requirement already satisfied: setuptools in /usr/local/lib/python3.6/dist-packages (from spacy>=2.2.2->en_core_web_sm==2.2.5) (51.0.0)\n",
            "Requirement already satisfied: wasabi<1.1.0,>=0.4.0 in /usr/local/lib/python3.6/dist-packages (from spacy>=2.2.2->en_core_web_sm==2.2.5) (0.8.0)\n",
            "Requirement already satisfied: srsly<1.1.0,>=1.0.2 in /usr/local/lib/python3.6/dist-packages (from spacy>=2.2.2->en_core_web_sm==2.2.5) (1.0.5)\n",
            "Requirement already satisfied: catalogue<1.1.0,>=0.0.7 in /usr/local/lib/python3.6/dist-packages (from spacy>=2.2.2->en_core_web_sm==2.2.5) (1.0.0)\n",
            "Requirement already satisfied: thinc==7.4.0 in /usr/local/lib/python3.6/dist-packages (from spacy>=2.2.2->en_core_web_sm==2.2.5) (7.4.0)\n",
            "Requirement already satisfied: numpy>=1.15.0 in /usr/local/lib/python3.6/dist-packages (from spacy>=2.2.2->en_core_web_sm==2.2.5) (1.19.4)\n",
            "Requirement already satisfied: cymem<2.1.0,>=2.0.2 in /usr/local/lib/python3.6/dist-packages (from spacy>=2.2.2->en_core_web_sm==2.2.5) (2.0.5)\n",
            "Requirement already satisfied: murmurhash<1.1.0,>=0.28.0 in /usr/local/lib/python3.6/dist-packages (from spacy>=2.2.2->en_core_web_sm==2.2.5) (1.0.5)\n",
            "Requirement already satisfied: blis<0.5.0,>=0.4.0 in /usr/local/lib/python3.6/dist-packages (from spacy>=2.2.2->en_core_web_sm==2.2.5) (0.4.1)\n",
            "Requirement already satisfied: plac<1.2.0,>=0.9.6 in /usr/local/lib/python3.6/dist-packages (from spacy>=2.2.2->en_core_web_sm==2.2.5) (1.1.3)\n",
            "Requirement already satisfied: preshed<3.1.0,>=3.0.2 in /usr/local/lib/python3.6/dist-packages (from spacy>=2.2.2->en_core_web_sm==2.2.5) (3.0.5)\n",
            "Requirement already satisfied: idna<3,>=2.5 in /usr/local/lib/python3.6/dist-packages (from requests<3.0.0,>=2.13.0->spacy>=2.2.2->en_core_web_sm==2.2.5) (2.10)\n",
            "Requirement already satisfied: chardet<4,>=3.0.2 in /usr/local/lib/python3.6/dist-packages (from requests<3.0.0,>=2.13.0->spacy>=2.2.2->en_core_web_sm==2.2.5) (3.0.4)\n",
            "Requirement already satisfied: urllib3!=1.25.0,!=1.25.1,<1.26,>=1.21.1 in /usr/local/lib/python3.6/dist-packages (from requests<3.0.0,>=2.13.0->spacy>=2.2.2->en_core_web_sm==2.2.5) (1.24.3)\n",
            "Requirement already satisfied: certifi>=2017.4.17 in /usr/local/lib/python3.6/dist-packages (from requests<3.0.0,>=2.13.0->spacy>=2.2.2->en_core_web_sm==2.2.5) (2020.12.5)\n",
            "Requirement already satisfied: importlib-metadata>=0.20; python_version < \"3.8\" in /usr/local/lib/python3.6/dist-packages (from catalogue<1.1.0,>=0.0.7->spacy>=2.2.2->en_core_web_sm==2.2.5) (3.3.0)\n",
            "Requirement already satisfied: zipp>=0.5 in /usr/local/lib/python3.6/dist-packages (from importlib-metadata>=0.20; python_version < \"3.8\"->catalogue<1.1.0,>=0.0.7->spacy>=2.2.2->en_core_web_sm==2.2.5) (3.4.0)\n",
            "Requirement already satisfied: typing-extensions>=3.6.4; python_version < \"3.8\" in /usr/local/lib/python3.6/dist-packages (from importlib-metadata>=0.20; python_version < \"3.8\"->catalogue<1.1.0,>=0.0.7->spacy>=2.2.2->en_core_web_sm==2.2.5) (3.7.4.3)\n",
            "\u001b[38;5;2m✔ Download and installation successful\u001b[0m\n",
            "You can now load the model via spacy.load('en_core_web_sm')\n",
            "\u001b[38;5;2m✔ Linking successful\u001b[0m\n",
            "/usr/local/lib/python3.6/dist-packages/en_core_web_sm -->\n",
            "/usr/local/lib/python3.6/dist-packages/spacy/data/en\n",
            "You can now load the model via spacy.load('en')\n",
            "Collecting de_core_news_sm==2.2.5\n",
            "  Downloading https://github.com/explosion/spacy-models/releases/download/de_core_news_sm-2.2.5/de_core_news_sm-2.2.5.tar.gz (14.9MB)\n",
            "Requirement already satisfied: spacy>=2.2.2 in /usr/local/lib/python3.6/dist-packages (from de_core_news_sm==2.2.5) (2.2.4)\n",
            "Requirement already satisfied: blis<0.5.0,>=0.4.0 in /usr/local/lib/python3.6/dist-packages (from spacy>=2.2.2->de_core_news_sm==2.2.5) (0.4.1)\n",
            "Requirement already satisfied: srsly<1.1.0,>=1.0.2 in /usr/local/lib/python3.6/dist-packages (from spacy>=2.2.2->de_core_news_sm==2.2.5) (1.0.5)\n",
            "Requirement already satisfied: wasabi<1.1.0,>=0.4.0 in /usr/local/lib/python3.6/dist-packages (from spacy>=2.2.2->de_core_news_sm==2.2.5) (0.8.0)\n",
            "Requirement already satisfied: cymem<2.1.0,>=2.0.2 in /usr/local/lib/python3.6/dist-packages (from spacy>=2.2.2->de_core_news_sm==2.2.5) (2.0.5)\n",
            "Requirement already satisfied: plac<1.2.0,>=0.9.6 in /usr/local/lib/python3.6/dist-packages (from spacy>=2.2.2->de_core_news_sm==2.2.5) (1.1.3)\n",
            "Requirement already satisfied: thinc==7.4.0 in /usr/local/lib/python3.6/dist-packages (from spacy>=2.2.2->de_core_news_sm==2.2.5) (7.4.0)\n",
            "Requirement already satisfied: murmurhash<1.1.0,>=0.28.0 in /usr/local/lib/python3.6/dist-packages (from spacy>=2.2.2->de_core_news_sm==2.2.5) (1.0.5)\n",
            "Requirement already satisfied: requests<3.0.0,>=2.13.0 in /usr/local/lib/python3.6/dist-packages (from spacy>=2.2.2->de_core_news_sm==2.2.5) (2.23.0)\n",
            "Requirement already satisfied: catalogue<1.1.0,>=0.0.7 in /usr/local/lib/python3.6/dist-packages (from spacy>=2.2.2->de_core_news_sm==2.2.5) (1.0.0)\n",
            "Requirement already satisfied: tqdm<5.0.0,>=4.38.0 in /usr/local/lib/python3.6/dist-packages (from spacy>=2.2.2->de_core_news_sm==2.2.5) (4.41.1)\n",
            "Requirement already satisfied: numpy>=1.15.0 in /usr/local/lib/python3.6/dist-packages (from spacy>=2.2.2->de_core_news_sm==2.2.5) (1.19.4)\n",
            "Requirement already satisfied: setuptools in /usr/local/lib/python3.6/dist-packages (from spacy>=2.2.2->de_core_news_sm==2.2.5) (51.0.0)\n",
            "Requirement already satisfied: preshed<3.1.0,>=3.0.2 in /usr/local/lib/python3.6/dist-packages (from spacy>=2.2.2->de_core_news_sm==2.2.5) (3.0.5)\n",
            "Requirement already satisfied: certifi>=2017.4.17 in /usr/local/lib/python3.6/dist-packages (from requests<3.0.0,>=2.13.0->spacy>=2.2.2->de_core_news_sm==2.2.5) (2020.12.5)\n",
            "Requirement already satisfied: idna<3,>=2.5 in /usr/local/lib/python3.6/dist-packages (from requests<3.0.0,>=2.13.0->spacy>=2.2.2->de_core_news_sm==2.2.5) (2.10)\n",
            "Requirement already satisfied: urllib3!=1.25.0,!=1.25.1,<1.26,>=1.21.1 in /usr/local/lib/python3.6/dist-packages (from requests<3.0.0,>=2.13.0->spacy>=2.2.2->de_core_news_sm==2.2.5) (1.24.3)\n",
            "Requirement already satisfied: chardet<4,>=3.0.2 in /usr/local/lib/python3.6/dist-packages (from requests<3.0.0,>=2.13.0->spacy>=2.2.2->de_core_news_sm==2.2.5) (3.0.4)\n",
            "Requirement already satisfied: importlib-metadata>=0.20; python_version < \"3.8\" in /usr/local/lib/python3.6/dist-packages (from catalogue<1.1.0,>=0.0.7->spacy>=2.2.2->de_core_news_sm==2.2.5) (3.3.0)\n",
            "Requirement already satisfied: zipp>=0.5 in /usr/local/lib/python3.6/dist-packages (from importlib-metadata>=0.20; python_version < \"3.8\"->catalogue<1.1.0,>=0.0.7->spacy>=2.2.2->de_core_news_sm==2.2.5) (3.4.0)\n",
            "Requirement already satisfied: typing-extensions>=3.6.4; python_version < \"3.8\" in /usr/local/lib/python3.6/dist-packages (from importlib-metadata>=0.20; python_version < \"3.8\"->catalogue<1.1.0,>=0.0.7->spacy>=2.2.2->de_core_news_sm==2.2.5) (3.7.4.3)\n",
            "Building wheels for collected packages: de-core-news-sm\n",
            "  Building wheel for de-core-news-sm (setup.py): started\n",
            "  Building wheel for de-core-news-sm (setup.py): finished with status 'done'\n",
            "  Created wheel for de-core-news-sm: filename=de_core_news_sm-2.2.5-cp36-none-any.whl size=14907057 sha256=52e2189b181aac8233cec65d3e48f108efc98dc31e8497db092c51d8e11cebd0\n",
            "  Stored in directory: /tmp/pip-ephem-wheel-cache-cwheh5g0/wheels/ba/3f/ed/d4aa8e45e7191b7f32db4bfad565e7da1edbf05c916ca7a1ca\n",
            "Successfully built de-core-news-sm\n",
            "Installing collected packages: de-core-news-sm\n",
            "Successfully installed de-core-news-sm-2.2.5\n",
            "\u001b[38;5;2m✔ Download and installation successful\u001b[0m\n",
            "You can now load the model via spacy.load('de_core_news_sm')\n",
            "\u001b[38;5;2m✔ Linking successful\u001b[0m\n",
            "/usr/local/lib/python3.6/dist-packages/de_core_news_sm -->\n",
            "/usr/local/lib/python3.6/dist-packages/spacy/data/de\n",
            "You can now load the model via spacy.load('de')\n"
          ],
          "name": "stdout"
        }
      ]
    },
    {
      "cell_type": "markdown",
      "metadata": {
        "id": "IXPzJpICCdeo"
      },
      "source": [
        "**Restart Notebook**"
      ]
    },
    {
      "cell_type": "markdown",
      "metadata": {
        "id": "_GgLPTpV9ejD"
      },
      "source": [
        "# 3 - Neural Machine Translation by Jointly Learning to Align and Translate\n",
        "\n",
        "In this third notebook on sequence-to-sequence models using PyTorch and TorchText, we'll be implementing the model from [Neural Machine Translation by Jointly Learning to Align and Translate](https://arxiv.org/abs/1409.0473). This model achives our best perplexity yet, ~27 compared to ~34 for the previous model.\n",
        "\n",
        "## Introduction\n",
        "\n",
        "As a reminder, here is the general encoder-decoder model:\n",
        "\n",
        "![](https://github.com/bentrevett/pytorch-seq2seq/blob/master/assets/seq2seq1.png?raw=1)\n",
        "\n",
        "In the previous model, our architecture was set-up in a way to reduce \"information compression\" by explicitly passing the context vector, $z$, to the decoder at every time-step and by passing both the context vector and embedded input word, $d(y_t)$, along with the hidden state, $s_t$, to the linear layer, $f$, to make a prediction.\n",
        "\n",
        "![](https://github.com/bentrevett/pytorch-seq2seq/blob/master/assets/seq2seq7.png?raw=1)\n",
        "\n",
        "Even though we have reduced some of this compression, our context vector still needs to contain all of the information about the source sentence. The model implemented in this notebook avoids this compression by allowing the decoder to look at the entire source sentence (via its hidden states) at each decoding step! How does it do this? It uses *attention*. \n",
        "\n",
        "Attention works by first, calculating an attention vector, $a$, that is the length of the source sentence. The attention vector has the property that each element is between 0 and 1, and the entire vector sums to 1. We then calculate a weighted sum of our source sentence hidden states, $H$, to get a weighted source vector, $w$. \n",
        "\n",
        "$$w = \\sum_{i}a_ih_i$$\n",
        "\n",
        "We calculate a new weighted source vector every time-step when decoding, using it as input to our decoder RNN as well as the linear layer to make a prediction. We'll explain how to do all of this during the session.\n",
        "\n",
        "## Preparing Data\n",
        "\n",
        "Again, the preparation is similar to last time.\n",
        "\n",
        "First we import all the required modules."
      ]
    },
    {
      "cell_type": "code",
      "metadata": {
        "id": "rySJ5AJb9ejE"
      },
      "source": [
        "import torch\n",
        "import torch.nn as nn\n",
        "import torch.optim as optim\n",
        "import torch.nn.functional as F\n",
        "\n",
        "from torchtext.datasets import Multi30k\n",
        "from torchtext.data import Field, BucketIterator\n",
        "\n",
        "import spacy\n",
        "import numpy as np\n",
        "import pandas as pd\n",
        "import random\n",
        "import math\n",
        "import time"
      ],
      "execution_count": null,
      "outputs": []
    },
    {
      "cell_type": "markdown",
      "metadata": {
        "id": "rD1fj0R39ejE"
      },
      "source": [
        "Set the random seeds for reproducability."
      ]
    },
    {
      "cell_type": "code",
      "metadata": {
        "id": "uZJrN5ry9ejE"
      },
      "source": [
        "SEED = 1234\n",
        "\n",
        "random.seed(SEED)\n",
        "np.random.seed(SEED)\n",
        "torch.manual_seed(SEED)\n",
        "torch.cuda.manual_seed(SEED)\n",
        "torch.backends.cudnn.deterministic = True"
      ],
      "execution_count": null,
      "outputs": []
    },
    {
      "cell_type": "markdown",
      "metadata": {
        "id": "w4Cul6h19ejF"
      },
      "source": [
        "Load the German and English spaCy models."
      ]
    },
    {
      "cell_type": "code",
      "metadata": {
        "colab": {
          "base_uri": "https://localhost:8080/"
        },
        "id": "7xxVGIID6vL4",
        "outputId": "2a88d4b0-d671-495f-833c-21cfe2488f03"
      },
      "source": [
        "from google.colab import drive\n",
        "drive.mount('/content/drive')"
      ],
      "execution_count": null,
      "outputs": [
        {
          "output_type": "stream",
          "text": [
            "Mounted at /content/drive\n"
          ],
          "name": "stdout"
        }
      ]
    },
    {
      "cell_type": "code",
      "metadata": {
        "id": "QmVlgfQY9ejF"
      },
      "source": [
        "spacy_de = spacy.load('de')\n",
        "spacy_en = spacy.load('en')"
      ],
      "execution_count": null,
      "outputs": []
    },
    {
      "cell_type": "code",
      "metadata": {
        "colab": {
          "base_uri": "https://localhost:8080/"
        },
        "id": "Jpssncyv6oR_",
        "outputId": "da5e3e4f-3335-4dde-b7e0-3b6565009274"
      },
      "source": [
        "!gsutil cp -r \\\r\n",
        "  gs://unifiedqa/data/qasc/ \\\r\n",
        "  gs://unifiedqa/data/qasc_test/ \\\r\n",
        "  gs://unifiedqa/data/qasc_with_ir/ \\\r\n",
        "  gs://unifiedqa/data/qasc_with_ir_test/ \\\r\n",
        "  ."
      ],
      "execution_count": null,
      "outputs": [
        {
          "output_type": "stream",
          "text": [
            "Copying gs://unifiedqa/data/qasc/counts.json...\n",
            "Copying gs://unifiedqa/data/qasc/dev.tsv...\n",
            "Copying gs://unifiedqa/data/qasc/dev_meta.tsv...\n",
            "Copying gs://unifiedqa/data/qasc/test.tsv...\n",
            "/ [4 files][352.9 KiB/352.9 KiB]                                                \n",
            "==> NOTE: You are performing a sequence of gsutil operations that may\n",
            "run significantly faster if you instead use gsutil -m cp ... Please\n",
            "see the -m section under \"gsutil help options\" for further information\n",
            "about when gsutil -m can be advantageous.\n",
            "\n",
            "Copying gs://unifiedqa/data/qasc/test_meta.tsv...\n",
            "Copying gs://unifiedqa/data/qasc/train.tsv...\n",
            "Copying gs://unifiedqa/data/qasc/train_meta.tsv...\n",
            "Copying gs://unifiedqa/data/qasc_test/counts.json...\n",
            "Copying gs://unifiedqa/data/qasc_test/dev.tsv...\n",
            "Copying gs://unifiedqa/data/qasc_test/dev_meta.tsv...\n",
            "Copying gs://unifiedqa/data/qasc_test/test.tsv...\n",
            "Copying gs://unifiedqa/data/qasc_test/test_meta.tsv...\n",
            "Copying gs://unifiedqa/data/qasc_test/train.tsv...\n",
            "Copying gs://unifiedqa/data/qasc_test/train_meta.tsv...\n",
            "Copying gs://unifiedqa/data/qasc_with_ir/counts.json...\n",
            "Copying gs://unifiedqa/data/qasc_with_ir/dev.tsv...\n",
            "Copying gs://unifiedqa/data/qasc_with_ir/dev_meta.tsv...\n",
            "Copying gs://unifiedqa/data/qasc_with_ir/test.tsv...\n",
            "Copying gs://unifiedqa/data/qasc_with_ir/test_meta.tsv...\n",
            "Copying gs://unifiedqa/data/qasc_with_ir/train.tsv...\n",
            "Copying gs://unifiedqa/data/qasc_with_ir/train_meta.tsv...\n",
            "Copying gs://unifiedqa/data/qasc_with_ir_test/counts.json...\n",
            "Copying gs://unifiedqa/data/qasc_with_ir_test/dev.tsv...\n",
            "Copying gs://unifiedqa/data/qasc_with_ir_test/dev_meta.tsv...\n",
            "Copying gs://unifiedqa/data/qasc_with_ir_test/test.tsv...\n",
            "Copying gs://unifiedqa/data/qasc_with_ir_test/test_meta.tsv...\n",
            "Copying gs://unifiedqa/data/qasc_with_ir_test/train.tsv...\n",
            "Copying gs://unifiedqa/data/qasc_with_ir_test/train_meta.tsv...\n",
            "- [28 files][ 38.7 MiB/ 38.7 MiB]                                               \n",
            "==> NOTE: You are performing a sequence of gsutil operations that may\n",
            "run significantly faster if you instead use gsutil -m cp ... Please\n",
            "see the -m section under \"gsutil help options\" for further information\n",
            "about when gsutil -m can be advantageous.\n",
            "\n",
            "\n",
            "Operation completed over 28 objects/38.7 MiB.                                    \n"
          ],
          "name": "stdout"
        }
      ]
    },
    {
      "cell_type": "code",
      "metadata": {
        "id": "UaJHZKoiIVSa"
      },
      "source": [
        "import json\r\n",
        "sentence = []\r\n",
        "label = []\r\n",
        "with open('/content/train_qasc.jsonl') as h:\r\n",
        "    for line in h:\r\n",
        "        example = json.loads(line)\r\n",
        "        answerText = [ choice['text'] for choice in example['question']['choices'] if choice['label'] == example['answerKey']][0]\r\n",
        "        merged_choices = \" [Ans] \".join([choice['text'] for choice in example['question']['choices']])\r\n",
        "        combined_q = '[Fact] '+example['combinedfact']+' [Q] '+example['question']['stem']+\" [Ans] \"+merged_choices\r\n",
        "        # scores = []\r\n",
        "        # merged_choices = ' A: '.join([choice['text'] for choice in example['question']['choices']])\r\n",
        "        # input = 'Q: ' + example['question']['stem'] + ' A: ' + merged_choices\r\n",
        "        # correct_answer = [ choice['text'] for choice in example['question']['choices'] if choice['label'] == example['answerKey'] ][0]\r\n",
        "        sentence.append(combined_q)\r\n",
        "        label.append(answerText)\r\n",
        "        # #print(input, correct_answer)\r\n",
        "dataset_df2 = pd.DataFrame({'sentence':sentence, 'label':label})"
      ],
      "execution_count": null,
      "outputs": []
    },
    {
      "cell_type": "code",
      "metadata": {
        "colab": {
          "base_uri": "https://localhost:8080/",
          "height": 52
        },
        "id": "HjeE7Qu2My9n",
        "outputId": "f2bdc1b2-68dd-44a7-8726-8248b3629fc1"
      },
      "source": [
        "dataset_df2.sentence[1]"
      ],
      "execution_count": null,
      "outputs": [
        {
          "output_type": "execute_result",
          "data": {
            "application/vnd.google.colaboratory.intrinsic+json": {
              "type": "string"
            },
            "text/plain": [
              "'[Fact] Vapor turning into a liquid leaves behind beads of water [Q] Where do beads of water come from? [Ans] Too much water [Ans] underground systems [Ans] When the water is too cold [Ans] Water spills [Ans] Vapor turning into a liquid [Ans] Warm air moving into cold air [Ans] At the peak of a mountain [Ans] To another location like underground'"
            ]
          },
          "metadata": {
            "tags": []
          },
          "execution_count": 84
        }
      ]
    },
    {
      "cell_type": "code",
      "metadata": {
        "id": "Uf37jEs4Lm57"
      },
      "source": [
        "dataset_df.to_csv(\"qasc.csv\",index=False)"
      ],
      "execution_count": null,
      "outputs": []
    },
    {
      "cell_type": "code",
      "metadata": {
        "id": "bw0jF9DN7A0g"
      },
      "source": [
        "#dataset = pd.read_csv(\"/content/dev.tsv\", sep='\\t', header=None)\r\n",
        "dataset = pd.read_csv(\"/content/qasc/train.tsv\", sep='\\t', header=None)\r\n",
        "dataset.columns = [\"sentence\", \"label\"]"
      ],
      "execution_count": null,
      "outputs": []
    },
    {
      "cell_type": "markdown",
      "metadata": {
        "id": "XSzI_oby9ejF"
      },
      "source": [
        "We create the tokenizers."
      ]
    },
    {
      "cell_type": "code",
      "metadata": {
        "id": "y8iY7pVS9ejF"
      },
      "source": [
        "def tokenize_de(text):\n",
        "    \"\"\"\n",
        "    Tokenizes German text from a string into a list of strings\n",
        "    \"\"\"\n",
        "    return [tok.text for tok in spacy_de.tokenizer(text)]\n",
        "\n",
        "def tokenize_en(text):\n",
        "    \"\"\"\n",
        "    Tokenizes English text from a string into a list of strings\n",
        "    \"\"\"\n",
        "    return [tok.text for tok in spacy_en.tokenizer(text)]"
      ],
      "execution_count": null,
      "outputs": []
    },
    {
      "cell_type": "markdown",
      "metadata": {
        "id": "l1DXtJYx9ejF"
      },
      "source": [
        "Load the data."
      ]
    },
    {
      "cell_type": "code",
      "metadata": {
        "id": "_ztszveY7W61"
      },
      "source": [
        "from torchtext import data \r\n",
        "import matplotlib.pyplot as plt\r\n",
        "Sentence = data.Field(sequential = True, tokenize = 'spacy', batch_first =False, include_lengths=False, lower=False)\r\n",
        "Label = data.Field(sequential =True, tokenize ='spacy', is_target=False, batch_first =False, include_lengths=False, lower=False)"
      ],
      "execution_count": null,
      "outputs": []
    },
    {
      "cell_type": "code",
      "metadata": {
        "id": "dHubd2OF7bA6"
      },
      "source": [
        "dataset = dataset_df2\r\n",
        "fields = [('sentence', Sentence),('label',Label)]\r\n",
        "example = [data.Example.fromlist([dataset.sentence[i],dataset.label[i]], fields) for i in range(dataset.shape[0])] \r\n",
        "commonqa_ds = data.Dataset(example, fields)\r\n",
        "(train, valid) = commonqa_ds.split(split_ratio=[0.85, 0.15], random_state=random.seed(SEED))"
      ],
      "execution_count": null,
      "outputs": []
    },
    {
      "cell_type": "markdown",
      "metadata": {
        "id": "Ot8vlVo09ejF"
      },
      "source": [
        "Build the vocabulary."
      ]
    },
    {
      "cell_type": "code",
      "metadata": {
        "id": "Spbkkebl7hed"
      },
      "source": [
        "Sentence.build_vocab(train)\r\n",
        "Label.build_vocab(train)"
      ],
      "execution_count": null,
      "outputs": []
    },
    {
      "cell_type": "code",
      "metadata": {
        "colab": {
          "base_uri": "https://localhost:8080/"
        },
        "id": "VHjXASdO7lpN",
        "outputId": "da22c01c-1556-41b0-f4be-5ee998fd9ef4"
      },
      "source": [
        "print('Size of input vocab : ', len(Sentence.vocab))\r\n",
        "print('Size of label vocab : ', len(Label.vocab))\r\n",
        "print('Top 10 words appreared repeatedly :', list(Sentence.vocab.freqs.most_common(10)))\r\n",
        "print('Labels : ', Label.vocab.stoi)"
      ],
      "execution_count": null,
      "outputs": [
        {
          "output_type": "stream",
          "text": [
            "Size of input vocab :  10058\n",
            "Size of label vocab :  3610\n",
            "Top 10 words appreared repeatedly : [('[', 69140), (']', 69140), ('Ans', 55312), ('Q', 6915), ('Fact', 6914), ('?', 6156), ('the', 5446), ('of', 4555), ('a', 4463), ('to', 4404)]\n",
            "Labels :  defaultdict(<function _default_unk_index at 0x7f5ed2817ea0>, {'<unk>': 0, '<pad>': 1, 'the': 2, 'of': 3, 'a': 4, 'and': 5, 'energy': 6, 'water': 7, '.': 8, 'to': 9, 'heat': 10, 'in': 11, 'plants': 12, 'it': 13, 'food': 14, 'animals': 15, 'cells': 16, 'light': 17, 'humans': 18, 'soil': 19, 'air': 20, 'body': 21, 'The': 22, 'A': 23, 'bacteria': 24, \"'s\": 25, 'Something': 26, 'chemical': 27, 'them': 28, ',': 29, 'an': 30, 'rain': 31, 'wind': 32, '-': 33, 'oxygen': 34, 'It': 35, 'insects': 36, 'on': 37, 'sunlight': 38, 'blood': 39, 'life': 40, 'their': 41, 'system': 42, 'organisms': 43, 'reproduction': 44, 'sun': 45, 'electricity': 46, 'is': 47, 'temperature': 48, 'acid': 49, 'viruses': 50, 'skin': 51, 'trees': 52, 'cancer': 53, 'from': 54, 'pressure': 55, 'carbon': 56, 'cold': 57, 'that': 58, 'warm': 59, 'waves': 60, 'weathering': 61, 'death': 62, 'electrons': 63, 'or': 64, 'Earth': 65, 'disease': 66, 'gas': 67, 'growth': 68, 'mitosis': 69, 'by': 70, 'sound': 71, 'DNA': 72, 'cell': 73, 'environment': 74, 'flow': 75, 'liquid': 76, 'weather': 77, 'They': 78, 'fire': 79, 'hormones': 80, 'living': 81, 'move': 82, 'birds': 83, 'changes': 84, 'eggs': 85, 'gametes': 86, 'molecules': 87, 'negative': 88, 'pollution': 89, 'dioxide': 90, 'fish': 91, 'hot': 92, 'kinetic': 93, 'mechanical': 94, 'precipitation': 95, 'protein': 96, 'proteins': 97, 'rocks': 98, 'sperm': 99, 'sugar': 100, 'survive': 101, 'they': 102, 'bees': 103, 'bushes': 104, 'can': 105, 'change': 106, 'fuel': 107, 'green': 108, 'into': 109, 'plant': 110, 'salt': 111, 'erosion': 112, 'flowers': 113, 'fuels': 114, 'genes': 115, 'grow': 116, 'h2o': 117, 'hair': 118, 'leaves': 119, 'mass': 120, 'with': 121, 'Water': 122, 'animal': 123, 'chemicals': 124, 'down': 125, 'dry': 126, 'for': 127, 'force': 128, 'frogs': 129, 'fungi': 130, 'genetic': 131, 'heart': 132, 'mammals': 133, 'natural': 134, 'photons': 135, 'rock': 136, 'starfish': 137, 'things': 138, 'In': 139, 'To': 140, 'backbone': 141, 'bamboo': 142, 'cooking': 143, 'dead': 144, 'deoxyribonucleic': 145, 'dogs': 146, 'electrical': 147, 'evaporation': 148, 'evolution': 149, 'fossil': 150, 'fur': 151, 'ice': 152, 'matter': 153, 'more': 154, 'nutrients': 155, 'organs': 156, 'some': 157, 'survival': 158, 'warming': 159, 'Plants': 160, 'are': 161, 'burning': 162, 'division': 163, 'fat': 164, 'female': 165, 'influenza': 166, 'its': 167, 'material': 168, 'motion': 169, 'moving': 170, 'population': 171, 'rays': 172, 'sex': 173, 'species': 174, 'sponges': 175, 'spores': 176, 'streams': 177, 'up': 178, 'Heat': 179, 'Light': 180, 'all': 181, 'at': 182, 'atmosphere': 183, 'black': 184, 'colors': 185, 'decreases': 186, 'dirt': 187, 'dormant': 188, 'earth': 189, 'electron': 190, 'exercise': 191, 'ferns': 192, 'fertilization': 193, 'global': 194, 'hydrogen': 195, 'nitrogen': 196, 'sea': 197, 'small': 198, 'through': 199, 'Food': 200, 'HIV': 201, 'adult': 202, 'be': 203, 'bonds': 204, 'cars': 205, 'cats': 206, 'clouds': 207, 'cycles': 208, 'earthquakes': 209, 'egg': 210, 'habitats': 211, 'harm': 212, 'have': 213, 'heating': 214, 'impact': 215, 'increase': 216, 'live': 217, 'most': 218, 'not': 219, 'object': 220, 'objects': 221, 'ocean': 222, 'oil': 223, 'out': 224, 'paper': 225, 'people': 226, 'positive': 227, 'rivers': 228, 'size': 229, 'temperatures': 230, 'time': 231, 'too': 232, 'winter': 233, 'RNA': 234, 'Sun': 235, 'acids': 236, 'antibodies': 237, 'antigens': 238, 'away': 239, 'axis': 240, 'bulbs': 241, 'cause': 242, 'cigarettes': 243, 'circuit': 244, 'coal': 245, 'cows': 246, 'damage': 247, 'decrease': 248, 'expands': 249, 'fats': 250, 'get': 251, 'glass': 252, 'ground': 253, 'high': 254, 'human': 255, 'invertebrates': 256, 'limestone': 257, 'long': 258, 'made': 259, 'magnetism': 260, 'male': 261, 'microorganisms': 262, 'microscope': 263, 'movement': 264, 'mutation': 265, 'nucleus': 266, 'oceans': 267, 'organism': 268, 'play': 269, 'produce': 270, 'roots': 271, 'seeds': 272, 'solid': 273, 'sweat': 274, 'together': 275, 'vapor': 276, 'warmth': 277, 'Bacteria': 278, 'Carbon': 279, 'bears': 280, 'breathing': 281, 'chlorophyll': 282, 'color': 283, 'decomposition': 284, 'die': 285, 'fatty': 286, 'fresh': 287, 'friction': 288, 'harmful': 289, 'heavy': 290, 'hurricanes': 291, 'immune': 292, 'level': 293, 'measure': 294, 'minerals': 295, 'mutations': 296, 'nervous': 297, 'ova': 298, 'pathogens': 299, 'power': 300, 'production': 301, 'radiation': 302, 'reaction': 303, 'remains': 304, 'reproduce': 305, 'river': 306, 'sense': 307, 'sexual': 308, 'shelter': 309, 'smell': 310, 'smoking': 311, 'space': 312, 'squids': 313, 'store': 314, 'structure': 315, 'structures': 316, 'substances': 317, 'tilt': 318, 'vibrations': 319, 'waste': 320, 'An': 321, 'Birds': 322, 'Energy': 323, 'Fungi': 324, 'H2O': 325, 'Helps': 326, 'Mechanical': 327, 'Oxygen': 328, 'Two': 329, 'Wind': 330, 'Winter': 331, 'aggression': 332, 'aging': 333, 'arteries': 334, 'batteries': 335, 'beams': 336, 'being': 337, 'bodily': 338, 'building': 339, 'car': 340, 'carbohydrates': 341, 'cellulose': 342, 'circulatory': 343, 'clams': 344, 'closed': 345, 'competition': 346, 'control': 347, 'copper': 348, 'coral': 349, 'current': 350, 'day': 351, 'different': 352, 'diversity': 353, 'during': 354, 'electric': 355, 'engines': 356, 'eukaryotes': 357, 'evergreens': 358, 'feet': 359, 'floods': 360, 'follicles': 361, 'fossils': 362, 'gene': 363, 'gets': 364, 'glucose': 365, 'habitat': 366, 'haploid': 367, 'homes': 368, 'immunity': 369, 'information': 370, 'liquids': 371, 'longer': 372, 'looseness': 373, 'lungs': 374, 'make': 375, 'metal': 376, 'neurons': 377, 'orchids': 378, 'organic': 379, 'other': 380, 'our': 381, 'planet': 382, 'plates': 383, 'preserved': 384, 'producers': 385, 'rotating': 386, 'sexually': 387, 'sleep': 388, 'slow': 389, 'smoke': 390, 'stove': 391, 'summer': 392, 'thunderstorms': 393, 'tobacco': 394, 'transfer': 395, 'travel': 396, 'underground': 397, 'weight': 398, 'will': 399, 'wood': 400, 'worms': 401, 'Air': 402, 'Cell': 403, 'Change': 404, 'Increase': 405, 'Sea': 406, 'Sediment': 407, 'Temperature': 408, 'Warm': 409, 'When': 410, 'absorb': 411, 'adaptation': 412, 'amount': 413, 'another': 414, 'ants': 415, 'around': 416, 'autumn': 417, 'balance': 418, 'bats': 419, 'bending': 420, 'bike': 421, 'boiling': 422, 'cacti': 423, 'celled': 424, 'children': 425, 'chromosomes': 426, 'climate': 427, 'complex': 428, 'compost': 429, 'daisies': 430, 'damaged': 431, 'darkness': 432, 'daylight': 433, 'depletion': 434, 'deposition': 435, 'deserts': 436, 'detritus': 437, 'deuterostomes': 438, 'differences': 439, 'digestive': 440, 'divide': 441, 'do': 442, 'eating': 443, 'ecosystems': 444, 'effect': 445, 'environments': 446, 'expand': 447, 'feathers': 448, 'find': 449, 'flooding': 450, 'form': 451, 'formed': 452, 'fronts': 453, 'gases': 454, 'goats': 455, 'health': 456, 'insulin': 457, 'iron': 458, 'keep': 459, 'less': 460, 'low': 461, 'lung': 462, 'marine': 463, 'messengers': 464, 'moist': 465, 'mold': 466, 'molds': 467, 'muscle': 468, 'mushrooms': 469, 'nematodes': 470, 'new': 471, 'night': 472, 'no': 473, 'nonliving': 474, 'oaks': 475, 'offspring': 476, 'over': 477, 'pH': 478, 'pain': 479, 'pancreas': 480, 'particles': 481, 'pesticides': 482, 'playing': 483, 'prokaryotes': 484, 'seasons': 485, 'sediment': 486, 'see': 487, 'seed': 488, 'shape': 489, 'shells': 490, 'shock': 491, 'sight': 492, 'single': 493, 'sodium': 494, 'solar': 495, 'spermatozoa': 496, 'star': 497, 'state': 498, 'stationary': 499, 'stem': 500, 'sweating': 501, 'systems': 502, 'tectonic': 503, 'thermal': 504, 'tilted': 505, 'tissue': 506, 'traits': 507, 'transport': 508, 'two': 509, 'used': 510, 'using': 511, 'varied': 512, 'vegetation': 513, 'vessels': 514, 'volume': 515, 'whales': 516, 'when': 517, \"'\": 518, '2': 519, 'Animals': 520, 'Carbohydrates': 521, 'Cells': 522, 'Coal': 523, 'Dehydration': 524, 'Evaporation': 525, 'Fossil': 526, 'Global': 527, 'Great': 528, 'Influenza': 529, 'Insects': 530, 'Jellyfish': 531, 'Joules': 532, 'Negative': 533, 'Nematoda': 534, 'Pacific': 535, 'Pollution': 536, 'Positive': 537, 'Power': 538, 'Rocks': 539, 'Roots': 540, 'Sand': 541, 'Sulfur': 542, 'Tobacco': 543, 'With': 544, 'absorbing': 545, 'activities': 546, 'adapt': 547, 'add': 548, 'algae': 549, 'alternation': 550, 'aquatic': 551, 'area': 552, 'atmospheric': 553, 'atoms': 554, 'become': 555, 'biodiversity': 556, 'blocks': 557, 'cartilage': 558, 'causes': 559, 'causing': 560, 'charge': 561, 'chlorine': 562, 'chloroplasts': 563, 'class': 564, 'coiled': 565, 'column': 566, 'complete': 567, 'compound': 568, 'consumers': 569, 'cooling': 570, 'cools': 571, 'courtship': 572, 'dark': 573, 'dating': 574, 'deadly': 575, 'decomposers': 576, 'density': 577, 'deposit': 578, 'destruction': 579, 'diploid': 580, 'dispersal': 581, 'drought': 582, 'drying': 583, 'earthworms': 584, 'ejaculation': 585, 'electromagnetic': 586, 'engine': 587, 'eras': 588, 'everywhere': 589, 'excretion': 590, 'expansion': 591, 'eyes': 592, 'fanning': 593, 'flows': 594, 'fuse': 595, 'gasoline': 596, 'generations': 597, 'gills': 598, 'gland': 599, 'go': 600, 'good': 601, 'gravity': 602, 'groundwater': 603, 'head': 604, 'hearing': 605, 'heated': 606, 'heats': 607, 'higher': 608, 'host': 609, 'illness': 610, 'increased': 611, 'increases': 612, 'injury': 613, 'inorganic': 614, 'jaws': 615, 'kill': 616, 'lack': 617, 'large': 618, 'layers': 619, 'laying': 620, 'leeches': 621, 'like': 622, 'loss': 623, 'lower': 624, 'magma': 625, 'making': 626, 'mate': 627, 'mating': 628, 'meat': 629, 'melting': 630, 'memory': 631, 'microscopic': 632, 'moisture': 633, 'multicellular': 634, 'muscles': 635, 'off': 636, 'olfaction': 637, 'organ': 638, 'outside': 639, 'ozone': 640, 'parasites': 641, 'permeable': 642, 'pheromones': 643, 'photosynthesis': 644, 'plankton': 645, 'planting': 646, 'plastic': 647, 'prism': 648, 'problems': 649, 'properly': 650, 'properties': 651, 'rainbow': 652, 'rainfall': 653, 'rains': 654, 'recycling': 655, 'release': 656, 'repair': 657, 'reptiles': 658, 'resources': 659, 'respiratory': 660, 'revolving': 661, 'rich': 662, 'ruler': 663, 'secondary': 664, 'seeping': 665, 'sequences': 666, 'sharks': 667, 'shell': 668, 'slate': 669, 'smaller': 670, 'smallest': 671, 'smallpox': 672, 'snail': 673, 'snails': 674, 'snow': 675, 'soils': 676, 'source': 677, 'speciation': 678, 'speed': 679, 'sports': 680, 'spring': 681, 'squirts': 682, 'stay': 683, 'stored': 684, 'storms': 685, 'stress': 686, 'support': 687, 'surfaces': 688, 'tape': 689, 'telomeres': 690, 'themselves': 691, 'tides': 692, 'transportation': 693, 'tropical': 694, 'turns': 695, 'urchins': 696, 'use': 697, 'vinegar': 698, 'vision': 699, 'within': 700, 'without': 701, 'Absorbing': 702, 'Animal': 703, 'Beavers': 704, 'Blood': 705, 'Break': 706, 'Burning': 707, 'By': 708, 'Chemical': 709, 'Condensation': 710, 'Decomposition': 711, 'Destroy': 712, 'Electric': 713, 'Electrical': 714, 'Fish': 715, 'Flowers': 716, 'Force': 717, 'Gas': 718, 'Gravity': 719, 'Grow': 720, 'H20': 721, 'Harm': 722, 'Heating': 723, 'Help': 724, 'Hot': 725, 'Human': 726, 'Lizards': 727, 'Male': 728, 'Mitosis': 729, 'Move': 730, 'Movement': 731, 'Mutations': 732, 'New': 733, 'Oil': 734, 'Physical': 735, 'Pituitary': 736, 'Plant': 737, 'Plastic': 738, 'Reproduce': 739, 'Salt': 740, 'San': 741, 'Skin': 742, 'Solar': 743, 'Starfish': 744, 'Summer': 745, 'Sunlight': 746, 'Through': 747, 'Thyroid': 748, 'Using': 749, 'Vapor': 750, 'Weathering': 751, 'Weight': 752, 'abalone': 753, 'ability': 754, 'absorbs': 755, 'aerobic': 756, 'age': 757, 'alleles': 758, 'amounts': 759, 'amphibians': 760, 'androgens': 761, 'annelids': 762, 'antibiotics': 763, 'apoptosis': 764, 'arthropods': 765, 'asexual': 766, 'automobile': 767, 'backbones': 768, 'barrel': 769, 'battery': 770, 'beavers': 771, 'becomes': 772, 'behave': 773, 'behavior': 774, 'beings': 775, 'better': 776, 'biomes': 777, 'blue': 778, 'bone': 779, 'bones': 780, 'bottleneck': 781, 'brain': 782, 'breaking': 783, 'breathe': 784, 'bright': 785, 'bubbles': 786, 'budding': 787, 'burned': 788, 'cactus': 789, 'calcium': 790, 'calories': 791, 'canyons': 792, 'carbonate': 793, 'carcinogens': 794, 'centralized': 795, 'chain': 796, 'changing': 797, 'chloride': 798, 'chromosome': 799, 'cilia': 800, 'clean': 801, 'climates': 802, 'colder': 803, 'compounds': 804, 'compressional': 805, 'condensation': 806, 'conditions': 807, 'conserve': 808, 'contact': 809, 'contractions': 810, 'converting': 811, 'cool': 812, 'cooled': 813, 'core': 814, 'corn': 815, 'crash': 816, 'crust': 817, 'cup': 818, 'currents': 819, 'cylinder': 820, 'cytoplasm': 821, 'deeper': 822, 'deforestation': 823, 'degrees': 824, 'dehydration': 825, 'dermis': 826, 'desert': 827, 'destroying': 828, 'devastating': 829, 'diabetes': 830, 'digestion': 831, 'dinosaurs': 832, 'diseases': 833, 'distance': 834, 'distracted': 835, 'dolphins': 836, 'doorbell': 837, 'drinking': 838, 'ducks': 839, 'ear': 840, 'ears': 841, 'elephants': 842, 'elms': 843, 'enzymes': 844, 'eroding': 845, 'excretory': 846, 'exposure': 847, 'extend': 848, 'extinction': 849, 'extreme': 850, 'fall': 851, 'family': 852, 'faulting': 853, 'females': 854, 'fingerprint': 855, 'flashlight': 856, 'fly': 857, 'forest': 858, 'found': 859, 'four': 860, 'free': 861, 'freezing': 862, 'frequency': 863, 'fruit': 864, 'function': 865, 'fusion': 866, 'gammaglobulins': 867, 'garbage': 868, 'geologic': 869, 'gold': 870, 'graduated': 871, 'grass': 872, 'gravitational': 873, 'greenhouse': 874, 'growing': 875, 'grows': 876, 'has': 877, 'hazard': 878, 'healing': 879, 'helps': 880, 'honeybees': 881, 'humidity': 882, 'hydration': 883, 'ill': 884, 'infection': 885, 'inside': 886, 'insulated': 887, 'insulation': 888, 'irradiation': 889, 'jellyfish': 890, 'keeps': 891, 'keratin': 892, 'kidneys': 893, 'lakes': 894, 'largest': 895, 'leave': 896, 'legumes': 897, 'lens': 898, 'leukemia': 899, 'lipids': 900, 'lizards': 901, 'location': 902, 'loose': 903, 'lose': 904, 'macroevolution': 905, 'makes': 906, 'measuring': 907, 'membranes': 908, 'mercury': 909, 'meristems': 910, 'metals': 911, 'microbes': 912, 'middle': 913, 'migration': 914, 'minute': 915, 'mirror': 916, 'monkeys': 917, 'monoxide': 918, 'moon': 919, 'moss': 920, 'mountain': 921, 'mountains': 922, 'mussels': 923, 'nerve': 924, 'nerves': 925, 'noise': 926, 'nuclear': 927, 'nucleic': 928, 'nutrient': 929, 'oak': 930, 'ovaries': 931, 'own': 932, 'oxidation': 933, 'oysters': 934, 'peat': 935, 'perspiration': 936, 'phospholipids': 937, 'photosynthetic': 938, 'phototropism': 939, 'pine': 940, 'platypus': 941, 'point': 942, 'position': 943, 'predators': 944, 'pregnancy': 945, 'prevent': 946, 'producing': 947, 'protection': 948, 'pugs': 949, 'quills': 950, 'rabies': 951, 'random': 952, 'reactions': 953, 'reduced': 954, 'reefs': 955, 'resistance': 956, 'respiration': 957, 'response': 958, 'rest': 959, 'rise': 960, 'rotation': 961, 'running': 962, 'salamanders': 963, 'salinity': 964, 'salmon': 965, 'sand': 966, 'sandstone': 967, 'saturated': 968, 'season': 969, 'segmented': 970, 'senses': 971, 'serious': 972, 'shorter': 973, 'sick': 974, 'side': 975, 'simple': 976, 'simplest': 977, 'snakes': 978, 'solute': 979, 'specialization': 980, 'squid': 981, 'stamina': 982, 'started': 983, 'steam': 984, 'stomach': 985, 'stops': 986, 'stream': 987, 'strength': 988, 'sulfur': 989, 'surface': 990, 'surgery': 991, 'swell': 992, 'tapeworms': 993, 'than': 994, 'thick': 995, 'thirst': 996, 'thrive': 997, 'thyroid': 998, 'tissues': 999, 'translation': 1000, 'tree': 1001, 'trout': 1002, 'trunk': 1003, 'tulips': 1004, 'turn': 1005, 'type': 1006, 'types': 1007, 'uncontrolled': 1008, 'under': 1009, 'urine': 1010, 'uterus': 1011, 'valley': 1012, 'vascular': 1013, 'vibrate': 1014, 'vibrating': 1015, 'vibration': 1016, 'visible': 1017, 'waters': 1018, 'wave': 1019, 'ways': 1020, 'wet': 1021, 'wheat': 1022, 'windward': 1023, 'wings': 1024, 'wiring': 1025, 'years': 1026, \"'re\": 1027, 'AIDS': 1028, 'Adult': 1029, 'Aging': 1030, 'Amphibians': 1031, 'Aves': 1032, 'Balance': 1033, 'Bees': 1034, 'Being': 1035, 'Breaks': 1036, 'Breathing': 1037, 'C': 1038, 'CO': 1039, 'CO2': 1040, 'Cancer': 1041, 'Carpooling': 1042, 'Changing': 1043, 'Chlorophyll': 1044, 'Clouds': 1045, 'Cold': 1046, 'Communication': 1047, 'Cooking': 1048, 'Copper': 1049, 'Coral': 1050, 'Create': 1051, 'Damage': 1052, 'Dead': 1053, 'Deforestation': 1054, 'Deoxyribonucleicacid': 1055, 'Division': 1056, 'Drought': 1057, 'Earthquakes': 1058, 'Eating': 1059, 'Electricity': 1060, 'Electricty': 1061, 'Electromagnetic': 1062, 'Embryo': 1063, 'Environment': 1064, 'Enzymes': 1065, 'Estrogen': 1066, 'Evolution': 1067, 'Fat': 1068, 'Fertilization': 1069, 'Fertilizer': 1070, 'Francisco': 1071, 'Freezing': 1072, 'Genetic': 1073, 'Granite': 1074, 'Green': 1075, 'Greenhouse': 1076, 'Having': 1077, 'Head': 1078, 'Heart': 1079, 'Heavy': 1080, 'Heterotrophs': 1081, 'Higher': 1082, 'Humans': 1083, 'Hydrogen': 1084, 'Hypothermia': 1085, 'If': 1086, 'Inches': 1087, 'Keeps': 1088, 'LEDs': 1089, 'Legionnaires': 1090, 'Life': 1091, 'Logging': 1092, 'Looking': 1093, 'Lungs': 1094, 'Makes': 1095, 'Males': 1096, 'Marble': 1097, 'Mass': 1098, 'Measuring': 1099, 'Moss': 1100, 'NaCl': 1101, 'Newton': 1102, 'Organelles': 1103, 'Organisms': 1104, 'Organs': 1105, 'People': 1106, 'Pesticides': 1107, 'Plankton': 1108, 'Potassium': 1109, 'Rain': 1110, 'Rainbows': 1111, 'Reduces': 1112, 'Reducing': 1113, 'Removing': 1114, 'Reproduction': 1115, 'Riding': 1116, 'River': 1117, 'Roundworms': 1118, 'Sensing': 1119, 'Sheds': 1120, 'Short': 1121, 'Sight': 1122, 'Sleep': 1123, 'Small': 1124, 'Soil': 1125, 'Some': 1126, 'Sweating': 1127, 'Tail': 1128, 'Testosterone': 1129, 'Their': 1130, 'Tiny': 1131, 'Trees': 1132, 'Tropical': 1133, 'UV': 1134, 'Unequal': 1135, 'Uterus': 1136, 'Vanes': 1137, 'Venus': 1138, 'Viruses': 1139, 'Vomiting': 1140, 'Yeast': 1141, 'absorption': 1142, 'acidity': 1143, 'across': 1144, 'activation': 1145, 'active': 1146, 'adaptations': 1147, 'adaptive': 1148, 'adding': 1149, 'adrenaline': 1150, 'adults': 1151, 'agent': 1152, 'agents': 1153, 'aggressive': 1154, 'alcohol': 1155, 'alligators': 1156, 'amoebae': 1157, 'amphibian': 1158, 'anchors': 1159, 'apart': 1160, 'archegonium': 1161, 'areas': 1162, 'arsenic': 1163, 'attract': 1164, 'baby': 1165, 'bacterial': 1166, 'bags': 1167, 'bark': 1168, 'basalt': 1169, 'bases': 1170, 'basic': 1171, 'bass': 1172, 'beaks': 1173, 'before': 1174, 'behind': 1175, 'between': 1176, 'biceps': 1177, 'bigger': 1178, 'biology': 1179, 'bird': 1180, 'blastoids': 1181, 'bleach': 1182, 'bloodstream': 1183, 'bottom': 1184, 'break': 1185, 'breaks': 1186, 'breezes': 1187, 'broken': 1188, 'bulb': 1189, 'buoyancy': 1190, 'burn': 1191, 'burns': 1192, 'burrows': 1193, 'burst': 1194, 'canyon': 1195, 'cavern': 1196, 'caves': 1197, 'centrioles': 1198, 'chance': 1199, 'charges': 1200, 'chickenpox': 1201, 'child': 1202, 'chill': 1203, 'chromatic': 1204, 'chronic': 1205, 'cigars': 1206, 'coastal': 1207, 'coat': 1208, 'coats': 1209, 'code': 1210, 'colonies': 1211, 'colored': 1212, 'communication': 1213, 'communities': 1214, 'complexity': 1215, 'computers': 1216, 'condensing': 1217, 'conducting': 1218, 'conduction': 1219, 'conservation': 1220, 'constriction': 1221, 'contaminated': 1222, 'covered': 1223, 'covering': 1224, 'creating': 1225, 'creatures': 1226, 'creeks': 1227, 'cross': 1228, 'cutting': 1229, 'cyclones': 1230, 'daily': 1231, 'damming': 1232, 'dangerous': 1233, 'decay': 1234, 'decaying': 1235, 'decomposing': 1236, 'deep': 1237, 'delta': 1238, 'desertification': 1239, 'details': 1240, 'detect': 1241, 'developments': 1242, 'devices': 1243, 'dew': 1244, 'dies': 1245, 'diet': 1246, 'differentiation': 1247, 'diffusion': 1248, 'dilation': 1249, 'direct': 1250, 'dispersion': 1251, 'dissolve': 1252, 'distances': 1253, 'disturb': 1254, 'diverse': 1255, 'divided': 1256, 'dolphin': 1257, 'dorsal': 1258, 'drink': 1259, 'driving': 1260, 'dromaeosaurs': 1261, 'easier': 1262, 'easily': 1263, 'eaten': 1264, 'echinoderms': 1265, 'echolocation': 1266, 'edible': 1267, 'eight': 1268, 'embryos': 1269, 'emissions': 1270, 'endangered': 1271, 'endoplasmic': 1272, 'entire': 1273, 'epidermis': 1274, 'equator': 1275, 'equilibrium': 1276, 'essential': 1277, 'estuaries': 1278, 'ethanol': 1279, 'evaporated': 1280, 'evolving': 1281, 'excess': 1282, 'exoskeleton': 1283, 'exoskeletons': 1284, 'explode': 1285, 'external': 1286, 'falling': 1287, 'feed': 1288, 'feeders': 1289, 'fermentation': 1290, 'fever': 1291, 'fiber': 1292, 'fibers': 1293, 'fibrous': 1294, 'filament': 1295, 'firecracker': 1296, 'fissures': 1297, 'flashlights': 1298, 'flood': 1299, 'flower': 1300, 'flowing': 1301, 'fluid': 1302, 'forces': 1303, 'foreign': 1304, 'forever': 1305, 'foxes': 1306, 'freezes': 1307, 'frog': 1308, 'fun': 1309, 'functions': 1310, 'fuzzy': 1311, 'gamete': 1312, 'gametophytes': 1313, 'gecko': 1314, 'generate': 1315, 'generating': 1316, 'generator': 1317, 'generators': 1318, 'genus': 1319, 'geometric': 1320, 'glands': 1321, 'glomerulus': 1322, 'goes': 1323, 'goggles': 1324, 'grams': 1325, 'granite': 1326, 'grapevines': 1327, 'grasses': 1328, 'greenhouses': 1329, 'groups': 1330, 'harming': 1331, 'hats': 1332, 'help': 1333, 'heterotrophs': 1334, 'hitting': 1335, 'hole': 1336, 'hormone': 1337, 'hosts': 1338, 'housing': 1339, 'hummingbirds': 1340, 'hydrophobic': 1341, 'hyperthyroidism': 1342, 'immobile': 1343, 'important': 1344, 'inches': 1345, 'incinerated': 1346, 'increasing': 1347, 'inner': 1348, 'instructions': 1349, 'insulator': 1350, 'intestine': 1351, 'irradiated': 1352, 'irradiating': 1353, 'isotopes': 1354, 'just': 1355, 'keeping': 1356, 'kicked': 1357, 'killed': 1358, 'killing': 1359, 'lake': 1360, 'landscape': 1361, 'landscapes': 1362, 'landslides': 1363, 'laser': 1364, 'last': 1365, 'lay': 1366, 'layer': 1367, 'learn': 1368, 'learning': 1369, 'length': 1370, 'lenses': 1371, 'lightning': 1372, 'limbs': 1373, 'lions': 1374, 'local': 1375, 'located': 1376, 'losing': 1377, 'lymphocytes': 1378, 'magnifying': 1379, 'manatees': 1380, 'many': 1381, 'marble': 1382, 'mask': 1383, 'massive': 1384, 'mates': 1385, 'mature': 1386, 'meiosis': 1387, 'members': 1388, 'menopause': 1389, 'menstruation': 1390, 'meristem': 1391, 'microscopes': 1392, 'migrate': 1393, 'mildew': 1394, 'milk': 1395, 'molecule': 1396, 'moles': 1397, 'mollusks': 1398, 'mosquitoes': 1399, 'mostly': 1400, 'motility': 1401, 'moves': 1402, 'mutated': 1403, \"n't\": 1404, 'native': 1405, 'near': 1406, 'nectar': 1407, 'nephrons': 1408, 'nesting': 1409, 'nucleotides': 1410, 'number': 1411, 'occurs': 1412, 'odors': 1413, 'old': 1414, 'omnivores': 1415, 'one': 1416, 'open': 1417, 'opposing': 1418, 'opposite': 1419, 'orbit': 1420, 'orthomyxoviruses': 1421, 'ovum': 1422, 'p53': 1423, 'palm': 1424, 'pan': 1425, 'panels': 1426, 'parasitic': 1427, 'parts': 1428, 'pattern': 1429, 'periods': 1430, 'person': 1431, 'petals': 1432, 'phase': 1433, 'pheremones': 1434, 'phone': 1435, 'phones': 1436, 'photosynthesize': 1437, 'phylum': 1438, 'physical': 1439, 'phytoplankton': 1440, 'pigs': 1441, 'plains': 1442, 'planktonic': 1443, 'plasma': 1444, 'plucking': 1445, 'poisoning': 1446, 'pollen': 1447, 'pollination': 1448, 'pollutants': 1449, 'polyps': 1450, 'ponds': 1451, 'potassium': 1452, 'potatoes': 1453, 'prehistoric': 1454, 'preservatives': 1455, 'prey': 1456, 'pride': 1457, 'process': 1458, 'produced': 1459, 'produces': 1460, 'prolactin': 1461, 'protect': 1462, 'protected': 1463, 'protects': 1464, 'pupils': 1465, 'quality': 1466, 'radio': 1467, 'rainbows': 1468, 'rainy': 1469, 'rapid': 1470, 'rate': 1471, 'ray': 1472, 'receptors': 1473, 'red': 1474, 'reduce': 1475, 'reduces': 1476, 'reducing': 1477, 'refract': 1478, 'refrigerators': 1479, 'regions': 1480, 'regulated': 1481, 'reindeer': 1482, 'relaxation': 1483, 'remove': 1484, 'repel': 1485, 'reproductive': 1486, 'requirement': 1487, 'reservoirs': 1488, 'reticulum': 1489, 'riding': 1490, 'rings': 1491, 'rises': 1492, 'roads': 1493, 'rodent': 1494, 'root': 1495, 'roses': 1496, 'rotting': 1497, 'roundworms': 1498, 'rubbing': 1499, 'runoff': 1500, 'safety': 1501, 'salts': 1502, 'scales': 1503, 'secretion': 1504, 'sedimentary': 1505, 'seeing': 1506, 'seen': 1507, 'selection': 1508, 'self': 1509, 'sensory': 1510, 'sessile': 1511, 'shaking': 1512, 'shallow': 1513, 'sheep': 1514, 'shelf': 1515, 'shivering': 1516, 'similar': 1517, 'six': 1518, 'skeleton': 1519, 'slime': 1520, 'smells': 1521, 'snort': 1522, 'soft': 1523, 'solidifies': 1524, 'spectrum': 1525, 'sphincter': 1526, 'spinal': 1527, 'spinning': 1528, 'stage': 1529, 'stars': 1530, 'steak': 1531, 'steel': 1532, 'stems': 1533, 'stopping': 1534, 'stroke': 1535, 'supplies': 1536, 'sustain': 1537, 'swim': 1538, 'swimming': 1539, 'symmetry': 1540, 'tRNA': 1541, 'tail': 1542, 'tar': 1543, 'taste': 1544, 'telephone': 1545, 'telephones': 1546, 'territory': 1547, 'texture': 1548, 'thawing': 1549, 'three': 1550, 'tigers': 1551, 'tiny': 1552, 'toxic': 1553, 'trails': 1554, 'trait': 1555, 'trophic': 1556, 'tumor': 1557, 'turbines': 1558, 'turning': 1559, 'turtles': 1560, 'unequal': 1561, 'units': 1562, 'unstable': 1563, 'urinary': 1564, 'vaccination': 1565, 'vapors': 1566, 'variation': 1567, 'veins': 1568, 'vertebral': 1569, 'vertebrates': 1570, 'very': 1571, 'vines': 1572, 'violence': 1573, 'visibility': 1574, 'vitamin': 1575, 'walking': 1576, 'walls': 1577, 'waterproof': 1578, 'watts': 1579, 'wearing': 1580, 'well': 1581, 'wells': 1582, 'wetlands': 1583, 'whale': 1584, 'where': 1585, 'white': 1586, 'wider': 1587, 'wildlife': 1588, 'willow': 1589, 'woody': 1590, 'work': 1591, 'worldwide': 1592, 'wounds': 1593, 'xerophytes': 1594, 'yes': 1595, 'zygote': 1596, 'zygotes': 1597, ' ': 1598, '&': 1599, '12': 1600, '14': 1601, '180': 1602, '25': 1603, '32': 1604, '35': 1605, '5.6': 1606, '65': 1607, '747': 1608, '?': 1609, 'AA': 1610, 'Abalone': 1611, 'Abnormal': 1612, 'Acidic': 1613, 'Acids': 1614, 'Active': 1615, 'Adatation': 1616, 'Adding': 1617, 'After': 1618, 'Alcohol': 1619, 'Alcohols': 1620, 'Allow': 1621, 'Aminoacylation': 1622, 'Andreas': 1623, 'Antarctica': 1624, 'Antennae': 1625, 'Anthrax': 1626, 'Antibiotics': 1627, 'Antibodies': 1628, 'Ants': 1629, 'Applying': 1630, 'Arteries': 1631, 'As': 1632, 'Asbestos': 1633, 'Asexual': 1634, 'At': 1635, 'Atlantic': 1636, 'Autumn': 1637, 'Away': 1638, 'Azathioprine': 1639, 'B': 1640, 'Barometer': 1641, 'Barrel': 1642, 'Barrier': 1643, 'Bats': 1644, 'Batteries': 1645, 'Beauty': 1646, 'Bend': 1647, 'Bending': 1648, 'Bermuda': 1649, 'Better': 1650, 'Biologists': 1651, 'Biomass': 1652, 'Biomolecules': 1653, 'Bird': 1654, 'Black': 1655, 'Blankets': 1656, 'Blowing': 1657, 'Blubber': 1658, 'Blue': 1659, 'Bodily': 1660, 'Boeing': 1661, 'Boiling': 1662, 'Boils': 1663, 'Both': 1664, 'Botulism': 1665, 'Brittle': 1666, 'Broken': 1667, 'Brutal': 1668, 'Budding': 1669, 'Bundles': 1670, 'Burma': 1671, 'Burying': 1672, 'CFCs': 1673, 'Cadillac': 1674, 'Calcium': 1675, 'Candida': 1676, 'Cane': 1677, 'Carrots': 1678, 'Cars': 1679, 'Caspian': 1680, 'Catch': 1681, 'Cause': 1682, 'Causes': 1683, 'Celsius': 1684, 'Cephalopod': 1685, 'Cephalopods': 1686, 'Changes': 1687, 'Chemicals': 1688, 'Chemotherapy': 1689, 'Chimneys': 1690, 'Chlorine': 1691, 'Chlorophyl': 1692, 'Cigarettes': 1693, 'Circuits': 1694, 'Clams': 1695, 'Clear': 1696, 'Closed': 1697, 'Columbia': 1698, 'Competing': 1699, 'Competition': 1700, 'Complete': 1701, 'Complex': 1702, 'Conception': 1703, 'Cones': 1704, 'Conifers': 1705, 'Constant': 1706, 'Constrict': 1707, 'Constriction': 1708, 'Consumers': 1709, 'Consuming': 1710, 'Contact': 1711, 'Contaminated': 1712, 'Continents': 1713, 'Contract': 1714, 'Converted': 1715, 'Converting': 1716, 'Converts': 1717, 'Cook': 1718, 'Cooling': 1719, 'Copepods': 1720, 'Corn': 1721, 'Created': 1722, 'Creating': 1723, 'Crewmembers': 1724, 'Crops': 1725, 'Currents': 1726, 'Cytokinesis': 1727, 'D': 1728, 'Daisy': 1729, 'Damaged': 1730, 'Damages': 1731, 'Dance': 1732, 'Darkness': 1733, 'Darwinism': 1734, 'David': 1735, 'Deaf': 1736, 'Decibels': 1737, 'Decomposers': 1738, 'Decrease': 1739, 'Decreased': 1740, 'Decreases': 1741, 'Depleting': 1742, 'Deposition': 1743, 'Depositions': 1744, 'Desertification': 1745, 'Deserts': 1746, 'Dew': 1747, 'Differences': 1748, 'Digesting': 1749, 'Dilution': 1750, 'Dioxide': 1751, 'Direct': 1752, 'Discrete': 1753, 'Dissolved': 1754, 'Distance': 1755, 'Diurnal': 1756, 'Diversity': 1757, 'Drink': 1758, 'Drips': 1759, 'Dry': 1760, 'Due': 1761, 'Duracell': 1762, 'Ears': 1763, 'Earthworm': 1764, 'Eat': 1765, 'Echinoderm': 1766, 'Echinoderms': 1767, 'Ecosystems': 1768, 'Edible': 1769, 'Electron': 1770, 'Electrons': 1771, 'Emit': 1772, 'Encoded': 1773, 'Endocrine': 1774, 'Engine': 1775, 'Eons': 1776, 'Erode': 1777, 'Erosion': 1778, 'Ethologist': 1779, 'Euphrates': 1780, 'Evolving': 1781, 'Excision': 1782, 'Excretion': 1783, 'Excretory': 1784, 'Exfoliation': 1785, 'Expandable': 1786, 'Expands': 1787, 'Extend': 1788, 'Eye': 1789, 'Eyes': 1790, 'Fahrenheit': 1791, 'Fall': 1792, 'Famine': 1793, 'Faraday': 1794, 'Fe': 1795, 'Female': 1796, 'Fiber': 1797, 'Fight': 1798, 'Final': 1799, 'Fine': 1800, 'Firecrackers': 1801, 'Five': 1802, 'Flask': 1803, 'Flowing': 1804, 'Fog': 1805, 'For': 1806, 'Fresh': 1807, 'Freshwater': 1808, 'Frog': 1809, 'Frogs': 1810, 'From': 1811, 'Frostbite': 1812, 'Fruits': 1813, 'Fuel': 1814, 'Fully': 1815, 'Fun': 1816, 'Fungus': 1817, 'Gamete': 1818, 'Gases': 1819, 'Gasoline': 1820, 'Germy': 1821, 'Get': 1822, 'Give': 1823, 'Gladioluses': 1824, 'Glass': 1825, 'Glucose': 1826, 'Go': 1827, 'Gold': 1828, 'Gorge': 1829, 'Grass': 1830, 'Graves': 1831, 'Gunshots': 1832, 'H': 1833, 'HPV': 1834, 'Habitat': 1835, 'Hail': 1836, 'Hair': 1837, 'Haploid': 1838, 'Harming': 1839, 'Harms': 1840, 'Hearing': 1841, 'Hemoglobin': 1842, 'Herpes': 1843, 'High': 1844, 'Himalayas': 1845, 'Holding': 1846, 'Honeybees': 1847, 'Hormone': 1848, 'Hormones': 1849, 'Humidity': 1850, 'Hummingbirds': 1851, 'Ice': 1852, 'Igneous': 1853, 'Impurities': 1854, 'Increases': 1855, 'Inertial': 1856, 'Infection': 1857, 'Inheriting': 1858, 'Injury': 1859, 'Instructions': 1860, 'Insulation': 1861, 'Invertebrates': 1862, 'Irradiated': 1863, 'Jet': 1864, 'Jupiter': 1865, 'Keep': 1866, 'Keeping': 1867, 'Kidneys': 1868, 'Kill': 1869, 'Kills': 1870, 'Kinetic': 1871, 'Kite': 1872, 'Lake': 1873, 'Lakes': 1874, 'Large': 1875, 'Laying': 1876, 'Lead': 1877, 'Leaving': 1878, 'Leeches': 1879, 'Leeuwenhoek': 1880, 'Length': 1881, 'Leo': 1882, 'Leptospirosis': 1883, 'Less': 1884, 'Leukemia': 1885, 'Lift': 1886, 'Lighting': 1887, 'Lilies': 1888, 'Limbs': 1889, 'Limestone': 1890, 'Link': 1891, 'Liters': 1892, 'Live': 1893, 'Loamy': 1894, 'Localized': 1895, 'Loonhaunt': 1896, 'Loose': 1897, 'Looseness': 1898, 'Losing': 1899, 'Loud': 1900, 'Lower': 1901, 'Lymphocytes': 1902, 'Machines': 1903, 'Magnetism': 1904, 'Maintain': 1905, 'Malignant': 1906, 'Malnutrition': 1907, 'Malpighian': 1908, 'Mammal': 1909, 'Man': 1910, 'Mantle': 1911, 'Many': 1912, 'Marine': 1913, 'Mars': 1914, 'Material': 1915, 'Measles': 1916, 'Meiosis': 1917, 'Melts': 1918, 'Memory': 1919, 'Menstruation': 1920, 'Meristems': 1921, 'Merkel': 1922, 'Metal': 1923, 'Metling': 1924, 'Mexico': 1925, 'Michael': 1926, 'Microscopic': 1927, 'Migration': 1928, 'Misell': 1929, 'Mixing': 1930, 'Moist': 1931, 'Moisture': 1932, 'Molasses': 1933, 'Molds': 1934, 'Molecular': 1935, 'Mollusks': 1936, 'Monosaccharides': 1937, 'Monotremes': 1938, 'Moon': 1939, 'Most': 1940, 'Motility': 1941, 'Mountains': 1942, 'Mulberry': 1943, 'Muscle': 1944, 'Muscles': 1945, 'Mushrooms': 1946, 'Mutagenic': 1947, 'Napa': 1948, 'Natural': 1949, 'Near': 1950, 'Nectar': 1951, 'Nematodes': 1952, 'Nervous': 1953, 'Nesco': 1954, 'Neurotransmitters': 1955, 'Nitrogen': 1956, 'Nonliving': 1957, 'Nucleotide': 1958, 'Nurseries': 1959, 'O': 1960, 'O2': 1961, 'O3': 1962, 'Oak': 1963, 'Object': 1964, 'Objects': 1965, 'One': 1966, 'Operating': 1967, 'Orange': 1968, 'Orchids': 1969, 'Organic': 1970, 'Origami': 1971, 'Our': 1972, 'Ozone': 1973, 'PDAs': 1974, 'Pairs': 1975, 'Pancreas': 1976, 'Papilloma': 1977, 'Part': 1978, 'Particulate': 1979, 'Pathogens': 1980, 'Person': 1981, 'Perspiration': 1982, 'Pesticide': 1983, 'Pheromones': 1984, 'Photons': 1985, 'Photosynthesis': 1986, 'Physiology': 1987, 'Pines': 1988, 'Pins': 1989, 'Pipets': 1990, 'Plastics': 1991, 'Plucking': 1992, 'Poison': 1993, 'Poisoning': 1994, 'Pollen': 1995, 'Polynucleotide': 1996, 'Population': 1997, 'Possibly': 1998, 'Predators': 1999, 'Premature': 2000, 'Preserves': 2001, 'Pressure': 2002, 'Preventing': 2003, 'Primary': 2004, 'Prolactin': 2005, 'Propubic': 2006, 'Protect': 2007, 'Protection': 2008, 'Protons': 2009, 'Provide': 2010, 'Pulmonologists': 2011, 'Quality': 2012, 'Radio': 2013, 'Radioactive': 2014, 'Raft': 2015, 'Rainforests': 2016, 'Raven': 2017, 'Receptor': 2018, 'Reef': 2019, 'Reefs': 2020, 'Refract': 2021, 'Regrows': 2022, 'Release': 2023, 'Remove': 2024, 'Reproducing': 2025, 'Reproductive': 2026, 'Reptiles': 2027, 'Reptilia': 2028, 'Respiration': 2029, 'Retina': 2030, 'Reusing': 2031, 'Revolution': 2032, 'Ribosomes': 2033, 'Ribs': 2034, 'Rio': 2035, 'Rise': 2036, 'Roads': 2037, 'Rob': 2038, 'Room': 2039, 'SNPs': 2040, 'SO2': 2041, 'Salamander': 2042, 'Salinity': 2043, 'Same': 2044, 'Samsung': 2045, 'Scent': 2046, 'Schwinn': 2047, 'Scrambling': 2048, 'Seasons': 2049, 'Sedimentary': 2050, 'Seeds': 2051, 'Seeing': 2052, 'Seesaw': 2053, 'Seismometer': 2054, 'September': 2055, 'Severe': 2056, 'Sexual': 2057, 'Sexually': 2058, 'Shallow': 2059, 'Shark': 2060, 'Shasta': 2061, 'Slow': 2062, 'Slowing': 2063, 'Smoking': 2064, 'Smooth': 2065, 'Snake': 2066, 'Social': 2067, 'Sodium': 2068, 'Soft': 2069, 'Softwoods': 2070, 'Somethign': 2071, 'Sonar': 2072, 'Sonoma': 2073, 'Sound': 2074, 'Sounds': 2075, 'Specialized': 2076, 'Species': 2077, 'Sperm': 2078, 'Split': 2079, 'Spread': 2080, 'Spring': 2081, 'Stay': 2082, 'Steam': 2083, 'Steroid': 2084, 'Store': 2085, 'Storing': 2086, 'Streams': 2087, 'Stress': 2088, 'Sudden': 2089, 'Sustain': 2090, 'Sweet': 2091, 'Syngamy': 2092, 'TRH': 2093, 'Tectonic': 2094, 'Thames': 2095, 'Thyroxine': 2096, 'Tibet': 2097, 'Time': 2098, 'Titanic': 2099, 'Towards': 2100, 'Toxicity': 2101, 'Toxins': 2102, 'Toyota': 2103, 'Transfers': 2104, 'Transplanted': 2105, 'Trophic': 2106, 'Tungsten': 2107, 'Turning': 2108, 'Turns': 2109, 'UVA': 2110, 'UVB': 2111, 'Ultraviolet': 2112, 'Under': 2113, 'Uneven': 2114, 'Uplift': 2115, 'Urea': 2116, 'Urethra': 2117, 'Use': 2118, 'Valleys': 2119, 'Veins': 2120, 'Vertebrates': 2121, 'Very': 2122, 'Vibrates': 2123, 'Vibrations': 2124, 'Vitamin': 2125, 'Volcanic': 2126, 'Walls': 2127, 'Warmth': 2128, 'Warriors': 2129, 'Whales': 2130, 'Where': 2131, 'Wild': 2132, 'Windward': 2133, 'Wither': 2134, 'Worldwide': 2135, 'Your': 2136, 'Yukon': 2137, 'Zinc': 2138, 'abcess': 2139, 'abdomen': 2140, 'about': 2141, 'above': 2142, 'abrasion': 2143, 'absolute': 2144, 'absorbed': 2145, 'abundant': 2146, 'abusive': 2147, 'acceleration': 2148, 'accident': 2149, 'accommodate': 2150, 'accumulate': 2151, 'accumulated': 2152, 'acetic': 2153, 'acidic': 2154, 'action': 2155, 'activated': 2156, 'adapted': 2157, 'adhesives': 2158, 'adjustable': 2159, 'adulthood': 2160, 'advances': 2161, 'advancing': 2162, 'advantageous': 2163, 'aerate': 2164, 'aeration': 2165, 'aerodynamics': 2166, 'after': 2167, 'agriculture': 2168, 'ahead': 2169, 'airplane': 2170, 'airplanes': 2171, 'alarm': 2172, 'albino': 2173, 'albumin': 2174, 'alive': 2175, 'allergic': 2176, 'allergy': 2177, 'allow': 2178, 'allows': 2179, 'alluvial': 2180, 'almost': 2181, 'alpacas': 2182, 'alter': 2183, 'aluminum': 2184, 'alveoli': 2185, 'amniotes': 2186, 'amnotic': 2187, 'amoeba': 2188, 'amputation': 2189, 'anabolic': 2190, 'analysis': 2191, 'anemia': 2192, 'aneurisms': 2193, 'angle': 2194, 'anion': 2195, 'anostrans': 2196, 'antennae': 2197, 'antigen': 2198, 'aphrodisiacs': 2199, 'apocymarin': 2200, 'appendages': 2201, 'apple': 2202, 'apples': 2203, 'appliance': 2204, 'application': 2205, 'aqueous': 2206, 'arms': 2207, 'arterioles': 2208, 'artery': 2209, 'arthropoda': 2210, 'as': 2211, 'asbestos': 2212, 'assassin': 2213, 'asses': 2214, 'asteroid': 2215, 'asthma': 2216, 'astroglial': 2217, 'astronauts': 2218, 'athletes': 2219, 'attach': 2220, 'attached': 2221, 'attacks': 2222, 'attracted': 2223, 'attracting': 2224, 'attractive': 2225, 'attracts': 2226, 'auburn': 2227, 'audible': 2228, 'audio': 2229, 'autotrophs': 2230, 'autumnal': 2231, 'average': 2232, 'aves': 2233, 'avoid': 2234, 'avoiding': 2235, 'aware': 2236, 'axons': 2237, 'b': 2238, 'babies': 2239, 'back': 2240, 'bacterium': 2241, 'badge': 2242, 'bag': 2243, 'baking': 2244, 'balanced': 2245, 'balloon': 2246, 'barks': 2247, 'barn': 2248, 'barnacles': 2249, 'barometric': 2250, 'barrier': 2251, 'beads': 2252, 'beam': 2253, 'beans': 2254, 'beds': 2255, 'bee': 2256, 'beef': 2257, 'beetles': 2258, 'behavioral': 2259, 'behaviorists': 2260, 'below': 2261, 'bend': 2262, 'bends': 2263, 'beneficial': 2264, 'benign': 2265, 'bent': 2266, 'benthic': 2267, 'big': 2268, 'bilateral': 2269, 'bilateraly': 2270, 'bill': 2271, 'biloba': 2272, 'binary': 2273, 'bind': 2274, 'bioaerosols': 2275, 'biofuel': 2276, 'biological': 2277, 'biomass': 2278, 'biome': 2279, 'birches': 2280, 'bisexual': 2281, 'bite': 2282, 'bladder': 2283, 'blisters': 2284, 'bloom': 2285, 'blubber': 2286, 'blueprints': 2287, 'boats': 2288, 'bobo': 2289, 'bodied': 2290, 'bodies': 2291, 'bog': 2292, 'bogs': 2293, 'bomb': 2294, 'bond': 2295, 'booster': 2296, 'border': 2297, 'bored': 2298, 'bottles': 2299, 'bouncing': 2300, 'boundaries': 2301, 'bowel': 2302, 'boxes': 2303, 'brains': 2304, 'brakes': 2305, 'bread': 2306, 'breakdown': 2307, 'breast': 2308, 'breastfeeding': 2309, 'breed': 2310, 'bridges': 2311, 'brightens': 2312, 'bronchodilatory': 2313, 'brown': 2314, 'bryophytes': 2315, 'bucks': 2316, 'bugs': 2317, 'buildings': 2318, 'bullfrogs': 2319, 'bumper': 2320, 'bundles': 2321, 'buried': 2322, 'burrow': 2323, 'burrs': 2324, 'buses': 2325, 'bush': 2326, 'butterflies': 2327, 'cake': 2328, 'calcite': 2329, 'called': 2330, 'calm': 2331, 'camels': 2332, 'cameras': 2333, 'camouflage': 2334, 'cancerous': 2335, 'cancers': 2336, 'canned': 2337, 'capability': 2338, 'capacity': 2339, 'caperata': 2340, 'capture': 2341, 'carbonic': 2342, 'carcinogen': 2343, 'carcinoma': 2344, 'carpets': 2345, 'carpooling': 2346, 'carrier': 2347, 'carrying': 2348, 'catabolism': 2349, 'cations': 2350, 'cattle': 2351, 'caused': 2352, 'cave': 2353, 'caverns': 2354, 'celcius': 2355, 'cellphone': 2356, 'cellular': 2357, 'centers': 2358, 'central': 2359, 'cephalopods': 2360, 'certain': 2361, 'chairs': 2362, 'chambered': 2363, 'chemistry': 2364, 'chickens': 2365, 'chime': 2366, 'chinooks': 2367, 'chlorofluorocarbons': 2368, 'chlorophy': 2369, 'cholesterol': 2370, 'chordate': 2371, 'circulation': 2372, 'cities': 2373, 'citokinesis': 2374, 'clam': 2375, 'clear': 2376, 'clearly': 2377, 'close': 2378, 'cloudy': 2379, 'cluster': 2380, 'clusters': 2381, 'coastlines': 2382, 'cobra': 2383, 'coded': 2384, 'coffee': 2385, 'coherent': 2386, 'coin': 2387, 'coldest': 2388, 'coliding': 2389, 'coliforms': 2390, 'collagen': 2391, 'collapse': 2392, 'collapsing': 2393, 'collide': 2394, 'colloidal': 2395, 'colon': 2396, 'colorless': 2397, 'combining': 2398, 'combust': 2399, 'combustion': 2400, 'come': 2401, 'comfort': 2402, 'comfortable': 2403, 'coming': 2404, 'common': 2405, 'commonly': 2406, 'communicate': 2407, 'communications': 2408, 'commuting': 2409, 'compacted': 2410, 'compaction': 2411, 'competing': 2412, 'components': 2413, 'composting': 2414, 'compresses': 2415, 'computer': 2416, 'concentrations': 2417, 'condense': 2418, 'condenses': 2419, 'conductor': 2420, 'conducts': 2421, 'cones': 2422, 'conifer': 2423, 'conncectivity': 2424, 'considerably': 2425, 'constant': 2426, 'construction': 2427, 'consume': 2428, 'consuming': 2429, 'contains': 2430, 'contamination': 2431, 'content': 2432, 'continual': 2433, 'continue': 2434, 'continues': 2435, 'continuously': 2436, 'contract': 2437, 'contracting': 2438, 'contraction': 2439, 'contracts': 2440, 'controls': 2441, 'converted': 2442, 'converts': 2443, 'conveying': 2444, 'cooler': 2445, 'coolness': 2446, 'copepods': 2447, 'corals': 2448, 'cord': 2449, 'cosmetic': 2450, 'cost': 2451, 'crack': 2452, 'cracking': 2453, 'cracks': 2454, 'cranes': 2455, 'crappie': 2456, 'crashes': 2457, 'create': 2458, 'created': 2459, 'crinoids': 2460, 'crippling': 2461, 'critical': 2462, 'crocodile': 2463, 'crocodiles': 2464, 'crop': 2465, 'crops': 2466, 'crows': 2467, 'crunchy': 2468, 'cubes': 2469, 'cups': 2470, 'curve': 2471, 'cut': 2472, 'cuticle': 2473, 'cutters': 2474, 'cyanide': 2475, 'cyanobacteria': 2476, 'cycle': 2477, 'cyclone': 2478, 'cytokinesis': 2479, 'cytoplasmic': 2480, 'daffodils': 2481, 'dam': 2482, 'damaging': 2483, 'days': 2484, 'deaths': 2485, 'debris': 2486, 'decompose': 2487, 'decreased': 2488, 'deer': 2489, 'defense': 2490, 'define': 2491, 'deformation': 2492, 'dehydrated': 2493, 'dehydrating': 2494, 'deltas': 2495, 'dense': 2496, 'densities': 2497, 'deoxygenated': 2498, 'deposited': 2499, 'depositon': 2500, 'deposits': 2501, 'depostion': 2502, 'depression': 2503, 'depressive': 2504, 'destroyed': 2505, 'detectors': 2506, 'determine': 2507, 'devastation': 2508, 'device': 2509, 'dexyribonucleic': 2510, 'diatomes': 2511, 'diatoms': 2512, 'differential': 2513, 'diffraction': 2514, 'digest': 2515, 'dinosaur': 2516, 'dioxins': 2517, 'dirtier': 2518, 'disasters': 2519, 'discouraged': 2520, 'discs': 2521, 'disinfectants': 2522, 'disintegrate': 2523, 'disintegration': 2524, 'disperse': 2525, 'displacement': 2526, 'displays': 2527, 'dissolving': 2528, 'distract': 2529, 'distractions': 2530, 'disturbance': 2531, 'diveristy': 2532, 'dividing': 2533, 'diving': 2534, 'doctor': 2535, 'does': 2536, 'dog': 2537, 'dollars': 2538, 'dolls': 2539, 'dominant': 2540, 'donates': 2541, 'dormancy': 2542, 'double': 2543, 'drains': 2544, 'dramatically': 2545, 'drifting': 2546, 'drivers': 2547, 'drug': 2548, 'drum': 2549, 'ductile': 2550, 'ducts': 2551, 'dunes': 2552, 'duplicate': 2553, 'duplication': 2554, 'dust': 2555, 'dying': 2556, 'each': 2557, 'eagles': 2558, 'eardrum': 2559, 'earthworm': 2560, 'easy': 2561, 'echidna': 2562, 'echidnas': 2563, 'eclipse': 2564, 'economy': 2565, 'ecosystem': 2566, 'ecotourism': 2567, 'edema': 2568, 'effects': 2569, 'efficiency': 2570, 'ejaculate': 2571, 'electrically': 2572, 'electro': 2573, 'electrolytes': 2574, 'electromagnetism': 2575, 'electrostatic': 2576, 'elevation': 2577, 'elevations': 2578, 'elimination': 2579, 'elliptical': 2580, 'else': 2581, 'emergency': 2582, 'encoded': 2583, 'end': 2584, 'endangering': 2585, 'endings': 2586, 'endogenous': 2587, 'energetic': 2588, 'enormous': 2589, 'enough': 2590, 'enriched': 2591, 'enviroment': 2592, 'environmental': 2593, 'eons': 2594, 'epidermal': 2595, 'epididymes': 2596, 'epidiymes': 2597, 'equations': 2598, 'equinox': 2599, 'eroded': 2600, 'essentials': 2601, 'estimate': 2602, 'ethologists': 2603, 'eukyarotes': 2604, 'evaporates': 2605, 'evaporating': 2606, 'evaporative': 2607, 'events': 2608, 'evergeeen': 2609, 'evergreen': 2610, 'everybody': 2611, 'evolved': 2612, 'exactly': 2613, 'excellent': 2614, 'exchange': 2615, 'excreted': 2616, 'expanding': 2617, 'expelled': 2618, 'expode': 2619, 'extinct': 2620, 'extracted': 2621, 'extrapolated': 2622, 'extremely': 2623, 'eye': 2624, 'fallen': 2625, 'falls': 2626, 'fan': 2627, 'far': 2628, 'farm': 2629, 'fast': 2630, 'faster': 2631, 'father': 2632, 'fault': 2633, 'faulty': 2634, 'feces': 2635, 'fed': 2636, 'feeder': 2637, 'feel': 2638, 'fens': 2639, 'fermented': 2640, 'fern': 2641, 'fertile': 2642, 'fertilize': 2643, 'fertilizer': 2644, 'fetch': 2645, 'few': 2646, 'fiberglass': 2647, 'fibrils': 2648, 'fields': 2649, 'fighters': 2650, 'filaments': 2651, 'final': 2652, 'fingers': 2653, 'finite': 2654, 'fins': 2655, 'firecrackers': 2656, 'firework': 2657, 'fireworks': 2658, 'firm': 2659, 'first': 2660, 'fissile': 2661, 'fission': 2662, 'fitness': 2663, 'flagella': 2664, 'flash': 2665, 'flashes': 2666, 'flatworms': 2667, 'fleas': 2668, 'flight': 2669, 'flights': 2670, 'float': 2671, 'floats': 2672, 'floor': 2673, 'flowerless': 2674, 'flu': 2675, 'fluctuate': 2676, 'fluctuates': 2677, 'fluids': 2678, 'flying': 2679, 'flytrap': 2680, 'focusing': 2681, 'foil': 2682, 'folding': 2683, 'foliage': 2684, 'formations': 2685, 'forward': 2686, 'fractions': 2687, 'framework': 2688, 'freckles': 2689, 'freesheet': 2690, 'freeze': 2691, 'freshwater': 2692, 'friendship': 2693, 'front': 2694, 'frontal': 2695, 'frostbite': 2696, 'frozen': 2697, 'fruiting': 2698, 'fruits': 2699, 'fumes': 2700, 'functional': 2701, 'functioning': 2702, 'fungus': 2703, 'future': 2704, 'gain': 2705, 'games': 2706, 'gardening': 2707, 'gasses': 2708, 'geckos': 2709, 'gender': 2710, 'generally': 2711, 'generates': 2712, 'genitalia': 2713, 'genitals': 2714, 'genotypes': 2715, 'geological': 2716, 'geothermal': 2717, 'germany': 2718, 'germs': 2719, 'getting': 2720, 'ginkgo': 2721, 'girl': 2722, 'glisten': 2723, 'gloves': 2724, 'glow': 2725, 'glycogen': 2726, 'goat': 2727, 'gone': 2728, 'goods': 2729, 'gorges': 2730, 'gourdin': 2731, 'graduations': 2732, 'grain': 2733, 'grains': 2734, 'graptolites': 2735, 'gravel': 2736, 'grazing': 2737, 'great': 2738, 'group': 2739, 'growths': 2740, 'guitars': 2741, 'guns': 2742, 'habitual': 2743, 'haircoat': 2744, 'hammer': 2745, 'hand': 2746, 'hands': 2747, 'hard': 2748, 'hardened': 2749, 'harmed': 2750, 'hatch': 2751, 'hatched': 2752, 'havoc': 2753, 'hawks': 2754, 'haze': 2755, 'headaches': 2756, 'headlights': 2757, 'heal': 2758, 'healthier': 2759, 'hearts': 2760, 'heightened': 2761, 'helping': 2762, 'hemisphere': 2763, 'hemp': 2764, 'herbicide': 2765, 'herbivores': 2766, 'heredity': 2767, 'heriditary': 2768, 'hermaphrodite': 2769, 'hermaphrodites': 2770, 'herons': 2771, 'hexazinone': 2772, 'hibernate': 2773, 'hibernation': 2774, 'hidden': 2775, 'histone': 2776, 'history': 2777, 'hockey': 2778, 'holes': 2779, 'home': 2780, 'homogenous': 2781, 'honey': 2782, 'hooded': 2783, 'horses': 2784, 'hospitals': 2785, 'hotter': 2786, 'hours': 2787, 'household': 2788, 'houses': 2789, 'how': 2790, 'huddle': 2791, 'hugs': 2792, 'humankind': 2793, 'humid': 2794, 'hunting': 2795, 'hurt': 2796, 'hydrate': 2797, 'hydraulic': 2798, 'hydrocarbon': 2799, 'hydrocarbons': 2800, 'hypothermia': 2801, 'hypothyroidism': 2802, 'iPhones': 2803, 'if': 2804, 'ignite': 2805, 'igniting': 2806, 'ignition': 2807, 'illnesses': 2808, 'illumination': 2809, 'image': 2810, 'immediate': 2811, 'immunization': 2812, 'immunodeficiency': 2813, 'immunogens': 2814, 'immunological': 2815, 'impacts': 2816, 'impelling': 2817, 'implanted': 2818, 'improve': 2819, 'improves': 2820, 'inactive': 2821, 'incandescent': 2822, 'incineration': 2823, 'incubation': 2824, 'indeterminate': 2825, 'indirect': 2826, 'individuals': 2827, 'inducible': 2828, 'industry': 2829, 'inefficient': 2830, 'inertia': 2831, 'infarction': 2832, 'infected': 2833, 'infections': 2834, 'infertility': 2835, 'infrared': 2836, 'ingested': 2837, 'inhalation': 2838, 'inherited': 2839, 'injuries': 2840, 'innovative': 2841, 'insect': 2842, 'instincts': 2843, 'insulators': 2844, 'intelligence': 2845, 'intense': 2846, 'interact': 2847, 'intermediate': 2848, 'internal': 2849, 'interstellar': 2850, 'intervertebrates': 2851, 'intrinsic': 2852, 'intrusion': 2853, 'invented': 2854, 'invertebrate': 2855, 'ion': 2856, 'ionization': 2857, 'ionized': 2858, 'iris': 2859, 'islands': 2860, 'itself': 2861, 'ivy': 2862, 'jaw': 2863, 'jerky': 2864, 'jet': 2865, 'jets': 2866, 'joining': 2867, 'joules': 2868, 'jungles': 2869, 'kalenchoes': 2870, 'karyogamy': 2871, 'kernel': 2872, 'keystone': 2873, 'killer': 2874, 'kills': 2875, 'kilogram': 2876, 'kilometers': 2877, 'kitchen': 2878, 'known': 2879, 'koalas': 2880, 'laboratory': 2881, 'lacking': 2882, 'lamps': 2883, 'land': 2884, 'landfills': 2885, 'lands': 2886, 'larger': 2887, 'larvae': 2888, 'late': 2889, 'later': 2890, 'lateral': 2891, 'latitude': 2892, 'latitudes': 2893, 'lava': 2894, 'lawn': 2895, 'lead': 2896, 'leaf': 2897, 'leaving': 2898, 'lemmons': 2899, 'leopard': 2900, 'lethal': 2901, 'lie': 2902, 'lifeforms': 2903, 'lifting': 2904, 'lightbulb': 2905, 'lighting': 2906, 'lights': 2907, 'lignin': 2908, 'ligt': 2909, 'lillies': 2910, 'limb': 2911, 'linguistically': 2912, 'linked': 2913, 'liters': 2914, 'lithium': 2915, 'litter': 2916, 'little': 2917, 'livers': 2918, 'lives': 2919, 'lmestone': 2920, 'lobes': 2921, 'lobsters': 2922, 'locations': 2923, 'loch': 2924, 'loggers': 2925, 'logging': 2926, 'logs': 2927, 'look': 2928, 'looking': 2929, 'loop': 2930, 'looser': 2931, 'loses': 2932, 'lot': 2933, 'loud': 2934, 'lowered': 2935, 'lowering': 2936, 'lowest': 2937, 'lumber': 2938, 'lumberjacks': 2939, 'luminometer': 2940, 'lungworms': 2941, 'lush': 2942, 'luxury': 2943, 'lymphoma': 2944, 'lysing': 2945, 'mL': 2946, 'macaques': 2947, 'machines': 2948, 'magnet': 2949, 'magnified': 2950, 'magnitude': 2951, 'major': 2952, 'malnutrition': 2953, 'mammal': 2954, 'manufacturing': 2955, 'manures': 2956, 'maples': 2957, 'margins': 2958, 'marker': 2959, 'marrow': 2960, 'marshes': 2961, 'marshy': 2962, 'matches': 2963, 'may': 2964, 'meals': 2965, 'measurement': 2966, 'meats': 2967, 'mechanism': 2968, 'mechanoreceptors': 2969, 'media': 2970, 'medical': 2971, 'melanistic': 2972, 'melanoma': 2973, 'messages': 2974, 'metabolic': 2975, 'metamorphizing': 2976, 'meters': 2977, 'methane': 2978, 'mice': 2979, 'microbial': 2980, 'microevolution': 2981, 'microtubules': 2982, 'microwave': 2983, 'mild': 2984, 'mill': 2985, 'mineral': 2986, 'mines': 2987, 'minutes': 2988, 'mirrors': 2989, 'mistake': 2990, 'mites': 2991, 'mitochondria': 2992, 'mixing': 2993, 'moldy': 2994, 'mole': 2995, 'molluscs': 2996, 'monomers': 2997, 'monotreme': 2998, 'mortality': 2999, 'mosaic': 3000, 'mosiac': 3001, 'mother': 3002, 'motor': 3003, 'motors': 3004, 'mouth': 3005, 'moved': 3006, 'movements': 3007, 'movemnet': 3008, 'mowers': 3009, 'much': 3010, 'mud': 3011, 'multiply': 3012, 'municipal': 3013, 'mushroom': 3014, 'must': 3015, 'mutagens': 3016, 'mutant': 3017, 'nature': 3018, 'nearest': 3019, 'need': 3020, 'needs': 3021, 'nektar': 3022, 'nest': 3023, 'newsprint': 3024, 'newtons': 3025, 'nickel': 3026, 'nicotine': 3027, 'nitrile': 3028, 'noises': 3029, 'nokia': 3030, 'normal': 3031, 'nose': 3032, 'nucelotide': 3033, 'nuclei': 3034, 'nucleoli': 3035, 'numbers': 3036, 'oats': 3037, 'objectstowards': 3038, 'octopus': 3039, 'odorless': 3040, 'often': 3041, 'omnivore': 3042, 'once': 3043, 'oncogenes': 3044, 'ones': 3045, 'oneself': 3046, 'operated': 3047, 'operating': 3048, 'opossums': 3049, 'opportunistic': 3050, 'optic': 3051, 'orange': 3052, 'orbital': 3053, 'orbiting': 3054, 'organics': 3055, 'origami': 3056, 'oscillations': 3057, 'osmosis': 3058, 'osteogenic': 3059, 'others': 3060, 'otters': 3061, 'outbursts': 3062, 'outer': 3063, 'oven': 3064, 'overheating': 3065, 'overheats': 3066, 'ovules': 3067, 'oxides': 3068, 'oxidiser': 3069, 'oxidize': 3070, 'pHs': 3071, 'pack': 3072, 'pained': 3073, 'painful': 3074, 'painting': 3075, 'panther': 3076, 'panting': 3077, 'papaya': 3078, 'parent': 3079, 'parisitic': 3080, 'partner': 3081, 'partners': 3082, 'passed': 3083, 'passing': 3084, 'passive': 3085, 'past': 3086, 'patch': 3087, 'path': 3088, 'pathogenic': 3089, 'peachleaf': 3090, 'peak': 3091, 'pelt': 3092, 'pelvis': 3093, 'penguins': 3094, 'penis': 3095, 'per': 3096, 'perceiving': 3097, 'perennials': 3098, 'period': 3099, 'permineralization': 3100, 'perspire': 3101, 'pest': 3102, 'pesticide': 3103, 'petrified': 3104, 'petroleum': 3105, 'phenomenon': 3106, 'phenotypes': 3107, 'pheremon': 3108, 'phosphorous': 3109, 'photosyntehsis': 3110, 'photosynthetics': 3111, 'physiology': 3112, 'piano': 3113, 'picks': 3114, 'pigeons': 3115, 'pigment': 3116, 'pigments': 3117, 'pines': 3118, 'pipes': 3119, 'pistons': 3120, 'place': 3121, 'places': 3122, 'planets': 3123, 'planted': 3124, 'plastids': 3125, 'plate': 3126, 'plated': 3127, 'platypuses': 3128, 'pneumonia': 3129, 'poison': 3130, 'polar': 3131, 'polarized': 3132, 'poles': 3133, 'pollinate': 3134, 'pollinated': 3135, 'polluted': 3136, 'polyethylene': 3137, 'polymers': 3138, 'polynucleotide': 3139, 'polynucleotides': 3140, 'polyp': 3141, 'pond': 3142, 'ponding': 3143, 'pools': 3144, 'populations': 3145, 'porcinis': 3146, 'porous': 3147, 'positively': 3148, 'possible': 3149, 'potash': 3150, 'potential': 3151, 'pottery': 3152, 'precious': 3153, 'predatory': 3154, 'preventing': 3155, 'prevention': 3156, 'prevents': 3157, 'prides': 3158, 'primarily': 3159, 'primitive': 3160, 'principals': 3161, 'printed': 3162, 'problem': 3163, 'processes': 3164, 'procreation': 3165, 'producer': 3166, 'product': 3167, 'products': 3168, 'programmed': 3169, 'progress': 3170, 'projections': 3171, 'prolonged': 3172, 'prone': 3173, 'propagate': 3174, 'prophase': 3175, 'proprioceptive': 3176, 'prosperity': 3177, 'protective': 3178, 'protist': 3179, 'protists': 3180, 'proton': 3181, 'protons': 3182, 'provides': 3183, 'pull': 3184, 'pulls': 3185, 'pulmonologist': 3186, 'pulmonologists': 3187, 'pulped': 3188, 'pupil': 3189, 'push': 3190, 'pushes': 3191, 'pyramid': 3192, 'pyrite': 3193, 'quadriceps': 3194, 'quart': 3195, 'quartz': 3196, 'rabbit': 3197, 'race': 3198, 'radial': 3199, 'radiator': 3200, 'radicals': 3201, 'radioactive': 3202, 'radiography': 3203, 'radios': 3204, 'rainwater': 3205, 'raising': 3206, 'range': 3207, 'rapidly': 3208, 'rat': 3209, 'rather': 3210, 'ravens': 3211, 'reaches': 3212, 'reactive': 3213, 'reacts': 3214, 'real': 3215, 'received': 3216, 'receives': 3217, 'receiving': 3218, 'recessive': 3219, 'recovery': 3220, 'recpetors': 3221, 'recycled': 3222, 'redness': 3223, 'reduction': 3224, 'refining': 3225, 'reflect': 3226, 'reflecting': 3227, 'reflex': 3228, 'refraction': 3229, 'regeneration': 3230, 'regulation': 3231, 'rejected': 3232, 'relationships': 3233, 'relatives': 3234, 'relax': 3235, 'remain': 3236, 'remaining': 3237, 'remarkable': 3238, 'removal': 3239, 'removing': 3240, 'renewable': 3241, 'repaired': 3242, 'repellent': 3243, 'replicating': 3244, 'reproduces': 3245, 'reptilia': 3246, 'reptilians': 3247, 'repulsive': 3248, 'research': 3249, 'resevoir': 3250, 'reshaped': 3251, 'resistor': 3252, 'resource': 3253, 'respirate': 3254, 'resting': 3255, 'retention': 3256, 'retina': 3257, 'reusing': 3258, 'reverse': 3259, 'revolutions': 3260, 'ribonucleic': 3261, 'ribosomes': 3262, 'ribs': 3263, 'ricce': 3264, 'rice': 3265, 'ripples': 3266, 'rockets': 3267, 'rodents': 3268, 'roof': 3269, 'roofs': 3270, 'rooms': 3271, 'roost': 3272, 'rotate': 3273, 'rotten': 3274, 'rough': 3275, 'rozites': 3276, 'run': 3277, 'rust': 3278, 'safely': 3279, 'sailplanes': 3280, 'saliva': 3281, 'salting': 3282, 'same': 3283, 'sandy': 3284, 'satellite': 3285, 'saving': 3286, 'scale': 3287, 'scarce': 3288, 'scattered': 3289, 'scavenged': 3290, 'scent': 3291, 'scientists': 3292, 'scraping': 3293, 'seals': 3294, 'seasonal': 3295, 'seasonally': 3296, 'seawater': 3297, 'secrete': 3298, 'secreted': 3299, 'sediments': 3300, 'seeding': 3301, 'seep': 3302, 'semen': 3303, 'semiochemicals': 3304, 'sensing': 3305, 'separatin': 3306, 'separation': 3307, 'set': 3308, 'seven': 3309, 'several': 3310, 'severely': 3311, 'shake': 3312, 'shale': 3313, 'shaped': 3314, 'shapes': 3315, 'share': 3316, 'sharing': 3317, 'shark': 3318, 'shelled': 3319, 'shine': 3320, 'ship': 3321, 'shiver': 3322, 'shoreline': 3323, 'short': 3324, 'shorten': 3325, 'shortening': 3326, 'shots': 3327, 'show': 3328, 'shrews': 3329, 'shrub': 3330, 'sickness': 3331, 'signal': 3332, 'silicate': 3333, 'sing': 3334, 'singing': 3335, 'sink': 3336, 'sinkholes': 3337, 'sinking': 3338, 'sinks': 3339, 'sizes': 3340, 'ski': 3341, 'skull': 3342, 'sky': 3343, 'sleepwalking': 3344, 'slowly': 3345, 'slows': 3346, 'smog': 3347, 'smoothing': 3348, 'smother': 3349, 'snarls': 3350, 'so': 3351, 'social': 3352, 'soda': 3353, 'softwoods': 3354, 'solids': 3355, 'solution': 3356, 'someone': 3357, 'something': 3358, 'somewhere': 3359, 'soundwaves': 3360, 'sources': 3361, 'sparrows': 3362, 'special': 3363, 'specialized': 3364, 'specific': 3365, 'spillways': 3366, 'spin': 3367, 'split': 3368, 'splitting': 3369, 'spoilage': 3370, 'spore': 3371, 'sprawl': 3372, 'spread': 3373, 'springs': 3374, 'sprout': 3375, 'spruce': 3376, 'sqeezing': 3377, 'squeeze': 3378, 'squirrels': 3379, 'stability': 3380, 'stagnant': 3381, 'stalactites': 3382, 'standing': 3383, 'starch': 3384, 'startle': 3385, 'stations': 3386, 'staying': 3387, 'stays': 3388, 'step': 3389, 'sterilization': 3390, 'steroids': 3391, 'stigma': 3392, 'stimulating': 3393, 'stomata': 3394, 'stomates': 3395, 'storage': 3396, 'stores': 3397, 'storing': 3398, 'storm': 3399, 'straight': 3400, 'straightens': 3401, 'strands': 3402, 'strawberries': 3403, 'strays': 3404, 'string': 3405, 'strong': 3406, 'struck': 3407, 'studied': 3408, 'studies': 3409, 'submarines': 3410, 'subrounded': 3411, 'substance': 3412, 'substrate': 3413, 'subtropical': 3414, 'successive': 3415, 'sugary': 3416, 'sulfate': 3417, 'sulfuric': 3418, 'supersonic': 3419, 'surge': 3420, 'surges': 3421, 'surgical': 3422, 'surrounding': 3423, 'susceptible': 3424, 'sustainable': 3425, 'sustaining': 3426, 'swallow': 3427, 'swamps': 3428, 'swea': 3429, 'sweet': 3430, 'sweeter': 3431, 'swelling': 3432, 'switch': 3433, 'symbol': 3434, 'symmetrical': 3435, 'sympathetic': 3436, 'symptoms': 3437, 'syngamy': 3438, 'synthetic': 3439, 'systolic': 3440, 'take': 3441, 'tapeworm': 3442, 'taxes': 3443, 'teats': 3444, 'technology': 3445, 'tectonics': 3446, 'televisions': 3447, 'tempting': 3448, 'termites': 3449, 'terrain': 3450, 'terrapins': 3451, 'testing': 3452, 'testosterone': 3453, 'theme': 3454, 'there': 3455, 'thermodynamically': 3456, 'thermogenesis': 3457, 'thorax': 3458, 'thousands': 3459, 'threat': 3460, 'threatened': 3461, 'threatening': 3462, 'threatens': 3463, 'thresholds': 3464, 'thunder': 3465, 'ticks': 3466, 'tidal': 3467, 'tiger': 3468, 'tight': 3469, 'tips': 3470, 'tire': 3471, 'tired': 3472, 'tires': 3473, 'toads': 3474, 'toaster': 3475, 'tongue': 3476, 'topsoil': 3477, 'tornadoes': 3478, 'tortoises': 3479, 'touch': 3480, 'tough': 3481, 'toughness': 3482, 'toxins': 3483, 'traffic': 3484, 'trains': 3485, 'transform': 3486, 'transistors': 3487, 'transition': 3488, 'transpiration': 3489, 'transported': 3490, 'trash': 3491, 'travelers': 3492, 'treatment': 3493, 'trellised': 3494, 'tremors': 3495, 'triceps': 3496, 'trisomy': 3497, 'trochophore': 3498, 'trunks': 3499, 'tsunami': 3500, 'tube': 3501, 'tubes': 3502, 'tuna': 3503, 'tunicates': 3504, 'turbine': 3505, 'uncoated': 3506, 'uncontrollably': 3507, 'underwater': 3508, 'unidirectional': 3509, 'unique': 3510, 'unisexual': 3511, 'unpredicatbale': 3512, 'unpredictable': 3513, 'unwashed': 3514, 'uranium': 3515, 'urban': 3516, 'urea': 3517, 'urethra': 3518, 'urination': 3519, 'usage': 3520, 'user': 3521, 'usually': 3522, 'vacuum': 3523, 'vagina': 3524, 'valleys': 3525, 'vanes': 3526, 'vanpooling': 3527, 'variable': 3528, 'variations': 3529, 'variety': 3530, 'vary': 3531, 'varying': 3532, 'vasoconstriction': 3533, 'vehicles': 3534, 'vein': 3535, 'velocity': 3536, 'venom': 3537, 'verbal': 3538, 'vertebrae': 3539, 'vertebrate': 3540, 'vertically': 3541, 'vesicle': 3542, 'vibrates': 3543, 'vibrational': 3544, 'video': 3545, 'vinyl': 3546, 'violent': 3547, 'virus': 3548, 'visitation': 3549, 'vital': 3550, 'vitamins': 3551, 'vocalizing': 3552, 'voice': 3553, 'volatile': 3554, 'volcanoes': 3555, 'voles': 3556, 'volkswagen': 3557, 'voltage': 3558, 'voluntary': 3559, 'vomiting': 3560, 'vultures': 3561, 'walruses': 3562, 'warblers': 3563, 'was': 3564, 'wash': 3565, 'wasps': 3566, 'wasted': 3567, 'watching': 3568, 'waterfall': 3569, 'watershed': 3570, 'watershred': 3571, 'wavelengths': 3572, 'way': 3573, 'webbed': 3574, 'wedging': 3575, 'weighs': 3576, 'weightlifting': 3577, 'wetland': 3578, 'wetter': 3579, 'what': 3580, 'while': 3581, 'whistle': 3582, 'whose': 3583, 'widely': 3584, 'widen': 3585, 'wild': 3586, 'wildfire': 3587, 'wildfires': 3588, 'windpower': 3589, 'wire': 3590, 'wires': 3591, 'wo': 3592, 'woman': 3593, 'wooly': 3594, 'working': 3595, 'workouts': 3596, 'works': 3597, 'world': 3598, 'worsened': 3599, 'would': 3600, 'year': 3601, 'yeast': 3602, 'yeasts': 3603, 'yellow': 3604, 'yields': 3605, 'young': 3606, 'zero': 3607, 'zinc': 3608, 'zones': 3609})\n"
          ],
          "name": "stdout"
        }
      ]
    },
    {
      "cell_type": "code",
      "metadata": {
        "id": "q8v8gQgP70gY"
      },
      "source": [
        "device = torch.device('cuda' if torch.cuda.is_available() else 'cpu')"
      ],
      "execution_count": null,
      "outputs": []
    },
    {
      "cell_type": "code",
      "metadata": {
        "id": "DpBfZQk-7yTL"
      },
      "source": [
        "BATCH_SIZE=128\r\n",
        "train_iterator, test_iterator = BucketIterator.splits(\r\n",
        "    (train, valid), \r\n",
        "    batch_size = BATCH_SIZE, \r\n",
        "    device = device, sort=False, shuffle=False)"
      ],
      "execution_count": null,
      "outputs": []
    },
    {
      "cell_type": "markdown",
      "metadata": {
        "id": "BtqKGxNO9ejF"
      },
      "source": [
        "Define the device."
      ]
    },
    {
      "cell_type": "code",
      "metadata": {
        "id": "ey8yA-Yh9ejF"
      },
      "source": [
        "device = torch.device('cuda' if torch.cuda.is_available() else 'cpu')"
      ],
      "execution_count": null,
      "outputs": []
    },
    {
      "cell_type": "markdown",
      "metadata": {
        "id": "aqnAGiVU9ejF"
      },
      "source": [
        "Create the iterators."
      ]
    },
    {
      "cell_type": "code",
      "metadata": {
        "id": "g50zv9L79ejF"
      },
      "source": [
        "BATCH_SIZE = 128\n",
        "\n",
        "train_iterator, valid_iterator, test_iterator = BucketIterator.splits(\n",
        "    (train_data, valid_data, test_data), \n",
        "    batch_size = BATCH_SIZE,\n",
        "    device = device)"
      ],
      "execution_count": null,
      "outputs": []
    },
    {
      "cell_type": "markdown",
      "metadata": {
        "id": "QP5s8Vov9ejF"
      },
      "source": [
        "## Building the Seq2Seq Model\n",
        "\n",
        "### Encoder\n",
        "\n",
        "First, we'll build the encoder. Similar to the previous model, we only use a single layer GRU, however we now use a *bidirectional RNN*. With a bidirectional RNN, we have two RNNs in each layer. A *forward RNN* going over the embedded sentence from left to right (shown below in green), and a *backward RNN* going over the embedded sentence from right to left (teal). All we need to do in code is set `bidirectional = True` and then pass the embedded sentence to the RNN as before. \n",
        "\n",
        "![](https://github.com/bentrevett/pytorch-seq2seq/blob/master/assets/seq2seq8.png?raw=1)\n",
        "\n",
        "We now have:\n",
        "\n",
        "$$\\begin{align*}\n",
        "h_t^\\rightarrow &= \\text{EncoderGRU}^\\rightarrow(e(x_t^\\rightarrow),h_{t-1}^\\rightarrow)\\\\\n",
        "h_t^\\leftarrow &= \\text{EncoderGRU}^\\leftarrow(e(x_t^\\leftarrow),h_{t-1}^\\leftarrow)\n",
        "\\end{align*}$$\n",
        "\n",
        "Where $x_0^\\rightarrow = \\text{<sos>}, x_1^\\rightarrow = \\text{guten}$ and $x_0^\\leftarrow = \\text{<eos>}, x_1^\\leftarrow = \\text{morgen}$.\n",
        "\n",
        "As before, we only pass an input (`embedded`) to the RNN, which tells PyTorch to initialize both the forward and backward initial hidden states ($h_0^\\rightarrow$ and $h_0^\\leftarrow$, respectively) to a tensor of all zeros. We'll also get two context vectors, one from the forward RNN after it has seen the final word in the sentence, $z^\\rightarrow=h_T^\\rightarrow$, and one from the backward RNN after it has seen the first word in the sentence, $z^\\leftarrow=h_T^\\leftarrow$.\n",
        "\n",
        "The RNN returns `outputs` and `hidden`. \n",
        "\n",
        "`outputs` is of size **[src len, batch size, hid dim * num directions]** where the first `hid_dim` elements in the third axis are the hidden states from the top layer forward RNN, and the last `hid_dim` elements are hidden states from the top layer backward RNN. We can think of the third axis as being the forward and backward hidden states concatenated together other, i.e. $h_1 = [h_1^\\rightarrow; h_{T}^\\leftarrow]$, $h_2 = [h_2^\\rightarrow; h_{T-1}^\\leftarrow]$ and we can denote all encoder hidden states (forward and backwards concatenated together) as $H=\\{ h_1, h_2, ..., h_T\\}$.\n",
        "\n",
        "`hidden` is of size **[n layers * num directions, batch size, hid dim]**, where **[-2, :, :]** gives the top layer forward RNN hidden state after the final time-step (i.e. after it has seen the last word in the sentence) and **[-1, :, :]** gives the top layer backward RNN hidden state after the final time-step (i.e. after it has seen the first word in the sentence).\n",
        "\n",
        "As the decoder is not bidirectional, it only needs a single context vector, $z$, to use as its initial hidden state, $s_0$, and we currently have two, a forward and a backward one ($z^\\rightarrow=h_T^\\rightarrow$ and $z^\\leftarrow=h_T^\\leftarrow$, respectively). We solve this by concatenating the two context vectors together, passing them through a linear layer, $g$, and applying the $\\tanh$ activation function. \n",
        "\n",
        "$$z=\\tanh(g(h_T^\\rightarrow, h_T^\\leftarrow)) = \\tanh(g(z^\\rightarrow, z^\\leftarrow)) = s_0$$\n",
        "\n",
        "**Note**: this is actually a deviation from the paper. Instead, they feed only the first backward RNN hidden state through a linear layer to get the context vector/decoder initial hidden state. This doesn't seem to make sense to me, so we have changed it.\n",
        "\n",
        "As we want our model to look back over the whole of the source sentence we return `outputs`, the stacked forward and backward hidden states for every token in the source sentence. We also return `hidden`, which acts as our initial hidden state in the decoder."
      ]
    },
    {
      "cell_type": "code",
      "metadata": {
        "id": "Y8ovMJ3_9ejF"
      },
      "source": [
        "class Encoder(nn.Module):\n",
        "    def __init__(self, input_dim, emb_dim, enc_hid_dim, dec_hid_dim, dropout):\n",
        "        super().__init__()\n",
        "        \n",
        "        self.embedding = nn.Embedding(input_dim, emb_dim)\n",
        "        \n",
        "        self.rnn = nn.GRU(emb_dim, enc_hid_dim, bidirectional = True)\n",
        "        \n",
        "        self.fc = nn.Linear(enc_hid_dim * 2, dec_hid_dim)\n",
        "        \n",
        "        self.dropout = nn.Dropout(dropout)\n",
        "        \n",
        "    def forward(self, src):\n",
        "        \n",
        "        #src = [src len, batch size]\n",
        "        \n",
        "        embedded = self.dropout(self.embedding(src))\n",
        "        \n",
        "        #embedded = [src len, batch size, emb dim]\n",
        "        \n",
        "        outputs, hidden = self.rnn(embedded)\n",
        "                \n",
        "        #outputs = [src len, batch size, hid dim * num directions]\n",
        "        #hidden = [n layers * num directions, batch size, hid dim]\n",
        "        \n",
        "        #hidden is stacked [forward_1, backward_1, forward_2, backward_2, ...]\n",
        "        #outputs are always from the last layer\n",
        "        \n",
        "        #hidden [-2, :, : ] is the last of the forwards RNN \n",
        "        #hidden [-1, :, : ] is the last of the backwards RNN\n",
        "        \n",
        "        #initial decoder hidden is final hidden state of the forwards and backwards \n",
        "        #  encoder RNNs fed through a linear layer\n",
        "        hidden = torch.tanh(self.fc(torch.cat((hidden[-2,:,:], hidden[-1,:,:]), dim = 1)))\n",
        "        \n",
        "        #outputs = [src len, batch size, enc hid dim * 2]\n",
        "        #hidden = [batch size, dec hid dim]\n",
        "        \n",
        "        return outputs, hidden"
      ],
      "execution_count": null,
      "outputs": []
    },
    {
      "cell_type": "markdown",
      "metadata": {
        "id": "o9WNKZ4D9ejF"
      },
      "source": [
        "### Attention\n",
        "\n",
        "Next up is the attention layer. This will take in the previous hidden state of the decoder, $s_{t-1}$, and all of the stacked forward and backward hidden states from the encoder, $H$. The layer will output an attention vector, $a_t$, that is the length of the source sentence, each element is between 0 and 1 and the entire vector sums to 1.\n",
        "\n",
        "Intuitively, this layer takes what we have decoded so far, $s_{t-1}$, and all of what we have encoded, $H$, to produce a vector, $a_t$, that represents which words in the source sentence we should pay the most attention to in order to correctly predict the next word to decode, $\\hat{y}_{t+1}$. \n",
        "\n",
        "First, we calculate the *energy* between the previous decoder hidden state and the encoder hidden states. As our encoder hidden states are a sequence of $T$ tensors, and our previous decoder hidden state is a single tensor, the first thing we do is `repeat` the previous decoder hidden state $T$ times. We then calculate the energy, $E_t$, between them by concatenating them together and passing them through a linear layer (`attn`) and a $\\tanh$ activation function. \n",
        "\n",
        "$$E_t = \\tanh(\\text{attn}(s_{t-1}, H))$$ \n",
        "\n",
        "This can be thought of as calculating how well each encoder hidden state \"matches\" the previous decoder hidden state.\n",
        "\n",
        "We currently have a **[dec hid dim, src len]** tensor for each example in the batch. We want this to be **[src len]** for each example in the batch as the attention should be over the length of the source sentence. This is achieved by multiplying the `energy` by a **[1, dec hid dim]** tensor, $v$.\n",
        "\n",
        "$$\\hat{a}_t = v E_t$$\n",
        "\n",
        "We can think of $v$ as the weights for a weighted sum of the energy across all encoder hidden states. These weights tell us how much we should attend to each token in the source sequence. The parameters of $v$ are initialized randomly, but learned with the rest of the model via backpropagation. Note how $v$ is not dependent on time, and the same $v$ is used for each time-step of the decoding. We implement $v$ as a linear layer without a bias.\n",
        "\n",
        "Finally, we ensure the attention vector fits the constraints of having all elements between 0 and 1 and the vector summing to 1 by passing it through a $\\text{softmax}$ layer.\n",
        "\n",
        "$$a_t = \\text{softmax}(\\hat{a_t})$$\n",
        "\n",
        "This gives us the attention over the source sentence!\n",
        "\n",
        "Graphically, this looks something like below. This is for calculating the very first attention vector, where $s_{t-1} = s_0 = z$. The green/teal blocks represent the hidden states from both the forward and backward RNNs, and the attention computation is all done within the pink block.\n",
        "\n",
        "![](https://github.com/bentrevett/pytorch-seq2seq/blob/master/assets/seq2seq9.png?raw=1)"
      ]
    },
    {
      "cell_type": "code",
      "metadata": {
        "id": "7yXR6Qbg9ejF"
      },
      "source": [
        "class Attention(nn.Module):\n",
        "    def __init__(self, enc_hid_dim, dec_hid_dim):\n",
        "        super().__init__()\n",
        "        \n",
        "        self.attn = nn.Linear((enc_hid_dim * 2) + dec_hid_dim, dec_hid_dim)\n",
        "        self.v = nn.Linear(dec_hid_dim, 1, bias = False)\n",
        "        \n",
        "    def forward(self, hidden, encoder_outputs):\n",
        "        \n",
        "        #hidden = [batch size, dec hid dim]\n",
        "        #encoder_outputs = [src len, batch size, enc hid dim * 2]\n",
        "        \n",
        "        batch_size = encoder_outputs.shape[1]\n",
        "        src_len = encoder_outputs.shape[0]\n",
        "        \n",
        "        #repeat decoder hidden state src_len times\n",
        "        hidden = hidden.unsqueeze(1).repeat(1, src_len, 1)\n",
        "        \n",
        "        encoder_outputs = encoder_outputs.permute(1, 0, 2)\n",
        "        \n",
        "        #hidden = [batch size, src len, dec hid dim]\n",
        "        #encoder_outputs = [batch size, src len, enc hid dim * 2]\n",
        "        \n",
        "        energy = torch.tanh(self.attn(torch.cat((hidden, encoder_outputs), dim = 2))) \n",
        "        \n",
        "        #energy = [batch size, src len, dec hid dim]\n",
        "\n",
        "        attention = self.v(energy).squeeze(2)\n",
        "        \n",
        "        #attention= [batch size, src len]\n",
        "        \n",
        "        return F.softmax(attention, dim=1)"
      ],
      "execution_count": null,
      "outputs": []
    },
    {
      "cell_type": "markdown",
      "metadata": {
        "id": "pb-p1mhO9ejF"
      },
      "source": [
        "### Decoder\n",
        "\n",
        "Next up is the decoder. \n",
        "\n",
        "The decoder contains the attention layer, `attention`, which takes the previous hidden state, $s_{t-1}$, all of the encoder hidden states, $H$, and returns the attention vector, $a_t$.\n",
        "\n",
        "We then use this attention vector to create a weighted source vector, $w_t$, denoted by `weighted`, which is a weighted sum of the encoder hidden states, $H$, using $a_t$ as the weights.\n",
        "\n",
        "$$w_t = a_t H$$\n",
        "\n",
        "The embedded input word, $d(y_t)$, the weighted source vector, $w_t$, and the previous decoder hidden state, $s_{t-1}$, are then all passed into the decoder RNN, with $d(y_t)$ and $w_t$ being concatenated together.\n",
        "\n",
        "$$s_t = \\text{DecoderGRU}(d(y_t), w_t, s_{t-1})$$\n",
        "\n",
        "We then pass $d(y_t)$, $w_t$ and $s_t$ through the linear layer, $f$, to make a prediction of the next word in the target sentence, $\\hat{y}_{t+1}$. This is done by concatenating them all together.\n",
        "\n",
        "$$\\hat{y}_{t+1} = f(d(y_t), w_t, s_t)$$\n",
        "\n",
        "The image below shows decoding the first word in an example translation.\n",
        "\n",
        "![](https://github.com/bentrevett/pytorch-seq2seq/blob/master/assets/seq2seq10.png?raw=1)\n",
        "\n",
        "The green/teal blocks show the forward/backward encoder RNNs which output $H$, the red block shows the context vector, $z = h_T = \\tanh(g(h^\\rightarrow_T,h^\\leftarrow_T)) = \\tanh(g(z^\\rightarrow, z^\\leftarrow)) = s_0$, the blue block shows the decoder RNN which outputs $s_t$, the purple block shows the linear layer, $f$, which outputs $\\hat{y}_{t+1}$ and the orange block shows the calculation of the weighted sum over $H$ by $a_t$ and outputs $w_t$. Not shown is the calculation of $a_t$."
      ]
    },
    {
      "cell_type": "code",
      "metadata": {
        "id": "5wg3PolD9ejF"
      },
      "source": [
        "class Decoder(nn.Module):\n",
        "    def __init__(self, output_dim, emb_dim, enc_hid_dim, dec_hid_dim, dropout, attention):\n",
        "        super().__init__()\n",
        "\n",
        "        self.output_dim = output_dim\n",
        "        self.attention = attention\n",
        "        \n",
        "        self.embedding = nn.Embedding(output_dim, emb_dim)\n",
        "        \n",
        "        self.rnn = nn.GRU((enc_hid_dim * 2) + emb_dim, dec_hid_dim)\n",
        "        \n",
        "        self.fc_out = nn.Linear((enc_hid_dim * 2) + dec_hid_dim + emb_dim, output_dim)\n",
        "        \n",
        "        self.dropout = nn.Dropout(dropout)\n",
        "        \n",
        "    def forward(self, input, hidden, encoder_outputs):\n",
        "             \n",
        "        #input = [batch size]\n",
        "        #hidden = [batch size, dec hid dim]\n",
        "        #encoder_outputs = [src len, batch size, enc hid dim * 2]\n",
        "        \n",
        "        input = input.unsqueeze(0)\n",
        "        \n",
        "        #input = [1, batch size]\n",
        "        \n",
        "        embedded = self.dropout(self.embedding(input))\n",
        "        \n",
        "        #embedded = [1, batch size, emb dim]\n",
        "        \n",
        "        a = self.attention(hidden, encoder_outputs)\n",
        "                \n",
        "        #a = [batch size, src len]\n",
        "        \n",
        "        a = a.unsqueeze(1)\n",
        "        \n",
        "        #a = [batch size, 1, src len]\n",
        "        \n",
        "        encoder_outputs = encoder_outputs.permute(1, 0, 2)\n",
        "        \n",
        "        #encoder_outputs = [batch size, src len, enc hid dim * 2]\n",
        "        \n",
        "        weighted = torch.bmm(a, encoder_outputs)\n",
        "        \n",
        "        #weighted = [batch size, 1, enc hid dim * 2]\n",
        "        \n",
        "        weighted = weighted.permute(1, 0, 2)\n",
        "        \n",
        "        #weighted = [1, batch size, enc hid dim * 2]\n",
        "        \n",
        "        rnn_input = torch.cat((embedded, weighted), dim = 2)\n",
        "        \n",
        "        #rnn_input = [1, batch size, (enc hid dim * 2) + emb dim]\n",
        "            \n",
        "        output, hidden = self.rnn(rnn_input, hidden.unsqueeze(0))\n",
        "        \n",
        "        #output = [seq len, batch size, dec hid dim * n directions]\n",
        "        #hidden = [n layers * n directions, batch size, dec hid dim]\n",
        "        \n",
        "        #seq len, n layers and n directions will always be 1 in this decoder, therefore:\n",
        "        #output = [1, batch size, dec hid dim]\n",
        "        #hidden = [1, batch size, dec hid dim]\n",
        "        #this also means that output == hidden\n",
        "        assert (output == hidden).all()\n",
        "        \n",
        "        embedded = embedded.squeeze(0)\n",
        "        output = output.squeeze(0)\n",
        "        weighted = weighted.squeeze(0)\n",
        "        \n",
        "        prediction = self.fc_out(torch.cat((output, weighted, embedded), dim = 1))\n",
        "        \n",
        "        #prediction = [batch size, output dim]\n",
        "        \n",
        "        return prediction, hidden.squeeze(0)"
      ],
      "execution_count": null,
      "outputs": []
    },
    {
      "cell_type": "markdown",
      "metadata": {
        "id": "gj7DZYQD9ejF"
      },
      "source": [
        "### Seq2Seq\n",
        "\n",
        "This is the first model where we don't have to have the encoder RNN and decoder RNN have the same hidden dimensions, however the encoder has to be bidirectional. This requirement can be removed by changing all occurences of `enc_dim * 2` to `enc_dim * 2 if encoder_is_bidirectional else enc_dim`. \n",
        "\n",
        "This seq2seq encapsulator is similar to the last two. The only difference is that the `encoder` returns both the final hidden state (which is the final hidden state from both the forward and backward encoder RNNs passed through a linear layer) to be used as the initial hidden state for the decoder, as well as every hidden state (which are the forward and backward hidden states stacked on top of each other). We also need to ensure that `hidden` and `encoder_outputs` are passed to the decoder. \n",
        "\n",
        "Briefly going over all of the steps:\n",
        "- the `outputs` tensor is created to hold all predictions, $\\hat{Y}$\n",
        "- the source sequence, $X$, is fed into the encoder to receive $z$ and $H$\n",
        "- the initial decoder hidden state is set to be the `context` vector, $s_0 = z = h_T$\n",
        "- we use a batch of `<sos>` tokens as the first `input`, $y_1$\n",
        "- we then decode within a loop:\n",
        "  - inserting the input token $y_t$, previous hidden state, $s_{t-1}$, and all encoder outputs, $H$, into the decoder\n",
        "  - receiving a prediction, $\\hat{y}_{t+1}$, and a new hidden state, $s_t$\n",
        "  - we then decide if we are going to teacher force or not, setting the next input as appropriate"
      ]
    },
    {
      "cell_type": "code",
      "metadata": {
        "id": "UEkTIixA9ejF"
      },
      "source": [
        "class Seq2Seq(nn.Module):\n",
        "    def __init__(self, encoder, decoder, device):\n",
        "        super().__init__()\n",
        "        \n",
        "        self.encoder = encoder\n",
        "        self.decoder = decoder\n",
        "        self.device = device\n",
        "        \n",
        "    def forward(self, src, trg, teacher_forcing_ratio = 0.5):\n",
        "        \n",
        "        #src = [src len, batch size]\n",
        "        #trg = [trg len, batch size]\n",
        "        #teacher_forcing_ratio is probability to use teacher forcing\n",
        "        #e.g. if teacher_forcing_ratio is 0.75 we use teacher forcing 75% of the time\n",
        "        \n",
        "        batch_size = src.shape[1]\n",
        "        trg_len = trg.shape[0]\n",
        "        trg_vocab_size = self.decoder.output_dim\n",
        "        \n",
        "        #tensor to store decoder outputs\n",
        "        outputs = torch.zeros(trg_len, batch_size, trg_vocab_size).to(self.device)\n",
        "        \n",
        "        #encoder_outputs is all hidden states of the input sequence, back and forwards\n",
        "        #hidden is the final forward and backward hidden states, passed through a linear layer\n",
        "        encoder_outputs, hidden = self.encoder(src)\n",
        "                \n",
        "        #first input to the decoder is the <sos> tokens\n",
        "        input = trg[0,:]\n",
        "        \n",
        "        for t in range(1, trg_len):\n",
        "            \n",
        "            #insert input token embedding, previous hidden state and all encoder hidden states\n",
        "            #receive output tensor (predictions) and new hidden state\n",
        "            output, hidden = self.decoder(input, hidden, encoder_outputs)\n",
        "            \n",
        "            #place predictions in a tensor holding predictions for each token\n",
        "            outputs[t] = output\n",
        "            \n",
        "            #decide if we are going to use teacher forcing or not\n",
        "            teacher_force = random.random() < teacher_forcing_ratio\n",
        "            \n",
        "            #get the highest predicted token from our predictions\n",
        "            top1 = output.argmax(1) \n",
        "            \n",
        "            #if teacher forcing, use actual next token as next input\n",
        "            #if not, use predicted token\n",
        "            input = trg[t] if teacher_force else top1\n",
        "\n",
        "        return outputs"
      ],
      "execution_count": null,
      "outputs": []
    },
    {
      "cell_type": "markdown",
      "metadata": {
        "id": "cXyLKEkh9ejF"
      },
      "source": [
        "## Training the Seq2Seq Model\n",
        "\n",
        "The rest of this session is very similar to the previous one.\n",
        "\n",
        "We initialise our parameters, encoder, decoder and seq2seq model (placing it on the GPU if we have one). "
      ]
    },
    {
      "cell_type": "code",
      "metadata": {
        "id": "f7FRQ8UR9ejF"
      },
      "source": [
        "# INPUT_DIM = len(SRC.vocab)\n",
        "# OUTPUT_DIM = len(TRG.vocab)\n",
        "\n",
        "INPUT_DIM = len(Sentence.vocab)\n",
        "OUTPUT_DIM = len(Label.vocab)\n",
        "\n",
        "ENC_EMB_DIM = 256\n",
        "DEC_EMB_DIM = 256\n",
        "ENC_HID_DIM = 512\n",
        "DEC_HID_DIM = 512\n",
        "ENC_DROPOUT = 0.5\n",
        "DEC_DROPOUT = 0.5\n",
        "\n",
        "attn = Attention(ENC_HID_DIM, DEC_HID_DIM)\n",
        "enc = Encoder(INPUT_DIM, ENC_EMB_DIM, ENC_HID_DIM, DEC_HID_DIM, ENC_DROPOUT)\n",
        "dec = Decoder(OUTPUT_DIM, DEC_EMB_DIM, ENC_HID_DIM, DEC_HID_DIM, DEC_DROPOUT, attn)\n",
        "\n",
        "model = Seq2Seq(enc, dec, device).to(device)"
      ],
      "execution_count": null,
      "outputs": []
    },
    {
      "cell_type": "markdown",
      "metadata": {
        "id": "Ux1sNqPk9ejF"
      },
      "source": [
        "We use a simplified version of the weight initialization scheme used in the paper. Here, we will initialize all biases to zero and all weights from $\\mathcal{N}(0, 0.01)$."
      ]
    },
    {
      "cell_type": "code",
      "metadata": {
        "id": "YXaq2o559ejF",
        "colab": {
          "base_uri": "https://localhost:8080/"
        },
        "outputId": "eb099c42-5003-421c-8801-42075e645089"
      },
      "source": [
        "def init_weights(m):\n",
        "    for name, param in m.named_parameters():\n",
        "        if 'weight' in name:\n",
        "            nn.init.normal_(param.data, mean=0, std=0.01)\n",
        "        else:\n",
        "            nn.init.constant_(param.data, 0)\n",
        "            \n",
        "model.apply(init_weights)"
      ],
      "execution_count": null,
      "outputs": [
        {
          "output_type": "execute_result",
          "data": {
            "text/plain": [
              "Seq2Seq(\n",
              "  (encoder): Encoder(\n",
              "    (embedding): Embedding(10058, 256)\n",
              "    (rnn): GRU(256, 512, bidirectional=True)\n",
              "    (fc): Linear(in_features=1024, out_features=512, bias=True)\n",
              "    (dropout): Dropout(p=0.5, inplace=False)\n",
              "  )\n",
              "  (decoder): Decoder(\n",
              "    (attention): Attention(\n",
              "      (attn): Linear(in_features=1536, out_features=512, bias=True)\n",
              "      (v): Linear(in_features=512, out_features=1, bias=False)\n",
              "    )\n",
              "    (embedding): Embedding(3610, 256)\n",
              "    (rnn): GRU(1280, 512)\n",
              "    (fc_out): Linear(in_features=1792, out_features=3610, bias=True)\n",
              "    (dropout): Dropout(p=0.5, inplace=False)\n",
              "  )\n",
              ")"
            ]
          },
          "metadata": {
            "tags": []
          },
          "execution_count": 97
        }
      ]
    },
    {
      "cell_type": "markdown",
      "metadata": {
        "id": "ij9nRbgx9ejH"
      },
      "source": [
        "Calculate the number of parameters. We get an increase of almost 50% in the amount of parameters from the last model. "
      ]
    },
    {
      "cell_type": "code",
      "metadata": {
        "id": "2oAsDCtJ9ejH",
        "colab": {
          "base_uri": "https://localhost:8080/"
        },
        "outputId": "3235398f-29f5-4781-a55f-2b38ab790429"
      },
      "source": [
        "def count_parameters(model):\n",
        "    return sum(p.numel() for p in model.parameters() if p.requires_grad)\n",
        "\n",
        "print(f'The model has {count_parameters(model):,} trainable parameters')"
      ],
      "execution_count": null,
      "outputs": [
        {
          "output_type": "stream",
          "text": [
            "The model has 16,405,018 trainable parameters\n"
          ],
          "name": "stdout"
        }
      ]
    },
    {
      "cell_type": "markdown",
      "metadata": {
        "id": "h-C9PF1d9ejH"
      },
      "source": [
        "We create an optimizer."
      ]
    },
    {
      "cell_type": "code",
      "metadata": {
        "id": "ox4JAgEE9ejH"
      },
      "source": [
        "optimizer = optim.Adam(model.parameters())"
      ],
      "execution_count": null,
      "outputs": []
    },
    {
      "cell_type": "markdown",
      "metadata": {
        "id": "A5FzwRlz9ejH"
      },
      "source": [
        "We initialize the loss function."
      ]
    },
    {
      "cell_type": "code",
      "metadata": {
        "id": "0iAv-6As9ejH"
      },
      "source": [
        "# TRG_PAD_IDX = TRG.vocab.stoi[TRG.pad_token]\n",
        "\n",
        "TRG_PAD_IDX = Label.vocab.stoi[Label.pad_token]\n",
        "\n",
        "criterion = nn.CrossEntropyLoss(ignore_index = TRG_PAD_IDX)"
      ],
      "execution_count": null,
      "outputs": []
    },
    {
      "cell_type": "markdown",
      "metadata": {
        "id": "-bzv6baC9ejH"
      },
      "source": [
        "We then create the training loop..."
      ]
    },
    {
      "cell_type": "code",
      "metadata": {
        "id": "bYPFqH6a9ejH"
      },
      "source": [
        "def train(model, iterator, optimizer, criterion, clip):\n",
        "    \n",
        "    model.train()\n",
        "    \n",
        "    epoch_loss = 0\n",
        "    \n",
        "    for i, batch in enumerate(iterator):\n",
        "        \n",
        "        # src = batch.src\n",
        "        # trg = batch.trg\n",
        "        src = batch.sentence\n",
        "        trg = batch.label\n",
        "        optimizer.zero_grad()\n",
        "        \n",
        "        output = model(src, trg)\n",
        "        \n",
        "        #trg = [trg len, batch size]\n",
        "        #output = [trg len, batch size, output dim]\n",
        "        \n",
        "        output_dim = output.shape[-1]\n",
        "        \n",
        "        output = output[1:].view(-1, output_dim)\n",
        "        trg = trg[1:].view(-1)\n",
        "        \n",
        "        #trg = [(trg len - 1) * batch size]\n",
        "        #output = [(trg len - 1) * batch size, output dim]\n",
        "        \n",
        "        loss = criterion(output, trg)\n",
        "        \n",
        "        loss.backward()\n",
        "        \n",
        "        torch.nn.utils.clip_grad_norm_(model.parameters(), clip)\n",
        "        \n",
        "        optimizer.step()\n",
        "        \n",
        "        epoch_loss += loss.item()\n",
        "        \n",
        "    return epoch_loss / len(iterator)"
      ],
      "execution_count": null,
      "outputs": []
    },
    {
      "cell_type": "markdown",
      "metadata": {
        "id": "sNawOMJD9ejH"
      },
      "source": [
        "...and the evaluation loop, remembering to set the model to `eval` mode and turn off teaching forcing."
      ]
    },
    {
      "cell_type": "code",
      "metadata": {
        "id": "AQotLtCi9ejH"
      },
      "source": [
        "def evaluate(model, iterator, criterion):\n",
        "    \n",
        "    model.eval()\n",
        "    \n",
        "    epoch_loss = 0\n",
        "    \n",
        "    with torch.no_grad():\n",
        "    \n",
        "        for i, batch in enumerate(iterator):\n",
        "\n",
        "            # src = batch.src\n",
        "            # trg = batch.trg\n",
        "            src = batch.sentence\n",
        "            trg = batch.label\n",
        "\n",
        "            output = model(src, trg, 0) #turn off teacher forcing\n",
        "\n",
        "            #trg = [trg len, batch size]\n",
        "            #output = [trg len, batch size, output dim]\n",
        "\n",
        "            output_dim = output.shape[-1]\n",
        "            \n",
        "            output = output[1:].view(-1, output_dim)\n",
        "            trg = trg[1:].view(-1)\n",
        "\n",
        "            #trg = [(trg len - 1) * batch size]\n",
        "            #output = [(trg len - 1) * batch size, output dim]\n",
        "\n",
        "            loss = criterion(output, trg)\n",
        "\n",
        "            epoch_loss += loss.item()\n",
        "        \n",
        "    return epoch_loss / len(iterator)"
      ],
      "execution_count": null,
      "outputs": []
    },
    {
      "cell_type": "markdown",
      "metadata": {
        "id": "4_TUjr1O9ejH"
      },
      "source": [
        "Finally, define a timing function."
      ]
    },
    {
      "cell_type": "code",
      "metadata": {
        "id": "_UMyHEYS9ejH"
      },
      "source": [
        "def epoch_time(start_time, end_time):\n",
        "    elapsed_time = end_time - start_time\n",
        "    elapsed_mins = int(elapsed_time / 60)\n",
        "    elapsed_secs = int(elapsed_time - (elapsed_mins * 60))\n",
        "    return elapsed_mins, elapsed_secs"
      ],
      "execution_count": null,
      "outputs": []
    },
    {
      "cell_type": "markdown",
      "metadata": {
        "id": "wYKIfYvY9ejH"
      },
      "source": [
        "Then, we train our model, saving the parameters that give us the best validation loss."
      ]
    },
    {
      "cell_type": "code",
      "metadata": {
        "id": "V2-2b9-W9ejH",
        "colab": {
          "base_uri": "https://localhost:8080/"
        },
        "outputId": "cd3464a1-ced7-429f-c65f-fb66fcd8b014"
      },
      "source": [
        "N_EPOCHS = 10\n",
        "CLIP = 1\n",
        "\n",
        "best_valid_loss = float('inf')\n",
        "\n",
        "for epoch in range(N_EPOCHS):\n",
        "    \n",
        "    start_time = time.time()\n",
        "    \n",
        "    train_loss = train(model, train_iterator, optimizer, criterion, CLIP)\n",
        "    # valid_loss = evaluate(model, valid_iterator, criterion)\n",
        "    valid_loss = evaluate(model, test_iterator, criterion)\n",
        "\n",
        "    \n",
        "    end_time = time.time()\n",
        "    \n",
        "    epoch_mins, epoch_secs = epoch_time(start_time, end_time)\n",
        "    \n",
        "    if valid_loss < best_valid_loss:\n",
        "        best_valid_loss = valid_loss\n",
        "        torch.save(model.state_dict(), 'tut3-model.pt')\n",
        "    \n",
        "    print(f'Epoch: {epoch+1:02} | Time: {epoch_mins}m {epoch_secs}s')\n",
        "    print(f'\\tTrain Loss: {train_loss:.3f} | Train PPL: {math.exp(train_loss):7.3f}')\n",
        "    print(f'\\t Val. Loss: {valid_loss:.3f} |  Val. PPL: {math.exp(valid_loss):7.3f}')"
      ],
      "execution_count": null,
      "outputs": [
        {
          "output_type": "stream",
          "text": [
            "Epoch: 01 | Time: 0m 11s\n",
            "\tTrain Loss: 5.937 | Train PPL: 378.819\n",
            "\t Val. Loss: 7.457 |  Val. PPL: 1731.655\n",
            "Epoch: 02 | Time: 0m 11s\n",
            "\tTrain Loss: 5.896 | Train PPL: 363.682\n",
            "\t Val. Loss: 7.409 |  Val. PPL: 1651.488\n",
            "Epoch: 03 | Time: 0m 11s\n",
            "\tTrain Loss: 5.860 | Train PPL: 350.609\n",
            "\t Val. Loss: 7.375 |  Val. PPL: 1595.849\n",
            "Epoch: 04 | Time: 0m 11s\n",
            "\tTrain Loss: 5.828 | Train PPL: 339.581\n",
            "\t Val. Loss: 7.348 |  Val. PPL: 1552.826\n",
            "Epoch: 05 | Time: 0m 11s\n",
            "\tTrain Loss: 5.794 | Train PPL: 328.339\n",
            "\t Val. Loss: 7.312 |  Val. PPL: 1498.395\n",
            "Epoch: 06 | Time: 0m 11s\n",
            "\tTrain Loss: 5.761 | Train PPL: 317.707\n",
            "\t Val. Loss: 7.282 |  Val. PPL: 1454.583\n",
            "Epoch: 07 | Time: 0m 11s\n",
            "\tTrain Loss: 5.727 | Train PPL: 306.935\n",
            "\t Val. Loss: 7.250 |  Val. PPL: 1407.738\n",
            "Epoch: 08 | Time: 0m 11s\n",
            "\tTrain Loss: 5.703 | Train PPL: 299.784\n",
            "\t Val. Loss: 7.226 |  Val. PPL: 1375.316\n",
            "Epoch: 09 | Time: 0m 11s\n",
            "\tTrain Loss: 5.693 | Train PPL: 296.777\n",
            "\t Val. Loss: 7.204 |  Val. PPL: 1344.911\n",
            "Epoch: 10 | Time: 0m 11s\n",
            "\tTrain Loss: 5.689 | Train PPL: 295.715\n",
            "\t Val. Loss: 7.184 |  Val. PPL: 1318.341\n"
          ],
          "name": "stdout"
        }
      ]
    },
    {
      "cell_type": "code",
      "metadata": {
        "id": "jY5B4McO9jQX"
      },
      "source": [
        "optimizer = optim.Adam(model.parameters(), lr=0.00001, weight_decay=0.001)"
      ],
      "execution_count": null,
      "outputs": []
    },
    {
      "cell_type": "code",
      "metadata": {
        "colab": {
          "base_uri": "https://localhost:8080/"
        },
        "id": "tPHt21sA9l1W",
        "outputId": "e0ee6633-503f-4de3-c12c-bfbb3a9e634c"
      },
      "source": [
        "N_EPOCHS = 20\r\n",
        "CLIP = 1\r\n",
        "\r\n",
        "best_valid_loss = float('inf')\r\n",
        "\r\n",
        "for epoch in range(N_EPOCHS):\r\n",
        "    \r\n",
        "    start_time = time.time()\r\n",
        "    \r\n",
        "    train_loss = train(model, train_iterator, optimizer, criterion, CLIP)\r\n",
        "    # valid_loss = evaluate(model, valid_iterator, criterion)\r\n",
        "    valid_loss = evaluate(model, test_iterator, criterion)\r\n",
        "\r\n",
        "    \r\n",
        "    end_time = time.time()\r\n",
        "    \r\n",
        "    epoch_mins, epoch_secs = epoch_time(start_time, end_time)\r\n",
        "    \r\n",
        "    if valid_loss < best_valid_loss:\r\n",
        "        best_valid_loss = valid_loss\r\n",
        "        torch.save(model.state_dict(), 'tut3-model.pt')\r\n",
        "    \r\n",
        "    print(f'Epoch: {epoch+1:02} | Time: {epoch_mins}m {epoch_secs}s')\r\n",
        "    print(f'\\tTrain Loss: {train_loss:.3f} | Train PPL: {math.exp(train_loss):7.3f}')\r\n",
        "    print(f'\\t Val. Loss: {valid_loss:.3f} |  Val. PPL: {math.exp(valid_loss):7.3f}')"
      ],
      "execution_count": null,
      "outputs": [
        {
          "output_type": "stream",
          "text": [
            "Epoch: 01 | Time: 0m 11s\n",
            "\tTrain Loss: 5.666 | Train PPL: 288.892\n",
            "\t Val. Loss: 7.159 |  Val. PPL: 1286.267\n",
            "Epoch: 02 | Time: 0m 11s\n",
            "\tTrain Loss: 5.646 | Train PPL: 283.192\n",
            "\t Val. Loss: 7.136 |  Val. PPL: 1256.213\n",
            "Epoch: 03 | Time: 0m 11s\n",
            "\tTrain Loss: 5.645 | Train PPL: 282.858\n",
            "\t Val. Loss: 7.118 |  Val. PPL: 1234.426\n",
            "Epoch: 04 | Time: 0m 11s\n",
            "\tTrain Loss: 5.663 | Train PPL: 287.920\n",
            "\t Val. Loss: 7.102 |  Val. PPL: 1213.993\n",
            "Epoch: 05 | Time: 0m 11s\n",
            "\tTrain Loss: 5.645 | Train PPL: 282.974\n",
            "\t Val. Loss: 7.085 |  Val. PPL: 1194.274\n",
            "Epoch: 06 | Time: 0m 11s\n",
            "\tTrain Loss: 5.618 | Train PPL: 275.284\n",
            "\t Val. Loss: 7.070 |  Val. PPL: 1176.543\n",
            "Epoch: 07 | Time: 0m 11s\n",
            "\tTrain Loss: 5.639 | Train PPL: 281.208\n",
            "\t Val. Loss: 7.063 |  Val. PPL: 1168.215\n",
            "Epoch: 08 | Time: 0m 11s\n",
            "\tTrain Loss: 5.620 | Train PPL: 275.862\n",
            "\t Val. Loss: 7.048 |  Val. PPL: 1150.927\n",
            "Epoch: 09 | Time: 0m 11s\n",
            "\tTrain Loss: 5.613 | Train PPL: 273.968\n",
            "\t Val. Loss: 7.036 |  Val. PPL: 1136.600\n",
            "Epoch: 10 | Time: 0m 11s\n",
            "\tTrain Loss: 5.604 | Train PPL: 271.627\n",
            "\t Val. Loss: 7.029 |  Val. PPL: 1128.770\n",
            "Epoch: 11 | Time: 0m 11s\n",
            "\tTrain Loss: 5.617 | Train PPL: 275.030\n",
            "\t Val. Loss: 7.018 |  Val. PPL: 1116.504\n",
            "Epoch: 12 | Time: 0m 11s\n",
            "\tTrain Loss: 5.606 | Train PPL: 272.153\n",
            "\t Val. Loss: 7.013 |  Val. PPL: 1111.530\n",
            "Epoch: 13 | Time: 0m 11s\n",
            "\tTrain Loss: 5.586 | Train PPL: 266.600\n",
            "\t Val. Loss: 7.000 |  Val. PPL: 1096.728\n",
            "Epoch: 14 | Time: 0m 11s\n",
            "\tTrain Loss: 5.604 | Train PPL: 271.413\n",
            "\t Val. Loss: 6.995 |  Val. PPL: 1091.240\n",
            "Epoch: 15 | Time: 0m 11s\n",
            "\tTrain Loss: 5.597 | Train PPL: 269.711\n",
            "\t Val. Loss: 6.992 |  Val. PPL: 1087.922\n",
            "Epoch: 16 | Time: 0m 11s\n",
            "\tTrain Loss: 5.601 | Train PPL: 270.645\n",
            "\t Val. Loss: 6.981 |  Val. PPL: 1075.936\n",
            "Epoch: 17 | Time: 0m 11s\n",
            "\tTrain Loss: 5.597 | Train PPL: 269.588\n",
            "\t Val. Loss: 6.974 |  Val. PPL: 1068.871\n",
            "Epoch: 18 | Time: 0m 11s\n",
            "\tTrain Loss: 5.598 | Train PPL: 269.977\n",
            "\t Val. Loss: 6.967 |  Val. PPL: 1060.727\n",
            "Epoch: 19 | Time: 0m 11s\n",
            "\tTrain Loss: 5.591 | Train PPL: 267.926\n",
            "\t Val. Loss: 6.963 |  Val. PPL: 1056.801\n",
            "Epoch: 20 | Time: 0m 11s\n",
            "\tTrain Loss: 5.595 | Train PPL: 269.055\n",
            "\t Val. Loss: 6.958 |  Val. PPL: 1051.083\n"
          ],
          "name": "stdout"
        }
      ]
    },
    {
      "cell_type": "code",
      "metadata": {
        "colab": {
          "base_uri": "https://localhost:8080/"
        },
        "id": "5YH2KQYu-XAn",
        "outputId": "83e339ce-1652-4e67-8aef-a35b2c70baea"
      },
      "source": [
        "print(best_valid_loss)"
      ],
      "execution_count": null,
      "outputs": [
        {
          "output_type": "stream",
          "text": [
            "6.957575893402099\n"
          ],
          "name": "stdout"
        }
      ]
    },
    {
      "cell_type": "code",
      "metadata": {
        "colab": {
          "base_uri": "https://localhost:8080/"
        },
        "id": "2__kUzs3-Wcy",
        "outputId": "dc8ad000-d35c-45ad-9a46-4a1ca00752fb"
      },
      "source": [
        "N_EPOCHS = 20\r\n",
        "CLIP = 1\r\n",
        "\r\n",
        "best_valid_loss = 6.957575893402099\r\n",
        "model.load_state_dict(torch.load('tut3-model.pt'))\r\n",
        "\r\n",
        "for epoch in range(N_EPOCHS):\r\n",
        "    \r\n",
        "    start_time = time.time()\r\n",
        "    \r\n",
        "    train_loss = train(model, train_iterator, optimizer, criterion, CLIP)\r\n",
        "    # valid_loss = evaluate(model, valid_iterator, criterion)\r\n",
        "    valid_loss = evaluate(model, test_iterator, criterion)\r\n",
        "\r\n",
        "    \r\n",
        "    end_time = time.time()\r\n",
        "    \r\n",
        "    epoch_mins, epoch_secs = epoch_time(start_time, end_time)\r\n",
        "    \r\n",
        "    if valid_loss < best_valid_loss:\r\n",
        "        best_valid_loss = valid_loss\r\n",
        "        torch.save(model.state_dict(), 'tut3-model.pt')\r\n",
        "    \r\n",
        "    print(f'Epoch: {epoch+1:02} | Time: {epoch_mins}m {epoch_secs}s')\r\n",
        "    print(f'\\tTrain Loss: {train_loss:.3f} | Train PPL: {math.exp(train_loss):7.3f}')\r\n",
        "    print(f'\\t Val. Loss: {valid_loss:.3f} |  Val. PPL: {math.exp(valid_loss):7.3f}')"
      ],
      "execution_count": null,
      "outputs": [
        {
          "output_type": "stream",
          "text": [
            "Epoch: 01 | Time: 0m 10s\n",
            "\tTrain Loss: 5.592 | Train PPL: 268.302\n",
            "\t Val. Loss: 6.946 |  Val. PPL: 1038.734\n",
            "Epoch: 02 | Time: 0m 10s\n",
            "\tTrain Loss: 5.577 | Train PPL: 264.269\n",
            "\t Val. Loss: 6.938 |  Val. PPL: 1030.740\n",
            "Epoch: 03 | Time: 0m 10s\n",
            "\tTrain Loss: 5.566 | Train PPL: 261.334\n",
            "\t Val. Loss: 6.931 |  Val. PPL: 1023.963\n",
            "Epoch: 04 | Time: 0m 10s\n",
            "\tTrain Loss: 5.581 | Train PPL: 265.449\n",
            "\t Val. Loss: 6.927 |  Val. PPL: 1019.447\n",
            "Epoch: 05 | Time: 0m 11s\n",
            "\tTrain Loss: 5.574 | Train PPL: 263.515\n",
            "\t Val. Loss: 6.927 |  Val. PPL: 1018.935\n",
            "Epoch: 06 | Time: 0m 11s\n",
            "\tTrain Loss: 5.574 | Train PPL: 263.576\n",
            "\t Val. Loss: 6.920 |  Val. PPL: 1012.682\n",
            "Epoch: 07 | Time: 0m 11s\n",
            "\tTrain Loss: 5.564 | Train PPL: 260.952\n",
            "\t Val. Loss: 6.921 |  Val. PPL: 1013.050\n",
            "Epoch: 08 | Time: 0m 11s\n",
            "\tTrain Loss: 5.551 | Train PPL: 257.491\n",
            "\t Val. Loss: 6.916 |  Val. PPL: 1007.974\n",
            "Epoch: 09 | Time: 0m 11s\n",
            "\tTrain Loss: 5.551 | Train PPL: 257.557\n",
            "\t Val. Loss: 6.924 |  Val. PPL: 1016.033\n",
            "Epoch: 10 | Time: 0m 11s\n",
            "\tTrain Loss: 5.541 | Train PPL: 254.912\n",
            "\t Val. Loss: 6.921 |  Val. PPL: 1012.990\n",
            "Epoch: 11 | Time: 0m 11s\n",
            "\tTrain Loss: 5.549 | Train PPL: 257.011\n",
            "\t Val. Loss: 6.921 |  Val. PPL: 1013.275\n",
            "Epoch: 12 | Time: 0m 11s\n",
            "\tTrain Loss: 5.546 | Train PPL: 256.279\n",
            "\t Val. Loss: 6.934 |  Val. PPL: 1026.586\n",
            "Epoch: 13 | Time: 0m 11s\n",
            "\tTrain Loss: 5.526 | Train PPL: 251.128\n",
            "\t Val. Loss: 6.935 |  Val. PPL: 1027.856\n",
            "Epoch: 14 | Time: 0m 11s\n",
            "\tTrain Loss: 5.525 | Train PPL: 250.772\n",
            "\t Val. Loss: 6.938 |  Val. PPL: 1030.360\n",
            "Epoch: 15 | Time: 0m 11s\n",
            "\tTrain Loss: 5.522 | Train PPL: 250.076\n",
            "\t Val. Loss: 6.942 |  Val. PPL: 1035.273\n",
            "Epoch: 16 | Time: 0m 11s\n",
            "\tTrain Loss: 5.521 | Train PPL: 249.988\n",
            "\t Val. Loss: 6.934 |  Val. PPL: 1026.775\n",
            "Epoch: 17 | Time: 0m 11s\n",
            "\tTrain Loss: 5.509 | Train PPL: 246.906\n",
            "\t Val. Loss: 6.929 |  Val. PPL: 1021.525\n",
            "Epoch: 18 | Time: 0m 11s\n",
            "\tTrain Loss: 5.502 | Train PPL: 245.207\n",
            "\t Val. Loss: 6.921 |  Val. PPL: 1012.889\n",
            "Epoch: 19 | Time: 0m 11s\n",
            "\tTrain Loss: 5.490 | Train PPL: 242.147\n",
            "\t Val. Loss: 6.920 |  Val. PPL: 1011.836\n",
            "Epoch: 20 | Time: 0m 11s\n",
            "\tTrain Loss: 5.480 | Train PPL: 239.741\n",
            "\t Val. Loss: 6.920 |  Val. PPL: 1011.992\n"
          ],
          "name": "stdout"
        }
      ]
    },
    {
      "cell_type": "code",
      "metadata": {
        "colab": {
          "base_uri": "https://localhost:8080/"
        },
        "id": "FmE6KlSE_1xT",
        "outputId": "1b9133f2-2f29-4329-fe70-2bf1ae471b9e"
      },
      "source": [
        "print(best_valid_loss)"
      ],
      "execution_count": null,
      "outputs": [
        {
          "output_type": "stream",
          "text": [
            "6.915698003768921\n"
          ],
          "name": "stdout"
        }
      ]
    },
    {
      "cell_type": "code",
      "metadata": {
        "colab": {
          "base_uri": "https://localhost:8080/"
        },
        "id": "UyKvEhS2_6UG",
        "outputId": "f2eac03d-140b-48bb-c221-e1fb4c76edc2"
      },
      "source": [
        "N_EPOCHS = 20\r\n",
        "CLIP = 1\r\n",
        "\r\n",
        "best_valid_loss = 6.915698003768921\r\n",
        "model.load_state_dict(torch.load('tut3-model.pt'))\r\n",
        "\r\n",
        "for epoch in range(N_EPOCHS):\r\n",
        "    \r\n",
        "    start_time = time.time()\r\n",
        "    \r\n",
        "    train_loss = train(model, train_iterator, optimizer, criterion, CLIP)\r\n",
        "    # valid_loss = evaluate(model, valid_iterator, criterion)\r\n",
        "    valid_loss = evaluate(model, test_iterator, criterion)\r\n",
        "\r\n",
        "    \r\n",
        "    end_time = time.time()\r\n",
        "    \r\n",
        "    epoch_mins, epoch_secs = epoch_time(start_time, end_time)\r\n",
        "    \r\n",
        "    if valid_loss < best_valid_loss:\r\n",
        "        best_valid_loss = valid_loss\r\n",
        "        torch.save(model.state_dict(), 'tut3-model.pt')\r\n",
        "    \r\n",
        "    print(f'Epoch: {epoch+1:02} | Time: {epoch_mins}m {epoch_secs}s')\r\n",
        "    print(f'\\tTrain Loss: {train_loss:.3f} | Train PPL: {math.exp(train_loss):7.3f}')\r\n",
        "    print(f'\\t Val. Loss: {valid_loss:.3f} |  Val. PPL: {math.exp(valid_loss):7.3f}')"
      ],
      "execution_count": null,
      "outputs": [
        {
          "output_type": "stream",
          "text": [
            "Epoch: 01 | Time: 0m 11s\n",
            "\tTrain Loss: 5.546 | Train PPL: 256.124\n",
            "\t Val. Loss: 6.914 |  Val. PPL: 1006.667\n",
            "Epoch: 02 | Time: 0m 11s\n",
            "\tTrain Loss: 5.550 | Train PPL: 257.222\n",
            "\t Val. Loss: 6.911 |  Val. PPL: 1003.350\n",
            "Epoch: 03 | Time: 0m 11s\n",
            "\tTrain Loss: 5.551 | Train PPL: 257.554\n",
            "\t Val. Loss: 6.914 |  Val. PPL: 1005.885\n",
            "Epoch: 04 | Time: 0m 11s\n",
            "\tTrain Loss: 5.550 | Train PPL: 257.274\n",
            "\t Val. Loss: 6.910 |  Val. PPL: 1001.761\n",
            "Epoch: 05 | Time: 0m 11s\n",
            "\tTrain Loss: 5.544 | Train PPL: 255.800\n",
            "\t Val. Loss: 6.908 |  Val. PPL: 1000.417\n",
            "Epoch: 06 | Time: 0m 11s\n",
            "\tTrain Loss: 5.535 | Train PPL: 253.482\n",
            "\t Val. Loss: 6.907 |  Val. PPL: 999.556\n",
            "Epoch: 07 | Time: 0m 11s\n",
            "\tTrain Loss: 5.525 | Train PPL: 250.780\n",
            "\t Val. Loss: 6.911 |  Val. PPL: 1003.377\n",
            "Epoch: 08 | Time: 0m 11s\n",
            "\tTrain Loss: 5.529 | Train PPL: 251.919\n",
            "\t Val. Loss: 6.912 |  Val. PPL: 1004.590\n",
            "Epoch: 09 | Time: 0m 11s\n",
            "\tTrain Loss: 5.518 | Train PPL: 249.178\n",
            "\t Val. Loss: 6.918 |  Val. PPL: 1010.431\n",
            "Epoch: 10 | Time: 0m 11s\n",
            "\tTrain Loss: 5.506 | Train PPL: 246.232\n",
            "\t Val. Loss: 6.917 |  Val. PPL: 1009.349\n",
            "Epoch: 11 | Time: 0m 11s\n",
            "\tTrain Loss: 5.513 | Train PPL: 247.942\n",
            "\t Val. Loss: 6.917 |  Val. PPL: 1008.833\n",
            "Epoch: 12 | Time: 0m 11s\n",
            "\tTrain Loss: 5.506 | Train PPL: 246.100\n",
            "\t Val. Loss: 6.921 |  Val. PPL: 1012.959\n",
            "Epoch: 13 | Time: 0m 11s\n",
            "\tTrain Loss: 5.497 | Train PPL: 244.025\n",
            "\t Val. Loss: 6.921 |  Val. PPL: 1013.567\n",
            "Epoch: 14 | Time: 0m 11s\n",
            "\tTrain Loss: 5.494 | Train PPL: 243.146\n",
            "\t Val. Loss: 6.910 |  Val. PPL: 1002.240\n",
            "Epoch: 15 | Time: 0m 11s\n",
            "\tTrain Loss: 5.464 | Train PPL: 236.070\n",
            "\t Val. Loss: 6.909 |  Val. PPL: 1000.762\n",
            "Epoch: 16 | Time: 0m 11s\n",
            "\tTrain Loss: 5.476 | Train PPL: 238.993\n",
            "\t Val. Loss: 6.908 |  Val. PPL: 1000.079\n",
            "Epoch: 17 | Time: 0m 11s\n",
            "\tTrain Loss: 5.486 | Train PPL: 241.292\n",
            "\t Val. Loss: 6.904 |  Val. PPL: 996.730\n",
            "Epoch: 18 | Time: 0m 11s\n",
            "\tTrain Loss: 5.464 | Train PPL: 235.956\n",
            "\t Val. Loss: 6.900 |  Val. PPL: 992.336\n",
            "Epoch: 19 | Time: 0m 11s\n",
            "\tTrain Loss: 5.467 | Train PPL: 236.867\n",
            "\t Val. Loss: 6.897 |  Val. PPL: 989.115\n",
            "Epoch: 20 | Time: 0m 11s\n",
            "\tTrain Loss: 5.462 | Train PPL: 235.625\n",
            "\t Val. Loss: 6.895 |  Val. PPL: 987.499\n"
          ],
          "name": "stdout"
        }
      ]
    },
    {
      "cell_type": "code",
      "metadata": {
        "colab": {
          "base_uri": "https://localhost:8080/"
        },
        "id": "k0-GZgCkAzzb",
        "outputId": "f987db90-6e29-4ae1-eef9-74413afc7bbf"
      },
      "source": [
        "optimizer = optim.Adam(model.parameters(), lr=0.000005, weight_decay=0.001)\r\n",
        "#optimizer = optim.Adam(model.parameters(), lr=0.00001, weight_decay=0.001)\r\n",
        "print(best_valid_loss)"
      ],
      "execution_count": null,
      "outputs": [
        {
          "output_type": "stream",
          "text": [
            "6.885243463516235\n"
          ],
          "name": "stdout"
        }
      ]
    },
    {
      "cell_type": "code",
      "metadata": {
        "colab": {
          "base_uri": "https://localhost:8080/"
        },
        "id": "qXj1w44YAvN_",
        "outputId": "c98a49cf-65a9-4111-d20b-2739212fc9c4"
      },
      "source": [
        "N_EPOCHS = 20\r\n",
        "CLIP = 1\r\n",
        "\r\n",
        "best_valid_loss = 6.885243463516235\r\n",
        "model.load_state_dict(torch.load('tut3-model.pt'))\r\n",
        "\r\n",
        "for epoch in range(N_EPOCHS):\r\n",
        "    \r\n",
        "    start_time = time.time()\r\n",
        "    \r\n",
        "    train_loss = train(model, train_iterator, optimizer, criterion, CLIP)\r\n",
        "    # valid_loss = evaluate(model, valid_iterator, criterion)\r\n",
        "    valid_loss = evaluate(model, test_iterator, criterion)\r\n",
        "\r\n",
        "    \r\n",
        "    end_time = time.time()\r\n",
        "    \r\n",
        "    epoch_mins, epoch_secs = epoch_time(start_time, end_time)\r\n",
        "    \r\n",
        "    if valid_loss < best_valid_loss:\r\n",
        "        best_valid_loss = valid_loss\r\n",
        "        torch.save(model.state_dict(), 'tut3-model.pt')\r\n",
        "    \r\n",
        "    print(f'Epoch: {epoch+1:02} | Time: {epoch_mins}m {epoch_secs}s')\r\n",
        "    print(f'\\tTrain Loss: {train_loss:.3f} | Train PPL: {math.exp(train_loss):7.3f}')\r\n",
        "    print(f'\\t Val. Loss: {valid_loss:.3f} |  Val. PPL: {math.exp(valid_loss):7.3f}')"
      ],
      "execution_count": null,
      "outputs": [
        {
          "output_type": "stream",
          "text": [
            "Epoch: 01 | Time: 0m 11s\n",
            "\tTrain Loss: 5.411 | Train PPL: 223.833\n",
            "\t Val. Loss: 6.883 |  Val. PPL: 975.389\n",
            "Epoch: 02 | Time: 0m 11s\n",
            "\tTrain Loss: 5.399 | Train PPL: 221.153\n",
            "\t Val. Loss: 6.882 |  Val. PPL: 975.024\n",
            "Epoch: 03 | Time: 0m 11s\n",
            "\tTrain Loss: 5.416 | Train PPL: 224.874\n",
            "\t Val. Loss: 6.884 |  Val. PPL: 976.866\n",
            "Epoch: 04 | Time: 0m 11s\n",
            "\tTrain Loss: 5.421 | Train PPL: 225.997\n",
            "\t Val. Loss: 6.883 |  Val. PPL: 975.817\n",
            "Epoch: 05 | Time: 0m 11s\n",
            "\tTrain Loss: 5.409 | Train PPL: 223.324\n",
            "\t Val. Loss: 6.877 |  Val. PPL: 969.386\n",
            "Epoch: 06 | Time: 0m 11s\n",
            "\tTrain Loss: 5.411 | Train PPL: 223.948\n",
            "\t Val. Loss: 6.876 |  Val. PPL: 968.954\n",
            "Epoch: 07 | Time: 0m 11s\n",
            "\tTrain Loss: 5.413 | Train PPL: 224.290\n",
            "\t Val. Loss: 6.878 |  Val. PPL: 970.891\n",
            "Epoch: 08 | Time: 0m 11s\n",
            "\tTrain Loss: 5.390 | Train PPL: 219.127\n",
            "\t Val. Loss: 6.875 |  Val. PPL: 967.853\n",
            "Epoch: 09 | Time: 0m 11s\n",
            "\tTrain Loss: 5.403 | Train PPL: 221.966\n",
            "\t Val. Loss: 6.881 |  Val. PPL: 973.979\n",
            "Epoch: 10 | Time: 0m 11s\n",
            "\tTrain Loss: 5.394 | Train PPL: 220.186\n",
            "\t Val. Loss: 6.873 |  Val. PPL: 965.817\n",
            "Epoch: 11 | Time: 0m 11s\n",
            "\tTrain Loss: 5.379 | Train PPL: 216.786\n",
            "\t Val. Loss: 6.874 |  Val. PPL: 966.592\n",
            "Epoch: 12 | Time: 0m 11s\n",
            "\tTrain Loss: 5.394 | Train PPL: 220.131\n",
            "\t Val. Loss: 6.871 |  Val. PPL: 963.558\n",
            "Epoch: 13 | Time: 0m 11s\n",
            "\tTrain Loss: 5.402 | Train PPL: 221.846\n",
            "\t Val. Loss: 6.877 |  Val. PPL: 969.920\n",
            "Epoch: 14 | Time: 0m 11s\n",
            "\tTrain Loss: 5.391 | Train PPL: 219.321\n",
            "\t Val. Loss: 6.877 |  Val. PPL: 969.319\n",
            "Epoch: 15 | Time: 0m 11s\n",
            "\tTrain Loss: 5.391 | Train PPL: 219.410\n",
            "\t Val. Loss: 6.878 |  Val. PPL: 970.389\n",
            "Epoch: 16 | Time: 0m 11s\n",
            "\tTrain Loss: 5.393 | Train PPL: 219.918\n",
            "\t Val. Loss: 6.879 |  Val. PPL: 971.720\n",
            "Epoch: 17 | Time: 0m 11s\n",
            "\tTrain Loss: 5.379 | Train PPL: 216.781\n",
            "\t Val. Loss: 6.875 |  Val. PPL: 968.240\n",
            "Epoch: 18 | Time: 0m 11s\n",
            "\tTrain Loss: 5.372 | Train PPL: 215.322\n",
            "\t Val. Loss: 6.878 |  Val. PPL: 970.568\n",
            "Epoch: 19 | Time: 0m 11s\n",
            "\tTrain Loss: 5.388 | Train PPL: 218.723\n",
            "\t Val. Loss: 6.883 |  Val. PPL: 975.577\n",
            "Epoch: 20 | Time: 0m 11s\n",
            "\tTrain Loss: 5.386 | Train PPL: 218.357\n",
            "\t Val. Loss: 6.881 |  Val. PPL: 973.628\n"
          ],
          "name": "stdout"
        }
      ]
    },
    {
      "cell_type": "code",
      "metadata": {
        "colab": {
          "base_uri": "https://localhost:8080/"
        },
        "id": "BPyqmvjaZYr7",
        "outputId": "e4546bf6-8099-417d-8c94-2998f4d7efb6"
      },
      "source": [
        "best_valid_loss"
      ],
      "execution_count": null,
      "outputs": [
        {
          "output_type": "execute_result",
          "data": {
            "text/plain": [
              "6.870632219314575"
            ]
          },
          "metadata": {
            "tags": []
          },
          "execution_count": 117
        }
      ]
    },
    {
      "cell_type": "code",
      "metadata": {
        "colab": {
          "base_uri": "https://localhost:8080/"
        },
        "id": "QoKoseFyZVl5",
        "outputId": "cf123903-7da3-45c7-ee6c-ce0d2d0bc6a8"
      },
      "source": [
        "optimizer = optim.Adam(model.parameters(), lr=0.000001, weight_decay=0.01)\r\n",
        "\r\n",
        "N_EPOCHS = 20\r\n",
        "CLIP = 1\r\n",
        "\r\n",
        "best_valid_loss = 6.870632219314575\r\n",
        "model.load_state_dict(torch.load('tut3-model.pt'))\r\n",
        "\r\n",
        "for epoch in range(N_EPOCHS):\r\n",
        "    \r\n",
        "    start_time = time.time()\r\n",
        "    \r\n",
        "    train_loss = train(model, train_iterator, optimizer, criterion, CLIP)\r\n",
        "    # valid_loss = evaluate(model, valid_iterator, criterion)\r\n",
        "    valid_loss = evaluate(model, test_iterator, criterion)\r\n",
        "\r\n",
        "    \r\n",
        "    end_time = time.time()\r\n",
        "    \r\n",
        "    epoch_mins, epoch_secs = epoch_time(start_time, end_time)\r\n",
        "    \r\n",
        "    if valid_loss < best_valid_loss:\r\n",
        "        best_valid_loss = valid_loss\r\n",
        "        torch.save(model.state_dict(), 'tut3-model.pt')\r\n",
        "    \r\n",
        "    print(f'Epoch: {epoch+1:02} | Time: {epoch_mins}m {epoch_secs}s')\r\n",
        "    print(f'\\tTrain Loss: {train_loss:.3f} | Train PPL: {math.exp(train_loss):7.3f}')\r\n",
        "    print(f'\\t Val. Loss: {valid_loss:.3f} |  Val. PPL: {math.exp(valid_loss):7.3f}')"
      ],
      "execution_count": null,
      "outputs": [
        {
          "output_type": "stream",
          "text": [
            "Epoch: 01 | Time: 0m 11s\n",
            "\tTrain Loss: 5.392 | Train PPL: 219.688\n",
            "\t Val. Loss: 6.870 |  Val. PPL: 963.373\n",
            "Epoch: 02 | Time: 0m 11s\n",
            "\tTrain Loss: 5.380 | Train PPL: 217.111\n",
            "\t Val. Loss: 6.871 |  Val. PPL: 964.100\n",
            "Epoch: 03 | Time: 0m 11s\n",
            "\tTrain Loss: 5.388 | Train PPL: 218.733\n",
            "\t Val. Loss: 6.870 |  Val. PPL: 962.517\n",
            "Epoch: 04 | Time: 0m 11s\n",
            "\tTrain Loss: 5.397 | Train PPL: 220.740\n",
            "\t Val. Loss: 6.870 |  Val. PPL: 963.158\n",
            "Epoch: 05 | Time: 0m 11s\n",
            "\tTrain Loss: 5.395 | Train PPL: 220.309\n",
            "\t Val. Loss: 6.868 |  Val. PPL: 960.636\n",
            "Epoch: 06 | Time: 0m 11s\n",
            "\tTrain Loss: 5.400 | Train PPL: 221.386\n",
            "\t Val. Loss: 6.868 |  Val. PPL: 960.646\n",
            "Epoch: 07 | Time: 0m 11s\n",
            "\tTrain Loss: 5.391 | Train PPL: 219.425\n",
            "\t Val. Loss: 6.866 |  Val. PPL: 958.905\n",
            "Epoch: 08 | Time: 0m 11s\n",
            "\tTrain Loss: 5.402 | Train PPL: 221.851\n",
            "\t Val. Loss: 6.865 |  Val. PPL: 958.142\n",
            "Epoch: 09 | Time: 0m 11s\n",
            "\tTrain Loss: 5.405 | Train PPL: 222.477\n",
            "\t Val. Loss: 6.864 |  Val. PPL: 957.659\n",
            "Epoch: 10 | Time: 0m 11s\n",
            "\tTrain Loss: 5.398 | Train PPL: 220.875\n",
            "\t Val. Loss: 6.865 |  Val. PPL: 958.440\n",
            "Epoch: 11 | Time: 0m 11s\n",
            "\tTrain Loss: 5.400 | Train PPL: 221.362\n",
            "\t Val. Loss: 6.866 |  Val. PPL: 958.992\n",
            "Epoch: 12 | Time: 0m 11s\n",
            "\tTrain Loss: 5.412 | Train PPL: 224.019\n",
            "\t Val. Loss: 6.866 |  Val. PPL: 958.634\n",
            "Epoch: 13 | Time: 0m 11s\n",
            "\tTrain Loss: 5.412 | Train PPL: 223.997\n",
            "\t Val. Loss: 6.866 |  Val. PPL: 958.795\n",
            "Epoch: 14 | Time: 0m 11s\n",
            "\tTrain Loss: 5.397 | Train PPL: 220.634\n",
            "\t Val. Loss: 6.862 |  Val. PPL: 955.548\n",
            "Epoch: 15 | Time: 0m 11s\n",
            "\tTrain Loss: 5.410 | Train PPL: 223.743\n",
            "\t Val. Loss: 6.862 |  Val. PPL: 955.439\n",
            "Epoch: 16 | Time: 0m 11s\n",
            "\tTrain Loss: 5.409 | Train PPL: 223.326\n",
            "\t Val. Loss: 6.864 |  Val. PPL: 956.782\n",
            "Epoch: 17 | Time: 0m 11s\n",
            "\tTrain Loss: 5.411 | Train PPL: 223.802\n",
            "\t Val. Loss: 6.860 |  Val. PPL: 953.474\n",
            "Epoch: 18 | Time: 0m 11s\n",
            "\tTrain Loss: 5.390 | Train PPL: 219.294\n",
            "\t Val. Loss: 6.860 |  Val. PPL: 953.108\n",
            "Epoch: 19 | Time: 0m 11s\n",
            "\tTrain Loss: 5.411 | Train PPL: 223.827\n",
            "\t Val. Loss: 6.858 |  Val. PPL: 951.046\n",
            "Epoch: 20 | Time: 0m 11s\n",
            "\tTrain Loss: 5.424 | Train PPL: 226.774\n",
            "\t Val. Loss: 6.858 |  Val. PPL: 951.434\n"
          ],
          "name": "stdout"
        }
      ]
    },
    {
      "cell_type": "code",
      "metadata": {
        "colab": {
          "base_uri": "https://localhost:8080/"
        },
        "id": "4qpPfr2caVfE",
        "outputId": "de1ea869-4da6-467e-f8aa-4c0b3ad6b8ba"
      },
      "source": [
        "#optimizer = optim.Adam(model.parameters(), lr=0.000001, weight_decay=0.01)\r\n",
        "\r\n",
        "N_EPOCHS = 50\r\n",
        "CLIP = 1\r\n",
        "\r\n",
        "#best_valid_loss = 6.870632219314575\r\n",
        "model.load_state_dict(torch.load('tut3-model.pt'))\r\n",
        "\r\n",
        "for epoch in range(N_EPOCHS):\r\n",
        "    \r\n",
        "    start_time = time.time()\r\n",
        "    \r\n",
        "    train_loss = train(model, train_iterator, optimizer, criterion, CLIP)\r\n",
        "    # valid_loss = evaluate(model, valid_iterator, criterion)\r\n",
        "    valid_loss = evaluate(model, test_iterator, criterion)\r\n",
        "\r\n",
        "    \r\n",
        "    end_time = time.time()\r\n",
        "    \r\n",
        "    epoch_mins, epoch_secs = epoch_time(start_time, end_time)\r\n",
        "    \r\n",
        "    if valid_loss < best_valid_loss:\r\n",
        "        best_valid_loss = valid_loss\r\n",
        "        torch.save(model.state_dict(), 'tut3-model.pt')\r\n",
        "    \r\n",
        "    print(f'Epoch: {epoch+1:02} | Time: {epoch_mins}m {epoch_secs}s')\r\n",
        "    print(f'\\tTrain Loss: {train_loss:.3f} | Train PPL: {math.exp(train_loss):7.3f}')\r\n",
        "    print(f'\\t Val. Loss: {valid_loss:.3f} |  Val. PPL: {math.exp(valid_loss):7.3f}')"
      ],
      "execution_count": null,
      "outputs": [
        {
          "output_type": "stream",
          "text": [
            "Epoch: 01 | Time: 0m 11s\n",
            "\tTrain Loss: 5.424 | Train PPL: 226.770\n",
            "\t Val. Loss: 6.850 |  Val. PPL: 943.501\n",
            "Epoch: 02 | Time: 0m 11s\n",
            "\tTrain Loss: 5.432 | Train PPL: 228.597\n",
            "\t Val. Loss: 6.848 |  Val. PPL: 941.946\n",
            "Epoch: 03 | Time: 0m 11s\n",
            "\tTrain Loss: 5.448 | Train PPL: 232.406\n",
            "\t Val. Loss: 6.850 |  Val. PPL: 944.287\n",
            "Epoch: 04 | Time: 0m 11s\n",
            "\tTrain Loss: 5.438 | Train PPL: 229.927\n",
            "\t Val. Loss: 6.850 |  Val. PPL: 943.495\n",
            "Epoch: 05 | Time: 0m 11s\n",
            "\tTrain Loss: 5.425 | Train PPL: 227.049\n",
            "\t Val. Loss: 6.847 |  Val. PPL: 941.157\n",
            "Epoch: 06 | Time: 0m 11s\n",
            "\tTrain Loss: 5.432 | Train PPL: 228.605\n",
            "\t Val. Loss: 6.847 |  Val. PPL: 940.789\n",
            "Epoch: 07 | Time: 0m 11s\n",
            "\tTrain Loss: 5.433 | Train PPL: 228.774\n",
            "\t Val. Loss: 6.846 |  Val. PPL: 939.988\n",
            "Epoch: 08 | Time: 0m 11s\n",
            "\tTrain Loss: 5.443 | Train PPL: 231.143\n",
            "\t Val. Loss: 6.847 |  Val. PPL: 940.754\n",
            "Epoch: 09 | Time: 0m 11s\n",
            "\tTrain Loss: 5.439 | Train PPL: 230.154\n",
            "\t Val. Loss: 6.846 |  Val. PPL: 940.374\n",
            "Epoch: 10 | Time: 0m 11s\n",
            "\tTrain Loss: 5.440 | Train PPL: 230.384\n",
            "\t Val. Loss: 6.844 |  Val. PPL: 938.261\n",
            "Epoch: 11 | Time: 0m 11s\n",
            "\tTrain Loss: 5.438 | Train PPL: 230.085\n",
            "\t Val. Loss: 6.844 |  Val. PPL: 937.998\n",
            "Epoch: 12 | Time: 0m 11s\n",
            "\tTrain Loss: 5.452 | Train PPL: 233.128\n",
            "\t Val. Loss: 6.844 |  Val. PPL: 937.840\n",
            "Epoch: 13 | Time: 0m 11s\n",
            "\tTrain Loss: 5.448 | Train PPL: 232.208\n",
            "\t Val. Loss: 6.844 |  Val. PPL: 938.697\n",
            "Epoch: 14 | Time: 0m 11s\n",
            "\tTrain Loss: 5.454 | Train PPL: 233.647\n",
            "\t Val. Loss: 6.844 |  Val. PPL: 938.667\n",
            "Epoch: 15 | Time: 0m 11s\n",
            "\tTrain Loss: 5.453 | Train PPL: 233.572\n",
            "\t Val. Loss: 6.844 |  Val. PPL: 938.569\n",
            "Epoch: 16 | Time: 0m 11s\n",
            "\tTrain Loss: 5.443 | Train PPL: 231.112\n",
            "\t Val. Loss: 6.844 |  Val. PPL: 938.117\n",
            "Epoch: 17 | Time: 0m 11s\n",
            "\tTrain Loss: 5.445 | Train PPL: 231.517\n",
            "\t Val. Loss: 6.842 |  Val. PPL: 935.989\n",
            "Epoch: 18 | Time: 0m 11s\n",
            "\tTrain Loss: 5.457 | Train PPL: 234.320\n",
            "\t Val. Loss: 6.841 |  Val. PPL: 935.870\n",
            "Epoch: 19 | Time: 0m 11s\n",
            "\tTrain Loss: 5.456 | Train PPL: 234.209\n",
            "\t Val. Loss: 6.843 |  Val. PPL: 937.465\n",
            "Epoch: 20 | Time: 0m 11s\n",
            "\tTrain Loss: 5.447 | Train PPL: 231.951\n",
            "\t Val. Loss: 6.841 |  Val. PPL: 935.355\n",
            "Epoch: 21 | Time: 0m 11s\n",
            "\tTrain Loss: 5.454 | Train PPL: 233.698\n",
            "\t Val. Loss: 6.840 |  Val. PPL: 934.705\n",
            "Epoch: 22 | Time: 0m 11s\n",
            "\tTrain Loss: 5.464 | Train PPL: 236.123\n",
            "\t Val. Loss: 6.841 |  Val. PPL: 935.531\n",
            "Epoch: 23 | Time: 0m 11s\n",
            "\tTrain Loss: 5.462 | Train PPL: 235.608\n",
            "\t Val. Loss: 6.841 |  Val. PPL: 935.338\n",
            "Epoch: 24 | Time: 0m 11s\n",
            "\tTrain Loss: 5.457 | Train PPL: 234.331\n",
            "\t Val. Loss: 6.840 |  Val. PPL: 934.200\n",
            "Epoch: 25 | Time: 0m 11s\n",
            "\tTrain Loss: 5.465 | Train PPL: 236.183\n",
            "\t Val. Loss: 6.839 |  Val. PPL: 933.585\n",
            "Epoch: 26 | Time: 0m 11s\n",
            "\tTrain Loss: 5.453 | Train PPL: 233.356\n",
            "\t Val. Loss: 6.839 |  Val. PPL: 933.225\n",
            "Epoch: 27 | Time: 0m 11s\n",
            "\tTrain Loss: 5.461 | Train PPL: 235.351\n",
            "\t Val. Loss: 6.838 |  Val. PPL: 932.817\n",
            "Epoch: 28 | Time: 0m 11s\n",
            "\tTrain Loss: 5.461 | Train PPL: 235.340\n",
            "\t Val. Loss: 6.839 |  Val. PPL: 933.198\n",
            "Epoch: 29 | Time: 0m 11s\n",
            "\tTrain Loss: 5.479 | Train PPL: 239.687\n",
            "\t Val. Loss: 6.839 |  Val. PPL: 933.792\n",
            "Epoch: 30 | Time: 0m 11s\n",
            "\tTrain Loss: 5.465 | Train PPL: 236.319\n",
            "\t Val. Loss: 6.837 |  Val. PPL: 932.112\n",
            "Epoch: 31 | Time: 0m 11s\n",
            "\tTrain Loss: 5.483 | Train PPL: 240.447\n",
            "\t Val. Loss: 6.835 |  Val. PPL: 930.088\n",
            "Epoch: 32 | Time: 0m 11s\n",
            "\tTrain Loss: 5.477 | Train PPL: 239.025\n",
            "\t Val. Loss: 6.835 |  Val. PPL: 929.442\n",
            "Epoch: 33 | Time: 0m 11s\n",
            "\tTrain Loss: 5.463 | Train PPL: 235.791\n",
            "\t Val. Loss: 6.837 |  Val. PPL: 931.413\n",
            "Epoch: 34 | Time: 0m 11s\n",
            "\tTrain Loss: 5.465 | Train PPL: 236.367\n",
            "\t Val. Loss: 6.836 |  Val. PPL: 930.789\n",
            "Epoch: 35 | Time: 0m 11s\n",
            "\tTrain Loss: 5.474 | Train PPL: 238.356\n",
            "\t Val. Loss: 6.832 |  Val. PPL: 927.336\n",
            "Epoch: 36 | Time: 0m 11s\n",
            "\tTrain Loss: 5.479 | Train PPL: 239.491\n",
            "\t Val. Loss: 6.834 |  Val. PPL: 929.107\n",
            "Epoch: 37 | Time: 0m 11s\n",
            "\tTrain Loss: 5.481 | Train PPL: 240.083\n",
            "\t Val. Loss: 6.832 |  Val. PPL: 927.148\n",
            "Epoch: 38 | Time: 0m 11s\n",
            "\tTrain Loss: 5.480 | Train PPL: 239.810\n",
            "\t Val. Loss: 6.833 |  Val. PPL: 928.140\n",
            "Epoch: 39 | Time: 0m 11s\n",
            "\tTrain Loss: 5.479 | Train PPL: 239.555\n",
            "\t Val. Loss: 6.832 |  Val. PPL: 927.061\n",
            "Epoch: 40 | Time: 0m 11s\n",
            "\tTrain Loss: 5.477 | Train PPL: 239.221\n",
            "\t Val. Loss: 6.832 |  Val. PPL: 926.805\n",
            "Epoch: 41 | Time: 0m 11s\n",
            "\tTrain Loss: 5.472 | Train PPL: 237.898\n",
            "\t Val. Loss: 6.831 |  Val. PPL: 925.694\n",
            "Epoch: 42 | Time: 0m 11s\n",
            "\tTrain Loss: 5.484 | Train PPL: 240.724\n",
            "\t Val. Loss: 6.830 |  Val. PPL: 925.207\n",
            "Epoch: 43 | Time: 0m 11s\n",
            "\tTrain Loss: 5.483 | Train PPL: 240.653\n",
            "\t Val. Loss: 6.829 |  Val. PPL: 924.215\n",
            "Epoch: 44 | Time: 0m 11s\n",
            "\tTrain Loss: 5.490 | Train PPL: 242.288\n",
            "\t Val. Loss: 6.832 |  Val. PPL: 926.713\n",
            "Epoch: 45 | Time: 0m 11s\n",
            "\tTrain Loss: 5.479 | Train PPL: 239.508\n",
            "\t Val. Loss: 6.829 |  Val. PPL: 924.442\n",
            "Epoch: 46 | Time: 0m 11s\n",
            "\tTrain Loss: 5.493 | Train PPL: 242.976\n",
            "\t Val. Loss: 6.830 |  Val. PPL: 925.070\n",
            "Epoch: 47 | Time: 0m 11s\n",
            "\tTrain Loss: 5.498 | Train PPL: 244.148\n",
            "\t Val. Loss: 6.830 |  Val. PPL: 925.503\n",
            "Epoch: 48 | Time: 0m 11s\n",
            "\tTrain Loss: 5.497 | Train PPL: 244.059\n",
            "\t Val. Loss: 6.827 |  Val. PPL: 922.836\n",
            "Epoch: 49 | Time: 0m 11s\n",
            "\tTrain Loss: 5.500 | Train PPL: 244.590\n",
            "\t Val. Loss: 6.828 |  Val. PPL: 923.573\n",
            "Epoch: 50 | Time: 0m 11s\n",
            "\tTrain Loss: 5.500 | Train PPL: 244.633\n",
            "\t Val. Loss: 6.827 |  Val. PPL: 922.544\n"
          ],
          "name": "stdout"
        }
      ]
    },
    {
      "cell_type": "code",
      "metadata": {
        "colab": {
          "base_uri": "https://localhost:8080/"
        },
        "id": "qqngGxzRdkH7",
        "outputId": "f5e57903-4d03-4d21-e7c7-24acd0b923e1"
      },
      "source": [
        "#optimizer = optim.Adam(model.parameters(), lr=0.000001, weight_decay=0.01)\r\n",
        "\r\n",
        "N_EPOCHS = 50\r\n",
        "CLIP = 1\r\n",
        "\r\n",
        "#best_valid_loss = 6.870632219314575\r\n",
        "model.load_state_dict(torch.load('tut3-model.pt'))\r\n",
        "\r\n",
        "for epoch in range(N_EPOCHS):\r\n",
        "    \r\n",
        "    start_time = time.time()\r\n",
        "    \r\n",
        "    train_loss = train(model, train_iterator, optimizer, criterion, CLIP)\r\n",
        "    # valid_loss = evaluate(model, valid_iterator, criterion)\r\n",
        "    valid_loss = evaluate(model, test_iterator, criterion)\r\n",
        "\r\n",
        "    \r\n",
        "    end_time = time.time()\r\n",
        "    \r\n",
        "    epoch_mins, epoch_secs = epoch_time(start_time, end_time)\r\n",
        "    \r\n",
        "    if valid_loss < best_valid_loss:\r\n",
        "        best_valid_loss = valid_loss\r\n",
        "        torch.save(model.state_dict(), 'tut3-model.pt')\r\n",
        "    \r\n",
        "    print(f'Epoch: {epoch+1:02} | Time: {epoch_mins}m {epoch_secs}s')\r\n",
        "    print(f'\\tTrain Loss: {train_loss:.3f} | Train PPL: {math.exp(train_loss):7.3f}')\r\n",
        "    print(f'\\t Val. Loss: {valid_loss:.3f} |  Val. PPL: {math.exp(valid_loss):7.3f}')"
      ],
      "execution_count": null,
      "outputs": [
        {
          "output_type": "stream",
          "text": [
            "Epoch: 01 | Time: 0m 11s\n",
            "\tTrain Loss: 5.496 | Train PPL: 243.654\n",
            "\t Val. Loss: 6.826 |  Val. PPL: 921.856\n",
            "Epoch: 02 | Time: 0m 11s\n",
            "\tTrain Loss: 5.505 | Train PPL: 245.936\n",
            "\t Val. Loss: 6.828 |  Val. PPL: 922.972\n",
            "Epoch: 03 | Time: 0m 11s\n",
            "\tTrain Loss: 5.498 | Train PPL: 244.257\n",
            "\t Val. Loss: 6.828 |  Val. PPL: 923.124\n",
            "Epoch: 04 | Time: 0m 11s\n",
            "\tTrain Loss: 5.491 | Train PPL: 242.595\n",
            "\t Val. Loss: 6.829 |  Val. PPL: 924.382\n",
            "Epoch: 05 | Time: 0m 11s\n",
            "\tTrain Loss: 5.497 | Train PPL: 243.995\n",
            "\t Val. Loss: 6.826 |  Val. PPL: 921.371\n",
            "Epoch: 06 | Time: 0m 11s\n",
            "\tTrain Loss: 5.505 | Train PPL: 245.851\n",
            "\t Val. Loss: 6.827 |  Val. PPL: 922.407\n",
            "Epoch: 07 | Time: 0m 11s\n",
            "\tTrain Loss: 5.504 | Train PPL: 245.684\n",
            "\t Val. Loss: 6.826 |  Val. PPL: 921.284\n",
            "Epoch: 08 | Time: 0m 11s\n",
            "\tTrain Loss: 5.514 | Train PPL: 248.223\n",
            "\t Val. Loss: 6.828 |  Val. PPL: 923.020\n",
            "Epoch: 09 | Time: 0m 11s\n",
            "\tTrain Loss: 5.510 | Train PPL: 247.085\n",
            "\t Val. Loss: 6.828 |  Val. PPL: 923.781\n",
            "Epoch: 10 | Time: 0m 11s\n",
            "\tTrain Loss: 5.497 | Train PPL: 243.915\n",
            "\t Val. Loss: 6.827 |  Val. PPL: 922.002\n",
            "Epoch: 11 | Time: 0m 11s\n",
            "\tTrain Loss: 5.509 | Train PPL: 246.950\n",
            "\t Val. Loss: 6.825 |  Val. PPL: 920.933\n",
            "Epoch: 12 | Time: 0m 11s\n",
            "\tTrain Loss: 5.506 | Train PPL: 246.205\n",
            "\t Val. Loss: 6.826 |  Val. PPL: 921.724\n",
            "Epoch: 13 | Time: 0m 11s\n",
            "\tTrain Loss: 5.516 | Train PPL: 248.760\n",
            "\t Val. Loss: 6.828 |  Val. PPL: 922.976\n",
            "Epoch: 14 | Time: 0m 11s\n",
            "\tTrain Loss: 5.510 | Train PPL: 247.215\n",
            "\t Val. Loss: 6.827 |  Val. PPL: 922.820\n",
            "Epoch: 15 | Time: 0m 11s\n",
            "\tTrain Loss: 5.512 | Train PPL: 247.570\n",
            "\t Val. Loss: 6.827 |  Val. PPL: 922.400\n",
            "Epoch: 16 | Time: 0m 11s\n",
            "\tTrain Loss: 5.513 | Train PPL: 247.861\n",
            "\t Val. Loss: 6.828 |  Val. PPL: 923.367\n",
            "Epoch: 17 | Time: 0m 11s\n",
            "\tTrain Loss: 5.514 | Train PPL: 248.170\n",
            "\t Val. Loss: 6.828 |  Val. PPL: 923.642\n",
            "Epoch: 18 | Time: 0m 11s\n",
            "\tTrain Loss: 5.522 | Train PPL: 250.196\n",
            "\t Val. Loss: 6.828 |  Val. PPL: 923.696\n",
            "Epoch: 19 | Time: 0m 11s\n",
            "\tTrain Loss: 5.514 | Train PPL: 248.250\n",
            "\t Val. Loss: 6.828 |  Val. PPL: 923.444\n",
            "Epoch: 20 | Time: 0m 11s\n",
            "\tTrain Loss: 5.523 | Train PPL: 250.451\n",
            "\t Val. Loss: 6.828 |  Val. PPL: 923.701\n",
            "Epoch: 21 | Time: 0m 11s\n",
            "\tTrain Loss: 5.511 | Train PPL: 247.293\n",
            "\t Val. Loss: 6.827 |  Val. PPL: 922.596\n",
            "Epoch: 22 | Time: 0m 11s\n",
            "\tTrain Loss: 5.509 | Train PPL: 246.928\n",
            "\t Val. Loss: 6.826 |  Val. PPL: 921.724\n",
            "Epoch: 23 | Time: 0m 11s\n",
            "\tTrain Loss: 5.516 | Train PPL: 248.679\n",
            "\t Val. Loss: 6.827 |  Val. PPL: 922.575\n",
            "Epoch: 24 | Time: 0m 11s\n",
            "\tTrain Loss: 5.522 | Train PPL: 250.217\n",
            "\t Val. Loss: 6.827 |  Val. PPL: 922.055\n",
            "Epoch: 25 | Time: 0m 11s\n",
            "\tTrain Loss: 5.525 | Train PPL: 250.795\n",
            "\t Val. Loss: 6.828 |  Val. PPL: 923.763\n",
            "Epoch: 26 | Time: 0m 11s\n",
            "\tTrain Loss: 5.530 | Train PPL: 252.138\n",
            "\t Val. Loss: 6.828 |  Val. PPL: 923.648\n",
            "Epoch: 27 | Time: 0m 11s\n",
            "\tTrain Loss: 5.526 | Train PPL: 251.144\n",
            "\t Val. Loss: 6.828 |  Val. PPL: 923.575\n",
            "Epoch: 28 | Time: 0m 11s\n",
            "\tTrain Loss: 5.533 | Train PPL: 252.869\n",
            "\t Val. Loss: 6.832 |  Val. PPL: 926.586\n",
            "Epoch: 29 | Time: 0m 11s\n",
            "\tTrain Loss: 5.525 | Train PPL: 250.771\n",
            "\t Val. Loss: 6.830 |  Val. PPL: 925.340\n",
            "Epoch: 30 | Time: 0m 11s\n",
            "\tTrain Loss: 5.530 | Train PPL: 252.166\n",
            "\t Val. Loss: 6.830 |  Val. PPL: 925.041\n",
            "Epoch: 31 | Time: 0m 11s\n",
            "\tTrain Loss: 5.523 | Train PPL: 250.434\n",
            "\t Val. Loss: 6.831 |  Val. PPL: 926.178\n",
            "Epoch: 32 | Time: 0m 11s\n",
            "\tTrain Loss: 5.541 | Train PPL: 255.009\n",
            "\t Val. Loss: 6.833 |  Val. PPL: 927.788\n",
            "Epoch: 33 | Time: 0m 11s\n",
            "\tTrain Loss: 5.548 | Train PPL: 256.736\n",
            "\t Val. Loss: 6.833 |  Val. PPL: 928.051\n",
            "Epoch: 34 | Time: 0m 11s\n",
            "\tTrain Loss: 5.536 | Train PPL: 253.625\n",
            "\t Val. Loss: 6.833 |  Val. PPL: 927.856\n",
            "Epoch: 35 | Time: 0m 11s\n",
            "\tTrain Loss: 5.525 | Train PPL: 250.984\n",
            "\t Val. Loss: 6.832 |  Val. PPL: 926.689\n",
            "Epoch: 36 | Time: 0m 11s\n",
            "\tTrain Loss: 5.542 | Train PPL: 255.136\n",
            "\t Val. Loss: 6.831 |  Val. PPL: 926.447\n",
            "Epoch: 37 | Time: 0m 11s\n",
            "\tTrain Loss: 5.533 | Train PPL: 252.831\n",
            "\t Val. Loss: 6.831 |  Val. PPL: 925.920\n",
            "Epoch: 38 | Time: 0m 11s\n",
            "\tTrain Loss: 5.540 | Train PPL: 254.574\n",
            "\t Val. Loss: 6.828 |  Val. PPL: 923.440\n",
            "Epoch: 39 | Time: 0m 11s\n",
            "\tTrain Loss: 5.529 | Train PPL: 251.889\n",
            "\t Val. Loss: 6.828 |  Val. PPL: 923.695\n",
            "Epoch: 40 | Time: 0m 11s\n",
            "\tTrain Loss: 5.553 | Train PPL: 258.000\n",
            "\t Val. Loss: 6.829 |  Val. PPL: 924.348\n",
            "Epoch: 41 | Time: 0m 11s\n",
            "\tTrain Loss: 5.545 | Train PPL: 255.960\n",
            "\t Val. Loss: 6.833 |  Val. PPL: 928.332\n",
            "Epoch: 42 | Time: 0m 11s\n",
            "\tTrain Loss: 5.544 | Train PPL: 255.653\n",
            "\t Val. Loss: 6.829 |  Val. PPL: 924.350\n",
            "Epoch: 43 | Time: 0m 11s\n",
            "\tTrain Loss: 5.549 | Train PPL: 257.019\n",
            "\t Val. Loss: 6.828 |  Val. PPL: 923.390\n",
            "Epoch: 44 | Time: 0m 11s\n",
            "\tTrain Loss: 5.545 | Train PPL: 255.969\n",
            "\t Val. Loss: 6.832 |  Val. PPL: 927.137\n",
            "Epoch: 45 | Time: 0m 11s\n",
            "\tTrain Loss: 5.549 | Train PPL: 256.893\n",
            "\t Val. Loss: 6.833 |  Val. PPL: 927.681\n",
            "Epoch: 46 | Time: 0m 11s\n",
            "\tTrain Loss: 5.543 | Train PPL: 255.409\n",
            "\t Val. Loss: 6.831 |  Val. PPL: 926.026\n",
            "Epoch: 47 | Time: 0m 11s\n",
            "\tTrain Loss: 5.544 | Train PPL: 255.632\n",
            "\t Val. Loss: 6.830 |  Val. PPL: 925.499\n",
            "Epoch: 48 | Time: 0m 11s\n",
            "\tTrain Loss: 5.544 | Train PPL: 255.775\n",
            "\t Val. Loss: 6.831 |  Val. PPL: 926.347\n",
            "Epoch: 49 | Time: 0m 11s\n",
            "\tTrain Loss: 5.555 | Train PPL: 258.481\n",
            "\t Val. Loss: 6.831 |  Val. PPL: 926.324\n",
            "Epoch: 50 | Time: 0m 11s\n",
            "\tTrain Loss: 5.540 | Train PPL: 254.589\n",
            "\t Val. Loss: 6.832 |  Val. PPL: 926.949\n"
          ],
          "name": "stdout"
        }
      ]
    },
    {
      "cell_type": "code",
      "metadata": {
        "colab": {
          "base_uri": "https://localhost:8080/"
        },
        "id": "jbH0CAHOC2Ij",
        "outputId": "d99d7a06-b01f-4af4-cdb6-4d038daf4019"
      },
      "source": [
        "optimizer = optim.Adam(model.parameters(), lr=0.0000001, weight_decay=0.05)\r\n",
        "print(best_valid_loss)"
      ],
      "execution_count": null,
      "outputs": [
        {
          "output_type": "stream",
          "text": [
            "6.825387096405029\n"
          ],
          "name": "stdout"
        }
      ]
    },
    {
      "cell_type": "code",
      "metadata": {
        "colab": {
          "base_uri": "https://localhost:8080/"
        },
        "id": "4bQ_3Mjtgydn",
        "outputId": "d1bbab0b-c501-4a43-9da9-87e1f1d0d917"
      },
      "source": [
        "N_EPOCHS = 20\r\n",
        "CLIP = 1\r\n",
        "\r\n",
        "best_valid_loss = 6.825387096405029\r\n",
        "model.load_state_dict(torch.load('tut3-model.pt'))\r\n",
        "\r\n",
        "for epoch in range(N_EPOCHS):\r\n",
        "    \r\n",
        "    start_time = time.time()\r\n",
        "    \r\n",
        "    train_loss = train(model, train_iterator, optimizer, criterion, CLIP)\r\n",
        "    # valid_loss = evaluate(model, valid_iterator, criterion)\r\n",
        "    valid_loss = evaluate(model, test_iterator, criterion)\r\n",
        "\r\n",
        "    \r\n",
        "    end_time = time.time()\r\n",
        "    \r\n",
        "    epoch_mins, epoch_secs = epoch_time(start_time, end_time)\r\n",
        "    \r\n",
        "    if valid_loss < best_valid_loss:\r\n",
        "        best_valid_loss = valid_loss\r\n",
        "        torch.save(model.state_dict(), 'tut3-model.pt')\r\n",
        "    \r\n",
        "    print(f'Epoch: {epoch+1:02} | Time: {epoch_mins}m {epoch_secs}s')\r\n",
        "    print(f'\\tTrain Loss: {train_loss:.3f} | Train PPL: {math.exp(train_loss):7.3f}')\r\n",
        "    print(f'\\t Val. Loss: {valid_loss:.3f} |  Val. PPL: {math.exp(valid_loss):7.3f}')"
      ],
      "execution_count": null,
      "outputs": [
        {
          "output_type": "stream",
          "text": [
            "Epoch: 01 | Time: 0m 11s\n",
            "\tTrain Loss: 5.515 | Train PPL: 248.360\n",
            "\t Val. Loss: 6.824 |  Val. PPL: 919.615\n",
            "Epoch: 02 | Time: 0m 11s\n",
            "\tTrain Loss: 5.505 | Train PPL: 245.929\n",
            "\t Val. Loss: 6.823 |  Val. PPL: 918.536\n",
            "Epoch: 03 | Time: 0m 11s\n",
            "\tTrain Loss: 5.511 | Train PPL: 247.358\n",
            "\t Val. Loss: 6.822 |  Val. PPL: 917.361\n",
            "Epoch: 04 | Time: 0m 11s\n",
            "\tTrain Loss: 5.514 | Train PPL: 248.263\n",
            "\t Val. Loss: 6.820 |  Val. PPL: 916.392\n",
            "Epoch: 05 | Time: 0m 11s\n",
            "\tTrain Loss: 5.499 | Train PPL: 244.494\n",
            "\t Val. Loss: 6.819 |  Val. PPL: 915.384\n",
            "Epoch: 06 | Time: 0m 11s\n",
            "\tTrain Loss: 5.519 | Train PPL: 249.412\n",
            "\t Val. Loss: 6.818 |  Val. PPL: 914.577\n",
            "Epoch: 07 | Time: 0m 11s\n",
            "\tTrain Loss: 5.509 | Train PPL: 247.006\n",
            "\t Val. Loss: 6.817 |  Val. PPL: 913.611\n",
            "Epoch: 08 | Time: 0m 11s\n",
            "\tTrain Loss: 5.508 | Train PPL: 246.695\n",
            "\t Val. Loss: 6.817 |  Val. PPL: 912.981\n",
            "Epoch: 09 | Time: 0m 11s\n",
            "\tTrain Loss: 5.512 | Train PPL: 247.582\n",
            "\t Val. Loss: 6.816 |  Val. PPL: 912.267\n",
            "Epoch: 10 | Time: 0m 11s\n",
            "\tTrain Loss: 5.503 | Train PPL: 245.357\n",
            "\t Val. Loss: 6.815 |  Val. PPL: 911.454\n",
            "Epoch: 11 | Time: 0m 11s\n",
            "\tTrain Loss: 5.504 | Train PPL: 245.749\n",
            "\t Val. Loss: 6.814 |  Val. PPL: 910.729\n",
            "Epoch: 12 | Time: 0m 11s\n",
            "\tTrain Loss: 5.511 | Train PPL: 247.302\n",
            "\t Val. Loss: 6.814 |  Val. PPL: 910.117\n",
            "Epoch: 13 | Time: 0m 11s\n",
            "\tTrain Loss: 5.507 | Train PPL: 246.339\n",
            "\t Val. Loss: 6.813 |  Val. PPL: 909.516\n",
            "Epoch: 14 | Time: 0m 11s\n",
            "\tTrain Loss: 5.526 | Train PPL: 251.189\n",
            "\t Val. Loss: 6.812 |  Val. PPL: 908.979\n",
            "Epoch: 15 | Time: 0m 11s\n",
            "\tTrain Loss: 5.509 | Train PPL: 247.015\n",
            "\t Val. Loss: 6.812 |  Val. PPL: 908.532\n",
            "Epoch: 16 | Time: 0m 11s\n",
            "\tTrain Loss: 5.516 | Train PPL: 248.721\n",
            "\t Val. Loss: 6.812 |  Val. PPL: 909.042\n",
            "Epoch: 17 | Time: 0m 11s\n",
            "\tTrain Loss: 5.517 | Train PPL: 248.783\n",
            "\t Val. Loss: 6.812 |  Val. PPL: 908.506\n",
            "Epoch: 18 | Time: 0m 11s\n",
            "\tTrain Loss: 5.508 | Train PPL: 246.778\n",
            "\t Val. Loss: 6.811 |  Val. PPL: 908.066\n",
            "Epoch: 19 | Time: 0m 11s\n",
            "\tTrain Loss: 5.515 | Train PPL: 248.499\n",
            "\t Val. Loss: 6.810 |  Val. PPL: 906.809\n",
            "Epoch: 20 | Time: 0m 11s\n",
            "\tTrain Loss: 5.526 | Train PPL: 251.178\n",
            "\t Val. Loss: 6.811 |  Val. PPL: 908.165\n"
          ],
          "name": "stdout"
        }
      ]
    },
    {
      "cell_type": "code",
      "metadata": {
        "colab": {
          "base_uri": "https://localhost:8080/"
        },
        "id": "uPbKrMydD1V7",
        "outputId": "4667f6e0-fe0e-42ab-f093-5caf3c3f15f8"
      },
      "source": [
        "print(best_valid_loss)"
      ],
      "execution_count": null,
      "outputs": [
        {
          "output_type": "stream",
          "text": [
            "6.695293951034546\n"
          ],
          "name": "stdout"
        }
      ]
    },
    {
      "cell_type": "code",
      "metadata": {
        "colab": {
          "base_uri": "https://localhost:8080/"
        },
        "id": "W9occjQlBu4w",
        "outputId": "d239b00f-9d28-441c-fc4c-40ce28836e85"
      },
      "source": [
        "N_EPOCHS = 20\r\n",
        "CLIP = 1\r\n",
        "\r\n",
        "best_valid_loss = 6.695293951034546\r\n",
        "model.load_state_dict(torch.load('tut3-model.pt'))\r\n",
        "\r\n",
        "for epoch in range(N_EPOCHS):\r\n",
        "    \r\n",
        "    start_time = time.time()\r\n",
        "    \r\n",
        "    train_loss = train(model, train_iterator, optimizer, criterion, CLIP)\r\n",
        "    # valid_loss = evaluate(model, valid_iterator, criterion)\r\n",
        "    valid_loss = evaluate(model, test_iterator, criterion)\r\n",
        "\r\n",
        "    \r\n",
        "    end_time = time.time()\r\n",
        "    \r\n",
        "    epoch_mins, epoch_secs = epoch_time(start_time, end_time)\r\n",
        "    \r\n",
        "    if valid_loss < best_valid_loss:\r\n",
        "        best_valid_loss = valid_loss\r\n",
        "        torch.save(model.state_dict(), 'tut3-model.pt')\r\n",
        "    \r\n",
        "    print(f'Epoch: {epoch+1:02} | Time: {epoch_mins}m {epoch_secs}s')\r\n",
        "    print(f'\\tTrain Loss: {train_loss:.3f} | Train PPL: {math.exp(train_loss):7.3f}')\r\n",
        "    print(f'\\t Val. Loss: {valid_loss:.3f} |  Val. PPL: {math.exp(valid_loss):7.3f}')"
      ],
      "execution_count": null,
      "outputs": [
        {
          "output_type": "stream",
          "text": [
            "Epoch: 01 | Time: 0m 9s\n",
            "\tTrain Loss: 5.408 | Train PPL: 223.193\n",
            "\t Val. Loss: 6.648 |  Val. PPL: 771.149\n",
            "Epoch: 02 | Time: 0m 8s\n",
            "\tTrain Loss: 5.525 | Train PPL: 250.857\n",
            "\t Val. Loss: 6.630 |  Val. PPL: 757.622\n",
            "Epoch: 03 | Time: 0m 9s\n",
            "\tTrain Loss: 5.668 | Train PPL: 289.429\n",
            "\t Val. Loss: 6.644 |  Val. PPL: 768.028\n",
            "Epoch: 04 | Time: 0m 9s\n",
            "\tTrain Loss: 5.779 | Train PPL: 323.584\n",
            "\t Val. Loss: 6.664 |  Val. PPL: 783.420\n",
            "Epoch: 05 | Time: 0m 9s\n",
            "\tTrain Loss: 5.901 | Train PPL: 365.547\n",
            "\t Val. Loss: 6.684 |  Val. PPL: 799.416\n",
            "Epoch: 06 | Time: 0m 9s\n",
            "\tTrain Loss: 5.987 | Train PPL: 398.399\n",
            "\t Val. Loss: 6.694 |  Val. PPL: 807.332\n",
            "Epoch: 07 | Time: 0m 9s\n",
            "\tTrain Loss: 6.036 | Train PPL: 418.334\n",
            "\t Val. Loss: 6.702 |  Val. PPL: 813.658\n",
            "Epoch: 08 | Time: 0m 9s\n",
            "\tTrain Loss: 6.067 | Train PPL: 431.425\n",
            "\t Val. Loss: 6.709 |  Val. PPL: 819.505\n",
            "Epoch: 09 | Time: 0m 9s\n",
            "\tTrain Loss: 6.103 | Train PPL: 447.194\n",
            "\t Val. Loss: 6.714 |  Val. PPL: 823.743\n",
            "Epoch: 10 | Time: 0m 9s\n",
            "\tTrain Loss: 6.130 | Train PPL: 459.558\n",
            "\t Val. Loss: 6.714 |  Val. PPL: 823.515\n",
            "Epoch: 11 | Time: 0m 9s\n",
            "\tTrain Loss: 6.147 | Train PPL: 467.539\n",
            "\t Val. Loss: 6.716 |  Val. PPL: 825.581\n",
            "Epoch: 12 | Time: 0m 9s\n",
            "\tTrain Loss: 6.158 | Train PPL: 472.450\n",
            "\t Val. Loss: 6.719 |  Val. PPL: 827.583\n",
            "Epoch: 13 | Time: 0m 9s\n",
            "\tTrain Loss: 6.177 | Train PPL: 481.491\n",
            "\t Val. Loss: 6.720 |  Val. PPL: 829.046\n",
            "Epoch: 14 | Time: 0m 9s\n",
            "\tTrain Loss: 6.189 | Train PPL: 487.127\n",
            "\t Val. Loss: 6.726 |  Val. PPL: 833.830\n",
            "Epoch: 15 | Time: 0m 9s\n",
            "\tTrain Loss: 6.196 | Train PPL: 490.866\n",
            "\t Val. Loss: 6.735 |  Val. PPL: 841.184\n",
            "Epoch: 16 | Time: 0m 9s\n",
            "\tTrain Loss: 6.213 | Train PPL: 499.022\n",
            "\t Val. Loss: 6.743 |  Val. PPL: 847.876\n",
            "Epoch: 17 | Time: 0m 9s\n",
            "\tTrain Loss: 6.242 | Train PPL: 513.999\n",
            "\t Val. Loss: 6.747 |  Val. PPL: 851.926\n",
            "Epoch: 18 | Time: 0m 9s\n",
            "\tTrain Loss: 6.241 | Train PPL: 513.187\n",
            "\t Val. Loss: 6.751 |  Val. PPL: 854.880\n",
            "Epoch: 19 | Time: 0m 9s\n",
            "\tTrain Loss: 6.261 | Train PPL: 523.630\n",
            "\t Val. Loss: 6.755 |  Val. PPL: 858.540\n",
            "Epoch: 20 | Time: 0m 9s\n",
            "\tTrain Loss: 6.284 | Train PPL: 535.756\n",
            "\t Val. Loss: 6.759 |  Val. PPL: 861.785\n"
          ],
          "name": "stdout"
        }
      ]
    },
    {
      "cell_type": "code",
      "metadata": {
        "id": "rlHnOArsHlb6"
      },
      "source": [
        "!cp /content/QASC_Attn.pt /content/drive/MyDrive/EVA4/ENDS9"
      ],
      "execution_count": null,
      "outputs": []
    },
    {
      "cell_type": "markdown",
      "metadata": {
        "id": "zJm2KZKW9ejI"
      },
      "source": [
        "Finally, we test the model on the test set using these \"best\" parameters."
      ]
    },
    {
      "cell_type": "code",
      "metadata": {
        "id": "0ZlTvUHI9ejI",
        "colab": {
          "base_uri": "https://localhost:8080/"
        },
        "outputId": "8eace8ee-2632-43bb-bd45-9a7a7297a124"
      },
      "source": [
        "model.load_state_dict(torch.load('tut3-model.pt'))\n",
        "\n",
        "test_loss = evaluate(model, test_iterator, criterion)\n",
        "\n",
        "print(f'| Test Loss: {test_loss:.3f} | Test PPL: {math.exp(test_loss):7.3f} |')"
      ],
      "execution_count": null,
      "outputs": [
        {
          "output_type": "stream",
          "text": [
            "| Test Loss: 3.178 | Test PPL:  24.009 |\n"
          ],
          "name": "stdout"
        }
      ]
    },
    {
      "cell_type": "markdown",
      "metadata": {
        "id": "seTMu4Mj9ejK"
      },
      "source": [
        "We've improved on the previous model, but this came at the cost of doubling the training time.\n",
        "\n",
        "Next, we'll be using the same architecture but using a few tricks that are applicable to all RNN architectures - packed padded sequences and masking. We'll also implement code which will allow us to look at what words in the input the RNN is paying attention to when decoding the output. Check this [Notebook](https://colab.research.google.com/github/bentrevett/pytorch-seq2seq/blob/master/4%20-%20Packed%20Padded%20Sequences%2C%20Masking%2C%20Inference%20and%20BLEU.ipynb) "
      ]
    }
  ]
}