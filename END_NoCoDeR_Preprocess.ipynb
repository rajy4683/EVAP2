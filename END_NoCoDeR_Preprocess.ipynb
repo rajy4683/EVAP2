{
  "nbformat": 4,
  "nbformat_minor": 0,
  "metadata": {
    "colab": {
      "name": "END_NoCoDeR_Preprocess.ipynb",
      "provenance": [],
      "collapsed_sections": [],
      "toc_visible": true,
      "mount_file_id": "1pT-wiCZXXh5I8wu8Yxcv7LgiY0NefblE",
      "authorship_tag": "ABX9TyOXlI4SxVq87tXsNXkWbMyH",
      "include_colab_link": true
    },
    "kernelspec": {
      "display_name": "Python 3",
      "name": "python3"
    }
  },
  "cells": [
    {
      "cell_type": "markdown",
      "metadata": {
        "id": "view-in-github",
        "colab_type": "text"
      },
      "source": [
        "<a href=\"https://colab.research.google.com/github/rajy4683/EVAP2/blob/master/END_NoCoDeR_Preprocess.ipynb\" target=\"_parent\"><img src=\"https://colab.research.google.com/assets/colab-badge.svg\" alt=\"Open In Colab\"/></a>"
      ]
    },
    {
      "cell_type": "code",
      "metadata": {
        "id": "o4uN4sSQlA7w"
      },
      "source": [
        "import torch\n",
        "import pandas as pd\n",
        "import numpy as np\n",
        "import fileinput\n",
        "import re\n",
        "import itertools\n",
        "import matplotlib.pyplot as plt\n",
        "from IPython.core.display import display, HTML\n",
        "#import seaborn as sns\n",
        "import dateutil.parser\n",
        "import datetime\n",
        "#from ipyfilechooser import FileChooser\n",
        "import numpy as np\n",
        "import os\n",
        "import gzip\n",
        "import dateutil.parser\n",
        "from datetime import datetime\n",
        "import sys\n",
        "import glob\n",
        "import matplotlib.dates as mdates\n",
        "from datetime import timedelta\n",
        "import ipywidgets as widgets\n",
        "from IPython.display import display\n",
        "import torch\n",
        "import json\n",
        "import random\n",
        "import spacy\n",
        "from pprint import pprint\n",
        "import six\n",
        "import sys, token, tokenize\n",
        "import ast\n",
        "from torch.utils.data import (DataLoader, RandomSampler, SequentialSampler,\n",
        "                              TensorDataset)\n",
        "from torch.utils.data.distributed import DistributedSampler\n",
        "#from tensorboardX import SummaryWriter\n",
        "from tqdm import tqdm, trange"
      ],
      "execution_count": 1,
      "outputs": []
    },
    {
      "cell_type": "markdown",
      "metadata": {
        "id": "AoVrywNmyhpX"
      },
      "source": [
        "### NL PL Dataset"
      ]
    },
    {
      "cell_type": "code",
      "metadata": {
        "id": "_XM2gF8O1v2Y"
      },
      "source": [
        "!cp /content/drive/MyDrive/EVA4/END_Capstone/english_python_data.txt .\n",
        "!cp /content/drive/MyDrive/EVA4/END_Capstone/english_python_cleaned.txt .\n",
        "!cp /content/drive/MyDrive/EVA4/END_Capstone/end_capstone.csv ."
      ],
      "execution_count": 2,
      "outputs": []
    },
    {
      "cell_type": "code",
      "metadata": {
        "id": "ZHg4cnZNNgsh"
      },
      "source": [
        "with open('/content/english_python_data.txt','r') as f:\n",
        "    output_data = f.readlines()\n",
        "len(output_data)"
      ],
      "execution_count": null,
      "outputs": []
    },
    {
      "cell_type": "code",
      "metadata": {
        "colab": {
          "base_uri": "https://localhost:8080/"
        },
        "id": "S5e9Qc9RCioL",
        "outputId": "8bb95471-13f7-44aa-e81b-d364e95c3617"
      },
      "source": [
        "hash_lines_only=[]\n",
        "for line in output_data:\n",
        "    if(re.match(r'^#', line.lower(), re.IGNORECASE)):\n",
        "        hash_lines_only.append(line)\n",
        "print(len(hash_lines_only))"
      ],
      "execution_count": null,
      "outputs": [
        {
          "output_type": "stream",
          "text": [
            "4387\n"
          ],
          "name": "stdout"
        }
      ]
    },
    {
      "cell_type": "code",
      "metadata": {
        "colab": {
          "base_uri": "https://localhost:8080/"
        },
        "id": "AgqIU7oO_UEa",
        "outputId": "d8bb361d-0d6f-4a06-92cc-021cdc551600"
      },
      "source": [
        "#main_regex=r'#\\d+ write|^(#|#\\s+)(write|define|python)|'\n",
        "hash_lines=[]\n",
        "for line in output_data:\n",
        "    if(re.match(r'^(#|#\\s+|## |#\\d+)\\w+', line.lower(), re.IGNORECASE)):\n",
        "        hash_lines.append(line)\n",
        "print(len(hash_lines))"
      ],
      "execution_count": null,
      "outputs": [
        {
          "output_type": "stream",
          "text": [
            "4386\n"
          ],
          "name": "stdout"
        }
      ]
    },
    {
      "cell_type": "code",
      "metadata": {
        "colab": {
          "base_uri": "https://localhost:8080/"
        },
        "id": "56NstTPiEEQJ",
        "outputId": "a77376b6-8f32-4598-dcaf-fb95f1433805"
      },
      "source": [
        "pruned =[]\n",
        "for line in hash_lines:\n",
        "    if not re.search(r'write|python|program|function|^#\\d+|define', line.lower(),re.IGNORECASE):\n",
        "        pruned.append(line)\n",
        "len(set(pruned))"
      ],
      "execution_count": null,
      "outputs": [
        {
          "output_type": "execute_result",
          "data": {
            "text/plain": [
              "136"
            ]
          },
          "metadata": {
            "tags": []
          },
          "execution_count": 28
        }
      ]
    },
    {
      "cell_type": "code",
      "metadata": {
        "id": "3eXFBTZLQV2W"
      },
      "source": [
        "for obj in set(pruned):\n",
        "    print(obj.rstrip())"
      ],
      "execution_count": null,
      "outputs": []
    },
    {
      "cell_type": "code",
      "metadata": {
        "id": "wcTdl2TX2PrG"
      },
      "source": [
        "set(hash_lines_only) - set(hash_lines)"
      ],
      "execution_count": null,
      "outputs": []
    },
    {
      "cell_type": "code",
      "metadata": {
        "id": "MSA_WDvZsW_U"
      },
      "source": [
        "### Converting the original code base to dataframes\n",
        "with open('/content/english_python_data.txt','r') as f:\n",
        "    output_data = f.readlines()\n",
        "header = \"\"\n",
        "nl_to_pl_pairs=[]\n",
        "content=[]\n",
        "for line in output_data:    \n",
        "    #if(\"# write \" in line.lower()):\n",
        "    #if(re.match(r'^(#|#\\s+|## |#\\d+)\\w+', line.lower(), re.IGNORECASE)):\n",
        "    if(re.match(r'^#', line.lower(), re.IGNORECASE)):\n",
        "        if(header != line): ### We have hit a new progam\n",
        "            nl_to_pl_pairs.append([header, \"\".join(content)])\n",
        "            content=[]\n",
        "        header=line\n",
        "    else:\n",
        "        #print(\"Not \")\n",
        "        content.append(line)\n",
        "# for idx in range(20):\n",
        "#     print(nl_to_pl_pairs[idx][0])\n",
        "#     print(nl_to_pl_pairs[idx][1])\n",
        "\n",
        "nl_to_pl_df = pd.DataFrame(nl_to_pl_pairs[2:], columns=['docstring','code'])\n",
        "#nl_to_pl_df.loc[:,'docstring'] =nl_to_pl_df.loc[:,'docstring'].apply(lambda x: re.sub('# ','',x).strip('\\n'))\n",
        "#nl_to_pl_df.to_csv(\"end_capstone.csv\", index=False)"
      ],
      "execution_count": null,
      "outputs": []
    },
    {
      "cell_type": "code",
      "metadata": {
        "id": "v_Ix5Ft04zOd"
      },
      "source": [
        "#nl_to_pl_df['docstring'] = nl_to_pl_df['docstring'].apply(lambda x: x.lower().lstrip('#').rstrip('\\n'))\n",
        "#nl_to_pl_df['docstring_len'] =\n",
        "nl_to_pl_df['docstring_len'] =nl_to_pl_df['docstring'].apply(lambda x: len(x))\n",
        "nl_to_pl_df['code_len'] = nl_to_pl_df['code'].apply(lambda x: len(x))\n",
        "nl_to_pl_df['cleaned_code'] = nl_to_pl_df.apply(lambda x: remove_docstrings_comments(x.code, x.docstring), axis=1)\n",
        "nl_to_pl_df['cleaned_code_len'] = nl_to_pl_df['cleaned_code'].apply(lambda x: len(x))"
      ],
      "execution_count": null,
      "outputs": []
    },
    {
      "cell_type": "code",
      "metadata": {
        "colab": {
          "base_uri": "https://localhost:8080/"
        },
        "id": "u1YbEyqnqlqB",
        "outputId": "7c5bd2d8-90b6-46e5-c57f-0a0d99b75f9e"
      },
      "source": [
        "nl_pl_df['code_len'].describe()"
      ],
      "execution_count": null,
      "outputs": [
        {
          "output_type": "execute_result",
          "data": {
            "text/plain": [
              "count    4364.000000\n",
              "mean      173.705316\n",
              "std       154.634218\n",
              "min        11.000000\n",
              "25%        81.000000\n",
              "50%       132.000000\n",
              "75%       216.000000\n",
              "max      2443.000000\n",
              "Name: code_len, dtype: float64"
            ]
          },
          "metadata": {
            "tags": []
          },
          "execution_count": 15
        }
      ]
    },
    {
      "cell_type": "code",
      "metadata": {
        "id": "bmxC7pjcQzDP"
      },
      "source": [
        "nl_to_pl_df.to_csv(\"end_capstone.csv\", index=False)"
      ],
      "execution_count": null,
      "outputs": []
    },
    {
      "cell_type": "code",
      "metadata": {
        "id": "sf9uggOR11mR"
      },
      "source": [
        "nl_to_pl_df = pd.read_csv(\"end_capstone.csv\")"
      ],
      "execution_count": 3,
      "outputs": []
    },
    {
      "cell_type": "code",
      "metadata": {
        "colab": {
          "base_uri": "https://localhost:8080/"
        },
        "id": "MR7nruWfNQNB",
        "outputId": "83099144-2bc0-4255-df1c-47969d53f3cd"
      },
      "source": [
        "print(nl_to_pl_df['code_len'].max(),nl_to_pl_df['code_len'].min())\n",
        "print(nl_to_pl_df['docstring_len'].max(),nl_to_pl_df['docstring_len'].min())\n",
        "nl_to_pl_df[nl_to_pl_df['code_len'] ==0].count()"
      ],
      "execution_count": 6,
      "outputs": [
        {
          "output_type": "stream",
          "text": [
            "2443 11\n",
            "313 16\n"
          ],
          "name": "stdout"
        },
        {
          "output_type": "execute_result",
          "data": {
            "text/plain": [
              "docstring           0\n",
              "code                0\n",
              "docstring_len       0\n",
              "code_len            0\n",
              "cleaned_code        0\n",
              "cleaned_code_len    0\n",
              "dtype: int64"
            ]
          },
          "metadata": {
            "tags": []
          },
          "execution_count": 6
        }
      ]
    },
    {
      "cell_type": "code",
      "metadata": {
        "id": "6HyecrwwQ307"
      },
      "source": [
        "!cp /content/end_capstone.csv /content/drive/MyDrive/EVA4/END_Capstone\n",
        "!cp /content/english_python_data.txt /content/drive/MyDrive/EVA4/END_Capstone/english_python_cleaned.txt"
      ],
      "execution_count": null,
      "outputs": []
    },
    {
      "cell_type": "code",
      "metadata": {
        "id": "ReY2B-4cUbVP"
      },
      "source": [
        "!cp /content/end_capstone.csv /content/drive/MyDrive/EVA4/END_Capstone"
      ],
      "execution_count": null,
      "outputs": []
    },
    {
      "cell_type": "code",
      "metadata": {
        "colab": {
          "base_uri": "https://localhost:8080/",
          "height": 419
        },
        "id": "4EIQdOUjzRlS",
        "outputId": "311b62ae-1bb1-494a-e5af-35f1ced203c1"
      },
      "source": [
        "nl_to_pl_df.loc[:,['docstring','code']]"
      ],
      "execution_count": null,
      "outputs": [
        {
          "output_type": "execute_result",
          "data": {
            "text/html": [
              "<div>\n",
              "<style scoped>\n",
              "    .dataframe tbody tr th:only-of-type {\n",
              "        vertical-align: middle;\n",
              "    }\n",
              "\n",
              "    .dataframe tbody tr th {\n",
              "        vertical-align: top;\n",
              "    }\n",
              "\n",
              "    .dataframe thead th {\n",
              "        text-align: right;\n",
              "    }\n",
              "</style>\n",
              "<table border=\"1\" class=\"dataframe\">\n",
              "  <thead>\n",
              "    <tr style=\"text-align: right;\">\n",
              "      <th></th>\n",
              "      <th>docstring</th>\n",
              "      <th>code</th>\n",
              "    </tr>\n",
              "  </thead>\n",
              "  <tbody>\n",
              "    <tr>\n",
              "      <th>0</th>\n",
              "      <td># write a python program to add two numbers\\n</td>\n",
              "      <td>num1 = 1.5\\nnum2 = 6.3\\nsum = num1 + num2\\npri...</td>\n",
              "    </tr>\n",
              "    <tr>\n",
              "      <th>1</th>\n",
              "      <td># write a python function to add two user prov...</td>\n",
              "      <td>def add_two_numbers(num1, num2):\\n    sum = nu...</td>\n",
              "    </tr>\n",
              "    <tr>\n",
              "      <th>2</th>\n",
              "      <td># write a program to find and print the larges...</td>\n",
              "      <td>\\nnum1 = 10\\nnum2 = 12\\nnum3 = 14\\nif (num1 &gt;=...</td>\n",
              "    </tr>\n",
              "    <tr>\n",
              "      <th>3</th>\n",
              "      <td># write a program to find and print the smalle...</td>\n",
              "      <td>num1 = 10\\nnum2 = 12\\nnum3 = 14\\nif (num1 &lt;= n...</td>\n",
              "    </tr>\n",
              "    <tr>\n",
              "      <th>4</th>\n",
              "      <td># Write a python function to merge two given l...</td>\n",
              "      <td>def merge_lists(l1, l2):\\n    return l1 + l2\\n...</td>\n",
              "    </tr>\n",
              "    <tr>\n",
              "      <th>...</th>\n",
              "      <td>...</td>\n",
              "      <td>...</td>\n",
              "    </tr>\n",
              "    <tr>\n",
              "      <th>4359</th>\n",
              "      <td># Write a python program to check if a number ...</td>\n",
              "      <td>n = int(input(\"Enter any number: \"))\\nsum1 = 0...</td>\n",
              "    </tr>\n",
              "    <tr>\n",
              "      <th>4360</th>\n",
              "      <td># Write a python program to Check if a Number ...</td>\n",
              "      <td>sum1 = 0\\nnum = int(input(\"Enter a number:\"))\\...</td>\n",
              "    </tr>\n",
              "    <tr>\n",
              "      <th>4361</th>\n",
              "      <td># Write a python to find LCM of two numbers\\n</td>\n",
              "      <td>a=int(input(\"Enter the first number:\"))\\nb=int...</td>\n",
              "    </tr>\n",
              "    <tr>\n",
              "      <th>4362</th>\n",
              "      <td># Write python program to find whether-number-...</td>\n",
              "      <td>def is_power_of_two(n):\\n    \"\"\"Return True if...</td>\n",
              "    </tr>\n",
              "    <tr>\n",
              "      <th>4363</th>\n",
              "      <td>#Write a python program to find length of list...</td>\n",
              "      <td>def length(lst):\\n    if not lst:\\n        ret...</td>\n",
              "    </tr>\n",
              "  </tbody>\n",
              "</table>\n",
              "<p>4364 rows × 2 columns</p>\n",
              "</div>"
            ],
            "text/plain": [
              "                                              docstring                                               code\n",
              "0         # write a python program to add two numbers\\n  num1 = 1.5\\nnum2 = 6.3\\nsum = num1 + num2\\npri...\n",
              "1     # write a python function to add two user prov...  def add_two_numbers(num1, num2):\\n    sum = nu...\n",
              "2     # write a program to find and print the larges...  \\nnum1 = 10\\nnum2 = 12\\nnum3 = 14\\nif (num1 >=...\n",
              "3     # write a program to find and print the smalle...  num1 = 10\\nnum2 = 12\\nnum3 = 14\\nif (num1 <= n...\n",
              "4     # Write a python function to merge two given l...  def merge_lists(l1, l2):\\n    return l1 + l2\\n...\n",
              "...                                                 ...                                                ...\n",
              "4359  # Write a python program to check if a number ...  n = int(input(\"Enter any number: \"))\\nsum1 = 0...\n",
              "4360  # Write a python program to Check if a Number ...  sum1 = 0\\nnum = int(input(\"Enter a number:\"))\\...\n",
              "4361      # Write a python to find LCM of two numbers\\n  a=int(input(\"Enter the first number:\"))\\nb=int...\n",
              "4362  # Write python program to find whether-number-...  def is_power_of_two(n):\\n    \"\"\"Return True if...\n",
              "4363  #Write a python program to find length of list...  def length(lst):\\n    if not lst:\\n        ret...\n",
              "\n",
              "[4364 rows x 2 columns]"
            ]
          },
          "metadata": {
            "tags": []
          },
          "execution_count": 38
        }
      ]
    },
    {
      "cell_type": "code",
      "metadata": {
        "id": "Xl3-ILqG1d14"
      },
      "source": [
        "nl_to_pl_df['code_len'].plot()"
      ],
      "execution_count": null,
      "outputs": []
    },
    {
      "cell_type": "code",
      "metadata": {
        "id": "3AHgquEo1as7",
        "colab": {
          "base_uri": "https://localhost:8080/",
          "height": 282
        },
        "outputId": "c5a7b2d2-a98f-4e5c-bb79-b9dd7bea5b40"
      },
      "source": [
        "#nl_to_pl_df['code_len'].plot()\n",
        "plt.scatter(nl_to_pl_df.index.values,nl_to_pl_df['code_len'])"
      ],
      "execution_count": 7,
      "outputs": [
        {
          "output_type": "execute_result",
          "data": {
            "text/plain": [
              "<matplotlib.collections.PathCollection at 0x7f49e22f4550>"
            ]
          },
          "metadata": {
            "tags": []
          },
          "execution_count": 7
        },
        {
          "output_type": "display_data",
          "data": {
            "image/png": "[encoded data removed]",
            "text/plain": [
              "<Figure size 432x288 with 1 Axes>"
            ]
          },
          "metadata": {
            "tags": [],
            "needs_background": "light"
          }
        }
      ]
    },
    {
      "cell_type": "code",
      "metadata": {
        "colab": {
          "base_uri": "https://localhost:8080/",
          "height": 282
        },
        "id": "8Nfnmr6A3v9M",
        "outputId": "c28dc38d-c871-4450-e765-8a45fe1acd90"
      },
      "source": [
        "plt.scatter(nl_to_pl_df.index.values,nl_to_pl_df['docstring_len'])"
      ],
      "execution_count": null,
      "outputs": [
        {
          "output_type": "execute_result",
          "data": {
            "text/plain": [
              "<matplotlib.collections.PathCollection at 0x7fd1944af550>"
            ]
          },
          "metadata": {
            "tags": []
          },
          "execution_count": 40
        },
        {
          "output_type": "display_data",
          "data": {
            "image/png": "[encoded data removed]",
            "text/plain": [
              "<Figure size 432x288 with 1 Axes>"
            ]
          },
          "metadata": {
            "tags": [],
            "needs_background": "light"
          }
        }
      ]
    },
    {
      "cell_type": "code",
      "metadata": {
        "colab": {
          "base_uri": "https://localhost:8080/"
        },
        "id": "6-9p6Ufa1_gU",
        "outputId": "a2c884c7-dc40-4077-bb3b-1f09b4c0fa72"
      },
      "source": [
        "nl_to_pl_df.query('code_len > 215').count()"
      ],
      "execution_count": null,
      "outputs": [
        {
          "output_type": "execute_result",
          "data": {
            "text/plain": [
              "docstring           1097\n",
              "code                1097\n",
              "docstring_len       1097\n",
              "code_len            1097\n",
              "cleaned_code        1097\n",
              "cleaned_code_len    1097\n",
              "dtype: int64"
            ]
          },
          "metadata": {
            "tags": []
          },
          "execution_count": 41
        }
      ]
    },
    {
      "cell_type": "code",
      "metadata": {
        "id": "WYv3sxs98_Tx"
      },
      "source": [
        "for ix in nl_to_pl_df['docstring_len'].nlargest(30).index.values:\n",
        "    print('#'+nl_to_pl_df.iloc[ix, 0])\n",
        "    print(nl_to_pl_df.iloc[ix, 1])"
      ],
      "execution_count": null,
      "outputs": []
    },
    {
      "cell_type": "code",
      "metadata": {
        "id": "CUG5siVT8QyV"
      },
      "source": [
        "print(nl_to_pl_df.iloc[nl_to_pl_df['code_len'].idxmax(),:]['code'])"
      ],
      "execution_count": null,
      "outputs": []
    },
    {
      "cell_type": "code",
      "metadata": {
        "id": "zQBx9rtjljr7"
      },
      "source": [
        "#print(code_block)\n",
        "print(\"\".join(do_file(code_block)))"
      ],
      "execution_count": null,
      "outputs": []
    },
    {
      "cell_type": "code",
      "metadata": {
        "id": "lA5np1g_h-tI"
      },
      "source": [
        "#print(\"\".join(do_file(my_df['code'][0])))\n",
        "print(do_file(my_df['code'][0]))"
      ],
      "execution_count": null,
      "outputs": []
    }
  ]
}