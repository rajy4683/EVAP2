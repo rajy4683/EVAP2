{
  "nbformat": 4,
  "nbformat_minor": 0,
  "metadata": {
    "colab": {
      "name": "EVA4P2_NeuralStyleTransfer.ipynb",
      "provenance": [],
      "collapsed_sections": [],
      "toc_visible": true,
      "include_colab_link": true
    },
    "kernelspec": {
      "name": "python3",
      "display_name": "Python 3"
    },
    "accelerator": "GPU"
  },
  "cells": [
    {
      "cell_type": "markdown",
      "metadata": {
        "id": "view-in-github",
        "colab_type": "text"
      },
      "source": [
        "<a href=\"https://colab.research.google.com/github/rajy4683/EVAP2/blob/master/EVA4P2_NeuralStyleTransfer.ipynb\" target=\"_parent\"><img src=\"https://colab.research.google.com/assets/colab-badge.svg\" alt=\"Open In Colab\"/></a>"
      ]
    },
    {
      "cell_type": "code",
      "metadata": {
        "id": "so4v3WZ5dMy6",
        "outputId": "c9b41efc-f883-4c28-e9c5-ed8873486866",
        "colab": {
          "base_uri": "https://localhost:8080/",
          "height": 380
        }
      },
      "source": [
        "!nvidia-smi"
      ],
      "execution_count": null,
      "outputs": [
        {
          "output_type": "stream",
          "text": [
            "Sat Oct 10 09:47:49 2020       \n",
            "+-----------------------------------------------------------------------------+\n",
            "| NVIDIA-SMI 455.23.05    Driver Version: 418.67       CUDA Version: 10.1     |\n",
            "|-------------------------------+----------------------+----------------------+\n",
            "| GPU  Name        Persistence-M| Bus-Id        Disp.A | Volatile Uncorr. ECC |\n",
            "| Fan  Temp  Perf  Pwr:Usage/Cap|         Memory-Usage | GPU-Util  Compute M. |\n",
            "|                               |                      |               MIG M. |\n",
            "|===============================+======================+======================|\n",
            "|   0  Tesla P4            Off  | 00000000:00:04.0 Off |                    0 |\n",
            "| N/A   41C    P8     7W /  75W |      0MiB /  7611MiB |      0%      Default |\n",
            "|                               |                      |                 ERR! |\n",
            "+-------------------------------+----------------------+----------------------+\n",
            "                                                                               \n",
            "+-----------------------------------------------------------------------------+\n",
            "| Processes:                                                                  |\n",
            "|  GPU   GI   CI        PID   Type   Process name                  GPU Memory |\n",
            "|        ID   ID                                                   Usage      |\n",
            "|=============================================================================|\n",
            "|  No running processes found                                                 |\n",
            "+-----------------------------------------------------------------------------+\n"
          ],
          "name": "stdout"
        }
      ]
    },
    {
      "cell_type": "markdown",
      "metadata": {
        "id": "bnP6czPlVky1"
      },
      "source": [
        "## Choose a style\n",
        "\n",
        "Not all style images are equal. For the best results, pick images that:\n",
        "\n",
        "\n",
        "1.   Have large geometric patterns on the scale of 10% - 33% of the images width\n",
        "2.   Have bold, contrasting color palletes\n",
        "3.   Have strong edges\n",
        "\n",
        "If you're looking for inspiration, consider searching [Unslash](https://unspalsh.com) for [Flickr](https://www.flickr.com/search/) for terms like \"abstract\" or \"geometric\".\n",
        "\n",
        "Make sure any images you use have an appropriate license.\n"
      ]
    },
    {
      "cell_type": "code",
      "metadata": {
        "id": "nDD1FyLx6uiL",
        "outputId": "e1d48937-2ff9-46ab-ba5e-973ee9398b97",
        "colab": {
          "base_uri": "https://localhost:8080/",
          "height": 35
        }
      },
      "source": [
        "!mkdir ./style_transfer/data/"
      ],
      "execution_count": null,
      "outputs": [
        {
          "output_type": "stream",
          "text": [
            "mkdir: cannot create directory ‘./style_transfer/data/’: No such file or directory\n"
          ],
          "name": "stdout"
        }
      ]
    },
    {
      "cell_type": "markdown",
      "metadata": {
        "id": "45KseM0RVZ14"
      },
      "source": [
        "## Download Training Data\n",
        "\n",
        "We will use the 5000 images from the [COCO 2017 validation](http://cocodataset.org/#download) dataset for training."
      ]
    },
    {
      "cell_type": "code",
      "metadata": {
        "id": "DQApqKeAVjE_",
        "outputId": "adc1d3f6-2081-40ae-ebc1-18f20a192ee9",
        "colab": {
          "base_uri": "https://localhost:8080/",
          "height": 253
        }
      },
      "source": [
        "training_data_url = \"http://images.cocodataset.org/zips/val2017.zip\"\n",
        "\n",
        "!mkdir -p /content/style_transfer/data/ && wget $training_data_url\n",
        "\n",
        "print(\"Unzipping\")\n",
        "with io.capture_output(stderr=False):\n",
        "    !unzip -o -d style_transfer/data/ ./val2017.zip\n",
        "\n",
        "print(f\"Finished Downloading data\")"
      ],
      "execution_count": null,
      "outputs": [
        {
          "output_type": "stream",
          "text": [
            "--2020-10-10 09:51:39--  http://images.cocodataset.org/zips/val2017.zip\n",
            "Resolving images.cocodataset.org (images.cocodataset.org)... 52.216.238.107\n",
            "Connecting to images.cocodataset.org (images.cocodataset.org)|52.216.238.107|:80... connected.\n",
            "HTTP request sent, awaiting response... 200 OK\n",
            "Length: 815585330 (778M) [application/zip]\n",
            "Saving to: ‘val2017.zip.1’\n",
            "\n",
            "val2017.zip.1       100%[===================>] 777.80M  94.7MB/s    in 8.1s    \n",
            "\n",
            "2020-10-10 09:51:47 (95.6 MB/s) - ‘val2017.zip.1’ saved [815585330/815585330]\n",
            "\n",
            "Unzipping\n",
            "Finished Downloading data\n"
          ],
          "name": "stdout"
        }
      ]
    },
    {
      "cell_type": "code",
      "metadata": {
        "id": "aQchQXrd7IuL"
      },
      "source": [
        "!unzip -o -d style_transfer/data/ ./val2017.zip"
      ],
      "execution_count": null,
      "outputs": []
    },
    {
      "cell_type": "code",
      "metadata": {
        "id": "qpyS44MeiKZo",
        "outputId": "baf86e12-4955-4f92-8a24-b1b98fb8e9af",
        "colab": {
          "base_uri": "https://localhost:8080/",
          "height": 35
        }
      },
      "source": [
        "import glob\n",
        "glob.glob(\"/content/style_transfer/data/*\")"
      ],
      "execution_count": null,
      "outputs": [
        {
          "output_type": "execute_result",
          "data": {
            "text/plain": [
              "[]"
            ]
          },
          "metadata": {
            "tags": []
          },
          "execution_count": 10
        }
      ]
    },
    {
      "cell_type": "markdown",
      "metadata": {
        "id": "QMiGOmRqgYf8"
      },
      "source": [
        "# PyTorch Variant"
      ]
    },
    {
      "cell_type": "code",
      "metadata": {
        "id": "KVHTh8Dk7opt",
        "outputId": "92ef7620-b67f-4878-e5cc-56a50940fa9d",
        "colab": {
          "base_uri": "https://localhost:8080/",
          "height": 35
        }
      },
      "source": [
        "from google.colab import drive\n",
        "drive.mount('/content/drive')"
      ],
      "execution_count": null,
      "outputs": [
        {
          "output_type": "stream",
          "text": [
            "Mounted at /content/drive\n"
          ],
          "name": "stdout"
        }
      ]
    },
    {
      "cell_type": "code",
      "metadata": {
        "id": "_WFJWIBUiTqM"
      },
      "source": [
        "!mv /content/fritz-models/style_transfer/data/val2017 /content"
      ],
      "execution_count": null,
      "outputs": []
    },
    {
      "cell_type": "code",
      "metadata": {
        "id": "GwW5VZ--jDaZ"
      },
      "source": [
        "!mv sample_data/style_* /content/style_images/\n",
        "!ls -rlt /content/style_images/*"
      ],
      "execution_count": null,
      "outputs": []
    },
    {
      "cell_type": "code",
      "metadata": {
        "id": "BhoP-YjFgeBH",
        "outputId": "a16c8af4-f9fd-47c3-89dd-93a52bd1f559",
        "colab": {
          "base_uri": "https://localhost:8080/",
          "height": 90
        }
      },
      "source": [
        "!git clone https://github.com/eriklindernoren/Fast-Neural-Style-Transfer.git"
      ],
      "execution_count": null,
      "outputs": [
        {
          "output_type": "stream",
          "text": [
            "Cloning into 'Fast-Neural-Style-Transfer'...\n",
            "remote: Enumerating objects: 94, done.\u001b[K\n",
            "remote: Total 94 (delta 0), reused 0 (delta 0), pack-reused 94\u001b[K\n",
            "Unpacking objects: 100% (94/94), done.\n"
          ],
          "name": "stdout"
        }
      ]
    },
    {
      "cell_type": "code",
      "metadata": {
        "id": "R4SeyyC77bO2"
      },
      "source": [
        "!cp -Rf /content/drive/My\\ Drive/EVA4/Fast-Neural-Style-Transfer /content/ \n",
        "!cp -Rf /content/drive/My\\ Drive/EVA4/style_images /content/"
      ],
      "execution_count": null,
      "outputs": []
    },
    {
      "cell_type": "code",
      "metadata": {
        "id": "haSibqaSggGl",
        "outputId": "61006bf9-6bfd-4da0-836e-d2f2b2bcebad",
        "colab": {
          "base_uri": "https://localhost:8080/",
          "height": 35
        }
      },
      "source": [
        "!python /content/Fast-Neural-Style-Transfer/train_new.py  --dataset_path /content/style_transfer/data/ \\\n",
        "                  --style_image /content/style_images/style_4.jpg \\\n",
        "                  --epochs 2 \\\n",
        "                  --batch_size 4 \\\n",
        "                  --image_size 128  \\\n",
        "                  --checkpoint_interval 200 \\\n",
        "                  --sample_interval 100 \\\n",
        "                  --checkpoint_model \"/content/checkpoints/style_4_2400.pth\""
      ],
      "execution_count": null,
      "outputs": [
        {
          "output_type": "stream",
          "text": [
            "[Epoch 2/2] [Batch 1249/5000] [Content: 2825240.25 (2709939.13) Style: 1248380.62 (1511272.93) Total: 4073621.00 (4221212.06)]"
          ],
          "name": "stdout"
        }
      ]
    },
    {
      "cell_type": "code",
      "metadata": {
        "id": "0tNQE6vt5pwm",
        "outputId": "4891be79-8148-4852-c2e6-a2f3910ab380",
        "colab": {
          "base_uri": "https://localhost:8080/",
          "height": 1000
        }
      },
      "source": [
        "!python /content/Fast-Neural-Style-Transfer/train_new.py  --dataset_path /content/style_transfer/data/ \\\n",
        "                  --style_image /content/style_images/style_19.jpg \\\n",
        "                  --epochs 5 \\\n",
        "                  --batch_size 4 \\\n",
        "                  --image_size 128  \\\n",
        "                  --checkpoint_interval 200 \\\n",
        "                  --sample_interval 100 \\\n",
        "                  --lambda_content 1e6 \\\n"
      ],
      "execution_count": 86,
      "outputs": [
        {
          "output_type": "stream",
          "text": [
            "[Epoch 1/5] [Batch 100/5000] [Content: 16751112.00 (12724257.19) Style: 29122184.00 (54206302.48) Total: 45873296.00 (66930559.56)]\n",
            "[Epoch 1/5] [Batch 200/5000] [Content: 19111888.00 (15417360.24) Style: 9549080.00 (34943768.55) Total: 28660968.00 (50361128.65)]\n",
            "[Epoch 1/5] [Batch 300/5000] [Content: 17986722.00 (16353462.07) Style: 7681704.00 (26187188.22) Total: 25668426.00 (42540650.20)]\n",
            "[Epoch 1/5] [Batch 400/5000] [Content: 17792934.00 (16701092.09) Style: 6542280.50 (21482728.52) Total: 24335214.00 (38183820.53)]\n",
            "[Epoch 1/5] [Batch 500/5000] [Content: 17330908.00 (16761604.61) Style: 6306795.50 (18532968.88) Total: 23637704.00 (35294573.44)]\n",
            "[Epoch 1/5] [Batch 600/5000] [Content: 16821264.00 (16744760.36) Style: 5447704.50 (16487004.47) Total: 22268968.00 (33231764.79)]\n",
            "[Epoch 1/5] [Batch 700/5000] [Content: 16022617.00 (16676482.71) Style: 5866394.00 (14980711.74) Total: 21889012.00 (31657194.42)]\n",
            "[Epoch 1/5] [Batch 800/5000] [Content: 15428442.00 (16580204.12) Style: 5098774.00 (13840319.14) Total: 20527216.00 (30420523.23)]\n",
            "[Epoch 1/5] [Batch 900/5000] [Content: 15573860.00 (16476840.21) Style: 5969561.00 (12932798.59) Total: 21543420.00 (29409638.79)]\n",
            "[Epoch 1/5] [Batch 1000/5000] [Content: 15305814.00 (16370004.45) Style: 5127857.00 (12190966.75) Total: 20433672.00 (28560971.20)]\n",
            "[Epoch 1/5] [Batch 1100/5000] [Content: 15817863.00 (16270337.77) Style: 4904589.50 (11586208.04) Total: 20722452.00 (27856545.79)]\n",
            "[Epoch 1/5] [Batch 1200/5000] [Content: 14902527.00 (16169479.54) Style: 5633622.50 (11070659.24) Total: 20536150.00 (27240138.76)]\n",
            "[Epoch 2/5] [Batch 1300/5000] [Content: 15505126.00 (14865244.06) Style: 4615804.00 (5453299.17) Total: 20120930.00 (20318543.32)]\n",
            "[Epoch 2/5] [Batch 1400/5000] [Content: 14319841.00 (14727063.80) Style: 5788273.50 (5362219.72) Total: 20108114.00 (20089283.53)]\n",
            "[Epoch 2/5] [Batch 1500/5000] [Content: 14212029.00 (14662969.86) Style: 5230356.50 (5325462.57) Total: 19442386.00 (19988432.38)]\n",
            "[Epoch 2/5] [Batch 1600/5000] [Content: 14191999.00 (14594515.31) Style: 6218945.00 (5299540.38) Total: 20410944.00 (19894055.65)]\n",
            "[Epoch 2/5] [Batch 1700/5000] [Content: 14536299.00 (14539507.72) Style: 5190701.00 (5262042.67) Total: 19727000.00 (19801550.34)]\n",
            "[Epoch 2/5] [Batch 1800/5000] [Content: 14550919.00 (14475791.11) Style: 4376880.00 (5250980.87) Total: 18927800.00 (19726771.96)]\n",
            "[Epoch 2/5] [Batch 1900/5000] [Content: 13452005.00 (14414560.77) Style: 6040886.00 (5231686.31) Total: 19492892.00 (19646247.05)]\n",
            "[Epoch 2/5] [Batch 2000/5000] [Content: 14009617.00 (14365497.16) Style: 4795060.00 (5211110.86) Total: 18804676.00 (19576607.99)]\n",
            "[Epoch 2/5] [Batch 2100/5000] [Content: 14403428.00 (14318620.84) Style: 5270339.50 (5201690.91) Total: 19673768.00 (19520311.73)]\n",
            "[Epoch 2/5] [Batch 2200/5000] [Content: 13992484.00 (14274039.08) Style: 5042152.00 (5191914.04) Total: 19034636.00 (19465953.10)]\n",
            "[Epoch 2/5] [Batch 2300/5000] [Content: 15086930.00 (14223157.57) Style: 4529492.50 (5184540.69) Total: 19616422.00 (19407698.25)]\n",
            "[Epoch 2/5] [Batch 2400/5000] [Content: 14249947.00 (14182389.24) Style: 4905613.00 (5174268.26) Total: 19155560.00 (19356657.49)]\n",
            "[Epoch 2/5] [Batch 2500/5000] [Content: 14957121.00 (14132977.37) Style: 4753159.50 (5160682.69) Total: 19710280.00 (19293660.05)]\n",
            "[Epoch 3/5] [Batch 2600/5000] [Content: 13857550.00 (13495105.11) Style: 4728886.50 (5034627.62) Total: 18586436.00 (18529732.78)]\n",
            "[Epoch 3/5] [Batch 2700/5000] [Content: 13116371.00 (13499338.85) Style: 4390784.50 (5056603.43) Total: 17507156.00 (18555942.26)]\n",
            "[Epoch 3/5] [Batch 2800/5000] [Content: 13150482.00 (13462470.12) Style: 4808680.00 (5043780.30) Total: 17959162.00 (18506250.38)]\n",
            "[Epoch 3/5] [Batch 2900/5000] [Content: 13234402.00 (13420276.17) Style: 4611148.50 (5019040.76) Total: 17845550.00 (18439316.91)]\n",
            "[Epoch 3/5] [Batch 3000/5000] [Content: 12938575.00 (13407592.37) Style: 5628798.00 (5025276.34) Total: 18567372.00 (18432868.70)]\n",
            "[Epoch 3/5] [Batch 3100/5000] [Content: 13131942.00 (13369284.27) Style: 4929435.00 (4999369.21) Total: 18061376.00 (18368653.46)]\n",
            "[Epoch 3/5] [Batch 3200/5000] [Content: 13307987.00 (13338459.22) Style: 4953835.50 (4988113.71) Total: 18261822.00 (18326572.91)]\n",
            "[Epoch 3/5] [Batch 3300/5000] [Content: 13215691.00 (13311768.04) Style: 5288974.00 (5007289.24) Total: 18504664.00 (18319057.27)]\n",
            "[Epoch 3/5] [Batch 3400/5000] [Content: 12809134.00 (13282325.32) Style: 5529694.50 (4993939.01) Total: 18338828.00 (18276264.31)]\n",
            "[Epoch 3/5] [Batch 3500/5000] [Content: 12843986.00 (13251944.22) Style: 4860550.50 (4988977.64) Total: 17704536.00 (18240921.85)]\n",
            "[Epoch 3/5] [Batch 3600/5000] [Content: 12923434.00 (13229025.56) Style: 5249509.00 (4986233.31) Total: 18172944.00 (18215258.87)]\n",
            "[Epoch 3/5] [Batch 3700/5000] [Content: 12714493.00 (13206460.63) Style: 5045914.50 (4975984.57) Total: 17760408.00 (18182445.20)]\n",
            "[Epoch 4/5] [Batch 3800/5000] [Content: 12994499.00 (12883868.74) Style: 4790233.50 (4896854.16) Total: 17784732.00 (17780723.12)]\n",
            "[Epoch 4/5] [Batch 3900/5000] [Content: 12684563.00 (12919970.35) Style: 4547050.00 (4859932.80) Total: 17231612.00 (17779903.16)]\n",
            "[Epoch 4/5] [Batch 4000/5000] [Content: 13068805.00 (12868261.68) Style: 5279726.00 (4867295.36) Total: 18348532.00 (17735557.05)]\n",
            "[Epoch 4/5] [Batch 4100/5000] [Content: 13262280.00 (12896119.84) Style: 5561565.50 (4890008.54) Total: 18823846.00 (17786128.37)]\n",
            "[Epoch 4/5] [Batch 4200/5000] [Content: 13064975.00 (12938670.23) Style: 5093292.50 (4889689.60) Total: 18158268.00 (17828359.84)]\n",
            "[Epoch 4/5] [Batch 4300/5000] [Content: 12964005.00 (12917552.09) Style: 3771394.25 (4895464.30) Total: 16735399.00 (17813016.39)]\n",
            "[Epoch 4/5] [Batch 4400/5000] [Content: 12910127.00 (12902816.60) Style: 5387988.50 (4885957.34) Total: 18298116.00 (17788773.95)]\n",
            "[Epoch 4/5] [Batch 4500/5000] [Content: 12601231.00 (12874563.78) Style: 5141454.00 (4887986.36) Total: 17742684.00 (17762550.13)]\n",
            "[Epoch 4/5] [Batch 4600/5000] [Content: 13322397.00 (12869260.13) Style: 4771028.50 (4894123.14) Total: 18093426.00 (17763383.26)]\n",
            "[Epoch 4/5] [Batch 4700/5000] [Content: 12962763.00 (12850407.51) Style: 4304952.50 (4876006.06) Total: 17267716.00 (17726413.55)]\n",
            "[Epoch 4/5] [Batch 4800/5000] [Content: 13407314.00 (12835642.31) Style: 4741886.00 (4877104.79) Total: 18149200.00 (17712747.08)]\n",
            "[Epoch 4/5] [Batch 4900/5000] [Content: 13149909.00 (12825041.88) Style: 4761853.00 (4869740.25) Total: 17911762.00 (17694782.13)]\n",
            "[Epoch 4/5] [Batch 5000/5000] [Content: 13582253.00 (12806189.11) Style: 4866363.00 (4862186.01) Total: 18448616.00 (17668375.11)]\n",
            "[Epoch 5/5] [Batch 5100/5000] [Content: 12248159.00 (12545412.22) Style: 5157442.50 (4824835.85) Total: 17405602.00 (17370248.12)]\n",
            "[Epoch 5/5] [Batch 5200/5000] [Content: 11789892.00 (12505853.60) Style: 4386303.00 (4800401.47) Total: 16176195.00 (17306255.11)]\n",
            "[Epoch 5/5] [Batch 5300/5000] [Content: 11685103.00 (12493452.38) Style: 4897647.50 (4820466.21) Total: 16582750.00 (17313918.57)]\n",
            "[Epoch 5/5] [Batch 5400/5000] [Content: 12229359.00 (12491761.14) Style: 4851338.50 (4795441.39) Total: 17080698.00 (17287202.51)]\n",
            "[Epoch 5/5] [Batch 5500/5000] [Content: 11943963.00 (12491651.32) Style: 5940178.00 (4786089.96) Total: 17884140.00 (17277741.25)]\n",
            "[Epoch 5/5] [Batch 5600/5000] [Content: 12554460.00 (12481819.50) Style: 4681594.50 (4771598.75) Total: 17236054.00 (17253418.23)]\n",
            "[Epoch 5/5] [Batch 5700/5000] [Content: 12304943.00 (12471440.23) Style: 5328440.00 (4764551.26) Total: 17633384.00 (17235991.46)]\n",
            "[Epoch 5/5] [Batch 5800/5000] [Content: 12084771.00 (12463239.71) Style: 5056572.50 (4777980.92) Total: 17141344.00 (17241220.62)]\n",
            "[Epoch 5/5] [Batch 5900/5000] [Content: 12331059.00 (12464718.46) Style: 5144198.50 (4774848.00) Total: 17475258.00 (17239566.45)]\n",
            "[Epoch 5/5] [Batch 6000/5000] [Content: 12331496.00 (12458558.30) Style: 4720457.50 (4770268.26) Total: 17051954.00 (17228826.55)]\n",
            "[Epoch 5/5] [Batch 6100/5000] [Content: 12761143.00 (12453184.91) Style: 4348230.00 (4765620.61) Total: 17109372.00 (17218805.51)]\n",
            "[Epoch 5/5] [Batch 6200/5000] [Content: 12158876.00 (12443928.57) Style: 4543073.50 (4762603.77) Total: 16701950.00 (17206532.34)]\n"
          ],
          "name": "stdout"
        }
      ]
    },
    {
      "cell_type": "code",
      "metadata": {
        "id": "hy1gxfT6yszM",
        "outputId": "6a7c8a4b-7b26-442d-c92d-8b5723d64afc",
        "colab": {
          "base_uri": "https://localhost:8080/",
          "height": 35
        }
      },
      "source": [
        "!ls -1rt  /content/checkpoints/*6200*|tail -1"
      ],
      "execution_count": 80,
      "outputs": [
        {
          "output_type": "stream",
          "text": [
            "/content/checkpoints/style_7_6200.pth\n"
          ],
          "name": "stdout"
        }
      ]
    },
    {
      "cell_type": "code",
      "metadata": {
        "id": "y2HTCbPrvKJU",
        "outputId": "86b2cd27-524a-4017-df83-88f9554d1505",
        "colab": {
          "base_uri": "https://localhost:8080/",
          "height": 108
        }
      },
      "source": [
        "for file_name in glob.glob(\"/content/content_images/*\"):\n",
        "    os.environ[\"CONTENT_IMAGE\"] = file_name\n",
        "    !python /content/Fast-Neural-Style-Transfer/test_on_image.py \\\n",
        "        --image_path $CONTENT_IMAGE \\\n",
        "        --checkpoint_model  /content/checkpoints/style_19_6200.pth"
      ],
      "execution_count": 79,
      "outputs": [
        {
          "output_type": "stream",
          "text": [
            "Namespace(checkpoint_model='/content/checkpoints/style_7_6200.pth', image_path='/content/content_images/tilt4.jpg')\n",
            "Namespace(checkpoint_model='/content/checkpoints/style_7_6200.pth', image_path='/content/content_images/imagesYash.jpg')\n",
            "Namespace(checkpoint_model='/content/checkpoints/style_7_6200.pth', image_path='/content/content_images/ivankatilt.jpg')\n",
            "Namespace(checkpoint_model='/content/checkpoints/style_7_6200.pth', image_path='/content/content_images/Chris-Hemsworth-as-Thor.jpg')\n",
            "Namespace(checkpoint_model='/content/checkpoints/style_7_6200.pth', image_path='/content/content_images/SUMMER.jpg')\n"
          ],
          "name": "stdout"
        }
      ]
    },
    {
      "cell_type": "code",
      "metadata": {
        "id": "OGbUmC7AvHAi"
      },
      "source": [
        "!cp $(ls -1 /content/checkpoints/*6200*|tail -1) /content/drive/My\\ Drive/EVA4/Style_Transfer_saves"
      ],
      "execution_count": 81,
      "outputs": []
    },
    {
      "cell_type": "code",
      "metadata": {
        "id": "XZnPc3hd2YaJ"
      },
      "source": [
        "!cp /content/checkpoints/style_7_6200.pth /content/drive/My\\ Drive/EVA4/Style_Transfer_saves/"
      ],
      "execution_count": 84,
      "outputs": []
    },
    {
      "cell_type": "code",
      "metadata": {
        "id": "Kpc4xW4TeTR7",
        "outputId": "8ba4680e-be11-4221-f630-3980bad44415",
        "colab": {
          "base_uri": "https://localhost:8080/",
          "height": 344
        }
      },
      "source": [
        "!ls -lrt /content/drive/My\\ Drive/EVA4/Style_Transfer_saves"
      ],
      "execution_count": 85,
      "outputs": [
        {
          "output_type": "stream",
          "text": [
            "total 111911\n",
            "-rw------- 1 root root 6740585 Oct 10 10:01 style_1_2400.pth\n",
            "-rw------- 1 root root 6740585 Oct 10 11:16 style_6_6200.pth\n",
            "-rw------- 1 root root 6740585 Oct 10 11:53 style_8_6200.pth\n",
            "-rw------- 1 root root 6740585 Oct 10 12:59 style_2_6200.pth\n",
            "-rw------- 1 root root 6740585 Oct 10 12:59 style_10_6200.pth\n",
            "-rw------- 1 root root 6740585 Oct 10 12:59 style_18_6200.pth\n",
            "-rw------- 1 root root 6740585 Oct 10 12:59 style_17_6200.pth\n",
            "-rw------- 1 root root 6740585 Oct 10 12:59 style_16_6200.pth\n",
            "-rw------- 1 root root 6740585 Oct 10 12:59 style_15_6200.pth\n",
            "-rw------- 1 root root 6740585 Oct 10 12:59 style_13_6200.pth\n",
            "-rw------- 1 root root 6740585 Oct 10 12:59 style_12_6200.pth\n",
            "-rw------- 1 root root 6740585 Oct 10 12:59 style_11_6200.pth\n",
            "-rw------- 1 root root 6740585 Oct 10 14:06 style_4_6200.pth\n",
            "-rw------- 1 root root 6740585 Oct 10 14:11 test_pink.pth\n",
            "-rw------- 1 root root 6740585 Oct 10 14:27 style_14_6200.pth\n",
            "-rw------- 1 root root 6740585 Oct 10 14:29 style_9_6200.pth\n",
            "-rw------- 1 root root 6740585 Oct 10 14:30 style_7_6200.pth\n"
          ],
          "name": "stdout"
        }
      ]
    },
    {
      "cell_type": "code",
      "metadata": {
        "id": "Szdjl4vKlwkI",
        "outputId": "45f9517a-e2fb-4907-993f-5def04f87349",
        "colab": {
          "base_uri": "https://localhost:8080/",
          "height": 35
        }
      },
      "source": [
        "!python /content/Fast-Neural-Style-Transfer/test_on_image.py --image_path /content/thorendgame1.jpg --checkpoint_model /content/checkpoints/style_1_2200.pth"
      ],
      "execution_count": null,
      "outputs": [
        {
          "output_type": "stream",
          "text": [
            "Namespace(checkpoint_model='/content/checkpoints/style_1_2200.pth', image_path='/content/thorendgame1.jpg')\n"
          ],
          "name": "stdout"
        }
      ]
    },
    {
      "cell_type": "code",
      "metadata": {
        "id": "RK-xptFP1rnP",
        "outputId": "19e7126b-bed6-432b-87f9-c29634c8b6ce",
        "colab": {
          "base_uri": "https://localhost:8080/",
          "height": 144
        }
      },
      "source": [
        "!python /content/Fast-Neural-Style-Transfer/test_on_image.py \\\n",
        "            --image_path /content/Chris-Hemsworth-as-Thor.jpg \\\n",
        "            --checkpoint_model /content/checkpoints/style_10_2400.pth \\"
      ],
      "execution_count": null,
      "outputs": [
        {
          "output_type": "stream",
          "text": [
            "Namespace(checkpoint_model='/content/checkpoints/style_10_2400.pth', image_path='/content/Chris-Hemsworth-as-Thor.jpg')\n",
            "Traceback (most recent call last):\n",
            "  File \"/content/Fast-Neural-Style-Transfer/test_on_image.py\", line 30, in <module>\n",
            "    image_tensor = Variable(transform(Image.open(args.image_path))).to(device)\n",
            "  File \"/usr/local/lib/python3.6/dist-packages/PIL/Image.py\", line 2809, in open\n",
            "    fp = builtins.open(filename, \"rb\")\n",
            "FileNotFoundError: [Errno 2] No such file or directory: '/content/Chris-Hemsworth-as-Thor.jpg'\n"
          ],
          "name": "stdout"
        }
      ]
    }
  ]
}