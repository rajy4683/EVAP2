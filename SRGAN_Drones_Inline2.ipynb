{
  "nbformat": 4,
  "nbformat_minor": 0,
  "metadata": {
    "kernelspec": {
      "display_name": "Python 3",
      "language": "python",
      "name": "python3"
    },
    "language_info": {
      "codemirror_mode": {
        "name": "ipython",
        "version": 3
      },
      "file_extension": ".py",
      "mimetype": "text/x-python",
      "name": "python",
      "nbconvert_exporter": "python",
      "pygments_lexer": "ipython3",
      "version": "3.6.3"
    },
    "colab": {
      "name": "SRGAN_Drones_Inline2.ipynb",
      "provenance": [],
      "collapsed_sections": [],
      "include_colab_link": true
    },
    "accelerator": "GPU"
  },
  "cells": [
    {
      "cell_type": "markdown",
      "metadata": {
        "id": "view-in-github",
        "colab_type": "text"
      },
      "source": [
        "<a href=\"https://colab.research.google.com/github/rajy4683/EVAP2/blob/master/SRGAN_Drones_Inline2.ipynb\" target=\"_parent\"><img src=\"https://colab.research.google.com/assets/colab-badge.svg\" alt=\"Open In Colab\"/></a>"
      ]
    },
    {
      "cell_type": "markdown",
      "metadata": {
        "id": "wG8Gi6Xco2Ff"
      },
      "source": [
        "# SRGANs\n",
        "Reference: https://arxiv.org/pdf/1511.06434.pdf"
      ]
    },
    {
      "cell_type": "code",
      "metadata": {
        "id": "OdeMJ6uTE7hi",
        "outputId": "4a5ba35b-a9ff-476f-995c-9e202815114d",
        "colab": {
          "base_uri": "https://localhost:8080/",
          "height": 380
        }
      },
      "source": [
        "!nvidia-smi"
      ],
      "execution_count": null,
      "outputs": [
        {
          "output_type": "stream",
          "text": [
            "Sat Oct 10 06:04:52 2020       \n",
            "+-----------------------------------------------------------------------------+\n",
            "| NVIDIA-SMI 455.23.05    Driver Version: 418.67       CUDA Version: 10.1     |\n",
            "|-------------------------------+----------------------+----------------------+\n",
            "| GPU  Name        Persistence-M| Bus-Id        Disp.A | Volatile Uncorr. ECC |\n",
            "| Fan  Temp  Perf  Pwr:Usage/Cap|         Memory-Usage | GPU-Util  Compute M. |\n",
            "|                               |                      |               MIG M. |\n",
            "|===============================+======================+======================|\n",
            "|   0  Tesla P4            Off  | 00000000:00:04.0 Off |                    0 |\n",
            "| N/A   41C    P8     7W /  75W |      0MiB /  7611MiB |      0%      Default |\n",
            "|                               |                      |                 ERR! |\n",
            "+-------------------------------+----------------------+----------------------+\n",
            "                                                                               \n",
            "+-----------------------------------------------------------------------------+\n",
            "| Processes:                                                                  |\n",
            "|  GPU   GI   CI        PID   Type   Process name                  GPU Memory |\n",
            "|        ID   ID                                                   Usage      |\n",
            "|=============================================================================|\n",
            "|  No running processes found                                                 |\n",
            "+-----------------------------------------------------------------------------+\n"
          ],
          "name": "stdout"
        }
      ]
    },
    {
      "cell_type": "code",
      "metadata": {
        "id": "6oj62mD-o2Fg",
        "outputId": "a251c339-6576-464d-b488-c6e782a7c77f",
        "colab": {
          "base_uri": "https://localhost:8080/",
          "height": 364
        }
      },
      "source": [
        "# Run the comment below only when using Google Colab\n",
        "!pip install torch==1.5.0+cu92 torchvision==0.6.0+cu92 -f https://download.pytorch.org/whl/torch_stable.html\n",
        "#!pip install torchvision-0.6.0"
      ],
      "execution_count": null,
      "outputs": [
        {
          "output_type": "stream",
          "text": [
            "Looking in links: https://download.pytorch.org/whl/torch_stable.html\n",
            "Collecting torch==1.5.0+cu92\n",
            "\u001b[?25l  Downloading https://download.pytorch.org/whl/cu92/torch-1.5.0%2Bcu92-cp36-cp36m-linux_x86_64.whl (603.7MB)\n",
            "\u001b[K     |████████████████████████████████| 603.7MB 29kB/s \n",
            "\u001b[?25hCollecting torchvision==0.6.0+cu92\n",
            "\u001b[?25l  Downloading https://download.pytorch.org/whl/cu92/torchvision-0.6.0%2Bcu92-cp36-cp36m-linux_x86_64.whl (6.5MB)\n",
            "\u001b[K     |████████████████████████████████| 6.5MB 53.1MB/s \n",
            "\u001b[?25hRequirement already satisfied: numpy in /usr/local/lib/python3.6/dist-packages (from torch==1.5.0+cu92) (1.18.5)\n",
            "Requirement already satisfied: future in /usr/local/lib/python3.6/dist-packages (from torch==1.5.0+cu92) (0.16.0)\n",
            "Requirement already satisfied: pillow>=4.1.1 in /usr/local/lib/python3.6/dist-packages (from torchvision==0.6.0+cu92) (7.0.0)\n",
            "Installing collected packages: torch, torchvision\n",
            "  Found existing installation: torch 1.6.0+cu101\n",
            "    Uninstalling torch-1.6.0+cu101:\n",
            "      Successfully uninstalled torch-1.6.0+cu101\n",
            "  Found existing installation: torchvision 0.7.0+cu101\n",
            "    Uninstalling torchvision-0.7.0+cu101:\n",
            "      Successfully uninstalled torchvision-0.7.0+cu101\n",
            "Successfully installed torch-1.5.0+cu92 torchvision-0.6.0+cu92\n"
          ],
          "name": "stdout"
        }
      ]
    },
    {
      "cell_type": "code",
      "metadata": {
        "id": "UOJqiKQIo2Fl"
      },
      "source": [
        "import torch\n",
        "import torchvision\n",
        "import torch.nn as nn\n",
        "import torch.nn.functional as F\n",
        "from torch.utils.data import DataLoader\n",
        "from torch.utils.data.dataset import Dataset\n",
        "from torchvision import datasets\n",
        "from torchvision import transforms\n",
        "from torchvision.utils import save_image\n",
        "import torch\n",
        "import torchvision\n",
        "import torch.nn as nn\n",
        "import torch.nn.functional as F\n",
        "from torch.autograd import grad\n",
        "import numpy as np\n",
        "import datetime\n",
        "import os, sys\n",
        "import glob\n",
        "from PIL import Image\n",
        "from matplotlib import pyplot as plt"
      ],
      "execution_count": null,
      "outputs": []
    },
    {
      "cell_type": "code",
      "metadata": {
        "id": "A7M-Ssd0o2F2",
        "outputId": "b49b56d9-5253-4c8f-b910-5fd5426b3fa8",
        "colab": {
          "base_uri": "https://localhost:8080/",
          "height": 53
        }
      },
      "source": [
        "from matplotlib.pyplot import imshow, imsave\n",
        "%matplotlib inline\n",
        "# Set random seed for reproducibility\n",
        "import random\n",
        "manualSeed = 0xdeadbeef\n",
        "#manualSeed = random.randint(1, 10000) # use if you want new results\n",
        "print(\"Random Seed: \", manualSeed)\n",
        "random.seed(manualSeed)\n",
        "torch.manual_seed(manualSeed)"
      ],
      "execution_count": null,
      "outputs": [
        {
          "output_type": "stream",
          "text": [
            "Random Seed:  3735928559\n"
          ],
          "name": "stdout"
        },
        {
          "output_type": "execute_result",
          "data": {
            "text/plain": [
              "<torch._C.Generator at 0x7f8a4589a4d0>"
            ]
          },
          "metadata": {
            "tags": []
          },
          "execution_count": 5
        }
      ]
    },
    {
      "cell_type": "code",
      "metadata": {
        "id": "NoJE302wo2F6",
        "outputId": "ef8649f0-376e-4461-e9b1-0f07bd475b39",
        "colab": {
          "base_uri": "https://localhost:8080/",
          "height": 35
        }
      },
      "source": [
        "MODEL_NAME = 'R1GAN'\n",
        "DEVICE = torch.device(\"cuda:0\" if torch.cuda.is_available() else \"cpu\")\n",
        "device = torch.device(\"cuda:0\" if torch.cuda.is_available() else \"cpu\")\n",
        "from google.colab import drive\n",
        "drive.mount('/content/drive')"
      ],
      "execution_count": null,
      "outputs": [
        {
          "output_type": "stream",
          "text": [
            "Mounted at /content/drive\n"
          ],
          "name": "stdout"
        }
      ]
    },
    {
      "cell_type": "code",
      "metadata": {
        "id": "KyflZsIKFGP_",
        "outputId": "01cc5094-2b17-41d5-bb58-c77af8a2b453",
        "colab": {
          "base_uri": "https://localhost:8080/",
          "height": 35
        }
      },
      "source": [
        "from google.colab import drive\n",
        "drive.mount('/content/drive')\n",
        "#!cp /content/drive/My\\ Drive/EVA4/Flying\\ Birds.zip /content/FlyingBirds.zip\n",
        "#!ls -1 /content/*zip |while read line; do unzip -q $line;done\n",
        "\n",
        "# !cp /content/drive/My\\ Drive/EVA4/Small\\ QuadCopters.zip /content/SmallQuadCopters.zip\n",
        "# !unzip -q /content/SmallQuadCopters.zip\n",
        "\n",
        "\n",
        "#!cp /content/drive/My\\ Drive/EVA4/S2GAN/allCars_wbg.tar.gz /content\n",
        "#!tar -zxvf allCars_wbg.tar.gz\n",
        "#!tar -zxvf allCars_wbg.tar.gz\n",
        "\n",
        "!cp /content/drive/My\\ Drive/EVA4/Flying\\ Birds.zip /content/FlyingBirds.zip\n",
        "!cp /content/drive/My\\ Drive/EVA4/Large\\ QuadCopters-20200723T085054Z-001.zip /content/LargeQuadCopters.zip\n",
        "!cp /content/drive/My\\ Drive/EVA4/Small\\ QuadCopters.zip /content/SmallQuadCopters.zip\n",
        "!cp /content/drive/My\\ Drive/EVA4/Winged\\ Drones-20200723T075457Z-001.zip /content/WingedDrones.zip\n",
        "!cp -Rf /content/drive/My\\ Drive/EVA4/SRGAN /content\n",
        "\n",
        "!ls -1 /content/*zip |while read line; do unzip -q $line;done"
      ],
      "execution_count": null,
      "outputs": [
        {
          "output_type": "stream",
          "text": [
            "Mounted at /content/drive\n"
          ],
          "name": "stdout"
        }
      ]
    },
    {
      "cell_type": "code",
      "metadata": {
        "id": "r2uGKGFpeE90"
      },
      "source": [
        "import sys\n",
        "sys.path.append(\"/content/drive/My Drive/EVA4/RekogNizer\")\n",
        "sys.path.append(\"/content/drive/My Drive/EVA4/\")\n",
        "sys.path.append(\"/content/SRGAN\")"
      ],
      "execution_count": null,
      "outputs": []
    },
    {
      "cell_type": "code",
      "metadata": {
        "id": "a_txUsFFjbrC"
      },
      "source": [
        "!rm -rf /content/Winged\\ Drones/*.txt\n",
        "!rm -rf /content/Winged\\ Drones/*.ipynb\n",
        "!rm -rf /content/Winged\\ Drones/*.svg\n",
        "\n",
        "!rm -rf /content/Large\\ QuadCopters/*.txt\n",
        "!rm -rf /content/Large\\ QuadCopters/*.ipynb\n",
        "!rm -rf /content/Large\\ QuadCopters/*.svg\n",
        "\n",
        "!rm -rf /content/Small\\ QuadCopters/*.txt\n",
        "!rm -rf /content/Small\\ QuadCopters/*.ipynb\n",
        "!rm -rf /content/Small\\ QuadCopters/*.svg\n",
        "\n",
        "!rm -rf /content/Flying\\ Birds/*.txt\n",
        "!rm -rf /content/Flying\\ Birdss/*.ipynb\n",
        "!rm -rf /content/Flying\\ Birds/*.svg\n"
      ],
      "execution_count": null,
      "outputs": []
    },
    {
      "cell_type": "code",
      "metadata": {
        "id": "ha5y_K1aNgAb"
      },
      "source": [
        "!cp -Rf  /content/drive/My\\ Drive/EVA4/SRGAN /content"
      ],
      "execution_count": null,
      "outputs": []
    },
    {
      "cell_type": "code",
      "metadata": {
        "id": "SJj2HBRFjeRx",
        "outputId": "0e957818-0597-4755-b21a-e5019f7648cb",
        "colab": {
          "base_uri": "https://localhost:8080/",
          "height": 310
        }
      },
      "source": [
        "%load_ext autoreload\n",
        "%autoreload 2\n",
        "from SRGAN import data_utils\n",
        "import shutil\n",
        "def handle_image_errors(file_list):\n",
        "    crop_size = 100\n",
        "    my_transform = data_utils.train_hr_transform(crop_size)\n",
        "    for file_name in file_list:\n",
        "        hr_image = Image.open(file_name)\n",
        "        try:        \n",
        "            transformed_img = my_transform(hr_image)\n",
        "            #if(transformed_img.shape[0] < 3 or transformed_img.shape[0] > 3):\n",
        "            #    raise Exception\n",
        "        except Exception as e:\n",
        "            print(e, file_name,hr_image.size)\n",
        "            shutil.move(file_name, \"/content/rejected_pics/\")\n",
        "            continue\n",
        "\n",
        "if not os.path.exists(\"/content/rejected_pics/\"):\n",
        "    os.makedirs(\"/content/rejected_pics/\")\n",
        "\n",
        "train_dir_list = [\"/content/Flying Birds\",\"/content/Large QuadCopters\", \n",
        "                  \"/content/Small QuadCopters\", \"/content/Winged Drones\"]\n",
        "\n",
        "for train_dir_name in train_dir_list:\n",
        "    handle_image_errors(glob.glob(train_dir_name+\"/*\"))"
      ],
      "execution_count": null,
      "outputs": [
        {
          "output_type": "stream",
          "text": [
            "empty range for randrange() (0,-75, -75) /content/Flying Birds/image8.png (24, 24)\n",
            "empty range for randrange() (0,0, 0) /content/Flying Birds/australian-magpie-preparing-to-fly-pic.jpg (150, 99)\n",
            "empty range for randrange() (0,-16, -16) /content/Large QuadCopters/this-guy-skydived-using-a-mega-drone-and-its-harr-2-12924-1494889159-0.jpg (125, 83)\n"
          ],
          "name": "stdout"
        },
        {
          "output_type": "stream",
          "text": [
            "/usr/local/lib/python3.6/dist-packages/PIL/TiffImagePlugin.py:788: UserWarning: Corrupt EXIF data.  Expecting to read 4 bytes but only got 0. \n",
            "  warnings.warn(str(msg))\n"
          ],
          "name": "stderr"
        },
        {
          "output_type": "stream",
          "text": [
            "empty range for randrange() (0,-13, -13) /content/Small QuadCopters/OIP.0tZOFuhpMDPYprQnkzB-QAHaDt.jpeg (173, 86)\n",
            "empty range for randrange() (0,-9, -9) /content/Small QuadCopters/OIP - 2020-07-21T024556.887.jpg (90, 90)\n",
            "empty range for randrange() (0,-12, -12) /content/Small QuadCopters/OIP (61).jpg (130, 87)\n",
            "empty range for randrange() (0,-6, -6) /content/Small QuadCopters/OIP.ej5bmjJV0Ut6Fcug3rBJ6AHaEK.jpeg (166, 93)\n",
            "empty range for randrange() (0,-6, -6) /content/Small QuadCopters/OIP.48HpJXdyEUHuO8-IK77YJAHaEK.jpeg (166, 93)\n",
            "empty range for randrange() (0,-6, -6) /content/Small QuadCopters/OIP.Mo7TU83CQApkIuyXfQZpCwHaEK.jpeg (166, 93)\n",
            "empty range for randrange() (0,-24, -24) /content/Small QuadCopters/6fec6a8e6f9be9342da45b56263598d9.jpg (75, 75)\n",
            "empty range for randrange() (0,-2, -2) /content/Small QuadCopters/OIP.ztnWbehUFlxPU-kPfyzGkQHaEK.jpeg (173, 97)\n",
            "empty range for randrange() (0,-7, -7) /content/Small QuadCopters/OIP - 2020-07-21T024555.791.jpg (207, 92)\n",
            "empty range for randrange() (0,0, 0) /content/Small QuadCopters/OIP (135).jpg (207, 99)\n"
          ],
          "name": "stdout"
        }
      ]
    },
    {
      "cell_type": "code",
      "metadata": {
        "id": "IdentkTwfxYf"
      },
      "source": [
        "%load_ext autoreload\n",
        "%autoreload 2\n",
        "from SRGAN import data_utils"
      ],
      "execution_count": null,
      "outputs": []
    },
    {
      "cell_type": "code",
      "metadata": {
        "id": "1vQNVGJg7d8k",
        "outputId": "42a0efb7-983b-425f-9207-d3d969ea20f7",
        "colab": {
          "base_uri": "https://localhost:8080/",
          "height": 1000
        }
      },
      "source": [
        "!python SRGAN/train_lite.py --crop_size 100 --upscale_factor 8 --num_epochs 40 --batch_size 32"
      ],
      "execution_count": null,
      "outputs": [
        {
          "output_type": "stream",
          "text": [
            "Run Identifier:106e761311\n",
            "# generator parameters: 881932\n",
            "# discriminator parameters: 5215425\n",
            "[1/1] Loss_D: 0.9181 Loss_G: 0.0760 D(x): 0.4790 D(G(z)): 0.3527:   1% 4/667 [00:03<10:55,  1.01it/s]/usr/local/lib/python3.6/dist-packages/PIL/Image.py:932: UserWarning: Palette images with Transparency expressed in bytes should be converted to RGBA images\n",
            "  \"Palette images with Transparency expressed in bytes should be \"\n",
            "[1/1] Loss_D: 0.8938 Loss_G: 0.0728 D(x): 0.4961 D(G(z)): 0.3336:   1% 5/667 [00:03<09:51,  1.12it/s]/usr/local/lib/python3.6/dist-packages/PIL/Image.py:932: UserWarning: Palette images with Transparency expressed in bytes should be converted to RGBA images\n",
            "  \"Palette images with Transparency expressed in bytes should be \"\n",
            "[1/1] Loss_D: 0.5126 Loss_G: 0.0400 D(x): 0.7142 D(G(z)): 0.2260:   5% 33/667 [00:19<04:36,  2.30it/s]/usr/local/lib/python3.6/dist-packages/PIL/Image.py:932: UserWarning: Palette images with Transparency expressed in bytes should be converted to RGBA images\n",
            "  \"Palette images with Transparency expressed in bytes should be \"\n",
            "[1/1] Loss_D: 0.6339 Loss_G: 0.0353 D(x): 0.6914 D(G(z)): 0.3214:   7% 45/667 [00:26<05:17,  1.96it/s]/usr/local/lib/python3.6/dist-packages/PIL/Image.py:932: UserWarning: Palette images with Transparency expressed in bytes should be converted to RGBA images\n",
            "  \"Palette images with Transparency expressed in bytes should be \"\n",
            "[1/1] Loss_D: 0.8883 Loss_G: 0.0146 D(x): 0.5453 D(G(z)): 0.4217:  97% 644/667 [05:57<00:10,  2.12it/s]/usr/local/lib/python3.6/dist-packages/PIL/TiffImagePlugin.py:788: UserWarning: Corrupt EXIF data.  Expecting to read 4 bytes but only got 0. \n",
            "  warnings.warn(str(msg))\n",
            "[1/1] Loss_D: 0.8667 Loss_G: 0.0145 D(x): 0.5581 D(G(z)): 0.4137: 100% 667/667 [06:08<00:00,  1.81it/s]\n",
            "[converting LR images to SR images] PSNR: 20.3974 dB SSIM: 0.7176:   7% 30/436 [00:07<01:07,  6.04it/s]/usr/local/lib/python3.6/dist-packages/PIL/Image.py:932: UserWarning: Palette images with Transparency expressed in bytes should be converted to RGBA images\n",
            "  \"Palette images with Transparency expressed in bytes should be \"\n",
            "[converting LR images to SR images] PSNR: 20.9219 dB SSIM: 0.7185:  96% 417/436 [01:17<00:01, 12.66it/s]/usr/local/lib/python3.6/dist-packages/PIL/Image.py:932: UserWarning: Palette images with Transparency expressed in bytes should be converted to RGBA images\n",
            "  \"Palette images with Transparency expressed in bytes should be \"\n",
            "[converting LR images to SR images] PSNR: 20.9286 dB SSIM: 0.7179: 100% 436/436 [01:20<00:00,  5.44it/s]\n",
            "[saving training results]: 100% 8/8 [00:05<00:00,  1.53it/s]\n",
            "[2/2] Loss_D: 0.8653 Loss_G: 0.0145 D(x): 0.5583 D(G(z)): 0.4123:   1% 4/667 [00:05<13:32,  1.23s/it]/usr/local/lib/python3.6/dist-packages/PIL/Image.py:932: UserWarning: Palette images with Transparency expressed in bytes should be converted to RGBA images\n",
            "  \"Palette images with Transparency expressed in bytes should be \"\n",
            "[2/2] Loss_D: 0.8484 Loss_G: 0.0145 D(x): 0.5681 D(G(z)): 0.4049:   3% 20/667 [00:13<04:39,  2.32it/s]/usr/local/lib/python3.6/dist-packages/PIL/Image.py:932: UserWarning: Palette images with Transparency expressed in bytes should be converted to RGBA images\n",
            "  \"Palette images with Transparency expressed in bytes should be \"\n",
            "[2/2] Loss_D: 0.8406 Loss_G: 0.0145 D(x): 0.5722 D(G(z)): 0.4007:   4% 29/667 [00:20<07:44,  1.37it/s]/usr/local/lib/python3.6/dist-packages/PIL/Image.py:932: UserWarning: Palette images with Transparency expressed in bytes should be converted to RGBA images\n",
            "  \"Palette images with Transparency expressed in bytes should be \"\n",
            "[2/2] Loss_D: 0.7580 Loss_G: 0.0140 D(x): 0.6190 D(G(z)): 0.3646:  18% 118/667 [01:10<04:45,  1.92it/s]/usr/local/lib/python3.6/dist-packages/PIL/TiffImagePlugin.py:788: UserWarning: Corrupt EXIF data.  Expecting to read 4 bytes but only got 0. \n",
            "  warnings.warn(str(msg))\n",
            "[2/2] Loss_D: 0.7074 Loss_G: 0.0138 D(x): 0.6487 D(G(z)): 0.3435:  29% 191/667 [02:00<07:16,  1.09it/s]/usr/local/lib/python3.6/dist-packages/PIL/Image.py:932: UserWarning: Palette images with Transparency expressed in bytes should be converted to RGBA images\n",
            "  \"Palette images with Transparency expressed in bytes should be \"\n",
            "[2/2] Loss_D: 0.6655 Loss_G: 0.0123 D(x): 0.7726 D(G(z)): 0.4288: 100% 667/667 [06:51<00:00,  1.62it/s]\n",
            "[converting LR images to SR images] PSNR: 21.4106 dB SSIM: 0.7646:   7% 30/436 [00:07<01:01,  6.62it/s]/usr/local/lib/python3.6/dist-packages/PIL/Image.py:932: UserWarning: Palette images with Transparency expressed in bytes should be converted to RGBA images\n",
            "  \"Palette images with Transparency expressed in bytes should be \"\n",
            "[converting LR images to SR images] PSNR: 21.8917 dB SSIM: 0.7670:  96% 417/436 [01:10<00:01, 13.14it/s]/usr/local/lib/python3.6/dist-packages/PIL/Image.py:932: UserWarning: Palette images with Transparency expressed in bytes should be converted to RGBA images\n",
            "  \"Palette images with Transparency expressed in bytes should be \"\n",
            "[converting LR images to SR images] PSNR: 21.8929 dB SSIM: 0.7660: 100% 436/436 [01:11<00:00,  6.06it/s]\n",
            "[saving training results]: 100% 8/8 [00:05<00:00,  1.49it/s]\n",
            "  0% 0/667 [00:00<?, ?it/s]/usr/local/lib/python3.6/dist-packages/PIL/Image.py:932: UserWarning: Palette images with Transparency expressed in bytes should be converted to RGBA images\n",
            "  \"Palette images with Transparency expressed in bytes should be \"\n",
            "[3/3] Loss_D: 0.6680 Loss_G: 0.0123 D(x): 0.7743 D(G(z)): 0.4330:   1% 10/667 [00:07<05:13,  2.09it/s]/usr/local/lib/python3.6/dist-packages/PIL/TiffImagePlugin.py:788: UserWarning: Corrupt EXIF data.  Expecting to read 4 bytes but only got 0. \n",
            "  warnings.warn(str(msg))\n",
            "[3/3] Loss_D: 0.6719 Loss_G: 0.0123 D(x): 0.7769 D(G(z)): 0.4397:   4% 26/667 [00:17<05:08,  2.08it/s]/usr/local/lib/python3.6/dist-packages/PIL/Image.py:932: UserWarning: Palette images with Transparency expressed in bytes should be converted to RGBA images\n",
            "  \"Palette images with Transparency expressed in bytes should be \"\n",
            "[3/3] Loss_D: 0.6790 Loss_G: 0.0122 D(x): 0.7816 D(G(z)): 0.4515:   8% 56/667 [00:34<04:49,  2.11it/s]/usr/local/lib/python3.6/dist-packages/PIL/Image.py:932: UserWarning: Palette images with Transparency expressed in bytes should be converted to RGBA images\n",
            "  \"Palette images with Transparency expressed in bytes should be \"\n",
            "[3/3] Loss_D: 0.6808 Loss_G: 0.0122 D(x): 0.7828 D(G(z)): 0.4547:  10% 64/667 [00:39<04:52,  2.06it/s]/usr/local/lib/python3.6/dist-packages/PIL/Image.py:932: UserWarning: Palette images with Transparency expressed in bytes should be converted to RGBA images\n",
            "  \"Palette images with Transparency expressed in bytes should be \"\n",
            "[3/3] Loss_D: 0.7132 Loss_G: 0.0112 D(x): 0.8132 D(G(z)): 0.5176: 100% 667/667 [06:09<00:00,  1.80it/s]\n",
            "[converting LR images to SR images] PSNR: 21.4689 dB SSIM: 0.7626:   7% 30/436 [00:07<00:49,  8.16it/s]/usr/local/lib/python3.6/dist-packages/PIL/Image.py:932: UserWarning: Palette images with Transparency expressed in bytes should be converted to RGBA images\n",
            "  \"Palette images with Transparency expressed in bytes should be \"\n",
            "[converting LR images to SR images] PSNR: 21.9461 dB SSIM: 0.7666:  96% 417/436 [01:07<00:01, 12.18it/s]/usr/local/lib/python3.6/dist-packages/PIL/Image.py:932: UserWarning: Palette images with Transparency expressed in bytes should be converted to RGBA images\n",
            "  \"Palette images with Transparency expressed in bytes should be \"\n",
            "[converting LR images to SR images] PSNR: 21.9560 dB SSIM: 0.7656: 100% 436/436 [01:09<00:00,  6.28it/s]\n",
            "[saving training results]: 100% 8/8 [00:05<00:00,  1.50it/s]\n",
            "[4/4] Loss_D: 0.7160 Loss_G: 0.0112 D(x): 0.8129 D(G(z)): 0.5200:   3% 23/667 [00:15<07:06,  1.51it/s]/usr/local/lib/python3.6/dist-packages/PIL/Image.py:932: UserWarning: Palette images with Transparency expressed in bytes should be converted to RGBA images\n",
            "  \"Palette images with Transparency expressed in bytes should be \"\n",
            "[4/4] Loss_D: 0.7226 Loss_G: 0.0111 D(x): 0.8119 D(G(z)): 0.5258:  11% 72/667 [00:43<10:47,  1.09s/it]/usr/local/lib/python3.6/dist-packages/PIL/Image.py:932: UserWarning: Palette images with Transparency expressed in bytes should be converted to RGBA images\n",
            "  \"Palette images with Transparency expressed in bytes should be \"\n",
            "[4/4] Loss_D: 0.7264 Loss_G: 0.0111 D(x): 0.8103 D(G(z)): 0.5281:  15% 103/667 [00:59<03:29,  2.69it/s]/usr/local/lib/python3.6/dist-packages/PIL/Image.py:932: UserWarning: Palette images with Transparency expressed in bytes should be converted to RGBA images\n",
            "  \"Palette images with Transparency expressed in bytes should be \"\n",
            "[4/4] Loss_D: 0.7268 Loss_G: 0.0111 D(x): 0.8101 D(G(z)): 0.5282:  16% 106/667 [01:01<04:33,  2.05it/s]/usr/local/lib/python3.6/dist-packages/PIL/Image.py:932: UserWarning: Palette images with Transparency expressed in bytes should be converted to RGBA images\n",
            "  \"Palette images with Transparency expressed in bytes should be \"\n",
            "[4/4] Loss_D: 0.7320 Loss_G: 0.0110 D(x): 0.8090 D(G(z)): 0.5327:  31% 207/667 [01:58<03:08,  2.44it/s]/usr/local/lib/python3.6/dist-packages/PIL/TiffImagePlugin.py:788: UserWarning: Corrupt EXIF data.  Expecting to read 4 bytes but only got 0. \n",
            "  warnings.warn(str(msg))\n",
            "[4/4] Loss_D: 0.7782 Loss_G: 0.0105 D(x): 0.8419 D(G(z)): 0.6133: 100% 667/667 [06:11<00:00,  1.80it/s]\n",
            "[converting LR images to SR images] PSNR: 21.5665 dB SSIM: 0.7778:   7% 30/436 [00:07<00:48,  8.40it/s]/usr/local/lib/python3.6/dist-packages/PIL/Image.py:932: UserWarning: Palette images with Transparency expressed in bytes should be converted to RGBA images\n",
            "  \"Palette images with Transparency expressed in bytes should be \"\n",
            "[converting LR images to SR images] PSNR: 22.0384 dB SSIM: 0.7785:  96% 417/436 [01:07<00:01, 14.48it/s]/usr/local/lib/python3.6/dist-packages/PIL/Image.py:932: UserWarning: Palette images with Transparency expressed in bytes should be converted to RGBA images\n",
            "  \"Palette images with Transparency expressed in bytes should be \"\n",
            "[converting LR images to SR images] PSNR: 22.0407 dB SSIM: 0.7776: 100% 436/436 [01:09<00:00,  6.27it/s]\n",
            "[saving training results]: 100% 8/8 [00:05<00:00,  1.49it/s]\n",
            "[5/5] Loss_D: 0.7783 Loss_G: 0.0105 D(x): 0.8420 D(G(z)): 0.6134:   0% 1/667 [00:03<36:16,  3.27s/it]/usr/local/lib/python3.6/dist-packages/PIL/Image.py:932: UserWarning: Palette images with Transparency expressed in bytes should be converted to RGBA images\n",
            "  \"Palette images with Transparency expressed in bytes should be \"\n",
            "[5/5] Loss_D: 0.7851 Loss_G: 0.0104 D(x): 0.8469 D(G(z)): 0.6253:  13% 86/667 [00:49<04:30,  2.15it/s]/usr/local/lib/python3.6/dist-packages/PIL/Image.py:932: UserWarning: Palette images with Transparency expressed in bytes should be converted to RGBA images\n",
            "  \"Palette images with Transparency expressed in bytes should be \"\n",
            "[5/5] Loss_D: 0.8003 Loss_G: 0.0102 D(x): 0.8577 D(G(z)): 0.6518:  44% 295/667 [02:43<02:50,  2.18it/s]/usr/local/lib/python3.6/dist-packages/PIL/Image.py:932: UserWarning: Palette images with Transparency expressed in bytes should be converted to RGBA images\n",
            "  \"Palette images with Transparency expressed in bytes should be \"\n",
            "[5/5] Loss_D: 0.8067 Loss_G: 0.0102 D(x): 0.8622 D(G(z)): 0.6629:  59% 393/667 [03:39<02:16,  2.00it/s]/usr/local/lib/python3.6/dist-packages/PIL/TiffImagePlugin.py:788: UserWarning: Corrupt EXIF data.  Expecting to read 4 bytes but only got 0. \n",
            "  warnings.warn(str(msg))\n",
            "[5/5] Loss_D: 0.8105 Loss_G: 0.0101 D(x): 0.8650 D(G(z)): 0.6696:  68% 455/667 [04:13<01:36,  2.19it/s]/usr/local/lib/python3.6/dist-packages/PIL/Image.py:932: UserWarning: Palette images with Transparency expressed in bytes should be converted to RGBA images\n",
            "  \"Palette images with Transparency expressed in bytes should be \"\n",
            "[5/5] Loss_D: 0.8226 Loss_G: 0.0100 D(x): 0.8735 D(G(z)): 0.6906: 100% 667/667 [06:11<00:00,  1.80it/s]\n",
            "[converting LR images to SR images] PSNR: 21.8092 dB SSIM: 0.7757:   7% 30/436 [00:07<00:47,  8.58it/s]/usr/local/lib/python3.6/dist-packages/PIL/Image.py:932: UserWarning: Palette images with Transparency expressed in bytes should be converted to RGBA images\n",
            "  \"Palette images with Transparency expressed in bytes should be \"\n",
            "[converting LR images to SR images] PSNR: 22.2616 dB SSIM: 0.7784:  96% 418/436 [01:07<00:01, 14.40it/s]/usr/local/lib/python3.6/dist-packages/PIL/Image.py:932: UserWarning: Palette images with Transparency expressed in bytes should be converted to RGBA images\n",
            "  \"Palette images with Transparency expressed in bytes should be \"\n",
            "[converting LR images to SR images] PSNR: 22.2729 dB SSIM: 0.7775: 100% 436/436 [01:09<00:00,  6.28it/s]\n",
            "[saving training results]: 100% 8/8 [00:05<00:00,  1.51it/s]\n",
            "[6/6] Loss_D: 0.8237 Loss_G: 0.0100 D(x): 0.8743 D(G(z)): 0.6925:   3% 21/667 [00:12<04:56,  2.18it/s]/usr/local/lib/python3.6/dist-packages/PIL/Image.py:932: UserWarning: Palette images with Transparency expressed in bytes should be converted to RGBA images\n",
            "  \"Palette images with Transparency expressed in bytes should be \"\n",
            "[6/6] Loss_D: 0.8243 Loss_G: 0.0099 D(x): 0.8748 D(G(z)): 0.6936:   5% 33/667 [00:19<04:56,  2.14it/s]/usr/local/lib/python3.6/dist-packages/PIL/Image.py:932: UserWarning: Palette images with Transparency expressed in bytes should be converted to RGBA images\n",
            "  \"Palette images with Transparency expressed in bytes should be \"\n",
            "[6/6] Loss_D: 0.8264 Loss_G: 0.0099 D(x): 0.8763 D(G(z)): 0.6973:  11% 74/667 [00:43<06:26,  1.54it/s]/usr/local/lib/python3.6/dist-packages/PIL/Image.py:932: UserWarning: Palette images with Transparency expressed in bytes should be converted to RGBA images\n",
            "  \"Palette images with Transparency expressed in bytes should be \"\n",
            "[6/6] Loss_D: 0.8309 Loss_G: 0.0099 D(x): 0.8795 D(G(z)): 0.7051:  25% 164/667 [01:30<03:46,  2.22it/s]/usr/local/lib/python3.6/dist-packages/PIL/TiffImagePlugin.py:788: UserWarning: Corrupt EXIF data.  Expecting to read 4 bytes but only got 0. \n",
            "  warnings.warn(str(msg))\n",
            "[6/6] Loss_D: 0.8347 Loss_G: 0.0098 D(x): 0.8822 D(G(z)): 0.7117:  37% 244/667 [02:11<03:26,  2.05it/s]/usr/local/lib/python3.6/dist-packages/PIL/Image.py:932: UserWarning: Palette images with Transparency expressed in bytes should be converted to RGBA images\n",
            "  \"Palette images with Transparency expressed in bytes should be \"\n",
            "[6/6] Loss_D: 0.8521 Loss_G: 0.0096 D(x): 0.8946 D(G(z)): 0.7422: 100% 667/667 [06:09<00:00,  1.80it/s]\n",
            "[converting LR images to SR images] PSNR: 22.6799 dB SSIM: 0.7820:   7% 30/436 [00:07<00:48,  8.34it/s]/usr/local/lib/python3.6/dist-packages/PIL/Image.py:932: UserWarning: Palette images with Transparency expressed in bytes should be converted to RGBA images\n",
            "  \"Palette images with Transparency expressed in bytes should be \"\n",
            "[converting LR images to SR images] PSNR: 23.1507 dB SSIM: 0.7828:  96% 418/436 [01:07<00:01, 14.11it/s]/usr/local/lib/python3.6/dist-packages/PIL/Image.py:932: UserWarning: Palette images with Transparency expressed in bytes should be converted to RGBA images\n",
            "  \"Palette images with Transparency expressed in bytes should be \"\n",
            "[converting LR images to SR images] PSNR: 23.1620 dB SSIM: 0.7820: 100% 436/436 [01:09<00:00,  6.31it/s]\n",
            "[saving training results]: 100% 8/8 [00:05<00:00,  1.53it/s]\n",
            "[7/7] Loss_D: 0.8533 Loss_G: 0.0096 D(x): 0.8955 D(G(z)): 0.7442:   5% 32/667 [00:20<06:37,  1.60it/s]/usr/local/lib/python3.6/dist-packages/PIL/Image.py:932: UserWarning: Palette images with Transparency expressed in bytes should be converted to RGBA images\n",
            "  \"Palette images with Transparency expressed in bytes should be \"\n",
            "[7/7] Loss_D: 0.8548 Loss_G: 0.0095 D(x): 0.8965 D(G(z)): 0.7468:  11% 73/667 [00:42<04:31,  2.19it/s]/usr/local/lib/python3.6/dist-packages/PIL/Image.py:932: UserWarning: Palette images with Transparency expressed in bytes should be converted to RGBA images\n",
            "  \"Palette images with Transparency expressed in bytes should be \"\n",
            "[7/7] Loss_D: 0.8548 Loss_G: 0.0095 D(x): 0.8966 D(G(z)): 0.7469:  11% 75/667 [00:44<08:16,  1.19it/s]/usr/local/lib/python3.6/dist-packages/PIL/Image.py:932: UserWarning: Palette images with Transparency expressed in bytes should be converted to RGBA images\n",
            "  \"Palette images with Transparency expressed in bytes should be \"\n",
            "[7/7] Loss_D: 0.8583 Loss_G: 0.0095 D(x): 0.8990 D(G(z)): 0.7530:  26% 175/667 [01:33<03:42,  2.22it/s]/usr/local/lib/python3.6/dist-packages/PIL/Image.py:932: UserWarning: Palette images with Transparency expressed in bytes should be converted to RGBA images\n",
            "  \"Palette images with Transparency expressed in bytes should be \"\n",
            "[7/7] Loss_D: 0.8665 Loss_G: 0.0094 D(x): 0.9049 D(G(z)): 0.7673:  65% 432/667 [03:59<01:26,  2.73it/s]/usr/local/lib/python3.6/dist-packages/PIL/TiffImagePlugin.py:788: UserWarning: Corrupt EXIF data.  Expecting to read 4 bytes but only got 0. \n",
            "  warnings.warn(str(msg))\n",
            "[7/7] Loss_D: 0.8733 Loss_G: 0.0093 D(x): 0.9097 D(G(z)): 0.7790: 100% 667/667 [06:07<00:00,  1.81it/s]\n",
            "[converting LR images to SR images] PSNR: 22.8444 dB SSIM: 0.7886:   7% 30/436 [00:07<00:49,  8.19it/s]/usr/local/lib/python3.6/dist-packages/PIL/Image.py:932: UserWarning: Palette images with Transparency expressed in bytes should be converted to RGBA images\n",
            "  \"Palette images with Transparency expressed in bytes should be \"\n",
            "[converting LR images to SR images] PSNR: 23.2961 dB SSIM: 0.7888:  96% 417/436 [01:07<00:01, 14.11it/s]/usr/local/lib/python3.6/dist-packages/PIL/Image.py:932: UserWarning: Palette images with Transparency expressed in bytes should be converted to RGBA images\n",
            "  \"Palette images with Transparency expressed in bytes should be \"\n",
            "[converting LR images to SR images] PSNR: 23.3074 dB SSIM: 0.7880: 100% 436/436 [01:09<00:00,  6.30it/s]\n",
            "[saving training results]: 100% 8/8 [00:05<00:00,  1.52it/s]\n",
            "[8/8] Loss_D: 0.8738 Loss_G: 0.0093 D(x): 0.9101 D(G(z)): 0.7800:   3% 21/667 [00:13<04:26,  2.42it/s]/usr/local/lib/python3.6/dist-packages/PIL/Image.py:932: UserWarning: Palette images with Transparency expressed in bytes should be converted to RGBA images\n",
            "  \"Palette images with Transparency expressed in bytes should be \"\n",
            "[8/8] Loss_D: 0.8741 Loss_G: 0.0093 D(x): 0.9103 D(G(z)): 0.7806:   5% 33/667 [00:19<04:07,  2.56it/s]/usr/local/lib/python3.6/dist-packages/PIL/Image.py:932: UserWarning: Palette images with Transparency expressed in bytes should be converted to RGBA images\n",
            "  \"Palette images with Transparency expressed in bytes should be \"\n",
            "[8/8] Loss_D: 0.8746 Loss_G: 0.0093 D(x): 0.9107 D(G(z)): 0.7814:   8% 51/667 [00:31<08:33,  1.20it/s]/usr/local/lib/python3.6/dist-packages/PIL/Image.py:932: UserWarning: Palette images with Transparency expressed in bytes should be converted to RGBA images\n",
            "  \"Palette images with Transparency expressed in bytes should be \"\n",
            "[8/8] Loss_D: 0.8831 Loss_G: 0.0091 D(x): 0.9167 D(G(z)): 0.7963:  59% 395/667 [03:30<01:54,  2.37it/s]/usr/local/lib/python3.6/dist-packages/PIL/TiffImagePlugin.py:788: UserWarning: Corrupt EXIF data.  Expecting to read 4 bytes but only got 0. \n",
            "  warnings.warn(str(msg))\n",
            "[8/8] Loss_D: 0.8832 Loss_G: 0.0091 D(x): 0.9168 D(G(z)): 0.7964:  60% 398/667 [03:32<02:00,  2.23it/s]/usr/local/lib/python3.6/dist-packages/PIL/Image.py:932: UserWarning: Palette images with Transparency expressed in bytes should be converted to RGBA images\n",
            "  \"Palette images with Transparency expressed in bytes should be \"\n",
            "[8/8] Loss_D: 0.8891 Loss_G: 0.0090 D(x): 0.9210 D(G(z)): 0.8066: 100% 667/667 [06:07<00:00,  1.81it/s]\n",
            "[converting LR images to SR images] PSNR: 22.5513 dB SSIM: 0.7840:   7% 30/436 [00:07<00:51,  7.94it/s]/usr/local/lib/python3.6/dist-packages/PIL/Image.py:932: UserWarning: Palette images with Transparency expressed in bytes should be converted to RGBA images\n",
            "  \"Palette images with Transparency expressed in bytes should be \"\n",
            "[converting LR images to SR images] PSNR: 23.1628 dB SSIM: 0.7851:  96% 418/436 [01:08<00:01, 14.06it/s]/usr/local/lib/python3.6/dist-packages/PIL/Image.py:932: UserWarning: Palette images with Transparency expressed in bytes should be converted to RGBA images\n",
            "  \"Palette images with Transparency expressed in bytes should be \"\n",
            "[converting LR images to SR images] PSNR: 23.1732 dB SSIM: 0.7841: 100% 436/436 [01:09<00:00,  6.24it/s]\n",
            "[saving training results]: 100% 8/8 [00:05<00:00,  1.54it/s]\n",
            "[9/9] Loss_D: 0.8892 Loss_G: 0.0090 D(x): 0.9211 D(G(z)): 0.8069:   1% 7/667 [00:08<16:02,  1.46s/it]/usr/local/lib/python3.6/dist-packages/PIL/Image.py:932: UserWarning: Palette images with Transparency expressed in bytes should be converted to RGBA images\n",
            "  \"Palette images with Transparency expressed in bytes should be \"\n",
            "[9/9] Loss_D: 0.8910 Loss_G: 0.0090 D(x): 0.9199 D(G(z)): 0.8074:  14% 93/667 [00:53<03:45,  2.55it/s]/usr/local/lib/python3.6/dist-packages/PIL/Image.py:932: UserWarning: Palette images with Transparency expressed in bytes should be converted to RGBA images\n",
            "  \"Palette images with Transparency expressed in bytes should be \"\n",
            "[9/9] Loss_D: 0.8927 Loss_G: 0.0090 D(x): 0.9163 D(G(z)): 0.8056:  28% 184/667 [01:41<03:59,  2.02it/s]/usr/local/lib/python3.6/dist-packages/PIL/Image.py:932: UserWarning: Palette images with Transparency expressed in bytes should be converted to RGBA images\n",
            "  \"Palette images with Transparency expressed in bytes should be \"\n",
            "[9/9] Loss_D: 0.8947 Loss_G: 0.0090 D(x): 0.9135 D(G(z)): 0.8049:  43% 284/667 [02:32<02:49,  2.25it/s]/usr/local/lib/python3.6/dist-packages/PIL/TiffImagePlugin.py:788: UserWarning: Corrupt EXIF data.  Expecting to read 4 bytes but only got 0. \n",
            "  warnings.warn(str(msg))\n",
            "[9/9] Loss_D: 0.8950 Loss_G: 0.0090 D(x): 0.9130 D(G(z)): 0.8047:  45% 303/667 [02:41<02:35,  2.34it/s]/usr/local/lib/python3.6/dist-packages/PIL/Image.py:932: UserWarning: Palette images with Transparency expressed in bytes should be converted to RGBA images\n",
            "  \"Palette images with Transparency expressed in bytes should be \"\n",
            "[9/9] Loss_D: 0.9017 Loss_G: 0.0089 D(x): 0.8991 D(G(z)): 0.7975: 100% 667/667 [06:14<00:00,  1.78it/s]\n",
            "[converting LR images to SR images] PSNR: 22.9633 dB SSIM: 0.7902:   7% 30/436 [00:07<00:45,  8.83it/s]/usr/local/lib/python3.6/dist-packages/PIL/Image.py:932: UserWarning: Palette images with Transparency expressed in bytes should be converted to RGBA images\n",
            "  \"Palette images with Transparency expressed in bytes should be \"\n",
            "[converting LR images to SR images] PSNR: 23.3897 dB SSIM: 0.7915:  96% 417/436 [01:08<00:01, 13.36it/s]/usr/local/lib/python3.6/dist-packages/PIL/Image.py:932: UserWarning: Palette images with Transparency expressed in bytes should be converted to RGBA images\n",
            "  \"Palette images with Transparency expressed in bytes should be \"\n",
            "[converting LR images to SR images] PSNR: 23.3874 dB SSIM: 0.7904: 100% 436/436 [01:10<00:00,  6.19it/s]\n",
            "[saving training results]: 100% 8/8 [00:05<00:00,  1.50it/s]\n",
            "[10/10] Loss_D: 0.9020 Loss_G: 0.0089 D(x): 0.8983 D(G(z)): 0.7970:   3% 19/667 [00:13<06:26,  1.68it/s]/usr/local/lib/python3.6/dist-packages/PIL/Image.py:932: UserWarning: Palette images with Transparency expressed in bytes should be converted to RGBA images\n",
            "  \"Palette images with Transparency expressed in bytes should be \"\n",
            "[10/10] Loss_D: 0.9022 Loss_G: 0.0089 D(x): 0.8976 D(G(z)): 0.7966:   5% 34/667 [00:24<06:14,  1.69it/s]/usr/local/lib/python3.6/dist-packages/PIL/Image.py:932: UserWarning: Palette images with Transparency expressed in bytes should be converted to RGBA images\n",
            "  \"Palette images with Transparency expressed in bytes should be \"\n",
            "[10/10] Loss_D: 0.9033 Loss_G: 0.0089 D(x): 0.8953 D(G(z)): 0.7953:  15% 99/667 [01:02<05:34,  1.70it/s]/usr/local/lib/python3.6/dist-packages/PIL/Image.py:932: UserWarning: Palette images with Transparency expressed in bytes should be converted to RGBA images\n",
            "  \"Palette images with Transparency expressed in bytes should be \"\n",
            "[10/10] Loss_D: 0.9053 Loss_G: 0.0088 D(x): 0.8912 D(G(z)): 0.7933:  34% 225/667 [02:11<07:09,  1.03it/s]/usr/local/lib/python3.6/dist-packages/PIL/TiffImagePlugin.py:788: UserWarning: Corrupt EXIF data.  Expecting to read 4 bytes but only got 0. \n",
            "  warnings.warn(str(msg))\n",
            "[10/10] Loss_D: 0.9061 Loss_G: 0.0088 D(x): 0.8899 D(G(z)): 0.7928:  41% 272/667 [02:34<03:28,  1.89it/s]/usr/local/lib/python3.6/dist-packages/PIL/Image.py:932: UserWarning: Palette images with Transparency expressed in bytes should be converted to RGBA images\n",
            "  \"Palette images with Transparency expressed in bytes should be \"\n",
            "[10/10] Loss_D: 0.9117 Loss_G: 0.0087 D(x): 0.8802 D(G(z)): 0.7888: 100% 667/667 [06:16<00:00,  1.77it/s]\n",
            "[converting LR images to SR images] PSNR: 23.4264 dB SSIM: 0.7882:   7% 30/436 [00:07<00:44,  9.19it/s]/usr/local/lib/python3.6/dist-packages/PIL/Image.py:932: UserWarning: Palette images with Transparency expressed in bytes should be converted to RGBA images\n",
            "  \"Palette images with Transparency expressed in bytes should be \"\n",
            "[converting LR images to SR images] PSNR: 23.8016 dB SSIM: 0.7883:  96% 417/436 [01:08<00:01, 13.75it/s]/usr/local/lib/python3.6/dist-packages/PIL/Image.py:932: UserWarning: Palette images with Transparency expressed in bytes should be converted to RGBA images\n",
            "  \"Palette images with Transparency expressed in bytes should be \"\n",
            "[converting LR images to SR images] PSNR: 23.8109 dB SSIM: 0.7876: 100% 436/436 [01:10<00:00,  6.19it/s]\n",
            "[saving training results]: 100% 8/8 [00:05<00:00,  1.52it/s]\n",
            "[11/11] Loss_D: 0.9119 Loss_G: 0.0087 D(x): 0.8802 D(G(z)): 0.7890:   3% 20/667 [00:12<05:18,  2.03it/s]/usr/local/lib/python3.6/dist-packages/PIL/Image.py:932: UserWarning: Palette images with Transparency expressed in bytes should be converted to RGBA images\n",
            "  \"Palette images with Transparency expressed in bytes should be \"\n",
            "[11/11] Loss_D: 0.9124 Loss_G: 0.0087 D(x): 0.8803 D(G(z)): 0.7896:   8% 54/667 [00:32<07:19,  1.39it/s]/usr/local/lib/python3.6/dist-packages/PIL/Image.py:932: UserWarning: Palette images with Transparency expressed in bytes should be converted to RGBA images\n",
            "  \"Palette images with Transparency expressed in bytes should be \"\n",
            "[11/11] Loss_D: 0.9134 Loss_G: 0.0087 D(x): 0.8799 D(G(z)): 0.7903:  21% 137/667 [01:24<05:25,  1.63it/s]/usr/local/lib/python3.6/dist-packages/PIL/Image.py:932: UserWarning: Palette images with Transparency expressed in bytes should be converted to RGBA images\n",
            "  \"Palette images with Transparency expressed in bytes should be \"\n",
            "[11/11] Loss_D: 0.9147 Loss_G: 0.0087 D(x): 0.8785 D(G(z)): 0.7901:  35% 236/667 [02:19<04:15,  1.69it/s]/usr/local/lib/python3.6/dist-packages/PIL/Image.py:932: UserWarning: Palette images with Transparency expressed in bytes should be converted to RGBA images\n",
            "  \"Palette images with Transparency expressed in bytes should be \"\n",
            "[11/11] Loss_D: 0.9147 Loss_G: 0.0087 D(x): 0.8784 D(G(z)): 0.7901:  36% 240/667 [02:21<03:37,  1.96it/s]/usr/local/lib/python3.6/dist-packages/PIL/TiffImagePlugin.py:788: UserWarning: Corrupt EXIF data.  Expecting to read 4 bytes but only got 0. \n",
            "  warnings.warn(str(msg))\n",
            "[11/11] Loss_D: 0.9197 Loss_G: 0.0086 D(x): 0.8660 D(G(z)): 0.7826: 100% 667/667 [06:15<00:00,  1.78it/s]\n",
            "[converting LR images to SR images] PSNR: 23.2289 dB SSIM: 0.7870:   7% 30/436 [00:07<00:45,  8.95it/s]/usr/local/lib/python3.6/dist-packages/PIL/Image.py:932: UserWarning: Palette images with Transparency expressed in bytes should be converted to RGBA images\n",
            "  \"Palette images with Transparency expressed in bytes should be \"\n",
            "[converting LR images to SR images] PSNR: 23.6784 dB SSIM: 0.7892:  96% 417/436 [01:08<00:01, 13.90it/s]/usr/local/lib/python3.6/dist-packages/PIL/Image.py:932: UserWarning: Palette images with Transparency expressed in bytes should be converted to RGBA images\n",
            "  \"Palette images with Transparency expressed in bytes should be \"\n",
            "[converting LR images to SR images] PSNR: 23.6921 dB SSIM: 0.7884: 100% 436/436 [01:10<00:00,  6.22it/s]\n",
            "[saving training results]: 100% 8/8 [00:05<00:00,  1.57it/s]\n",
            "  0% 0/667 [00:00<?, ?it/s]/usr/local/lib/python3.6/dist-packages/PIL/Image.py:932: UserWarning: Palette images with Transparency expressed in bytes should be converted to RGBA images\n",
            "  \"Palette images with Transparency expressed in bytes should be \"\n",
            "/usr/local/lib/python3.6/dist-packages/PIL/Image.py:932: UserWarning: Palette images with Transparency expressed in bytes should be converted to RGBA images\n",
            "  \"Palette images with Transparency expressed in bytes should be \"\n",
            "[12/12] Loss_D: 0.9209 Loss_G: 0.0086 D(x): 0.8629 D(G(z)): 0.7807:  17% 115/667 [01:10<04:13,  2.17it/s]/usr/local/lib/python3.6/dist-packages/PIL/Image.py:932: UserWarning: Palette images with Transparency expressed in bytes should be converted to RGBA images\n",
            "  \"Palette images with Transparency expressed in bytes should be \"\n",
            "[12/12] Loss_D: 0.9214 Loss_G: 0.0086 D(x): 0.8620 D(G(z)): 0.7803:  24% 162/667 [01:36<03:42,  2.27it/s]/usr/local/lib/python3.6/dist-packages/PIL/TiffImagePlugin.py:788: UserWarning: Corrupt EXIF data.  Expecting to read 4 bytes but only got 0. \n",
            "  warnings.warn(str(msg))\n",
            "[12/12] Loss_D: 0.9225 Loss_G: 0.0086 D(x): 0.8595 D(G(z)): 0.7790:  42% 281/667 [02:39<03:26,  1.87it/s]/usr/local/lib/python3.6/dist-packages/PIL/Image.py:932: UserWarning: Palette images with Transparency expressed in bytes should be converted to RGBA images\n",
            "  \"Palette images with Transparency expressed in bytes should be \"\n",
            "[12/12] Loss_D: 0.9260 Loss_G: 0.0085 D(x): 0.8528 D(G(z)): 0.7759: 100% 667/667 [06:09<00:00,  1.80it/s]\n",
            "[converting LR images to SR images] PSNR: 23.4689 dB SSIM: 0.7958:   7% 30/436 [00:07<00:49,  8.14it/s]/usr/local/lib/python3.6/dist-packages/PIL/Image.py:932: UserWarning: Palette images with Transparency expressed in bytes should be converted to RGBA images\n",
            "  \"Palette images with Transparency expressed in bytes should be \"\n",
            "[converting LR images to SR images] PSNR: 23.9198 dB SSIM: 0.7973:  96% 418/436 [01:08<00:01, 14.48it/s]/usr/local/lib/python3.6/dist-packages/PIL/Image.py:932: UserWarning: Palette images with Transparency expressed in bytes should be converted to RGBA images\n",
            "  \"Palette images with Transparency expressed in bytes should be \"\n",
            "[converting LR images to SR images] PSNR: 23.9283 dB SSIM: 0.7963: 100% 436/436 [01:09<00:00,  6.25it/s]\n",
            "[saving training results]: 100% 8/8 [00:05<00:00,  1.53it/s]\n",
            "[13/13] Loss_D: 0.9261 Loss_G: 0.0085 D(x): 0.8530 D(G(z)): 0.7762:   1% 10/667 [00:07<06:42,  1.63it/s]/usr/local/lib/python3.6/dist-packages/PIL/Image.py:932: UserWarning: Palette images with Transparency expressed in bytes should be converted to RGBA images\n",
            "  \"Palette images with Transparency expressed in bytes should be \"\n",
            "[13/13] Loss_D: 0.9267 Loss_G: 0.0085 D(x): 0.8543 D(G(z)): 0.7781:  12% 79/667 [00:47<06:44,  1.45it/s]/usr/local/lib/python3.6/dist-packages/PIL/Image.py:932: UserWarning: Palette images with Transparency expressed in bytes should be converted to RGBA images\n",
            "  \"Palette images with Transparency expressed in bytes should be \"\n",
            "[13/13] Loss_D: 0.9268 Loss_G: 0.0085 D(x): 0.8543 D(G(z)): 0.7782:  12% 83/667 [00:48<04:11,  2.32it/s]/usr/local/lib/python3.6/dist-packages/PIL/Image.py:932: UserWarning: Palette images with Transparency expressed in bytes should be converted to RGBA images\n",
            "  \"Palette images with Transparency expressed in bytes should be \"\n",
            "[13/13] Loss_D: 0.9269 Loss_G: 0.0085 D(x): 0.8547 D(G(z)): 0.7788:  15% 103/667 [01:00<04:21,  2.15it/s]/usr/local/lib/python3.6/dist-packages/PIL/Image.py:932: UserWarning: Palette images with Transparency expressed in bytes should be converted to RGBA images\n",
            "  \"Palette images with Transparency expressed in bytes should be \"\n",
            "[13/13] Loss_D: 0.9309 Loss_G: 0.0084 D(x): 0.8625 D(G(z)): 0.7907:  85% 564/667 [05:17<00:57,  1.80it/s]/usr/local/lib/python3.6/dist-packages/PIL/TiffImagePlugin.py:788: UserWarning: Corrupt EXIF data.  Expecting to read 4 bytes but only got 0. \n",
            "  warnings.warn(str(msg))\n",
            "[13/13] Loss_D: 0.9317 Loss_G: 0.0084 D(x): 0.8641 D(G(z)): 0.7932: 100% 667/667 [06:14<00:00,  1.78it/s]\n",
            "[converting LR images to SR images] PSNR: 23.7270 dB SSIM: 0.7981:   7% 30/436 [00:07<00:48,  8.35it/s]/usr/local/lib/python3.6/dist-packages/PIL/Image.py:932: UserWarning: Palette images with Transparency expressed in bytes should be converted to RGBA images\n",
            "  \"Palette images with Transparency expressed in bytes should be \"\n",
            "[converting LR images to SR images] PSNR: 24.1257 dB SSIM: 0.7958:  96% 417/436 [01:08<00:01, 13.49it/s]/usr/local/lib/python3.6/dist-packages/PIL/Image.py:932: UserWarning: Palette images with Transparency expressed in bytes should be converted to RGBA images\n",
            "  \"Palette images with Transparency expressed in bytes should be \"\n",
            "[converting LR images to SR images] PSNR: 24.1351 dB SSIM: 0.7951: 100% 436/436 [01:10<00:00,  6.22it/s]\n",
            "[saving training results]: 100% 8/8 [00:05<00:00,  1.51it/s]\n",
            "[14/14] Loss_D: 0.9320 Loss_G: 0.0084 D(x): 0.8648 D(G(z)): 0.7941:   6% 39/667 [00:24<07:34,  1.38it/s]/usr/local/lib/python3.6/dist-packages/PIL/TiffImagePlugin.py:788: UserWarning: Corrupt EXIF data.  Expecting to read 4 bytes but only got 0. \n",
            "  warnings.warn(str(msg))\n",
            "[14/14] Loss_D: 0.9322 Loss_G: 0.0084 D(x): 0.8651 D(G(z)): 0.7947:   9% 62/667 [00:35<04:42,  2.14it/s]/usr/local/lib/python3.6/dist-packages/PIL/Image.py:932: UserWarning: Palette images with Transparency expressed in bytes should be converted to RGBA images\n",
            "  \"Palette images with Transparency expressed in bytes should be \"\n",
            "[14/14] Loss_D: 0.9326 Loss_G: 0.0084 D(x): 0.8660 D(G(z)): 0.7960:  18% 120/667 [01:06<04:22,  2.08it/s]/usr/local/lib/python3.6/dist-packages/PIL/Image.py:932: UserWarning: Palette images with Transparency expressed in bytes should be converted to RGBA images\n",
            "  \"Palette images with Transparency expressed in bytes should be \"\n",
            "[14/14] Loss_D: 0.9329 Loss_G: 0.0084 D(x): 0.8666 D(G(z)): 0.7969:  24% 158/667 [01:28<05:33,  1.53it/s]/usr/local/lib/python3.6/dist-packages/PIL/Image.py:932: UserWarning: Palette images with Transparency expressed in bytes should be converted to RGBA images\n",
            "  \"Palette images with Transparency expressed in bytes should be \"\n",
            "[14/14] Loss_D: 0.9342 Loss_G: 0.0083 D(x): 0.8692 D(G(z)): 0.8009:  50% 336/667 [03:08<02:16,  2.43it/s]/usr/local/lib/python3.6/dist-packages/PIL/Image.py:932: UserWarning: Palette images with Transparency expressed in bytes should be converted to RGBA images\n",
            "  \"Palette images with Transparency expressed in bytes should be \"\n",
            "[14/14] Loss_D: 0.9366 Loss_G: 0.0083 D(x): 0.8738 D(G(z)): 0.8080: 100% 667/667 [06:11<00:00,  1.80it/s]\n",
            "[converting LR images to SR images] PSNR: 22.8235 dB SSIM: 0.7887:   7% 30/436 [00:07<00:46,  8.73it/s]/usr/local/lib/python3.6/dist-packages/PIL/Image.py:932: UserWarning: Palette images with Transparency expressed in bytes should be converted to RGBA images\n",
            "  \"Palette images with Transparency expressed in bytes should be \"\n",
            "[converting LR images to SR images] PSNR: 23.3029 dB SSIM: 0.7912:  96% 417/436 [01:08<00:01, 13.96it/s]/usr/local/lib/python3.6/dist-packages/PIL/Image.py:932: UserWarning: Palette images with Transparency expressed in bytes should be converted to RGBA images\n",
            "  \"Palette images with Transparency expressed in bytes should be \"\n",
            "[converting LR images to SR images] PSNR: 23.3122 dB SSIM: 0.7901: 100% 436/436 [01:09<00:00,  6.23it/s]\n",
            "[saving training results]: 100% 8/8 [00:05<00:00,  1.53it/s]\n",
            "[15/15] Loss_D: 0.9366 Loss_G: 0.0083 D(x): 0.8739 D(G(z)): 0.8080:   0% 3/667 [00:03<17:36,  1.59s/it]/usr/local/lib/python3.6/dist-packages/PIL/Image.py:932: UserWarning: Palette images with Transparency expressed in bytes should be converted to RGBA images\n",
            "  \"Palette images with Transparency expressed in bytes should be \"\n",
            "[15/15] Loss_D: 0.9367 Loss_G: 0.0083 D(x): 0.8741 D(G(z)): 0.8083:   3% 19/667 [00:14<06:24,  1.69it/s]/usr/local/lib/python3.6/dist-packages/PIL/Image.py:932: UserWarning: Palette images with Transparency expressed in bytes should be converted to RGBA images\n",
            "  \"Palette images with Transparency expressed in bytes should be \"\n",
            "[15/15] Loss_D: 0.9368 Loss_G: 0.0083 D(x): 0.8743 D(G(z)): 0.8086:   5% 32/667 [00:21<05:19,  1.99it/s]/usr/local/lib/python3.6/dist-packages/PIL/TiffImagePlugin.py:788: UserWarning: Corrupt EXIF data.  Expecting to read 4 bytes but only got 0. \n",
            "  warnings.warn(str(msg))\n",
            "[15/15] Loss_D: 0.9368 Loss_G: 0.0083 D(x): 0.8744 D(G(z)): 0.8088:   6% 40/667 [00:25<04:04,  2.56it/s]/usr/local/lib/python3.6/dist-packages/PIL/Image.py:932: UserWarning: Palette images with Transparency expressed in bytes should be converted to RGBA images\n",
            "  \"Palette images with Transparency expressed in bytes should be \"\n",
            "[15/15] Loss_D: 0.9376 Loss_G: 0.0083 D(x): 0.8758 D(G(z)): 0.8109:  22% 146/667 [01:23<03:04,  2.82it/s]/usr/local/lib/python3.6/dist-packages/PIL/Image.py:932: UserWarning: Palette images with Transparency expressed in bytes should be converted to RGBA images\n",
            "  \"Palette images with Transparency expressed in bytes should be \"\n",
            "[15/15] Loss_D: 0.9408 Loss_G: 0.0082 D(x): 0.8823 D(G(z)): 0.8208: 100% 667/667 [06:11<00:00,  1.79it/s]\n",
            "[converting LR images to SR images] PSNR: 23.1596 dB SSIM: 0.7984:   7% 30/436 [00:07<00:56,  7.14it/s]/usr/local/lib/python3.6/dist-packages/PIL/Image.py:932: UserWarning: Palette images with Transparency expressed in bytes should be converted to RGBA images\n",
            "  \"Palette images with Transparency expressed in bytes should be \"\n",
            "[converting LR images to SR images] PSNR: 23.5669 dB SSIM: 0.7986:  96% 417/436 [01:08<00:01, 14.20it/s]/usr/local/lib/python3.6/dist-packages/PIL/Image.py:932: UserWarning: Palette images with Transparency expressed in bytes should be converted to RGBA images\n",
            "  \"Palette images with Transparency expressed in bytes should be \"\n",
            "[converting LR images to SR images] PSNR: 23.5780 dB SSIM: 0.7975: 100% 436/436 [01:09<00:00,  6.24it/s]\n",
            "[saving training results]: 100% 8/8 [00:05<00:00,  1.55it/s]\n",
            "[16/16] Loss_D: 0.9409 Loss_G: 0.0082 D(x): 0.8824 D(G(z)): 0.8209:   1% 8/667 [00:07<10:01,  1.10it/s]/usr/local/lib/python3.6/dist-packages/PIL/Image.py:932: UserWarning: Palette images with Transparency expressed in bytes should be converted to RGBA images\n",
            "  \"Palette images with Transparency expressed in bytes should be \"\n",
            "/usr/local/lib/python3.6/dist-packages/PIL/Image.py:932: UserWarning: Palette images with Transparency expressed in bytes should be converted to RGBA images\n",
            "  \"Palette images with Transparency expressed in bytes should be \"\n",
            "[16/16] Loss_D: 0.9409 Loss_G: 0.0082 D(x): 0.8825 D(G(z)): 0.8211:   3% 19/667 [00:14<06:56,  1.56it/s]/usr/local/lib/python3.6/dist-packages/PIL/Image.py:932: UserWarning: Palette images with Transparency expressed in bytes should be converted to RGBA images\n",
            "  \"Palette images with Transparency expressed in bytes should be \"\n",
            "[16/16] Loss_D: 0.9419 Loss_G: 0.0082 D(x): 0.8845 D(G(z)): 0.8241:  29% 192/667 [01:42<03:06,  2.55it/s]/usr/local/lib/python3.6/dist-packages/PIL/Image.py:932: UserWarning: Palette images with Transparency expressed in bytes should be converted to RGBA images\n",
            "  \"Palette images with Transparency expressed in bytes should be \"\n",
            "[16/16] Loss_D: 0.9426 Loss_G: 0.0081 D(x): 0.8859 D(G(z)): 0.8263:  48% 317/667 [02:55<02:57,  1.97it/s]/usr/local/lib/python3.6/dist-packages/PIL/TiffImagePlugin.py:788: UserWarning: Corrupt EXIF data.  Expecting to read 4 bytes but only got 0. \n",
            "  warnings.warn(str(msg))\n",
            "[16/16] Loss_D: 0.9445 Loss_G: 0.0081 D(x): 0.8896 D(G(z)): 0.8320: 100% 667/667 [06:11<00:00,  1.80it/s]\n",
            "[converting LR images to SR images] PSNR: 23.7280 dB SSIM: 0.7980:   7% 30/436 [00:07<00:50,  8.00it/s]/usr/local/lib/python3.6/dist-packages/PIL/Image.py:932: UserWarning: Palette images with Transparency expressed in bytes should be converted to RGBA images\n",
            "  \"Palette images with Transparency expressed in bytes should be \"\n",
            "[converting LR images to SR images] PSNR: 24.1796 dB SSIM: 0.7972:  96% 418/436 [01:08<00:01, 14.04it/s]/usr/local/lib/python3.6/dist-packages/PIL/Image.py:932: UserWarning: Palette images with Transparency expressed in bytes should be converted to RGBA images\n",
            "  \"Palette images with Transparency expressed in bytes should be \"\n",
            "[converting LR images to SR images] PSNR: 24.1888 dB SSIM: 0.7964: 100% 436/436 [01:10<00:00,  6.22it/s]\n",
            "[saving training results]: 100% 8/8 [00:05<00:00,  1.54it/s]\n",
            "[17/17] Loss_D: 0.9448 Loss_G: 0.0081 D(x): 0.8903 D(G(z)): 0.8330:  10% 66/667 [00:41<04:25,  2.26it/s]/usr/local/lib/python3.6/dist-packages/PIL/Image.py:932: UserWarning: Palette images with Transparency expressed in bytes should be converted to RGBA images\n",
            "  \"Palette images with Transparency expressed in bytes should be \"\n",
            "[17/17] Loss_D: 0.9450 Loss_G: 0.0081 D(x): 0.8907 D(G(z)): 0.8336:  15% 102/667 [01:01<04:01,  2.34it/s]/usr/local/lib/python3.6/dist-packages/PIL/Image.py:932: UserWarning: Palette images with Transparency expressed in bytes should be converted to RGBA images\n",
            "  \"Palette images with Transparency expressed in bytes should be \"\n",
            "[17/17] Loss_D: 0.9454 Loss_G: 0.0081 D(x): 0.8913 D(G(z)): 0.8346:  25% 169/667 [01:40<05:31,  1.50it/s]/usr/local/lib/python3.6/dist-packages/PIL/Image.py:932: UserWarning: Palette images with Transparency expressed in bytes should be converted to RGBA images\n",
            "  \"Palette images with Transparency expressed in bytes should be \"\n",
            "[17/17] Loss_D: 0.9467 Loss_G: 0.0080 D(x): 0.8940 D(G(z)): 0.8386:  66% 440/667 [04:05<01:43,  2.20it/s]/usr/local/lib/python3.6/dist-packages/PIL/TiffImagePlugin.py:788: UserWarning: Corrupt EXIF data.  Expecting to read 4 bytes but only got 0. \n",
            "  warnings.warn(str(msg))\n",
            "[17/17] Loss_D: 0.9469 Loss_G: 0.0080 D(x): 0.8943 D(G(z)): 0.8391:  71% 473/667 [04:20<01:20,  2.42it/s]/usr/local/lib/python3.6/dist-packages/PIL/Image.py:932: UserWarning: Palette images with Transparency expressed in bytes should be converted to RGBA images\n",
            "  \"Palette images with Transparency expressed in bytes should be \"\n",
            "[17/17] Loss_D: 0.9478 Loss_G: 0.0080 D(x): 0.8961 D(G(z)): 0.8418: 100% 667/667 [06:12<00:00,  1.79it/s]\n",
            "[converting LR images to SR images] PSNR: 23.2278 dB SSIM: 0.7964:   7% 30/436 [00:07<00:55,  7.30it/s]/usr/local/lib/python3.6/dist-packages/PIL/Image.py:932: UserWarning: Palette images with Transparency expressed in bytes should be converted to RGBA images\n",
            "  \"Palette images with Transparency expressed in bytes should be \"\n",
            "[converting LR images to SR images] PSNR: 23.5697 dB SSIM: 0.7991:  96% 418/436 [01:08<00:01, 14.62it/s]/usr/local/lib/python3.6/dist-packages/PIL/Image.py:932: UserWarning: Palette images with Transparency expressed in bytes should be converted to RGBA images\n",
            "  \"Palette images with Transparency expressed in bytes should be \"\n",
            "[converting LR images to SR images] PSNR: 23.5723 dB SSIM: 0.7980: 100% 436/436 [01:09<00:00,  6.23it/s]\n",
            "[saving training results]: 100% 8/8 [00:05<00:00,  1.52it/s]\n",
            "  0% 0/667 [00:00<?, ?it/s]/usr/local/lib/python3.6/dist-packages/PIL/Image.py:932: UserWarning: Palette images with Transparency expressed in bytes should be converted to RGBA images\n",
            "  \"Palette images with Transparency expressed in bytes should be \"\n",
            "[18/18] Loss_D: 0.9481 Loss_G: 0.0080 D(x): 0.8968 D(G(z)): 0.8428:  11% 71/667 [00:40<05:18,  1.87it/s]/usr/local/lib/python3.6/dist-packages/PIL/Image.py:932: UserWarning: Palette images with Transparency expressed in bytes should be converted to RGBA images\n",
            "  \"Palette images with Transparency expressed in bytes should be \"\n",
            "[18/18] Loss_D: 0.9481 Loss_G: 0.0080 D(x): 0.8968 D(G(z)): 0.8430:  12% 80/667 [00:47<05:56,  1.65it/s]/usr/local/lib/python3.6/dist-packages/PIL/Image.py:932: UserWarning: Palette images with Transparency expressed in bytes should be converted to RGBA images\n",
            "  \"Palette images with Transparency expressed in bytes should be \"\n",
            "[18/18] Loss_D: 0.9490 Loss_G: 0.0080 D(x): 0.8985 D(G(z)): 0.8454:  40% 264/667 [02:27<03:32,  1.90it/s]/usr/local/lib/python3.6/dist-packages/PIL/Image.py:932: UserWarning: Palette images with Transparency expressed in bytes should be converted to RGBA images\n",
            "  \"Palette images with Transparency expressed in bytes should be \"\n",
            "[18/18] Loss_D: 0.9491 Loss_G: 0.0080 D(x): 0.8987 D(G(z)): 0.8458:  43% 289/667 [02:40<02:46,  2.28it/s]/usr/local/lib/python3.6/dist-packages/PIL/TiffImagePlugin.py:788: UserWarning: Corrupt EXIF data.  Expecting to read 4 bytes but only got 0. \n",
            "  warnings.warn(str(msg))\n",
            "[18/18] Loss_D: 0.9507 Loss_G: 0.0079 D(x): 0.9019 D(G(z)): 0.8506: 100% 667/667 [06:12<00:00,  1.79it/s]\n",
            "[converting LR images to SR images] PSNR: 23.4417 dB SSIM: 0.7900:   7% 30/436 [00:07<00:50,  8.07it/s]/usr/local/lib/python3.6/dist-packages/PIL/Image.py:932: UserWarning: Palette images with Transparency expressed in bytes should be converted to RGBA images\n",
            "  \"Palette images with Transparency expressed in bytes should be \"\n",
            "[converting LR images to SR images] PSNR: 23.8402 dB SSIM: 0.7938:  96% 418/436 [01:08<00:01, 14.68it/s]/usr/local/lib/python3.6/dist-packages/PIL/Image.py:932: UserWarning: Palette images with Transparency expressed in bytes should be converted to RGBA images\n",
            "  \"Palette images with Transparency expressed in bytes should be \"\n",
            "[converting LR images to SR images] PSNR: 23.8542 dB SSIM: 0.7931: 100% 436/436 [01:10<00:00,  6.20it/s]\n",
            "[saving training results]: 100% 8/8 [00:05<00:00,  1.54it/s]\n",
            "[19/19] Loss_D: 0.9508 Loss_G: 0.0079 D(x): 0.9021 D(G(z)): 0.8509:   3% 22/667 [00:16<07:44,  1.39it/s]/usr/local/lib/python3.6/dist-packages/PIL/Image.py:932: UserWarning: Palette images with Transparency expressed in bytes should be converted to RGBA images\n",
            "  \"Palette images with Transparency expressed in bytes should be \"\n",
            "[19/19] Loss_D: 0.9508 Loss_G: 0.0079 D(x): 0.9021 D(G(z)): 0.8510:   4% 29/667 [00:20<05:48,  1.83it/s]/usr/local/lib/python3.6/dist-packages/PIL/Image.py:932: UserWarning: Palette images with Transparency expressed in bytes should be converted to RGBA images\n",
            "  \"Palette images with Transparency expressed in bytes should be \"\n",
            "[19/19] Loss_D: 0.9510 Loss_G: 0.0079 D(x): 0.9026 D(G(z)): 0.8517:  13% 87/667 [00:50<03:54,  2.47it/s]/usr/local/lib/python3.6/dist-packages/PIL/Image.py:932: UserWarning: Palette images with Transparency expressed in bytes should be converted to RGBA images\n",
            "  \"Palette images with Transparency expressed in bytes should be \"\n",
            "[19/19] Loss_D: 0.9511 Loss_G: 0.0079 D(x): 0.9028 D(G(z)): 0.8521:  18% 117/667 [01:08<04:02,  2.27it/s]/usr/local/lib/python3.6/dist-packages/PIL/TiffImagePlugin.py:788: UserWarning: Corrupt EXIF data.  Expecting to read 4 bytes but only got 0. \n",
            "  warnings.warn(str(msg))\n",
            "[19/19] Loss_D: 0.9513 Loss_G: 0.0079 D(x): 0.9031 D(G(z)): 0.8525:  23% 156/667 [01:30<05:08,  1.66it/s]/usr/local/lib/python3.6/dist-packages/PIL/Image.py:932: UserWarning: Palette images with Transparency expressed in bytes should be converted to RGBA images\n",
            "  \"Palette images with Transparency expressed in bytes should be \"\n",
            "[19/19] Loss_D: 0.9533 Loss_G: 0.0079 D(x): 0.9070 D(G(z)): 0.8585: 100% 667/667 [06:14<00:00,  1.78it/s]\n",
            "[converting LR images to SR images] PSNR: 23.8667 dB SSIM: 0.7994:   7% 30/436 [00:07<00:48,  8.45it/s]/usr/local/lib/python3.6/dist-packages/PIL/Image.py:932: UserWarning: Palette images with Transparency expressed in bytes should be converted to RGBA images\n",
            "  \"Palette images with Transparency expressed in bytes should be \"\n",
            "[converting LR images to SR images] PSNR: 24.2758 dB SSIM: 0.8005:  96% 417/436 [01:08<00:01, 14.26it/s]/usr/local/lib/python3.6/dist-packages/PIL/Image.py:932: UserWarning: Palette images with Transparency expressed in bytes should be converted to RGBA images\n",
            "  \"Palette images with Transparency expressed in bytes should be \"\n",
            "[converting LR images to SR images] PSNR: 24.2845 dB SSIM: 0.7994: 100% 436/436 [01:10<00:00,  6.20it/s]\n",
            "[saving training results]: 100% 8/8 [00:05<00:00,  1.56it/s]\n",
            "[20/20] Loss_D: 0.9534 Loss_G: 0.0079 D(x): 0.9072 D(G(z)): 0.8587:   3% 23/667 [00:16<07:42,  1.39it/s]/usr/local/lib/python3.6/dist-packages/PIL/Image.py:932: UserWarning: Palette images with Transparency expressed in bytes should be converted to RGBA images\n",
            "  \"Palette images with Transparency expressed in bytes should be \"\n",
            "[20/20] Loss_D: 0.9535 Loss_G: 0.0079 D(x): 0.9074 D(G(z)): 0.8590:   7% 50/667 [00:33<07:19,  1.40it/s]/usr/local/lib/python3.6/dist-packages/PIL/Image.py:932: UserWarning: Palette images with Transparency expressed in bytes should be converted to RGBA images\n",
            "  \"Palette images with Transparency expressed in bytes should be \"\n",
            "[20/20] Loss_D: 0.9535 Loss_G: 0.0079 D(x): 0.9075 D(G(z)): 0.8592:  10% 66/667 [00:43<04:02,  2.47it/s]/usr/local/lib/python3.6/dist-packages/PIL/Image.py:932: UserWarning: Palette images with Transparency expressed in bytes should be converted to RGBA images\n",
            "  \"Palette images with Transparency expressed in bytes should be \"\n",
            "[20/20] Loss_D: 0.9537 Loss_G: 0.0079 D(x): 0.9079 D(G(z)): 0.8597:  17% 113/667 [01:08<05:38,  1.64it/s]/usr/local/lib/python3.6/dist-packages/PIL/Image.py:932: UserWarning: Palette images with Transparency expressed in bytes should be converted to RGBA images\n",
            "  \"Palette images with Transparency expressed in bytes should be \"\n",
            "[20/20] Loss_D: 0.9543 Loss_G: 0.0078 D(x): 0.9091 D(G(z)): 0.8617:  44% 293/667 [02:43<03:12,  1.95it/s]/usr/local/lib/python3.6/dist-packages/PIL/TiffImagePlugin.py:788: UserWarning: Corrupt EXIF data.  Expecting to read 4 bytes but only got 0. \n",
            "  warnings.warn(str(msg))\n",
            "[20/20] Loss_D: 0.9556 Loss_G: 0.0078 D(x): 0.9117 D(G(z)): 0.8656: 100% 667/667 [06:08<00:00,  1.81it/s]\n",
            "[converting LR images to SR images] PSNR: 23.4421 dB SSIM: 0.7961:   7% 30/436 [00:07<00:47,  8.60it/s]/usr/local/lib/python3.6/dist-packages/PIL/Image.py:932: UserWarning: Palette images with Transparency expressed in bytes should be converted to RGBA images\n",
            "  \"Palette images with Transparency expressed in bytes should be \"\n",
            "[converting LR images to SR images] PSNR: 24.0013 dB SSIM: 0.7972:  96% 418/436 [01:08<00:01, 14.31it/s]/usr/local/lib/python3.6/dist-packages/PIL/Image.py:932: UserWarning: Palette images with Transparency expressed in bytes should be converted to RGBA images\n",
            "  \"Palette images with Transparency expressed in bytes should be \"\n",
            "[converting LR images to SR images] PSNR: 24.0118 dB SSIM: 0.7964: 100% 436/436 [01:09<00:00,  6.25it/s]\n",
            "[saving training results]: 100% 8/8 [00:05<00:00,  1.53it/s]\n",
            "[21/21] Loss_D: 0.9557 Loss_G: 0.0078 D(x): 0.9118 D(G(z)): 0.8657:   2% 16/667 [00:12<05:12,  2.08it/s]/usr/local/lib/python3.6/dist-packages/PIL/Image.py:932: UserWarning: Palette images with Transparency expressed in bytes should be converted to RGBA images\n",
            "  \"Palette images with Transparency expressed in bytes should be \"\n",
            "[21/21] Loss_D: 0.9557 Loss_G: 0.0078 D(x): 0.9120 D(G(z)): 0.8660:   6% 41/667 [00:24<05:03,  2.06it/s]/usr/local/lib/python3.6/dist-packages/PIL/Image.py:932: UserWarning: Palette images with Transparency expressed in bytes should be converted to RGBA images\n",
            "  \"Palette images with Transparency expressed in bytes should be \"\n",
            "[21/21] Loss_D: 0.9558 Loss_G: 0.0078 D(x): 0.9121 D(G(z)): 0.8662:  10% 65/667 [00:39<07:02,  1.43it/s]/usr/local/lib/python3.6/dist-packages/PIL/TiffImagePlugin.py:788: UserWarning: Corrupt EXIF data.  Expecting to read 4 bytes but only got 0. \n",
            "  warnings.warn(str(msg))\n",
            "[21/21] Loss_D: 0.9558 Loss_G: 0.0078 D(x): 0.9121 D(G(z)): 0.8663:  10% 69/667 [00:42<05:49,  1.71it/s]/usr/local/lib/python3.6/dist-packages/PIL/Image.py:932: UserWarning: Palette images with Transparency expressed in bytes should be converted to RGBA images\n",
            "  \"Palette images with Transparency expressed in bytes should be \"\n",
            "[21/21] Loss_D: 0.9561 Loss_G: 0.0078 D(x): 0.9127 D(G(z)): 0.8670:  22% 146/667 [01:24<04:56,  1.76it/s]/usr/local/lib/python3.6/dist-packages/PIL/Image.py:932: UserWarning: Palette images with Transparency expressed in bytes should be converted to RGBA images\n",
            "  \"Palette images with Transparency expressed in bytes should be \"\n",
            "[21/21] Loss_D: 0.9577 Loss_G: 0.0077 D(x): 0.9159 D(G(z)): 0.8720: 100% 667/667 [06:13<00:00,  1.79it/s]\n",
            "[converting LR images to SR images] PSNR: 22.9433 dB SSIM: 0.7993:   7% 30/436 [00:07<00:48,  8.34it/s]/usr/local/lib/python3.6/dist-packages/PIL/Image.py:932: UserWarning: Palette images with Transparency expressed in bytes should be converted to RGBA images\n",
            "  \"Palette images with Transparency expressed in bytes should be \"\n",
            "[converting LR images to SR images] PSNR: 23.3447 dB SSIM: 0.8015:  96% 417/436 [01:08<00:01, 13.94it/s]/usr/local/lib/python3.6/dist-packages/PIL/Image.py:932: UserWarning: Palette images with Transparency expressed in bytes should be converted to RGBA images\n",
            "  \"Palette images with Transparency expressed in bytes should be \"\n",
            "[converting LR images to SR images] PSNR: 23.3527 dB SSIM: 0.8005: 100% 436/436 [01:10<00:00,  6.20it/s]\n",
            "[saving training results]: 100% 8/8 [00:05<00:00,  1.53it/s]\n",
            "[22/22] Loss_D: 0.9578 Loss_G: 0.0077 D(x): 0.9160 D(G(z)): 0.8721:   2% 12/667 [00:07<05:53,  1.85it/s]/usr/local/lib/python3.6/dist-packages/PIL/Image.py:932: UserWarning: Palette images with Transparency expressed in bytes should be converted to RGBA images\n",
            "  \"Palette images with Transparency expressed in bytes should be \"\n",
            "[22/22] Loss_D: 0.9578 Loss_G: 0.0077 D(x): 0.9161 D(G(z)): 0.8723:   6% 37/667 [00:20<04:52,  2.16it/s]/usr/local/lib/python3.6/dist-packages/PIL/Image.py:932: UserWarning: Palette images with Transparency expressed in bytes should be converted to RGBA images\n",
            "  \"Palette images with Transparency expressed in bytes should be \"\n",
            "[22/22] Loss_D: 0.9579 Loss_G: 0.0077 D(x): 0.9163 D(G(z)): 0.8725:   9% 63/667 [00:34<05:06,  1.97it/s]/usr/local/lib/python3.6/dist-packages/PIL/TiffImagePlugin.py:788: UserWarning: Corrupt EXIF data.  Expecting to read 4 bytes but only got 0. \n",
            "  warnings.warn(str(msg))\n",
            "[22/22] Loss_D: 0.9579 Loss_G: 0.0077 D(x): 0.9163 D(G(z)): 0.8726:  11% 74/667 [00:42<10:31,  1.07s/it]/usr/local/lib/python3.6/dist-packages/PIL/Image.py:932: UserWarning: Palette images with Transparency expressed in bytes should be converted to RGBA images\n",
            "  \"Palette images with Transparency expressed in bytes should be \"\n",
            "[22/22] Loss_D: 0.9586 Loss_G: 0.0077 D(x): 0.9177 D(G(z)): 0.8747:  46% 310/667 [02:50<03:00,  1.98it/s]/usr/local/lib/python3.6/dist-packages/PIL/Image.py:932: UserWarning: Palette images with Transparency expressed in bytes should be converted to RGBA images\n",
            "  \"Palette images with Transparency expressed in bytes should be \"\n",
            "[22/22] Loss_D: 0.9596 Loss_G: 0.0077 D(x): 0.9197 D(G(z)): 0.8778: 100% 667/667 [06:15<00:00,  1.78it/s]\n",
            "[converting LR images to SR images] PSNR: 23.7773 dB SSIM: 0.8018:   7% 30/436 [00:07<00:48,  8.39it/s]/usr/local/lib/python3.6/dist-packages/PIL/Image.py:932: UserWarning: Palette images with Transparency expressed in bytes should be converted to RGBA images\n",
            "  \"Palette images with Transparency expressed in bytes should be \"\n",
            "[converting LR images to SR images] PSNR: 24.1808 dB SSIM: 0.8037:  96% 417/436 [01:08<00:01, 13.97it/s]/usr/local/lib/python3.6/dist-packages/PIL/Image.py:932: UserWarning: Palette images with Transparency expressed in bytes should be converted to RGBA images\n",
            "  \"Palette images with Transparency expressed in bytes should be \"\n",
            "[converting LR images to SR images] PSNR: 24.1835 dB SSIM: 0.8024: 100% 436/436 [01:10<00:00,  6.21it/s]\n",
            "[saving training results]: 100% 8/8 [00:05<00:00,  1.55it/s]\n",
            "[23/23] Loss_D: 0.9597 Loss_G: 0.0077 D(x): 0.9198 D(G(z)): 0.8779:   3% 18/667 [00:11<05:10,  2.09it/s]/usr/local/lib/python3.6/dist-packages/PIL/Image.py:932: UserWarning: Palette images with Transparency expressed in bytes should be converted to RGBA images\n",
            "  \"Palette images with Transparency expressed in bytes should be \"\n",
            "[23/23] Loss_D: 0.9598 Loss_G: 0.0077 D(x): 0.9201 D(G(z)): 0.8783:  10% 64/667 [00:36<05:52,  1.71it/s]/usr/local/lib/python3.6/dist-packages/PIL/Image.py:932: UserWarning: Palette images with Transparency expressed in bytes should be converted to RGBA images\n",
            "  \"Palette images with Transparency expressed in bytes should be \"\n",
            "[23/23] Loss_D: 0.9599 Loss_G: 0.0077 D(x): 0.9202 D(G(z)): 0.8785:  12% 80/667 [00:45<08:32,  1.14it/s]/usr/local/lib/python3.6/dist-packages/PIL/Image.py:932: UserWarning: Palette images with Transparency expressed in bytes should be converted to RGBA images\n",
            "  \"Palette images with Transparency expressed in bytes should be \"\n",
            "[23/23] Loss_D: 0.9599 Loss_G: 0.0077 D(x): 0.9202 D(G(z)): 0.8786:  14% 96/667 [00:54<04:57,  1.92it/s]/usr/local/lib/python3.6/dist-packages/PIL/TiffImagePlugin.py:788: UserWarning: Corrupt EXIF data.  Expecting to read 4 bytes but only got 0. \n",
            "  warnings.warn(str(msg))\n",
            "[23/23] Loss_D: 0.9603 Loss_G: 0.0077 D(x): 0.9210 D(G(z)): 0.8797:  35% 236/667 [02:14<06:18,  1.14it/s]/usr/local/lib/python3.6/dist-packages/PIL/Image.py:932: UserWarning: Palette images with Transparency expressed in bytes should be converted to RGBA images\n",
            "  \"Palette images with Transparency expressed in bytes should be \"\n",
            "[23/23] Loss_D: 0.9614 Loss_G: 0.0076 D(x): 0.9173 D(G(z)): 0.8772: 100% 667/667 [06:13<00:00,  1.79it/s]\n",
            "[converting LR images to SR images] PSNR: 23.8469 dB SSIM: 0.8017:   7% 30/436 [00:07<00:46,  8.70it/s]/usr/local/lib/python3.6/dist-packages/PIL/Image.py:932: UserWarning: Palette images with Transparency expressed in bytes should be converted to RGBA images\n",
            "  \"Palette images with Transparency expressed in bytes should be \"\n",
            "[converting LR images to SR images] PSNR: 24.2733 dB SSIM: 0.8016:  96% 418/436 [01:08<00:01, 13.83it/s]/usr/local/lib/python3.6/dist-packages/PIL/Image.py:932: UserWarning: Palette images with Transparency expressed in bytes should be converted to RGBA images\n",
            "  \"Palette images with Transparency expressed in bytes should be \"\n",
            "[converting LR images to SR images] PSNR: 24.2802 dB SSIM: 0.8008: 100% 436/436 [01:10<00:00,  6.20it/s]\n",
            "[saving training results]: 100% 8/8 [00:05<00:00,  1.52it/s]\n",
            "  0% 0/667 [00:00<?, ?it/s]/usr/local/lib/python3.6/dist-packages/PIL/Image.py:932: UserWarning: Palette images with Transparency expressed in bytes should be converted to RGBA images\n",
            "  \"Palette images with Transparency expressed in bytes should be \"\n",
            "[24/24] Loss_D: 0.9615 Loss_G: 0.0076 D(x): 0.9169 D(G(z)): 0.8769:   6% 41/667 [00:27<04:15,  2.45it/s]/usr/local/lib/python3.6/dist-packages/PIL/Image.py:932: UserWarning: Palette images with Transparency expressed in bytes should be converted to RGBA images\n",
            "  \"Palette images with Transparency expressed in bytes should be \"\n",
            "[24/24] Loss_D: 0.9619 Loss_G: 0.0076 D(x): 0.9159 D(G(z)): 0.8762:  26% 176/667 [01:41<03:10,  2.58it/s]/usr/local/lib/python3.6/dist-packages/PIL/Image.py:932: UserWarning: Palette images with Transparency expressed in bytes should be converted to RGBA images\n",
            "  \"Palette images with Transparency expressed in bytes should be \"\n",
            "[24/24] Loss_D: 0.9619 Loss_G: 0.0076 D(x): 0.9158 D(G(z)): 0.8762:  28% 186/667 [01:46<03:53,  2.06it/s]/usr/local/lib/python3.6/dist-packages/PIL/Image.py:932: UserWarning: Palette images with Transparency expressed in bytes should be converted to RGBA images\n",
            "  \"Palette images with Transparency expressed in bytes should be \"\n",
            "[24/24] Loss_D: 0.9626 Loss_G: 0.0076 D(x): 0.9133 D(G(z)): 0.8743:  69% 461/667 [04:20<02:00,  1.71it/s]/usr/local/lib/python3.6/dist-packages/PIL/TiffImagePlugin.py:788: UserWarning: Corrupt EXIF data.  Expecting to read 4 bytes but only got 0. \n",
            "  warnings.warn(str(msg))\n",
            "[24/24] Loss_D: 0.9630 Loss_G: 0.0076 D(x): 0.9117 D(G(z)): 0.8732: 100% 667/667 [06:12<00:00,  1.79it/s]\n",
            "[converting LR images to SR images] PSNR: 23.8695 dB SSIM: 0.8023:   7% 30/436 [00:07<00:50,  8.01it/s]/usr/local/lib/python3.6/dist-packages/PIL/Image.py:932: UserWarning: Palette images with Transparency expressed in bytes should be converted to RGBA images\n",
            "  \"Palette images with Transparency expressed in bytes should be \"\n",
            "[converting LR images to SR images] PSNR: 24.3441 dB SSIM: 0.8049:  96% 418/436 [01:08<00:01, 14.22it/s]/usr/local/lib/python3.6/dist-packages/PIL/Image.py:932: UserWarning: Palette images with Transparency expressed in bytes should be converted to RGBA images\n",
            "  \"Palette images with Transparency expressed in bytes should be \"\n",
            "[converting LR images to SR images] PSNR: 24.3508 dB SSIM: 0.8037: 100% 436/436 [01:10<00:00,  6.23it/s]\n",
            "[saving training results]: 100% 8/8 [00:05<00:00,  1.56it/s]\n",
            "[25/25] Loss_D: 0.9631 Loss_G: 0.0076 D(x): 0.9115 D(G(z)): 0.8731:   4% 24/667 [00:15<09:46,  1.10it/s]/usr/local/lib/python3.6/dist-packages/PIL/Image.py:932: UserWarning: Palette images with Transparency expressed in bytes should be converted to RGBA images\n",
            "  \"Palette images with Transparency expressed in bytes should be \"\n",
            "[25/25] Loss_D: 0.9631 Loss_G: 0.0076 D(x): 0.9114 D(G(z)): 0.8731:   6% 38/667 [00:23<04:18,  2.43it/s]/usr/local/lib/python3.6/dist-packages/PIL/TiffImagePlugin.py:788: UserWarning: Corrupt EXIF data.  Expecting to read 4 bytes but only got 0. \n",
            "  warnings.warn(str(msg))\n",
            "[25/25] Loss_D: 0.9632 Loss_G: 0.0076 D(x): 0.9112 D(G(z)): 0.8729:  12% 82/667 [00:49<05:17,  1.84it/s]/usr/local/lib/python3.6/dist-packages/PIL/Image.py:932: UserWarning: Palette images with Transparency expressed in bytes should be converted to RGBA images\n",
            "  \"Palette images with Transparency expressed in bytes should be \"\n",
            "[25/25] Loss_D: 0.9632 Loss_G: 0.0076 D(x): 0.9111 D(G(z)): 0.8729:  13% 84/667 [00:50<04:29,  2.16it/s]/usr/local/lib/python3.6/dist-packages/PIL/Image.py:932: UserWarning: Palette images with Transparency expressed in bytes should be converted to RGBA images\n",
            "  \"Palette images with Transparency expressed in bytes should be \"\n",
            "[25/25] Loss_D: 0.9640 Loss_G: 0.0076 D(x): 0.9107 D(G(z)): 0.8733:  63% 421/667 [03:53<02:19,  1.77it/s]/usr/local/lib/python3.6/dist-packages/PIL/Image.py:932: UserWarning: Palette images with Transparency expressed in bytes should be converted to RGBA images\n",
            "  \"Palette images with Transparency expressed in bytes should be \"\n",
            "[25/25] Loss_D: 0.9645 Loss_G: 0.0076 D(x): 0.9120 D(G(z)): 0.8751: 100% 667/667 [06:11<00:00,  1.79it/s]\n",
            "[converting LR images to SR images] PSNR: 24.2054 dB SSIM: 0.8070:   7% 30/436 [00:07<00:48,  8.29it/s]/usr/local/lib/python3.6/dist-packages/PIL/Image.py:932: UserWarning: Palette images with Transparency expressed in bytes should be converted to RGBA images\n",
            "  \"Palette images with Transparency expressed in bytes should be \"\n",
            "[converting LR images to SR images] PSNR: 24.6360 dB SSIM: 0.8091:  96% 417/436 [01:08<00:01, 14.31it/s]/usr/local/lib/python3.6/dist-packages/PIL/Image.py:932: UserWarning: Palette images with Transparency expressed in bytes should be converted to RGBA images\n",
            "  \"Palette images with Transparency expressed in bytes should be \"\n",
            "[converting LR images to SR images] PSNR: 24.6422 dB SSIM: 0.8079: 100% 436/436 [01:10<00:00,  6.21it/s]\n",
            "[saving training results]: 100% 8/8 [00:05<00:00,  1.53it/s]\n",
            "[26/26] Loss_D: 0.9646 Loss_G: 0.0076 D(x): 0.9122 D(G(z)): 0.8753:   4% 28/667 [00:16<06:49,  1.56it/s]/usr/local/lib/python3.6/dist-packages/PIL/Image.py:932: UserWarning: Palette images with Transparency expressed in bytes should be converted to RGBA images\n",
            "  \"Palette images with Transparency expressed in bytes should be \"\n",
            "[26/26] Loss_D: 0.9648 Loss_G: 0.0076 D(x): 0.9126 D(G(z)): 0.8759:  16% 108/667 [01:06<03:44,  2.49it/s]/usr/local/lib/python3.6/dist-packages/PIL/Image.py:932: UserWarning: Palette images with Transparency expressed in bytes should be converted to RGBA images\n",
            "  \"Palette images with Transparency expressed in bytes should be \"\n",
            "[26/26] Loss_D: 0.9648 Loss_G: 0.0076 D(x): 0.9127 D(G(z)): 0.8760:  18% 120/667 [01:11<03:20,  2.72it/s]/usr/local/lib/python3.6/dist-packages/PIL/Image.py:932: UserWarning: Palette images with Transparency expressed in bytes should be converted to RGBA images\n",
            "  \"Palette images with Transparency expressed in bytes should be \"\n",
            "[26/26] Loss_D: 0.9649 Loss_G: 0.0076 D(x): 0.9129 D(G(z)): 0.8764:  26% 174/667 [01:42<03:52,  2.12it/s]/usr/local/lib/python3.6/dist-packages/PIL/Image.py:932: UserWarning: Palette images with Transparency expressed in bytes should be converted to RGBA images\n",
            "  \"Palette images with Transparency expressed in bytes should be \"\n",
            "[26/26] Loss_D: 0.9654 Loss_G: 0.0075 D(x): 0.9141 D(G(z)): 0.8780:  59% 393/667 [03:38<02:11,  2.08it/s]/usr/local/lib/python3.6/dist-packages/PIL/TiffImagePlugin.py:788: UserWarning: Corrupt EXIF data.  Expecting to read 4 bytes but only got 0. \n",
            "  warnings.warn(str(msg))\n",
            "[26/26] Loss_D: 0.9659 Loss_G: 0.0075 D(x): 0.9154 D(G(z)): 0.8799: 100% 667/667 [06:13<00:00,  1.79it/s]\n",
            "[converting LR images to SR images] PSNR: 23.7191 dB SSIM: 0.8043:   7% 30/436 [00:07<00:50,  8.05it/s]/usr/local/lib/python3.6/dist-packages/PIL/Image.py:932: UserWarning: Palette images with Transparency expressed in bytes should be converted to RGBA images\n",
            "  \"Palette images with Transparency expressed in bytes should be \"\n",
            "[converting LR images to SR images] PSNR: 24.1333 dB SSIM: 0.8059:  96% 417/436 [01:08<00:01, 13.90it/s]/usr/local/lib/python3.6/dist-packages/PIL/Image.py:932: UserWarning: Palette images with Transparency expressed in bytes should be converted to RGBA images\n",
            "  \"Palette images with Transparency expressed in bytes should be \"\n",
            "[converting LR images to SR images] PSNR: 24.1439 dB SSIM: 0.8048: 100% 436/436 [01:09<00:00,  6.24it/s]\n",
            "[saving training results]: 100% 8/8 [00:05<00:00,  1.53it/s]\n",
            "[27/27] Loss_D: 0.9659 Loss_G: 0.0075 D(x): 0.9155 D(G(z)): 0.8800:   2% 14/667 [00:09<05:22,  2.03it/s]/usr/local/lib/python3.6/dist-packages/PIL/Image.py:932: UserWarning: Palette images with Transparency expressed in bytes should be converted to RGBA images\n",
            "  \"Palette images with Transparency expressed in bytes should be \"\n",
            "[27/27] Loss_D: 0.9660 Loss_G: 0.0075 D(x): 0.9156 D(G(z)): 0.8802:   5% 35/667 [00:23<06:27,  1.63it/s]/usr/local/lib/python3.6/dist-packages/PIL/Image.py:932: UserWarning: Palette images with Transparency expressed in bytes should be converted to RGBA images\n",
            "  \"Palette images with Transparency expressed in bytes should be \"\n",
            "[27/27] Loss_D: 0.9661 Loss_G: 0.0075 D(x): 0.9159 D(G(z)): 0.8805:  13% 90/667 [01:00<05:30,  1.75it/s]/usr/local/lib/python3.6/dist-packages/PIL/Image.py:932: UserWarning: Palette images with Transparency expressed in bytes should be converted to RGBA images\n",
            "  \"Palette images with Transparency expressed in bytes should be \"\n",
            "[27/27] Loss_D: 0.9662 Loss_G: 0.0075 D(x): 0.9161 D(G(z)): 0.8808:  20% 131/667 [01:20<04:17,  2.08it/s]/usr/local/lib/python3.6/dist-packages/PIL/Image.py:932: UserWarning: Palette images with Transparency expressed in bytes should be converted to RGBA images\n",
            "  \"Palette images with Transparency expressed in bytes should be \"\n",
            "[27/27] Loss_D: 0.9668 Loss_G: 0.0075 D(x): 0.9175 D(G(z)): 0.8829:  66% 443/667 [04:12<01:54,  1.96it/s]/usr/local/lib/python3.6/dist-packages/PIL/TiffImagePlugin.py:788: UserWarning: Corrupt EXIF data.  Expecting to read 4 bytes but only got 0. \n",
            "  warnings.warn(str(msg))\n",
            "[27/27] Loss_D: 0.9672 Loss_G: 0.0075 D(x): 0.9186 D(G(z)): 0.8844: 100% 667/667 [06:16<00:00,  1.77it/s]\n",
            "[converting LR images to SR images] PSNR: 24.1730 dB SSIM: 0.8066:   7% 30/436 [00:07<00:51,  7.89it/s]/usr/local/lib/python3.6/dist-packages/PIL/Image.py:932: UserWarning: Palette images with Transparency expressed in bytes should be converted to RGBA images\n",
            "  \"Palette images with Transparency expressed in bytes should be \"\n",
            "[converting LR images to SR images] PSNR: 24.5717 dB SSIM: 0.8075:  96% 418/436 [01:09<00:01, 14.36it/s]/usr/local/lib/python3.6/dist-packages/PIL/Image.py:932: UserWarning: Palette images with Transparency expressed in bytes should be converted to RGBA images\n",
            "  \"Palette images with Transparency expressed in bytes should be \"\n",
            "[converting LR images to SR images] PSNR: 24.5786 dB SSIM: 0.8066: 100% 436/436 [01:10<00:00,  6.16it/s]\n",
            "[saving training results]: 100% 8/8 [00:05<00:00,  1.52it/s]\n",
            "[28/28] Loss_D: 0.9672 Loss_G: 0.0075 D(x): 0.9186 D(G(z)): 0.8844:   1% 10/667 [00:05<05:00,  2.19it/s]/usr/local/lib/python3.6/dist-packages/PIL/Image.py:932: UserWarning: Palette images with Transparency expressed in bytes should be converted to RGBA images\n",
            "  \"Palette images with Transparency expressed in bytes should be \"\n",
            "[28/28] Loss_D: 0.9673 Loss_G: 0.0075 D(x): 0.9188 D(G(z)): 0.8848:  10% 64/667 [00:34<04:28,  2.25it/s]/usr/local/lib/python3.6/dist-packages/PIL/Image.py:932: UserWarning: Palette images with Transparency expressed in bytes should be converted to RGBA images\n",
            "  \"Palette images with Transparency expressed in bytes should be \"\n",
            "[28/28] Loss_D: 0.9673 Loss_G: 0.0075 D(x): 0.9190 D(G(z)): 0.8850:  14% 91/667 [00:50<04:23,  2.18it/s]/usr/local/lib/python3.6/dist-packages/PIL/Image.py:932: UserWarning: Palette images with Transparency expressed in bytes should be converted to RGBA images\n",
            "  \"Palette images with Transparency expressed in bytes should be \"\n",
            "[28/28] Loss_D: 0.9678 Loss_G: 0.0075 D(x): 0.9201 D(G(z)): 0.8866:  53% 353/667 [03:13<02:26,  2.15it/s]/usr/local/lib/python3.6/dist-packages/PIL/TiffImagePlugin.py:788: UserWarning: Corrupt EXIF data.  Expecting to read 4 bytes but only got 0. \n",
            "  warnings.warn(str(msg))\n",
            "[28/28] Loss_D: 0.9679 Loss_G: 0.0075 D(x): 0.9203 D(G(z)): 0.8869:  59% 395/667 [03:37<02:37,  1.73it/s]/usr/local/lib/python3.6/dist-packages/PIL/Image.py:932: UserWarning: Palette images with Transparency expressed in bytes should be converted to RGBA images\n",
            "  \"Palette images with Transparency expressed in bytes should be \"\n",
            "[28/28] Loss_D: 0.9683 Loss_G: 0.0074 D(x): 0.9215 D(G(z)): 0.8885: 100% 667/667 [06:12<00:00,  1.79it/s]\n",
            "[converting LR images to SR images] PSNR: 24.0111 dB SSIM: 0.8036:   7% 30/436 [00:07<00:49,  8.20it/s]/usr/local/lib/python3.6/dist-packages/PIL/Image.py:932: UserWarning: Palette images with Transparency expressed in bytes should be converted to RGBA images\n",
            "  \"Palette images with Transparency expressed in bytes should be \"\n",
            "[converting LR images to SR images] PSNR: 24.4227 dB SSIM: 0.8058:  96% 418/436 [01:08<00:01, 14.63it/s]/usr/local/lib/python3.6/dist-packages/PIL/Image.py:932: UserWarning: Palette images with Transparency expressed in bytes should be converted to RGBA images\n",
            "  \"Palette images with Transparency expressed in bytes should be \"\n",
            "[converting LR images to SR images] PSNR: 24.4299 dB SSIM: 0.8046: 100% 436/436 [01:10<00:00,  6.21it/s]\n",
            "[saving training results]: 100% 8/8 [00:05<00:00,  1.55it/s]\n",
            "[29/29] Loss_D: 0.9684 Loss_G: 0.0074 D(x): 0.9215 D(G(z)): 0.8886:   1% 10/667 [00:08<06:01,  1.82it/s]/usr/local/lib/python3.6/dist-packages/PIL/Image.py:932: UserWarning: Palette images with Transparency expressed in bytes should be converted to RGBA images\n",
            "  \"Palette images with Transparency expressed in bytes should be \"\n",
            "[29/29] Loss_D: 0.9684 Loss_G: 0.0074 D(x): 0.9216 D(G(z)): 0.8887:   4% 30/667 [00:23<06:56,  1.53it/s]/usr/local/lib/python3.6/dist-packages/PIL/Image.py:932: UserWarning: Palette images with Transparency expressed in bytes should be converted to RGBA images\n",
            "  \"Palette images with Transparency expressed in bytes should be \"\n",
            "/usr/local/lib/python3.6/dist-packages/PIL/Image.py:932: UserWarning: Palette images with Transparency expressed in bytes should be converted to RGBA images\n",
            "  \"Palette images with Transparency expressed in bytes should be \"\n",
            "[29/29] Loss_D: 0.9685 Loss_G: 0.0074 D(x): 0.9218 D(G(z)): 0.8890:  13% 84/667 [00:52<04:12,  2.31it/s]/usr/local/lib/python3.6/dist-packages/PIL/Image.py:932: UserWarning: Palette images with Transparency expressed in bytes should be converted to RGBA images\n",
            "  \"Palette images with Transparency expressed in bytes should be \"\n",
            "[29/29] Loss_D: 0.9691 Loss_G: 0.0074 D(x): 0.9234 D(G(z)): 0.8913:  71% 476/667 [04:25<02:24,  1.32it/s]/usr/local/lib/python3.6/dist-packages/PIL/TiffImagePlugin.py:788: UserWarning: Corrupt EXIF data.  Expecting to read 4 bytes but only got 0. \n",
            "  warnings.warn(str(msg))\n",
            "[29/29] Loss_D: 0.9694 Loss_G: 0.0074 D(x): 0.9242 D(G(z)): 0.8923: 100% 667/667 [06:13<00:00,  1.79it/s]\n",
            "[converting LR images to SR images] PSNR: 24.1280 dB SSIM: 0.8046:   7% 30/436 [00:07<00:51,  7.87it/s]/usr/local/lib/python3.6/dist-packages/PIL/Image.py:932: UserWarning: Palette images with Transparency expressed in bytes should be converted to RGBA images\n",
            "  \"Palette images with Transparency expressed in bytes should be \"\n",
            "[converting LR images to SR images] PSNR: 24.5459 dB SSIM: 0.8061:  96% 418/436 [01:08<00:01, 14.46it/s]/usr/local/lib/python3.6/dist-packages/PIL/Image.py:932: UserWarning: Palette images with Transparency expressed in bytes should be converted to RGBA images\n",
            "  \"Palette images with Transparency expressed in bytes should be \"\n",
            "[converting LR images to SR images] PSNR: 24.5527 dB SSIM: 0.8048: 100% 436/436 [01:10<00:00,  6.22it/s]\n",
            "[saving training results]: 100% 8/8 [00:05<00:00,  1.51it/s]\n",
            "[30/30] Loss_D: 0.9694 Loss_G: 0.0074 D(x): 0.9242 D(G(z)): 0.8924:   0% 3/667 [00:04<19:56,  1.80s/it]/usr/local/lib/python3.6/dist-packages/PIL/Image.py:932: UserWarning: Palette images with Transparency expressed in bytes should be converted to RGBA images\n",
            "  \"Palette images with Transparency expressed in bytes should be \"\n",
            "[30/30] Loss_D: 0.9695 Loss_G: 0.0074 D(x): 0.9244 D(G(z)): 0.8927:   9% 57/667 [00:32<04:23,  2.31it/s]/usr/local/lib/python3.6/dist-packages/PIL/Image.py:932: UserWarning: Palette images with Transparency expressed in bytes should be converted to RGBA images\n",
            "  \"Palette images with Transparency expressed in bytes should be \"\n",
            "[30/30] Loss_D: 0.9696 Loss_G: 0.0074 D(x): 0.9246 D(G(z)): 0.8929:  16% 108/667 [00:59<03:29,  2.67it/s]/usr/local/lib/python3.6/dist-packages/PIL/Image.py:932: UserWarning: Palette images with Transparency expressed in bytes should be converted to RGBA images\n",
            "  \"Palette images with Transparency expressed in bytes should be \"\n",
            "[30/30] Loss_D: 0.9699 Loss_G: 0.0074 D(x): 0.9254 D(G(z)): 0.8941:  48% 321/667 [03:00<02:31,  2.28it/s]/usr/local/lib/python3.6/dist-packages/PIL/Image.py:932: UserWarning: Palette images with Transparency expressed in bytes should be converted to RGBA images\n",
            "  \"Palette images with Transparency expressed in bytes should be \"\n",
            "[30/30] Loss_D: 0.9701 Loss_G: 0.0074 D(x): 0.9258 D(G(z)): 0.8946:  62% 416/667 [03:48<02:11,  1.90it/s]/usr/local/lib/python3.6/dist-packages/PIL/TiffImagePlugin.py:788: UserWarning: Corrupt EXIF data.  Expecting to read 4 bytes but only got 0. \n",
            "  warnings.warn(str(msg))\n",
            "[30/30] Loss_D: 0.9705 Loss_G: 0.0074 D(x): 0.9267 D(G(z)): 0.8959: 100% 667/667 [06:10<00:00,  1.80it/s]\n",
            "[converting LR images to SR images] PSNR: 24.1915 dB SSIM: 0.8080:   7% 30/436 [00:07<00:48,  8.30it/s]/usr/local/lib/python3.6/dist-packages/PIL/Image.py:932: UserWarning: Palette images with Transparency expressed in bytes should be converted to RGBA images\n",
            "  \"Palette images with Transparency expressed in bytes should be \"\n",
            "[converting LR images to SR images] PSNR: 24.5957 dB SSIM: 0.8100:  96% 418/436 [01:08<00:01, 14.94it/s]/usr/local/lib/python3.6/dist-packages/PIL/Image.py:932: UserWarning: Palette images with Transparency expressed in bytes should be converted to RGBA images\n",
            "  \"Palette images with Transparency expressed in bytes should be \"\n",
            "[converting LR images to SR images] PSNR: 24.6015 dB SSIM: 0.8088: 100% 436/436 [01:10<00:00,  6.20it/s]\n",
            "[saving training results]: 100% 8/8 [00:05<00:00,  1.54it/s]\n",
            "[31/31] Loss_D: 0.9705 Loss_G: 0.0074 D(x): 0.9269 D(G(z)): 0.8962:   7% 45/667 [00:26<05:38,  1.84it/s]/usr/local/lib/python3.6/dist-packages/PIL/Image.py:932: UserWarning: Palette images with Transparency expressed in bytes should be converted to RGBA images\n",
            "  \"Palette images with Transparency expressed in bytes should be \"\n",
            "[31/31] Loss_D: 0.9706 Loss_G: 0.0074 D(x): 0.9270 D(G(z)): 0.8963:  12% 79/667 [00:45<05:46,  1.70it/s]/usr/local/lib/python3.6/dist-packages/PIL/TiffImagePlugin.py:788: UserWarning: Corrupt EXIF data.  Expecting to read 4 bytes but only got 0. \n",
            "  warnings.warn(str(msg))\n",
            "[31/31] Loss_D: 0.9707 Loss_G: 0.0074 D(x): 0.9274 D(G(z)): 0.8969:  29% 191/667 [01:46<03:29,  2.27it/s]/usr/local/lib/python3.6/dist-packages/PIL/Image.py:932: UserWarning: Palette images with Transparency expressed in bytes should be converted to RGBA images\n",
            "  \"Palette images with Transparency expressed in bytes should be \"\n",
            "[31/31] Loss_D: 0.9708 Loss_G: 0.0074 D(x): 0.9277 D(G(z)): 0.8973:  40% 265/667 [02:27<02:57,  2.26it/s]/usr/local/lib/python3.6/dist-packages/PIL/Image.py:932: UserWarning: Palette images with Transparency expressed in bytes should be converted to RGBA images\n",
            "  \"Palette images with Transparency expressed in bytes should be \"\n",
            "[31/31] Loss_D: 0.9709 Loss_G: 0.0074 D(x): 0.9278 D(G(z)): 0.8975:  46% 305/667 [02:54<03:04,  1.97it/s]/usr/local/lib/python3.6/dist-packages/PIL/Image.py:932: UserWarning: Palette images with Transparency expressed in bytes should be converted to RGBA images\n",
            "  \"Palette images with Transparency expressed in bytes should be \"\n",
            "[31/31] Loss_D: 0.9714 Loss_G: 0.0073 D(x): 0.9291 D(G(z)): 0.8993: 100% 667/667 [06:16<00:00,  1.77it/s]\n",
            "[converting LR images to SR images] PSNR: 24.2285 dB SSIM: 0.8074:   7% 30/436 [00:07<00:51,  7.91it/s]/usr/local/lib/python3.6/dist-packages/PIL/Image.py:932: UserWarning: Palette images with Transparency expressed in bytes should be converted to RGBA images\n",
            "  \"Palette images with Transparency expressed in bytes should be \"\n",
            "[converting LR images to SR images] PSNR: 24.6629 dB SSIM: 0.8098:  96% 417/436 [01:09<00:01, 14.03it/s]/usr/local/lib/python3.6/dist-packages/PIL/Image.py:932: UserWarning: Palette images with Transparency expressed in bytes should be converted to RGBA images\n",
            "  \"Palette images with Transparency expressed in bytes should be \"\n",
            "[converting LR images to SR images] PSNR: 24.6677 dB SSIM: 0.8088: 100% 436/436 [01:10<00:00,  6.16it/s]\n",
            "[saving training results]: 100% 8/8 [00:05<00:00,  1.56it/s]\n",
            "[32/32] Loss_D: 0.9714 Loss_G: 0.0073 D(x): 0.9291 D(G(z)): 0.8994:   2% 13/667 [00:10<06:50,  1.59it/s]/usr/local/lib/python3.6/dist-packages/PIL/Image.py:932: UserWarning: Palette images with Transparency expressed in bytes should be converted to RGBA images\n",
            "  \"Palette images with Transparency expressed in bytes should be \"\n",
            "[32/32] Loss_D: 0.9715 Loss_G: 0.0073 D(x): 0.9292 D(G(z)): 0.8995:   6% 41/667 [00:26<03:57,  2.64it/s]/usr/local/lib/python3.6/dist-packages/PIL/Image.py:932: UserWarning: Palette images with Transparency expressed in bytes should be converted to RGBA images\n",
            "  \"Palette images with Transparency expressed in bytes should be \"\n",
            "[32/32] Loss_D: 0.9715 Loss_G: 0.0073 D(x): 0.9294 D(G(z)): 0.8997:  13% 86/667 [00:51<03:47,  2.55it/s]/usr/local/lib/python3.6/dist-packages/PIL/Image.py:932: UserWarning: Palette images with Transparency expressed in bytes should be converted to RGBA images\n",
            "  \"Palette images with Transparency expressed in bytes should be \"\n",
            "[32/32] Loss_D: 0.9717 Loss_G: 0.0073 D(x): 0.9298 D(G(z)): 0.9003:  32% 213/667 [02:01<04:50,  1.56it/s]/usr/local/lib/python3.6/dist-packages/PIL/Image.py:932: UserWarning: Palette images with Transparency expressed in bytes should be converted to RGBA images\n",
            "  \"Palette images with Transparency expressed in bytes should be \"\n",
            "[32/32] Loss_D: 0.9723 Loss_G: 0.0073 D(x): 0.9312 D(G(z)): 0.9024:  97% 650/667 [06:05<00:06,  2.46it/s]/usr/local/lib/python3.6/dist-packages/PIL/TiffImagePlugin.py:788: UserWarning: Corrupt EXIF data.  Expecting to read 4 bytes but only got 0. \n",
            "  warnings.warn(str(msg))\n",
            "[32/32] Loss_D: 0.9723 Loss_G: 0.0073 D(x): 0.9313 D(G(z)): 0.9024: 100% 667/667 [06:14<00:00,  1.78it/s]\n",
            "[converting LR images to SR images] PSNR: 23.7584 dB SSIM: 0.8036:   7% 30/436 [00:07<00:42,  9.56it/s]/usr/local/lib/python3.6/dist-packages/PIL/Image.py:932: UserWarning: Palette images with Transparency expressed in bytes should be converted to RGBA images\n",
            "  \"Palette images with Transparency expressed in bytes should be \"\n",
            "[converting LR images to SR images] PSNR: 24.1861 dB SSIM: 0.8066:  96% 418/436 [01:08<00:01, 14.60it/s]/usr/local/lib/python3.6/dist-packages/PIL/Image.py:932: UserWarning: Palette images with Transparency expressed in bytes should be converted to RGBA images\n",
            "  \"Palette images with Transparency expressed in bytes should be \"\n",
            "[converting LR images to SR images] PSNR: 24.1926 dB SSIM: 0.8056: 100% 436/436 [01:10<00:00,  6.18it/s]\n",
            "[saving training results]: 100% 8/8 [00:05<00:00,  1.52it/s]\n",
            "[33/33] Loss_D: 0.9723 Loss_G: 0.0073 D(x): 0.9314 D(G(z)): 0.9026:   5% 36/667 [00:21<06:53,  1.52it/s]/usr/local/lib/python3.6/dist-packages/PIL/Image.py:932: UserWarning: Palette images with Transparency expressed in bytes should be converted to RGBA images\n",
            "  \"Palette images with Transparency expressed in bytes should be \"\n",
            "[33/33] Loss_D: 0.9725 Loss_G: 0.0073 D(x): 0.9316 D(G(z)): 0.9030:  17% 115/667 [01:07<06:10,  1.49it/s]/usr/local/lib/python3.6/dist-packages/PIL/TiffImagePlugin.py:788: UserWarning: Corrupt EXIF data.  Expecting to read 4 bytes but only got 0. \n",
            "  warnings.warn(str(msg))\n",
            "[33/33] Loss_D: 0.9725 Loss_G: 0.0073 D(x): 0.9317 D(G(z)): 0.9031:  22% 145/667 [01:23<05:07,  1.70it/s]/usr/local/lib/python3.6/dist-packages/PIL/Image.py:932: UserWarning: Palette images with Transparency expressed in bytes should be converted to RGBA images\n",
            "  \"Palette images with Transparency expressed in bytes should be \"\n",
            "[33/33] Loss_D: 0.9726 Loss_G: 0.0073 D(x): 0.9320 D(G(z)): 0.9034:  32% 212/667 [01:57<03:12,  2.37it/s]/usr/local/lib/python3.6/dist-packages/PIL/Image.py:932: UserWarning: Palette images with Transparency expressed in bytes should be converted to RGBA images\n",
            "  \"Palette images with Transparency expressed in bytes should be \"\n",
            "[33/33] Loss_D: 0.9726 Loss_G: 0.0073 D(x): 0.9321 D(G(z)): 0.9035:  37% 245/667 [02:18<03:42,  1.90it/s]/usr/local/lib/python3.6/dist-packages/PIL/Image.py:932: UserWarning: Palette images with Transparency expressed in bytes should be converted to RGBA images\n",
            "  \"Palette images with Transparency expressed in bytes should be \"\n",
            "[33/33] Loss_D: 0.9731 Loss_G: 0.0073 D(x): 0.9334 D(G(z)): 0.9054: 100% 667/667 [06:13<00:00,  1.79it/s]\n",
            "[converting LR images to SR images] PSNR: 24.1363 dB SSIM: 0.8060:   7% 30/436 [00:07<00:50,  8.09it/s]/usr/local/lib/python3.6/dist-packages/PIL/Image.py:932: UserWarning: Palette images with Transparency expressed in bytes should be converted to RGBA images\n",
            "  \"Palette images with Transparency expressed in bytes should be \"\n",
            "[converting LR images to SR images] PSNR: 24.5835 dB SSIM: 0.8061:  96% 417/436 [01:08<00:01, 13.58it/s]/usr/local/lib/python3.6/dist-packages/PIL/Image.py:932: UserWarning: Palette images with Transparency expressed in bytes should be converted to RGBA images\n",
            "  \"Palette images with Transparency expressed in bytes should be \"\n",
            "[converting LR images to SR images] PSNR: 24.5897 dB SSIM: 0.8053: 100% 436/436 [01:10<00:00,  6.17it/s]\n",
            "[saving training results]: 100% 8/8 [00:05<00:00,  1.53it/s]\n",
            "[34/34] Loss_D: 0.9732 Loss_G: 0.0073 D(x): 0.9335 D(G(z)): 0.9055:   5% 33/667 [00:18<04:24,  2.39it/s]/usr/local/lib/python3.6/dist-packages/PIL/Image.py:932: UserWarning: Palette images with Transparency expressed in bytes should be converted to RGBA images\n",
            "  \"Palette images with Transparency expressed in bytes should be \"\n",
            "[34/34] Loss_D: 0.9733 Loss_G: 0.0073 D(x): 0.9337 D(G(z)): 0.9059:  19% 126/667 [01:11<03:43,  2.42it/s]/usr/local/lib/python3.6/dist-packages/PIL/Image.py:932: UserWarning: Palette images with Transparency expressed in bytes should be converted to RGBA images\n",
            "  \"Palette images with Transparency expressed in bytes should be \"\n",
            "[34/34] Loss_D: 0.9733 Loss_G: 0.0073 D(x): 0.9338 D(G(z)): 0.9061:  23% 154/667 [01:26<06:03,  1.41it/s]/usr/local/lib/python3.6/dist-packages/PIL/TiffImagePlugin.py:788: UserWarning: Corrupt EXIF data.  Expecting to read 4 bytes but only got 0. \n",
            "  warnings.warn(str(msg))\n",
            "[34/34] Loss_D: 0.9734 Loss_G: 0.0073 D(x): 0.9339 D(G(z)): 0.9062:  29% 195/667 [01:49<04:40,  1.68it/s]/usr/local/lib/python3.6/dist-packages/PIL/Image.py:932: UserWarning: Palette images with Transparency expressed in bytes should be converted to RGBA images\n",
            "  \"Palette images with Transparency expressed in bytes should be \"\n",
            "[34/34] Loss_D: 0.9735 Loss_G: 0.0073 D(x): 0.9343 D(G(z)): 0.9068:  49% 328/667 [02:58<02:42,  2.08it/s]/usr/local/lib/python3.6/dist-packages/PIL/Image.py:932: UserWarning: Palette images with Transparency expressed in bytes should be converted to RGBA images\n",
            "  \"Palette images with Transparency expressed in bytes should be \"\n",
            "[34/34] Loss_D: 0.9739 Loss_G: 0.0072 D(x): 0.9353 D(G(z)): 0.9082: 100% 667/667 [06:16<00:00,  1.77it/s]\n",
            "[converting LR images to SR images] PSNR: 23.7743 dB SSIM: 0.8034:   7% 30/436 [00:07<00:49,  8.22it/s]/usr/local/lib/python3.6/dist-packages/PIL/Image.py:932: UserWarning: Palette images with Transparency expressed in bytes should be converted to RGBA images\n",
            "  \"Palette images with Transparency expressed in bytes should be \"\n",
            "[converting LR images to SR images] PSNR: 24.1682 dB SSIM: 0.8053:  96% 418/436 [01:09<00:01, 14.55it/s]/usr/local/lib/python3.6/dist-packages/PIL/Image.py:932: UserWarning: Palette images with Transparency expressed in bytes should be converted to RGBA images\n",
            "  \"Palette images with Transparency expressed in bytes should be \"\n",
            "[converting LR images to SR images] PSNR: 24.1810 dB SSIM: 0.8042: 100% 436/436 [01:11<00:00,  6.14it/s]\n",
            "[saving training results]: 100% 8/8 [00:05<00:00,  1.53it/s]\n",
            "  0% 0/667 [00:00<?, ?it/s]/usr/local/lib/python3.6/dist-packages/PIL/Image.py:932: UserWarning: Palette images with Transparency expressed in bytes should be converted to RGBA images\n",
            "  \"Palette images with Transparency expressed in bytes should be \"\n",
            "[35/35] Loss_D: 0.9739 Loss_G: 0.0072 D(x): 0.9353 D(G(z)): 0.9082:   0% 2/667 [00:03<17:58,  1.62s/it]/usr/local/lib/python3.6/dist-packages/PIL/Image.py:932: UserWarning: Palette images with Transparency expressed in bytes should be converted to RGBA images\n",
            "  \"Palette images with Transparency expressed in bytes should be \"\n",
            "[35/35] Loss_D: 0.9740 Loss_G: 0.0072 D(x): 0.9355 D(G(z)): 0.9085:  10% 69/667 [00:43<06:13,  1.60it/s]/usr/local/lib/python3.6/dist-packages/PIL/Image.py:932: UserWarning: Palette images with Transparency expressed in bytes should be converted to RGBA images\n",
            "  \"Palette images with Transparency expressed in bytes should be \"\n",
            "[35/35] Loss_D: 0.9743 Loss_G: 0.0072 D(x): 0.9362 D(G(z)): 0.9094:  45% 299/667 [02:49<02:40,  2.29it/s]/usr/local/lib/python3.6/dist-packages/PIL/Image.py:932: UserWarning: Palette images with Transparency expressed in bytes should be converted to RGBA images\n",
            "  \"Palette images with Transparency expressed in bytes should be \"\n",
            "[35/35] Loss_D: 0.9746 Loss_G: 0.0072 D(x): 0.9369 D(G(z)): 0.9104:  85% 568/667 [05:21<02:16,  1.38s/it]/usr/local/lib/python3.6/dist-packages/PIL/TiffImagePlugin.py:788: UserWarning: Corrupt EXIF data.  Expecting to read 4 bytes but only got 0. \n",
            "  warnings.warn(str(msg))\n",
            "[35/35] Loss_D: 0.9747 Loss_G: 0.0072 D(x): 0.9372 D(G(z)): 0.9108: 100% 667/667 [06:15<00:00,  1.78it/s]\n",
            "[converting LR images to SR images] PSNR: 24.2713 dB SSIM: 0.8072:   7% 30/436 [00:07<00:51,  7.95it/s]/usr/local/lib/python3.6/dist-packages/PIL/Image.py:932: UserWarning: Palette images with Transparency expressed in bytes should be converted to RGBA images\n",
            "  \"Palette images with Transparency expressed in bytes should be \"\n",
            "[converting LR images to SR images] PSNR: 24.6645 dB SSIM: 0.8074:  96% 418/436 [01:08<00:01, 14.72it/s]/usr/local/lib/python3.6/dist-packages/PIL/Image.py:932: UserWarning: Palette images with Transparency expressed in bytes should be converted to RGBA images\n",
            "  \"Palette images with Transparency expressed in bytes should be \"\n",
            "[converting LR images to SR images] PSNR: 24.6713 dB SSIM: 0.8065: 100% 436/436 [01:10<00:00,  6.18it/s]\n",
            "[saving training results]: 100% 8/8 [00:05<00:00,  1.57it/s]\n",
            "[36/36] Loss_D: 0.9747 Loss_G: 0.0072 D(x): 0.9372 D(G(z)): 0.9108:   1% 5/667 [00:05<10:42,  1.03it/s]/usr/local/lib/python3.6/dist-packages/PIL/Image.py:932: UserWarning: Palette images with Transparency expressed in bytes should be converted to RGBA images\n",
            "  \"Palette images with Transparency expressed in bytes should be \"\n",
            "[36/36] Loss_D: 0.9747 Loss_G: 0.0072 D(x): 0.9373 D(G(z)): 0.9110:   8% 56/667 [00:33<04:01,  2.53it/s]/usr/local/lib/python3.6/dist-packages/PIL/Image.py:932: UserWarning: Palette images with Transparency expressed in bytes should be converted to RGBA images\n",
            "  \"Palette images with Transparency expressed in bytes should be \"\n",
            "[36/36] Loss_D: 0.9748 Loss_G: 0.0072 D(x): 0.9374 D(G(z)): 0.9111:  11% 73/667 [00:41<05:18,  1.86it/s]/usr/local/lib/python3.6/dist-packages/PIL/TiffImagePlugin.py:788: UserWarning: Corrupt EXIF data.  Expecting to read 4 bytes but only got 0. \n",
            "  warnings.warn(str(msg))\n",
            "[36/36] Loss_D: 0.9748 Loss_G: 0.0072 D(x): 0.9375 D(G(z)): 0.9113:  20% 133/667 [01:11<04:03,  2.19it/s]/usr/local/lib/python3.6/dist-packages/PIL/Image.py:932: UserWarning: Palette images with Transparency expressed in bytes should be converted to RGBA images\n",
            "  \"Palette images with Transparency expressed in bytes should be \"\n",
            "[36/36] Loss_D: 0.9749 Loss_G: 0.0072 D(x): 0.9376 D(G(z)): 0.9115:  26% 174/667 [01:33<03:16,  2.51it/s]/usr/local/lib/python3.6/dist-packages/PIL/Image.py:932: UserWarning: Palette images with Transparency expressed in bytes should be converted to RGBA images\n",
            "  \"Palette images with Transparency expressed in bytes should be \"\n",
            "[36/36] Loss_D: 0.9754 Loss_G: 0.0072 D(x): 0.9389 D(G(z)): 0.9133: 100% 667/667 [06:12<00:00,  1.79it/s]\n",
            "[converting LR images to SR images] PSNR: 24.2570 dB SSIM: 0.8077:   7% 30/436 [00:07<00:50,  7.98it/s]/usr/local/lib/python3.6/dist-packages/PIL/Image.py:932: UserWarning: Palette images with Transparency expressed in bytes should be converted to RGBA images\n",
            "  \"Palette images with Transparency expressed in bytes should be \"\n",
            "[converting LR images to SR images] PSNR: 24.7018 dB SSIM: 0.8099:  96% 418/436 [01:08<00:01, 14.62it/s]/usr/local/lib/python3.6/dist-packages/PIL/Image.py:932: UserWarning: Palette images with Transparency expressed in bytes should be converted to RGBA images\n",
            "  \"Palette images with Transparency expressed in bytes should be \"\n",
            "[converting LR images to SR images] PSNR: 24.7074 dB SSIM: 0.8088: 100% 436/436 [01:10<00:00,  6.17it/s]\n",
            "[saving training results]: 100% 8/8 [00:05<00:00,  1.55it/s]\n",
            "[37/37] Loss_D: 0.9754 Loss_G: 0.0072 D(x): 0.9389 D(G(z)): 0.9133:   0% 3/667 [00:03<18:16,  1.65s/it]/usr/local/lib/python3.6/dist-packages/PIL/Image.py:932: UserWarning: Palette images with Transparency expressed in bytes should be converted to RGBA images\n",
            "  \"Palette images with Transparency expressed in bytes should be \"\n",
            "[37/37] Loss_D: 0.9754 Loss_G: 0.0072 D(x): 0.9390 D(G(z)): 0.9133:   3% 18/667 [00:13<08:02,  1.34it/s]/usr/local/lib/python3.6/dist-packages/PIL/Image.py:932: UserWarning: Palette images with Transparency expressed in bytes should be converted to RGBA images\n",
            "  \"Palette images with Transparency expressed in bytes should be \"\n",
            "[37/37] Loss_D: 0.9754 Loss_G: 0.0072 D(x): 0.9391 D(G(z)): 0.9135:   9% 61/667 [00:35<03:54,  2.58it/s]/usr/local/lib/python3.6/dist-packages/PIL/Image.py:932: UserWarning: Palette images with Transparency expressed in bytes should be converted to RGBA images\n",
            "  \"Palette images with Transparency expressed in bytes should be \"\n",
            "[37/37] Loss_D: 0.9757 Loss_G: 0.0072 D(x): 0.9397 D(G(z)): 0.9144:  45% 303/667 [02:52<03:20,  1.81it/s]/usr/local/lib/python3.6/dist-packages/PIL/Image.py:932: UserWarning: Palette images with Transparency expressed in bytes should be converted to RGBA images\n",
            "  \"Palette images with Transparency expressed in bytes should be \"\n",
            "[37/37] Loss_D: 0.9759 Loss_G: 0.0072 D(x): 0.9403 D(G(z)): 0.9152:  83% 553/667 [05:14<00:43,  2.63it/s]/usr/local/lib/python3.6/dist-packages/PIL/TiffImagePlugin.py:788: UserWarning: Corrupt EXIF data.  Expecting to read 4 bytes but only got 0. \n",
            "  warnings.warn(str(msg))\n",
            "[37/37] Loss_D: 0.9760 Loss_G: 0.0072 D(x): 0.9406 D(G(z)): 0.9156: 100% 667/667 [06:14<00:00,  1.78it/s]\n",
            "[converting LR images to SR images] PSNR: 24.3122 dB SSIM: 0.8090:   7% 30/436 [00:07<01:00,  6.74it/s]/usr/local/lib/python3.6/dist-packages/PIL/Image.py:932: UserWarning: Palette images with Transparency expressed in bytes should be converted to RGBA images\n",
            "  \"Palette images with Transparency expressed in bytes should be \"\n",
            "[converting LR images to SR images] PSNR: 24.7490 dB SSIM: 0.8105:  96% 418/436 [01:08<00:01, 14.68it/s]/usr/local/lib/python3.6/dist-packages/PIL/Image.py:932: UserWarning: Palette images with Transparency expressed in bytes should be converted to RGBA images\n",
            "  \"Palette images with Transparency expressed in bytes should be \"\n",
            "[converting LR images to SR images] PSNR: 24.7564 dB SSIM: 0.8095: 100% 436/436 [01:10<00:00,  6.17it/s]\n",
            "[saving training results]: 100% 8/8 [00:05<00:00,  1.57it/s]\n",
            "[38/38] Loss_D: 0.9761 Loss_G: 0.0072 D(x): 0.9407 D(G(z)): 0.9158:   9% 57/667 [00:36<06:12,  1.64it/s]/usr/local/lib/python3.6/dist-packages/PIL/Image.py:932: UserWarning: Palette images with Transparency expressed in bytes should be converted to RGBA images\n",
            "  \"Palette images with Transparency expressed in bytes should be \"\n",
            "[38/38] Loss_D: 0.9761 Loss_G: 0.0072 D(x): 0.9408 D(G(z)): 0.9159:  12% 81/667 [00:49<03:44,  2.61it/s]/usr/local/lib/python3.6/dist-packages/PIL/Image.py:932: UserWarning: Palette images with Transparency expressed in bytes should be converted to RGBA images\n",
            "  \"Palette images with Transparency expressed in bytes should be \"\n",
            "[38/38] Loss_D: 0.9761 Loss_G: 0.0072 D(x): 0.9408 D(G(z)): 0.9159:  12% 83/667 [00:52<08:06,  1.20it/s]/usr/local/lib/python3.6/dist-packages/PIL/Image.py:932: UserWarning: Palette images with Transparency expressed in bytes should be converted to RGBA images\n",
            "  \"Palette images with Transparency expressed in bytes should be \"\n",
            "[38/38] Loss_D: 0.9762 Loss_G: 0.0072 D(x): 0.9408 D(G(z)): 0.9160:  17% 112/667 [01:06<04:00,  2.31it/s]/usr/local/lib/python3.6/dist-packages/PIL/Image.py:932: UserWarning: Palette images with Transparency expressed in bytes should be converted to RGBA images\n",
            "  \"Palette images with Transparency expressed in bytes should be \"\n",
            "[38/38] Loss_D: 0.9764 Loss_G: 0.0072 D(x): 0.9415 D(G(z)): 0.9169:  58% 386/667 [03:35<01:59,  2.36it/s]/usr/local/lib/python3.6/dist-packages/PIL/TiffImagePlugin.py:788: UserWarning: Corrupt EXIF data.  Expecting to read 4 bytes but only got 0. \n",
            "  warnings.warn(str(msg))\n",
            "[38/38] Loss_D: 0.9767 Loss_G: 0.0071 D(x): 0.9421 D(G(z)): 0.9178: 100% 667/667 [06:11<00:00,  1.80it/s]\n",
            "[converting LR images to SR images] PSNR: 24.3095 dB SSIM: 0.8070:   7% 30/436 [00:07<00:47,  8.48it/s]/usr/local/lib/python3.6/dist-packages/PIL/Image.py:932: UserWarning: Palette images with Transparency expressed in bytes should be converted to RGBA images\n",
            "  \"Palette images with Transparency expressed in bytes should be \"\n",
            "[converting LR images to SR images] PSNR: 24.7405 dB SSIM: 0.8067:  96% 417/436 [01:08<00:01, 14.23it/s]/usr/local/lib/python3.6/dist-packages/PIL/Image.py:932: UserWarning: Palette images with Transparency expressed in bytes should be converted to RGBA images\n",
            "  \"Palette images with Transparency expressed in bytes should be \"\n",
            "[converting LR images to SR images] PSNR: 24.7474 dB SSIM: 0.8059: 100% 436/436 [01:10<00:00,  6.23it/s]\n",
            "[saving training results]: 100% 8/8 [00:05<00:00,  1.55it/s]\n",
            "[39/39] Loss_D: 0.9767 Loss_G: 0.0071 D(x): 0.9422 D(G(z)): 0.9180:   7% 48/667 [00:27<09:37,  1.07it/s]/usr/local/lib/python3.6/dist-packages/PIL/Image.py:932: UserWarning: Palette images with Transparency expressed in bytes should be converted to RGBA images\n",
            "  \"Palette images with Transparency expressed in bytes should be \"\n",
            "[39/39] Loss_D: 0.9768 Loss_G: 0.0071 D(x): 0.9423 D(G(z)): 0.9181:  12% 82/667 [00:42<03:41,  2.64it/s]/usr/local/lib/python3.6/dist-packages/PIL/Image.py:932: UserWarning: Palette images with Transparency expressed in bytes should be converted to RGBA images\n",
            "  \"Palette images with Transparency expressed in bytes should be \"\n",
            "[39/39] Loss_D: 0.9768 Loss_G: 0.0071 D(x): 0.9424 D(G(z)): 0.9183:  19% 130/667 [01:12<04:44,  1.89it/s]/usr/local/lib/python3.6/dist-packages/PIL/Image.py:932: UserWarning: Palette images with Transparency expressed in bytes should be converted to RGBA images\n",
            "  \"Palette images with Transparency expressed in bytes should be \"\n",
            "[39/39] Loss_D: 0.9768 Loss_G: 0.0071 D(x): 0.9425 D(G(z)): 0.9183:  22% 145/667 [01:20<04:20,  2.01it/s]/usr/local/lib/python3.6/dist-packages/PIL/Image.py:932: UserWarning: Palette images with Transparency expressed in bytes should be converted to RGBA images\n",
            "  \"Palette images with Transparency expressed in bytes should be \"\n",
            "[39/39] Loss_D: 0.9769 Loss_G: 0.0071 D(x): 0.9428 D(G(z)): 0.9188:  44% 294/667 [02:42<02:30,  2.47it/s]/usr/local/lib/python3.6/dist-packages/PIL/TiffImagePlugin.py:788: UserWarning: Corrupt EXIF data.  Expecting to read 4 bytes but only got 0. \n",
            "  warnings.warn(str(msg))\n",
            "[39/39] Loss_D: 0.9773 Loss_G: 0.0071 D(x): 0.9436 D(G(z)): 0.9200: 100% 667/667 [06:13<00:00,  1.79it/s]\n",
            "[converting LR images to SR images] PSNR: 24.3168 dB SSIM: 0.8102:   7% 30/436 [00:07<00:49,  8.14it/s]/usr/local/lib/python3.6/dist-packages/PIL/Image.py:932: UserWarning: Palette images with Transparency expressed in bytes should be converted to RGBA images\n",
            "  \"Palette images with Transparency expressed in bytes should be \"\n",
            "[converting LR images to SR images] PSNR: 24.7566 dB SSIM: 0.8114:  96% 418/436 [01:09<00:01, 11.42it/s]/usr/local/lib/python3.6/dist-packages/PIL/Image.py:932: UserWarning: Palette images with Transparency expressed in bytes should be converted to RGBA images\n",
            "  \"Palette images with Transparency expressed in bytes should be \"\n",
            "[converting LR images to SR images] PSNR: 24.7600 dB SSIM: 0.8105: 100% 436/436 [01:10<00:00,  6.16it/s]\n",
            "[saving training results]: 100% 8/8 [00:05<00:00,  1.58it/s]\n",
            "  0% 0/667 [00:00<?, ?it/s]/usr/local/lib/python3.6/dist-packages/PIL/Image.py:932: UserWarning: Palette images with Transparency expressed in bytes should be converted to RGBA images\n",
            "  \"Palette images with Transparency expressed in bytes should be \"\n",
            "[40/40] Loss_D: 0.9773 Loss_G: 0.0071 D(x): 0.9437 D(G(z)): 0.9200:   4% 29/667 [00:17<05:21,  1.99it/s]/usr/local/lib/python3.6/dist-packages/PIL/Image.py:932: UserWarning: Palette images with Transparency expressed in bytes should be converted to RGBA images\n",
            "  \"Palette images with Transparency expressed in bytes should be \"\n",
            "[40/40] Loss_D: 0.9773 Loss_G: 0.0071 D(x): 0.9438 D(G(z)): 0.9202:  11% 74/667 [00:43<06:58,  1.42it/s]/usr/local/lib/python3.6/dist-packages/PIL/Image.py:932: UserWarning: Palette images with Transparency expressed in bytes should be converted to RGBA images\n",
            "  \"Palette images with Transparency expressed in bytes should be \"\n",
            "[40/40] Loss_D: 0.9774 Loss_G: 0.0071 D(x): 0.9439 D(G(z)): 0.9204:  21% 141/667 [01:24<04:15,  2.06it/s]/usr/local/lib/python3.6/dist-packages/PIL/TiffImagePlugin.py:788: UserWarning: Corrupt EXIF data.  Expecting to read 4 bytes but only got 0. \n",
            "  warnings.warn(str(msg))\n",
            "[40/40] Loss_D: 0.9774 Loss_G: 0.0071 D(x): 0.9439 D(G(z)): 0.9204:  22% 146/667 [01:28<05:36,  1.55it/s]/usr/local/lib/python3.6/dist-packages/PIL/Image.py:932: UserWarning: Palette images with Transparency expressed in bytes should be converted to RGBA images\n",
            "  \"Palette images with Transparency expressed in bytes should be \"\n",
            "[40/40] Loss_D: 0.9778 Loss_G: 0.0071 D(x): 0.9450 D(G(z)): 0.9220: 100% 667/667 [06:12<00:00,  1.79it/s]\n",
            "[converting LR images to SR images] PSNR: 23.4050 dB SSIM: 0.8020:   7% 30/436 [00:07<00:47,  8.60it/s]/usr/local/lib/python3.6/dist-packages/PIL/Image.py:932: UserWarning: Palette images with Transparency expressed in bytes should be converted to RGBA images\n",
            "  \"Palette images with Transparency expressed in bytes should be \"\n",
            "[converting LR images to SR images] PSNR: 23.7734 dB SSIM: 0.8009:  96% 418/436 [01:08<00:01, 12.65it/s]/usr/local/lib/python3.6/dist-packages/PIL/Image.py:932: UserWarning: Palette images with Transparency expressed in bytes should be converted to RGBA images\n",
            "  \"Palette images with Transparency expressed in bytes should be \"\n",
            "[converting LR images to SR images] PSNR: 23.7823 dB SSIM: 0.8001: 100% 436/436 [01:10<00:00,  6.18it/s]\n",
            "[saving training results]: 100% 8/8 [00:05<00:00,  1.55it/s]\n"
          ],
          "name": "stdout"
        }
      ]
    },
    {
      "cell_type": "code",
      "metadata": {
        "id": "yGjwNWDB_4s3",
        "outputId": "71fb4470-2ef7-41a0-f525-52577ddb8abe",
        "colab": {
          "base_uri": "https://localhost:8080/",
          "height": 35
        }
      },
      "source": [
        "!cp /content/statistics/* /content/drive/My\\ Drive/EVA4/SRGAN_res"
      ],
      "execution_count": null,
      "outputs": [
        {
          "output_type": "stream",
          "text": [
            "cp: cannot stat '/content/statistics/*': No such file or directory\n"
          ],
          "name": "stdout"
        }
      ]
    },
    {
      "cell_type": "code",
      "metadata": {
        "id": "Oc0n83P_5QUm",
        "outputId": "f9df69b4-076d-434d-e26c-d421aeed0e8f",
        "colab": {
          "base_uri": "https://localhost:8080/",
          "height": 35
        }
      },
      "source": [
        "!ls -rlt /content/drive/My\\ Drive/EVA4/SRGAN_Res/*"
      ],
      "execution_count": null,
      "outputs": [
        {
          "output_type": "stream",
          "text": [
            "ls: cannot access '/content/drive/My Drive/EVA4/SRGAN_Res/*': Not a directory\n"
          ],
          "name": "stdout"
        }
      ]
    },
    {
      "cell_type": "code",
      "metadata": {
        "id": "3aaot67n4YDW"
      },
      "source": [
        "!cp -Rf $(ls -1rt /content/epochs/*netG* |tail -4) /content/drive/My\\ Drive/EVA4/SRGAN_res"
      ],
      "execution_count": null,
      "outputs": []
    },
    {
      "cell_type": "code",
      "metadata": {
        "id": "upU3YRPi0IOb",
        "outputId": "dd5b0602-e4d1-4d9b-b9bb-05b8d04e98d1",
        "colab": {
          "base_uri": "https://localhost:8080/",
          "height": 1000
        }
      },
      "source": [
        "!python SRGAN/train_lite.py --crop_size 100 --upscale_factor 8 --num_epochs 100 --batch_size 32"
      ],
      "execution_count": null,
      "outputs": [
        {
          "output_type": "stream",
          "text": [
            "Run Identifier:90d6877c88\n",
            "# generator parameters: 881932\n",
            "# discriminator parameters: 5215425\n",
            "[1/1] Loss_D: 0.4888 Loss_G: 0.0264 D(x): 0.7121 D(G(z)): 0.1810:  15% 98/667 [00:55<06:37,  1.43it/s]/usr/local/lib/python3.6/dist-packages/PIL/Image.py:932: UserWarning: Palette images with Transparency expressed in bytes should be converted to RGBA images\n",
            "  \"Palette images with Transparency expressed in bytes should be \"\n",
            "[1/1] Loss_D: 0.4896 Loss_G: 0.0219 D(x): 0.7480 D(G(z)): 0.2141:  25% 169/667 [01:34<05:04,  1.63it/s]/usr/local/lib/python3.6/dist-packages/PIL/Image.py:932: UserWarning: Palette images with Transparency expressed in bytes should be converted to RGBA images\n",
            "  \"Palette images with Transparency expressed in bytes should be \"\n",
            "[1/1] Loss_D: 0.4183 Loss_G: 0.0206 D(x): 0.7800 D(G(z)): 0.1749:  31% 209/667 [01:57<03:26,  2.22it/s]/usr/local/lib/python3.6/dist-packages/PIL/Image.py:932: UserWarning: Palette images with Transparency expressed in bytes should be converted to RGBA images\n",
            "  \"Palette images with Transparency expressed in bytes should be \"\n",
            "[1/1] Loss_D: 0.3944 Loss_G: 0.0202 D(x): 0.7920 D(G(z)): 0.1641:  33% 223/667 [02:04<02:46,  2.67it/s]/usr/local/lib/python3.6/dist-packages/PIL/Image.py:932: UserWarning: Palette images with Transparency expressed in bytes should be converted to RGBA images\n",
            "  \"Palette images with Transparency expressed in bytes should be \"\n",
            "[1/1] Loss_D: 0.3797 Loss_G: 0.0188 D(x): 0.8111 D(G(z)): 0.1706:  43% 287/667 [02:41<05:56,  1.06it/s]/usr/local/lib/python3.6/dist-packages/PIL/TiffImagePlugin.py:788: UserWarning: Corrupt EXIF data.  Expecting to read 4 bytes but only got 0. \n",
            "  warnings.warn(str(msg))\n",
            "[1/1] Loss_D: 0.6070 Loss_G: 0.0147 D(x): 0.7851 D(G(z)): 0.3746: 100% 667/667 [05:57<00:00,  1.86it/s]\n",
            "[converting LR images to SR images] PSNR: 20.1780 dB SSIM: 0.7442: 100% 436/436 [01:24<00:00,  5.16it/s]\n",
            "[saving training results]: 100% 8/8 [00:05<00:00,  1.53it/s]\n",
            "[2/2] Loss_D: 0.6285 Loss_G: 0.0144 D(x): 0.7835 D(G(z)): 0.3950:   6% 37/667 [00:21<04:17,  2.45it/s]/usr/local/lib/python3.6/dist-packages/PIL/Image.py:932: UserWarning: Palette images with Transparency expressed in bytes should be converted to RGBA images\n",
            "  \"Palette images with Transparency expressed in bytes should be \"\n",
            "[2/2] Loss_D: 0.6338 Loss_G: 0.0144 D(x): 0.7825 D(G(z)): 0.3996:   7% 47/667 [00:25<04:03,  2.55it/s]/usr/local/lib/python3.6/dist-packages/PIL/Image.py:932: UserWarning: Palette images with Transparency expressed in bytes should be converted to RGBA images\n",
            "  \"Palette images with Transparency expressed in bytes should be \"\n",
            "[2/2] Loss_D: 0.6344 Loss_G: 0.0144 D(x): 0.7823 D(G(z)): 0.4000:   7% 48/667 [00:26<04:05,  2.52it/s]/usr/local/lib/python3.6/dist-packages/PIL/Image.py:932: UserWarning: Palette images with Transparency expressed in bytes should be converted to RGBA images\n",
            "  \"Palette images with Transparency expressed in bytes should be \"\n",
            "[2/2] Loss_D: 0.6483 Loss_G: 0.0142 D(x): 0.7805 D(G(z)): 0.4128:  11% 76/667 [00:40<04:44,  2.08it/s]/usr/local/lib/python3.6/dist-packages/PIL/Image.py:932: UserWarning: Palette images with Transparency expressed in bytes should be converted to RGBA images\n",
            "  \"Palette images with Transparency expressed in bytes should be \"\n",
            "[2/2] Loss_D: 0.7058 Loss_G: 0.0135 D(x): 0.7841 D(G(z)): 0.4765:  33% 220/667 [01:53<03:09,  2.36it/s]/usr/local/lib/python3.6/dist-packages/PIL/TiffImagePlugin.py:788: UserWarning: Corrupt EXIF data.  Expecting to read 4 bytes but only got 0. \n",
            "  warnings.warn(str(msg))\n",
            "[2/2] Loss_D: 0.8044 Loss_G: 0.0123 D(x): 0.6522 D(G(z)): 0.4464: 100% 667/667 [06:08<00:00,  1.81it/s]\n",
            "[converting LR images to SR images] PSNR: 20.5111 dB SSIM: 0.7521: 100% 436/436 [01:13<00:00,  5.91it/s]\n",
            "[saving training results]: 100% 8/8 [00:05<00:00,  1.54it/s]\n",
            "[3/3] Loss_D: 0.8089 Loss_G: 0.0122 D(x): 0.6408 D(G(z)): 0.4395:   5% 31/667 [00:21<04:57,  2.14it/s]/usr/local/lib/python3.6/dist-packages/PIL/Image.py:932: UserWarning: Palette images with Transparency expressed in bytes should be converted to RGBA images\n",
            "  \"Palette images with Transparency expressed in bytes should be \"\n",
            "[3/3] Loss_D: 0.8154 Loss_G: 0.0122 D(x): 0.6275 D(G(z)): 0.4329:  12% 78/667 [00:51<05:13,  1.88it/s]/usr/local/lib/python3.6/dist-packages/PIL/Image.py:932: UserWarning: Palette images with Transparency expressed in bytes should be converted to RGBA images\n",
            "  \"Palette images with Transparency expressed in bytes should be \"\n",
            "[3/3] Loss_D: 0.8190 Loss_G: 0.0121 D(x): 0.6197 D(G(z)): 0.4289:  16% 106/667 [01:04<04:06,  2.27it/s]/usr/local/lib/python3.6/dist-packages/PIL/Image.py:932: UserWarning: Palette images with Transparency expressed in bytes should be converted to RGBA images\n",
            "  \"Palette images with Transparency expressed in bytes should be \"\n",
            "[3/3] Loss_D: 0.8219 Loss_G: 0.0121 D(x): 0.6136 D(G(z)): 0.4260:  19% 130/667 [01:16<03:56,  2.27it/s]/usr/local/lib/python3.6/dist-packages/PIL/Image.py:932: UserWarning: Palette images with Transparency expressed in bytes should be converted to RGBA images\n",
            "  \"Palette images with Transparency expressed in bytes should be \"\n",
            "[3/3] Loss_D: 0.8326 Loss_G: 0.0119 D(x): 0.5904 D(G(z)): 0.4138:  33% 223/667 [02:08<02:55,  2.53it/s]/usr/local/lib/python3.6/dist-packages/PIL/TiffImagePlugin.py:788: UserWarning: Corrupt EXIF data.  Expecting to read 4 bytes but only got 0. \n",
            "  warnings.warn(str(msg))\n",
            "[3/3] Loss_D: 0.8698 Loss_G: 0.0114 D(x): 0.5083 D(G(z)): 0.3702: 100% 667/667 [06:06<00:00,  1.82it/s]\n",
            "[converting LR images to SR images] PSNR: 20.7217 dB SSIM: 0.7606: 100% 436/436 [01:10<00:00,  6.20it/s]\n",
            "[saving training results]: 100% 8/8 [00:05<00:00,  1.53it/s]\n",
            "[4/4] Loss_D: 0.8707 Loss_G: 0.0114 D(x): 0.5065 D(G(z)): 0.3695:   2% 14/667 [00:10<04:26,  2.45it/s]/usr/local/lib/python3.6/dist-packages/PIL/Image.py:932: UserWarning: Palette images with Transparency expressed in bytes should be converted to RGBA images\n",
            "  \"Palette images with Transparency expressed in bytes should be \"\n",
            "[4/4] Loss_D: 0.8724 Loss_G: 0.0113 D(x): 0.5033 D(G(z)): 0.3680:   6% 41/667 [00:24<04:18,  2.42it/s]/usr/local/lib/python3.6/dist-packages/PIL/Image.py:932: UserWarning: Palette images with Transparency expressed in bytes should be converted to RGBA images\n",
            "  \"Palette images with Transparency expressed in bytes should be \"\n",
            "[4/4] Loss_D: 0.8748 Loss_G: 0.0113 D(x): 0.4989 D(G(z)): 0.3663:  12% 80/667 [00:46<04:22,  2.23it/s]/usr/local/lib/python3.6/dist-packages/PIL/Image.py:932: UserWarning: Palette images with Transparency expressed in bytes should be converted to RGBA images\n",
            "  \"Palette images with Transparency expressed in bytes should be \"\n",
            "[4/4] Loss_D: 0.8911 Loss_G: 0.0110 D(x): 0.4751 D(G(z)): 0.3596:  58% 386/667 [03:30<01:49,  2.56it/s]/usr/local/lib/python3.6/dist-packages/PIL/Image.py:932: UserWarning: Palette images with Transparency expressed in bytes should be converted to RGBA images\n",
            "  \"Palette images with Transparency expressed in bytes should be \"\n",
            "[4/4] Loss_D: 0.8992 Loss_G: 0.0108 D(x): 0.4694 D(G(z)): 0.3624:  86% 573/667 [05:10<00:47,  1.97it/s]/usr/local/lib/python3.6/dist-packages/PIL/TiffImagePlugin.py:788: UserWarning: Corrupt EXIF data.  Expecting to read 4 bytes but only got 0. \n",
            "  warnings.warn(str(msg))\n",
            "[4/4] Loss_D: 0.9030 Loss_G: 0.0108 D(x): 0.4674 D(G(z)): 0.3643: 100% 667/667 [06:04<00:00,  1.83it/s]\n",
            "[converting LR images to SR images] PSNR: 18.5095 dB SSIM: 0.7714: 100% 436/436 [01:11<00:00,  6.13it/s]\n",
            "[saving training results]: 100% 8/8 [00:05<00:00,  1.54it/s]\n",
            "  0% 0/667 [00:00<?, ?it/s]/usr/local/lib/python3.6/dist-packages/PIL/Image.py:932: UserWarning: Palette images with Transparency expressed in bytes should be converted to RGBA images\n",
            "  \"Palette images with Transparency expressed in bytes should be \"\n",
            "[5/5] Loss_D: 0.9032 Loss_G: 0.0108 D(x): 0.4674 D(G(z)): 0.3645:   1% 7/667 [00:06<09:27,  1.16it/s]/usr/local/lib/python3.6/dist-packages/PIL/Image.py:932: UserWarning: Palette images with Transparency expressed in bytes should be converted to RGBA images\n",
            "  \"Palette images with Transparency expressed in bytes should be \"\n",
            "/usr/local/lib/python3.6/dist-packages/PIL/Image.py:932: UserWarning: Palette images with Transparency expressed in bytes should be converted to RGBA images\n",
            "  \"Palette images with Transparency expressed in bytes should be \"\n",
            "[5/5] Loss_D: 0.9036 Loss_G: 0.0107 D(x): 0.4672 D(G(z)): 0.3648:   3% 17/667 [00:14<06:41,  1.62it/s]/usr/local/lib/python3.6/dist-packages/PIL/Image.py:932: UserWarning: Palette images with Transparency expressed in bytes should be converted to RGBA images\n",
            "  \"Palette images with Transparency expressed in bytes should be \"\n",
            "[5/5] Loss_D: 0.9166 Loss_G: 0.0105 D(x): 0.4571 D(G(z)): 0.3680:  63% 420/667 [03:52<02:07,  1.94it/s]/usr/local/lib/python3.6/dist-packages/PIL/TiffImagePlugin.py:788: UserWarning: Corrupt EXIF data.  Expecting to read 4 bytes but only got 0. \n",
            "  warnings.warn(str(msg))\n",
            "[5/5] Loss_D: 0.9229 Loss_G: 0.0103 D(x): 0.4437 D(G(z)): 0.3611: 100% 667/667 [06:10<00:00,  1.80it/s]\n",
            "[converting LR images to SR images] PSNR: 21.3126 dB SSIM: 0.7789: 100% 436/436 [01:11<00:00,  6.09it/s]\n",
            "[saving training results]: 100% 8/8 [00:05<00:00,  1.51it/s]\n",
            "  0% 0/667 [00:00<?, ?it/s]/usr/local/lib/python3.6/dist-packages/PIL/Image.py:932: UserWarning: Palette images with Transparency expressed in bytes should be converted to RGBA images\n",
            "  \"Palette images with Transparency expressed in bytes should be \"\n",
            "[6/6] Loss_D: 0.9246 Loss_G: 0.0103 D(x): 0.4413 D(G(z)): 0.3605:  11% 75/667 [00:46<05:01,  1.97it/s]/usr/local/lib/python3.6/dist-packages/PIL/Image.py:932: UserWarning: Palette images with Transparency expressed in bytes should be converted to RGBA images\n",
            "  \"Palette images with Transparency expressed in bytes should be \"\n",
            "[6/6] Loss_D: 0.9258 Loss_G: 0.0103 D(x): 0.4393 D(G(z)): 0.3598:  19% 125/667 [01:14<05:56,  1.52it/s]/usr/local/lib/python3.6/dist-packages/PIL/Image.py:932: UserWarning: Palette images with Transparency expressed in bytes should be converted to RGBA images\n",
            "  \"Palette images with Transparency expressed in bytes should be \"\n",
            "[6/6] Loss_D: 0.9267 Loss_G: 0.0103 D(x): 0.4380 D(G(z)): 0.3594:  25% 164/667 [01:36<05:13,  1.61it/s]"
          ],
          "name": "stdout"
        }
      ]
    },
    {
      "cell_type": "code",
      "metadata": {
        "id": "cBMCOS1y0LSF"
      },
      "source": [
        "!cp -Rf $(ls -1rt /content/epochs/*netG* |tail -4) /content/drive/My\\ Drive/EVA4/SRGAN_res"
      ],
      "execution_count": null,
      "outputs": []
    },
    {
      "cell_type": "code",
      "metadata": {
        "id": "ypLRT-Yk4uoV",
        "outputId": "cea7441e-be6d-4e3f-cf04-c5ac25d6d2ae",
        "colab": {
          "base_uri": "https://localhost:8080/",
          "height": 35
        }
      },
      "source": [
        "!echo $(ls -1rt /content/epochs/*netG* |tail -2)"
      ],
      "execution_count": null,
      "outputs": [
        {
          "output_type": "stream",
          "text": [
            "/content/epochs/302821e380_netG_epoch_8_1.pth /content/epochs/302821e380_netG_epoch_8_2.pth\n"
          ],
          "name": "stdout"
        }
      ]
    },
    {
      "cell_type": "code",
      "metadata": {
        "id": "366CJUd24o5z"
      },
      "source": [
        "!rm -rf /content/drive/My\\ Drive/EVA4/SRGAN_Res/302821e380_netG_epoch_8_2.pth"
      ],
      "execution_count": null,
      "outputs": []
    },
    {
      "cell_type": "code",
      "metadata": {
        "id": "hZzjGiiAEouu"
      },
      "source": [
        "!python SRGAN/test_image.py --upscale_factor 8 --image_name \"/content/Winged Drones/022.jpg\" --model_name \"94625922b6_netG_epoch_8_5.pth\""
      ],
      "execution_count": null,
      "outputs": []
    },
    {
      "cell_type": "code",
      "metadata": {
        "id": "0IKr7RDxujsH"
      },
      "source": [
        "!rm -rf /content/Flying Birds/Lc58dvGVZKA.jpg /content/Large QuadCopters/jordan-cormack-s6L_CmBiDQw-unsplash.jpg /content/Flying Birds/2bHXm5Ae_rY.jpg /content/Flying Birds/jzvA1hIRU3o.jpg /content/Flying Birds/000002.jpg /content/Flying Birds/white-and-black-bird-flying-4212935.jpg /content/Winged Drones/Image_930.jpg"
      ],
      "execution_count": null,
      "outputs": []
    },
    {
      "cell_type": "code",
      "metadata": {
        "id": "pxpvTBU2Bxt7",
        "outputId": "ead5a540-2385-443d-a5fc-15ff1174d505",
        "colab": {
          "base_uri": "https://localhost:8080/",
          "height": 1000
        }
      },
      "source": [
        "!python SRGAN/train_lite.py --crop_size 100 --upscale_factor 8 --num_epochs 40 --batch_size 32"
      ],
      "execution_count": null,
      "outputs": [
        {
          "output_type": "stream",
          "text": [
            "Run Identifier:1706b1f481\n",
            "# generator parameters: 881932\n",
            "# discriminator parameters: 5215425\n",
            "[1/1] Loss_D: 0.7191 Loss_G: 0.0497 D(x): 0.6098 D(G(z)): 0.2891:   3% 19/667 [00:11<04:24,  2.45it/s]/usr/local/lib/python3.6/dist-packages/PIL/Image.py:932: UserWarning: Palette images with Transparency expressed in bytes should be converted to RGBA images\n",
            "  \"Palette images with Transparency expressed in bytes should be \"\n",
            "[1/1] Loss_D: 0.7043 Loss_G: 0.0452 D(x): 0.6159 D(G(z)): 0.2745:   4% 24/667 [00:14<04:47,  2.24it/s]/usr/local/lib/python3.6/dist-packages/PIL/Image.py:932: UserWarning: Palette images with Transparency expressed in bytes should be converted to RGBA images\n",
            "  \"Palette images with Transparency expressed in bytes should be \"\n",
            "[1/1] Loss_D: 0.6786 Loss_G: 0.0402 D(x): 0.6278 D(G(z)): 0.2606:   5% 32/667 [00:16<03:26,  3.08it/s]/usr/local/lib/python3.6/dist-packages/PIL/Image.py:932: UserWarning: Palette images with Transparency expressed in bytes should be converted to RGBA images\n",
            "  \"Palette images with Transparency expressed in bytes should be \"\n",
            "[1/1] Loss_D: 0.4203 Loss_G: 0.0214 D(x): 0.8106 D(G(z)): 0.2063:  24% 162/667 [01:27<03:53,  2.16it/s]/usr/local/lib/python3.6/dist-packages/PIL/Image.py:932: UserWarning: Palette images with Transparency expressed in bytes should be converted to RGBA images\n",
            "  \"Palette images with Transparency expressed in bytes should be \"\n",
            "[1/1] Loss_D: 0.3973 Loss_G: 0.0197 D(x): 0.8107 D(G(z)): 0.1743:  32% 215/667 [01:52<02:37,  2.87it/s]/usr/local/lib/python3.6/dist-packages/PIL/TiffImagePlugin.py:788: UserWarning: Corrupt EXIF data.  Expecting to read 4 bytes but only got 0. \n",
            "  warnings.warn(str(msg))\n",
            "[1/1] Loss_D: 0.4670 Loss_G: 0.0147 D(x): 0.6880 D(G(z)): 0.1259: 100% 667/667 [05:43<00:00,  1.94it/s]\n",
            "[converting LR images to SR images] PSNR: 22.3227 dB SSIM: 0.7415: 100% 436/436 [01:17<00:00,  5.61it/s]\n",
            "[saving training results]: 100% 8/8 [00:05<00:00,  1.48it/s]\n",
            "[2/2] Loss_D: 0.4686 Loss_G: 0.0147 D(x): 0.6862 D(G(z)): 0.1258:   0% 2/667 [00:02<17:31,  1.58s/it]/usr/local/lib/python3.6/dist-packages/PIL/Image.py:932: UserWarning: Palette images with Transparency expressed in bytes should be converted to RGBA images\n",
            "  \"Palette images with Transparency expressed in bytes should be \"\n",
            "[2/2] Loss_D: 0.4882 Loss_G: 0.0146 D(x): 0.6672 D(G(z)): 0.1275:   4% 28/667 [00:16<03:35,  2.96it/s]/usr/local/lib/python3.6/dist-packages/PIL/Image.py:932: UserWarning: Palette images with Transparency expressed in bytes should be converted to RGBA images\n",
            "  \"Palette images with Transparency expressed in bytes should be \"\n",
            "[2/2] Loss_D: 0.5069 Loss_G: 0.0145 D(x): 0.6517 D(G(z)): 0.1316:   8% 54/667 [00:30<07:09,  1.43it/s]/usr/local/lib/python3.6/dist-packages/PIL/Image.py:932: UserWarning: Palette images with Transparency expressed in bytes should be converted to RGBA images\n",
            "  \"Palette images with Transparency expressed in bytes should be \"\n",
            "[2/2] Loss_D: 0.5096 Loss_G: 0.0144 D(x): 0.6495 D(G(z)): 0.1322:   9% 58/667 [00:32<04:07,  2.46it/s]/usr/local/lib/python3.6/dist-packages/PIL/Image.py:932: UserWarning: Palette images with Transparency expressed in bytes should be converted to RGBA images\n",
            "  \"Palette images with Transparency expressed in bytes should be \"\n",
            "[2/2] Loss_D: 0.6192 Loss_G: 0.0134 D(x): 0.5764 D(G(z)): 0.1728:  44% 292/667 [02:37<02:57,  2.12it/s]/usr/local/lib/python3.6/dist-packages/PIL/TiffImagePlugin.py:788: UserWarning: Corrupt EXIF data.  Expecting to read 4 bytes but only got 0. \n",
            "  warnings.warn(str(msg))\n",
            "[2/2] Loss_D: 0.7181 Loss_G: 0.0124 D(x): 0.5706 D(G(z)): 0.2707: 100% 667/667 [05:47<00:00,  1.92it/s]\n",
            "[converting LR images to SR images] PSNR: 22.4988 dB SSIM: 0.7584: 100% 436/436 [01:15<00:00,  5.77it/s]\n",
            "[saving training results]: 100% 8/8 [00:05<00:00,  1.47it/s]\n",
            "[3/3] Loss_D: 0.7191 Loss_G: 0.0123 D(x): 0.5695 D(G(z)): 0.2699:   4% 30/667 [00:15<03:37,  2.93it/s]/usr/local/lib/python3.6/dist-packages/PIL/Image.py:932: UserWarning: Palette images with Transparency expressed in bytes should be converted to RGBA images\n",
            "  \"Palette images with Transparency expressed in bytes should be \"\n",
            "[3/3] Loss_D: 0.7214 Loss_G: 0.0123 D(x): 0.5673 D(G(z)): 0.2704:   7% 49/667 [00:24<04:00,  2.57it/s]/usr/local/lib/python3.6/dist-packages/PIL/Image.py:932: UserWarning: Palette images with Transparency expressed in bytes should be converted to RGBA images\n",
            "  \"Palette images with Transparency expressed in bytes should be \"\n",
            "[3/3] Loss_D: 0.7235 Loss_G: 0.0123 D(x): 0.5688 D(G(z)): 0.2737:  10% 65/667 [00:32<03:50,  2.61it/s]/usr/local/lib/python3.6/dist-packages/PIL/Image.py:932: UserWarning: Palette images with Transparency expressed in bytes should be converted to RGBA images\n",
            "  \"Palette images with Transparency expressed in bytes should be \"\n",
            "[3/3] Loss_D: 0.7394 Loss_G: 0.0121 D(x): 0.5755 D(G(z)): 0.2962:  26% 175/667 [01:27<04:05,  2.00it/s]/usr/local/lib/python3.6/dist-packages/PIL/Image.py:932: UserWarning: Palette images with Transparency expressed in bytes should be converted to RGBA images\n",
            "  \"Palette images with Transparency expressed in bytes should be \"\n",
            "[3/3] Loss_D: 0.7188 Loss_G: 0.0117 D(x): 0.5956 D(G(z)): 0.2938:  66% 443/667 [03:49<01:33,  2.39it/s]/usr/local/lib/python3.6/dist-packages/PIL/TiffImagePlugin.py:788: UserWarning: Corrupt EXIF data.  Expecting to read 4 bytes but only got 0. \n",
            "  warnings.warn(str(msg))\n",
            "[3/3] Loss_D: 0.6389 Loss_G: 0.0114 D(x): 0.6405 D(G(z)): 0.2611: 100% 667/667 [05:41<00:00,  1.96it/s]\n",
            "[converting LR images to SR images] PSNR: 23.0575 dB SSIM: 0.7630: 100% 436/436 [01:14<00:00,  5.85it/s]\n",
            "[saving training results]: 100% 8/8 [00:05<00:00,  1.47it/s]\n",
            "[4/4] Loss_D: 0.6322 Loss_G: 0.0114 D(x): 0.6454 D(G(z)): 0.2593:   5% 35/667 [00:21<05:07,  2.05it/s]/usr/local/lib/python3.6/dist-packages/PIL/Image.py:932: UserWarning: Palette images with Transparency expressed in bytes should be converted to RGBA images\n",
            "  \"Palette images with Transparency expressed in bytes should be \"\n",
            "[4/4] Loss_D: 0.6319 Loss_G: 0.0114 D(x): 0.6455 D(G(z)): 0.2592:   5% 36/667 [00:23<09:09,  1.15it/s]/usr/local/lib/python3.6/dist-packages/PIL/Image.py:932: UserWarning: Palette images with Transparency expressed in bytes should be converted to RGBA images\n",
            "  \"Palette images with Transparency expressed in bytes should be \"\n",
            "[4/4] Loss_D: 0.6284 Loss_G: 0.0114 D(x): 0.6475 D(G(z)): 0.2573:   8% 52/667 [00:32<06:21,  1.61it/s]/usr/local/lib/python3.6/dist-packages/PIL/Image.py:932: UserWarning: Palette images with Transparency expressed in bytes should be converted to RGBA images\n",
            "  \"Palette images with Transparency expressed in bytes should be \"\n",
            "[4/4] Loss_D: 0.6069 Loss_G: 0.0113 D(x): 0.6596 D(G(z)): 0.2485:  19% 125/667 [01:11<04:38,  1.94it/s]/usr/local/lib/python3.6/dist-packages/PIL/TiffImagePlugin.py:788: UserWarning: Corrupt EXIF data.  Expecting to read 4 bytes but only got 0. \n",
            "  warnings.warn(str(msg))\n",
            "[4/4] Loss_D: 0.5833 Loss_G: 0.0112 D(x): 0.6728 D(G(z)): 0.2389:  32% 211/667 [01:54<03:17,  2.31it/s]/usr/local/lib/python3.6/dist-packages/PIL/Image.py:932: UserWarning: Palette images with Transparency expressed in bytes should be converted to RGBA images\n",
            "  \"Palette images with Transparency expressed in bytes should be \"\n",
            "[4/4] Loss_D: 0.4838 Loss_G: 0.0109 D(x): 0.7286 D(G(z)): 0.1981: 100% 667/667 [05:41<00:00,  1.96it/s]\n",
            "[converting LR images to SR images] PSNR: 22.3523 dB SSIM: 0.7706: 100% 436/436 [01:14<00:00,  5.87it/s]\n",
            "[saving training results]: 100% 8/8 [00:05<00:00,  1.49it/s]\n",
            "  0% 0/667 [00:00<?, ?it/s]/usr/local/lib/python3.6/dist-packages/PIL/Image.py:932: UserWarning: Palette images with Transparency expressed in bytes should be converted to RGBA images\n",
            "  \"Palette images with Transparency expressed in bytes should be \"\n",
            "[5/5] Loss_D: 0.4813 Loss_G: 0.0109 D(x): 0.7300 D(G(z)): 0.1970:   2% 14/667 [00:10<05:02,  2.16it/s]/usr/local/lib/python3.6/dist-packages/PIL/Image.py:932: UserWarning: Palette images with Transparency expressed in bytes should be converted to RGBA images\n",
            "  \"Palette images with Transparency expressed in bytes should be \"\n",
            "[5/5] Loss_D: 0.4746 Loss_G: 0.0108 D(x): 0.7338 D(G(z)): 0.1943:   8% 52/667 [00:30<03:57,  2.59it/s]/usr/local/lib/python3.6/dist-packages/PIL/Image.py:932: UserWarning: Palette images with Transparency expressed in bytes should be converted to RGBA images\n",
            "  \"Palette images with Transparency expressed in bytes should be \"\n",
            "[5/5] Loss_D: 0.4692 Loss_G: 0.0108 D(x): 0.7368 D(G(z)): 0.1921:  12% 83/667 [00:48<05:06,  1.90it/s]/usr/local/lib/python3.6/dist-packages/PIL/Image.py:932: UserWarning: Palette images with Transparency expressed in bytes should be converted to RGBA images\n",
            "  \"Palette images with Transparency expressed in bytes should be \"\n",
            "[5/5] Loss_D: 0.4684 Loss_G: 0.0108 D(x): 0.7373 D(G(z)): 0.1918:  13% 88/667 [00:51<04:35,  2.10it/s]/usr/local/lib/python3.6/dist-packages/PIL/TiffImagePlugin.py:788: UserWarning: Corrupt EXIF data.  Expecting to read 4 bytes but only got 0. \n",
            "  warnings.warn(str(msg))\n",
            "[5/5] Loss_D: 0.3871 Loss_G: 0.0105 D(x): 0.7829 D(G(z)): 0.1585: 100% 667/667 [05:39<00:00,  1.97it/s]\n",
            "[converting LR images to SR images] PSNR: 23.1283 dB SSIM: 0.7722: 100% 436/436 [01:14<00:00,  5.87it/s]\n",
            "[saving training results]: 100% 8/8 [00:05<00:00,  1.54it/s]\n",
            "  0% 0/667 [00:00<?, ?it/s]/usr/local/lib/python3.6/dist-packages/PIL/TiffImagePlugin.py:788: UserWarning: Corrupt EXIF data.  Expecting to read 4 bytes but only got 0. \n",
            "  warnings.warn(str(msg))\n",
            "[6/6] Loss_D: 0.3842 Loss_G: 0.0105 D(x): 0.7845 D(G(z)): 0.1573:   4% 25/667 [00:15<04:28,  2.39it/s]/usr/local/lib/python3.6/dist-packages/PIL/Image.py:932: UserWarning: Palette images with Transparency expressed in bytes should be converted to RGBA images\n",
            "  \"Palette images with Transparency expressed in bytes should be \"\n",
            "[6/6] Loss_D: 0.3837 Loss_G: 0.0105 D(x): 0.7848 D(G(z)): 0.1571:   4% 30/667 [00:18<04:40,  2.27it/s]/usr/local/lib/python3.6/dist-packages/PIL/Image.py:932: UserWarning: Palette images with Transparency expressed in bytes should be converted to RGBA images\n",
            "  \"Palette images with Transparency expressed in bytes should be \"\n",
            "[6/6] Loss_D: 0.3826 Loss_G: 0.0105 D(x): 0.7854 D(G(z)): 0.1567:   6% 39/667 [00:22<06:51,  1.52it/s]/usr/local/lib/python3.6/dist-packages/PIL/Image.py:932: UserWarning: Palette images with Transparency expressed in bytes should be converted to RGBA images\n",
            "  \"Palette images with Transparency expressed in bytes should be \"\n",
            "[6/6] Loss_D: 0.3744 Loss_G: 0.0104 D(x): 0.7900 D(G(z)): 0.1533:  17% 113/667 [00:58<03:42,  2.48it/s]/usr/local/lib/python3.6/dist-packages/PIL/Image.py:932: UserWarning: Palette images with Transparency expressed in bytes should be converted to RGBA images\n",
            "  \"Palette images with Transparency expressed in bytes should be \"\n",
            "[6/6] Loss_D: 0.3226 Loss_G: 0.0102 D(x): 0.8190 D(G(z)): 0.1321: 100% 667/667 [05:38<00:00,  1.97it/s]\n",
            "[converting LR images to SR images] PSNR: 23.5985 dB SSIM: 0.7789: 100% 436/436 [01:13<00:00,  5.92it/s]\n",
            "[saving training results]: 100% 8/8 [00:05<00:00,  1.48it/s]\n",
            "  0% 0/667 [00:00<?, ?it/s]/usr/local/lib/python3.6/dist-packages/PIL/Image.py:932: UserWarning: Palette images with Transparency expressed in bytes should be converted to RGBA images\n",
            "  \"Palette images with Transparency expressed in bytes should be \"\n",
            "[7/7] Loss_D: 0.3221 Loss_G: 0.0102 D(x): 0.8193 D(G(z)): 0.1319:   1% 6/667 [00:06<10:49,  1.02it/s]/usr/local/lib/python3.6/dist-packages/PIL/Image.py:932: UserWarning: Palette images with Transparency expressed in bytes should be converted to RGBA images\n",
            "  \"Palette images with Transparency expressed in bytes should be \"\n",
            "[7/7] Loss_D: 0.3204 Loss_G: 0.0102 D(x): 0.8203 D(G(z)): 0.1312:   4% 28/667 [00:17<04:02,  2.64it/s]/usr/local/lib/python3.6/dist-packages/PIL/Image.py:932: UserWarning: Palette images with Transparency expressed in bytes should be converted to RGBA images\n",
            "  \"Palette images with Transparency expressed in bytes should be \"\n",
            "[7/7] Loss_D: 0.3153 Loss_G: 0.0102 D(x): 0.8262 D(G(z)): 0.1320:  43% 285/667 [02:25<04:22,  1.46it/s]/usr/local/lib/python3.6/dist-packages/PIL/TiffImagePlugin.py:788: UserWarning: Corrupt EXIF data.  Expecting to read 4 bytes but only got 0. \n",
            "  warnings.warn(str(msg))\n",
            "[7/7] Loss_D: 0.3562 Loss_G: 0.0101 D(x): 0.7994 D(G(z)): 0.1465:  84% 558/667 [04:47<00:56,  1.93it/s]/usr/local/lib/python3.6/dist-packages/PIL/Image.py:932: UserWarning: Palette images with Transparency expressed in bytes should be converted to RGBA images\n",
            "  \"Palette images with Transparency expressed in bytes should be \"\n",
            "[7/7] Loss_D: 0.3712 Loss_G: 0.0101 D(x): 0.7871 D(G(z)): 0.1492: 100% 667/667 [05:40<00:00,  1.96it/s]\n",
            "[converting LR images to SR images] PSNR: 23.1079 dB SSIM: 0.7741: 100% 436/436 [01:14<00:00,  5.86it/s]\n",
            "[saving training results]: 100% 8/8 [00:05<00:00,  1.49it/s]\n",
            "[8/8] Loss_D: 0.3774 Loss_G: 0.0101 D(x): 0.7831 D(G(z)): 0.1516:   7% 47/667 [00:27<04:27,  2.32it/s]/usr/local/lib/python3.6/dist-packages/PIL/Image.py:932: UserWarning: Palette images with Transparency expressed in bytes should be converted to RGBA images\n",
            "  \"Palette images with Transparency expressed in bytes should be \"\n",
            "[8/8] Loss_D: 0.3782 Loss_G: 0.0101 D(x): 0.7827 D(G(z)): 0.1520:   8% 53/667 [00:29<04:10,  2.45it/s]/usr/local/lib/python3.6/dist-packages/PIL/Image.py:932: UserWarning: Palette images with Transparency expressed in bytes should be converted to RGBA images\n",
            "  \"Palette images with Transparency expressed in bytes should be \"\n",
            "[8/8] Loss_D: 0.3798 Loss_G: 0.0101 D(x): 0.7821 D(G(z)): 0.1530:  10% 65/667 [00:36<04:39,  2.16it/s]/usr/local/lib/python3.6/dist-packages/PIL/Image.py:932: UserWarning: Palette images with Transparency expressed in bytes should be converted to RGBA images\n",
            "  \"Palette images with Transparency expressed in bytes should be \"\n",
            "[8/8] Loss_D: 0.3876 Loss_G: 0.0100 D(x): 0.7780 D(G(z)): 0.1568:  19% 126/667 [01:10<09:42,  1.08s/it]/usr/local/lib/python3.6/dist-packages/PIL/Image.py:932: UserWarning: Palette images with Transparency expressed in bytes should be converted to RGBA images\n",
            "  \"Palette images with Transparency expressed in bytes should be \"\n",
            "[8/8] Loss_D: 0.3879 Loss_G: 0.0100 D(x): 0.7778 D(G(z)): 0.1569:  19% 128/667 [01:11<06:07,  1.46it/s]/usr/local/lib/python3.6/dist-packages/PIL/TiffImagePlugin.py:788: UserWarning: Corrupt EXIF data.  Expecting to read 4 bytes but only got 0. \n",
            "  warnings.warn(str(msg))\n",
            "[8/8] Loss_D: 0.4491 Loss_G: 0.0099 D(x): 0.7329 D(G(z)): 0.1736: 100% 667/667 [05:39<00:00,  1.96it/s]\n",
            "[converting LR images to SR images] PSNR: 23.3579 dB SSIM: 0.7805: 100% 436/436 [01:13<00:00,  5.90it/s]\n",
            "[saving training results]: 100% 8/8 [00:05<00:00,  1.50it/s]\n",
            "[9/9] Loss_D: 0.4502 Loss_G: 0.0099 D(x): 0.7322 D(G(z)): 0.1740:   2% 11/667 [00:06<04:50,  2.26it/s]/usr/local/lib/python3.6/dist-packages/PIL/Image.py:932: UserWarning: Palette images with Transparency expressed in bytes should be converted to RGBA images\n",
            "  \"Palette images with Transparency expressed in bytes should be \"\n",
            "[9/9] Loss_D: 0.4575 Loss_G: 0.0098 D(x): 0.7275 D(G(z)): 0.1767:  13% 85/667 [00:45<06:49,  1.42it/s]/usr/local/lib/python3.6/dist-packages/PIL/Image.py:932: UserWarning: Palette images with Transparency expressed in bytes should be converted to RGBA images\n",
            "  \"Palette images with Transparency expressed in bytes should be \"\n",
            "[9/9] Loss_D: 0.4616 Loss_G: 0.0098 D(x): 0.7253 D(G(z)): 0.1785:  19% 127/667 [01:05<05:14,  1.72it/s]/usr/local/lib/python3.6/dist-packages/PIL/Image.py:932: UserWarning: Palette images with Transparency expressed in bytes should be converted to RGBA images\n",
            "  \"Palette images with Transparency expressed in bytes should be \"\n",
            "[9/9] Loss_D: 0.4757 Loss_G: 0.0098 D(x): 0.7151 D(G(z)): 0.1824:  43% 289/667 [02:26<02:09,  2.92it/s]/usr/local/lib/python3.6/dist-packages/PIL/Image.py:932: UserWarning: Palette images with Transparency expressed in bytes should be converted to RGBA images\n",
            "  \"Palette images with Transparency expressed in bytes should be \"\n",
            "[9/9] Loss_D: 0.4893 Loss_G: 0.0097 D(x): 0.7083 D(G(z)): 0.1891:  78% 521/667 [04:29<01:13,  1.99it/s]/usr/local/lib/python3.6/dist-packages/PIL/TiffImagePlugin.py:788: UserWarning: Corrupt EXIF data.  Expecting to read 4 bytes but only got 0. \n",
            "  warnings.warn(str(msg))\n",
            "[9/9] Loss_D: 0.4892 Loss_G: 0.0096 D(x): 0.7099 D(G(z)): 0.1907: 100% 667/667 [05:40<00:00,  1.96it/s]\n",
            "[converting LR images to SR images] PSNR: 23.8434 dB SSIM: 0.7834: 100% 436/436 [01:14<00:00,  5.87it/s]\n",
            "[saving training results]: 100% 8/8 [00:05<00:00,  1.51it/s]\n",
            "[10/10] Loss_D: 0.4886 Loss_G: 0.0096 D(x): 0.7104 D(G(z)): 0.1906:   1% 10/667 [00:06<07:39,  1.43it/s]/usr/local/lib/python3.6/dist-packages/PIL/Image.py:932: UserWarning: Palette images with Transparency expressed in bytes should be converted to RGBA images\n",
            "  \"Palette images with Transparency expressed in bytes should be \"\n",
            "[10/10] Loss_D: 0.4861 Loss_G: 0.0096 D(x): 0.7127 D(G(z)): 0.1904:   9% 58/667 [00:31<05:53,  1.72it/s]/usr/local/lib/python3.6/dist-packages/PIL/Image.py:932: UserWarning: Palette images with Transparency expressed in bytes should be converted to RGBA images\n",
            "  \"Palette images with Transparency expressed in bytes should be \"\n",
            "[10/10] Loss_D: 0.4828 Loss_G: 0.0096 D(x): 0.7155 D(G(z)): 0.1898:  18% 120/667 [01:03<04:16,  2.13it/s]/usr/local/lib/python3.6/dist-packages/PIL/Image.py:932: UserWarning: Palette images with Transparency expressed in bytes should be converted to RGBA images\n",
            "  \"Palette images with Transparency expressed in bytes should be \"\n",
            "[10/10] Loss_D: 0.4832 Loss_G: 0.0096 D(x): 0.7170 D(G(z)): 0.1920:  23% 155/667 [01:21<05:55,  1.44it/s]/usr/local/lib/python3.6/dist-packages/PIL/TiffImagePlugin.py:788: UserWarning: Corrupt EXIF data.  Expecting to read 4 bytes but only got 0. \n",
            "  warnings.warn(str(msg))\n",
            "[10/10] Loss_D: 0.4876 Loss_G: 0.0096 D(x): 0.7195 D(G(z)): 0.1989:  31% 208/667 [01:49<03:56,  1.94it/s]/usr/local/lib/python3.6/dist-packages/PIL/Image.py:932: UserWarning: Palette images with Transparency expressed in bytes should be converted to RGBA images\n",
            "  \"Palette images with Transparency expressed in bytes should be \"\n",
            "[10/10] Loss_D: 0.5229 Loss_G: 0.0094 D(x): 0.7387 D(G(z)): 0.2540: 100% 667/667 [05:39<00:00,  1.97it/s]\n",
            "[converting LR images to SR images] PSNR: 23.8086 dB SSIM: 0.7806: 100% 436/436 [01:14<00:00,  5.87it/s]\n",
            "[saving training results]: 100% 8/8 [00:05<00:00,  1.51it/s]\n",
            "[11/11] Loss_D: 0.5255 Loss_G: 0.0094 D(x): 0.7402 D(G(z)): 0.2581:   6% 37/667 [00:19<05:59,  1.75it/s]/usr/local/lib/python3.6/dist-packages/PIL/Image.py:932: UserWarning: Palette images with Transparency expressed in bytes should be converted to RGBA images\n",
            "  \"Palette images with Transparency expressed in bytes should be \"\n",
            "[11/11] Loss_D: 0.5283 Loss_G: 0.0094 D(x): 0.7417 D(G(z)): 0.2625:  12% 77/667 [00:35<04:03,  2.42it/s]/usr/local/lib/python3.6/dist-packages/PIL/Image.py:932: UserWarning: Palette images with Transparency expressed in bytes should be converted to RGBA images\n",
            "  \"Palette images with Transparency expressed in bytes should be \"\n",
            "[11/11] Loss_D: 0.5286 Loss_G: 0.0094 D(x): 0.7419 D(G(z)): 0.2630:  12% 81/667 [00:37<03:53,  2.51it/s]/usr/local/lib/python3.6/dist-packages/PIL/Image.py:932: UserWarning: Palette images with Transparency expressed in bytes should be converted to RGBA images\n",
            "  \"Palette images with Transparency expressed in bytes should be \"\n",
            "[11/11] Loss_D: 0.5350 Loss_G: 0.0094 D(x): 0.7454 D(G(z)): 0.2730:  26% 174/667 [01:22<02:47,  2.95it/s]/usr/local/lib/python3.6/dist-packages/PIL/Image.py:932: UserWarning: Palette images with Transparency expressed in bytes should be converted to RGBA images\n",
            "  \"Palette images with Transparency expressed in bytes should be \"\n",
            "[11/11] Loss_D: 0.5455 Loss_G: 0.0093 D(x): 0.7511 D(G(z)): 0.2894:  50% 332/667 [02:43<02:13,  2.51it/s]/usr/local/lib/python3.6/dist-packages/PIL/TiffImagePlugin.py:788: UserWarning: Corrupt EXIF data.  Expecting to read 4 bytes but only got 0. \n",
            "  warnings.warn(str(msg))\n",
            "[11/11] Loss_D: 0.5663 Loss_G: 0.0092 D(x): 0.7625 D(G(z)): 0.3218: 100% 667/667 [05:38<00:00,  1.97it/s]\n",
            "[converting LR images to SR images] PSNR: 23.3639 dB SSIM: 0.7821: 100% 436/436 [01:14<00:00,  5.87it/s]\n",
            "[saving training results]: 100% 8/8 [00:05<00:00,  1.47it/s]\n",
            "[12/12] Loss_D: 0.5673 Loss_G: 0.0092 D(x): 0.7631 D(G(z)): 0.3235:   3% 18/667 [00:11<04:44,  2.28it/s]/usr/local/lib/python3.6/dist-packages/PIL/Image.py:932: UserWarning: Palette images with Transparency expressed in bytes should be converted to RGBA images\n",
            "  \"Palette images with Transparency expressed in bytes should be \"\n",
            "[12/12] Loss_D: 0.5695 Loss_G: 0.0092 D(x): 0.7643 D(G(z)): 0.3269:   8% 55/667 [00:31<04:32,  2.25it/s]/usr/local/lib/python3.6/dist-packages/PIL/Image.py:932: UserWarning: Palette images with Transparency expressed in bytes should be converted to RGBA images\n",
            "  \"Palette images with Transparency expressed in bytes should be \"\n",
            "/usr/local/lib/python3.6/dist-packages/PIL/Image.py:932: UserWarning: Palette images with Transparency expressed in bytes should be converted to RGBA images\n",
            "  \"Palette images with Transparency expressed in bytes should be \"\n",
            "[12/12] Loss_D: 0.5729 Loss_G: 0.0092 D(x): 0.7661 D(G(z)): 0.3322:  17% 114/667 [01:01<06:57,  1.32it/s]/usr/local/lib/python3.6/dist-packages/PIL/Image.py:932: UserWarning: Palette images with Transparency expressed in bytes should be converted to RGBA images\n",
            "  \"Palette images with Transparency expressed in bytes should be \"\n",
            "[12/12] Loss_D: 0.5795 Loss_G: 0.0092 D(x): 0.7697 D(G(z)): 0.3425:  34% 230/667 [01:59<02:32,  2.86it/s]/usr/local/lib/python3.6/dist-packages/PIL/TiffImagePlugin.py:788: UserWarning: Corrupt EXIF data.  Expecting to read 4 bytes but only got 0. \n",
            "  warnings.warn(str(msg))\n",
            "[12/12] Loss_D: 0.6024 Loss_G: 0.0090 D(x): 0.7823 D(G(z)): 0.3783: 100% 667/667 [05:40<00:00,  1.96it/s]\n",
            "[converting LR images to SR images] PSNR: 23.9260 dB SSIM: 0.7872: 100% 436/436 [01:14<00:00,  5.82it/s]\n",
            "[saving training results]: 100% 8/8 [00:05<00:00,  1.49it/s]\n",
            "[13/13] Loss_D: 0.6035 Loss_G: 0.0090 D(x): 0.7829 D(G(z)): 0.3800:   3% 21/667 [00:14<08:43,  1.23it/s]/usr/local/lib/python3.6/dist-packages/PIL/Image.py:932: UserWarning: Palette images with Transparency expressed in bytes should be converted to RGBA images\n",
            "  \"Palette images with Transparency expressed in bytes should be \"\n",
            "[13/13] Loss_D: 0.6053 Loss_G: 0.0090 D(x): 0.7839 D(G(z)): 0.3828:   9% 58/667 [00:34<09:46,  1.04it/s]/usr/local/lib/python3.6/dist-packages/PIL/Image.py:932: UserWarning: Palette images with Transparency expressed in bytes should be converted to RGBA images\n",
            "  \"Palette images with Transparency expressed in bytes should be \"\n",
            "[13/13] Loss_D: 0.6067 Loss_G: 0.0090 D(x): 0.7846 D(G(z)): 0.3850:  13% 87/667 [00:49<03:41,  2.62it/s]/usr/local/lib/python3.6/dist-packages/PIL/Image.py:932: UserWarning: Palette images with Transparency expressed in bytes should be converted to RGBA images\n",
            "  \"Palette images with Transparency expressed in bytes should be \"\n",
            "[13/13] Loss_D: 0.6163 Loss_G: 0.0090 D(x): 0.7899 D(G(z)): 0.4000:  43% 289/667 [02:33<03:12,  1.96it/s]/usr/local/lib/python3.6/dist-packages/PIL/Image.py:932: UserWarning: Palette images with Transparency expressed in bytes should be converted to RGBA images\n",
            "  \"Palette images with Transparency expressed in bytes should be \"\n",
            "[13/13] Loss_D: 0.6256 Loss_G: 0.0089 D(x): 0.7950 D(G(z)): 0.4147:  74% 496/667 [04:19<01:02,  2.72it/s]/usr/local/lib/python3.6/dist-packages/PIL/TiffImagePlugin.py:788: UserWarning: Corrupt EXIF data.  Expecting to read 4 bytes but only got 0. \n",
            "  warnings.warn(str(msg))\n",
            "[13/13] Loss_D: 0.6330 Loss_G: 0.0089 D(x): 0.7990 D(G(z)): 0.4262: 100% 667/667 [05:42<00:00,  1.95it/s]\n",
            "[converting LR images to SR images] PSNR: 23.6773 dB SSIM: 0.7887: 100% 436/436 [01:14<00:00,  5.83it/s]\n",
            "[saving training results]: 100% 8/8 [00:05<00:00,  1.51it/s]\n",
            "[14/14] Loss_D: 0.6332 Loss_G: 0.0089 D(x): 0.7992 D(G(z)): 0.4265:   1% 5/667 [00:04<09:38,  1.14it/s]/usr/local/lib/python3.6/dist-packages/PIL/Image.py:932: UserWarning: Palette images with Transparency expressed in bytes should be converted to RGBA images\n",
            "  \"Palette images with Transparency expressed in bytes should be \"\n",
            "[14/14] Loss_D: 0.6340 Loss_G: 0.0089 D(x): 0.7996 D(G(z)): 0.4278:   4% 25/667 [00:14<03:30,  3.05it/s]/usr/local/lib/python3.6/dist-packages/PIL/Image.py:932: UserWarning: Palette images with Transparency expressed in bytes should be converted to RGBA images\n",
            "  \"Palette images with Transparency expressed in bytes should be \"\n",
            "[14/14] Loss_D: 0.6355 Loss_G: 0.0089 D(x): 0.8004 D(G(z)): 0.4301:   9% 60/667 [00:33<04:28,  2.26it/s]/usr/local/lib/python3.6/dist-packages/PIL/Image.py:932: UserWarning: Palette images with Transparency expressed in bytes should be converted to RGBA images\n",
            "  \"Palette images with Transparency expressed in bytes should be \"\n",
            "[14/14] Loss_D: 0.6364 Loss_G: 0.0089 D(x): 0.8009 D(G(z)): 0.4315:  12% 81/667 [00:44<07:14,  1.35it/s]/usr/local/lib/python3.6/dist-packages/PIL/TiffImagePlugin.py:788: UserWarning: Corrupt EXIF data.  Expecting to read 4 bytes but only got 0. \n",
            "  warnings.warn(str(msg))\n",
            "[14/14] Loss_D: 0.6472 Loss_G: 0.0088 D(x): 0.8068 D(G(z)): 0.4484:  52% 349/667 [03:01<03:27,  1.53it/s]/usr/local/lib/python3.6/dist-packages/PIL/Image.py:932: UserWarning: Palette images with Transparency expressed in bytes should be converted to RGBA images\n",
            "  \"Palette images with Transparency expressed in bytes should be \"\n",
            "[14/14] Loss_D: 0.6592 Loss_G: 0.0087 D(x): 0.8133 D(G(z)): 0.4671: 100% 667/667 [05:41<00:00,  1.96it/s]\n",
            "[converting LR images to SR images] PSNR: 23.9268 dB SSIM: 0.7861: 100% 436/436 [01:14<00:00,  5.83it/s]\n",
            "[saving training results]: 100% 8/8 [00:05<00:00,  1.51it/s]\n",
            "[15/15] Loss_D: 0.6606 Loss_G: 0.0087 D(x): 0.8141 D(G(z)): 0.4692:   6% 37/667 [00:21<04:51,  2.16it/s]/usr/local/lib/python3.6/dist-packages/PIL/Image.py:932: UserWarning: Palette images with Transparency expressed in bytes should be converted to RGBA images\n",
            "  \"Palette images with Transparency expressed in bytes should be \"\n",
            "[15/15] Loss_D: 0.6627 Loss_G: 0.0087 D(x): 0.8153 D(G(z)): 0.4726:  15% 97/667 [00:57<04:59,  1.90it/s]/usr/local/lib/python3.6/dist-packages/PIL/Image.py:932: UserWarning: Palette images with Transparency expressed in bytes should be converted to RGBA images\n",
            "  \"Palette images with Transparency expressed in bytes should be \"\n",
            "[15/15] Loss_D: 0.6639 Loss_G: 0.0087 D(x): 0.8159 D(G(z)): 0.4745:  20% 131/667 [01:14<03:32,  2.52it/s]/usr/local/lib/python3.6/dist-packages/PIL/Image.py:932: UserWarning: Palette images with Transparency expressed in bytes should be converted to RGBA images\n",
            "  \"Palette images with Transparency expressed in bytes should be \"\n",
            "[15/15] Loss_D: 0.6694 Loss_G: 0.0087 D(x): 0.8189 D(G(z)): 0.4830:  43% 286/667 [02:28<02:14,  2.84it/s]/usr/local/lib/python3.6/dist-packages/PIL/Image.py:932: UserWarning: Palette images with Transparency expressed in bytes should be converted to RGBA images\n",
            "  \"Palette images with Transparency expressed in bytes should be \"\n",
            "[15/15] Loss_D: 0.6761 Loss_G: 0.0086 D(x): 0.8226 D(G(z)): 0.4935:  73% 486/667 [04:10<02:01,  1.49it/s]/usr/local/lib/python3.6/dist-packages/PIL/TiffImagePlugin.py:788: UserWarning: Corrupt EXIF data.  Expecting to read 4 bytes but only got 0. \n",
            "  warnings.warn(str(msg))\n",
            "[15/15] Loss_D: 0.6819 Loss_G: 0.0086 D(x): 0.8258 D(G(z)): 0.5026: 100% 667/667 [05:41<00:00,  1.96it/s]\n",
            "[converting LR images to SR images] PSNR: 24.1000 dB SSIM: 0.7874: 100% 436/436 [01:14<00:00,  5.83it/s]\n",
            "[saving training results]: 100% 8/8 [00:05<00:00,  1.48it/s]\n",
            "[16/16] Loss_D: 0.6820 Loss_G: 0.0086 D(x): 0.8258 D(G(z)): 0.5028:   0% 3/667 [00:03<15:56,  1.44s/it]/usr/local/lib/python3.6/dist-packages/PIL/Image.py:932: UserWarning: Palette images with Transparency expressed in bytes should be converted to RGBA images\n",
            "  \"Palette images with Transparency expressed in bytes should be \"\n",
            "[16/16] Loss_D: 0.6833 Loss_G: 0.0086 D(x): 0.8265 D(G(z)): 0.5048:   6% 43/667 [00:24<06:17,  1.65it/s]/usr/local/lib/python3.6/dist-packages/PIL/Image.py:932: UserWarning: Palette images with Transparency expressed in bytes should be converted to RGBA images\n",
            "  \"Palette images with Transparency expressed in bytes should be \"\n",
            "[16/16] Loss_D: 0.6884 Loss_G: 0.0086 D(x): 0.8293 D(G(z)): 0.5127:  31% 206/667 [01:45<03:37,  2.11it/s]/usr/local/lib/python3.6/dist-packages/PIL/Image.py:932: UserWarning: Palette images with Transparency expressed in bytes should be converted to RGBA images\n",
            "  \"Palette images with Transparency expressed in bytes should be \"\n",
            "[16/16] Loss_D: 0.6893 Loss_G: 0.0086 D(x): 0.8298 D(G(z)): 0.5142:  36% 238/667 [02:01<02:27,  2.91it/s]/usr/local/lib/python3.6/dist-packages/PIL/Image.py:932: UserWarning: Palette images with Transparency expressed in bytes should be converted to RGBA images\n",
            "  \"Palette images with Transparency expressed in bytes should be \"\n",
            "[16/16] Loss_D: 0.6941 Loss_G: 0.0086 D(x): 0.8324 D(G(z)): 0.5216:  59% 396/667 [03:22<03:14,  1.39it/s]/usr/local/lib/python3.6/dist-packages/PIL/TiffImagePlugin.py:788: UserWarning: Corrupt EXIF data.  Expecting to read 4 bytes but only got 0. \n",
            "  warnings.warn(str(msg))\n",
            "[16/16] Loss_D: 0.7018 Loss_G: 0.0085 D(x): 0.8367 D(G(z)): 0.5337: 100% 667/667 [05:40<00:00,  1.96it/s]\n",
            "[converting LR images to SR images] PSNR: 23.0596 dB SSIM: 0.7861: 100% 436/436 [01:15<00:00,  5.80it/s]\n",
            "[saving training results]: 100% 8/8 [00:05<00:00,  1.56it/s]\n",
            "  0% 0/667 [00:00<?, ?it/s]/usr/local/lib/python3.6/dist-packages/PIL/Image.py:932: UserWarning: Palette images with Transparency expressed in bytes should be converted to RGBA images\n",
            "  \"Palette images with Transparency expressed in bytes should be \"\n",
            "[17/17] Loss_D: 0.7020 Loss_G: 0.0085 D(x): 0.8368 D(G(z)): 0.5341:   1% 8/667 [00:06<07:00,  1.57it/s]/usr/local/lib/python3.6/dist-packages/PIL/Image.py:932: UserWarning: Palette images with Transparency expressed in bytes should be converted to RGBA images\n",
            "  \"Palette images with Transparency expressed in bytes should be \"\n",
            "[17/17] Loss_D: 0.7029 Loss_G: 0.0085 D(x): 0.8373 D(G(z)): 0.5355:   6% 40/667 [00:21<04:43,  2.21it/s]/usr/local/lib/python3.6/dist-packages/PIL/Image.py:932: UserWarning: Palette images with Transparency expressed in bytes should be converted to RGBA images\n",
            "  \"Palette images with Transparency expressed in bytes should be \"\n",
            "[17/17] Loss_D: 0.7037 Loss_G: 0.0085 D(x): 0.8377 D(G(z)): 0.5366:  10% 66/667 [00:33<05:09,  1.94it/s]/usr/local/lib/python3.6/dist-packages/PIL/Image.py:932: UserWarning: Palette images with Transparency expressed in bytes should be converted to RGBA images\n",
            "  \"Palette images with Transparency expressed in bytes should be \"\n",
            "[17/17] Loss_D: 0.7150 Loss_G: 0.0084 D(x): 0.8439 D(G(z)): 0.5543:  74% 492/667 [04:08<01:14,  2.34it/s]/usr/local/lib/python3.6/dist-packages/PIL/TiffImagePlugin.py:788: UserWarning: Corrupt EXIF data.  Expecting to read 4 bytes but only got 0. \n",
            "  warnings.warn(str(msg))\n",
            "[17/17] Loss_D: 0.7194 Loss_G: 0.0084 D(x): 0.8463 D(G(z)): 0.5612: 100% 667/667 [05:40<00:00,  1.96it/s]\n",
            "[converting LR images to SR images] PSNR: 23.8522 dB SSIM: 0.7905: 100% 436/436 [01:15<00:00,  5.80it/s]\n",
            "[saving training results]: 100% 8/8 [00:05<00:00,  1.50it/s]\n",
            "[18/18] Loss_D: 0.7201 Loss_G: 0.0084 D(x): 0.8467 D(G(z)): 0.5623:   4% 30/667 [00:21<05:06,  2.08it/s]/usr/local/lib/python3.6/dist-packages/PIL/Image.py:932: UserWarning: Palette images with Transparency expressed in bytes should be converted to RGBA images\n",
            "  \"Palette images with Transparency expressed in bytes should be \"\n",
            "[18/18] Loss_D: 0.7201 Loss_G: 0.0084 D(x): 0.8467 D(G(z)): 0.5624:   5% 31/667 [00:22<07:38,  1.39it/s]/usr/local/lib/python3.6/dist-packages/PIL/Image.py:932: UserWarning: Palette images with Transparency expressed in bytes should be converted to RGBA images\n",
            "  \"Palette images with Transparency expressed in bytes should be \"\n",
            "[18/18] Loss_D: 0.7215 Loss_G: 0.0084 D(x): 0.8475 D(G(z)): 0.5646:  13% 89/667 [00:51<03:14,  2.98it/s]/usr/local/lib/python3.6/dist-packages/PIL/Image.py:932: UserWarning: Palette images with Transparency expressed in bytes should be converted to RGBA images\n",
            "  \"Palette images with Transparency expressed in bytes should be \"\n",
            "[18/18] Loss_D: 0.7221 Loss_G: 0.0084 D(x): 0.8478 D(G(z)): 0.5655:  17% 113/667 [01:01<03:47,  2.44it/s]/usr/local/lib/python3.6/dist-packages/PIL/Image.py:932: UserWarning: Palette images with Transparency expressed in bytes should be converted to RGBA images\n",
            "  \"Palette images with Transparency expressed in bytes should be \"\n",
            "[18/18] Loss_D: 0.7317 Loss_G: 0.0083 D(x): 0.8530 D(G(z)): 0.5805:  78% 521/667 [04:32<01:14,  1.95it/s]/usr/local/lib/python3.6/dist-packages/PIL/TiffImagePlugin.py:788: UserWarning: Corrupt EXIF data.  Expecting to read 4 bytes but only got 0. \n",
            "  warnings.warn(str(msg))\n",
            "[18/18] Loss_D: 0.7349 Loss_G: 0.0083 D(x): 0.8548 D(G(z)): 0.5855: 100% 667/667 [05:38<00:00,  1.97it/s]\n",
            "[converting LR images to SR images] PSNR: 24.0561 dB SSIM: 0.7916: 100% 436/436 [01:15<00:00,  5.81it/s]\n",
            "[saving training results]: 100% 8/8 [00:05<00:00,  1.49it/s]\n",
            "  0% 0/667 [00:00<?, ?it/s]/usr/local/lib/python3.6/dist-packages/PIL/Image.py:932: UserWarning: Palette images with Transparency expressed in bytes should be converted to RGBA images\n",
            "  \"Palette images with Transparency expressed in bytes should be \"\n",
            "[19/19] Loss_D: 0.7353 Loss_G: 0.0083 D(x): 0.8550 D(G(z)): 0.5861:   2% 16/667 [00:08<03:55,  2.76it/s]/usr/local/lib/python3.6/dist-packages/PIL/Image.py:932: UserWarning: Palette images with Transparency expressed in bytes should be converted to RGBA images\n",
            "  \"Palette images with Transparency expressed in bytes should be \"\n",
            "[19/19] Loss_D: 0.7357 Loss_G: 0.0083 D(x): 0.8552 D(G(z)): 0.5867:   5% 33/667 [00:16<03:28,  3.04it/s]/usr/local/lib/python3.6/dist-packages/PIL/Image.py:932: UserWarning: Palette images with Transparency expressed in bytes should be converted to RGBA images\n",
            "  \"Palette images with Transparency expressed in bytes should be \"\n",
            "[19/19] Loss_D: 0.7362 Loss_G: 0.0083 D(x): 0.8555 D(G(z)): 0.5875:   9% 57/667 [00:29<06:37,  1.54it/s]/usr/local/lib/python3.6/dist-packages/PIL/Image.py:932: UserWarning: Palette images with Transparency expressed in bytes should be converted to RGBA images\n",
            "  \"Palette images with Transparency expressed in bytes should be \"\n",
            "[19/19] Loss_D: 0.7484 Loss_G: 0.0082 D(x): 0.8622 D(G(z)): 0.6065:  96% 639/667 [05:22<00:09,  2.93it/s]/usr/local/lib/python3.6/dist-packages/PIL/TiffImagePlugin.py:788: UserWarning: Corrupt EXIF data.  Expecting to read 4 bytes but only got 0. \n",
            "  warnings.warn(str(msg))\n",
            "[19/19] Loss_D: 0.7489 Loss_G: 0.0082 D(x): 0.8625 D(G(z)): 0.6074: 100% 667/667 [05:35<00:00,  1.99it/s]\n",
            "[converting LR images to SR images] PSNR: 23.2346 dB SSIM: 0.7904: 100% 436/436 [01:14<00:00,  5.83it/s]\n",
            "[saving training results]: 100% 8/8 [00:05<00:00,  1.56it/s]\n",
            "[20/20] Loss_D: 0.7499 Loss_G: 0.0082 D(x): 0.8630 D(G(z)): 0.6089:   7% 50/667 [00:29<04:11,  2.46it/s]/usr/local/lib/python3.6/dist-packages/PIL/Image.py:932: UserWarning: Palette images with Transparency expressed in bytes should be converted to RGBA images\n",
            "  \"Palette images with Transparency expressed in bytes should be \"\n",
            "[20/20] Loss_D: 0.7504 Loss_G: 0.0082 D(x): 0.8633 D(G(z)): 0.6096:  11% 74/667 [00:41<03:39,  2.70it/s]/usr/local/lib/python3.6/dist-packages/PIL/Image.py:932: UserWarning: Palette images with Transparency expressed in bytes should be converted to RGBA images\n",
            "  \"Palette images with Transparency expressed in bytes should be \"\n",
            "[20/20] Loss_D: 0.7506 Loss_G: 0.0082 D(x): 0.8634 D(G(z)): 0.6100:  13% 87/667 [00:46<03:35,  2.69it/s]/usr/local/lib/python3.6/dist-packages/PIL/Image.py:932: UserWarning: Palette images with Transparency expressed in bytes should be converted to RGBA images\n",
            "  \"Palette images with Transparency expressed in bytes should be \"\n",
            "[20/20] Loss_D: 0.7514 Loss_G: 0.0082 D(x): 0.8639 D(G(z)): 0.6113:  19% 129/667 [01:10<04:02,  2.22it/s]/usr/local/lib/python3.6/dist-packages/PIL/Image.py:932: UserWarning: Palette images with Transparency expressed in bytes should be converted to RGBA images\n",
            "  \"Palette images with Transparency expressed in bytes should be \"\n",
            "[20/20] Loss_D: 0.7593 Loss_G: 0.0082 D(x): 0.8590 D(G(z)): 0.6143:  82% 545/667 [04:39<00:47,  2.59it/s]/usr/local/lib/python3.6/dist-packages/PIL/TiffImagePlugin.py:788: UserWarning: Corrupt EXIF data.  Expecting to read 4 bytes but only got 0. \n",
            "  warnings.warn(str(msg))\n",
            "[20/20] Loss_D: 0.7614 Loss_G: 0.0082 D(x): 0.8554 D(G(z)): 0.6130: 100% 667/667 [05:35<00:00,  1.99it/s]\n",
            "[converting LR images to SR images] PSNR: 24.0255 dB SSIM: 0.7902: 100% 436/436 [01:15<00:00,  5.74it/s]\n",
            "[saving training results]: 100% 8/8 [00:05<00:00,  1.49it/s]\n",
            "[21/21] Loss_D: 0.7616 Loss_G: 0.0082 D(x): 0.8553 D(G(z)): 0.6129:   1% 8/667 [00:07<09:59,  1.10it/s]/usr/local/lib/python3.6/dist-packages/PIL/Image.py:932: UserWarning: Palette images with Transparency expressed in bytes should be converted to RGBA images\n",
            "  \"Palette images with Transparency expressed in bytes should be \"\n",
            "[21/21] Loss_D: 0.7621 Loss_G: 0.0082 D(x): 0.8549 D(G(z)): 0.6130:   5% 35/667 [00:20<04:57,  2.12it/s]/usr/local/lib/python3.6/dist-packages/PIL/Image.py:932: UserWarning: Palette images with Transparency expressed in bytes should be converted to RGBA images\n",
            "  \"Palette images with Transparency expressed in bytes should be \"\n",
            "[21/21] Loss_D: 0.7622 Loss_G: 0.0082 D(x): 0.8548 D(G(z)): 0.6131:   7% 45/667 [00:26<05:02,  2.06it/s]/usr/local/lib/python3.6/dist-packages/PIL/Image.py:932: UserWarning: Palette images with Transparency expressed in bytes should be converted to RGBA images\n",
            "  \"Palette images with Transparency expressed in bytes should be \"\n",
            "[21/21] Loss_D: 0.7665 Loss_G: 0.0081 D(x): 0.8472 D(G(z)): 0.6098:  43% 286/667 [02:29<02:55,  2.16it/s]/usr/local/lib/python3.6/dist-packages/PIL/Image.py:932: UserWarning: Palette images with Transparency expressed in bytes should be converted to RGBA images\n",
            "  \"Palette images with Transparency expressed in bytes should be \"\n",
            "[21/21] Loss_D: 0.7693 Loss_G: 0.0081 D(x): 0.8426 D(G(z)): 0.6081:  68% 453/667 [03:50<01:15,  2.85it/s]/usr/local/lib/python3.6/dist-packages/PIL/TiffImagePlugin.py:788: UserWarning: Corrupt EXIF data.  Expecting to read 4 bytes but only got 0. \n",
            "  warnings.warn(str(msg))\n",
            "[21/21] Loss_D: 0.7729 Loss_G: 0.0081 D(x): 0.8373 D(G(z)): 0.6065: 100% 667/667 [05:39<00:00,  1.96it/s]\n",
            "[converting LR images to SR images] PSNR: 23.7568 dB SSIM: 0.7932: 100% 436/436 [01:16<00:00,  5.71it/s]\n",
            "[saving training results]: 100% 8/8 [00:05<00:00,  1.48it/s]\n",
            "[22/22] Loss_D: 0.7731 Loss_G: 0.0081 D(x): 0.8372 D(G(z)): 0.6065:   1% 9/667 [00:09<08:11,  1.34it/s]/usr/local/lib/python3.6/dist-packages/PIL/Image.py:932: UserWarning: Palette images with Transparency expressed in bytes should be converted to RGBA images\n",
            "  \"Palette images with Transparency expressed in bytes should be \"\n",
            "[22/22] Loss_D: 0.7734 Loss_G: 0.0081 D(x): 0.8367 D(G(z)): 0.6064:   4% 30/667 [00:20<05:35,  1.90it/s]/usr/local/lib/python3.6/dist-packages/PIL/Image.py:932: UserWarning: Palette images with Transparency expressed in bytes should be converted to RGBA images\n",
            "  \"Palette images with Transparency expressed in bytes should be \"\n",
            "[22/22] Loss_D: 0.7736 Loss_G: 0.0081 D(x): 0.8366 D(G(z)): 0.6065:   6% 42/667 [00:26<06:35,  1.58it/s]/usr/local/lib/python3.6/dist-packages/PIL/Image.py:932: UserWarning: Palette images with Transparency expressed in bytes should be converted to RGBA images\n",
            "  \"Palette images with Transparency expressed in bytes should be \"\n",
            "[22/22] Loss_D: 0.7749 Loss_G: 0.0081 D(x): 0.8355 D(G(z)): 0.6067:  18% 120/667 [01:08<05:11,  1.75it/s]/usr/local/lib/python3.6/dist-packages/PIL/Image.py:932: UserWarning: Palette images with Transparency expressed in bytes should be converted to RGBA images\n",
            "  \"Palette images with Transparency expressed in bytes should be \"\n",
            "[22/22] Loss_D: 0.7765 Loss_G: 0.0081 D(x): 0.8345 D(G(z)): 0.6072:  33% 220/667 [01:56<03:36,  2.07it/s]/usr/local/lib/python3.6/dist-packages/PIL/TiffImagePlugin.py:788: UserWarning: Corrupt EXIF data.  Expecting to read 4 bytes but only got 0. \n",
            "  warnings.warn(str(msg))\n",
            "[22/22] Loss_D: 0.7833 Loss_G: 0.0081 D(x): 0.8270 D(G(z)): 0.6067: 100% 667/667 [05:36<00:00,  1.98it/s]\n",
            "[converting LR images to SR images] PSNR: 22.9400 dB SSIM: 0.7883: 100% 436/436 [01:15<00:00,  5.76it/s]\n",
            "[saving training results]: 100% 8/8 [00:05<00:00,  1.53it/s]\n",
            "[23/23] Loss_D: 0.7835 Loss_G: 0.0081 D(x): 0.8268 D(G(z)): 0.6067:   2% 13/667 [00:08<04:41,  2.32it/s]/usr/local/lib/python3.6/dist-packages/PIL/Image.py:932: UserWarning: Palette images with Transparency expressed in bytes should be converted to RGBA images\n",
            "  \"Palette images with Transparency expressed in bytes should be \"\n",
            "[23/23] Loss_D: 0.7837 Loss_G: 0.0081 D(x): 0.8265 D(G(z)): 0.6066:   4% 29/667 [00:15<03:46,  2.82it/s]/usr/local/lib/python3.6/dist-packages/PIL/Image.py:932: UserWarning: Palette images with Transparency expressed in bytes should be converted to RGBA images\n",
            "  \"Palette images with Transparency expressed in bytes should be \"\n",
            "[23/23] Loss_D: 0.7848 Loss_G: 0.0080 D(x): 0.8254 D(G(z)): 0.6066:  15% 100/667 [00:49<03:45,  2.52it/s]/usr/local/lib/python3.6/dist-packages/PIL/TiffImagePlugin.py:788: UserWarning: Corrupt EXIF data.  Expecting to read 4 bytes but only got 0. \n",
            "  warnings.warn(str(msg))\n",
            "[23/23] Loss_D: 0.7863 Loss_G: 0.0080 D(x): 0.8235 D(G(z)): 0.6062:  31% 207/667 [01:44<03:39,  2.10it/s]/usr/local/lib/python3.6/dist-packages/PIL/Image.py:932: UserWarning: Palette images with Transparency expressed in bytes should be converted to RGBA images\n",
            "  \"Palette images with Transparency expressed in bytes should be \"\n",
            "[23/23] Loss_D: 0.7883 Loss_G: 0.0080 D(x): 0.8214 D(G(z)): 0.6062:  52% 347/667 [03:01<01:56,  2.74it/s]/usr/local/lib/python3.6/dist-packages/PIL/Image.py:932: UserWarning: Palette images with Transparency expressed in bytes should be converted to RGBA images\n",
            "  \"Palette images with Transparency expressed in bytes should be \"\n",
            "[23/23] Loss_D: 0.7927 Loss_G: 0.0080 D(x): 0.8164 D(G(z)): 0.6055: 100% 667/667 [05:39<00:00,  1.97it/s]\n",
            "[converting LR images to SR images] PSNR: 24.1171 dB SSIM: 0.7961: 100% 436/436 [01:15<00:00,  5.77it/s]\n",
            "[saving training results]: 100% 8/8 [00:05<00:00,  1.51it/s]\n",
            "[24/24] Loss_D: 0.7928 Loss_G: 0.0080 D(x): 0.8162 D(G(z)): 0.6055:   1% 9/667 [00:05<06:17,  1.74it/s]/usr/local/lib/python3.6/dist-packages/PIL/Image.py:932: UserWarning: Palette images with Transparency expressed in bytes should be converted to RGBA images\n",
            "  \"Palette images with Transparency expressed in bytes should be \"\n",
            "[24/24] Loss_D: 0.7932 Loss_G: 0.0080 D(x): 0.8158 D(G(z)): 0.6054:   5% 34/667 [00:15<03:24,  3.10it/s]/usr/local/lib/python3.6/dist-packages/PIL/Image.py:932: UserWarning: Palette images with Transparency expressed in bytes should be converted to RGBA images\n",
            "  \"Palette images with Transparency expressed in bytes should be \"\n",
            "[24/24] Loss_D: 0.7939 Loss_G: 0.0080 D(x): 0.8150 D(G(z)): 0.6054:  14% 93/667 [00:47<03:22,  2.84it/s]/usr/local/lib/python3.6/dist-packages/PIL/TiffImagePlugin.py:788: UserWarning: Corrupt EXIF data.  Expecting to read 4 bytes but only got 0. \n",
            "  warnings.warn(str(msg))\n",
            "[24/24] Loss_D: 0.7940 Loss_G: 0.0080 D(x): 0.8150 D(G(z)): 0.6054:  14% 94/667 [00:47<03:15,  2.93it/s]/usr/local/lib/python3.6/dist-packages/PIL/Image.py:932: UserWarning: Palette images with Transparency expressed in bytes should be converted to RGBA images\n",
            "  \"Palette images with Transparency expressed in bytes should be \"\n",
            "[24/24] Loss_D: 0.7946 Loss_G: 0.0080 D(x): 0.8144 D(G(z)): 0.6054:  21% 142/667 [01:11<03:02,  2.88it/s]/usr/local/lib/python3.6/dist-packages/PIL/Image.py:932: UserWarning: Palette images with Transparency expressed in bytes should be converted to RGBA images\n",
            "  \"Palette images with Transparency expressed in bytes should be \"\n",
            "[24/24] Loss_D: 0.8013 Loss_G: 0.0080 D(x): 0.8098 D(G(z)): 0.6077: 100% 667/667 [05:36<00:00,  1.98it/s]\n",
            "[converting LR images to SR images] PSNR: 23.3951 dB SSIM: 0.7882: 100% 436/436 [01:15<00:00,  5.77it/s]\n",
            "[saving training results]: 100% 8/8 [00:05<00:00,  1.50it/s]\n",
            "  0% 0/667 [00:00<?, ?it/s]/usr/local/lib/python3.6/dist-packages/PIL/Image.py:932: UserWarning: Palette images with Transparency expressed in bytes should be converted to RGBA images\n",
            "  \"Palette images with Transparency expressed in bytes should be \"\n",
            "[25/25] Loss_D: 0.8015 Loss_G: 0.0080 D(x): 0.8098 D(G(z)): 0.6078:   2% 12/667 [00:07<04:25,  2.47it/s]/usr/local/lib/python3.6/dist-packages/PIL/Image.py:932: UserWarning: Palette images with Transparency expressed in bytes should be converted to RGBA images\n",
            "  \"Palette images with Transparency expressed in bytes should be \"\n",
            "[25/25] Loss_D: 0.8036 Loss_G: 0.0079 D(x): 0.8087 D(G(z)): 0.6088:  28% 187/667 [01:38<04:41,  1.71it/s]/usr/local/lib/python3.6/dist-packages/PIL/Image.py:932: UserWarning: Palette images with Transparency expressed in bytes should be converted to RGBA images\n",
            "  \"Palette images with Transparency expressed in bytes should be \"\n",
            "[25/25] Loss_D: 0.8051 Loss_G: 0.0079 D(x): 0.8080 D(G(z)): 0.6097:  46% 309/667 [02:35<02:17,  2.61it/s]/usr/local/lib/python3.6/dist-packages/PIL/Image.py:932: UserWarning: Palette images with Transparency expressed in bytes should be converted to RGBA images\n",
            "  \"Palette images with Transparency expressed in bytes should be \"\n",
            "[25/25] Loss_D: 0.8071 Loss_G: 0.0079 D(x): 0.8068 D(G(z)): 0.6105:  72% 481/667 [04:01<01:23,  2.21it/s]/usr/local/lib/python3.6/dist-packages/PIL/TiffImagePlugin.py:788: UserWarning: Corrupt EXIF data.  Expecting to read 4 bytes but only got 0. \n",
            "  warnings.warn(str(msg))\n",
            "[25/25] Loss_D: 0.8093 Loss_G: 0.0079 D(x): 0.8053 D(G(z)): 0.6112: 100% 667/667 [05:37<00:00,  1.98it/s]\n",
            "[converting LR images to SR images] PSNR: 24.1966 dB SSIM: 0.7961: 100% 436/436 [01:15<00:00,  5.77it/s]\n",
            "[saving training results]: 100% 8/8 [00:05<00:00,  1.51it/s]\n",
            "[26/26] Loss_D: 0.8095 Loss_G: 0.0079 D(x): 0.8052 D(G(z)): 0.6114:   4% 24/667 [00:16<06:33,  1.63it/s]/usr/local/lib/python3.6/dist-packages/PIL/Image.py:932: UserWarning: Palette images with Transparency expressed in bytes should be converted to RGBA images\n",
            "  \"Palette images with Transparency expressed in bytes should be \"\n",
            "[26/26] Loss_D: 0.8099 Loss_G: 0.0079 D(x): 0.8049 D(G(z)): 0.6115:   8% 55/667 [00:32<04:15,  2.40it/s]/usr/local/lib/python3.6/dist-packages/PIL/Image.py:932: UserWarning: Palette images with Transparency expressed in bytes should be converted to RGBA images\n",
            "  \"Palette images with Transparency expressed in bytes should be \"\n",
            "[26/26] Loss_D: 0.8100 Loss_G: 0.0079 D(x): 0.8049 D(G(z)): 0.6115:   9% 62/667 [00:37<05:15,  1.92it/s]/usr/local/lib/python3.6/dist-packages/PIL/Image.py:932: UserWarning: Palette images with Transparency expressed in bytes should be converted to RGBA images\n",
            "  \"Palette images with Transparency expressed in bytes should be \"\n",
            "[26/26] Loss_D: 0.8106 Loss_G: 0.0079 D(x): 0.8043 D(G(z)): 0.6116:  18% 118/667 [01:04<03:00,  3.05it/s]/usr/local/lib/python3.6/dist-packages/PIL/Image.py:932: UserWarning: Palette images with Transparency expressed in bytes should be converted to RGBA images\n",
            "  \"Palette images with Transparency expressed in bytes should be \"\n",
            "[26/26] Loss_D: 0.8133 Loss_G: 0.0079 D(x): 0.8018 D(G(z)): 0.6118:  54% 363/667 [03:07<01:42,  2.97it/s]/usr/local/lib/python3.6/dist-packages/PIL/TiffImagePlugin.py:788: UserWarning: Corrupt EXIF data.  Expecting to read 4 bytes but only got 0. \n",
            "  warnings.warn(str(msg))\n",
            "[26/26] Loss_D: 0.8166 Loss_G: 0.0079 D(x): 0.7993 D(G(z)): 0.6126: 100% 667/667 [05:38<00:00,  1.97it/s]\n",
            "[converting LR images to SR images] PSNR: 24.2219 dB SSIM: 0.7968: 100% 436/436 [01:15<00:00,  5.75it/s]\n",
            "[saving training results]: 100% 8/8 [00:05<00:00,  1.52it/s]\n",
            "[27/27] Loss_D: 0.8172 Loss_G: 0.0079 D(x): 0.7990 D(G(z)): 0.6129:   9% 60/667 [00:33<05:30,  1.83it/s]/usr/local/lib/python3.6/dist-packages/PIL/Image.py:932: UserWarning: Palette images with Transparency expressed in bytes should be converted to RGBA images\n",
            "  \"Palette images with Transparency expressed in bytes should be \"\n",
            "[27/27] Loss_D: 0.8173 Loss_G: 0.0079 D(x): 0.7989 D(G(z)): 0.6129:  10% 65/667 [00:35<03:33,  2.82it/s]/usr/local/lib/python3.6/dist-packages/PIL/Image.py:932: UserWarning: Palette images with Transparency expressed in bytes should be converted to RGBA images\n",
            "  \"Palette images with Transparency expressed in bytes should be \"\n",
            "[27/27] Loss_D: 0.8175 Loss_G: 0.0079 D(x): 0.7989 D(G(z)): 0.6132:  13% 90/667 [00:47<04:03,  2.37it/s]/usr/local/lib/python3.6/dist-packages/PIL/TiffImagePlugin.py:788: UserWarning: Corrupt EXIF data.  Expecting to read 4 bytes but only got 0. \n",
            "  warnings.warn(str(msg))\n",
            "[27/27] Loss_D: 0.8177 Loss_G: 0.0079 D(x): 0.7988 D(G(z)): 0.6132:  15% 101/667 [00:55<04:22,  2.16it/s]/usr/local/lib/python3.6/dist-packages/PIL/Image.py:932: UserWarning: Palette images with Transparency expressed in bytes should be converted to RGBA images\n",
            "  \"Palette images with Transparency expressed in bytes should be \"\n",
            "[27/27] Loss_D: 0.8178 Loss_G: 0.0079 D(x): 0.7989 D(G(z)): 0.6134:  17% 112/667 [01:03<07:37,  1.21it/s]/usr/local/lib/python3.6/dist-packages/PIL/Image.py:932: UserWarning: Palette images with Transparency expressed in bytes should be converted to RGBA images\n",
            "  \"Palette images with Transparency expressed in bytes should be \"\n",
            "[27/27] Loss_D: 0.8233 Loss_G: 0.0078 D(x): 0.7972 D(G(z)): 0.6174: 100% 667/667 [05:38<00:00,  1.97it/s]\n",
            "[converting LR images to SR images] PSNR: 24.2977 dB SSIM: 0.7963: 100% 436/436 [01:15<00:00,  5.74it/s]\n",
            "[saving training results]: 100% 8/8 [00:05<00:00,  1.53it/s]\n",
            "[28/28] Loss_D: 0.8240 Loss_G: 0.0078 D(x): 0.7972 D(G(z)): 0.6180:  11% 72/667 [00:37<04:15,  2.33it/s]/usr/local/lib/python3.6/dist-packages/PIL/Image.py:932: UserWarning: Palette images with Transparency expressed in bytes should be converted to RGBA images\n",
            "  \"Palette images with Transparency expressed in bytes should be \"\n",
            "[28/28] Loss_D: 0.8247 Loss_G: 0.0078 D(x): 0.7970 D(G(z)): 0.6185:  21% 138/667 [01:10<05:22,  1.64it/s]/usr/local/lib/python3.6/dist-packages/PIL/Image.py:932: UserWarning: Palette images with Transparency expressed in bytes should be converted to RGBA images\n",
            "  \"Palette images with Transparency expressed in bytes should be \"\n",
            "[28/28] Loss_D: 0.8248 Loss_G: 0.0078 D(x): 0.7970 D(G(z)): 0.6185:  22% 146/667 [01:15<04:21,  1.99it/s]/usr/local/lib/python3.6/dist-packages/PIL/Image.py:932: UserWarning: Palette images with Transparency expressed in bytes should be converted to RGBA images\n",
            "  \"Palette images with Transparency expressed in bytes should be \"\n",
            "[28/28] Loss_D: 0.8268 Loss_G: 0.0078 D(x): 0.7965 D(G(z)): 0.6202:  55% 364/667 [03:08<02:55,  1.73it/s]/usr/local/lib/python3.6/dist-packages/PIL/TiffImagePlugin.py:788: UserWarning: Corrupt EXIF data.  Expecting to read 4 bytes but only got 0. \n",
            "  warnings.warn(str(msg))\n",
            "[28/28] Loss_D: 0.8278 Loss_G: 0.0078 D(x): 0.7963 D(G(z)): 0.6210:  70% 470/667 [04:00<01:24,  2.33it/s]/usr/local/lib/python3.6/dist-packages/PIL/Image.py:932: UserWarning: Palette images with Transparency expressed in bytes should be converted to RGBA images\n",
            "  \"Palette images with Transparency expressed in bytes should be \"\n",
            "[28/28] Loss_D: 0.8296 Loss_G: 0.0078 D(x): 0.7959 D(G(z)): 0.6224: 100% 667/667 [05:37<00:00,  1.97it/s]\n",
            "[converting LR images to SR images] PSNR: 22.9844 dB SSIM: 0.7838: 100% 436/436 [01:15<00:00,  5.76it/s]\n",
            "[saving training results]: 100% 8/8 [00:05<00:00,  1.50it/s]\n",
            "  0% 0/667 [00:00<?, ?it/s]/usr/local/lib/python3.6/dist-packages/PIL/Image.py:932: UserWarning: Palette images with Transparency expressed in bytes should be converted to RGBA images\n",
            "  \"Palette images with Transparency expressed in bytes should be \"\n",
            "[29/29] Loss_D: 0.8316 Loss_G: 0.0078 D(x): 0.7955 D(G(z)): 0.6240:  33% 220/667 [01:56<02:45,  2.71it/s]/usr/local/lib/python3.6/dist-packages/PIL/Image.py:932: UserWarning: Palette images with Transparency expressed in bytes should be converted to RGBA images\n",
            "  \"Palette images with Transparency expressed in bytes should be \"\n",
            "[29/29] Loss_D: 0.8317 Loss_G: 0.0078 D(x): 0.7954 D(G(z)): 0.6240:  34% 229/667 [02:01<02:51,  2.56it/s]/usr/local/lib/python3.6/dist-packages/PIL/Image.py:932: UserWarning: Palette images with Transparency expressed in bytes should be converted to RGBA images\n",
            "  \"Palette images with Transparency expressed in bytes should be \"\n",
            "[29/29] Loss_D: 0.8326 Loss_G: 0.0078 D(x): 0.7946 D(G(z)): 0.6241:  51% 343/667 [02:55<02:38,  2.05it/s]/usr/local/lib/python3.6/dist-packages/PIL/TiffImagePlugin.py:788: UserWarning: Corrupt EXIF data.  Expecting to read 4 bytes but only got 0. \n",
            "  warnings.warn(str(msg))\n",
            "[29/29] Loss_D: 0.8333 Loss_G: 0.0078 D(x): 0.7940 D(G(z)): 0.6243:  64% 424/667 [03:35<02:34,  1.57it/s]/usr/local/lib/python3.6/dist-packages/PIL/Image.py:932: UserWarning: Palette images with Transparency expressed in bytes should be converted to RGBA images\n",
            "  \"Palette images with Transparency expressed in bytes should be \"\n",
            "[29/29] Loss_D: 0.8354 Loss_G: 0.0078 D(x): 0.7937 D(G(z)): 0.6260: 100% 667/667 [05:37<00:00,  1.98it/s]\n",
            "[converting LR images to SR images] PSNR: 24.2164 dB SSIM: 0.7973: 100% 436/436 [01:15<00:00,  5.81it/s]\n",
            "[saving training results]: 100% 8/8 [00:05<00:00,  1.51it/s]\n",
            "[30/30] Loss_D: 0.8356 Loss_G: 0.0077 D(x): 0.7936 D(G(z)): 0.6261:   3% 23/667 [00:11<03:51,  2.78it/s]/usr/local/lib/python3.6/dist-packages/PIL/Image.py:932: UserWarning: Palette images with Transparency expressed in bytes should be converted to RGBA images\n",
            "  \"Palette images with Transparency expressed in bytes should be \"\n",
            "[30/30] Loss_D: 0.8361 Loss_G: 0.0077 D(x): 0.7936 D(G(z)): 0.6266:  13% 89/667 [00:46<03:26,  2.81it/s]/usr/local/lib/python3.6/dist-packages/PIL/Image.py:932: UserWarning: Palette images with Transparency expressed in bytes should be converted to RGBA images\n",
            "  \"Palette images with Transparency expressed in bytes should be \"\n",
            "[30/30] Loss_D: 0.8364 Loss_G: 0.0077 D(x): 0.7935 D(G(z)): 0.6268:  19% 127/667 [01:03<03:11,  2.82it/s]/usr/local/lib/python3.6/dist-packages/PIL/Image.py:932: UserWarning: Palette images with Transparency expressed in bytes should be converted to RGBA images\n",
            "  \"Palette images with Transparency expressed in bytes should be \"\n",
            "[30/30] Loss_D: 0.8371 Loss_G: 0.0077 D(x): 0.7933 D(G(z)): 0.6273:  30% 201/667 [01:39<04:12,  1.85it/s]/usr/local/lib/python3.6/dist-packages/PIL/Image.py:932: UserWarning: Palette images with Transparency expressed in bytes should be converted to RGBA images\n",
            "  \"Palette images with Transparency expressed in bytes should be \"\n",
            "[30/30] Loss_D: 0.8390 Loss_G: 0.0077 D(x): 0.7927 D(G(z)): 0.6286:  65% 433/667 [03:35<01:37,  2.40it/s]/usr/local/lib/python3.6/dist-packages/PIL/TiffImagePlugin.py:788: UserWarning: Corrupt EXIF data.  Expecting to read 4 bytes but only got 0. \n",
            "  warnings.warn(str(msg))\n",
            "[30/30] Loss_D: 0.8408 Loss_G: 0.0077 D(x): 0.7923 D(G(z)): 0.6300: 100% 667/667 [05:37<00:00,  1.98it/s]\n",
            "[converting LR images to SR images] PSNR: 23.8836 dB SSIM: 0.7891: 100% 436/436 [01:15<00:00,  5.79it/s]\n",
            "[saving training results]: 100% 8/8 [00:05<00:00,  1.49it/s]\n",
            "[31/31] Loss_D: 0.8410 Loss_G: 0.0077 D(x): 0.7922 D(G(z)): 0.6301:   3% 19/667 [00:10<03:55,  2.75it/s]/usr/local/lib/python3.6/dist-packages/PIL/Image.py:932: UserWarning: Palette images with Transparency expressed in bytes should be converted to RGBA images\n",
            "  \"Palette images with Transparency expressed in bytes should be \"\n",
            "[31/31] Loss_D: 0.8412 Loss_G: 0.0077 D(x): 0.7921 D(G(z)): 0.6302:   7% 50/667 [00:25<06:02,  1.70it/s]/usr/local/lib/python3.6/dist-packages/PIL/Image.py:932: UserWarning: Palette images with Transparency expressed in bytes should be converted to RGBA images\n",
            "  \"Palette images with Transparency expressed in bytes should be \"\n",
            "[31/31] Loss_D: 0.8417 Loss_G: 0.0077 D(x): 0.7919 D(G(z)): 0.6305:  17% 111/667 [00:53<03:13,  2.87it/s]/usr/local/lib/python3.6/dist-packages/PIL/Image.py:932: UserWarning: Palette images with Transparency expressed in bytes should be converted to RGBA images\n",
            "  \"Palette images with Transparency expressed in bytes should be \"\n",
            "[31/31] Loss_D: 0.8420 Loss_G: 0.0077 D(x): 0.7919 D(G(z)): 0.6308:  22% 149/667 [01:18<09:09,  1.06s/it]/usr/local/lib/python3.6/dist-packages/PIL/Image.py:932: UserWarning: Palette images with Transparency expressed in bytes should be converted to RGBA images\n",
            "  \"Palette images with Transparency expressed in bytes should be \"\n",
            "[31/31] Loss_D: 0.8426 Loss_G: 0.0077 D(x): 0.7917 D(G(z)): 0.6312:  34% 225/667 [01:58<02:49,  2.61it/s]/usr/local/lib/python3.6/dist-packages/PIL/TiffImagePlugin.py:788: UserWarning: Corrupt EXIF data.  Expecting to read 4 bytes but only got 0. \n",
            "  warnings.warn(str(msg))\n",
            "[31/31] Loss_D: 0.8459 Loss_G: 0.0077 D(x): 0.7903 D(G(z)): 0.6331: 100% 667/667 [05:38<00:00,  1.97it/s]\n",
            "[converting LR images to SR images] PSNR: 24.2717 dB SSIM: 0.7983: 100% 436/436 [01:15<00:00,  5.76it/s]\n",
            "[saving training results]:  38% 3/8 [00:01<00:03,  1.52it/s]"
          ],
          "name": "stdout"
        }
      ]
    },
    {
      "cell_type": "code",
      "metadata": {
        "id": "xy-lFrgaNsj5"
      },
      "source": [
        "!python SRGAN/train_lite.py --crop_size 100 --upscale_factor 8 --num_epochs 60 --batch_size 32"
      ],
      "execution_count": null,
      "outputs": []
    },
    {
      "cell_type": "code",
      "metadata": {
        "id": "Rbf1dGCoeYJV",
        "outputId": "abdfe798-a0ee-4287-e29a-4f29dc6fa291",
        "colab": {
          "base_uri": "https://localhost:8080/",
          "height": 72
        }
      },
      "source": [
        "!python SRGAN/test_image.py --upscale_factor 4 --image_name \"/content/Large QuadCopters/OIP_i2.jpg\" --model_name 2deb120d9c_netG_epoch_4_9.pth"
      ],
      "execution_count": null,
      "outputs": [
        {
          "output_type": "stream",
          "text": [
            "SRGAN/test_image.py:32: UserWarning: volatile was removed and now has no effect. Use `with torch.no_grad():` instead.\n",
            "  image = Variable(ToTensor()(image), volatile=True).unsqueeze(0)\n",
            "cost0.09877999999999965s\n"
          ],
          "name": "stdout"
        }
      ]
    },
    {
      "cell_type": "code",
      "metadata": {
        "id": "BlyDReWNeV3Q",
        "outputId": "cd13715f-57ec-42d0-864d-bf457ae77a8c",
        "colab": {
          "base_uri": "https://localhost:8080/",
          "height": 1000
        }
      },
      "source": [
        "!python SRGAN/train.py --crop_size 100 --upscale_factor 4 --num_epochs 100 --train_dir \"/content/Small_QuadCopters\" --val_dir \"/content/Small_QuadCopters_val\""
      ],
      "execution_count": null,
      "outputs": [
        {
          "output_type": "stream",
          "text": [
            "# generator parameters: 734219\n",
            "# discriminator parameters: 5215425\n",
            "[1/100] Loss_D: 0.4957 Loss_G: 0.0242 D(x): 0.7298 D(G(z)): 0.2255: 100% 51/51 [00:30<00:00,  1.67it/s]\n",
            "[converting LR images to SR images] PSNR: 19.8500 dB SSIM: 0.7115: 100% 399/399 [00:34<00:00, 11.46it/s]\n",
            "[saving training results]: 100% 75/75 [00:04<00:00, 15.11it/s]\n",
            "[2/100] Loss_D: 0.6296 Loss_G: 0.0137 D(x): 0.8408 D(G(z)): 0.4704: 100% 51/51 [00:30<00:00,  1.65it/s]\n",
            "[converting LR images to SR images] PSNR: 18.1930 dB SSIM: 0.7154: 100% 399/399 [00:29<00:00, 13.41it/s]\n",
            "[saving training results]: 100% 75/75 [00:04<00:00, 15.19it/s]\n",
            "[3/100] Loss_D: 0.9869 Loss_G: 0.0117 D(x): 0.7821 D(G(z)): 0.7689: 100% 51/51 [00:30<00:00,  1.69it/s]\n",
            "[converting LR images to SR images] PSNR: 19.0274 dB SSIM: 0.7459: 100% 399/399 [00:29<00:00, 13.72it/s]\n",
            "[saving training results]: 100% 75/75 [00:04<00:00, 15.02it/s]\n",
            "[4/100] Loss_D: 0.9953 Loss_G: 0.0096 D(x): 0.9085 D(G(z)): 0.9038: 100% 51/51 [00:30<00:00,  1.68it/s]\n",
            "[converting LR images to SR images] PSNR: 22.5955 dB SSIM: 0.7963: 100% 399/399 [00:29<00:00, 13.68it/s]\n",
            "[saving training results]: 100% 75/75 [00:04<00:00, 15.28it/s]\n",
            "[5/100] Loss_D: 0.9955 Loss_G: 0.0082 D(x): 0.9252 D(G(z)): 0.9207: 100% 51/51 [00:30<00:00,  1.66it/s]\n",
            "[converting LR images to SR images] PSNR: 22.2856 dB SSIM: 0.8105: 100% 399/399 [00:29<00:00, 13.73it/s]\n",
            "[saving training results]: 100% 75/75 [00:04<00:00, 15.37it/s]\n",
            "[6/100] Loss_D: 1.0004 Loss_G: 0.0072 D(x): 0.9002 D(G(z)): 0.9006: 100% 51/51 [00:30<00:00,  1.67it/s]\n",
            "[converting LR images to SR images] PSNR: 16.7425 dB SSIM: 0.7673: 100% 399/399 [00:28<00:00, 13.80it/s]\n",
            "[saving training results]: 100% 75/75 [00:04<00:00, 15.24it/s]\n",
            "[7/100] Loss_D: 1.0037 Loss_G: 0.0075 D(x): 0.8967 D(G(z)): 0.9004: 100% 51/51 [00:30<00:00,  1.67it/s]\n",
            "[converting LR images to SR images] PSNR: 22.3183 dB SSIM: 0.8137: 100% 399/399 [00:29<00:00, 13.72it/s]\n",
            "[saving training results]: 100% 75/75 [00:04<00:00, 15.23it/s]\n",
            "[8/100] Loss_D: 0.9978 Loss_G: 0.0081 D(x): 0.5193 D(G(z)): 0.5171: 100% 51/51 [00:29<00:00,  1.70it/s]\n",
            "[converting LR images to SR images] PSNR: 21.8132 dB SSIM: 0.8274: 100% 399/399 [00:28<00:00, 13.80it/s]\n",
            "[saving training results]: 100% 75/75 [00:04<00:00, 15.10it/s]\n",
            "[9/100] Loss_D: 0.9992 Loss_G: 0.0079 D(x): 0.6475 D(G(z)): 0.6467: 100% 51/51 [00:30<00:00,  1.68it/s]\n",
            "[converting LR images to SR images] PSNR: 24.4366 dB SSIM: 0.8306: 100% 399/399 [00:29<00:00, 13.68it/s]\n",
            "[saving training results]: 100% 75/75 [00:04<00:00, 15.20it/s]\n",
            "[10/100] Loss_D: 1.0037 Loss_G: 0.0067 D(x): 0.7102 D(G(z)): 0.7139: 100% 51/51 [00:30<00:00,  1.70it/s]\n",
            "[converting LR images to SR images] PSNR: 24.0715 dB SSIM: 0.8379: 100% 399/399 [00:28<00:00, 13.83it/s]\n",
            "[saving training results]: 100% 75/75 [00:04<00:00, 15.23it/s]\n",
            "[11/100] Loss_D: 1.0029 Loss_G: 0.0071 D(x): 0.6854 D(G(z)): 0.6883: 100% 51/51 [00:30<00:00,  1.67it/s]\n",
            "[converting LR images to SR images] PSNR: 24.2131 dB SSIM: 0.8368: 100% 399/399 [00:28<00:00, 13.81it/s]\n",
            "[saving training results]: 100% 75/75 [00:04<00:00, 15.03it/s]\n",
            "[12/100] Loss_D: 1.0017 Loss_G: 0.0065 D(x): 0.4075 D(G(z)): 0.4093: 100% 51/51 [00:30<00:00,  1.69it/s]\n",
            "[converting LR images to SR images] PSNR: 21.3118 dB SSIM: 0.8332: 100% 399/399 [00:28<00:00, 13.78it/s]\n",
            "[saving training results]: 100% 75/75 [00:04<00:00, 15.04it/s]\n",
            "[13/100] Loss_D: 1.0001 Loss_G: 0.0068 D(x): 0.3670 D(G(z)): 0.3671: 100% 51/51 [00:30<00:00,  1.69it/s]\n",
            "[converting LR images to SR images] PSNR: 21.9899 dB SSIM: 0.8285: 100% 399/399 [00:29<00:00, 13.73it/s]\n",
            "[saving training results]: 100% 75/75 [00:04<00:00, 15.19it/s]\n",
            "[14/100] Loss_D: 0.9990 Loss_G: 0.0069 D(x): 0.5983 D(G(z)): 0.5973: 100% 51/51 [00:30<00:00,  1.66it/s]\n",
            "[converting LR images to SR images] PSNR: 23.7283 dB SSIM: 0.8264: 100% 399/399 [00:28<00:00, 13.80it/s]\n",
            "[saving training results]: 100% 75/75 [00:04<00:00, 15.06it/s]\n",
            "[15/100] Loss_D: 1.0001 Loss_G: 0.0063 D(x): 0.6713 D(G(z)): 0.6714: 100% 51/51 [00:30<00:00,  1.67it/s]\n",
            "[converting LR images to SR images] PSNR: 24.6358 dB SSIM: 0.8471: 100% 399/399 [00:28<00:00, 13.79it/s]\n",
            "[saving training results]: 100% 75/75 [00:04<00:00, 15.43it/s]\n",
            "[16/100] Loss_D: 1.0017 Loss_G: 0.0060 D(x): 0.6845 D(G(z)): 0.6862: 100% 51/51 [00:30<00:00,  1.67it/s]\n",
            "[converting LR images to SR images] PSNR: 24.0205 dB SSIM: 0.8518: 100% 399/399 [00:29<00:00, 13.73it/s]\n",
            "[saving training results]: 100% 75/75 [00:04<00:00, 15.37it/s]\n",
            "[17/100] Loss_D: 1.0038 Loss_G: 0.0066 D(x): 0.7281 D(G(z)): 0.7320: 100% 51/51 [00:30<00:00,  1.68it/s]\n",
            "[converting LR images to SR images] PSNR: 24.0639 dB SSIM: 0.8477: 100% 399/399 [00:29<00:00, 13.70it/s]\n",
            "[saving training results]: 100% 75/75 [00:04<00:00, 15.35it/s]\n",
            "[18/100] Loss_D: 0.9982 Loss_G: 0.0060 D(x): 0.6982 D(G(z)): 0.6965: 100% 51/51 [00:30<00:00,  1.68it/s]\n",
            "[converting LR images to SR images] PSNR: 21.3272 dB SSIM: 0.8376: 100% 399/399 [00:28<00:00, 13.77it/s]\n",
            "[saving training results]: 100% 75/75 [00:04<00:00, 15.20it/s]\n",
            "[19/100] Loss_D: 1.0015 Loss_G: 0.0058 D(x): 0.7028 D(G(z)): 0.7043: 100% 51/51 [00:30<00:00,  1.69it/s]\n",
            "[converting LR images to SR images] PSNR: 24.4221 dB SSIM: 0.8496: 100% 399/399 [00:28<00:00, 13.85it/s]\n",
            "[saving training results]: 100% 75/75 [00:04<00:00, 15.22it/s]\n",
            "[20/100] Loss_D: 1.0059 Loss_G: 0.0058 D(x): 0.7955 D(G(z)): 0.8014: 100% 51/51 [00:30<00:00,  1.69it/s]\n",
            "[converting LR images to SR images] PSNR: 25.2867 dB SSIM: 0.8597: 100% 399/399 [00:28<00:00, 13.79it/s]\n",
            "[saving training results]: 100% 75/75 [00:04<00:00, 15.35it/s]\n",
            "[21/100] Loss_D: 1.0019 Loss_G: 0.0054 D(x): 0.7614 D(G(z)): 0.7633: 100% 51/51 [00:30<00:00,  1.68it/s]\n",
            "[converting LR images to SR images] PSNR: 24.2471 dB SSIM: 0.8567: 100% 399/399 [00:28<00:00, 13.85it/s]\n",
            "[saving training results]: 100% 75/75 [00:04<00:00, 15.24it/s]\n",
            "[22/100] Loss_D: 0.9983 Loss_G: 0.0054 D(x): 0.7247 D(G(z)): 0.7230: 100% 51/51 [00:30<00:00,  1.69it/s]\n",
            "[converting LR images to SR images] PSNR: 22.6295 dB SSIM: 0.8546: 100% 399/399 [00:28<00:00, 13.84it/s]\n",
            "[saving training results]: 100% 75/75 [00:04<00:00, 15.48it/s]\n",
            "[23/100] Loss_D: 0.9998 Loss_G: 0.0066 D(x): 0.7392 D(G(z)): 0.7390: 100% 51/51 [00:30<00:00,  1.66it/s]\n",
            "[converting LR images to SR images] PSNR: 25.2554 dB SSIM: 0.8561: 100% 399/399 [00:28<00:00, 13.80it/s]\n",
            "[saving training results]: 100% 75/75 [00:04<00:00, 15.43it/s]\n",
            "[24/100] Loss_D: 1.0021 Loss_G: 0.0055 D(x): 0.6748 D(G(z)): 0.6769: 100% 51/51 [00:30<00:00,  1.68it/s]\n",
            "[converting LR images to SR images] PSNR: 25.5394 dB SSIM: 0.8616: 100% 399/399 [00:28<00:00, 13.83it/s]\n",
            "[saving training results]: 100% 75/75 [00:04<00:00, 15.64it/s]\n",
            "[25/100] Loss_D: 1.0042 Loss_G: 0.0055 D(x): 0.6606 D(G(z)): 0.6648: 100% 51/51 [00:29<00:00,  1.71it/s]\n",
            "[converting LR images to SR images] PSNR: 25.4684 dB SSIM: 0.8593: 100% 399/399 [00:28<00:00, 13.87it/s]\n",
            "[saving training results]: 100% 75/75 [00:04<00:00, 15.25it/s]\n",
            "[26/100] Loss_D: 1.0030 Loss_G: 0.0055 D(x): 0.7001 D(G(z)): 0.7031: 100% 51/51 [00:29<00:00,  1.72it/s]\n",
            "[converting LR images to SR images] PSNR: 24.7583 dB SSIM: 0.8616: 100% 399/399 [00:28<00:00, 13.82it/s]\n",
            "[saving training results]: 100% 75/75 [00:04<00:00, 15.43it/s]\n",
            "[27/100] Loss_D: 1.0043 Loss_G: 0.0055 D(x): 0.6781 D(G(z)): 0.6825: 100% 51/51 [00:30<00:00,  1.67it/s]\n",
            "[converting LR images to SR images] PSNR: 26.3770 dB SSIM: 0.8643: 100% 399/399 [00:28<00:00, 13.83it/s]\n",
            "[saving training results]: 100% 75/75 [00:04<00:00, 15.49it/s]\n",
            "[28/100] Loss_D: 1.0049 Loss_G: 0.0054 D(x): 0.5773 D(G(z)): 0.5822: 100% 51/51 [00:29<00:00,  1.70it/s]\n",
            "[converting LR images to SR images] PSNR: 25.4665 dB SSIM: 0.8650: 100% 399/399 [00:28<00:00, 13.86it/s]\n",
            "[saving training results]: 100% 75/75 [00:04<00:00, 15.07it/s]\n",
            "[29/100] Loss_D: 1.0015 Loss_G: 0.0054 D(x): 0.5469 D(G(z)): 0.5484: 100% 51/51 [00:30<00:00,  1.68it/s]\n",
            "[converting LR images to SR images] PSNR: 24.5759 dB SSIM: 0.8609: 100% 399/399 [00:28<00:00, 13.80it/s]\n",
            "[saving training results]: 100% 75/75 [00:04<00:00, 15.43it/s]\n",
            "[30/100] Loss_D: 0.9980 Loss_G: 0.0056 D(x): 0.3887 D(G(z)): 0.3867: 100% 51/51 [00:29<00:00,  1.71it/s]\n",
            "[converting LR images to SR images] PSNR: 24.6235 dB SSIM: 0.8656: 100% 399/399 [00:28<00:00, 13.81it/s]\n",
            "[saving training results]: 100% 75/75 [00:04<00:00, 15.41it/s]\n",
            "[31/100] Loss_D: 1.0002 Loss_G: 0.0054 D(x): 0.3013 D(G(z)): 0.3014: 100% 51/51 [00:30<00:00,  1.69it/s]\n",
            "[converting LR images to SR images] PSNR: 25.9642 dB SSIM: 0.8672: 100% 399/399 [00:28<00:00, 13.90it/s]\n",
            "[saving training results]: 100% 75/75 [00:04<00:00, 15.16it/s]\n",
            "[32/100] Loss_D: 1.0013 Loss_G: 0.0055 D(x): 0.1868 D(G(z)): 0.1881: 100% 51/51 [00:29<00:00,  1.70it/s]\n",
            "[converting LR images to SR images] PSNR: 25.2267 dB SSIM: 0.8664: 100% 399/399 [00:28<00:00, 13.87it/s]\n",
            "[saving training results]: 100% 75/75 [00:04<00:00, 15.49it/s]\n",
            "[33/100] Loss_D: 1.0016 Loss_G: 0.0056 D(x): 0.2099 D(G(z)): 0.2115: 100% 51/51 [00:30<00:00,  1.70it/s]\n",
            "[converting LR images to SR images] PSNR: 26.4295 dB SSIM: 0.8671: 100% 399/399 [00:28<00:00, 13.82it/s]\n",
            "[saving training results]: 100% 75/75 [00:04<00:00, 15.31it/s]\n",
            "[34/100] Loss_D: 0.9994 Loss_G: 0.0058 D(x): 0.2355 D(G(z)): 0.2349: 100% 51/51 [00:30<00:00,  1.69it/s]\n",
            "[converting LR images to SR images] PSNR: 25.3262 dB SSIM: 0.8625: 100% 399/399 [00:28<00:00, 13.88it/s]\n",
            "[saving training results]: 100% 75/75 [00:04<00:00, 15.42it/s]\n",
            "[35/100] Loss_D: 1.0043 Loss_G: 0.0057 D(x): 0.3215 D(G(z)): 0.3257: 100% 51/51 [00:30<00:00,  1.68it/s]\n",
            "[converting LR images to SR images] PSNR: 26.2126 dB SSIM: 0.8684: 100% 399/399 [00:28<00:00, 13.87it/s]\n",
            "[saving training results]: 100% 75/75 [00:04<00:00, 15.53it/s]\n",
            "[36/100] Loss_D: 1.0023 Loss_G: 0.0054 D(x): 0.3081 D(G(z)): 0.3105: 100% 51/51 [00:30<00:00,  1.70it/s]\n",
            "[converting LR images to SR images] PSNR: 26.2630 dB SSIM: 0.8707: 100% 399/399 [00:28<00:00, 13.86it/s]\n",
            "[saving training results]: 100% 75/75 [00:04<00:00, 15.40it/s]\n",
            "[37/100] Loss_D: 1.0033 Loss_G: 0.0055 D(x): 0.3501 D(G(z)): 0.3535: 100% 51/51 [00:30<00:00,  1.68it/s]\n",
            "[converting LR images to SR images] PSNR: 25.6466 dB SSIM: 0.8673: 100% 399/399 [00:28<00:00, 13.88it/s]\n",
            "[saving training results]: 100% 75/75 [00:04<00:00, 15.42it/s]\n",
            "[38/100] Loss_D: 1.0002 Loss_G: 0.0056 D(x): 0.2181 D(G(z)): 0.2183: 100% 51/51 [00:30<00:00,  1.66it/s]\n",
            "[converting LR images to SR images] PSNR: 25.6709 dB SSIM: 0.8685: 100% 399/399 [00:28<00:00, 13.79it/s]\n",
            "[saving training results]: 100% 75/75 [00:04<00:00, 15.45it/s]\n",
            "[39/100] Loss_D: 1.0002 Loss_G: 0.0055 D(x): 0.2445 D(G(z)): 0.2447: 100% 51/51 [00:30<00:00,  1.69it/s]\n",
            "[converting LR images to SR images] PSNR: 17.6322 dB SSIM: 0.8383: 100% 399/399 [00:28<00:00, 13.82it/s]\n",
            "[saving training results]: 100% 75/75 [00:04<00:00, 15.33it/s]\n",
            "[40/100] Loss_D: 0.9996 Loss_G: 0.0060 D(x): 0.2717 D(G(z)): 0.2713: 100% 51/51 [00:30<00:00,  1.67it/s]\n",
            "[converting LR images to SR images] PSNR: 20.9443 dB SSIM: 0.8456: 100% 399/399 [00:28<00:00, 13.89it/s]\n",
            "[saving training results]: 100% 75/75 [00:04<00:00, 15.33it/s]\n",
            "[41/100] Loss_D: 1.0002 Loss_G: 0.0066 D(x): 0.3088 D(G(z)): 0.3089: 100% 51/51 [00:30<00:00,  1.67it/s]\n",
            "[converting LR images to SR images] PSNR: 25.7461 dB SSIM: 0.8656: 100% 399/399 [00:28<00:00, 13.82it/s]\n",
            "[saving training results]: 100% 75/75 [00:04<00:00, 15.39it/s]\n",
            "[42/100] Loss_D: 1.0010 Loss_G: 0.0055 D(x): 0.3411 D(G(z)): 0.3421: 100% 51/51 [00:29<00:00,  1.71it/s]\n",
            "[converting LR images to SR images] PSNR: 25.9031 dB SSIM: 0.8692: 100% 399/399 [00:28<00:00, 13.89it/s]\n",
            "[saving training results]: 100% 75/75 [00:04<00:00, 15.50it/s]\n",
            "[43/100] Loss_D: 1.0023 Loss_G: 0.0053 D(x): 0.5629 D(G(z)): 0.5652: 100% 51/51 [00:30<00:00,  1.70it/s]\n",
            "[converting LR images to SR images] PSNR: 26.3800 dB SSIM: 0.8744: 100% 399/399 [00:28<00:00, 13.84it/s]\n",
            "[saving training results]: 100% 75/75 [00:04<00:00, 15.42it/s]\n",
            "[44/100] Loss_D: 1.0058 Loss_G: 0.0052 D(x): 0.5591 D(G(z)): 0.5649: 100% 51/51 [00:29<00:00,  1.71it/s]\n",
            "[converting LR images to SR images] PSNR: 24.2913 dB SSIM: 0.8671: 100% 399/399 [00:28<00:00, 13.91it/s]\n",
            "[saving training results]: 100% 75/75 [00:04<00:00, 15.42it/s]\n",
            "[45/100] Loss_D: 1.0029 Loss_G: 0.0053 D(x): 0.6016 D(G(z)): 0.6044: 100% 51/51 [00:31<00:00,  1.64it/s]\n",
            "[converting LR images to SR images] PSNR: 26.5138 dB SSIM: 0.8756: 100% 399/399 [00:28<00:00, 13.90it/s]\n",
            "[saving training results]: 100% 75/75 [00:04<00:00, 15.49it/s]\n",
            "[46/100] Loss_D: 1.0026 Loss_G: 0.0050 D(x): 0.6261 D(G(z)): 0.6287: 100% 51/51 [00:30<00:00,  1.68it/s]\n",
            "[converting LR images to SR images] PSNR: 25.8209 dB SSIM: 0.8739: 100% 399/399 [00:28<00:00, 13.89it/s]\n",
            "[saving training results]: 100% 75/75 [00:04<00:00, 15.55it/s]\n",
            "[47/100] Loss_D: 0.9994 Loss_G: 0.0051 D(x): 0.5878 D(G(z)): 0.5872: 100% 51/51 [00:30<00:00,  1.68it/s]\n",
            "[converting LR images to SR images] PSNR: 24.7202 dB SSIM: 0.8705: 100% 399/399 [00:28<00:00, 14.00it/s]\n",
            "[saving training results]: 100% 75/75 [00:04<00:00, 16.11it/s]\n",
            "[48/100] Loss_D: 1.0040 Loss_G: 0.0049 D(x): 0.6028 D(G(z)): 0.6068: 100% 51/51 [00:29<00:00,  1.72it/s]\n",
            "[converting LR images to SR images] PSNR: 26.8621 dB SSIM: 0.8784: 100% 399/399 [00:28<00:00, 13.84it/s]\n",
            "[saving training results]: 100% 75/75 [00:04<00:00, 15.42it/s]\n",
            "[49/100] Loss_D: 0.9981 Loss_G: 0.0047 D(x): 0.6474 D(G(z)): 0.6455: 100% 51/51 [00:31<00:00,  1.64it/s]\n",
            "[converting LR images to SR images] PSNR: 26.3920 dB SSIM: 0.8764: 100% 399/399 [00:28<00:00, 13.96it/s]\n",
            "[saving training results]: 100% 75/75 [00:04<00:00, 15.61it/s]\n",
            "[50/100] Loss_D: 1.0009 Loss_G: 0.0050 D(x): 0.6179 D(G(z)): 0.6188: 100% 51/51 [00:30<00:00,  1.66it/s]\n",
            "[converting LR images to SR images] PSNR: 26.0424 dB SSIM: 0.8727: 100% 399/399 [00:28<00:00, 14.01it/s]\n",
            "[saving training results]: 100% 75/75 [00:04<00:00, 15.76it/s]\n",
            "[51/100] Loss_D: 1.0067 Loss_G: 0.0049 D(x): 0.5216 D(G(z)): 0.5283: 100% 51/51 [00:29<00:00,  1.71it/s]\n",
            "[converting LR images to SR images] PSNR: 26.5520 dB SSIM: 0.8742: 100% 399/399 [00:28<00:00, 14.07it/s]\n",
            "[saving training results]: 100% 75/75 [00:04<00:00, 15.85it/s]\n",
            "[52/100] Loss_D: 1.0036 Loss_G: 0.0050 D(x): 0.4591 D(G(z)): 0.4627: 100% 51/51 [00:30<00:00,  1.68it/s]\n",
            "[converting LR images to SR images] PSNR: 22.9458 dB SSIM: 0.8607: 100% 399/399 [00:28<00:00, 14.09it/s]\n",
            "[saving training results]: 100% 75/75 [00:04<00:00, 16.27it/s]\n",
            "[53/100] Loss_D: 1.0003 Loss_G: 0.0053 D(x): 0.4829 D(G(z)): 0.4831: 100% 51/51 [00:29<00:00,  1.71it/s]\n",
            "[converting LR images to SR images] PSNR: 25.5404 dB SSIM: 0.8744: 100% 399/399 [00:28<00:00, 14.03it/s]\n",
            "[saving training results]: 100% 75/75 [00:04<00:00, 15.86it/s]\n",
            "[54/100] Loss_D: 1.0014 Loss_G: 0.0053 D(x): 0.4013 D(G(z)): 0.4027: 100% 51/51 [00:30<00:00,  1.68it/s]\n",
            "[converting LR images to SR images] PSNR: 26.3023 dB SSIM: 0.8758: 100% 399/399 [00:28<00:00, 14.13it/s]\n",
            "[saving training results]: 100% 75/75 [00:04<00:00, 15.84it/s]\n",
            "[55/100] Loss_D: 1.0009 Loss_G: 0.0050 D(x): 0.3781 D(G(z)): 0.3790: 100% 51/51 [00:30<00:00,  1.67it/s]\n",
            "[converting LR images to SR images] PSNR: 26.3712 dB SSIM: 0.8759: 100% 399/399 [00:28<00:00, 14.02it/s]\n",
            "[saving training results]: 100% 75/75 [00:04<00:00, 15.64it/s]\n",
            "[56/100] Loss_D: 1.0021 Loss_G: 0.0051 D(x): 0.3742 D(G(z)): 0.3763: 100% 51/51 [00:30<00:00,  1.70it/s]\n",
            "[converting LR images to SR images] PSNR: 26.6487 dB SSIM: 0.8756: 100% 399/399 [00:28<00:00, 14.16it/s]\n",
            "[saving training results]: 100% 75/75 [00:04<00:00, 15.85it/s]\n",
            "[57/100] Loss_D: 1.0026 Loss_G: 0.0049 D(x): 0.3833 D(G(z)): 0.3859: 100% 51/51 [00:30<00:00,  1.70it/s]\n",
            "[converting LR images to SR images] PSNR: 26.4059 dB SSIM: 0.8776: 100% 399/399 [00:28<00:00, 14.04it/s]\n",
            "[saving training results]: 100% 75/75 [00:04<00:00, 15.85it/s]\n",
            "[58/100] Loss_D: 1.0022 Loss_G: 0.0052 D(x): 0.2152 D(G(z)): 0.2174: 100% 51/51 [00:30<00:00,  1.67it/s]\n",
            "[converting LR images to SR images] PSNR: 25.9177 dB SSIM: 0.8748: 100% 399/399 [00:28<00:00, 14.09it/s]\n",
            "[saving training results]: 100% 75/75 [00:04<00:00, 15.84it/s]\n",
            "[59/100] Loss_D: 1.0009 Loss_G: 0.0054 D(x): 0.1188 D(G(z)): 0.1197: 100% 51/51 [00:30<00:00,  1.70it/s]\n",
            "[converting LR images to SR images] PSNR: 26.6020 dB SSIM: 0.8782: 100% 399/399 [00:28<00:00, 14.02it/s]\n",
            "[saving training results]: 100% 75/75 [00:04<00:00, 15.80it/s]\n",
            "[60/100] Loss_D: 1.0030 Loss_G: 0.0051 D(x): 0.1779 D(G(z)): 0.1808: 100% 51/51 [00:30<00:00,  1.68it/s]\n",
            "[converting LR images to SR images] PSNR: 26.5201 dB SSIM: 0.8759: 100% 399/399 [00:28<00:00, 14.17it/s]\n",
            "[saving training results]: 100% 75/75 [00:04<00:00, 16.14it/s]\n",
            "[61/100] Loss_D: 1.0006 Loss_G: 0.0050 D(x): 0.1101 D(G(z)): 0.1107: 100% 51/51 [00:30<00:00,  1.68it/s]\n",
            "[converting LR images to SR images] PSNR: 26.7296 dB SSIM: 0.8785: 100% 399/399 [00:28<00:00, 14.17it/s]\n",
            "[saving training results]: 100% 75/75 [00:04<00:00, 16.08it/s]\n",
            "[62/100] Loss_D: 1.0000 Loss_G: 0.0053 D(x): 0.0000 D(G(z)): 0.0000: 100% 51/51 [00:29<00:00,  1.71it/s]\n",
            "[converting LR images to SR images] PSNR: 25.7336 dB SSIM: 0.8767: 100% 399/399 [00:27<00:00, 14.29it/s]\n",
            "[saving training results]: 100% 75/75 [00:04<00:00, 16.27it/s]\n",
            "[63/100] Loss_D: 1.0000 Loss_G: 0.0054 D(x): 0.0000 D(G(z)): 0.0000: 100% 51/51 [00:29<00:00,  1.72it/s]\n",
            "[converting LR images to SR images] PSNR: 26.5513 dB SSIM: 0.8803: 100% 399/399 [00:28<00:00, 14.19it/s]\n",
            "[saving training results]: 100% 75/75 [00:04<00:00, 16.28it/s]\n",
            "[64/100] Loss_D: 1.0000 Loss_G: 0.0051 D(x): 0.0000 D(G(z)): 0.0000: 100% 51/51 [00:30<00:00,  1.69it/s]\n",
            "[converting LR images to SR images] PSNR: 26.9059 dB SSIM: 0.8779: 100% 399/399 [00:28<00:00, 14.24it/s]\n",
            "[saving training results]: 100% 75/75 [00:04<00:00, 16.17it/s]\n",
            "[65/100] Loss_D: 1.0000 Loss_G: 0.0054 D(x): 0.0000 D(G(z)): 0.0000: 100% 51/51 [00:30<00:00,  1.69it/s]\n",
            "[converting LR images to SR images] PSNR: 26.2121 dB SSIM: 0.8744: 100% 399/399 [00:27<00:00, 14.26it/s]\n",
            "[saving training results]: 100% 75/75 [00:04<00:00, 16.20it/s]\n",
            "[66/100] Loss_D: 1.0000 Loss_G: 0.0052 D(x): 0.0000 D(G(z)): 0.0000: 100% 51/51 [00:30<00:00,  1.68it/s]\n",
            "[converting LR images to SR images] PSNR: 26.3389 dB SSIM: 0.8804: 100% 399/399 [00:27<00:00, 14.30it/s]\n",
            "[saving training results]: 100% 75/75 [00:04<00:00, 16.18it/s]\n",
            "[67/100] Loss_D: 1.0000 Loss_G: 0.0052 D(x): 0.0000 D(G(z)): 0.0000: 100% 51/51 [00:30<00:00,  1.68it/s]\n",
            "[converting LR images to SR images] PSNR: 25.3945 dB SSIM: 0.8738: 100% 399/399 [00:28<00:00, 14.18it/s]\n",
            "[saving training results]: 100% 75/75 [00:04<00:00, 15.93it/s]\n",
            "[68/100] Loss_D: 1.0000 Loss_G: 0.0053 D(x): 0.0000 D(G(z)): 0.0000: 100% 51/51 [00:29<00:00,  1.73it/s]\n",
            "[converting LR images to SR images] PSNR: 20.9288 dB SSIM: 0.8609: 100% 399/399 [00:28<00:00, 14.24it/s]\n",
            "[saving training results]: 100% 75/75 [00:04<00:00, 16.21it/s]\n",
            "[69/100] Loss_D: 1.0000 Loss_G: 0.0071 D(x): 0.0000 D(G(z)): 0.0000: 100% 51/51 [00:29<00:00,  1.71it/s]\n",
            "[converting LR images to SR images] PSNR: 19.2869 dB SSIM: 0.8376: 100% 399/399 [00:28<00:00, 14.19it/s]\n",
            "[saving training results]: 100% 75/75 [00:04<00:00, 16.93it/s]\n",
            "[70/100] Loss_D: 1.0000 Loss_G: 0.0290 D(x): 0.0000 D(G(z)): 0.0000: 100% 51/51 [00:30<00:00,  1.68it/s]\n",
            "[converting LR images to SR images] PSNR: 14.1158 dB SSIM: 0.6805: 100% 399/399 [00:28<00:00, 14.24it/s]\n",
            "[saving training results]: 100% 75/75 [00:04<00:00, 16.94it/s]\n",
            "[71/100] Loss_D: 1.0000 Loss_G: 0.0143 D(x): 0.0000 D(G(z)): 0.0000: 100% 51/51 [00:31<00:00,  1.59it/s]\n",
            "[converting LR images to SR images] PSNR: 18.0167 dB SSIM: 0.7524: 100% 399/399 [00:28<00:00, 14.09it/s]\n",
            "[saving training results]: 100% 75/75 [00:04<00:00, 16.11it/s]\n",
            "[72/100] Loss_D: 1.0000 Loss_G: 0.0145 D(x): 0.0000 D(G(z)): 0.0000: 100% 51/51 [00:30<00:00,  1.68it/s]\n",
            "[converting LR images to SR images] PSNR: 22.6989 dB SSIM: 0.7916: 100% 399/399 [00:28<00:00, 13.86it/s]\n",
            "[saving training results]: 100% 75/75 [00:04<00:00, 15.87it/s]\n",
            "[73/100] Loss_D: 1.0000 Loss_G: 0.0093 D(x): 0.0000 D(G(z)): 0.0000: 100% 51/51 [00:30<00:00,  1.70it/s]\n",
            "[converting LR images to SR images] PSNR: 19.6266 dB SSIM: 0.7683: 100% 399/399 [00:28<00:00, 13.88it/s]\n",
            "[saving training results]: 100% 75/75 [00:04<00:00, 15.92it/s]\n",
            "[74/100] Loss_D: 1.0000 Loss_G: 0.0086 D(x): 0.0000 D(G(z)): 0.0000: 100% 51/51 [00:31<00:00,  1.64it/s]\n",
            "[converting LR images to SR images] PSNR: 21.6797 dB SSIM: 0.8117: 100% 399/399 [00:28<00:00, 13.81it/s]\n",
            "[saving training results]: 100% 75/75 [00:04<00:00, 15.82it/s]\n",
            "[75/100] Loss_D: 1.0000 Loss_G: 0.0074 D(x): 0.0000 D(G(z)): 0.0000: 100% 51/51 [00:30<00:00,  1.69it/s]\n",
            "[converting LR images to SR images] PSNR: 21.8028 dB SSIM: 0.8142: 100% 399/399 [00:28<00:00, 14.16it/s]\n",
            "[saving training results]: 100% 75/75 [00:04<00:00, 16.01it/s]\n",
            "[76/100] Loss_D: 1.0000 Loss_G: 0.0077 D(x): 0.0000 D(G(z)): 0.0000: 100% 51/51 [00:29<00:00,  1.71it/s]\n",
            "[converting LR images to SR images] PSNR: 23.8766 dB SSIM: 0.8289: 100% 399/399 [00:28<00:00, 14.05it/s]\n",
            "[saving training results]: 100% 75/75 [00:04<00:00, 16.04it/s]\n",
            "[77/100] Loss_D: 1.0000 Loss_G: 0.0071 D(x): 0.0000 D(G(z)): 0.0000: 100% 51/51 [00:29<00:00,  1.72it/s]\n",
            "[converting LR images to SR images] PSNR: 25.1418 dB SSIM: 0.8419: 100% 399/399 [00:28<00:00, 14.08it/s]\n",
            "[saving training results]: 100% 75/75 [00:04<00:00, 15.98it/s]\n",
            "[78/100] Loss_D: 1.0000 Loss_G: 0.0066 D(x): 0.0000 D(G(z)): 0.0000: 100% 51/51 [00:30<00:00,  1.69it/s]\n",
            "[converting LR images to SR images] PSNR: 24.9357 dB SSIM: 0.8471: 100% 399/399 [00:28<00:00, 14.04it/s]\n",
            "[saving training results]: 100% 75/75 [00:04<00:00, 15.90it/s]\n",
            "[79/100] Loss_D: 1.0000 Loss_G: 0.0068 D(x): 0.0000 D(G(z)): 0.0000: 100% 51/51 [00:30<00:00,  1.67it/s]\n",
            "[converting LR images to SR images] PSNR: 25.7504 dB SSIM: 0.8468: 100% 399/399 [00:28<00:00, 13.84it/s]\n",
            "[saving training results]: 100% 75/75 [00:04<00:00, 15.80it/s]\n",
            "[80/100] Loss_D: 1.0000 Loss_G: 0.0065 D(x): 0.0000 D(G(z)): 0.0000: 100% 51/51 [00:30<00:00,  1.68it/s]\n",
            "[converting LR images to SR images] PSNR: 21.9941 dB SSIM: 0.8377: 100% 399/399 [00:28<00:00, 14.15it/s]\n",
            "[saving training results]: 100% 75/75 [00:04<00:00, 15.97it/s]\n",
            "[81/100] Loss_D: 1.0000 Loss_G: 0.0067 D(x): 0.0000 D(G(z)): 0.0000: 100% 51/51 [00:30<00:00,  1.68it/s]\n",
            "[converting LR images to SR images] PSNR: 25.7517 dB SSIM: 0.8518: 100% 399/399 [00:28<00:00, 14.08it/s]\n",
            "[saving training results]: 100% 75/75 [00:04<00:00, 16.12it/s]\n",
            "[82/100] Loss_D: 1.0000 Loss_G: 0.0064 D(x): 0.0000 D(G(z)): 0.0000: 100% 51/51 [00:29<00:00,  1.71it/s]\n",
            "[converting LR images to SR images] PSNR: 24.7452 dB SSIM: 0.8526: 100% 399/399 [00:28<00:00, 14.01it/s]\n",
            "[saving training results]: 100% 75/75 [00:04<00:00, 16.01it/s]\n",
            "[83/100] Loss_D: 1.0000 Loss_G: 0.0064 D(x): 0.0000 D(G(z)): 0.0000: 100% 51/51 [00:30<00:00,  1.68it/s]\n",
            "[converting LR images to SR images] PSNR: 24.5949 dB SSIM: 0.8523: 100% 399/399 [00:28<00:00, 13.97it/s]\n",
            "[saving training results]: 100% 75/75 [00:04<00:00, 15.92it/s]\n",
            "[84/100] Loss_D: 1.0000 Loss_G: 0.0064 D(x): 0.0000 D(G(z)): 0.0000: 100% 51/51 [00:29<00:00,  1.71it/s]\n",
            "[converting LR images to SR images] PSNR: 25.0143 dB SSIM: 0.8539: 100% 399/399 [00:28<00:00, 13.99it/s]\n",
            "[saving training results]: 100% 75/75 [00:04<00:00, 16.04it/s]\n",
            "[85/100] Loss_D: 1.0000 Loss_G: 0.0061 D(x): 0.0000 D(G(z)): 0.0000: 100% 51/51 [00:30<00:00,  1.70it/s]\n",
            "[converting LR images to SR images] PSNR: 25.9787 dB SSIM: 0.8595: 100% 399/399 [00:28<00:00, 14.08it/s]\n",
            "[saving training results]: 100% 75/75 [00:04<00:00, 16.09it/s]\n",
            "[86/100] Loss_D: 1.0000 Loss_G: 0.0063 D(x): 0.0000 D(G(z)): 0.0000: 100% 51/51 [00:29<00:00,  1.72it/s]\n",
            "[converting LR images to SR images] PSNR: 23.3334 dB SSIM: 0.8515: 100% 399/399 [00:28<00:00, 14.14it/s]\n",
            "[saving training results]: 100% 75/75 [00:04<00:00, 16.09it/s]\n",
            "[87/100] Loss_D: 1.0000 Loss_G: 0.0063 D(x): 0.0000 D(G(z)): 0.0000: 100% 51/51 [00:29<00:00,  1.71it/s]\n",
            "[converting LR images to SR images] PSNR: 25.7044 dB SSIM: 0.8636: 100% 399/399 [00:28<00:00, 13.96it/s]\n",
            "[saving training results]: 100% 75/75 [00:04<00:00, 16.04it/s]\n",
            "[88/100] Loss_D: 1.0000 Loss_G: 0.0061 D(x): 0.0000 D(G(z)): 0.0000: 100% 51/51 [00:30<00:00,  1.67it/s]\n",
            "[converting LR images to SR images] PSNR: 25.3890 dB SSIM: 0.8613: 100% 399/399 [00:28<00:00, 14.08it/s]\n",
            "[saving training results]: 100% 75/75 [00:04<00:00, 15.97it/s]\n",
            "[89/100] Loss_D: 1.0000 Loss_G: 0.0060 D(x): 0.0000 D(G(z)): 0.0000: 100% 51/51 [00:30<00:00,  1.68it/s]\n",
            "[converting LR images to SR images] PSNR: 26.0827 dB SSIM: 0.8662: 100% 399/399 [00:28<00:00, 14.06it/s]\n",
            "[saving training results]: 100% 75/75 [00:04<00:00, 16.09it/s]\n",
            "[90/100] Loss_D: 1.0000 Loss_G: 0.0059 D(x): 0.0000 D(G(z)): 0.0000: 100% 51/51 [00:30<00:00,  1.70it/s]\n",
            "[converting LR images to SR images] PSNR: 26.2739 dB SSIM: 0.8638: 100% 399/399 [00:28<00:00, 14.12it/s]\n",
            "[saving training results]: 100% 75/75 [00:04<00:00, 16.08it/s]\n",
            "[91/100] Loss_D: 1.0000 Loss_G: 0.0059 D(x): 0.0000 D(G(z)): 0.0000: 100% 51/51 [00:30<00:00,  1.69it/s]\n",
            "[converting LR images to SR images] PSNR: 26.5461 dB SSIM: 0.8695: 100% 399/399 [00:28<00:00, 14.07it/s]\n",
            "[saving training results]: 100% 75/75 [00:04<00:00, 16.00it/s]\n",
            "[92/100] Loss_D: 1.0000 Loss_G: 0.0057 D(x): 0.0000 D(G(z)): 0.0000: 100% 51/51 [00:30<00:00,  1.69it/s]\n",
            "[converting LR images to SR images] PSNR: 25.9408 dB SSIM: 0.8670: 100% 399/399 [00:28<00:00, 14.04it/s]\n",
            "[saving training results]: 100% 75/75 [00:04<00:00, 15.90it/s]\n",
            "[93/100] Loss_D: 1.0000 Loss_G: 0.0058 D(x): 0.0000 D(G(z)): 0.0000: 100% 51/51 [00:29<00:00,  1.70it/s]\n",
            "[converting LR images to SR images] PSNR: 25.3665 dB SSIM: 0.8663: 100% 399/399 [00:28<00:00, 14.15it/s]\n",
            "[saving training results]: 100% 75/75 [00:04<00:00, 16.15it/s]\n",
            "[94/100] Loss_D: 1.0000 Loss_G: 0.0057 D(x): 0.0000 D(G(z)): 0.0000: 100% 51/51 [00:30<00:00,  1.69it/s]\n",
            "[converting LR images to SR images] PSNR: 26.3822 dB SSIM: 0.8663: 100% 399/399 [00:28<00:00, 14.07it/s]\n",
            "[saving training results]: 100% 75/75 [00:04<00:00, 15.87it/s]\n",
            "[95/100] Loss_D: 1.0000 Loss_G: 0.0058 D(x): 0.0000 D(G(z)): 0.0000: 100% 51/51 [00:30<00:00,  1.67it/s]\n",
            "[converting LR images to SR images] PSNR: 23.7009 dB SSIM: 0.8546: 100% 399/399 [00:28<00:00, 14.04it/s]\n",
            "[saving training results]: 100% 75/75 [00:04<00:00, 15.82it/s]\n",
            "[96/100] Loss_D: 1.0000 Loss_G: 0.0063 D(x): 0.0000 D(G(z)): 0.0000: 100% 51/51 [00:29<00:00,  1.72it/s]\n",
            "[converting LR images to SR images] PSNR: 24.6195 dB SSIM: 0.8609: 100% 399/399 [00:28<00:00, 14.04it/s]\n",
            "[saving training results]: 100% 75/75 [00:04<00:00, 15.66it/s]\n",
            "[97/100] Loss_D: 1.0000 Loss_G: 0.0056 D(x): 0.0000 D(G(z)): 0.0000: 100% 51/51 [00:29<00:00,  1.71it/s]\n",
            "[converting LR images to SR images] PSNR: 24.0389 dB SSIM: 0.8557: 100% 399/399 [00:28<00:00, 13.93it/s]\n",
            "[saving training results]: 100% 75/75 [00:04<00:00, 15.58it/s]\n",
            "[98/100] Loss_D: 1.0000 Loss_G: 0.0058 D(x): 0.0000 D(G(z)): 0.0000: 100% 51/51 [00:29<00:00,  1.72it/s]\n",
            "[converting LR images to SR images] PSNR: 25.3811 dB SSIM: 0.8609: 100% 399/399 [00:28<00:00, 13.97it/s]\n",
            "[saving training results]: 100% 75/75 [00:04<00:00, 15.81it/s]\n",
            "[99/100] Loss_D: 1.0000 Loss_G: 0.0058 D(x): 0.0000 D(G(z)): 0.0000: 100% 51/51 [00:30<00:00,  1.69it/s]\n",
            "[converting LR images to SR images] PSNR: 26.0478 dB SSIM: 0.8692: 100% 399/399 [00:28<00:00, 13.99it/s]\n",
            "[saving training results]: 100% 75/75 [00:04<00:00, 15.75it/s]\n",
            "[100/100] Loss_D: 1.0000 Loss_G: 0.0057 D(x): 0.0000 D(G(z)): 0.0000: 100% 51/51 [00:30<00:00,  1.68it/s]\n",
            "[converting LR images to SR images] PSNR: 26.2131 dB SSIM: 0.8718: 100% 399/399 [00:28<00:00, 14.07it/s]\n",
            "[saving training results]: 100% 75/75 [00:04<00:00, 15.63it/s]\n"
          ],
          "name": "stdout"
        }
      ]
    },
    {
      "cell_type": "code",
      "metadata": {
        "id": "6BngMKvD9Pdp",
        "outputId": "47418a02-6786-45a6-ff3c-73ca3b801519",
        "colab": {
          "base_uri": "https://localhost:8080/",
          "height": 1000
        }
      },
      "source": [
        "!python SRGAN/train.py --crop_size 100 --upscale_factor 4 --num_epochs 200 --train_dir \"/content/Small_QuadCopters\" --val_dir \"/content/Small_QuadCopters_val\""
      ],
      "execution_count": null,
      "outputs": [
        {
          "output_type": "stream",
          "text": [
            "# generator parameters: 734219\n",
            "# discriminator parameters: 5215425\n",
            "[1/200] Loss_D: 0.6561 Loss_G: 0.0266 D(x): 0.6690 D(G(z)): 0.3251: 100% 51/51 [00:30<00:00,  1.68it/s]\n",
            "[converting LR images to SR images] PSNR: 16.7878 dB SSIM: 0.6734: 100% 399/399 [00:35<00:00, 11.39it/s]\n",
            "[saving training results]: 100% 75/75 [00:05<00:00, 14.82it/s]\n",
            "[2/200] Loss_D: 0.9964 Loss_G: 0.0152 D(x): 0.9863 D(G(z)): 0.9827: 100% 51/51 [00:30<00:00,  1.68it/s]\n",
            "[converting LR images to SR images] PSNR: 21.0970 dB SSIM: 0.7430: 100% 399/399 [00:29<00:00, 13.36it/s]\n",
            "[saving training results]: 100% 75/75 [00:04<00:00, 15.30it/s]\n",
            "[3/200] Loss_D: 1.0008 Loss_G: 0.0116 D(x): 0.9944 D(G(z)): 0.9952: 100% 51/51 [00:30<00:00,  1.69it/s]\n",
            "[converting LR images to SR images] PSNR: 22.2335 dB SSIM: 0.7799: 100% 399/399 [00:28<00:00, 13.79it/s]\n",
            "[saving training results]: 100% 75/75 [00:04<00:00, 15.33it/s]\n",
            "[4/200] Loss_D: 1.0000 Loss_G: 0.0096 D(x): 0.9973 D(G(z)): 0.9974: 100% 51/51 [00:30<00:00,  1.66it/s]\n",
            "[converting LR images to SR images] PSNR: 22.7182 dB SSIM: 0.7829: 100% 399/399 [00:28<00:00, 13.89it/s]\n",
            "[saving training results]: 100% 75/75 [00:04<00:00, 15.49it/s]\n",
            "[5/200] Loss_D: 0.9999 Loss_G: 0.0081 D(x): 0.9967 D(G(z)): 0.9966: 100% 51/51 [00:30<00:00,  1.69it/s]\n",
            "[converting LR images to SR images] PSNR: 20.6495 dB SSIM: 0.7907: 100% 399/399 [00:28<00:00, 13.86it/s]\n",
            "[saving training results]: 100% 75/75 [00:04<00:00, 15.23it/s]\n",
            "[6/200] Loss_D: 1.0001 Loss_G: 0.0075 D(x): 0.9974 D(G(z)): 0.9975: 100% 51/51 [00:30<00:00,  1.68it/s]\n",
            "[converting LR images to SR images] PSNR: 22.6673 dB SSIM: 0.8168: 100% 399/399 [00:28<00:00, 13.92it/s]\n",
            "[saving training results]: 100% 75/75 [00:04<00:00, 15.40it/s]\n",
            "[7/200] Loss_D: 0.9998 Loss_G: 0.0073 D(x): 0.9973 D(G(z)): 0.9971: 100% 51/51 [00:29<00:00,  1.72it/s]\n",
            "[converting LR images to SR images] PSNR: 23.4649 dB SSIM: 0.8149: 100% 399/399 [00:28<00:00, 13.87it/s]\n",
            "[saving training results]: 100% 75/75 [00:04<00:00, 15.47it/s]\n",
            "[8/200] Loss_D: 0.9999 Loss_G: 0.0068 D(x): 0.9963 D(G(z)): 0.9962: 100% 51/51 [00:30<00:00,  1.68it/s]\n",
            "[converting LR images to SR images] PSNR: 24.3830 dB SSIM: 0.8250: 100% 399/399 [00:28<00:00, 13.94it/s]\n",
            "[saving training results]: 100% 75/75 [00:04<00:00, 15.80it/s]\n",
            "[9/200] Loss_D: 1.0000 Loss_G: 0.0064 D(x): 0.9968 D(G(z)): 0.9969: 100% 51/51 [00:30<00:00,  1.70it/s]\n",
            "[converting LR images to SR images] PSNR: 23.3302 dB SSIM: 0.8295: 100% 399/399 [00:28<00:00, 13.95it/s]\n",
            "[saving training results]: 100% 75/75 [00:04<00:00, 15.84it/s]\n",
            "[10/200] Loss_D: 1.0001 Loss_G: 0.0064 D(x): 0.9988 D(G(z)): 0.9989: 100% 51/51 [00:29<00:00,  1.71it/s]\n",
            "[converting LR images to SR images] PSNR: 24.7279 dB SSIM: 0.8392: 100% 399/399 [00:28<00:00, 14.08it/s]\n",
            "[saving training results]: 100% 75/75 [00:04<00:00, 15.87it/s]\n",
            "[11/200] Loss_D: 1.0000 Loss_G: 0.0064 D(x): 0.9996 D(G(z)): 0.9996: 100% 51/51 [00:30<00:00,  1.69it/s]\n",
            "[converting LR images to SR images] PSNR: 20.5971 dB SSIM: 0.8095: 100% 399/399 [00:28<00:00, 14.11it/s]\n",
            "[saving training results]: 100% 75/75 [00:04<00:00, 15.98it/s]\n",
            "[12/200] Loss_D: 1.0000 Loss_G: 0.0066 D(x): 0.9996 D(G(z)): 0.9996: 100% 51/51 [00:30<00:00,  1.66it/s]\n",
            "[converting LR images to SR images] PSNR: 23.5856 dB SSIM: 0.8350: 100% 399/399 [00:28<00:00, 14.08it/s]\n",
            "[saving training results]: 100% 75/75 [00:04<00:00, 16.04it/s]\n",
            "[13/200] Loss_D: 1.0000 Loss_G: 0.0062 D(x): 0.9997 D(G(z)): 0.9997: 100% 51/51 [00:29<00:00,  1.71it/s]\n",
            "[converting LR images to SR images] PSNR: 23.4459 dB SSIM: 0.8382: 100% 399/399 [00:28<00:00, 13.98it/s]\n",
            "[saving training results]: 100% 75/75 [00:04<00:00, 16.11it/s]\n",
            "[14/200] Loss_D: 1.0000 Loss_G: 0.0064 D(x): 0.9997 D(G(z)): 0.9997: 100% 51/51 [00:30<00:00,  1.69it/s]\n",
            "[converting LR images to SR images] PSNR: 25.2850 dB SSIM: 0.8487: 100% 399/399 [00:28<00:00, 14.09it/s]\n",
            "[saving training results]: 100% 75/75 [00:04<00:00, 15.99it/s]\n",
            "[15/200] Loss_D: 1.0000 Loss_G: 0.0059 D(x): 0.9996 D(G(z)): 0.9996: 100% 51/51 [00:29<00:00,  1.72it/s]\n",
            "[converting LR images to SR images] PSNR: 23.7348 dB SSIM: 0.8477: 100% 399/399 [00:28<00:00, 14.07it/s]\n",
            "[saving training results]: 100% 75/75 [00:04<00:00, 15.96it/s]\n",
            "[16/200] Loss_D: 1.0000 Loss_G: 0.0057 D(x): 0.9997 D(G(z)): 0.9997: 100% 51/51 [00:29<00:00,  1.70it/s]\n",
            "[converting LR images to SR images] PSNR: 24.8105 dB SSIM: 0.8509: 100% 399/399 [00:28<00:00, 14.10it/s]\n",
            "[saving training results]: 100% 75/75 [00:04<00:00, 16.04it/s]\n",
            "[17/200] Loss_D: 1.0000 Loss_G: 0.0057 D(x): 0.9997 D(G(z)): 0.9997: 100% 51/51 [00:29<00:00,  1.71it/s]\n",
            "[converting LR images to SR images] PSNR: 24.9658 dB SSIM: 0.8529: 100% 399/399 [00:28<00:00, 14.11it/s]\n",
            "[saving training results]: 100% 75/75 [00:04<00:00, 16.17it/s]\n",
            "[18/200] Loss_D: 1.0000 Loss_G: 0.0056 D(x): 0.9997 D(G(z)): 0.9997: 100% 51/51 [00:29<00:00,  1.71it/s]\n",
            "[converting LR images to SR images] PSNR: 24.8372 dB SSIM: 0.8499: 100% 399/399 [00:28<00:00, 14.19it/s]\n",
            "[saving training results]: 100% 75/75 [00:04<00:00, 16.09it/s]\n",
            "[19/200] Loss_D: 1.0000 Loss_G: 0.0054 D(x): 0.9997 D(G(z)): 0.9997: 100% 51/51 [00:30<00:00,  1.68it/s]\n",
            "[converting LR images to SR images] PSNR: 21.7114 dB SSIM: 0.8438: 100% 399/399 [00:28<00:00, 14.19it/s]\n",
            "[saving training results]: 100% 75/75 [00:04<00:00, 16.42it/s]\n",
            "[20/200] Loss_D: 1.0000 Loss_G: 0.0068 D(x): 0.9998 D(G(z)): 0.9998: 100% 51/51 [00:29<00:00,  1.71it/s]\n",
            "[converting LR images to SR images] PSNR: 23.7397 dB SSIM: 0.8368: 100% 399/399 [00:28<00:00, 14.20it/s]\n",
            "[saving training results]: 100% 75/75 [00:04<00:00, 16.02it/s]\n",
            "[21/200] Loss_D: 1.0000 Loss_G: 0.0062 D(x): 0.9996 D(G(z)): 0.9996: 100% 51/51 [00:30<00:00,  1.66it/s]\n",
            "[converting LR images to SR images] PSNR: 25.1310 dB SSIM: 0.8531: 100% 399/399 [00:28<00:00, 14.13it/s]\n",
            "[saving training results]: 100% 75/75 [00:04<00:00, 16.04it/s]\n",
            "[22/200] Loss_D: 1.0000 Loss_G: 0.0052 D(x): 0.9997 D(G(z)): 0.9997: 100% 51/51 [00:30<00:00,  1.68it/s]\n",
            "[converting LR images to SR images] PSNR: 25.7472 dB SSIM: 0.8568: 100% 399/399 [00:28<00:00, 14.08it/s]\n",
            "[saving training results]: 100% 75/75 [00:04<00:00, 16.03it/s]\n",
            "[23/200] Loss_D: 1.0000 Loss_G: 0.0051 D(x): 0.9997 D(G(z)): 0.9997: 100% 51/51 [00:29<00:00,  1.72it/s]\n",
            "[converting LR images to SR images] PSNR: 25.1226 dB SSIM: 0.8615: 100% 399/399 [00:28<00:00, 14.14it/s]\n",
            "[saving training results]: 100% 75/75 [00:04<00:00, 16.15it/s]\n",
            "[24/200] Loss_D: 1.0000 Loss_G: 0.0051 D(x): 0.9997 D(G(z)): 0.9998: 100% 51/51 [00:30<00:00,  1.68it/s]\n",
            "[converting LR images to SR images] PSNR: 26.2984 dB SSIM: 0.8652: 100% 399/399 [00:28<00:00, 14.16it/s]\n",
            "[saving training results]: 100% 75/75 [00:04<00:00, 16.06it/s]\n",
            "[25/200] Loss_D: 1.0000 Loss_G: 0.0049 D(x): 0.9997 D(G(z)): 0.9997: 100% 51/51 [00:30<00:00,  1.67it/s]\n",
            "[converting LR images to SR images] PSNR: 26.4471 dB SSIM: 0.8634: 100% 399/399 [00:28<00:00, 14.11it/s]\n",
            "[saving training results]: 100% 75/75 [00:04<00:00, 16.23it/s]\n",
            "[26/200] Loss_D: 1.0000 Loss_G: 0.0054 D(x): 0.9998 D(G(z)): 0.9998: 100% 51/51 [00:29<00:00,  1.71it/s]\n",
            "[converting LR images to SR images] PSNR: 25.5823 dB SSIM: 0.8618: 100% 399/399 [00:28<00:00, 14.13it/s]\n",
            "[saving training results]: 100% 75/75 [00:04<00:00, 16.07it/s]\n",
            "[27/200] Loss_D: 1.0000 Loss_G: 0.0052 D(x): 0.9998 D(G(z)): 0.9998: 100% 51/51 [00:30<00:00,  1.69it/s]\n",
            "[converting LR images to SR images] PSNR: 25.3976 dB SSIM: 0.8623: 100% 399/399 [00:28<00:00, 14.08it/s]\n",
            "[saving training results]: 100% 75/75 [00:04<00:00, 15.90it/s]\n",
            "[28/200] Loss_D: 1.0000 Loss_G: 0.0049 D(x): 0.9998 D(G(z)): 0.9998: 100% 51/51 [00:30<00:00,  1.68it/s]\n",
            "[converting LR images to SR images] PSNR: 24.4462 dB SSIM: 0.8620: 100% 399/399 [00:28<00:00, 14.10it/s]\n",
            "[saving training results]: 100% 75/75 [00:04<00:00, 16.04it/s]\n",
            "[29/200] Loss_D: 1.0000 Loss_G: 0.0051 D(x): 0.9998 D(G(z)): 0.9998: 100% 51/51 [00:30<00:00,  1.69it/s]\n",
            "[converting LR images to SR images] PSNR: 25.7486 dB SSIM: 0.8614: 100% 399/399 [00:28<00:00, 14.02it/s]\n",
            "[saving training results]: 100% 75/75 [00:04<00:00, 15.72it/s]\n",
            "[30/200] Loss_D: 1.0000 Loss_G: 0.0047 D(x): 0.9997 D(G(z)): 0.9997: 100% 51/51 [00:30<00:00,  1.69it/s]\n",
            "[converting LR images to SR images] PSNR: 26.0016 dB SSIM: 0.8634: 100% 399/399 [00:28<00:00, 14.07it/s]\n",
            "[saving training results]: 100% 75/75 [00:04<00:00, 15.80it/s]\n",
            "[31/200] Loss_D: 1.0000 Loss_G: 0.0050 D(x): 0.9996 D(G(z)): 0.9996: 100% 51/51 [00:30<00:00,  1.70it/s]\n",
            "[converting LR images to SR images] PSNR: 21.6843 dB SSIM: 0.8479: 100% 399/399 [00:28<00:00, 14.01it/s]\n",
            "[saving training results]: 100% 75/75 [00:04<00:00, 15.95it/s]\n",
            "[32/200] Loss_D: 1.0000 Loss_G: 0.0060 D(x): 0.9998 D(G(z)): 0.9997: 100% 51/51 [00:30<00:00,  1.69it/s]\n",
            "[converting LR images to SR images] PSNR: 22.2700 dB SSIM: 0.8519: 100% 399/399 [00:28<00:00, 14.12it/s]\n",
            "[saving training results]: 100% 75/75 [00:04<00:00, 16.27it/s]\n",
            "[33/200] Loss_D: 1.0000 Loss_G: 0.0056 D(x): 0.9997 D(G(z)): 0.9997: 100% 51/51 [00:29<00:00,  1.72it/s]\n",
            "[converting LR images to SR images] PSNR: 24.0264 dB SSIM: 0.8574: 100% 399/399 [00:28<00:00, 14.05it/s]\n",
            "[saving training results]: 100% 75/75 [00:04<00:00, 15.81it/s]\n",
            "[34/200] Loss_D: 1.0000 Loss_G: 0.0052 D(x): 0.9996 D(G(z)): 0.9996: 100% 51/51 [00:30<00:00,  1.67it/s]\n",
            "[converting LR images to SR images] PSNR: 25.6191 dB SSIM: 0.8608: 100% 399/399 [00:28<00:00, 14.15it/s]\n",
            "[saving training results]: 100% 75/75 [00:04<00:00, 16.04it/s]\n",
            "[35/200] Loss_D: 1.0000 Loss_G: 0.0048 D(x): 0.9996 D(G(z)): 0.9995: 100% 51/51 [00:29<00:00,  1.71it/s]\n",
            "[converting LR images to SR images] PSNR: 26.7313 dB SSIM: 0.8706: 100% 399/399 [00:28<00:00, 14.12it/s]\n",
            "[saving training results]: 100% 75/75 [00:04<00:00, 15.80it/s]\n",
            "[36/200] Loss_D: 1.0000 Loss_G: 0.0048 D(x): 0.9995 D(G(z)): 0.9995: 100% 51/51 [00:30<00:00,  1.68it/s]\n",
            "[converting LR images to SR images] PSNR: 25.8922 dB SSIM: 0.8683: 100% 399/399 [00:28<00:00, 14.09it/s]\n",
            "[saving training results]: 100% 75/75 [00:04<00:00, 16.05it/s]\n",
            "[37/200] Loss_D: 1.0000 Loss_G: 0.0049 D(x): 0.9992 D(G(z)): 0.9991: 100% 51/51 [00:29<00:00,  1.72it/s]\n",
            "[converting LR images to SR images] PSNR: 26.1137 dB SSIM: 0.8704: 100% 399/399 [00:28<00:00, 14.04it/s]\n",
            "[saving training results]: 100% 75/75 [00:04<00:00, 15.97it/s]\n",
            "[38/200] Loss_D: 1.0000 Loss_G: 0.0048 D(x): 0.9999 D(G(z)): 0.9999:  14% 7/51 [00:05<00:32,  1.36it/s]"
          ],
          "name": "stdout"
        }
      ]
    },
    {
      "cell_type": "code",
      "metadata": {
        "id": "5wJt9XVEMmFg"
      },
      "source": [
        "!ls -rlt /content/training_results/SRF_4"
      ],
      "execution_count": null,
      "outputs": []
    },
    {
      "cell_type": "code",
      "metadata": {
        "id": "KI5rq2LcMsyL"
      },
      "source": [
        "sample_pic = os.path.join(\"/content/training_results/SRF_4\",\"epoch_50_index_2.png\")\n",
        "Image.open(sample_pic)"
      ],
      "execution_count": null,
      "outputs": []
    },
    {
      "cell_type": "code",
      "metadata": {
        "id": "qpw7YjWoM1uB"
      },
      "source": [
        ""
      ],
      "execution_count": null,
      "outputs": []
    },
    {
      "cell_type": "code",
      "metadata": {
        "id": "XmaaeNlCUo06"
      },
      "source": [
        "import torch.optim as optim\n",
        "import torch.utils.data\n",
        "import torchvision.utils as utils\n",
        "from torch.autograd import Variable\n",
        "from torch.utils.data import DataLoader\n",
        "from tqdm import tqdm\n",
        "\n",
        "from SRGAN.data_utils import TrainDatasetFromFolder, ValDatasetFromFolder\n",
        "\n",
        "CROP_SIZE = 100\n",
        "UPSCALE_FACTOR = 2\n",
        "train_set = TrainDatasetFromFolder(\"/content/Small_QuadCopters\", crop_size=CROP_SIZE, upscale_factor=UPSCALE_FACTOR)\n",
        "val_set = ValDatasetFromFolder(\"/content/Small_QuadCopters_val\", upscale_factor=UPSCALE_FACTOR)\n",
        "train_loader = DataLoader(dataset=train_set, num_workers=4, batch_size=64, shuffle=True)\n",
        "val_loader = DataLoader(dataset=val_set, num_workers=4, batch_size=1, shuffle=False)"
      ],
      "execution_count": null,
      "outputs": []
    },
    {
      "cell_type": "code",
      "metadata": {
        "id": "fLX083Y5VIHi"
      },
      "source": [
        "train_bar = tqdm(train_loader)\n",
        "\n",
        "for data, target in train_bar:\n",
        "    #print(data.shape, target.shape)\n",
        "    continue"
      ],
      "execution_count": null,
      "outputs": []
    },
    {
      "cell_type": "code",
      "metadata": {
        "id": "15o-lGDH7G9d"
      },
      "source": [
        "Image.open(\"/content/training_results/SRF_4/epoch_63_index_6.png\")"
      ],
      "execution_count": null,
      "outputs": []
    },
    {
      "cell_type": "code",
      "metadata": {
        "id": "srqoi3uXUIiU"
      },
      "source": [
        "!cp -R /content/SRGAN /content/drive/My\\ Drive/EVA4/"
      ],
      "execution_count": null,
      "outputs": []
    },
    {
      "cell_type": "code",
      "metadata": {
        "id": "YnY4FoUxOtoz"
      },
      "source": [
        "import sys\n",
        "sys.path.append(\"/content/drive/My Drive/EVA4/RekogNizer\")\n",
        "sys.path.append(\"/content/drive/My Drive/EVA4/\")"
      ],
      "execution_count": null,
      "outputs": []
    },
    {
      "cell_type": "code",
      "metadata": {
        "id": "zhPtNM2BOzAv"
      },
      "source": [
        "%load_ext autoreload\n",
        "%autoreload 2\n",
        "from RekogNizer import ganmodels\n",
        "from RekogNizer import ganutils\n",
        "from RekogNizer import vaemodelsmse\n",
        "\n",
        "\n",
        "G_losses = []\n",
        "D_losses = []\n",
        "img_list = []\n",
        "#r1gan = ganmodels.R1GAN(img_size=64,d_in_channel=IMAGE_DIM[-1],g_out_channel=IMAGE_DIM[-1],g_n_noise=256 ,model_prefix=\"r1gan_adam64\")\n"
      ],
      "execution_count": null,
      "outputs": []
    },
    {
      "cell_type": "code",
      "metadata": {
        "id": "IEEwALbs6Qyi"
      },
      "source": [
        "!mv Flying\\ Birds FlyingBirds"
      ],
      "execution_count": null,
      "outputs": []
    },
    {
      "cell_type": "code",
      "metadata": {
        "id": "iw1cXS-m6ZC8"
      },
      "source": [
        "!mkdir FlyingBirdsVal"
      ],
      "execution_count": null,
      "outputs": []
    },
    {
      "cell_type": "code",
      "metadata": {
        "id": "Rm45Xc__6dps"
      },
      "source": [
        "!mv $(ls -1 /content/FlyingBirds/* |tail -1000) /content/FlyingBirdsVal"
      ],
      "execution_count": null,
      "outputs": []
    },
    {
      "cell_type": "code",
      "metadata": {
        "id": "8ndWNo3A6pHZ",
        "outputId": "dddbac82-6534-4bf6-e859-b2c0cc034fb6",
        "colab": {
          "base_uri": "https://localhost:8080/",
          "height": 35
        }
      },
      "source": [
        "ls -1 /content/FlyingBirdsVal/* |wc -l"
      ],
      "execution_count": null,
      "outputs": [
        {
          "output_type": "stream",
          "text": [
            "1868\n"
          ],
          "name": "stdout"
        }
      ]
    },
    {
      "cell_type": "code",
      "metadata": {
        "id": "gKUyml4ml4cA"
      },
      "source": [
        "!cp -Rf /content/drive/My\\ Drive/EVA4/SRGAN_res/ ."
      ],
      "execution_count": null,
      "outputs": []
    },
    {
      "cell_type": "code",
      "metadata": {
        "id": "gJBsyakMmAEd"
      },
      "source": [
        "import argparse\n",
        "import time\n",
        "import os\n",
        "import torch\n",
        "from PIL import Image\n",
        "from torch.autograd import Variable\n",
        "from torchvision.transforms import ToTensor, ToPILImage\n",
        "\n",
        "from model import Generator\n",
        "\n",
        "UPSCALE_FACTOR = 4\n",
        "test_mode='GPU'\n",
        "TEST_MODE = True if test_mode == 'GPU' else False\n",
        "#IMAGE_NAME = opt.image_name\n",
        "#MODEL_NAME = opt.model_name\n",
        "\n",
        "model = Generator(UPSCALE_FACTOR).eval()"
      ],
      "execution_count": null,
      "outputs": []
    },
    {
      "cell_type": "code",
      "metadata": {
        "id": "q9WNpLvdmuP9",
        "outputId": "9f49e70f-0a71-4642-8ce7-9962e024e20c",
        "colab": {
          "base_uri": "https://localhost:8080/",
          "height": 35
        }
      },
      "source": [
        "model.cuda()\n",
        "model.load_state_dict(torch.load(\"/content/SRGAN_res/1ca3e2a23a_netG_epoch_4_25.pth\"))"
      ],
      "execution_count": null,
      "outputs": [
        {
          "output_type": "execute_result",
          "data": {
            "text/plain": [
              "<All keys matched successfully>"
            ]
          },
          "metadata": {
            "tags": []
          },
          "execution_count": 13
        }
      ]
    },
    {
      "cell_type": "code",
      "metadata": {
        "id": "mg65TfjFJSo_"
      },
      "source": [
        "traced_model = torch.jit.trace(model.to(\"cpu\"), torch.randn(1,3,512,512))\n",
        "#torch.jit.save(traced_model, '/content/resnet_custom_facedetect_2.pt')"
      ],
      "execution_count": null,
      "outputs": []
    },
    {
      "cell_type": "code",
      "metadata": {
        "id": "FSi9J0srKF5m"
      },
      "source": [
        "!cp /content/drive/My\\ Drive/EVA4/Winged\\ Drones-20200723T075457Z-001.zip /content/WingedDrones.zip\n"
      ],
      "execution_count": null,
      "outputs": []
    },
    {
      "cell_type": "code",
      "metadata": {
        "id": "7-xvHhTUKXLV"
      },
      "source": [
        "!unzip /content/WingedDrones.zip"
      ],
      "execution_count": null,
      "outputs": []
    },
    {
      "cell_type": "code",
      "metadata": {
        "id": "v_ZPXGYOJ70S",
        "outputId": "e8d8a27d-80ca-4eda-ab68-ee55c3ba2fea",
        "colab": {
          "base_uri": "https://localhost:8080/",
          "height": 73
        }
      },
      "source": [
        "IMAGE_NAME=\"/content/Winged Drones/3l-image-22.jpg\"\n",
        "image = Image.open(IMAGE_NAME)\n",
        "image = Variable(ToTensor()(image), volatile=True).unsqueeze(0)\n",
        "if TEST_MODE:\n",
        "    image = image.cuda()\n"
      ],
      "execution_count": null,
      "outputs": [
        {
          "output_type": "stream",
          "text": [
            "/usr/local/lib/python3.6/dist-packages/ipykernel_launcher.py:3: UserWarning: volatile was removed and now has no effect. Use `with torch.no_grad():` instead.\n",
            "  This is separate from the ipykernel package so we can avoid doing imports until\n"
          ],
          "name": "stderr"
        }
      ]
    },
    {
      "cell_type": "code",
      "metadata": {
        "id": "9SkrBwCvKq9l"
      },
      "source": [
        "out = traced_model(image.to(torch.device(\"cpu\")))\n",
        "#elapsed = (time.clock() - start)\n",
        "#print('cost' + str(elapsed) + 's')\n",
        "out_img = ToPILImage()(out[0].data.cpu())"
      ],
      "execution_count": null,
      "outputs": []
    },
    {
      "cell_type": "code",
      "metadata": {
        "id": "KzQPtb5LVXB6"
      },
      "source": [
        "def transform_image( image_bytes ) :\n",
        "    try:\n",
        "        #transformations = transforms.Compose([\n",
        "        #                #transforms.Resize(224) ,\n",
        "        #                #transforms.CenterCrop(224),\n",
        "        #                np.float32,\n",
        "        #                transforms.ToTensor(),\n",
        "        #                transforms.Normalize(mean=[0.485, 0.456, 0.406], std=[0.229, 0.224, 0.225])])\n",
        "        #transformations = transforms.Compose([transforms.Resize((128,128)),\n",
        "        #    transforms.CenterCrop(128),\n",
        "        #    transforms.ToTensor(),\n",
        "        #    transforms.Normalize(mean=(0.5, 0.5, 0.5),std=(0.5, 0.5, 0.5))\n",
        "        #])\n",
        "        #img = np.array(Image.open().convert('RGB'))\n",
        "        transformations = transforms.Compose([transforms.Resize((128,128)),\n",
        "            transforms.CenterCrop(128),\n",
        "            transforms.ToTensor(),\n",
        "        ])\n",
        "        # image = Image.open(io.BytesIO(image_bytes)).convert(\"RGB\")\n",
        "        image = Image.open(image_bytes).convert(\"RGB\")\n",
        "\n",
        "        print(\"Transformations successful!\")\n",
        "        return transformations(image).unsqueeze(0)\n",
        "    except Exception as e:\n",
        "        print(\"Exception during transform_image\", repr(e))\n",
        "        raise(e)"
      ],
      "execution_count": null,
      "outputs": []
    },
    {
      "cell_type": "code",
      "metadata": {
        "id": "T_HhVPbqVcR_",
        "outputId": "117b46f5-d6f7-4a8f-91ab-5da5d76364e1",
        "colab": {
          "base_uri": "https://localhost:8080/",
          "height": 35
        }
      },
      "source": [
        ""
      ],
      "execution_count": null,
      "outputs": [
        {
          "output_type": "stream",
          "text": [
            "Transformations successful!\n"
          ],
          "name": "stdout"
        }
      ]
    },
    {
      "cell_type": "code",
      "metadata": {
        "id": "bQW6NrXQWEVS",
        "outputId": "d50b055e-8e71-40a1-96ba-1f28c56fa7b0",
        "colab": {
          "base_uri": "https://localhost:8080/",
          "height": 35
        }
      },
      "source": [
        "input_img.shape"
      ],
      "execution_count": null,
      "outputs": [
        {
          "output_type": "execute_result",
          "data": {
            "text/plain": [
              "torch.Size([1, 3, 128, 128])"
            ]
          },
          "metadata": {
            "tags": []
          },
          "execution_count": 35
        }
      ]
    },
    {
      "cell_type": "code",
      "metadata": {
        "id": "plZ0Kg0KVUXE",
        "outputId": "6c8e9221-70e0-4d95-f320-b50273a13e49",
        "colab": {
          "base_uri": "https://localhost:8080/",
          "height": 53
        }
      },
      "source": [
        "#new_noise = torch.rand((8,256))#.reshape((1,256,))\n",
        "import io,base64\n",
        "with torch.no_grad():\n",
        "    input_img = transform_image(IMAGE_NAME)\n",
        "\n",
        "    output_images = model(input_img)\n",
        "    print(\"Model interpretation completed\")\n",
        "    mynew_arr = np.transpose(output_images[0].clone().clamp(0, 255).numpy(),(1,2,0))\n",
        "    mynew_arr = np.asarray(mynew_arr*255,dtype=np.uint8)\n",
        "    img = Image.fromarray(mynew_arr,mode=\"RGB\")\n",
        "    buffer = io.BytesIO()\n",
        "    img.save(buffer,format=\"JPEG\")\n",
        "    myimage = base64.b64encode(buffer.getvalue())"
      ],
      "execution_count": null,
      "outputs": [
        {
          "output_type": "stream",
          "text": [
            "Transformations successful!\n",
            "Model interpretation completed\n"
          ],
          "name": "stdout"
        }
      ]
    },
    {
      "cell_type": "code",
      "metadata": {
        "id": "Nyy6YDSjVIJr",
        "outputId": "4797cb55-4c56-4e72-9299-45a41b84c987",
        "colab": {
          "base_uri": "https://localhost:8080/",
          "height": 163
        }
      },
      "source": [
        "myimage.decode()"
      ],
      "execution_count": null,
      "outputs": [
        {
          "output_type": "execute_result",
          "data": {
            "application/vnd.google.colaboratory.intrinsic+json": {
              "type": "string"
            },
            "text/plain": [
              "'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'"
            ]
          },
          "metadata": {
            "tags": []
          },
          "execution_count": 46
        }
      ]
    },
    {
      "cell_type": "code",
      "metadata": {
        "id": "jCnab_xwUj14"
      },
      "source": [
        "out[0].data.cpu().clamp(0,255).numpy()"
      ],
      "execution_count": null,
      "outputs": []
    },
    {
      "cell_type": "code",
      "metadata": {
        "id": "_HDFB0tEM1fh"
      },
      "source": [
        "image_name_out = os.path.basename(IMAGE_NAME)\n",
        "out_img.save('out_srf_' + str(UPSCALE_FACTOR) + '_' + image_name_out)"
      ],
      "execution_count": null,
      "outputs": []
    },
    {
      "cell_type": "code",
      "metadata": {
        "id": "pE5M-6rvJuv9"
      },
      "source": [
        "torch.jit.save(traced_model, '/content/s8superres.pt')"
      ],
      "execution_count": null,
      "outputs": []
    },
    {
      "cell_type": "code",
      "metadata": {
        "id": "lyKhqOhONNw8"
      },
      "source": [
        "from RekogNizer import awsutils\n",
        "saved_model = \"/content/s8superres.pt\"\n",
        "awsutils.upload_model_to_s3('rekog-eva4s1',saved_model,os.path.basename(saved_model))"
      ],
      "execution_count": null,
      "outputs": []
    },
    {
      "cell_type": "code",
      "metadata": {
        "id": "YY5pEDd-Ngma",
        "outputId": "0ec6f738-2293-496d-fcac-128436d7474f",
        "colab": {
          "base_uri": "https://localhost:8080/",
          "height": 328
        }
      },
      "source": [
        "!pip install boto3"
      ],
      "execution_count": null,
      "outputs": [
        {
          "output_type": "stream",
          "text": [
            "Collecting boto3\n",
            "\u001b[?25l  Downloading https://files.pythonhosted.org/packages/fa/34/bdef270a8ae5cbf2b89a2dfe9a477cd63ae5ea9a5740e6412c6c320cc2da/boto3-1.15.15-py2.py3-none-any.whl (129kB)\n",
            "\r\u001b[K     |██▌                             | 10kB 25.7MB/s eta 0:00:01\r\u001b[K     |█████                           | 20kB 6.2MB/s eta 0:00:01\r\u001b[K     |███████▋                        | 30kB 7.4MB/s eta 0:00:01\r\u001b[K     |██████████▏                     | 40kB 8.4MB/s eta 0:00:01\r\u001b[K     |████████████▊                   | 51kB 6.8MB/s eta 0:00:01\r\u001b[K     |███████████████▎                | 61kB 8.0MB/s eta 0:00:01\r\u001b[K     |█████████████████▊              | 71kB 8.4MB/s eta 0:00:01\r\u001b[K     |████████████████████▎           | 81kB 9.0MB/s eta 0:00:01\r\u001b[K     |██████████████████████▉         | 92kB 8.5MB/s eta 0:00:01\r\u001b[K     |█████████████████████████▍      | 102kB 8.8MB/s eta 0:00:01\r\u001b[K     |████████████████████████████    | 112kB 8.8MB/s eta 0:00:01\r\u001b[K     |██████████████████████████████▌ | 122kB 8.8MB/s eta 0:00:01\r\u001b[K     |████████████████████████████████| 133kB 8.8MB/s \n",
            "\u001b[?25hCollecting s3transfer<0.4.0,>=0.3.0\n",
            "\u001b[?25l  Downloading https://files.pythonhosted.org/packages/69/79/e6afb3d8b0b4e96cefbdc690f741d7dd24547ff1f94240c997a26fa908d3/s3transfer-0.3.3-py2.py3-none-any.whl (69kB)\n",
            "\u001b[K     |████████████████████████████████| 71kB 7.3MB/s \n",
            "\u001b[?25hCollecting jmespath<1.0.0,>=0.7.1\n",
            "  Downloading https://files.pythonhosted.org/packages/07/cb/5f001272b6faeb23c1c9e0acc04d48eaaf5c862c17709d20e3469c6e0139/jmespath-0.10.0-py2.py3-none-any.whl\n",
            "Collecting botocore<1.19.0,>=1.18.15\n",
            "\u001b[?25l  Downloading https://files.pythonhosted.org/packages/4a/83/db265be17aa6e1a8b24cd9032752a5c46d504a9ed654121793c98bbfbb9a/botocore-1.18.15-py2.py3-none-any.whl (6.7MB)\n",
            "\u001b[K     |████████████████████████████████| 6.7MB 14.4MB/s \n",
            "\u001b[?25hRequirement already satisfied: python-dateutil<3.0.0,>=2.1 in /usr/local/lib/python3.6/dist-packages (from botocore<1.19.0,>=1.18.15->boto3) (2.8.1)\n",
            "Requirement already satisfied: urllib3<1.26,>=1.20; python_version != \"3.4\" in /usr/local/lib/python3.6/dist-packages (from botocore<1.19.0,>=1.18.15->boto3) (1.24.3)\n",
            "Requirement already satisfied: six>=1.5 in /usr/local/lib/python3.6/dist-packages (from python-dateutil<3.0.0,>=2.1->botocore<1.19.0,>=1.18.15->boto3) (1.15.0)\n",
            "Installing collected packages: jmespath, botocore, s3transfer, boto3\n",
            "Successfully installed boto3-1.15.15 botocore-1.18.15 jmespath-0.10.0 s3transfer-0.3.3\n"
          ],
          "name": "stdout"
        }
      ]
    }
  ]
}