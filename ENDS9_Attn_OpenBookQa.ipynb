{
  "nbformat": 4,
  "nbformat_minor": 0,
  "metadata": {
    "kernelspec": {
      "display_name": "Python 3",
      "language": "python",
      "name": "python3"
    },
    "language_info": {
      "codemirror_mode": {
        "name": "ipython",
        "version": 3
      },
      "file_extension": ".py",
      "mimetype": "text/x-python",
      "name": "python",
      "nbconvert_exporter": "python",
      "pygments_lexer": "ipython3",
      "version": "3.8.2"
    },
    "colab": {
      "name": "ENDS9_Attn_OpenBookQa.ipynb",
      "provenance": [],
      "collapsed_sections": [],
      "toc_visible": true,
      "include_colab_link": true
    },
    "accelerator": "GPU"
  },
  "cells": [
    {
      "cell_type": "markdown",
      "metadata": {
        "id": "view-in-github",
        "colab_type": "text"
      },
      "source": [
        "<a href=\"https://colab.research.google.com/github/rajy4683/EVAP2/blob/master/ENDS9_Attn_OpenBookQa.ipynb\" target=\"_parent\"><img src=\"https://colab.research.google.com/assets/colab-badge.svg\" alt=\"Open In Colab\"/></a>"
      ]
    },
    {
      "cell_type": "code",
      "metadata": {
        "colab": {
          "base_uri": "https://localhost:8080/"
        },
        "id": "gzFdPi_8-3fY",
        "outputId": "42c37a20-63b9-4131-b367-2069af401b3c"
      },
      "source": [
        "!nvidia-smi"
      ],
      "execution_count": null,
      "outputs": [
        {
          "output_type": "stream",
          "text": [
            "Mon Jan  4 13:19:13 2021       \n",
            "+-----------------------------------------------------------------------------+\n",
            "| NVIDIA-SMI 460.27.04    Driver Version: 418.67       CUDA Version: 10.1     |\n",
            "|-------------------------------+----------------------+----------------------+\n",
            "| GPU  Name        Persistence-M| Bus-Id        Disp.A | Volatile Uncorr. ECC |\n",
            "| Fan  Temp  Perf  Pwr:Usage/Cap|         Memory-Usage | GPU-Util  Compute M. |\n",
            "|                               |                      |               MIG M. |\n",
            "|===============================+======================+======================|\n",
            "|   0  Tesla P100-PCIE...  Off  | 00000000:00:04.0 Off |                    0 |\n",
            "| N/A   36C    P0    28W / 250W |      0MiB / 16280MiB |      0%      Default |\n",
            "|                               |                      |                 ERR! |\n",
            "+-------------------------------+----------------------+----------------------+\n",
            "                                                                               \n",
            "+-----------------------------------------------------------------------------+\n",
            "| Processes:                                                                  |\n",
            "|  GPU   GI   CI        PID   Type   Process name                  GPU Memory |\n",
            "|        ID   ID                                                   Usage      |\n",
            "|=============================================================================|\n",
            "|  No running processes found                                                 |\n",
            "+-----------------------------------------------------------------------------+\n"
          ],
          "name": "stdout"
        }
      ]
    },
    {
      "cell_type": "code",
      "metadata": {
        "id": "_KDJ9ysmCdyp",
        "colab": {
          "base_uri": "https://localhost:8080/"
        },
        "outputId": "f4d2bed7-df50-4f1c-85e4-9c4c2242ec9a"
      },
      "source": [
        "%%bash\n",
        "python -m spacy download en\n",
        "python -m spacy download de"
      ],
      "execution_count": null,
      "outputs": [
        {
          "output_type": "stream",
          "text": [
            "Requirement already satisfied: en_core_web_sm==2.2.5 from https://github.com/explosion/spacy-models/releases/download/en_core_web_sm-2.2.5/en_core_web_sm-2.2.5.tar.gz#egg=en_core_web_sm==2.2.5 in /usr/local/lib/python3.6/dist-packages (2.2.5)\n",
            "Requirement already satisfied: spacy>=2.2.2 in /usr/local/lib/python3.6/dist-packages (from en_core_web_sm==2.2.5) (2.2.4)\n",
            "Requirement already satisfied: thinc==7.4.0 in /usr/local/lib/python3.6/dist-packages (from spacy>=2.2.2->en_core_web_sm==2.2.5) (7.4.0)\n",
            "Requirement already satisfied: setuptools in /usr/local/lib/python3.6/dist-packages (from spacy>=2.2.2->en_core_web_sm==2.2.5) (51.0.0)\n",
            "Requirement already satisfied: plac<1.2.0,>=0.9.6 in /usr/local/lib/python3.6/dist-packages (from spacy>=2.2.2->en_core_web_sm==2.2.5) (1.1.3)\n",
            "Requirement already satisfied: numpy>=1.15.0 in /usr/local/lib/python3.6/dist-packages (from spacy>=2.2.2->en_core_web_sm==2.2.5) (1.19.4)\n",
            "Requirement already satisfied: requests<3.0.0,>=2.13.0 in /usr/local/lib/python3.6/dist-packages (from spacy>=2.2.2->en_core_web_sm==2.2.5) (2.23.0)\n",
            "Requirement already satisfied: blis<0.5.0,>=0.4.0 in /usr/local/lib/python3.6/dist-packages (from spacy>=2.2.2->en_core_web_sm==2.2.5) (0.4.1)\n",
            "Requirement already satisfied: preshed<3.1.0,>=3.0.2 in /usr/local/lib/python3.6/dist-packages (from spacy>=2.2.2->en_core_web_sm==2.2.5) (3.0.5)\n",
            "Requirement already satisfied: murmurhash<1.1.0,>=0.28.0 in /usr/local/lib/python3.6/dist-packages (from spacy>=2.2.2->en_core_web_sm==2.2.5) (1.0.5)\n",
            "Requirement already satisfied: catalogue<1.1.0,>=0.0.7 in /usr/local/lib/python3.6/dist-packages (from spacy>=2.2.2->en_core_web_sm==2.2.5) (1.0.0)\n",
            "Requirement already satisfied: wasabi<1.1.0,>=0.4.0 in /usr/local/lib/python3.6/dist-packages (from spacy>=2.2.2->en_core_web_sm==2.2.5) (0.8.0)\n",
            "Requirement already satisfied: cymem<2.1.0,>=2.0.2 in /usr/local/lib/python3.6/dist-packages (from spacy>=2.2.2->en_core_web_sm==2.2.5) (2.0.5)\n",
            "Requirement already satisfied: tqdm<5.0.0,>=4.38.0 in /usr/local/lib/python3.6/dist-packages (from spacy>=2.2.2->en_core_web_sm==2.2.5) (4.41.1)\n",
            "Requirement already satisfied: srsly<1.1.0,>=1.0.2 in /usr/local/lib/python3.6/dist-packages (from spacy>=2.2.2->en_core_web_sm==2.2.5) (1.0.5)\n",
            "Requirement already satisfied: chardet<4,>=3.0.2 in /usr/local/lib/python3.6/dist-packages (from requests<3.0.0,>=2.13.0->spacy>=2.2.2->en_core_web_sm==2.2.5) (3.0.4)\n",
            "Requirement already satisfied: idna<3,>=2.5 in /usr/local/lib/python3.6/dist-packages (from requests<3.0.0,>=2.13.0->spacy>=2.2.2->en_core_web_sm==2.2.5) (2.10)\n",
            "Requirement already satisfied: certifi>=2017.4.17 in /usr/local/lib/python3.6/dist-packages (from requests<3.0.0,>=2.13.0->spacy>=2.2.2->en_core_web_sm==2.2.5) (2020.12.5)\n",
            "Requirement already satisfied: urllib3!=1.25.0,!=1.25.1,<1.26,>=1.21.1 in /usr/local/lib/python3.6/dist-packages (from requests<3.0.0,>=2.13.0->spacy>=2.2.2->en_core_web_sm==2.2.5) (1.24.3)\n",
            "Requirement already satisfied: importlib-metadata>=0.20; python_version < \"3.8\" in /usr/local/lib/python3.6/dist-packages (from catalogue<1.1.0,>=0.0.7->spacy>=2.2.2->en_core_web_sm==2.2.5) (3.3.0)\n",
            "Requirement already satisfied: zipp>=0.5 in /usr/local/lib/python3.6/dist-packages (from importlib-metadata>=0.20; python_version < \"3.8\"->catalogue<1.1.0,>=0.0.7->spacy>=2.2.2->en_core_web_sm==2.2.5) (3.4.0)\n",
            "Requirement already satisfied: typing-extensions>=3.6.4; python_version < \"3.8\" in /usr/local/lib/python3.6/dist-packages (from importlib-metadata>=0.20; python_version < \"3.8\"->catalogue<1.1.0,>=0.0.7->spacy>=2.2.2->en_core_web_sm==2.2.5) (3.7.4.3)\n",
            "\u001b[38;5;2m✔ Download and installation successful\u001b[0m\n",
            "You can now load the model via spacy.load('en_core_web_sm')\n",
            "\u001b[38;5;2m✔ Linking successful\u001b[0m\n",
            "/usr/local/lib/python3.6/dist-packages/en_core_web_sm -->\n",
            "/usr/local/lib/python3.6/dist-packages/spacy/data/en\n",
            "You can now load the model via spacy.load('en')\n",
            "Collecting de_core_news_sm==2.2.5\n",
            "  Downloading https://github.com/explosion/spacy-models/releases/download/de_core_news_sm-2.2.5/de_core_news_sm-2.2.5.tar.gz (14.9MB)\n",
            "Requirement already satisfied: spacy>=2.2.2 in /usr/local/lib/python3.6/dist-packages (from de_core_news_sm==2.2.5) (2.2.4)\n",
            "Requirement already satisfied: plac<1.2.0,>=0.9.6 in /usr/local/lib/python3.6/dist-packages (from spacy>=2.2.2->de_core_news_sm==2.2.5) (1.1.3)\n",
            "Requirement already satisfied: tqdm<5.0.0,>=4.38.0 in /usr/local/lib/python3.6/dist-packages (from spacy>=2.2.2->de_core_news_sm==2.2.5) (4.41.1)\n",
            "Requirement already satisfied: setuptools in /usr/local/lib/python3.6/dist-packages (from spacy>=2.2.2->de_core_news_sm==2.2.5) (51.0.0)\n",
            "Requirement already satisfied: numpy>=1.15.0 in /usr/local/lib/python3.6/dist-packages (from spacy>=2.2.2->de_core_news_sm==2.2.5) (1.19.4)\n",
            "Requirement already satisfied: cymem<2.1.0,>=2.0.2 in /usr/local/lib/python3.6/dist-packages (from spacy>=2.2.2->de_core_news_sm==2.2.5) (2.0.5)\n",
            "Requirement already satisfied: catalogue<1.1.0,>=0.0.7 in /usr/local/lib/python3.6/dist-packages (from spacy>=2.2.2->de_core_news_sm==2.2.5) (1.0.0)\n",
            "Requirement already satisfied: murmurhash<1.1.0,>=0.28.0 in /usr/local/lib/python3.6/dist-packages (from spacy>=2.2.2->de_core_news_sm==2.2.5) (1.0.5)\n",
            "Requirement already satisfied: wasabi<1.1.0,>=0.4.0 in /usr/local/lib/python3.6/dist-packages (from spacy>=2.2.2->de_core_news_sm==2.2.5) (0.8.0)\n",
            "Requirement already satisfied: blis<0.5.0,>=0.4.0 in /usr/local/lib/python3.6/dist-packages (from spacy>=2.2.2->de_core_news_sm==2.2.5) (0.4.1)\n",
            "Requirement already satisfied: requests<3.0.0,>=2.13.0 in /usr/local/lib/python3.6/dist-packages (from spacy>=2.2.2->de_core_news_sm==2.2.5) (2.23.0)\n",
            "Requirement already satisfied: preshed<3.1.0,>=3.0.2 in /usr/local/lib/python3.6/dist-packages (from spacy>=2.2.2->de_core_news_sm==2.2.5) (3.0.5)\n",
            "Requirement already satisfied: thinc==7.4.0 in /usr/local/lib/python3.6/dist-packages (from spacy>=2.2.2->de_core_news_sm==2.2.5) (7.4.0)\n",
            "Requirement already satisfied: srsly<1.1.0,>=1.0.2 in /usr/local/lib/python3.6/dist-packages (from spacy>=2.2.2->de_core_news_sm==2.2.5) (1.0.5)\n",
            "Requirement already satisfied: importlib-metadata>=0.20; python_version < \"3.8\" in /usr/local/lib/python3.6/dist-packages (from catalogue<1.1.0,>=0.0.7->spacy>=2.2.2->de_core_news_sm==2.2.5) (3.3.0)\n",
            "Requirement already satisfied: idna<3,>=2.5 in /usr/local/lib/python3.6/dist-packages (from requests<3.0.0,>=2.13.0->spacy>=2.2.2->de_core_news_sm==2.2.5) (2.10)\n",
            "Requirement already satisfied: certifi>=2017.4.17 in /usr/local/lib/python3.6/dist-packages (from requests<3.0.0,>=2.13.0->spacy>=2.2.2->de_core_news_sm==2.2.5) (2020.12.5)\n",
            "Requirement already satisfied: chardet<4,>=3.0.2 in /usr/local/lib/python3.6/dist-packages (from requests<3.0.0,>=2.13.0->spacy>=2.2.2->de_core_news_sm==2.2.5) (3.0.4)\n",
            "Requirement already satisfied: urllib3!=1.25.0,!=1.25.1,<1.26,>=1.21.1 in /usr/local/lib/python3.6/dist-packages (from requests<3.0.0,>=2.13.0->spacy>=2.2.2->de_core_news_sm==2.2.5) (1.24.3)\n",
            "Requirement already satisfied: zipp>=0.5 in /usr/local/lib/python3.6/dist-packages (from importlib-metadata>=0.20; python_version < \"3.8\"->catalogue<1.1.0,>=0.0.7->spacy>=2.2.2->de_core_news_sm==2.2.5) (3.4.0)\n",
            "Requirement already satisfied: typing-extensions>=3.6.4; python_version < \"3.8\" in /usr/local/lib/python3.6/dist-packages (from importlib-metadata>=0.20; python_version < \"3.8\"->catalogue<1.1.0,>=0.0.7->spacy>=2.2.2->de_core_news_sm==2.2.5) (3.7.4.3)\n",
            "Building wheels for collected packages: de-core-news-sm\n",
            "  Building wheel for de-core-news-sm (setup.py): started\n",
            "  Building wheel for de-core-news-sm (setup.py): finished with status 'done'\n",
            "  Created wheel for de-core-news-sm: filename=de_core_news_sm-2.2.5-cp36-none-any.whl size=14907057 sha256=1f7af03100f41afebb12a92ccfd7d24bc6b077c81264e13b3f5d0e33a68c9ec4\n",
            "  Stored in directory: /tmp/pip-ephem-wheel-cache-isigl0rb/wheels/ba/3f/ed/d4aa8e45e7191b7f32db4bfad565e7da1edbf05c916ca7a1ca\n",
            "Successfully built de-core-news-sm\n",
            "Installing collected packages: de-core-news-sm\n",
            "Successfully installed de-core-news-sm-2.2.5\n",
            "\u001b[38;5;2m✔ Download and installation successful\u001b[0m\n",
            "You can now load the model via spacy.load('de_core_news_sm')\n",
            "\u001b[38;5;2m✔ Linking successful\u001b[0m\n",
            "/usr/local/lib/python3.6/dist-packages/de_core_news_sm -->\n",
            "/usr/local/lib/python3.6/dist-packages/spacy/data/de\n",
            "You can now load the model via spacy.load('de')\n"
          ],
          "name": "stdout"
        }
      ]
    },
    {
      "cell_type": "markdown",
      "metadata": {
        "id": "IXPzJpICCdeo"
      },
      "source": [
        "**Restart Notebook**"
      ]
    },
    {
      "cell_type": "markdown",
      "metadata": {
        "id": "_GgLPTpV9ejD"
      },
      "source": [
        "# 3 - Neural Machine Translation by Jointly Learning to Align and Translate\n",
        "\n",
        "In this third notebook on sequence-to-sequence models using PyTorch and TorchText, we'll be implementing the model from [Neural Machine Translation by Jointly Learning to Align and Translate](https://arxiv.org/abs/1409.0473). This model achives our best perplexity yet, ~27 compared to ~34 for the previous model.\n",
        "\n",
        "## Introduction\n",
        "\n",
        "As a reminder, here is the general encoder-decoder model:\n",
        "\n",
        "![](https://github.com/bentrevett/pytorch-seq2seq/blob/master/assets/seq2seq1.png?raw=1)\n",
        "\n",
        "In the previous model, our architecture was set-up in a way to reduce \"information compression\" by explicitly passing the context vector, $z$, to the decoder at every time-step and by passing both the context vector and embedded input word, $d(y_t)$, along with the hidden state, $s_t$, to the linear layer, $f$, to make a prediction.\n",
        "\n",
        "![](https://github.com/bentrevett/pytorch-seq2seq/blob/master/assets/seq2seq7.png?raw=1)\n",
        "\n",
        "Even though we have reduced some of this compression, our context vector still needs to contain all of the information about the source sentence. The model implemented in this notebook avoids this compression by allowing the decoder to look at the entire source sentence (via its hidden states) at each decoding step! How does it do this? It uses *attention*. \n",
        "\n",
        "Attention works by first, calculating an attention vector, $a$, that is the length of the source sentence. The attention vector has the property that each element is between 0 and 1, and the entire vector sums to 1. We then calculate a weighted sum of our source sentence hidden states, $H$, to get a weighted source vector, $w$. \n",
        "\n",
        "$$w = \\sum_{i}a_ih_i$$\n",
        "\n",
        "We calculate a new weighted source vector every time-step when decoding, using it as input to our decoder RNN as well as the linear layer to make a prediction. We'll explain how to do all of this during the session.\n",
        "\n",
        "## Preparing Data\n",
        "\n",
        "Again, the preparation is similar to last time.\n",
        "\n",
        "First we import all the required modules."
      ]
    },
    {
      "cell_type": "code",
      "metadata": {
        "id": "rySJ5AJb9ejE"
      },
      "source": [
        "import torch\n",
        "import torch.nn as nn\n",
        "import torch.optim as optim\n",
        "import torch.nn.functional as F\n",
        "\n",
        "from torchtext.datasets import Multi30k\n",
        "from torchtext.data import Field, BucketIterator\n",
        "\n",
        "import spacy\n",
        "import numpy as np\n",
        "import pandas as pd\n",
        "import random\n",
        "import math\n",
        "import time\n",
        "import json"
      ],
      "execution_count": null,
      "outputs": []
    },
    {
      "cell_type": "markdown",
      "metadata": {
        "id": "rD1fj0R39ejE"
      },
      "source": [
        "Set the random seeds for reproducability."
      ]
    },
    {
      "cell_type": "code",
      "metadata": {
        "id": "uZJrN5ry9ejE"
      },
      "source": [
        "SEED = 1234\n",
        "\n",
        "random.seed(SEED)\n",
        "np.random.seed(SEED)\n",
        "torch.manual_seed(SEED)\n",
        "torch.cuda.manual_seed(SEED)\n",
        "torch.backends.cudnn.deterministic = True"
      ],
      "execution_count": null,
      "outputs": []
    },
    {
      "cell_type": "markdown",
      "metadata": {
        "id": "w4Cul6h19ejF"
      },
      "source": [
        "Load the German and English spaCy models."
      ]
    },
    {
      "cell_type": "code",
      "metadata": {
        "colab": {
          "base_uri": "https://localhost:8080/"
        },
        "id": "7xxVGIID6vL4",
        "outputId": "8435ad06-2c1a-4776-bdc7-8193268f9803"
      },
      "source": [
        "from google.colab import drive\n",
        "drive.mount('/content/drive')"
      ],
      "execution_count": null,
      "outputs": [
        {
          "output_type": "stream",
          "text": [
            "Mounted at /content/drive\n"
          ],
          "name": "stdout"
        }
      ]
    },
    {
      "cell_type": "code",
      "metadata": {
        "id": "QmVlgfQY9ejF"
      },
      "source": [
        "spacy_de = spacy.load('de')\n",
        "spacy_en = spacy.load('en')"
      ],
      "execution_count": null,
      "outputs": []
    },
    {
      "cell_type": "code",
      "metadata": {
        "id": "Y4ZDUMCT_Wyn"
      },
      "source": [
        "sentence = []\r\n",
        "label = []\r\n",
        "with open('/content/OpenBookQa/train.jsonl') as h:\r\n",
        "    for line in h:\r\n",
        "        example = json.loads(line)\r\n",
        "        print(example.keys())\r\n",
        "        # scores = []\r\n",
        "        merged_choices = ' A: '.join([choice['text'] for choice in example['question']['choices']])\r\n",
        "        input = 'Q: ' + example['question']['stem'] + ' A: ' + merged_choices\r\n",
        "        correct_answer = [ choice['text'] for choice in example['question']['choices'] if choice['label'] == example['answerKey'] ][0]\r\n",
        "        sentence.append(input)\r\n",
        "        label.append(correct_answer)\r\n",
        "        #print(input, correct_answer)\r\n",
        "dataset_df = pd.DataFrame({'sentence':sentence, 'label':label})"
      ],
      "execution_count": null,
      "outputs": []
    },
    {
      "cell_type": "code",
      "metadata": {
        "colab": {
          "base_uri": "https://localhost:8080/",
          "height": 419
        },
        "id": "MQxTkA_KkUNg",
        "outputId": "dc697465-6b25-4ec8-c5e3-e73af63146c8"
      },
      "source": [
        "dataset_df"
      ],
      "execution_count": null,
      "outputs": [
        {
          "output_type": "execute_result",
          "data": {
            "text/html": [
              "<div>\n",
              "<style scoped>\n",
              "    .dataframe tbody tr th:only-of-type {\n",
              "        vertical-align: middle;\n",
              "    }\n",
              "\n",
              "    .dataframe tbody tr th {\n",
              "        vertical-align: top;\n",
              "    }\n",
              "\n",
              "    .dataframe thead th {\n",
              "        text-align: right;\n",
              "    }\n",
              "</style>\n",
              "<table border=\"1\" class=\"dataframe\">\n",
              "  <thead>\n",
              "    <tr style=\"text-align: right;\">\n",
              "      <th></th>\n",
              "      <th>sentence</th>\n",
              "      <th>label</th>\n",
              "    </tr>\n",
              "  </thead>\n",
              "  <tbody>\n",
              "    <tr>\n",
              "      <th>0</th>\n",
              "      <td>Q: The sun is responsible for A: puppies learn...</td>\n",
              "      <td>plants sprouting, blooming and wilting</td>\n",
              "    </tr>\n",
              "    <tr>\n",
              "      <th>1</th>\n",
              "      <td>Q: When standing miles away from Mount Rushmor...</td>\n",
              "      <td>the mountains seem smaller than in photographs</td>\n",
              "    </tr>\n",
              "    <tr>\n",
              "      <th>2</th>\n",
              "      <td>Q: When food is reduced in the stomach A: the ...</td>\n",
              "      <td>nutrients are being deconstructed</td>\n",
              "    </tr>\n",
              "    <tr>\n",
              "      <th>3</th>\n",
              "      <td>Q: Stars are A: warm lights that float A: made...</td>\n",
              "      <td>great balls of gas burning billions of miles away</td>\n",
              "    </tr>\n",
              "    <tr>\n",
              "      <th>4</th>\n",
              "      <td>Q: You can make a telescope with a A: straw A:...</td>\n",
              "      <td>mailing tube</td>\n",
              "    </tr>\n",
              "    <tr>\n",
              "      <th>...</th>\n",
              "      <td>...</td>\n",
              "      <td>...</td>\n",
              "    </tr>\n",
              "    <tr>\n",
              "      <th>4952</th>\n",
              "      <td>Q: A bulldozer alters the area of A: skyscrape...</td>\n",
              "      <td>skyscrapers</td>\n",
              "    </tr>\n",
              "    <tr>\n",
              "      <th>4953</th>\n",
              "      <td>Q: An organism that can survive without the he...</td>\n",
              "      <td>Brewer's yeast</td>\n",
              "    </tr>\n",
              "    <tr>\n",
              "      <th>4954</th>\n",
              "      <td>Q: The nimbleness of this animal is a key adap...</td>\n",
              "      <td>the antelope</td>\n",
              "    </tr>\n",
              "    <tr>\n",
              "      <th>4955</th>\n",
              "      <td>Q: Birds will have different kinds of beaks de...</td>\n",
              "      <td>organisms they hunt</td>\n",
              "    </tr>\n",
              "    <tr>\n",
              "      <th>4956</th>\n",
              "      <td>Q: Harriet wants to know the area of a rectang...</td>\n",
              "      <td>a ruler</td>\n",
              "    </tr>\n",
              "  </tbody>\n",
              "</table>\n",
              "<p>4957 rows × 2 columns</p>\n",
              "</div>"
            ],
            "text/plain": [
              "                                               sentence                                              label\n",
              "0     Q: The sun is responsible for A: puppies learn...             plants sprouting, blooming and wilting\n",
              "1     Q: When standing miles away from Mount Rushmor...     the mountains seem smaller than in photographs\n",
              "2     Q: When food is reduced in the stomach A: the ...                  nutrients are being deconstructed\n",
              "3     Q: Stars are A: warm lights that float A: made...  great balls of gas burning billions of miles away\n",
              "4     Q: You can make a telescope with a A: straw A:...                                       mailing tube\n",
              "...                                                 ...                                                ...\n",
              "4952  Q: A bulldozer alters the area of A: skyscrape...                                        skyscrapers\n",
              "4953  Q: An organism that can survive without the he...                                     Brewer's yeast\n",
              "4954  Q: The nimbleness of this animal is a key adap...                                       the antelope\n",
              "4955  Q: Birds will have different kinds of beaks de...                                organisms they hunt\n",
              "4956  Q: Harriet wants to know the area of a rectang...                                            a ruler\n",
              "\n",
              "[4957 rows x 2 columns]"
            ]
          },
          "metadata": {
            "tags": []
          },
          "execution_count": 10
        }
      ]
    },
    {
      "cell_type": "code",
      "metadata": {
        "id": "bw0jF9DN7A0g"
      },
      "source": [
        "#dataset = pd.read_csv(\"/content/dev.tsv\", sep='\\t', header=None)\r\n",
        "dataset = pd.read_csv(\"/content/qasc/train.tsv\", sep='\\t', header=None)\r\n",
        "dataset.columns = [\"sentence\", \"label\"]"
      ],
      "execution_count": null,
      "outputs": []
    },
    {
      "cell_type": "markdown",
      "metadata": {
        "id": "XSzI_oby9ejF"
      },
      "source": [
        "We create the tokenizers."
      ]
    },
    {
      "cell_type": "code",
      "metadata": {
        "id": "y8iY7pVS9ejF"
      },
      "source": [
        "def tokenize_de(text):\n",
        "    \"\"\"\n",
        "    Tokenizes German text from a string into a list of strings\n",
        "    \"\"\"\n",
        "    return [tok.text for tok in spacy_de.tokenizer(text)]\n",
        "\n",
        "def tokenize_en(text):\n",
        "    \"\"\"\n",
        "    Tokenizes English text from a string into a list of strings\n",
        "    \"\"\"\n",
        "    return [tok.text for tok in spacy_en.tokenizer(text)]"
      ],
      "execution_count": null,
      "outputs": []
    },
    {
      "cell_type": "markdown",
      "metadata": {
        "id": "kB3nEW--9ejF"
      },
      "source": [
        "The fields remain the same as before."
      ]
    },
    {
      "cell_type": "markdown",
      "metadata": {
        "id": "l1DXtJYx9ejF"
      },
      "source": [
        "Load the data."
      ]
    },
    {
      "cell_type": "code",
      "metadata": {
        "id": "_ztszveY7W61"
      },
      "source": [
        "from torchtext import data \r\n",
        "import matplotlib.pyplot as plt\r\n",
        "Sentence = data.Field(sequential = True, tokenize = 'spacy', batch_first =False, include_lengths=False, lower=False)\r\n",
        "Label = data.Field(sequential =True, tokenize ='spacy', is_target=False, batch_first =False, include_lengths=False, lower=False)"
      ],
      "execution_count": null,
      "outputs": []
    },
    {
      "cell_type": "code",
      "metadata": {
        "id": "dHubd2OF7bA6"
      },
      "source": [
        "dataset = dataset_df\r\n",
        "fields = [('sentence', Sentence),('label',Label)]\r\n",
        "example = [data.Example.fromlist([dataset.sentence[i],dataset.label[i]], fields) for i in range(dataset.shape[0])] \r\n",
        "commonqa_ds = data.Dataset(example, fields)\r\n",
        "(train, valid) = commonqa_ds.split(split_ratio=[0.85, 0.15], random_state=random.seed(SEED))"
      ],
      "execution_count": null,
      "outputs": []
    },
    {
      "cell_type": "code",
      "metadata": {
        "id": "Spbkkebl7hed"
      },
      "source": [
        "Sentence.build_vocab(train)\r\n",
        "Label.build_vocab(train)"
      ],
      "execution_count": null,
      "outputs": []
    },
    {
      "cell_type": "code",
      "metadata": {
        "colab": {
          "base_uri": "https://localhost:8080/"
        },
        "id": "VHjXASdO7lpN",
        "outputId": "dfe4aefc-5954-4bf5-c71f-aca8f167b37e"
      },
      "source": [
        "print('Size of input vocab : ', len(Sentence.vocab))\r\n",
        "print('Size of label vocab : ', len(Label.vocab))\r\n",
        "print('Top 10 words appreared repeatedly :', list(Sentence.vocab.freqs.most_common(10)))\r\n",
        "print('Labels : ', Label.vocab.stoi)"
      ],
      "execution_count": null,
      "outputs": [
        {
          "output_type": "stream",
          "text": [
            "Size of input vocab :  10405\n",
            "Size of label vocab :  4359\n",
            "Top 10 words appreared repeatedly : [(':', 21131), ('A', 17700), ('a', 4704), ('Q', 4214), ('the', 3677), ('to', 2303), ('of', 2216), ('is', 2037), ('in', 1693), ('?', 1510)]\n",
            "Labels :  defaultdict(<function _default_unk_index at 0x7efe1c7bfa60>, {'<unk>': 0, '<pad>': 1, 'a': 2, 'the': 3, 'of': 4, 'to': 5, 'in': 6, 'it': 7, 'is': 8, 'and': 9, 'an': 10, 'on': 11, 'be': 12, 'from': 13, 'with': 14, 'water': 15, \"'s\": 16, 'are': 17, 'will': 18, ',': 19, 'for': 20, 'that': 21, 'their': 22, 'can': 23, 'more': 24, 'its': 25, 'they': 26, 'by': 27, 'light': 28, 'sun': 29, 'up': 30, 'was': 31, '-': 32, 'food': 33, 'air': 34, 'sustenance': 35, 'them': 36, 'energy': 37, 'into': 38, 'star': 39, 'have': 40, 'heat': 41, 'when': 42, 'A': 43, 'down': 44, 'has': 45, 'less': 46, 'earth': 47, 'your': 48, 'away': 49, 'being': 50, 'ice': 51, 'liquid': 52, 'ground': 53, 'as': 54, 'leaves': 55, 'our': 56, 'out': 57, 'plant': 58, 'use': 59, 'H2O': 60, 'at': 61, 'body': 62, 'day': 63, 'large': 64, 'things': 65, 'tree': 66, 'all': 67, 'some': 68, 'than': 69, 'time': 70, 'car': 71, 'forest': 72, 'get': 73, 'one': 74, 'planet': 75, 'precipitation': 76, 'same': 77, 'there': 78, 'warmth': 79, 'after': 80, 'flora': 81, 'gas': 82, 'inside': 83, 'off': 84, 'using': 85, 'birds': 86, 'cold': 87, 'go': 88, 'ocean': 89, 'or': 90, 'small': 91, 'would': 92, 'you': 93, 'area': 94, 'eat': 95, 'may': 96, 'moving': 97, 'over': 98, 'plants': 99, 'power': 100, 'rock': 101, 'solar': 102, 'temperature': 103, 'trees': 104, 'habitat': 105, 'hard': 106, 'hot': 107, 'iron': 108, 'keep': 109, 'life': 110, 'make': 111, 'nutriment': 112, 'sand': 113, 'see': 114, 'wet': 115, 'areas': 116, 'around': 117, 'circuit': 118, 'dead': 119, 'had': 120, 'land': 121, 'moisture': 122, 'new': 123, 'object': 124, 'other': 125, 'plastic': 126, 'seeds': 127, 'warm': 128, 'yellow': 129, 'Earth': 130, 'animals': 131, 'corn': 132, 'different': 133, 'dirt': 134, 'electricity': 135, 'environment': 136, 'having': 137, 'night': 138, 'organisms': 139, 'outside': 140, 'oxygen': 141, 'person': 142, 'river': 143, 'size': 144, 'something': 145, 'source': 146, 'space': 147, 'thing': 148, 'through': 149, 'very': 150, 'weather': 151, 'years': 152, 'been': 153, 'closest': 154, 'electric': 155, 'fuel': 156, 'grow': 157, 'high': 158, 'homes': 159, 'lake': 160, 'like': 161, 'living': 162, 'local': 163, 'made': 164, 'mass': 165, 'material': 166, 'metal': 167, 'nutrients': 168, 'open': 169, 'produce': 170, 'solid': 171, 'steel': 172, 'stone': 173, 'sunlight': 174, 'temps': 175, 'together': 176, 'where': 177, 'white': 178, 'winter': 179, 'without': 180, 'above': 181, 'better': 182, 'cause': 183, 'clear': 184, 'creatures': 185, 'experience': 186, 'fire': 187, 'fish': 188, 'flowers': 189, 'fluid': 190, 'front': 191, 'head': 192, 'hours': 193, 'live': 194, 'lose': 195, 'near': 196, 'objects': 197, 'rain': 198, 'reproduction': 199, 'sky': 200, 'snow': 201, 'system': 202, 'throwing': 203, 'two': 204, 'which': 205, 'yard': 206, 'The': 207, 'alive': 208, 'amount': 209, 'animal': 210, 'bacteria': 211, 'bamboo': 212, 'base': 213, 'blood': 214, 'break': 215, 'burning': 216, 'cease': 217, 'changes': 218, 'closer': 219, 'consume': 220, 'copper': 221, 'cup': 222, 'cycle': 223, 'days': 224, 'desert': 225, 'droplets': 226, 'eggs': 227, 'equator': 228, 'found': 229, 'getting': 230, 'grass': 231, 'green': 232, 'h2o': 233, 'hands': 234, 'higher': 235, 'human': 236, 'leave': 237, 'leaving': 238, 'long': 239, 'many': 240, 'matter': 241, 'might': 242, 'milk': 243, 'month': 244, 'moon': 245, 'mountains': 246, 'much': 247, 'nose': 248, 'offspring': 249, 'oil': 250, 'old': 251, 'only': 252, 'organism': 253, 'parents': 254, 'parts': 255, 'place': 256, 'population': 257, 'pressure': 258, 'shape': 259, 'smooth': 260, 'soil': 261, 'speed': 262, 'too': 263, 'underwater': 264, 'used': 265, 'vapor': 266, 'wind': 267, ';': 268, 'CO2': 269, 'I': 270, 'about': 271, 'adjust': 272, 'another': 273, 'astral': 274, 'avoid': 275, 'because': 276, 'become': 277, 'beings': 278, 'bodies': 279, 'causes': 280, 'change': 281, 'coal': 282, 'coffee': 283, 'communities': 284, 'conditions': 285, 'dark': 286, 'decrease': 287, 'dry': 288, 'dust': 289, 'earthquake': 290, 'fall': 291, 'falling': 292, 'feet': 293, 'form': 294, 'glass': 295, 'grains': 296, 'greater': 297, 'hemisphere': 298, 'home': 299, 'hotter': 300, 'how': 301, 'increase': 302, 'lava': 303, 'log': 304, 'makes': 305, 'meat': 306, 'months': 307, 'mother': 308, 'motion': 309, 'mountain': 310, 'mouse': 311, 'movement': 312, 'my': 313, 'natural': 314, 'nourishment': 315, 'numbers': 316, 'oak': 317, 'organ': 318, 'pips': 319, 'plasma': 320, 'pond': 321, 'portion': 322, 'producers': 323, 'raised': 324, 'regions': 325, 'room': 326, 'scorching': 327, 'soda': 328, 'stones': 329, 'storm': 330, 'survive': 331, 'take': 332, 'temperatures': 333, 'these': 334, 'thick': 335, 'voles': 336, 'younglings': 337, 'It': 338, 'They': 339, 'adult': 340, 'allow': 341, 'arctic': 342, 'axis': 343, 'back': 344, 'ball': 345, 'behind': 346, 'biological': 347, 'black': 348, 'bread': 349, 'bugs': 350, 'cake': 351, 'carbon': 352, 'changing': 353, 'color': 354, 'condensed': 355, 'covered': 356, 'daffodils': 357, 'daily': 358, 'decreases': 359, 'deer': 360, 'degrees': 361, 'develop': 362, 'dog': 363, 'during': 364, 'dwarf': 365, 'eats': 366, 'eyes': 367, 'field': 368, 'floor': 369, 'force': 370, 'forms': 371, 'frog': 372, 'future': 373, 'genes': 374, 'half': 375, 'harder': 376, 'heavy': 377, 'his': 378, 'holding': 379, 'hotness': 380, 'humans': 381, 'humidity': 382, 'hydrogen': 383, 'illumination': 384, 'insects': 385, 'items': 386, 'juice': 387, 'lack': 388, 'lakes': 389, 'layers': 390, 'leaf': 391, 'lights': 392, 'liquids': 393, 'longer': 394, 'look': 395, 'markings': 396, 'materials': 397, 'measure': 398, 'mine': 399, 'minerals': 400, 'oaks': 401, 'organic': 402, 'parent': 403, 'particles': 404, 'perish': 405, 'physical': 406, 'piece': 407, 'prey': 408, 'products': 409, 'protection': 410, 'puddle': 411, 'pull': 412, 'reaction': 413, 'rocks': 414, 'rotation': 415, 'sea': 416, 'season': 417, 'seed': 418, 'sense': 419, 'setting': 420, 'showers': 421, 'special': 422, 'stars': 423, 'strong': 424, 'structure': 425, 'stuff': 426, 'sunny': 427, 'sweet': 428, 'this': 429, 'top': 430, 'touch': 431, 'turn': 432, 'unable': 433, 'under': 434, 'vegetation': 435, 'warmer': 436, 'way': 437, 'who': 438, 'wolves': 439, 'work': 440, \"'\": 441, ':': 442, 'Southern': 443, 'ability': 444, 'against': 445, 'aluminum': 446, 'amounts': 447, 'any': 448, 'appear': 449, 'applied': 450, 'batter': 451, 'before': 452, 'bird': 453, 'blue': 454, 'breathe': 455, 'breathing': 456, 'bright': 457, 'broken': 458, 'calcium': 459, 'cans': 460, 'cars': 461, 'cat': 462, 'characteristics': 463, 'charged': 464, 'chemical': 465, 'child': 466, 'climate': 467, 'closes': 468, 'clothes': 469, 'clouds': 470, 'construction': 471, 'consuming': 472, 'contact': 473, 'container': 474, 'containers': 475, 'contains': 476, 'cool': 477, 'could': 478, 'creature': 479, 'crops': 480, 'dandelions': 481, 'daylight': 482, 'dimming': 483, 'dispersed': 484, 'distant': 485, 'driving': 486, 'due': 487, 'eaters': 488, 'egg': 489, 'electrical': 490, 'elements': 491, 'end': 492, 'enough': 493, 'evaporation': 494, 'every': 495, 'expire': 496, 'family': 497, 'far': 498, 'fewer': 499, 'filled': 500, 'find': 501, 'flashlight': 502, 'flat': 503, 'flying': 504, 'foil': 505, 'freezing': 506, 'fridge': 507, 'fur': 508, 'gales': 509, 'garbage': 510, 'gasoline': 511, 'globe': 512, 'gold': 513, 'great': 514, 'honey': 515, 'house': 516, 'hues': 517, 'illuminate': 518, 'increased': 519, 'increases': 520, 'introduce': 521, 'itself': 522, 'kernels': 523, 'larger': 524, 'late': 525, 'layer': 526, 'length': 527, 'likely': 528, 'lower': 529, 'making': 530, 'mark': 531, 'meal': 532, 'meals': 533, 'mice': 534, 'minutes': 535, 'moles': 536, 'most': 537, 'mouth': 538, 'murder': 539, 'need': 540, 'needs': 541, 'nine': 542, 'noon': 543, 'north': 544, 'number': 545, 'once': 546, 'opposite': 547, 'organs': 548, 'osprey': 549, 'outer': 550, 'paper': 551, 'passed': 552, 'pasta': 553, 'people': 554, 'pieces': 555, 'pipes': 556, 'places': 557, 'placing': 558, 'planting': 559, 'plate': 560, 'plummet': 561, 'ponds': 562, 'precipitate': 563, 'process': 564, 'push': 565, 'put': 566, 'putting': 567, 'quake': 568, 'quickly': 569, 'rabbits': 570, 'reactions': 571, 'refuse': 572, 'relocate': 573, 'repeatedly': 574, 'resources': 575, 'rise': 576, 'roots': 577, 'rose': 578, 'round': 579, 'salmon': 580, 'salt': 581, 'saltwater': 582, 'sculpture': 583, 'seasons': 584, 'set': 585, 'shiny': 586, 'sleep': 587, 'snowy': 588, 'sound': 589, 'stalk': 590, 'starve': 591, 'state': 592, 'stick': 593, 'stomach': 594, 'stove': 595, 'straight': 596, 'substance': 597, 'substances': 598, 'sucrose': 599, 'sure': 600, 'surface': 601, 'temp': 602, 'then': 603, 'timberland': 604, 'tires': 605, 'trash': 606, 'turned': 607, 'umbrella': 608, 'underground': 609, 'uses': 610, 'visible': 611, 'wall': 612, 'warmness': 613, 'waste': 614, 'wear': 615, 'weeks': 616, 'weight': 617, 'were': 618, 'while': 619, 'wide': 620, 'windmills': 621, 'wire': 622, 'wood': 623, 'year': 624, 'zapping': 625, 'zero': 626, '.': 627, '1': 628, '2': 629, 'An': 630, 'December': 631, 'Doh': 632, 'EAT': 633, 'Fe': 634, 'H20': 635, 'Hemisphere': 636, 'Light': 637, 'Play': 638, 'Sun': 639, 'absorbing': 640, 'accelerate': 641, 'access': 642, 'acid': 643, 'active': 644, 'adjusted': 645, 'affected': 646, 'again': 647, 'ago': 648, 'aluminium': 649, 'ancestors': 650, 'ancient': 651, 'angle': 652, 'ants': 653, 'apple': 654, 'armor': 655, 'atmosphere': 656, 'attempt': 657, 'attributes': 658, 'bake': 659, 'baked': 660, 'beaks': 661, 'beam': 662, 'beams': 663, 'beans': 664, 'bear': 665, 'bees': 666, 'below': 667, 'beneath': 668, 'berries': 669, 'between': 670, 'beverage': 671, 'big': 672, 'bigger': 673, 'bits': 674, 'blend': 675, 'both': 676, 'bottom': 677, 'bounce': 678, 'box': 679, 'brain': 680, 'brush': 681, 'building': 682, 'bulb': 683, 'bush': 684, 'but': 685, 'cacti': 686, 'cactus': 687, 'came': 688, 'candle': 689, 'carbonic': 690, 'celestial': 691, 'chameleon': 692, 'chilly': 693, 'chunks': 694, 'class': 695, 'claws': 696, 'cloud': 697, 'colder': 698, 'colorful': 699, 'colors': 700, 'coming': 701, 'complete': 702, 'conductor': 703, 'conservation': 704, 'cooking': 705, 'covering': 706, 'crack': 707, 'create': 708, 'critters': 709, 'cycling': 710, 'cylinder': 711, 'damage': 712, 'dampness': 713, 'darkness': 714, 'deep': 715, 'demolished': 716, 'dense': 717, 'diamond': 718, 'direct': 719, 'discharge': 720, 'dish': 721, 'disperse': 722, 'dissolved': 723, 'distance': 724, 'do': 725, 'dogs': 726, 'each': 727, 'ears': 728, 'easier': 729, 'easily': 730, 'edible': 731, 'elephant': 732, 'entity': 733, 'environments': 734, 'escalate': 735, 'evaporate': 736, 'exertion': 737, 'exist': 738, 'external': 739, 'eye': 740, 'face': 741, 'facing': 742, 'fat': 743, 'feel': 744, 'felled': 745, 'female': 746, 'flood': 747, 'flowing': 748, 'fly': 749, 'forward': 750, 'fossilized': 751, 'four': 752, 'freshly': 753, 'frigid': 754, 'frozen': 755, 'full': 756, 'gathering': 757, 'gets': 758, 'give': 759, 'glaciers': 760, 'gone': 761, 'granite': 762, 'growth': 763, 'habitats': 764, 'hair': 765, 'hand': 766, 'hare': 767, 'hawks': 768, 'he': 769, 'heads': 770, 'health': 771, 'healthy': 772, 'heated': 773, 'heating': 774, 'hide': 775, 'hit': 776, 'hold': 777, 'horse': 778, 'hydration': 779, 'if': 780, 'internal': 781, 'kill': 782, 'kind': 783, 'leafy': 784, 'left': 785, 'legs': 786, 'lemon': 787, 'levels': 788, 'lifeless': 789, 'little': 790, 'loam': 791, 'logging': 792, 'logs': 793, 'looking': 794, 'looks': 795, 'loose': 796, 'loses': 797, 'lost': 798, 'lot': 799, 'luna': 800, 'magnetic': 801, 'mall': 802, 'mammals': 803, 'man': 804, 'match': 805, 'mature': 806, 'meadow': 807, 'meet': 808, 'melted': 809, 'melting': 810, 'mighty': 811, 'mirrors': 812, 'monkey': 813, 'move': 814, 'mud': 815, 'nail': 816, 'nature': 817, 'needed': 818, 'nickel': 819, 'non': 820, 'nothing': 821, 'nuclear': 822, 'nurse': 823, 'nuts': 824, 'oceans': 825, 'ones': 826, 'orbits': 827, 'others': 828, 'outlet': 829, 'owl': 830, 'pacific': 831, 'park': 832, 'path': 833, 'patterns': 834, 'petroleum': 835, 'phone': 836, 'playing': 837, 'pm': 838, 'pool': 839, 'poop': 840, 'portions': 841, 'positive': 842, 'pouring': 843, 'producer': 844, 'public': 845, 'pulled': 846, 'pumping': 847, 'quicker': 848, 'raccoons': 849, 'radiation': 850, 'rays': 851, 'reach': 852, 'redirect': 853, 'releasing': 854, 'remains': 855, 'required': 856, 'requires': 857, 'resource': 858, 'respiration': 859, 'retain': 860, 'reuse': 861, 'reused': 862, 'ribs': 863, 'rings': 864, 'rises': 865, 'rotating': 866, 'runner': 867, 'running': 868, 'runs': 869, 'safe': 870, 'satellite': 871, 'scraps': 872, 'seconds': 873, 'seen': 874, 'series': 875, 'shells': 876, 'short': 877, 'shorter': 878, 'show': 879, 'side': 880, 'similar': 881, 'single': 882, 'skin': 883, 'skunk': 884, 'smashing': 885, 'solids': 886, 'someone': 887, 'sooner': 888, 'sources': 889, 'south': 890, 'southern': 891, 'spaces': 892, 'spreads': 893, 'spring': 894, 'squid': 895, 'squirrels': 896, 'stage': 897, 'start': 898, 'still': 899, 'stop': 900, 'sugar': 901, 'summer': 902, 'supply': 903, 'surrounding': 904, 'surroundings': 905, 'sweltering': 906, 'swimming': 907, 'switch': 908, 'tail': 909, 'tape': 910, 'terra': 911, 'thermal': 912, 'three': 913, 'thrive': 914, 'timber': 915, 'times': 916, 'tongue': 917, 'tough': 918, 'track': 919, 'trapped': 920, 'travel': 921, 'type': 922, 'upper': 923, 'us': 924, 'variety': 925, 'vibrant': 926, 'viewing': 927, 'visual': 928, 'volcanic': 929, 'volcano': 930, 'volcanoes': 931, 'voltage': 932, 'volume': 933, 'walk': 934, 'wanted': 935, 'waters': 936, 'we': 937, 'wearing': 938, 'weathering': 939, 'west': 940, 'window': 941, 'within': 942, 'world': 943, 'worms': 944, 'wrapper': 945, 'wrong': 946, 'xylem': 947, 'zipper': 948, '12': 949, '1440': 950, '3': 951, '365': 952, '5': 953, '6': 954, 'African': 955, 'April': 956, 'Arctic': 957, 'Australia': 958, 'Bees': 959, 'Christmas': 960, 'Day': 961, 'Ear': 962, 'Eat': 963, 'Fahrenheit': 964, 'Halloween': 965, 'Iron': 966, 'July': 967, 'Make': 968, 'March': 969, 'Mars': 970, 'Michigan': 971, 'Moon': 972, 'Move': 973, 'Nascar': 974, 'Neptune': 975, 'New': 976, 'Non': 977, 'November': 978, 'Putting': 979, 'Raccoons': 980, 'Renewable': 981, 'Resource': 982, 'Runoff': 983, 'South': 984, 'Their': 985, 'Trees': 986, 'Vehicle': 987, 'Water': 988, 'Winter': 989, 'able': 990, 'abrasion': 991, 'absorbed': 992, 'acclimated': 993, 'acquired': 994, 'across': 995, 'acts': 996, 'adapt': 997, 'adapted': 998, 'add': 999, 'adjusting': 1000, 'adjusts': 1001, 'age': 1002, 'agents': 1003, 'aid': 1004, 'along': 1005, 'altered': 1006, 'always': 1007, 'ant': 1008, 'antelope': 1009, 'anthill': 1010, 'anti': 1011, 'apart': 1012, 'appearance': 1013, 'appearing': 1014, 'appendages': 1015, 'arteries': 1016, 'artificial': 1017, 'assistance': 1018, 'assortment': 1019, 'attached': 1020, 'attract': 1021, 'attracting': 1022, 'available': 1023, 'babies': 1024, 'bad': 1025, 'badgers': 1026, 'balls': 1027, 'band': 1028, 'banging': 1029, 'bats': 1030, 'beach': 1031, 'bears': 1032, 'became': 1033, 'becomes': 1034, 'bedroom': 1035, 'bee': 1036, 'begins': 1037, 'behavior': 1038, 'bench': 1039, 'berry': 1040, 'bicycle': 1041, 'bike': 1042, 'biking': 1043, 'birth': 1044, 'bleach': 1045, 'blizzard': 1046, 'bloats': 1047, 'block': 1048, 'boom': 1049, 'boost': 1050, 'bottles': 1051, 'bouncing': 1052, 'boxes': 1053, 'boy': 1054, 'brass': 1055, 'breath': 1056, 'breathable': 1057, 'breeze': 1058, 'breezes': 1059, 'brick': 1060, 'bring': 1061, 'broke': 1062, 'brook': 1063, 'brought': 1064, 'brown': 1065, 'bubbles': 1066, 'budding': 1067, 'built': 1068, 'bulk': 1069, 'burner': 1070, 'burying': 1071, 'bus': 1072, 'business': 1073, 'button': 1074, 'cafeteria': 1075, 'calculator': 1076, 'called': 1077, 'calories': 1078, 'camera': 1079, 'candy': 1080, 'cannibals': 1081, 'canyon': 1082, 'card': 1083, 'carnation': 1084, 'carnations': 1085, 'carpet': 1086, 'carton': 1087, 'cased': 1088, 'catching': 1089, 'cats': 1090, 'causing': 1091, 'cave': 1092, 'ceased': 1093, 'ceases': 1094, 'cell': 1095, 'chance': 1096, 'chart': 1097, 'chasing': 1098, 'cherry': 1099, 'chest': 1100, 'chevy': 1101, 'chicken': 1102, 'chipmunk': 1103, 'chlorophyll': 1104, 'chopstick': 1105, 'circle': 1106, 'circulatory': 1107, 'clams': 1108, 'clay': 1109, 'climates': 1110, 'close': 1111, 'closed': 1112, 'cloth': 1113, 'coastal': 1114, 'coat': 1115, 'cobalt': 1116, 'coke': 1117, 'collect': 1118, 'collisions': 1119, 'come': 1120, 'comes': 1121, 'comfortable': 1122, 'commodity': 1123, 'common': 1124, 'compass': 1125, 'completed': 1126, 'components': 1127, 'composed': 1128, 'concrete': 1129, 'conduction': 1130, 'consider': 1131, 'consistently': 1132, 'constant': 1133, 'consumers': 1134, 'continuously': 1135, 'cookie': 1136, 'cooled': 1137, 'cools': 1138, 'correlate': 1139, 'counter': 1140, 'cover': 1141, 'cozy': 1142, 'cracking': 1143, 'crawlers': 1144, 'cream': 1145, 'created': 1146, 'crevasse': 1147, 'crumpling': 1148, 'crushing': 1149, 'crystal': 1150, 'cucumbers': 1151, 'cultivation': 1152, 'curling': 1153, 'current': 1154, 'cut': 1155, 'cutting': 1156, 'daffodil': 1157, 'damaged': 1158, 'danger': 1159, 'dangerous': 1160, 'data': 1161, 'decay': 1162, 'decompose': 1163, 'deliquesce': 1164, 'demolishes': 1165, 'depleted': 1166, 'depletes': 1167, 'deposits': 1168, 'depths': 1169, 'destroyed': 1170, 'determine': 1171, 'device': 1172, 'devices': 1173, 'devoured': 1174, 'did': 1175, 'die': 1176, 'dino': 1177, 'dioxide': 1178, 'directing': 1179, 'direction': 1180, 'directly': 1181, 'dirty': 1182, 'dirtying': 1183, 'diverse': 1184, 'does': 1185, 'double': 1186, 'dough': 1187, 'downstream': 1188, 'drips': 1189, 'drive': 1190, 'drop': 1191, 'drops': 1192, 'dwindle': 1193, 'dye': 1194, 'earlier': 1195, 'earthworms': 1196, 'eating': 1197, 'ecosystem': 1198, 'electrons': 1199, 'eliminate': 1200, 'elsewhere': 1201, 'embryo': 1202, 'empty': 1203, 'enjoy': 1204, 'enlarger': 1205, 'entire': 1206, 'esophagus': 1207, 'evade': 1208, 'eventually': 1209, 'everywhere': 1210, 'exhaust': 1211, 'existence': 1212, 'existing': 1213, 'expand': 1214, 'expel': 1215, 'expelled': 1216, 'experienced': 1217, 'expired': 1218, 'explosion': 1219, 'extreme': 1220, 'eyesight': 1221, 'faces': 1222, 'fail': 1223, 'fallen': 1224, 'falls': 1225, 'fan': 1226, 'farmers': 1227, 'faster': 1228, 'favorite': 1229, 'feature': 1230, 'features': 1231, 'felines': 1232, 'fell': 1233, 'few': 1234, 'fields': 1235, 'first': 1236, 'flaming': 1237, 'flavors': 1238, 'flesh': 1239, 'flick': 1240, 'flight': 1241, 'flip': 1242, 'flower': 1243, 'fog': 1244, 'folds': 1245, 'foods': 1246, 'foot': 1247, 'formation': 1248, 'foxes': 1249, 'free': 1250, 'fresh': 1251, 'friction': 1252, 'fuels': 1253, 'fully': 1254, 'gain': 1255, 'garden': 1256, 'gather': 1257, 'gathered': 1258, 'geese': 1259, 'gem': 1260, 'genetic': 1261, 'giant': 1262, 'giraffe': 1263, 'giraffes': 1264, 'glands': 1265, 'glucose': 1266, 'goes': 1267, 'going': 1268, 'golden': 1269, 'good': 1270, 'got': 1271, 'gotten': 1272, 'grasshoppers': 1273, 'gravitational': 1274, 'gravity': 1275, 'gray': 1276, 'greens': 1277, 'grey': 1278, 'groups': 1279, 'groves': 1280, 'growing': 1281, 'grown': 1282, 'guacamole': 1283, 'guard': 1284, 'gum': 1285, 'gusts': 1286, 'hairdryer': 1287, 'halted': 1288, 'harvested': 1289, 'heal': 1290, 'healthier': 1291, 'heaps': 1292, 'hearing': 1293, 'heater': 1294, 'heavily': 1295, 'heaviness': 1296, 'height': 1297, 'help': 1298, 'herd': 1299, 'hidden': 1300, 'hole': 1301, 'hooks': 1302, 'houses': 1303, 'housing': 1304, 'humanity': 1305, 'hunt': 1306, 'hunting': 1307, 'hurricane': 1308, 'hydrangea': 1309, 'identical': 1310, 'ill': 1311, 'illness': 1312, 'impact': 1313, 'incomplete': 1314, 'inherited': 1315, 'inner': 1316, 'instead': 1317, 'intake': 1318, 'intense': 1319, 'invented': 1320, 'ions': 1321, 'island': 1322, 'item': 1323, 'jar': 1324, 'jars': 1325, 'jog': 1326, 'jump': 1327, 'junk': 1328, 'just': 1329, 'keeping': 1330, 'kelvin': 1331, 'kickball': 1332, 'killed': 1333, 'killers': 1334, 'kinetic': 1335, 'kittens': 1336, 'lacking': 1337, 'lamp': 1338, 'last': 1339, 'laundry': 1340, 'lays': 1341, 'lead': 1342, 'learned': 1343, 'legged': 1344, 'lemonade': 1345, 'lemurs': 1346, 'lid': 1347, 'lids': 1348, 'lightning': 1349, 'lit': 1350, 'litters': 1351, 'lizard': 1352, 'locale': 1353, 'locales': 1354, 'location': 1355, 'locations': 1356, 'losing': 1357, 'loss': 1358, 'low': 1359, 'lowest': 1360, 'lumber': 1361, 'luminescence': 1362, 'magma': 1363, 'magnetism': 1364, 'magnets': 1365, 'maintain': 1366, 'makers': 1367, 'marks': 1368, 'mason': 1369, 'matching': 1370, 'mechanical': 1371, 'melt': 1372, 'migration': 1373, 'millennia': 1374, 'mineral': 1375, 'mini': 1376, 'mirror': 1377, 'mostly': 1378, 'mountainous': 1379, 'mountainside': 1380, 'moved': 1381, 'moves': 1382, 'multiple': 1383, 'muscle': 1384, 'must': 1385, 'nails': 1386, 'national': 1387, 'native': 1388, 'nearby': 1389, 'necessary': 1390, 'neck': 1391, 'needle': 1392, 'negative': 1393, 'negatively': 1394, 'nerves': 1395, 'next': 1396, 'nightcrawlers': 1397, 'noise': 1398, 'noting': 1399, 'nutritional': 1400, 'observe': 1401, 'oceanic': 1402, 'orbit': 1403, 'outdoors': 1404, 'oven': 1405, 'overpopulation': 1406, 'own': 1407, 'pack': 1408, 'packed': 1409, 'pained': 1410, 'palm': 1411, 'panel': 1412, 'pants': 1413, 'parched': 1414, 'parks': 1415, 'part': 1416, 'passes': 1417, 'peas': 1418, 'pedal': 1419, 'pencil': 1420, 'penny': 1421, 'perception': 1422, 'perch': 1423, 'periods': 1424, 'perished': 1425, 'photosynthesis': 1426, 'picnic': 1427, 'pigmentation': 1428, 'piles': 1429, 'pit': 1430, 'pitch': 1431, 'planted': 1432, 'plastics': 1433, 'plates': 1434, 'player': 1435, 'pods': 1436, 'point': 1437, 'pointing': 1438, 'poker': 1439, 'pollution': 1440, 'pools': 1441, 'pooping': 1442, 'positively': 1443, 'potential': 1444, 'powerful': 1445, 'predator': 1446, 'predators': 1447, 'present': 1448, 'probably': 1449, 'produced': 1450, 'produces': 1451, 'product': 1452, 'properly': 1453, 'properties': 1454, 'protect': 1455, 'provided': 1456, 'proximity': 1457, 'pulley': 1458, 'pulling': 1459, 'puppies': 1460, 'puppy': 1461, 'pups': 1462, 'purchase': 1463, 'purposes': 1464, 'pushed': 1465, 'quality': 1466, 'quarter': 1467, 'rabbit': 1468, 'raccoon': 1469, 'races': 1470, 'rainfall': 1471, 'rainy': 1472, 'raise': 1473, 'raising': 1474, 'raked': 1475, 'range': 1476, 'rapidly': 1477, 'ravaged': 1478, 'raven': 1479, 'raw': 1480, 'ray': 1481, 'reasons': 1482, 'red': 1483, 'reduce': 1484, 'reflect': 1485, 'regulate': 1486, 'related': 1487, 'relative': 1488, 'released': 1489, 'releases': 1490, 'rely': 1491, 'remain': 1492, 'remove': 1493, 'renewable': 1494, 'repeating': 1495, 'replace': 1496, 'replacement': 1497, 'replication': 1498, 'reproduce': 1499, 'reproducing': 1500, 'reproductive': 1501, 'reptile': 1502, 'require': 1503, 'resistance': 1504, 'reusing': 1505, 'ride': 1506, 'right': 1507, 'road': 1508, 'rocky': 1509, 'roofless': 1510, 'root': 1511, 'roses': 1512, 'rotations': 1513, 'rubber': 1514, 'rubbing': 1515, 'ruler': 1516, 'run': 1517, 'safety': 1518, 'sandy': 1519, 'scale': 1520, 'scrap': 1521, 'search': 1522, 'seared': 1523, 'seas': 1524, 'seawater': 1525, 'sediment': 1526, 'seismograph': 1527, 'sets': 1528, 'shaking': 1529, 'shaped': 1530, 'share': 1531, 'shark': 1532, 'sharks': 1533, 'sharp': 1534, 'shell': 1535, 'shelter': 1536, 'shift': 1537, 'shorts': 1538, 'should': 1539, 'shove': 1540, 'shut': 1541, 'sides': 1542, 'silica': 1543, 'silt': 1544, 'similarly': 1545, 'sitting': 1546, 'six': 1547, 'skeletal': 1548, 'sleeper': 1549, 'sleet': 1550, 'sloth': 1551, 'slow': 1552, 'slower': 1553, 'slumber': 1554, 'smaller': 1555, 'smoke': 1556, 'snakes': 1557, 'snowfall': 1558, 'so': 1559, 'soap': 1560, 'socks': 1561, 'sodium': 1562, 'solidified': 1563, 'solstice': 1564, 'solution': 1565, 'species': 1566, 'spider': 1567, 'spinach': 1568, 'spray': 1569, 'spreading': 1570, 'squirrel': 1571, 'station': 1572, 'statue': 1573, 'staying': 1574, 'stays': 1575, 'steak': 1576, 'steam': 1577, 'stems': 1578, 'sticking': 1579, 'sticks': 1580, 'stony': 1581, 'store': 1582, 'stored': 1583, 'stormy': 1584, 'strawberries': 1585, 'strawberry': 1586, 'string': 1587, 'stronger': 1588, 'student': 1589, 'such': 1590, 'sunblock': 1591, 'support': 1592, 'swamp': 1593, 'sweat': 1594, 'swell': 1595, 'table': 1596, 'tailed': 1597, 'takes': 1598, 'taking': 1599, 'tall': 1600, 'taller': 1601, 'tasty': 1602, 'tea': 1603, 'temperate': 1604, 'ten': 1605, 'term': 1606, 'thin': 1607, 'thinner': 1608, 'third': 1609, 'thirty': 1610, 'thread': 1611, 'thrice': 1612, 'thriving': 1613, 'thru': 1614, 'thumb': 1615, 'tightly': 1616, 'tilted': 1617, 'tin': 1618, 'tiny': 1619, 'tip': 1620, 'tire': 1621, 'toads': 1622, 'toasty': 1623, 'tobacco': 1624, 'total': 1625, 'tower': 1626, 'trait': 1627, 'transported': 1628, 'transporting': 1629, 'traveling': 1630, 'treat': 1631, 'tremors': 1632, 'truck': 1633, 'trunk': 1634, 'trying': 1635, 'tubes': 1636, 'turbine': 1637, 'turning': 1638, 'turns': 1639, 'twelve': 1640, 'twenty': 1641, 'twinkies': 1642, 'twist': 1643, 'unhatched': 1644, 'unlikely': 1645, 'unsafe': 1646, 'upon': 1647, 'values': 1648, 'varied': 1649, 'various': 1650, 'vegetables': 1651, 'vessels': 1652, 'via': 1653, 'vibrance': 1654, 'victim': 1655, 'view': 1656, 'vinegar': 1657, 'viola': 1658, 'vitamins': 1659, 'vocalizing': 1660, 'want': 1661, 'waves': 1662, 'waxing': 1663, 'ways': 1664, 'weathered': 1665, 'webbed': 1666, 'well': 1667, 'welt': 1668, 'whale': 1669, 'whales': 1670, 'what': 1671, 'wheel': 1672, 'whole': 1673, 'wild': 1674, 'wildfires': 1675, 'windy': 1676, 'wine': 1677, 'wooden': 1678, 'works': 1679, 'worn': 1680, 'yogurt': 1681, 'young': 1682, 'yourself': 1683, 'zebra': 1684, ' ': 1685, '!': 1686, '%': 1687, \"'ll\": 1688, \"'re\": 1689, \"'ve\": 1690, '+': 1691, '/': 1692, '0': 1693, '1,440': 1694, '10': 1695, '11': 1696, '12:30': 1697, '168': 1698, '170': 1699, '1700': 1700, '1800s': 1701, '182': 1702, '2000s': 1703, '2017': 1704, '21': 1705, '24': 1706, '24/7': 1707, '250-ton': 1708, '28': 1709, '30th': 1710, '373': 1711, '4': 1712, '4000000000000000000000': 1713, '48': 1714, \"5'10\": 1715, '52': 1716, '55': 1717, '8': 1718, '8.1': 1719, '86400': 1720, '90': 1721, '95': 1722, 'AAA': 1723, 'AAAs': 1724, 'AM': 1725, 'Acquired': 1726, 'Africa': 1727, 'Akvavit': 1728, 'All': 1729, 'Altering': 1730, 'Amazon': 1731, 'Amur': 1732, 'Animal': 1733, 'Animals': 1734, 'Ant': 1735, 'Antartica': 1736, 'Anthophila': 1737, 'Apple': 1738, 'Arizona': 1739, 'Asteroid': 1740, 'August': 1741, 'Autumn': 1742, 'Average': 1743, 'Bacteria': 1744, 'Because': 1745, 'Being': 1746, 'Belt': 1747, 'Bernardino': 1748, 'Bird': 1749, 'Bombyliidae': 1750, 'Bottles': 1751, 'Brewer': 1752, 'Brick': 1753, 'Bubble': 1754, 'Buildings': 1755, 'Buy': 1756, 'C.': 1757, 'Canadian': 1758, 'Cape': 1759, 'Caracas': 1760, 'Carbon': 1761, 'Caribbean': 1762, 'Catching': 1763, 'Cats': 1764, 'Caustic': 1765, 'Centipede': 1766, 'Charge': 1767, 'Chilly': 1768, 'Chop': 1769, 'Clap': 1770, 'Cleaning': 1771, 'Collect': 1772, 'Color': 1773, 'Colugo': 1774, 'Common': 1775, 'Companies': 1776, 'Conductor': 1777, 'Conservationism': 1778, 'Consume': 1779, 'Contact': 1780, 'Crickets': 1781, 'Cucumbers': 1782, 'DNA': 1783, 'DVD': 1784, 'Damaging': 1785, 'Dane': 1786, 'Dasani': 1787, 'Dec.': 1788, 'Diamond': 1789, 'Dimming': 1790, 'Dipper': 1791, 'Driver': 1792, 'Dropping': 1793, 'Drying': 1794, 'Dyson': 1795, 'EMT': 1796, 'Eagle': 1797, 'Earl': 1798, 'Elephant': 1799, 'Endangered': 1800, 'Envrionments': 1801, 'Equador': 1802, 'Erosion': 1803, 'Ethernet': 1804, 'F': 1805, 'Fall': 1806, 'Family': 1807, 'Feathers': 1808, 'February': 1809, 'Feces': 1810, 'Fish': 1811, 'Flashlight': 1812, 'Florida': 1813, 'For': 1814, 'Force': 1815, 'Frisbee': 1816, 'Fruit': 1817, 'Gas': 1818, 'Gasoline': 1819, 'Geese': 1820, 'Get': 1821, 'Giraffe': 1822, 'GoPro': 1823, 'Graphite': 1824, 'Great': 1825, 'Greenland': 1826, 'Grey': 1827, 'Grow': 1828, 'Growing': 1829, 'Guinea': 1830, 'Gulf': 1831, 'Gulliver': 1832, 'Hamsters': 1833, 'Hawaii': 1834, 'Himalayas': 1835, 'His': 1836, 'Honolulu': 1837, 'How': 1838, 'Huron': 1839, 'Hurricane': 1840, 'If': 1841, 'Iguanas': 1842, 'Impossible': 1843, 'January': 1844, 'Japan': 1845, 'Jim': 1846, 'Johnson': 1847, 'Jonathan': 1848, 'Jonny': 1849, 'June': 1850, 'Jupiter': 1851, 'Jupiterr': 1852, 'Kansas': 1853, 'Keeping': 1854, 'Lake': 1855, 'Large': 1856, 'Leaves': 1857, 'Leaving': 1858, 'Lion': 1859, 'Living': 1860, 'Mackerel': 1861, 'Making': 1862, 'Max': 1863, 'Mercury': 1864, 'Merriam': 1865, 'Mexico': 1866, 'Miami': 1867, 'Minerals': 1868, 'Minneapolis': 1869, 'Miracle': 1870, 'Model': 1871, 'Molecules': 1872, 'More': 1873, 'Morocco': 1874, 'Motor': 1875, 'Mountainous': 1876, 'Mountains': 1877, 'Multiple': 1878, 'Museum': 1879, 'My': 1880, 'N': 1881, 'Nails': 1882, 'National': 1883, 'Natural': 1884, 'Nebraska': 1885, 'Nemo': 1886, 'Neutral': 1887, 'No': 1888, 'Old': 1889, 'Osaka': 1890, 'Oxygen': 1891, 'PM': 1892, 'Panama': 1893, 'Papua': 1894, 'Park': 1895, 'Patrick': 1896, 'Peppers': 1897, 'Pepsi': 1898, 'Perfume': 1899, 'Phyllomimus': 1900, 'Pickles': 1901, 'Pine': 1902, 'Plants': 1903, 'Plastic': 1904, 'Pluto': 1905, 'Pole': 1906, 'Pollen': 1907, 'Popsicle': 1908, 'Population': 1909, 'Pray': 1910, 'Pressure': 1911, 'Prey': 1912, 'Publix': 1913, 'Pulse': 1914, 'Punnett': 1915, 'RVs': 1916, 'Rain': 1917, 'Redwood': 1918, 'Restarts': 1919, 'Rigel': 1920, 'Rodents': 1921, 'Rot': 1922, 'Rotting': 1923, 'S': 1924, 'Sahara': 1925, 'Salactites': 1926, 'San': 1927, 'Sandstone': 1928, 'Sarah': 1929, 'Saturn': 1930, 'Sax': 1931, 'Science': 1932, 'Scottish': 1933, 'Sea': 1934, 'Seen': 1935, 'Sell': 1936, 'September': 1937, 'Silvery': 1938, 'Single': 1939, 'Sloths': 1940, 'Someone': 1941, 'Sound': 1942, 'St.': 1943, 'Starvation': 1944, 'Stays': 1945, 'Stonehenge': 1946, 'Summer': 1947, 'Sunda': 1948, 'Susie': 1949, 'Swift': 1950, 'Tadpoles': 1951, 'Telling': 1952, 'Terns': 1953, 'Tesla': 1954, 'There': 1955, 'Thriving': 1956, 'Tom': 1957, 'Toyota': 1958, 'Travels': 1959, 'Tree': 1960, 'Tungsten': 1961, 'U': 1962, 'UV': 1963, 'V': 1964, 'Valentina': 1965, 'Vapor': 1966, 'Vole': 1967, 'Wear': 1968, 'Weathering': 1969, 'Where': 1970, 'Wood': 1971, 'Yardstick': 1972, 'Yosemite': 1973, 'Zealand': 1974, 'Zero': 1975, 'Zimbabwe': 1976, 'Zippers': 1977, '[': 1978, ']': 1979, 'abrupt': 1980, 'absorb': 1981, 'absorbs': 1982, 'absorbtion': 1983, 'absorption': 1984, 'abundance': 1985, 'abundant': 1986, 'abyss': 1987, 'acceleration': 1988, 'accept': 1989, 'accessible': 1990, 'accumulate': 1991, 'accumulated': 1992, 'accurate': 1993, 'acetate': 1994, 'acidic': 1995, 'acquire': 1996, 'acquiring': 1997, 'acres': 1998, 'action': 1999, 'activity': 2000, 'ad': 2001, 'adaptable': 2002, 'adaptations': 2003, 'adding': 2004, 'adequate': 2005, 'adobe': 2006, 'adulthood': 2007, 'adults': 2008, 'advertising': 2009, 'advice': 2010, 'aerial': 2011, 'affirmative': 2012, 'afternoons': 2013, 'agate': 2014, 'aged': 2015, 'agitated': 2016, 'agreeable': 2017, 'ailment': 2018, 'aim': 2019, 'airplane': 2020, 'alcohol': 2021, 'alert': 2022, 'algae': 2023, 'alligator': 2024, 'allowed': 2025, 'alloy': 2026, 'almond': 2027, 'already': 2028, 'also': 2029, 'alternate': 2030, 'alters': 2031, 'altitude': 2032, 'amassing': 2033, 'american': 2034, 'ammonite': 2035, 'amoebas': 2036, 'among': 2037, 'amplitude': 2038, 'anchovies': 2039, 'anemometer': 2040, 'anemones': 2041, 'anhydride': 2042, 'animate': 2043, 'annelids': 2044, 'annually': 2045, 'anteater': 2046, 'anteaters': 2047, 'antelopes': 2048, 'antibacterial': 2049, 'apartment': 2050, 'apartments': 2051, 'apes': 2052, 'apex': 2053, 'apparent': 2054, 'appendage': 2055, 'appliance': 2056, 'application': 2057, 'apply': 2058, 'applying': 2059, 'approaching': 2060, 'approximately': 2061, 'archaeologist': 2062, 'areola': 2063, 'arm': 2064, 'aroma': 2065, 'arranged': 2066, 'array': 2067, 'arrow': 2068, 'art': 2069, 'ascend': 2070, 'ascending': 2071, 'ascension': 2072, 'asphyxiation': 2073, 'asset': 2074, 'assorted': 2075, 'asteroid': 2076, 'astronaut': 2077, 'atmospheric': 2078, 'atom': 2079, 'atoms': 2080, 'attach': 2081, 'attire': 2082, 'audible': 2083, 'audience': 2084, 'audio': 2085, 'augmented': 2086, 'avert': 2087, 'avian': 2088, 'aware': 2089, 'ayers': 2090, 'babbling': 2091, 'background': 2092, 'backpack': 2093, 'backyard': 2094, 'bacterial': 2095, 'badly': 2096, 'bag': 2097, 'bagel': 2098, 'bagels': 2099, 'bags': 2100, 'balance': 2101, 'balloons': 2102, 'banana': 2103, 'bandaid': 2104, 'bandana': 2105, 'banks': 2106, 'banner': 2107, 'barely': 2108, 'bark': 2109, 'barometer': 2110, 'baseball': 2111, 'basement': 2112, 'basil': 2113, 'bass': 2114, 'bat': 2115, 'bath': 2116, 'batteries': 2117, 'beaches': 2118, 'beachfront': 2119, 'beading': 2120, 'beads': 2121, 'beak': 2122, 'bearded': 2123, 'beautiful': 2124, 'beaver': 2125, 'becoming': 2126, 'bed': 2127, 'beds': 2128, 'beehive': 2129, 'beer': 2130, 'beetles': 2131, 'beforehand': 2132, 'begin': 2133, 'bellied': 2134, 'belly': 2135, 'belt': 2136, 'best': 2137, 'beyond': 2138, 'biannually': 2139, 'bikes': 2140, 'bill': 2141, 'billions': 2142, 'bills': 2143, 'biodiversity': 2144, 'biofuel': 2145, 'biofuels': 2146, 'biotic': 2147, 'birdhouse': 2148, 'birthed': 2149, 'birthing': 2150, 'births': 2151, 'bisexual': 2152, 'blaze': 2153, 'blazing': 2154, 'blending': 2155, 'blinding': 2156, 'blinds': 2157, 'blobfish': 2158, 'blooded': 2159, 'bloodhound': 2160, 'bloodstream': 2161, 'bloom': 2162, 'blooming': 2163, 'blowing': 2164, 'board': 2165, 'boat': 2166, 'bog': 2167, 'boiling': 2168, 'boils': 2169, 'bomb': 2170, 'bone': 2171, 'books': 2172, 'boosted': 2173, 'boots': 2174, 'boring': 2175, 'born': 2176, 'bottle': 2177, 'botulism': 2178, 'boulder': 2179, 'bountiful': 2180, 'bovine': 2181, 'bow': 2182, 'bowl': 2183, 'brained': 2184, 'branches': 2185, 'brawn': 2186, 'breaking': 2187, 'breaks': 2188, 'brighter': 2189, 'brightest': 2190, 'bringing': 2191, 'brings': 2192, 'broccoli': 2193, 'bronchioles': 2194, 'brontosaurus': 2195, 'broods': 2196, 'browning': 2197, 'bubbling': 2198, 'bucket': 2199, 'buckle': 2200, 'buds': 2201, 'bug': 2202, 'build': 2203, 'builders': 2204, 'buildup': 2205, 'bull': 2206, 'bumping': 2207, 'bumpless': 2208, 'bumps': 2209, 'bunker': 2210, 'buoyancy': 2211, 'burger': 2212, 'burn': 2213, 'burrowing': 2214, 'bursting': 2215, 'buses': 2216, 'bushes': 2217, 'bushy': 2218, 'butanol': 2219, 'butt': 2220, 'butter': 2221, 'buy': 2222, 'buys': 2223, 'byproduct': 2224, 'cabbage': 2225, 'cabin': 2226, 'cable': 2227, 'cables': 2228, 'cache': 2229, 'calcified': 2230, 'calendar': 2231, 'calibrate': 2232, 'calibrating': 2233, 'camouflage': 2234, 'camper': 2235, 'campfire': 2236, 'campfires': 2237, 'canals': 2238, 'canary': 2239, 'candida': 2240, 'canopies': 2241, 'canvas': 2242, 'canyons': 2243, 'capacity': 2244, 'capital': 2245, 'captivity': 2246, 'capture': 2247, 'captured': 2248, 'carbohydrates': 2249, 'carbs': 2250, 'carcasses': 2251, 'cardboard': 2252, 'careless': 2253, 'caretakers': 2254, 'carnivore': 2255, 'carp': 2256, 'carried': 2257, 'carrier': 2258, 'carrot': 2259, 'carrots': 2260, 'cart': 2261, 'cartwheel': 2262, 'carved': 2263, 'castle': 2264, 'catapult': 2265, 'catch': 2266, 'catches': 2267, 'category': 2268, 'catfish': 2269, 'cattle': 2270, 'caught': 2271, 'caused': 2272, 'caved': 2273, 'caverns': 2274, 'caves': 2275, 'cavities': 2276, 'celebrating': 2277, 'celled': 2278, 'cello': 2279, 'cells': 2280, 'cellulose': 2281, 'celsius': 2282, 'centipede': 2283, 'central': 2284, 'cephalopod': 2285, 'ceramic': 2286, 'certain': 2287, 'chafing': 2288, 'chain': 2289, 'chainsaw': 2290, 'chamber': 2291, 'changed': 2292, 'characteristic': 2293, 'charcoal': 2294, 'charges': 2295, 'cheaper': 2296, 'cheese': 2297, 'chemistry': 2298, 'chia': 2299, 'chick': 2300, 'chickadee': 2301, 'chickadees': 2302, 'chickenpox': 2303, 'chicks': 2304, 'childhood': 2305, 'children': 2306, 'chill': 2307, 'chills': 2308, 'chipmunks': 2309, 'chirping': 2310, 'chirps': 2311, 'chloride': 2312, 'chloroplasts': 2313, 'chromosomes': 2314, 'chrysanthemum': 2315, 'chuckwallas': 2316, 'chunk': 2317, 'church': 2318, 'cigar': 2319, 'cigarettes': 2320, 'ciggy': 2321, 'circles': 2322, 'circling': 2323, 'circulating': 2324, 'circulation': 2325, 'citrus': 2326, 'city': 2327, 'clam': 2328, 'clapping': 2329, 'clean': 2330, 'cleaner': 2331, 'cleanings': 2332, 'cleanse': 2333, 'clearly': 2334, 'clicks': 2335, 'climatic': 2336, 'climbs': 2337, 'closet': 2338, 'clothing': 2339, 'cloudless': 2340, 'clover': 2341, 'clumps': 2342, 'coast': 2343, 'coating': 2344, 'cob': 2345, 'cockroach': 2346, 'cocoa': 2347, 'coconut': 2348, 'cocooning': 2349, 'coin': 2350, 'cola': 2351, 'coldness': 2352, 'collected': 2353, 'collecting': 2354, 'collection': 2355, 'collide': 2356, 'colony': 2357, 'colored': 2358, 'colouring': 2359, 'comb': 2360, 'combined': 2361, 'combining': 2362, 'combo': 2363, 'command': 2364, 'commonality': 2365, 'community': 2366, 'compacted': 2367, 'compaction': 2368, 'companionship': 2369, 'company': 2370, 'compared': 2371, 'compartment': 2372, 'competed': 2373, 'competition': 2374, 'complain': 2375, 'completely': 2376, 'completes': 2377, 'complex': 2378, 'composition': 2379, 'comprehend': 2380, 'compression': 2381, 'concealment': 2382, 'concocted': 2383, 'condensate': 2384, 'condensation': 2385, 'condense': 2386, 'condenses': 2387, 'conduct': 2388, 'conducting': 2389, 'conducts': 2390, 'configuration': 2391, 'conflagration': 2392, 'conflict': 2393, 'confuse': 2394, 'connections': 2395, 'consists': 2396, 'console': 2397, 'constellations': 2398, 'construct': 2399, 'constructed': 2400, 'constructs': 2401, 'consumes': 2402, 'contacts': 2403, 'contained': 2404, 'containing': 2405, 'contaminants': 2406, 'content': 2407, 'contents': 2408, 'continuation': 2409, 'continuous': 2410, 'contracting': 2411, 'contraptions': 2412, 'control': 2413, 'controlled': 2414, 'controls': 2415, 'convection': 2416, 'converging': 2417, 'conversion': 2418, 'converted': 2419, 'cook': 2420, 'cooked': 2421, 'cooker': 2422, 'cord': 2423, 'cording': 2424, 'core': 2425, 'corpse': 2426, 'costs': 2427, 'cotta': 2428, 'cotton': 2429, 'couch': 2430, 'cough': 2431, 'counting': 2432, 'countries': 2433, 'country': 2434, 'countryside': 2435, 'counts': 2436, 'covers': 2437, 'cow': 2438, 'coyote': 2439, 'crab': 2440, 'crackers': 2441, 'craft': 2442, 'crane': 2443, 'crank': 2444, 'cranking': 2445, 'crash': 2446, 'crawling': 2447, 'crayfish': 2448, 'creamer': 2449, 'crease': 2450, 'creasing': 2451, 'creating': 2452, 'creation': 2453, 'creators': 2454, 'credit': 2455, 'cremate': 2456, 'crescent': 2457, 'crisp': 2458, 'croaked': 2459, 'crowded': 2460, 'crows': 2461, 'crude': 2462, 'cruising': 2463, 'crust': 2464, 'crustacean': 2465, 'cry': 2466, 'crystalline': 2467, 'crystals': 2468, 'cucumber': 2469, 'cultivate': 2470, 'cupcake': 2471, 'curds': 2472, 'currency': 2473, 'currents': 2474, 'curtain': 2475, 'curved': 2476, 'customer': 2477, 'cyclical': 2478, 'dahlias': 2479, 'daisies': 2480, 'dalmatian': 2481, 'damages': 2482, 'damp': 2483, 'dance': 2484, 'dash': 2485, 'dates': 2486, 'daughter': 2487, 'deal': 2488, 'dealership': 2489, 'death': 2490, 'debris': 2491, 'decade': 2492, 'deceased': 2493, 'decide': 2494, 'decisions': 2495, 'decline': 2496, 'decomposed': 2497, 'decomposing': 2498, 'deconstructed': 2499, 'decoration': 2500, 'decreased': 2501, 'decreasing': 2502, 'deducts': 2503, 'deerless': 2504, 'defecate': 2505, 'defecating': 2506, 'defects': 2507, 'deficient': 2508, 'deflect': 2509, 'deform': 2510, 'deformed': 2511, 'defrost': 2512, 'degradation': 2513, 'degree': 2514, 'delight': 2515, 'delivery': 2516, 'deluge': 2517, 'den': 2518, 'density': 2519, 'deodorant': 2520, 'depend': 2521, 'depletion': 2522, 'deposit': 2523, 'deposition': 2524, 'deprived': 2525, 'derived': 2526, 'dermis': 2527, 'descend': 2528, 'describe': 2529, 'deserts': 2530, 'designating': 2531, 'desires': 2532, 'desk': 2533, 'desktops': 2534, 'desolate': 2535, 'destroy': 2536, 'destruction': 2537, 'detached': 2538, 'detrimental': 2539, 'development': 2540, 'develops': 2541, 'devourers': 2542, 'dewarf': 2543, 'diapers': 2544, 'dies': 2545, 'diet': 2546, 'diets': 2547, 'differences': 2548, 'differently': 2549, 'differing': 2550, 'difficult': 2551, 'difficulty': 2552, 'digested': 2553, 'digits': 2554, 'dihydrogen': 2555, 'dinner': 2556, 'dinners': 2557, 'dinosaur': 2558, 'dinosaurs': 2559, 'dip': 2560, 'dipping': 2561, 'dips': 2562, 'directions': 2563, 'dirties': 2564, 'disadvantageously': 2565, 'disappear': 2566, 'disappearing': 2567, 'disc': 2568, 'discarded': 2569, 'discomforted': 2570, 'disguise': 2571, 'dishware': 2572, 'disk': 2573, 'dismantling': 2574, 'dispersing': 2575, 'displaced': 2576, 'displacement': 2577, 'displacements': 2578, 'displayed': 2579, 'dissipate': 2580, 'dissolves': 2581, 'distributed': 2582, 'distribution': 2583, 'ditching': 2584, 'diver': 2585, 'division': 2586, 'documents': 2587, 'dogwoods': 2588, 'doing': 2589, 'dolphins': 2590, 'dominated': 2591, 'done': 2592, 'door': 2593, 'doorbells': 2594, 'dorsal': 2595, 'downhill': 2596, 'downpour': 2597, 'downs': 2598, 'downstairs': 2599, 'downward': 2600, 'drafts': 2601, 'dragged': 2602, 'dragging': 2603, 'dragons': 2604, 'dragsters': 2605, 'drains': 2606, 'drawing': 2607, 'drawn': 2608, 'dressed': 2609, 'dresser': 2610, 'dribble': 2611, 'dried': 2612, 'drink': 2613, 'drinking': 2614, 'driver': 2615, 'driveway': 2616, 'drizzle': 2617, 'dropped': 2618, 'dropping': 2619, 'drums': 2620, 'drunk': 2621, 'drying': 2622, 'ducks': 2623, 'duku': 2624, 'duller': 2625, 'dump': 2626, 'dumpyards': 2627, 'duplex': 2628, 'dweller': 2629, 'dwellings': 2630, 'dwindling': 2631, 'dying': 2632, 'eagle': 2633, 'eagles': 2634, 'ear': 2635, 'eardrums': 2636, 'earthen': 2637, 'earthworm': 2638, 'east': 2639, 'eater': 2640, 'echo': 2641, 'echoes': 2642, 'echolocating': 2643, 'eclipse': 2644, 'economic': 2645, 'economy': 2646, 'eddies': 2647, 'edge': 2648, 'edibles': 2649, 'eel': 2650, 'effected': 2651, 'effort': 2652, 'either': 2653, 'ejected': 2654, 'elastic': 2655, 'electricty': 2656, 'electrified': 2657, 'electrify': 2658, 'electrocuted': 2659, 'electromagnetism': 2660, 'electrostatic': 2661, 'elephants': 2662, 'elk': 2663, 'elongated': 2664, 'elude': 2665, 'eluding': 2666, 'ember': 2667, 'embers': 2668, 'embrace': 2669, 'emerge': 2670, 'emergency': 2671, 'emery': 2672, 'emission': 2673, 'emit': 2674, 'emmissions': 2675, 'emptier': 2676, 'emulate': 2677, 'en': 2678, 'enables': 2679, 'encroachment': 2680, 'endanger': 2681, 'ending': 2682, 'endless': 2683, 'endlessly': 2684, 'endures': 2685, 'energized': 2686, 'enhance': 2687, 'enlargening': 2688, 'enlarging': 2689, 'enrichment': 2690, 'enter': 2691, 'entered': 2692, 'entertainers': 2693, 'entities': 2694, 'environs': 2695, 'epidermis': 2696, 'equidistant': 2697, 'equipment': 2698, 'equivalent': 2699, 'eradicates': 2700, 'erie': 2701, 'erosion': 2702, 'erupt': 2703, 'erupting': 2704, 'essential': 2705, 'essentially': 2706, 'ethanol': 2707, 'evaporates': 2708, 'evenings': 2709, 'everything': 2710, 'exact': 2711, 'excess': 2712, 'excesses': 2713, 'exchange': 2714, 'excited': 2715, 'excrement': 2716, 'exerting': 2717, 'exertions': 2718, 'exhibitions': 2719, 'exists': 2720, 'exothermic': 2721, 'expanding': 2722, 'expected': 2723, 'expelling': 2724, 'experiencing': 2725, 'experimenting': 2726, 'explodes': 2727, 'exploding': 2728, 'explosions': 2729, 'exponentially': 2730, 'exposed': 2731, 'expsosure': 2732, 'expulsion': 2733, 'extensive': 2734, 'extinction': 2735, 'extracting': 2736, 'extremely': 2737, 'facilitated': 2738, 'facility': 2739, 'factories': 2740, 'fade': 2741, 'failing': 2742, 'fair': 2743, 'fairly': 2744, 'falcon': 2745, 'falcons': 2746, 'false': 2747, 'famine': 2748, 'fans': 2749, 'farm': 2750, 'farmed': 2751, 'farming': 2752, 'farrow': 2753, 'farts': 2754, 'fast': 2755, 'fasten': 2756, 'fatal': 2757, 'fatally': 2758, 'father': 2759, 'fatness': 2760, 'fatter': 2761, 'fault': 2762, 'faulty': 2763, 'fauna': 2764, 'fearful': 2765, 'feathers': 2766, 'fecal': 2767, 'feeding': 2768, 'feeds': 2769, 'feeling': 2770, 'feline': 2771, 'femur': 2772, 'fence': 2773, 'fennec': 2774, 'ferns': 2775, 'ferrets': 2776, 'ferrous': 2777, 'fertilizer': 2778, 'fetch': 2779, 'feverish': 2780, 'fiberglass': 2781, 'fictional': 2782, 'fiery': 2783, 'filament': 2784, 'fillings': 2785, 'fills': 2786, 'filters': 2787, 'finches': 2788, 'finds': 2789, 'finger': 2790, 'fingertips': 2791, 'finite': 2792, 'finned': 2793, 'fireplace': 2794, 'fires': 2795, 'fishinghood': 2796, 'fit': 2797, 'five': 2798, 'fix': 2799, 'fixing': 2800, 'flames': 2801, 'flamingos': 2802, 'flash': 2803, 'flashback': 2804, 'flats': 2805, 'flavor': 2806, 'fleas': 2807, 'flexible': 2808, 'flicked': 2809, 'flicking': 2810, 'fliers': 2811, 'flies': 2812, 'flint': 2813, 'flocks': 2814, 'flooded': 2815, 'flooding': 2816, 'flop': 2817, 'flops': 2818, 'flounder': 2819, 'flourish': 2820, 'flow': 2821, 'flowed': 2822, 'flowering': 2823, 'fluctuating': 2824, 'fluctuative': 2825, 'focused': 2826, 'foe': 2827, 'foliage': 2828, 'footing': 2829, 'footprints': 2830, 'forced': 2831, 'forces': 2832, 'forecast': 2833, 'forecasts': 2834, 'foreign': 2835, 'forests': 2836, 'forever': 2837, 'forgetful': 2838, 'forgotten': 2839, 'formations': 2840, 'formerly': 2841, 'forming': 2842, 'fortified': 2843, 'fostering': 2844, 'foul': 2845, 'fox': 2846, 'fractured': 2847, 'fractures': 2848, 'fragments': 2849, 'frame': 2850, 'freckles': 2851, 'frequented': 2852, 'frequently': 2853, 'freshwater': 2854, 'frightful': 2855, 'frogs': 2856, 'frond': 2857, 'frontier': 2858, 'frontward': 2859, 'frost': 2860, 'frosty': 2861, 'fruit': 2862, 'fruits': 2863, 'frustration': 2864, 'fulcrum': 2865, 'fulfills': 2866, 'fullness': 2867, 'function': 2868, 'fungi': 2869, 'further': 2870, 'gains': 2871, 'gale': 2872, 'game': 2873, 'gap': 2874, 'garage': 2875, 'gaseous': 2876, 'gases': 2877, 'gasify': 2878, 'gasses': 2879, 'gastro': 2880, 'gathers': 2881, 'gatorade': 2882, 'gauges': 2883, 'gazing': 2884, 'gecko': 2885, 'gems': 2886, 'gemstones': 2887, 'generate': 2888, 'generation': 2889, 'generator': 2890, 'genetically': 2891, 'genetics': 2892, 'gently': 2893, 'gestating': 2894, 'gibbous': 2895, 'gift': 2896, 'gigantic': 2897, 'gila': 2898, 'gill': 2899, 'gills': 2900, 'gin': 2901, 'ginormous': 2902, 'girder': 2903, 'glacial': 2904, 'glaicial': 2905, 'glancing': 2906, 'glasses': 2907, 'globes': 2908, 'gloom': 2909, 'glow': 2910, 'glowlights': 2911, 'glows': 2912, 'goal': 2913, 'goggles': 2914, 'gopher': 2915, 'gouges': 2916, 'grab': 2917, 'graduated': 2918, 'grain': 2919, 'grape': 2920, 'grapefruit': 2921, 'grapes': 2922, 'grasshopper': 2923, 'gravel': 2924, 'greenery': 2925, 'greenhouse': 2926, 'grew': 2927, 'grime': 2928, 'grinder': 2929, 'grinding': 2930, 'grizzlies': 2931, 'grocery': 2932, 'groom': 2933, 'grooved': 2934, 'gross': 2935, 'groundwater': 2936, 'grows': 2937, 'guided': 2938, 'guitar': 2939, 'gulls': 2940, 'guppy': 2941, 'gust': 2942, 'gusting': 2943, 'gut': 2944, 'gutters': 2945, 'guzzling': 2946, 'gymnosperms': 2947, 'habitable': 2948, 'habitual': 2949, 'hack': 2950, 'hairline': 2951, 'hammers': 2952, 'hamsters': 2953, 'handle': 2954, 'handy': 2955, 'hang': 2956, 'happen': 2957, 'happening': 2958, 'harden': 2959, 'harm': 2960, 'harmed': 2961, 'harmful': 2962, 'harness': 2963, 'harnessing': 2964, 'harpsicord': 2965, 'harsh': 2966, 'harvest': 2967, 'hat': 2968, 'hatching': 2969, 'heading': 2970, 'headlights': 2971, 'heap': 2972, 'heaped': 2973, 'heart': 2974, 'heavenly': 2975, 'heavier': 2976, 'hefty': 2977, 'heighten': 2978, 'held': 2979, 'helically': 2980, 'helix': 2981, 'helps': 2982, 'hemoglobin': 2983, 'her': 2984, 'herbivore': 2985, 'hereditary': 2986, 'hermit': 2987, 'hexagon': 2988, 'hibiscus': 2989, 'hiding': 2990, 'highway': 2991, 'hiking': 2992, 'hill': 2993, 'hills': 2994, 'hillside': 2995, 'him': 2996, 'hippopotamus': 2997, 'hitting': 2998, 'hive': 2999, 'hoarded': 3000, 'holes': 3001, 'hollow': 3002, 'honking': 3003, 'hoof': 3004, 'hooking': 3005, 'hopefully': 3006, 'hopper': 3007, 'hoppers': 3008, 'horizon': 3009, 'horned': 3010, 'horny': 3011, 'hour': 3012, 'houseplant': 3013, 'howling': 3014, 'hue': 3015, 'hug': 3016, 'huge': 3017, 'hummingbird': 3018, 'hungry': 3019, 'hunters': 3020, 'hurt': 3021, 'hush': 3022, 'hydropower': 3023, 'hypothesis': 3024, 'hyrdrogen': 3025, 'iPhone': 3026, 'iPod': 3027, 'ibex': 3028, 'icebergs': 3029, 'icy': 3030, 'igloo': 3031, 'ignite': 3032, 'ignited': 3033, 'illuminates': 3034, 'illuminator': 3035, 'immediate': 3036, 'immersed': 3037, 'imminent': 3038, 'impermanent': 3039, 'implications': 3040, 'impossibility': 3041, 'imprints': 3042, 'improved': 3043, 'incadescent': 3044, 'incandescence': 3045, 'incinerates': 3046, 'incineration': 3047, 'inclines': 3048, 'including': 3049, 'income': 3050, 'incorrect': 3051, 'indicate': 3052, 'indirectly': 3053, 'industrial': 3054, 'industry': 3055, 'inedible': 3056, 'inevitably': 3057, 'infestation': 3058, 'infinitum': 3059, 'inflatable': 3060, 'ingestion': 3061, 'ingots': 3062, 'ingredients': 3063, 'inhabit': 3064, 'inhabitants': 3065, 'inheritance': 3066, 'inimical': 3067, 'injure': 3068, 'injured': 3069, 'ink': 3070, 'insides': 3071, 'inspect': 3072, 'instances': 3073, 'instinct': 3074, 'instinctive': 3075, 'instinctively': 3076, 'instinctual': 3077, 'insulators': 3078, 'int': 3079, 'intact': 3080, 'intakes': 3081, 'intensity': 3082, 'interaction': 3083, 'intercept': 3084, 'interiors': 3085, 'internally': 3086, 'introduction': 3087, 'intuitive': 3088, 'invertebrate': 3089, 'involuntary': 3090, 'involved': 3091, 'ionic': 3092, 'iris': 3093, 'irises': 3094, 'issues': 3095, 'itsenergy': 3096, 'jackolantern': 3097, 'jades': 3098, 'jagged': 3099, 'jasper': 3100, 'jays': 3101, 'jellies': 3102, 'jello': 3103, 'jenga': 3104, 'jerky': 3105, 'jewels': 3106, 'jicama': 3107, 'jobs': 3108, 'joined': 3109, 'jug': 3110, 'june': 3111, 'jungles': 3112, 'junkyard': 3113, 'kestrels': 3114, 'keys': 3115, 'kidneys': 3116, 'kids': 3117, 'killdeer': 3118, 'killer': 3119, 'kiln': 3120, 'kilograms': 3121, 'kilometer': 3122, 'kindling': 3123, 'kitchen': 3124, 'kitten': 3125, 'knees': 3126, 'knife': 3127, 'knowledge': 3128, 'known': 3129, 'kool': 3130, 'lab': 3131, 'labor': 3132, 'landfills': 3133, 'lands': 3134, 'landscape': 3135, 'laptop': 3136, 'largest': 3137, 'laser': 3138, 'lasers': 3139, 'lasting': 3140, 'lately': 3141, 'leads': 3142, 'leaking': 3143, 'lean': 3144, 'leaning': 3145, 'learns': 3146, 'leather': 3147, 'leftovers': 3148, 'leisure': 3149, 'lengthy': 3150, 'lens': 3151, 'leopard': 3152, 'lessen': 3153, 'lessened': 3154, 'lessening': 3155, 'level': 3156, 'levers': 3157, 'licked': 3158, 'lifeforms': 3159, 'lift': 3160, 'lightening': 3161, 'lighter': 3162, 'lightless': 3163, 'likelihood': 3164, 'lily': 3165, 'lime': 3166, 'limestone': 3167, 'limit': 3168, 'limiter': 3169, 'limits': 3170, 'line': 3171, 'lined': 3172, 'lion': 3173, 'liquefy': 3174, 'liquidity': 3175, 'liquification': 3176, 'lives': 3177, 'lizards': 3178, 'llamas': 3179, 'loaf': 3180, 'locating': 3181, 'locomotive': 3182, 'lone': 3183, 'looked': 3184, 'loosen': 3185, 'lots': 3186, 'loupe': 3187, 'luck': 3188, 'lumens': 3189, 'luminance': 3190, 'luminous': 3191, 'lunch': 3192, 'lungs': 3193, 'lute': 3194, 'lynx': 3195, 'macaroni': 3196, 'mace': 3197, 'maggot': 3198, 'magnifier': 3199, 'magnitude': 3200, 'mahogany': 3201, 'mailing': 3202, 'maillard': 3203, 'maize': 3204, 'major': 3205, 'makeup': 3206, 'maladies': 3207, 'mammal': 3208, 'mandarins': 3209, 'mane': 3210, 'manganese': 3211, 'manipulates': 3212, 'mankind': 3213, 'manner': 3214, 'manufacture': 3215, 'marlins': 3216, 'marsh': 3217, 'marshmallows': 3218, 'martini': 3219, 'masonry': 3220, 'masse': 3221, 'massive': 3222, 'masticate': 3223, 'masts': 3224, 'matches': 3225, 'matchstick': 3226, 'materialized': 3227, 'materiel': 3228, 'mates': 3229, 'mating': 3230, 'matured': 3231, 'maturity': 3232, 'maximum': 3233, 'mayflies': 3234, 'meager': 3235, 'meandering': 3236, 'means': 3237, 'measured': 3238, 'mechanically': 3239, 'mechanics': 3240, 'mechanism': 3241, 'medallion': 3242, 'medical': 3243, 'mega': 3244, 'melty': 3245, 'member': 3246, 'membrane': 3247, 'menstrual': 3248, 'merchant': 3249, 'mercury': 3250, 'mestrual': 3251, 'metallic': 3252, 'metals': 3253, 'metamorphic': 3254, 'metamorphosing': 3255, 'methane': 3256, 'microwave': 3257, 'middle': 3258, 'midnight': 3259, 'migrate': 3260, 'mile': 3261, 'miles': 3262, 'millimeters': 3263, 'mills': 3264, 'miniseries': 3265, 'minuscule': 3266, 'minut': 3267, 'minute': 3268, 'mittens': 3269, 'mix': 3270, 'mixing': 3271, 'mode': 3272, 'modern': 3273, 'moist': 3274, 'moister': 3275, 'moistness': 3276, 'mole': 3277, 'molecules': 3278, 'molten': 3279, 'momentum': 3280, 'money': 3281, 'monkeys': 3282, 'monoxide': 3283, 'monster': 3284, 'moors': 3285, 'mopping': 3286, 'mornings': 3287, 'morph': 3288, 'morsels': 3289, 'moth': 3290, 'motor': 3291, 'motorbikes': 3292, 'motorcycle': 3293, 'motorcycles': 3294, 'mountainsides': 3295, 'mountaintop': 3296, 'mowed': 3297, 'mulberries': 3298, 'multiply': 3299, 'munching': 3300, 'murdered': 3301, 'muscular': 3302, 'museum': 3303, 'mushy': 3304, 'mysterious': 3305, \"n't\": 3306, 'name': 3307, 'nanofibers': 3308, 'nap': 3309, 'narrow': 3310, 'nasal': 3311, \"nat'l\": 3312, 'natures': 3313, 'navigate': 3314, 'navigating': 3315, 'navigator': 3316, 'nectar': 3317, 'needles': 3318, 'neighborhood': 3319, 'neodymium': 3320, 'nests': 3321, 'neurons': 3322, 'never': 3323, 'newborn': 3324, 'newspapers': 3325, 'newt': 3326, 'nights': 3327, 'nikon': 3328, 'ninth': 3329, 'nitrogen': 3330, 'no': 3331, 'noggin': 3332, 'nonrenewable': 3333, 'noodles': 3334, 'nook': 3335, 'northern': 3336, 'nosedive': 3337, 'nosehair': 3338, 'not': 3339, 'note': 3340, 'notebook': 3341, 'noted': 3342, 'noticing': 3343, 'now': 3344, 'nowhere': 3345, 'nucleic': 3346, 'nucleus': 3347, 'numerous': 3348, 'nut': 3349, 'nutrition': 3350, 'nutritious': 3351, 'oats': 3352, 'objectively': 3353, 'obscured': 3354, 'observation': 3355, 'obtaining': 3356, 'occasionally': 3357, 'occupying': 3358, 'occur': 3359, 'occurred': 3360, 'occurs': 3361, 'octopus': 3362, 'octopuses': 3363, 'odors': 3364, 'often': 3365, 'older': 3366, 'oldness': 3367, 'olfactory': 3368, 'ongoing': 3369, 'onto': 3370, 'opaque': 3371, 'oppose': 3372, 'opposites': 3373, 'optic': 3374, 'optimal': 3375, 'options': 3376, 'orca': 3377, 'order': 3378, 'ore': 3379, 'oregano': 3380, 'ores': 3381, 'organelles': 3382, 'original': 3383, 'originally': 3384, 'ospreys': 3385, 'otherwise': 3386, 'otter': 3387, 'otters': 3388, 'outdoor': 3389, 'outlets': 3390, 'outline': 3391, 'outnumber': 3392, 'oval': 3393, 'overgrown': 3394, 'overhead': 3395, 'overheated': 3396, 'overheating': 3397, 'overindulging': 3398, 'overlogging': 3399, 'ovum': 3400, 'oxidized': 3401, 'oxidizer': 3402, 'pace': 3403, 'pad': 3404, 'paint': 3405, 'pair': 3406, 'pallete': 3407, 'pallets': 3408, 'palms': 3409, 'pancreas': 3410, 'panda': 3411, 'panels': 3412, 'pans': 3413, 'panting': 3414, 'paperclip': 3415, 'parallel': 3416, 'parka': 3417, 'parking': 3418, 'parrot': 3419, 'particle': 3420, 'pass': 3421, 'passage': 3422, 'passages': 3423, 'passing': 3424, 'past': 3425, 'pastries': 3426, 'pastureland': 3427, 'pathway': 3428, 'pathways': 3429, 'patient': 3430, 'pattern': 3431, 'pea': 3432, 'peacock': 3433, 'peak': 3434, 'peanuts': 3435, 'peat': 3436, 'pebbles': 3437, 'pecans': 3438, 'pedaling': 3439, 'pedals': 3440, 'pedometer': 3441, 'penguin': 3442, 'penguins': 3443, 'peony': 3444, 'perceive': 3445, 'peregrine': 3446, 'perky': 3447, 'permanent': 3448, 'persons': 3449, 'perspiration': 3450, 'perspires': 3451, 'persuits': 3452, 'pesticides': 3453, 'petrol': 3454, 'peyote': 3455, 'pharmacy': 3456, 'phases': 3457, 'phones': 3458, 'photographs': 3459, 'photons': 3460, 'physically': 3461, 'pickled': 3462, 'picks': 3463, 'pickups': 3464, 'pillars': 3465, 'pillow': 3466, 'pilots': 3467, 'pin': 3468, 'pinched': 3469, 'pine': 3470, 'pinecones': 3471, 'pinhole': 3472, 'pins': 3473, 'piranha': 3474, 'pirate': 3475, 'pizza': 3476, 'placed': 3477, 'placers': 3478, 'planar': 3479, 'planetary': 3480, 'planetoids': 3481, 'planets': 3482, 'plank': 3483, 'planks': 3484, 'planter': 3485, 'plantlife': 3486, 'play': 3487, 'players': 3488, 'plentiful': 3489, 'plenty': 3490, 'plethora': 3491, 'plug': 3492, 'plugged': 3493, 'plugs': 3494, 'plumage': 3495, 'plunge': 3496, 'plus': 3497, 'pluto': 3498, 'pointed': 3499, 'points': 3500, 'poison': 3501, 'pokes': 3502, 'poking': 3503, 'polar': 3504, 'poles': 3505, 'polished': 3506, 'pollenator': 3507, 'pollinators': 3508, 'pollutants': 3509, 'pollywogs': 3510, 'poo': 3511, 'poorly': 3512, 'pop': 3513, 'popping': 3514, 'poptart': 3515, 'populace': 3516, 'populate': 3517, 'populating': 3518, 'pores': 3519, 'pork': 3520, 'porpoise': 3521, 'portable': 3522, 'posionous': 3523, 'position': 3524, 'positions': 3525, 'possessors': 3526, 'possible': 3527, 'pot': 3528, 'potentially': 3529, 'pound': 3530, 'pounds': 3531, 'poured': 3532, 'powder': 3533, 'powdery': 3534, 'powered': 3535, 'powers': 3536, 'practice': 3537, 'prairies': 3538, 'precisely': 3539, 'predatory': 3540, 'predetermined': 3541, 'predictable': 3542, 'prepare': 3543, 'prepared': 3544, 'presence': 3545, 'preservation': 3546, 'preserve': 3547, 'preserved': 3548, 'preserving': 3549, 'pressed': 3550, 'pressing': 3551, 'prickly': 3552, 'pricks': 3553, 'primary': 3554, 'primate': 3555, 'print': 3556, 'private': 3557, 'proceeds': 3558, 'procepitation': 3559, 'procreation': 3560, 'prodigy': 3561, 'prods': 3562, 'producing': 3563, 'production': 3564, 'progressed': 3565, 'prolonged': 3566, 'promoting': 3567, 'propagate': 3568, 'propagation': 3569, 'propel': 3570, 'propellant': 3571, 'proper': 3572, 'property': 3573, 'proportionality': 3574, 'protected': 3575, 'protectors': 3576, 'proteins': 3577, 'provender': 3578, 'provide': 3579, 'provides': 3580, 'provisions': 3581, 'pterodactyl': 3582, 'puff': 3583, 'puffy': 3584, 'pulls': 3585, 'pulp': 3586, 'pulses': 3587, 'pumpkin': 3588, 'punches': 3589, 'puncture': 3590, 'pupa': 3591, 'pupil': 3592, 'pupils': 3593, 'purging': 3594, 'purifies': 3595, 'pushing': 3596, 'pustule': 3597, 'putrefiers': 3598, 'puts': 3599, 'pyramid': 3600, 'quantity': 3601, 'quartz': 3602, 'queen': 3603, 'queso': 3604, 'quest': 3605, 'quick': 3606, 'quit': 3607, 'quite': 3608, 'quiver': 3609, 'quivers': 3610, 'race': 3611, 'racquetballl': 3612, 'radiant': 3613, 'radiator': 3614, 'radio': 3615, 'radishes': 3616, 'rainbows': 3617, 'raindrops': 3618, 'raises': 3619, 'ramp': 3620, 'ranges': 3621, 'raptors': 3622, 'rare': 3623, 'rarely': 3624, 'raspberry': 3625, 'rates': 3626, 'rats': 3627, 'rattlesnakes': 3628, 're': 3629, 'reaches': 3630, 'reactively': 3631, 'reactor': 3632, 'read': 3633, 'real': 3634, 'really': 3635, 'reaped': 3636, 'rearrange': 3637, 'rears': 3638, 'recede': 3639, 'receive': 3640, 'received': 3641, 'receives': 3642, 'recently': 3643, 'receptacle': 3644, 'receptors': 3645, 'recessive': 3646, 'recirculates': 3647, 'recorders': 3648, 'recovering': 3649, 'rectum': 3650, 'recurrence': 3651, 'recycled': 3652, 'recycling': 3653, 'redeeming': 3654, 'reducing': 3655, 'redwoods': 3656, 'reek': 3657, 'reflected': 3658, 'reflection': 3659, 'reflections': 3660, 'reflectors': 3661, 'refract': 3662, 'refracting': 3663, 'refractions': 3664, 'refreshed': 3665, 'refrigerator': 3666, 'regenerating': 3667, 'region': 3668, 'register': 3669, 'regular': 3670, 'regurgitate': 3671, 'regurgitation': 3672, 'rejoice': 3673, 'relationships': 3674, 'release': 3675, 'reliable': 3676, 'relocates': 3677, 'relocating': 3678, 'remedies': 3679, 'remedy': 3680, 'remote': 3681, 'removed': 3682, 'renters': 3683, 'repairing': 3684, 'repeat': 3685, 'repeats': 3686, 'repellents': 3687, 'replaced': 3688, 'replenished': 3689, 'replenishes': 3690, 'replenishment': 3691, 'replicate': 3692, 'reprocessed': 3693, 'research': 3694, 'reservation': 3695, 'reserve': 3696, 'reserves': 3697, 'residential': 3698, 'resort': 3699, 'respirate': 3700, 'respiratory': 3701, 'respire': 3702, 'responsibilities': 3703, 'retailers': 3704, 'retains': 3705, 'retrieved': 3706, 'retriever': 3707, 'retrievers': 3708, 'reusable': 3709, 'revenge': 3710, 'revenue': 3711, 'reverberate': 3712, 'reverse': 3713, 'revolves': 3714, 'rhinoceros': 3715, 'rhythm': 3716, 'rich': 3717, 'rid': 3718, 'rides': 3719, 'ridged': 3720, 'ridges': 3721, 'ring': 3722, 'rip': 3723, 'ripped': 3724, 'ripples': 3725, 'riverflow': 3726, 'rivers': 3727, 'roaches': 3728, 'roads': 3729, 'robin': 3730, 'robins': 3731, 'robots': 3732, 'rod': 3733, 'rodent': 3734, 'rodents': 3735, 'role': 3736, 'roll': 3737, 'rolls': 3738, 'roof': 3739, 'roofing': 3740, 'roofs': 3741, 'rooms': 3742, 'rot': 3743, 'rotates': 3744, 'rots': 3745, 'rotting': 3746, 'rough': 3747, 'roughage': 3748, 'rub': 3749, 'rubbed': 3750, 'rudder': 3751, 'ruin': 3752, 'ruination': 3753, 'ruins': 3754, 'rumble': 3755, 'rusted': 3756, 'rusty': 3757, 'rutted': 3758, 'sacks': 3759, 'sacs': 3760, 'safeguarded': 3761, 'safeguarding': 3762, 'saguaro': 3763, 'sahara': 3764, 'salamander': 3765, 'sales': 3766, 'saline': 3767, 'salty': 3768, 'salvage': 3769, 'sandwiched': 3770, 'sapling': 3771, 'sardine': 3772, 'sardines': 3773, 'satanic': 3774, 'save': 3775, 'sawdust': 3776, 'saws': 3777, 'sawyers': 3778, 'scar': 3779, 'scare': 3780, 'scars': 3781, 'scatterer': 3782, 'scatters': 3783, 'scavenge': 3784, 'scope': 3785, 'scorch': 3786, 'scorches': 3787, 'scottish': 3788, 'scratch': 3789, 'scratched': 3790, 'screams': 3791, 'screeching': 3792, 'screen': 3793, 'seals': 3794, 'seaman': 3795, 'sear': 3796, 'sears': 3797, 'seaside': 3798, 'seasoned': 3799, 'seasoning': 3800, 'seasonings': 3801, 'seaweed': 3802, 'second': 3803, 'secured': 3804, 'sedan': 3805, 'sediments': 3806, 'seeing': 3807, 'seem': 3808, 'seemingly': 3809, 'seismometer': 3810, 'selection': 3811, 'self': 3812, 'semiaquatic': 3813, 'send': 3814, 'sengis': 3815, 'sensing': 3816, 'sensory': 3817, 'sent': 3818, 'sentence': 3819, 'several': 3820, 'sex': 3821, 'sexually': 3822, 'shaft': 3823, 'shag': 3824, 'shake': 3825, 'shale': 3826, 'shallow': 3827, 'shallows': 3828, 'sharpest': 3829, 'sharply': 3830, 'shatter': 3831, 'she': 3832, 'shedding': 3833, 'sheet': 3834, 'shelf': 3835, 'shelters': 3836, 'shifted': 3837, 'shifts': 3838, 'shine': 3839, 'shines': 3840, 'shingles': 3841, 'shining': 3842, 'ship': 3843, 'shirt': 3844, 'shirts': 3845, 'shiver': 3846, 'shoddy': 3847, 'shoe': 3848, 'shoes': 3849, 'shoot': 3850, 'shore': 3851, 'shorelines': 3852, 'shoulders': 3853, 'shout': 3854, 'shrew': 3855, 'shrimp': 3856, 'shrink': 3857, 'shrinkage': 3858, 'shrinking': 3859, 'shrub': 3860, 'shrubbery': 3861, 'shudder': 3862, 'shudders': 3863, 'shuffle': 3864, 'sickness': 3865, 'sidewalk': 3866, 'sideways': 3867, 'sigh': 3868, 'sight': 3869, 'sign': 3870, 'signal': 3871, 'significant': 3872, 'silicate': 3873, 'silky': 3874, 'silos': 3875, 'silverware': 3876, 'simple': 3877, 'simpler': 3878, 'since': 3879, 'singe': 3880, 'singed': 3881, 'singular': 3882, 'sinks': 3883, 'sits': 3884, 'situation': 3885, 'sizable': 3886, 'sized': 3887, 'skies': 3888, 'skinning': 3889, 'skinny': 3890, 'skipped': 3891, 'skipping': 3892, 'skylight': 3893, 'skyline': 3894, 'skyrocketing': 3895, 'skyscrapers': 3896, 'slab': 3897, 'slabs': 3898, 'slamming': 3899, 'slant': 3900, 'slanted': 3901, 'slash': 3902, 'slats': 3903, 'slavery': 3904, 'sleepy': 3905, 'sleety': 3906, 'slices': 3907, 'slick': 3908, 'slide': 3909, 'sliding': 3910, 'slightly': 3911, 'slip': 3912, 'slippery': 3913, 'slits': 3914, 'slop': 3915, 'sloping': 3916, 'slowly': 3917, 'slows': 3918, 'slumbers': 3919, 'slurry': 3920, 'smeller': 3921, 'smelted': 3922, 'smiling': 3923, 'smoking': 3924, 'smoothed': 3925, 'smoothies': 3926, 'snack': 3927, 'snacks': 3928, 'snails': 3929, 'snake': 3930, 'sneakers': 3931, 'snocone': 3932, 'snout': 3933, 'soak': 3934, 'sob': 3935, 'soccer': 3936, 'soft': 3937, 'softer': 3938, 'sold': 3939, 'soldiers': 3940, 'solitary': 3941, 'sometimes': 3942, 'somewhere': 3943, 'sooth': 3944, 'sought': 3945, 'soup': 3946, 'sow': 3947, 'sowing': 3948, 'spacious': 3949, 'spark': 3950, 'sparrow': 3951, 'sparsely': 3952, 'spatter': 3953, 'spawn': 3954, 'speakers': 3955, 'specialize': 3956, 'specialized': 3957, 'speech': 3958, 'speedboat': 3959, 'speedometer': 3960, 'speedy': 3961, 'spelunking': 3962, 'spend': 3963, 'spice': 3964, 'spilled': 3965, 'spilling': 3966, 'spineless': 3967, 'spinning': 3968, 'splashing': 3969, 'split': 3970, 'spoon': 3971, 'spot': 3972, 'spread': 3973, 'sprinkle': 3974, 'sprinkles': 3975, 'sprinkling': 3976, 'sprouted': 3977, 'sprouting': 3978, 'spruce': 3979, 'spyglass': 3980, 'square': 3981, 'squashing': 3982, 'squawks': 3983, 'squeezing': 3984, 'squishy': 3985, 'stable': 3986, 'stacked': 3987, 'stacks': 3988, 'stairs': 3989, 'stalactite': 3990, 'stalking': 3991, 'stalled': 3992, 'standardized': 3993, 'standing': 3994, 'stapler': 3995, 'starchy': 3996, 'stargazing': 3997, 'starts': 3998, 'starving': 3999, 'static': 4000, 'stationary': 4001, 'status': 4002, 'stay': 4003, 'steadily': 4004, 'steady': 4005, 'steaming': 4006, 'stench': 4007, 'stepping': 4008, 'steps': 4009, 'sticky': 4010, 'stiffer': 4011, 'sting': 4012, 'stingily': 4013, 'stock': 4014, 'stocked': 4015, 'stomp': 4016, 'stonefish': 4017, 'stooped': 4018, 'stops': 4019, 'stopwatch': 4020, 'stores': 4021, 'storms': 4022, 'story': 4023, 'straw': 4024, 'stray': 4025, 'streak': 4026, 'streaming': 4027, 'strength': 4028, 'stretch': 4029, 'striking': 4030, 'striped': 4031, 'structures': 4032, 'submerged': 4033, 'subsides': 4034, 'substantial': 4035, 'succeeds': 4036, 'succulents': 4037, 'sudden': 4038, 'suddenly': 4039, 'suffer': 4040, 'suffers': 4041, 'sugars': 4042, 'suit': 4043, 'suited': 4044, 'sum': 4045, 'summertime': 4046, 'sunflowers': 4047, 'sungazing': 4048, 'sunglasses': 4049, 'sungoggles': 4050, 'sunradiation': 4051, 'sunscreen': 4052, 'sunshine': 4053, 'super': 4054, 'supplies': 4055, 'surrounded': 4056, 'surrounds': 4057, 'survival': 4058, 'surviving': 4059, 'susceptible': 4060, 'swearing': 4061, 'sweater': 4062, 'sweep': 4063, 'sweeping': 4064, 'sweets': 4065, 'swim': 4066, 'swimsuits': 4067, 'swiping': 4068, 'switches': 4069, 'sword': 4070, 'swordfish': 4071, 'swords': 4072, 'symbiotic': 4073, 'symbols': 4074, 'symmetrical': 4075, 'sync': 4076, 'synthesize': 4077, 'synthesizing': 4078, 't': 4079, 'tables': 4080, 'taco': 4081, 'taken': 4082, 'talc': 4083, 'talking': 4084, 'tan': 4085, 'tangible': 4086, 'tank': 4087, 'tantalizing': 4088, 'tap': 4089, 'taste': 4090, 'taut': 4091, 'tearing': 4092, 'techtonics': 4093, 'teenager': 4094, 'teeth': 4095, 'telescopic': 4096, 'television': 4097, 'tell': 4098, 'tend': 4099, 'tender': 4100, 'tepee': 4101, 'terminated': 4102, 'territory': 4103, 'texture': 4104, 'thawing': 4105, 'themselves': 4106, 'therefore': 4107, 'thermally': 4108, 'thermograph': 4109, 'thermometer': 4110, 'thicken': 4111, 'thicker': 4112, 'thighs': 4113, 'thirsty': 4114, 'thirteen': 4115, 'those': 4116, 'thousands': 4117, 'throughout': 4118, 'thrown': 4119, 'thumbs': 4120, 'thunder': 4121, 'tiaga': 4122, 'ticker': 4123, 'tidal': 4124, 'tidy': 4125, 'tiger': 4126, 'tight': 4127, 'tightness': 4128, 'tilapia': 4129, 'tillage': 4130, 'tilled': 4131, 'tilting': 4132, 'tissue': 4133, 'titanium': 4134, 'toast': 4135, 'toasted': 4136, 'toaster': 4137, 'today': 4138, 'toddler': 4139, 'toddlers': 4140, 'tomatoes': 4141, 'tomorrow': 4142, 'tonic': 4143, 'took': 4144, 'tooth': 4145, 'tore': 4146, 'tortoise': 4147, 'touched': 4148, 'touches': 4149, 'towards': 4150, 'towel': 4151, 'towering': 4152, 'town': 4153, 'toxic': 4154, 'toy': 4155, 'tracking': 4156, 'tract': 4157, 'traffic': 4158, 'trail': 4159, 'train': 4160, 'transfers': 4161, 'transform': 4162, 'transformation': 4163, 'transformed': 4164, 'transit': 4165, 'transition': 4166, 'transportation': 4167, 'transports': 4168, 'trashcan': 4169, 'travelling': 4170, 'travels': 4171, 'tray': 4172, 'treed': 4173, 'trek': 4174, 'tricycle': 4175, 'trilobyte': 4176, 'trimmed': 4177, 'trimmer': 4178, 'trip': 4179, 'tropic': 4180, 'tropical': 4181, 'troposphere': 4182, 'trouble': 4183, 'trucks': 4184, 'trunks': 4185, 'try': 4186, 'tsunamis': 4187, 'tubbier': 4188, 'tube': 4189, 'tubs': 4190, 'tug': 4191, 'tugging': 4192, 'tulip': 4193, 'tulips': 4194, 'tumbler': 4195, 'tuna': 4196, 'tunafish': 4197, 'tundra': 4198, 'tupperware': 4199, 'turf': 4200, 'turnips': 4201, 'twice': 4202, 'typically': 4203, 'umbrellas': 4204, 'un': 4205, 'unattract': 4206, 'unborn': 4207, 'uncomfortable': 4208, 'unconscious': 4209, 'uncovered': 4210, 'uncultivated': 4211, 'underfed': 4212, 'undergo': 4213, 'undergrowth': 4214, 'underwear': 4215, 'underwent': 4216, 'undone': 4217, 'uneven': 4218, 'unevenly': 4219, 'unfinished': 4220, 'unfreeze': 4221, 'unhealthy': 4222, 'uninterrupted': 4223, 'unit': 4224, 'united': 4225, 'units': 4226, 'unknowingly': 4227, 'unliving': 4228, 'unpolluted': 4229, 'unstable': 4230, 'unsustainable': 4231, 'until': 4232, 'untouched': 4233, 'unusable': 4234, 'unwashed': 4235, 'unwell': 4236, 'upcoming': 4237, 'upright': 4238, 'ups': 4239, 'upset': 4240, 'uptick': 4241, 'upward': 4242, 'upwards': 4243, 'urinate': 4244, 'urine': 4245, 'usable': 4246, 'usb': 4247, 'useable': 4248, 'user': 4249, 'usual': 4250, 'utilized': 4251, 'vacuum': 4252, 'valleys': 4253, 'vampire': 4254, 'vanilla': 4255, 'vaporization': 4256, 'vaporous': 4257, 'vase': 4258, 'vast': 4259, 'vegatation': 4260, 'vegetable': 4261, 'velvet': 4262, 'velvety': 4263, 'vents': 4264, 'vessel': 4265, 'viable': 4266, 'vibrates': 4267, 'viewed': 4268, 'vines': 4269, 'violas': 4270, 'violent': 4271, 'visibility': 4272, 'vision': 4273, 'visually': 4274, 'vital': 4275, 'vodka': 4276, 'voice': 4277, 'volatile': 4278, 'vole': 4279, 'vomit': 4280, 'vulnerable': 4281, 'vulotile': 4282, 'vulture': 4283, 'vying': 4284, 'wagon': 4285, 'waiting': 4286, 'waking': 4287, 'walked': 4288, 'walking': 4289, 'wallet': 4290, 'war': 4291, 'ward': 4292, 'warmed': 4293, 'warmly': 4294, 'washing': 4295, 'wasp': 4296, 'wasting': 4297, 'watches': 4298, 'waterfalls': 4299, 'waterfowl': 4300, 'watermelon': 4301, 'waterproof': 4302, 'watery': 4303, 'wave': 4304, 'wax': 4305, 'waxed': 4306, 'waxworms': 4307, 'weak': 4308, 'weaker': 4309, 'weatherproof': 4310, 'web': 4311, 'weeding': 4312, 'weeds': 4313, 'weighted': 4314, 'wetness': 4315, 'wetsuit': 4316, 'wetter': 4317, 'wheat': 4318, 'wherever': 4319, 'whites': 4320, 'wick': 4321, 'wildcats': 4322, 'wildfire': 4323, 'wildflower': 4324, 'wilting': 4325, 'winding': 4326, 'windmill': 4327, 'windows': 4328, 'windshields': 4329, 'wing': 4330, 'wintery': 4331, 'wipe': 4332, 'wiring': 4333, 'wither': 4334, 'withstand': 4335, 'wolf': 4336, 'wombats': 4337, 'wool': 4338, 'words': 4339, 'working': 4340, 'workplace': 4341, 'worse': 4342, 'wound': 4343, 'wounds': 4344, 'wrapped': 4345, 'wrench': 4346, 'wriggling': 4347, 'wrinkled': 4348, 'yanked': 4349, 'yanking': 4350, 'yanks': 4351, 'yards': 4352, 'yeast': 4353, 'zebrafish': 4354, 'zebras': 4355, 'zone': 4356, 'zones': 4357, 'zooplankton': 4358})\n"
          ],
          "name": "stdout"
        }
      ]
    },
    {
      "cell_type": "code",
      "metadata": {
        "id": "q8v8gQgP70gY"
      },
      "source": [
        "device = torch.device('cuda' if torch.cuda.is_available() else 'cpu')"
      ],
      "execution_count": null,
      "outputs": []
    },
    {
      "cell_type": "code",
      "metadata": {
        "id": "DpBfZQk-7yTL"
      },
      "source": [
        "BATCH_SIZE=128\r\n",
        "train_iterator, test_iterator = BucketIterator.splits(\r\n",
        "    (train, valid), \r\n",
        "    batch_size = BATCH_SIZE, \r\n",
        "    device = device, sort=False, shuffle=False)"
      ],
      "execution_count": null,
      "outputs": []
    },
    {
      "cell_type": "markdown",
      "metadata": {
        "id": "Ot8vlVo09ejF"
      },
      "source": [
        "Build the vocabulary."
      ]
    },
    {
      "cell_type": "markdown",
      "metadata": {
        "id": "BtqKGxNO9ejF"
      },
      "source": [
        "Define the device."
      ]
    },
    {
      "cell_type": "code",
      "metadata": {
        "id": "ey8yA-Yh9ejF"
      },
      "source": [
        "device = torch.device('cuda' if torch.cuda.is_available() else 'cpu')"
      ],
      "execution_count": null,
      "outputs": []
    },
    {
      "cell_type": "markdown",
      "metadata": {
        "id": "aqnAGiVU9ejF"
      },
      "source": [
        "Create the iterators."
      ]
    },
    {
      "cell_type": "markdown",
      "metadata": {
        "id": "QP5s8Vov9ejF"
      },
      "source": [
        "## Building the Seq2Seq Model\n",
        "\n",
        "### Encoder\n",
        "\n",
        "First, we'll build the encoder. Similar to the previous model, we only use a single layer GRU, however we now use a *bidirectional RNN*. With a bidirectional RNN, we have two RNNs in each layer. A *forward RNN* going over the embedded sentence from left to right (shown below in green), and a *backward RNN* going over the embedded sentence from right to left (teal). All we need to do in code is set `bidirectional = True` and then pass the embedded sentence to the RNN as before. \n",
        "\n",
        "![](https://github.com/bentrevett/pytorch-seq2seq/blob/master/assets/seq2seq8.png?raw=1)\n",
        "\n",
        "We now have:\n",
        "\n",
        "$$\\begin{align*}\n",
        "h_t^\\rightarrow &= \\text{EncoderGRU}^\\rightarrow(e(x_t^\\rightarrow),h_{t-1}^\\rightarrow)\\\\\n",
        "h_t^\\leftarrow &= \\text{EncoderGRU}^\\leftarrow(e(x_t^\\leftarrow),h_{t-1}^\\leftarrow)\n",
        "\\end{align*}$$\n",
        "\n",
        "Where $x_0^\\rightarrow = \\text{<sos>}, x_1^\\rightarrow = \\text{guten}$ and $x_0^\\leftarrow = \\text{<eos>}, x_1^\\leftarrow = \\text{morgen}$.\n",
        "\n",
        "As before, we only pass an input (`embedded`) to the RNN, which tells PyTorch to initialize both the forward and backward initial hidden states ($h_0^\\rightarrow$ and $h_0^\\leftarrow$, respectively) to a tensor of all zeros. We'll also get two context vectors, one from the forward RNN after it has seen the final word in the sentence, $z^\\rightarrow=h_T^\\rightarrow$, and one from the backward RNN after it has seen the first word in the sentence, $z^\\leftarrow=h_T^\\leftarrow$.\n",
        "\n",
        "The RNN returns `outputs` and `hidden`. \n",
        "\n",
        "`outputs` is of size **[src len, batch size, hid dim * num directions]** where the first `hid_dim` elements in the third axis are the hidden states from the top layer forward RNN, and the last `hid_dim` elements are hidden states from the top layer backward RNN. We can think of the third axis as being the forward and backward hidden states concatenated together other, i.e. $h_1 = [h_1^\\rightarrow; h_{T}^\\leftarrow]$, $h_2 = [h_2^\\rightarrow; h_{T-1}^\\leftarrow]$ and we can denote all encoder hidden states (forward and backwards concatenated together) as $H=\\{ h_1, h_2, ..., h_T\\}$.\n",
        "\n",
        "`hidden` is of size **[n layers * num directions, batch size, hid dim]**, where **[-2, :, :]** gives the top layer forward RNN hidden state after the final time-step (i.e. after it has seen the last word in the sentence) and **[-1, :, :]** gives the top layer backward RNN hidden state after the final time-step (i.e. after it has seen the first word in the sentence).\n",
        "\n",
        "As the decoder is not bidirectional, it only needs a single context vector, $z$, to use as its initial hidden state, $s_0$, and we currently have two, a forward and a backward one ($z^\\rightarrow=h_T^\\rightarrow$ and $z^\\leftarrow=h_T^\\leftarrow$, respectively). We solve this by concatenating the two context vectors together, passing them through a linear layer, $g$, and applying the $\\tanh$ activation function. \n",
        "\n",
        "$$z=\\tanh(g(h_T^\\rightarrow, h_T^\\leftarrow)) = \\tanh(g(z^\\rightarrow, z^\\leftarrow)) = s_0$$\n",
        "\n",
        "**Note**: this is actually a deviation from the paper. Instead, they feed only the first backward RNN hidden state through a linear layer to get the context vector/decoder initial hidden state. This doesn't seem to make sense to me, so we have changed it.\n",
        "\n",
        "As we want our model to look back over the whole of the source sentence we return `outputs`, the stacked forward and backward hidden states for every token in the source sentence. We also return `hidden`, which acts as our initial hidden state in the decoder."
      ]
    },
    {
      "cell_type": "code",
      "metadata": {
        "id": "Y8ovMJ3_9ejF"
      },
      "source": [
        "class Encoder(nn.Module):\n",
        "    def __init__(self, input_dim, emb_dim, enc_hid_dim, dec_hid_dim, dropout):\n",
        "        super().__init__()\n",
        "        \n",
        "        self.embedding = nn.Embedding(input_dim, emb_dim)\n",
        "        \n",
        "        self.rnn = nn.GRU(emb_dim, enc_hid_dim, bidirectional = True)\n",
        "        \n",
        "        self.fc = nn.Linear(enc_hid_dim * 2, dec_hid_dim)\n",
        "        \n",
        "        self.dropout = nn.Dropout(dropout)\n",
        "        \n",
        "    def forward(self, src):\n",
        "        \n",
        "        #src = [src len, batch size]\n",
        "        \n",
        "        embedded = self.dropout(self.embedding(src))\n",
        "        \n",
        "        #embedded = [src len, batch size, emb dim]\n",
        "        \n",
        "        outputs, hidden = self.rnn(embedded)\n",
        "                \n",
        "        #outputs = [src len, batch size, hid dim * num directions]\n",
        "        #hidden = [n layers * num directions, batch size, hid dim]\n",
        "        \n",
        "        #hidden is stacked [forward_1, backward_1, forward_2, backward_2, ...]\n",
        "        #outputs are always from the last layer\n",
        "        \n",
        "        #hidden [-2, :, : ] is the last of the forwards RNN \n",
        "        #hidden [-1, :, : ] is the last of the backwards RNN\n",
        "        \n",
        "        #initial decoder hidden is final hidden state of the forwards and backwards \n",
        "        #  encoder RNNs fed through a linear layer\n",
        "        hidden = torch.tanh(self.fc(torch.cat((hidden[-2,:,:], hidden[-1,:,:]), dim = 1)))\n",
        "        \n",
        "        #outputs = [src len, batch size, enc hid dim * 2]\n",
        "        #hidden = [batch size, dec hid dim]\n",
        "        \n",
        "        return outputs, hidden"
      ],
      "execution_count": null,
      "outputs": []
    },
    {
      "cell_type": "markdown",
      "metadata": {
        "id": "o9WNKZ4D9ejF"
      },
      "source": [
        "### Attention\n",
        "\n",
        "Next up is the attention layer. This will take in the previous hidden state of the decoder, $s_{t-1}$, and all of the stacked forward and backward hidden states from the encoder, $H$. The layer will output an attention vector, $a_t$, that is the length of the source sentence, each element is between 0 and 1 and the entire vector sums to 1.\n",
        "\n",
        "Intuitively, this layer takes what we have decoded so far, $s_{t-1}$, and all of what we have encoded, $H$, to produce a vector, $a_t$, that represents which words in the source sentence we should pay the most attention to in order to correctly predict the next word to decode, $\\hat{y}_{t+1}$. \n",
        "\n",
        "First, we calculate the *energy* between the previous decoder hidden state and the encoder hidden states. As our encoder hidden states are a sequence of $T$ tensors, and our previous decoder hidden state is a single tensor, the first thing we do is `repeat` the previous decoder hidden state $T$ times. We then calculate the energy, $E_t$, between them by concatenating them together and passing them through a linear layer (`attn`) and a $\\tanh$ activation function. \n",
        "\n",
        "$$E_t = \\tanh(\\text{attn}(s_{t-1}, H))$$ \n",
        "\n",
        "This can be thought of as calculating how well each encoder hidden state \"matches\" the previous decoder hidden state.\n",
        "\n",
        "We currently have a **[dec hid dim, src len]** tensor for each example in the batch. We want this to be **[src len]** for each example in the batch as the attention should be over the length of the source sentence. This is achieved by multiplying the `energy` by a **[1, dec hid dim]** tensor, $v$.\n",
        "\n",
        "$$\\hat{a}_t = v E_t$$\n",
        "\n",
        "We can think of $v$ as the weights for a weighted sum of the energy across all encoder hidden states. These weights tell us how much we should attend to each token in the source sequence. The parameters of $v$ are initialized randomly, but learned with the rest of the model via backpropagation. Note how $v$ is not dependent on time, and the same $v$ is used for each time-step of the decoding. We implement $v$ as a linear layer without a bias.\n",
        "\n",
        "Finally, we ensure the attention vector fits the constraints of having all elements between 0 and 1 and the vector summing to 1 by passing it through a $\\text{softmax}$ layer.\n",
        "\n",
        "$$a_t = \\text{softmax}(\\hat{a_t})$$\n",
        "\n",
        "This gives us the attention over the source sentence!\n",
        "\n",
        "Graphically, this looks something like below. This is for calculating the very first attention vector, where $s_{t-1} = s_0 = z$. The green/teal blocks represent the hidden states from both the forward and backward RNNs, and the attention computation is all done within the pink block.\n",
        "\n",
        "![](https://github.com/bentrevett/pytorch-seq2seq/blob/master/assets/seq2seq9.png?raw=1)"
      ]
    },
    {
      "cell_type": "code",
      "metadata": {
        "id": "7yXR6Qbg9ejF"
      },
      "source": [
        "class Attention(nn.Module):\n",
        "    def __init__(self, enc_hid_dim, dec_hid_dim):\n",
        "        super().__init__()\n",
        "        \n",
        "        self.attn = nn.Linear((enc_hid_dim * 2) + dec_hid_dim, dec_hid_dim)\n",
        "        self.v = nn.Linear(dec_hid_dim, 1, bias = False)\n",
        "        \n",
        "    def forward(self, hidden, encoder_outputs):\n",
        "        \n",
        "        #hidden = [batch size, dec hid dim]\n",
        "        #encoder_outputs = [src len, batch size, enc hid dim * 2]\n",
        "        \n",
        "        batch_size = encoder_outputs.shape[1]\n",
        "        src_len = encoder_outputs.shape[0]\n",
        "        \n",
        "        #repeat decoder hidden state src_len times\n",
        "        hidden = hidden.unsqueeze(1).repeat(1, src_len, 1)\n",
        "        \n",
        "        encoder_outputs = encoder_outputs.permute(1, 0, 2)\n",
        "        \n",
        "        #hidden = [batch size, src len, dec hid dim]\n",
        "        #encoder_outputs = [batch size, src len, enc hid dim * 2]\n",
        "        \n",
        "        energy = torch.tanh(self.attn(torch.cat((hidden, encoder_outputs), dim = 2))) \n",
        "        \n",
        "        #energy = [batch size, src len, dec hid dim]\n",
        "\n",
        "        attention = self.v(energy).squeeze(2)\n",
        "        \n",
        "        #attention= [batch size, src len]\n",
        "        \n",
        "        return F.softmax(attention, dim=1)"
      ],
      "execution_count": null,
      "outputs": []
    },
    {
      "cell_type": "markdown",
      "metadata": {
        "id": "pb-p1mhO9ejF"
      },
      "source": [
        "### Decoder\n",
        "\n",
        "Next up is the decoder. \n",
        "\n",
        "The decoder contains the attention layer, `attention`, which takes the previous hidden state, $s_{t-1}$, all of the encoder hidden states, $H$, and returns the attention vector, $a_t$.\n",
        "\n",
        "We then use this attention vector to create a weighted source vector, $w_t$, denoted by `weighted`, which is a weighted sum of the encoder hidden states, $H$, using $a_t$ as the weights.\n",
        "\n",
        "$$w_t = a_t H$$\n",
        "\n",
        "The embedded input word, $d(y_t)$, the weighted source vector, $w_t$, and the previous decoder hidden state, $s_{t-1}$, are then all passed into the decoder RNN, with $d(y_t)$ and $w_t$ being concatenated together.\n",
        "\n",
        "$$s_t = \\text{DecoderGRU}(d(y_t), w_t, s_{t-1})$$\n",
        "\n",
        "We then pass $d(y_t)$, $w_t$ and $s_t$ through the linear layer, $f$, to make a prediction of the next word in the target sentence, $\\hat{y}_{t+1}$. This is done by concatenating them all together.\n",
        "\n",
        "$$\\hat{y}_{t+1} = f(d(y_t), w_t, s_t)$$\n",
        "\n",
        "The image below shows decoding the first word in an example translation.\n",
        "\n",
        "![](https://github.com/bentrevett/pytorch-seq2seq/blob/master/assets/seq2seq10.png?raw=1)\n",
        "\n",
        "The green/teal blocks show the forward/backward encoder RNNs which output $H$, the red block shows the context vector, $z = h_T = \\tanh(g(h^\\rightarrow_T,h^\\leftarrow_T)) = \\tanh(g(z^\\rightarrow, z^\\leftarrow)) = s_0$, the blue block shows the decoder RNN which outputs $s_t$, the purple block shows the linear layer, $f$, which outputs $\\hat{y}_{t+1}$ and the orange block shows the calculation of the weighted sum over $H$ by $a_t$ and outputs $w_t$. Not shown is the calculation of $a_t$."
      ]
    },
    {
      "cell_type": "code",
      "metadata": {
        "id": "5wg3PolD9ejF"
      },
      "source": [
        "class Decoder(nn.Module):\n",
        "    def __init__(self, output_dim, emb_dim, enc_hid_dim, dec_hid_dim, dropout, attention):\n",
        "        super().__init__()\n",
        "\n",
        "        self.output_dim = output_dim\n",
        "        self.attention = attention\n",
        "        \n",
        "        self.embedding = nn.Embedding(output_dim, emb_dim)\n",
        "        \n",
        "        self.rnn = nn.GRU((enc_hid_dim * 2) + emb_dim, dec_hid_dim)\n",
        "        \n",
        "        self.fc_out = nn.Linear((enc_hid_dim * 2) + dec_hid_dim + emb_dim, output_dim)\n",
        "        \n",
        "        self.dropout = nn.Dropout(dropout)\n",
        "        \n",
        "    def forward(self, input, hidden, encoder_outputs):\n",
        "             \n",
        "        #input = [batch size]\n",
        "        #hidden = [batch size, dec hid dim]\n",
        "        #encoder_outputs = [src len, batch size, enc hid dim * 2]\n",
        "        \n",
        "        input = input.unsqueeze(0)\n",
        "        \n",
        "        #input = [1, batch size]\n",
        "        \n",
        "        embedded = self.dropout(self.embedding(input))\n",
        "        \n",
        "        #embedded = [1, batch size, emb dim]\n",
        "        \n",
        "        a = self.attention(hidden, encoder_outputs)\n",
        "                \n",
        "        #a = [batch size, src len]\n",
        "        \n",
        "        a = a.unsqueeze(1)\n",
        "        \n",
        "        #a = [batch size, 1, src len]\n",
        "        \n",
        "        encoder_outputs = encoder_outputs.permute(1, 0, 2)\n",
        "        \n",
        "        #encoder_outputs = [batch size, src len, enc hid dim * 2]\n",
        "        \n",
        "        weighted = torch.bmm(a, encoder_outputs)\n",
        "        \n",
        "        #weighted = [batch size, 1, enc hid dim * 2]\n",
        "        \n",
        "        weighted = weighted.permute(1, 0, 2)\n",
        "        \n",
        "        #weighted = [1, batch size, enc hid dim * 2]\n",
        "        \n",
        "        rnn_input = torch.cat((embedded, weighted), dim = 2)\n",
        "        \n",
        "        #rnn_input = [1, batch size, (enc hid dim * 2) + emb dim]\n",
        "            \n",
        "        output, hidden = self.rnn(rnn_input, hidden.unsqueeze(0))\n",
        "        \n",
        "        #output = [seq len, batch size, dec hid dim * n directions]\n",
        "        #hidden = [n layers * n directions, batch size, dec hid dim]\n",
        "        \n",
        "        #seq len, n layers and n directions will always be 1 in this decoder, therefore:\n",
        "        #output = [1, batch size, dec hid dim]\n",
        "        #hidden = [1, batch size, dec hid dim]\n",
        "        #this also means that output == hidden\n",
        "        assert (output == hidden).all()\n",
        "        \n",
        "        embedded = embedded.squeeze(0)\n",
        "        output = output.squeeze(0)\n",
        "        weighted = weighted.squeeze(0)\n",
        "        \n",
        "        prediction = self.fc_out(torch.cat((output, weighted, embedded), dim = 1))\n",
        "        \n",
        "        #prediction = [batch size, output dim]\n",
        "        \n",
        "        return prediction, hidden.squeeze(0)"
      ],
      "execution_count": null,
      "outputs": []
    },
    {
      "cell_type": "markdown",
      "metadata": {
        "id": "gj7DZYQD9ejF"
      },
      "source": [
        "### Seq2Seq\n",
        "\n",
        "This is the first model where we don't have to have the encoder RNN and decoder RNN have the same hidden dimensions, however the encoder has to be bidirectional. This requirement can be removed by changing all occurences of `enc_dim * 2` to `enc_dim * 2 if encoder_is_bidirectional else enc_dim`. \n",
        "\n",
        "This seq2seq encapsulator is similar to the last two. The only difference is that the `encoder` returns both the final hidden state (which is the final hidden state from both the forward and backward encoder RNNs passed through a linear layer) to be used as the initial hidden state for the decoder, as well as every hidden state (which are the forward and backward hidden states stacked on top of each other). We also need to ensure that `hidden` and `encoder_outputs` are passed to the decoder. \n",
        "\n",
        "Briefly going over all of the steps:\n",
        "- the `outputs` tensor is created to hold all predictions, $\\hat{Y}$\n",
        "- the source sequence, $X$, is fed into the encoder to receive $z$ and $H$\n",
        "- the initial decoder hidden state is set to be the `context` vector, $s_0 = z = h_T$\n",
        "- we use a batch of `<sos>` tokens as the first `input`, $y_1$\n",
        "- we then decode within a loop:\n",
        "  - inserting the input token $y_t$, previous hidden state, $s_{t-1}$, and all encoder outputs, $H$, into the decoder\n",
        "  - receiving a prediction, $\\hat{y}_{t+1}$, and a new hidden state, $s_t$\n",
        "  - we then decide if we are going to teacher force or not, setting the next input as appropriate"
      ]
    },
    {
      "cell_type": "code",
      "metadata": {
        "id": "UEkTIixA9ejF"
      },
      "source": [
        "class Seq2Seq(nn.Module):\n",
        "    def __init__(self, encoder, decoder, device):\n",
        "        super().__init__()\n",
        "        \n",
        "        self.encoder = encoder\n",
        "        self.decoder = decoder\n",
        "        self.device = device\n",
        "        \n",
        "    def forward(self, src, trg, teacher_forcing_ratio = 0.5):\n",
        "        \n",
        "        #src = [src len, batch size]\n",
        "        #trg = [trg len, batch size]\n",
        "        #teacher_forcing_ratio is probability to use teacher forcing\n",
        "        #e.g. if teacher_forcing_ratio is 0.75 we use teacher forcing 75% of the time\n",
        "        \n",
        "        batch_size = src.shape[1]\n",
        "        trg_len = trg.shape[0]\n",
        "        trg_vocab_size = self.decoder.output_dim\n",
        "        \n",
        "        #tensor to store decoder outputs\n",
        "        outputs = torch.zeros(trg_len, batch_size, trg_vocab_size).to(self.device)\n",
        "        \n",
        "        #encoder_outputs is all hidden states of the input sequence, back and forwards\n",
        "        #hidden is the final forward and backward hidden states, passed through a linear layer\n",
        "        encoder_outputs, hidden = self.encoder(src)\n",
        "                \n",
        "        #first input to the decoder is the <sos> tokens\n",
        "        input = trg[0,:]\n",
        "        \n",
        "        for t in range(1, trg_len):\n",
        "            \n",
        "            #insert input token embedding, previous hidden state and all encoder hidden states\n",
        "            #receive output tensor (predictions) and new hidden state\n",
        "            output, hidden = self.decoder(input, hidden, encoder_outputs)\n",
        "            \n",
        "            #place predictions in a tensor holding predictions for each token\n",
        "            outputs[t] = output\n",
        "            \n",
        "            #decide if we are going to use teacher forcing or not\n",
        "            teacher_force = random.random() < teacher_forcing_ratio\n",
        "            \n",
        "            #get the highest predicted token from our predictions\n",
        "            top1 = output.argmax(1) \n",
        "            \n",
        "            #if teacher forcing, use actual next token as next input\n",
        "            #if not, use predicted token\n",
        "            input = trg[t] if teacher_force else top1\n",
        "\n",
        "        return outputs"
      ],
      "execution_count": null,
      "outputs": []
    },
    {
      "cell_type": "markdown",
      "metadata": {
        "id": "cXyLKEkh9ejF"
      },
      "source": [
        "## Training the Seq2Seq Model\n",
        "\n",
        "The rest of this session is very similar to the previous one.\n",
        "\n",
        "We initialise our parameters, encoder, decoder and seq2seq model (placing it on the GPU if we have one). "
      ]
    },
    {
      "cell_type": "code",
      "metadata": {
        "id": "f7FRQ8UR9ejF"
      },
      "source": [
        "# INPUT_DIM = len(SRC.vocab)\n",
        "# OUTPUT_DIM = len(TRG.vocab)\n",
        "\n",
        "INPUT_DIM = len(Sentence.vocab)\n",
        "OUTPUT_DIM = len(Label.vocab)\n",
        "\n",
        "ENC_EMB_DIM = 256\n",
        "DEC_EMB_DIM = 256\n",
        "ENC_HID_DIM = 512\n",
        "DEC_HID_DIM = 512\n",
        "ENC_DROPOUT = 0.5\n",
        "DEC_DROPOUT = 0.5\n",
        "\n",
        "attn = Attention(ENC_HID_DIM, DEC_HID_DIM)\n",
        "enc = Encoder(INPUT_DIM, ENC_EMB_DIM, ENC_HID_DIM, DEC_HID_DIM, ENC_DROPOUT)\n",
        "dec = Decoder(OUTPUT_DIM, DEC_EMB_DIM, ENC_HID_DIM, DEC_HID_DIM, DEC_DROPOUT, attn)\n",
        "\n",
        "model = Seq2Seq(enc, dec, device).to(device)"
      ],
      "execution_count": null,
      "outputs": []
    },
    {
      "cell_type": "markdown",
      "metadata": {
        "id": "Ux1sNqPk9ejF"
      },
      "source": [
        "We use a simplified version of the weight initialization scheme used in the paper. Here, we will initialize all biases to zero and all weights from $\\mathcal{N}(0, 0.01)$."
      ]
    },
    {
      "cell_type": "code",
      "metadata": {
        "id": "YXaq2o559ejF",
        "colab": {
          "base_uri": "https://localhost:8080/"
        },
        "outputId": "22ac86c5-85f7-4b6b-88a4-657889270f83"
      },
      "source": [
        "def init_weights(m):\n",
        "    for name, param in m.named_parameters():\n",
        "        if 'weight' in name:\n",
        "            nn.init.normal_(param.data, mean=0, std=0.01)\n",
        "        else:\n",
        "            nn.init.constant_(param.data, 0)\n",
        "            \n",
        "model.apply(init_weights)"
      ],
      "execution_count": null,
      "outputs": [
        {
          "output_type": "execute_result",
          "data": {
            "text/plain": [
              "Seq2Seq(\n",
              "  (encoder): Encoder(\n",
              "    (embedding): Embedding(10405, 256)\n",
              "    (rnn): GRU(256, 512, bidirectional=True)\n",
              "    (fc): Linear(in_features=1024, out_features=512, bias=True)\n",
              "    (dropout): Dropout(p=0.5, inplace=False)\n",
              "  )\n",
              "  (decoder): Decoder(\n",
              "    (attention): Attention(\n",
              "      (attn): Linear(in_features=1536, out_features=512, bias=True)\n",
              "      (v): Linear(in_features=512, out_features=1, bias=False)\n",
              "    )\n",
              "    (embedding): Embedding(4359, 256)\n",
              "    (rnn): GRU(1280, 512)\n",
              "    (fc_out): Linear(in_features=1792, out_features=4359, bias=True)\n",
              "    (dropout): Dropout(p=0.5, inplace=False)\n",
              "  )\n",
              ")"
            ]
          },
          "metadata": {
            "tags": []
          },
          "execution_count": 25
        }
      ]
    },
    {
      "cell_type": "markdown",
      "metadata": {
        "id": "ij9nRbgx9ejH"
      },
      "source": [
        "Calculate the number of parameters. We get an increase of almost 50% in the amount of parameters from the last model. "
      ]
    },
    {
      "cell_type": "code",
      "metadata": {
        "id": "2oAsDCtJ9ejH",
        "colab": {
          "base_uri": "https://localhost:8080/"
        },
        "outputId": "46fbf1f9-d8db-4e4e-bb4e-0712dfefaebb"
      },
      "source": [
        "def count_parameters(model):\n",
        "    return sum(p.numel() for p in model.parameters() if p.requires_grad)\n",
        "\n",
        "print(f'The model has {count_parameters(model):,} trainable parameters')"
      ],
      "execution_count": null,
      "outputs": [
        {
          "output_type": "stream",
          "text": [
            "The model has 18,028,551 trainable parameters\n"
          ],
          "name": "stdout"
        }
      ]
    },
    {
      "cell_type": "markdown",
      "metadata": {
        "id": "h-C9PF1d9ejH"
      },
      "source": [
        "We create an optimizer."
      ]
    },
    {
      "cell_type": "code",
      "metadata": {
        "id": "ox4JAgEE9ejH"
      },
      "source": [
        "optimizer = optim.Adam(model.parameters())"
      ],
      "execution_count": null,
      "outputs": []
    },
    {
      "cell_type": "markdown",
      "metadata": {
        "id": "A5FzwRlz9ejH"
      },
      "source": [
        "We initialize the loss function."
      ]
    },
    {
      "cell_type": "code",
      "metadata": {
        "id": "0iAv-6As9ejH"
      },
      "source": [
        "# TRG_PAD_IDX = TRG.vocab.stoi[TRG.pad_token]\n",
        "\n",
        "TRG_PAD_IDX = Label.vocab.stoi[Label.pad_token]\n",
        "\n",
        "criterion = nn.CrossEntropyLoss(ignore_index = TRG_PAD_IDX)"
      ],
      "execution_count": null,
      "outputs": []
    },
    {
      "cell_type": "markdown",
      "metadata": {
        "id": "-bzv6baC9ejH"
      },
      "source": [
        "We then create the training loop..."
      ]
    },
    {
      "cell_type": "code",
      "metadata": {
        "id": "bYPFqH6a9ejH"
      },
      "source": [
        "def train(model, iterator, optimizer, criterion, clip):\n",
        "    \n",
        "    model.train()\n",
        "    \n",
        "    epoch_loss = 0\n",
        "    \n",
        "    for i, batch in enumerate(iterator):\n",
        "        \n",
        "        # src = batch.src\n",
        "        # trg = batch.trg\n",
        "        src = batch.sentence\n",
        "        trg = batch.label\n",
        "        optimizer.zero_grad()\n",
        "        \n",
        "        output = model(src, trg)\n",
        "        \n",
        "        #trg = [trg len, batch size]\n",
        "        #output = [trg len, batch size, output dim]\n",
        "        \n",
        "        output_dim = output.shape[-1]\n",
        "        \n",
        "        output = output[1:].view(-1, output_dim)\n",
        "        trg = trg[1:].view(-1)\n",
        "        \n",
        "        #trg = [(trg len - 1) * batch size]\n",
        "        #output = [(trg len - 1) * batch size, output dim]\n",
        "        \n",
        "        loss = criterion(output, trg)\n",
        "        \n",
        "        loss.backward()\n",
        "        \n",
        "        torch.nn.utils.clip_grad_norm_(model.parameters(), clip)\n",
        "        \n",
        "        optimizer.step()\n",
        "        \n",
        "        epoch_loss += loss.item()\n",
        "        \n",
        "    return epoch_loss / len(iterator)"
      ],
      "execution_count": null,
      "outputs": []
    },
    {
      "cell_type": "markdown",
      "metadata": {
        "id": "sNawOMJD9ejH"
      },
      "source": [
        "...and the evaluation loop, remembering to set the model to `eval` mode and turn off teaching forcing."
      ]
    },
    {
      "cell_type": "code",
      "metadata": {
        "id": "AQotLtCi9ejH"
      },
      "source": [
        "def evaluate(model, iterator, criterion):\n",
        "    \n",
        "    model.eval()\n",
        "    \n",
        "    epoch_loss = 0\n",
        "    \n",
        "    with torch.no_grad():\n",
        "    \n",
        "        for i, batch in enumerate(iterator):\n",
        "\n",
        "            # src = batch.src\n",
        "            # trg = batch.trg\n",
        "            src = batch.sentence\n",
        "            trg = batch.label\n",
        "\n",
        "            output = model(src, trg, 0) #turn off teacher forcing\n",
        "\n",
        "            #trg = [trg len, batch size]\n",
        "            #output = [trg len, batch size, output dim]\n",
        "\n",
        "            output_dim = output.shape[-1]\n",
        "            \n",
        "            output = output[1:].view(-1, output_dim)\n",
        "            trg = trg[1:].view(-1)\n",
        "\n",
        "            #trg = [(trg len - 1) * batch size]\n",
        "            #output = [(trg len - 1) * batch size, output dim]\n",
        "\n",
        "            loss = criterion(output, trg)\n",
        "\n",
        "            epoch_loss += loss.item()\n",
        "        \n",
        "    return epoch_loss / len(iterator)"
      ],
      "execution_count": null,
      "outputs": []
    },
    {
      "cell_type": "markdown",
      "metadata": {
        "id": "4_TUjr1O9ejH"
      },
      "source": [
        "Finally, define a timing function."
      ]
    },
    {
      "cell_type": "code",
      "metadata": {
        "id": "_UMyHEYS9ejH"
      },
      "source": [
        "def epoch_time(start_time, end_time):\n",
        "    elapsed_time = end_time - start_time\n",
        "    elapsed_mins = int(elapsed_time / 60)\n",
        "    elapsed_secs = int(elapsed_time - (elapsed_mins * 60))\n",
        "    return elapsed_mins, elapsed_secs"
      ],
      "execution_count": null,
      "outputs": []
    },
    {
      "cell_type": "markdown",
      "metadata": {
        "id": "wYKIfYvY9ejH"
      },
      "source": [
        "Then, we train our model, saving the parameters that give us the best validation loss."
      ]
    },
    {
      "cell_type": "code",
      "metadata": {
        "id": "V2-2b9-W9ejH",
        "colab": {
          "base_uri": "https://localhost:8080/"
        },
        "outputId": "e1cfce09-21a5-4611-d313-45e7e2a1fa1e"
      },
      "source": [
        "N_EPOCHS = 10\n",
        "CLIP = 1\n",
        "\n",
        "best_valid_loss = float('inf')\n",
        "\n",
        "for epoch in range(N_EPOCHS):\n",
        "    \n",
        "    start_time = time.time()\n",
        "    \n",
        "    train_loss = train(model, train_iterator, optimizer, criterion, CLIP)\n",
        "    # valid_loss = evaluate(model, valid_iterator, criterion)\n",
        "    valid_loss = evaluate(model, test_iterator, criterion)\n",
        "\n",
        "    \n",
        "    end_time = time.time()\n",
        "    \n",
        "    epoch_mins, epoch_secs = epoch_time(start_time, end_time)\n",
        "    \n",
        "    if valid_loss < best_valid_loss:\n",
        "        best_valid_loss = valid_loss\n",
        "        torch.save(model.state_dict(), 'tut3-model.pt')\n",
        "    \n",
        "    print(f'Epoch: {epoch+1:02} | Time: {epoch_mins}m {epoch_secs}s')\n",
        "    print(f'\\tTrain Loss: {train_loss:.3f} | Train PPL: {math.exp(train_loss):7.3f}')\n",
        "    print(f'\\t Val. Loss: {valid_loss:.3f} |  Val. PPL: {math.exp(valid_loss):7.3f}')"
      ],
      "execution_count": null,
      "outputs": [
        {
          "output_type": "stream",
          "text": [
            "Epoch: 01 | Time: 0m 6s\n",
            "\tTrain Loss: 7.840 | Train PPL: 2539.152\n",
            "\t Val. Loss: 7.661 |  Val. PPL: 2124.883\n",
            "Epoch: 02 | Time: 0m 6s\n",
            "\tTrain Loss: 7.138 | Train PPL: 1259.407\n",
            "\t Val. Loss: 7.812 |  Val. PPL: 2468.856\n",
            "Epoch: 03 | Time: 0m 6s\n",
            "\tTrain Loss: 6.993 | Train PPL: 1088.982\n",
            "\t Val. Loss: 7.921 |  Val. PPL: 2755.148\n",
            "Epoch: 04 | Time: 0m 6s\n",
            "\tTrain Loss: 6.863 | Train PPL: 956.367\n",
            "\t Val. Loss: 7.950 |  Val. PPL: 2835.825\n",
            "Epoch: 05 | Time: 0m 6s\n",
            "\tTrain Loss: 6.748 | Train PPL: 852.687\n",
            "\t Val. Loss: 8.391 |  Val. PPL: 4405.527\n",
            "Epoch: 06 | Time: 0m 6s\n",
            "\tTrain Loss: 6.551 | Train PPL: 700.118\n",
            "\t Val. Loss: 8.256 |  Val. PPL: 3852.382\n",
            "Epoch: 07 | Time: 0m 6s\n",
            "\tTrain Loss: 6.259 | Train PPL: 522.835\n",
            "\t Val. Loss: 8.483 |  Val. PPL: 4831.521\n",
            "Epoch: 08 | Time: 0m 6s\n",
            "\tTrain Loss: 5.962 | Train PPL: 388.224\n",
            "\t Val. Loss: 8.788 |  Val. PPL: 6556.995\n",
            "Epoch: 09 | Time: 0m 6s\n",
            "\tTrain Loss: 5.683 | Train PPL: 293.864\n",
            "\t Val. Loss: 9.038 |  Val. PPL: 8420.232\n",
            "Epoch: 10 | Time: 0m 6s\n",
            "\tTrain Loss: 5.356 | Train PPL: 211.789\n",
            "\t Val. Loss: 9.184 |  Val. PPL: 9735.496\n"
          ],
          "name": "stdout"
        }
      ]
    },
    {
      "cell_type": "code",
      "metadata": {
        "colab": {
          "base_uri": "https://localhost:8080/"
        },
        "id": "S1Yy2D-AAGzU",
        "outputId": "676a561e-c88f-4c62-e4c1-7687b5656362"
      },
      "source": [
        "optimizer"
      ],
      "execution_count": null,
      "outputs": [
        {
          "output_type": "execute_result",
          "data": {
            "text/plain": [
              "Adam (\n",
              "Parameter Group 0\n",
              "    amsgrad: False\n",
              "    betas: (0.9, 0.999)\n",
              "    eps: 1e-08\n",
              "    lr: 0.001\n",
              "    weight_decay: 0\n",
              ")"
            ]
          },
          "metadata": {
            "tags": []
          },
          "execution_count": 34
        }
      ]
    },
    {
      "cell_type": "code",
      "metadata": {
        "id": "jY5B4McO9jQX"
      },
      "source": [
        "optimizer = optim.Adam(model.parameters(), lr=0.00001, weight_decay=0.01)"
      ],
      "execution_count": null,
      "outputs": []
    },
    {
      "cell_type": "code",
      "metadata": {
        "colab": {
          "base_uri": "https://localhost:8080/"
        },
        "id": "ukU3uiOyn_yB",
        "outputId": "89448ffc-d4a7-4c89-cf60-166729f3d1ee"
      },
      "source": [
        "best_valid_loss"
      ],
      "execution_count": null,
      "outputs": [
        {
          "output_type": "execute_result",
          "data": {
            "text/plain": [
              "6.283"
            ]
          },
          "metadata": {
            "tags": []
          },
          "execution_count": 35
        }
      ]
    },
    {
      "cell_type": "code",
      "metadata": {
        "colab": {
          "base_uri": "https://localhost:8080/"
        },
        "id": "tPHt21sA9l1W",
        "outputId": "1aa08244-576a-48de-fa82-18791de47b96"
      },
      "source": [
        "N_EPOCHS = 30\r\n",
        "CLIP = 1\r\n",
        "model.load_state_dict(torch.load('tut3-model.pt'))\r\n",
        "best_valid_loss = 7.72\r\n",
        "\r\n",
        "for epoch in range(N_EPOCHS):\r\n",
        "    \r\n",
        "    start_time = time.time()\r\n",
        "    \r\n",
        "    train_loss = train(model, train_iterator, optimizer, criterion, CLIP)\r\n",
        "    # valid_loss = evaluate(model, valid_iterator, criterion)\r\n",
        "    valid_loss = evaluate(model, test_iterator, criterion)\r\n",
        "\r\n",
        "    \r\n",
        "    end_time = time.time()\r\n",
        "    \r\n",
        "    epoch_mins, epoch_secs = epoch_time(start_time, end_time)\r\n",
        "    \r\n",
        "    if valid_loss < best_valid_loss:\r\n",
        "        best_valid_loss = valid_loss\r\n",
        "        torch.save(model.state_dict(), 'tut3-model.pt')\r\n",
        "    \r\n",
        "    print(f'Epoch: {epoch+1:02} | Time: {epoch_mins}m {epoch_secs}s')\r\n",
        "    print(f'\\tTrain Loss: {train_loss:.3f} | Train PPL: {math.exp(train_loss):7.3f}')\r\n",
        "    print(f'\\t Val. Loss: {valid_loss:.3f} |  Val. PPL: {math.exp(valid_loss):7.3f}')"
      ],
      "execution_count": null,
      "outputs": [
        {
          "output_type": "stream",
          "text": [
            "Epoch: 01 | Time: 0m 6s\n",
            "\tTrain Loss: 7.074 | Train PPL: 1180.754\n",
            "\t Val. Loss: 7.704 |  Val. PPL: 2216.857\n",
            "Epoch: 02 | Time: 0m 6s\n",
            "\tTrain Loss: 7.069 | Train PPL: 1175.278\n",
            "\t Val. Loss: 7.698 |  Val. PPL: 2203.932\n",
            "Epoch: 03 | Time: 0m 6s\n",
            "\tTrain Loss: 7.067 | Train PPL: 1172.125\n",
            "\t Val. Loss: 7.692 |  Val. PPL: 2190.730\n",
            "Epoch: 04 | Time: 0m 6s\n",
            "\tTrain Loss: 7.064 | Train PPL: 1168.546\n",
            "\t Val. Loss: 7.686 |  Val. PPL: 2178.133\n",
            "Epoch: 05 | Time: 0m 6s\n",
            "\tTrain Loss: 7.062 | Train PPL: 1166.215\n",
            "\t Val. Loss: 7.681 |  Val. PPL: 2166.151\n",
            "Epoch: 06 | Time: 0m 6s\n",
            "\tTrain Loss: 7.059 | Train PPL: 1163.523\n",
            "\t Val. Loss: 7.675 |  Val. PPL: 2154.457\n",
            "Epoch: 07 | Time: 0m 6s\n",
            "\tTrain Loss: 7.057 | Train PPL: 1161.422\n",
            "\t Val. Loss: 7.670 |  Val. PPL: 2143.241\n",
            "Epoch: 08 | Time: 0m 6s\n",
            "\tTrain Loss: 7.055 | Train PPL: 1159.035\n",
            "\t Val. Loss: 7.665 |  Val. PPL: 2132.024\n",
            "Epoch: 09 | Time: 0m 6s\n",
            "\tTrain Loss: 7.054 | Train PPL: 1157.962\n",
            "\t Val. Loss: 7.660 |  Val. PPL: 2121.814\n",
            "Epoch: 10 | Time: 0m 6s\n",
            "\tTrain Loss: 7.052 | Train PPL: 1155.427\n",
            "\t Val. Loss: 7.655 |  Val. PPL: 2111.263\n",
            "Epoch: 11 | Time: 0m 6s\n",
            "\tTrain Loss: 7.051 | Train PPL: 1153.947\n",
            "\t Val. Loss: 7.650 |  Val. PPL: 2101.338\n",
            "Epoch: 12 | Time: 0m 6s\n",
            "\tTrain Loss: 7.050 | Train PPL: 1152.798\n",
            "\t Val. Loss: 7.646 |  Val. PPL: 2091.780\n",
            "Epoch: 13 | Time: 0m 6s\n",
            "\tTrain Loss: 7.048 | Train PPL: 1150.996\n",
            "\t Val. Loss: 7.641 |  Val. PPL: 2082.333\n",
            "Epoch: 14 | Time: 0m 6s\n",
            "\tTrain Loss: 7.048 | Train PPL: 1150.446\n",
            "\t Val. Loss: 7.637 |  Val. PPL: 2073.402\n",
            "Epoch: 15 | Time: 0m 6s\n",
            "\tTrain Loss: 7.047 | Train PPL: 1148.913\n",
            "\t Val. Loss: 7.633 |  Val. PPL: 2064.357\n",
            "Epoch: 16 | Time: 0m 6s\n",
            "\tTrain Loss: 7.045 | Train PPL: 1147.571\n",
            "\t Val. Loss: 7.628 |  Val. PPL: 2055.898\n",
            "Epoch: 17 | Time: 0m 6s\n",
            "\tTrain Loss: 7.045 | Train PPL: 1146.781\n",
            "\t Val. Loss: 7.625 |  Val. PPL: 2047.870\n",
            "Epoch: 18 | Time: 0m 6s\n",
            "\tTrain Loss: 7.044 | Train PPL: 1145.398\n",
            "\t Val. Loss: 7.621 |  Val. PPL: 2040.101\n",
            "Epoch: 19 | Time: 0m 6s\n",
            "\tTrain Loss: 7.043 | Train PPL: 1144.454\n",
            "\t Val. Loss: 7.617 |  Val. PPL: 2032.409\n",
            "Epoch: 20 | Time: 0m 6s\n",
            "\tTrain Loss: 7.042 | Train PPL: 1143.674\n",
            "\t Val. Loss: 7.614 |  Val. PPL: 2025.379\n",
            "Epoch: 21 | Time: 0m 6s\n",
            "\tTrain Loss: 7.041 | Train PPL: 1143.009\n",
            "\t Val. Loss: 7.610 |  Val. PPL: 2017.820\n",
            "Epoch: 22 | Time: 0m 6s\n",
            "\tTrain Loss: 7.041 | Train PPL: 1142.126\n",
            "\t Val. Loss: 7.606 |  Val. PPL: 2010.855\n",
            "Epoch: 23 | Time: 0m 6s\n",
            "\tTrain Loss: 7.040 | Train PPL: 1141.176\n",
            "\t Val. Loss: 7.603 |  Val. PPL: 2004.127\n",
            "Epoch: 24 | Time: 0m 6s\n",
            "\tTrain Loss: 7.039 | Train PPL: 1140.287\n",
            "\t Val. Loss: 7.600 |  Val. PPL: 1997.614\n",
            "Epoch: 25 | Time: 0m 6s\n",
            "\tTrain Loss: 7.038 | Train PPL: 1139.484\n",
            "\t Val. Loss: 7.597 |  Val. PPL: 1991.793\n",
            "Epoch: 26 | Time: 0m 6s\n",
            "\tTrain Loss: 7.037 | Train PPL: 1138.377\n",
            "\t Val. Loss: 7.594 |  Val. PPL: 1985.469\n",
            "Epoch: 27 | Time: 0m 6s\n",
            "\tTrain Loss: 7.037 | Train PPL: 1137.578\n",
            "\t Val. Loss: 7.591 |  Val. PPL: 1979.915\n",
            "Epoch: 28 | Time: 0m 6s\n",
            "\tTrain Loss: 7.037 | Train PPL: 1137.466\n",
            "\t Val. Loss: 7.588 |  Val. PPL: 1974.474\n",
            "Epoch: 29 | Time: 0m 6s\n",
            "\tTrain Loss: 7.036 | Train PPL: 1136.423\n",
            "\t Val. Loss: 7.585 |  Val. PPL: 1969.206\n",
            "Epoch: 30 | Time: 0m 6s\n",
            "\tTrain Loss: 7.035 | Train PPL: 1135.878\n",
            "\t Val. Loss: 7.583 |  Val. PPL: 1964.088\n"
          ],
          "name": "stdout"
        }
      ]
    },
    {
      "cell_type": "code",
      "metadata": {
        "colab": {
          "base_uri": "https://localhost:8080/"
        },
        "id": "HHPn31mBpo--",
        "outputId": "7a664ce4-2e32-4bae-fc42-73e65f2afa33"
      },
      "source": [
        "best_valid_loss"
      ],
      "execution_count": null,
      "outputs": [
        {
          "output_type": "execute_result",
          "data": {
            "text/plain": [
              "7.582783460617065"
            ]
          },
          "metadata": {
            "tags": []
          },
          "execution_count": 41
        }
      ]
    },
    {
      "cell_type": "code",
      "metadata": {
        "colab": {
          "base_uri": "https://localhost:8080/"
        },
        "id": "xak8dJXRBnqK",
        "outputId": "798654b5-0706-4557-f77b-cbddd663b3b6"
      },
      "source": [
        "optimizer = optim.Adam(model.parameters(), lr=0.00001, weight_decay=0.01)\r\n",
        "N_EPOCHS = 30\r\n",
        "CLIP = 1\r\n",
        "model.load_state_dict(torch.load('tut3-model.pt'))\r\n",
        "best_valid_loss = 7.582783460617065\r\n",
        "\r\n",
        "for epoch in range(N_EPOCHS):\r\n",
        "    \r\n",
        "    start_time = time.time()\r\n",
        "    \r\n",
        "    train_loss = train(model, train_iterator, optimizer, criterion, CLIP)\r\n",
        "    # valid_loss = evaluate(model, valid_iterator, criterion)\r\n",
        "    valid_loss = evaluate(model, test_iterator, criterion)\r\n",
        "\r\n",
        "    \r\n",
        "    end_time = time.time()\r\n",
        "    \r\n",
        "    epoch_mins, epoch_secs = epoch_time(start_time, end_time)\r\n",
        "    \r\n",
        "    if valid_loss < best_valid_loss:\r\n",
        "        best_valid_loss = valid_loss\r\n",
        "        torch.save(model.state_dict(), 'tut3-model.pt')\r\n",
        "    \r\n",
        "    print(f'Epoch: {epoch+1:02} | Time: {epoch_mins}m {epoch_secs}s')\r\n",
        "    print(f'\\tTrain Loss: {train_loss:.3f} | Train PPL: {math.exp(train_loss):7.3f}')\r\n",
        "    print(f'\\t Val. Loss: {valid_loss:.3f} |  Val. PPL: {math.exp(valid_loss):7.3f}')"
      ],
      "execution_count": null,
      "outputs": [
        {
          "output_type": "stream",
          "text": [
            "Epoch: 01 | Time: 0m 6s\n",
            "\tTrain Loss: 7.034 | Train PPL: 1135.024\n",
            "\t Val. Loss: 7.580 |  Val. PPL: 1959.310\n",
            "Epoch: 02 | Time: 0m 6s\n",
            "\tTrain Loss: 7.034 | Train PPL: 1134.553\n",
            "\t Val. Loss: 7.578 |  Val. PPL: 1955.074\n",
            "Epoch: 03 | Time: 0m 6s\n",
            "\tTrain Loss: 7.033 | Train PPL: 1133.601\n",
            "\t Val. Loss: 7.576 |  Val. PPL: 1950.818\n",
            "Epoch: 04 | Time: 0m 6s\n",
            "\tTrain Loss: 7.033 | Train PPL: 1132.871\n",
            "\t Val. Loss: 7.574 |  Val. PPL: 1946.699\n",
            "Epoch: 05 | Time: 0m 6s\n",
            "\tTrain Loss: 7.032 | Train PPL: 1132.091\n",
            "\t Val. Loss: 7.572 |  Val. PPL: 1942.534\n",
            "Epoch: 06 | Time: 0m 6s\n",
            "\tTrain Loss: 7.031 | Train PPL: 1131.387\n",
            "\t Val. Loss: 7.570 |  Val. PPL: 1938.960\n",
            "Epoch: 07 | Time: 0m 6s\n",
            "\tTrain Loss: 7.031 | Train PPL: 1130.730\n",
            "\t Val. Loss: 7.568 |  Val. PPL: 1935.690\n",
            "Epoch: 08 | Time: 0m 6s\n",
            "\tTrain Loss: 7.030 | Train PPL: 1130.134\n",
            "\t Val. Loss: 7.567 |  Val. PPL: 1932.624\n",
            "Epoch: 09 | Time: 0m 6s\n",
            "\tTrain Loss: 7.029 | Train PPL: 1129.162\n",
            "\t Val. Loss: 7.565 |  Val. PPL: 1929.470\n",
            "Epoch: 10 | Time: 0m 6s\n",
            "\tTrain Loss: 7.029 | Train PPL: 1128.593\n",
            "\t Val. Loss: 7.564 |  Val. PPL: 1926.817\n",
            "Epoch: 11 | Time: 0m 6s\n",
            "\tTrain Loss: 7.028 | Train PPL: 1127.757\n",
            "\t Val. Loss: 7.562 |  Val. PPL: 1923.878\n",
            "Epoch: 12 | Time: 0m 6s\n",
            "\tTrain Loss: 7.027 | Train PPL: 1126.851\n",
            "\t Val. Loss: 7.561 |  Val. PPL: 1921.353\n",
            "Epoch: 13 | Time: 0m 6s\n",
            "\tTrain Loss: 7.027 | Train PPL: 1126.086\n",
            "\t Val. Loss: 7.559 |  Val. PPL: 1918.512\n",
            "Epoch: 14 | Time: 0m 6s\n",
            "\tTrain Loss: 7.026 | Train PPL: 1125.119\n",
            "\t Val. Loss: 7.558 |  Val. PPL: 1915.766\n",
            "Epoch: 15 | Time: 0m 6s\n",
            "\tTrain Loss: 7.025 | Train PPL: 1124.245\n",
            "\t Val. Loss: 7.556 |  Val. PPL: 1913.077\n",
            "Epoch: 16 | Time: 0m 6s\n",
            "\tTrain Loss: 7.024 | Train PPL: 1123.408\n",
            "\t Val. Loss: 7.555 |  Val. PPL: 1909.969\n",
            "Epoch: 17 | Time: 0m 6s\n",
            "\tTrain Loss: 7.023 | Train PPL: 1122.228\n",
            "\t Val. Loss: 7.553 |  Val. PPL: 1906.775\n",
            "Epoch: 18 | Time: 0m 6s\n",
            "\tTrain Loss: 7.022 | Train PPL: 1121.055\n",
            "\t Val. Loss: 7.552 |  Val. PPL: 1903.780\n",
            "Epoch: 19 | Time: 0m 6s\n",
            "\tTrain Loss: 7.021 | Train PPL: 1119.920\n",
            "\t Val. Loss: 7.550 |  Val. PPL: 1900.614\n",
            "Epoch: 20 | Time: 0m 6s\n",
            "\tTrain Loss: 7.020 | Train PPL: 1118.536\n",
            "\t Val. Loss: 7.548 |  Val. PPL: 1897.324\n",
            "Epoch: 21 | Time: 0m 6s\n",
            "\tTrain Loss: 7.018 | Train PPL: 1117.012\n",
            "\t Val. Loss: 7.547 |  Val. PPL: 1894.416\n",
            "Epoch: 22 | Time: 0m 6s\n",
            "\tTrain Loss: 7.017 | Train PPL: 1115.435\n",
            "\t Val. Loss: 7.545 |  Val. PPL: 1891.097\n",
            "Epoch: 23 | Time: 0m 6s\n",
            "\tTrain Loss: 7.015 | Train PPL: 1113.629\n",
            "\t Val. Loss: 7.543 |  Val. PPL: 1888.362\n",
            "Epoch: 24 | Time: 0m 6s\n",
            "\tTrain Loss: 7.014 | Train PPL: 1111.772\n",
            "\t Val. Loss: 7.542 |  Val. PPL: 1886.228\n",
            "Epoch: 25 | Time: 0m 6s\n",
            "\tTrain Loss: 7.012 | Train PPL: 1109.918\n",
            "\t Val. Loss: 7.541 |  Val. PPL: 1884.223\n",
            "Epoch: 26 | Time: 0m 6s\n",
            "\tTrain Loss: 7.010 | Train PPL: 1107.874\n",
            "\t Val. Loss: 7.541 |  Val. PPL: 1882.960\n",
            "Epoch: 27 | Time: 0m 6s\n",
            "\tTrain Loss: 7.008 | Train PPL: 1105.649\n",
            "\t Val. Loss: 7.540 |  Val. PPL: 1882.205\n",
            "Epoch: 28 | Time: 0m 6s\n",
            "\tTrain Loss: 7.006 | Train PPL: 1103.196\n",
            "\t Val. Loss: 7.540 |  Val. PPL: 1881.955\n",
            "Epoch: 29 | Time: 0m 6s\n",
            "\tTrain Loss: 7.004 | Train PPL: 1100.554\n",
            "\t Val. Loss: 7.541 |  Val. PPL: 1882.854\n",
            "Epoch: 30 | Time: 0m 6s\n",
            "\tTrain Loss: 7.001 | Train PPL: 1097.606\n",
            "\t Val. Loss: 7.541 |  Val. PPL: 1884.546\n"
          ],
          "name": "stdout"
        }
      ]
    },
    {
      "cell_type": "code",
      "metadata": {
        "colab": {
          "base_uri": "https://localhost:8080/"
        },
        "id": "i5_tkdtzCGRT",
        "outputId": "dee69955-2604-44f8-d450-b3bdf0962172"
      },
      "source": [
        "best_valid_loss"
      ],
      "execution_count": null,
      "outputs": [
        {
          "output_type": "execute_result",
          "data": {
            "text/plain": [
              "5.836661656697591"
            ]
          },
          "metadata": {
            "tags": []
          },
          "execution_count": 45
        }
      ]
    },
    {
      "cell_type": "code",
      "metadata": {
        "colab": {
          "base_uri": "https://localhost:8080/"
        },
        "id": "yYRR8HFBDDQj",
        "outputId": "dddb8101-cda0-4667-9f7a-9f1f13ab7862"
      },
      "source": [
        "N_EPOCHS = 50\r\n",
        "CLIP = 1\r\n",
        "model.load_state_dict(torch.load('tut3-model.pt'))\r\n",
        "best_valid_loss = 5.836661656697591\r\n",
        "\r\n",
        "for epoch in range(N_EPOCHS):\r\n",
        "    \r\n",
        "    start_time = time.time()\r\n",
        "    \r\n",
        "    train_loss = train(model, train_iterator, optimizer, criterion, CLIP)\r\n",
        "    # valid_loss = evaluate(model, valid_iterator, criterion)\r\n",
        "    valid_loss = evaluate(model, test_iterator, criterion)\r\n",
        "\r\n",
        "    \r\n",
        "    end_time = time.time()\r\n",
        "    \r\n",
        "    epoch_mins, epoch_secs = epoch_time(start_time, end_time)\r\n",
        "    \r\n",
        "    if valid_loss < best_valid_loss:\r\n",
        "        best_valid_loss = valid_loss\r\n",
        "        torch.save(model.state_dict(), 'tut3-model.pt')\r\n",
        "    \r\n",
        "    print(f'Epoch: {epoch+1:02} | Time: {epoch_mins}m {epoch_secs}s')\r\n",
        "    print(f'\\tTrain Loss: {train_loss:.3f} | Train PPL: {math.exp(train_loss):7.3f}')\r\n",
        "    print(f'\\t Val. Loss: {valid_loss:.3f} |  Val. PPL: {math.exp(valid_loss):7.3f}')"
      ],
      "execution_count": null,
      "outputs": [
        {
          "output_type": "stream",
          "text": [
            "Epoch: 01 | Time: 0m 6s\n",
            "\tTrain Loss: 7.003 | Train PPL: 1100.311\n",
            "\t Val. Loss: 7.542 |  Val. PPL: 1886.351\n",
            "Epoch: 02 | Time: 0m 6s\n",
            "\tTrain Loss: 7.001 | Train PPL: 1097.399\n",
            "\t Val. Loss: 7.543 |  Val. PPL: 1886.982\n",
            "Epoch: 03 | Time: 0m 6s\n",
            "\tTrain Loss: 6.998 | Train PPL: 1094.387\n",
            "\t Val. Loss: 7.543 |  Val. PPL: 1888.390\n",
            "Epoch: 04 | Time: 0m 6s\n",
            "\tTrain Loss: 6.995 | Train PPL: 1091.196\n",
            "\t Val. Loss: 7.545 |  Val. PPL: 1890.994\n",
            "Epoch: 05 | Time: 0m 6s\n",
            "\tTrain Loss: 6.992 | Train PPL: 1087.730\n",
            "\t Val. Loss: 7.547 |  Val. PPL: 1895.485\n",
            "Epoch: 06 | Time: 0m 6s\n",
            "\tTrain Loss: 6.988 | Train PPL: 1084.006\n",
            "\t Val. Loss: 7.550 |  Val. PPL: 1900.947\n",
            "Epoch: 07 | Time: 0m 6s\n",
            "\tTrain Loss: 6.985 | Train PPL: 1080.017\n",
            "\t Val. Loss: 7.554 |  Val. PPL: 1907.570\n",
            "Epoch: 08 | Time: 0m 6s\n",
            "\tTrain Loss: 6.981 | Train PPL: 1075.747\n",
            "\t Val. Loss: 7.558 |  Val. PPL: 1915.272\n",
            "Epoch: 09 | Time: 0m 6s\n",
            "\tTrain Loss: 6.977 | Train PPL: 1071.393\n",
            "\t Val. Loss: 7.562 |  Val. PPL: 1923.707\n",
            "Epoch: 10 | Time: 0m 6s\n",
            "\tTrain Loss: 6.973 | Train PPL: 1066.981\n",
            "\t Val. Loss: 7.566 |  Val. PPL: 1932.294\n",
            "Epoch: 11 | Time: 0m 6s\n",
            "\tTrain Loss: 6.968 | Train PPL: 1062.478\n",
            "\t Val. Loss: 7.571 |  Val. PPL: 1940.925\n",
            "Epoch: 12 | Time: 0m 6s\n",
            "\tTrain Loss: 6.964 | Train PPL: 1058.096\n",
            "\t Val. Loss: 7.575 |  Val. PPL: 1948.415\n",
            "Epoch: 13 | Time: 0m 6s\n",
            "\tTrain Loss: 6.960 | Train PPL: 1053.947\n",
            "\t Val. Loss: 7.578 |  Val. PPL: 1954.921\n",
            "Epoch: 14 | Time: 0m 6s\n",
            "\tTrain Loss: 6.956 | Train PPL: 1049.913\n",
            "\t Val. Loss: 7.581 |  Val. PPL: 1960.462\n",
            "Epoch: 15 | Time: 0m 6s\n",
            "\tTrain Loss: 6.953 | Train PPL: 1046.089\n",
            "\t Val. Loss: 7.583 |  Val. PPL: 1964.776\n",
            "Epoch: 16 | Time: 0m 6s\n",
            "\tTrain Loss: 6.949 | Train PPL: 1042.558\n",
            "\t Val. Loss: 7.585 |  Val. PPL: 1968.151\n",
            "Epoch: 17 | Time: 0m 6s\n",
            "\tTrain Loss: 6.946 | Train PPL: 1039.190\n",
            "\t Val. Loss: 7.586 |  Val. PPL: 1970.562\n",
            "Epoch: 18 | Time: 0m 6s\n",
            "\tTrain Loss: 6.943 | Train PPL: 1036.036\n",
            "\t Val. Loss: 7.587 |  Val. PPL: 1972.077\n",
            "Epoch: 19 | Time: 0m 6s\n",
            "\tTrain Loss: 6.940 | Train PPL: 1033.172\n",
            "\t Val. Loss: 7.587 |  Val. PPL: 1972.643\n",
            "Epoch: 20 | Time: 0m 6s\n",
            "\tTrain Loss: 6.938 | Train PPL: 1030.440\n",
            "\t Val. Loss: 7.587 |  Val. PPL: 1972.831\n",
            "Epoch: 21 | Time: 0m 6s\n",
            "\tTrain Loss: 6.935 | Train PPL: 1027.876\n",
            "\t Val. Loss: 7.587 |  Val. PPL: 1972.175\n",
            "Epoch: 22 | Time: 0m 6s\n",
            "\tTrain Loss: 6.933 | Train PPL: 1025.441\n",
            "\t Val. Loss: 7.586 |  Val. PPL: 1971.023\n",
            "Epoch: 23 | Time: 0m 6s\n",
            "\tTrain Loss: 6.931 | Train PPL: 1023.149\n",
            "\t Val. Loss: 7.585 |  Val. PPL: 1969.298\n",
            "Epoch: 24 | Time: 0m 6s\n",
            "\tTrain Loss: 6.929 | Train PPL: 1021.110\n",
            "\t Val. Loss: 7.584 |  Val. PPL: 1966.887\n",
            "Epoch: 25 | Time: 0m 6s\n",
            "\tTrain Loss: 6.927 | Train PPL: 1019.143\n",
            "\t Val. Loss: 7.583 |  Val. PPL: 1964.173\n",
            "Epoch: 26 | Time: 0m 6s\n",
            "\tTrain Loss: 6.925 | Train PPL: 1017.352\n",
            "\t Val. Loss: 7.581 |  Val. PPL: 1961.028\n",
            "Epoch: 27 | Time: 0m 6s\n",
            "\tTrain Loss: 6.923 | Train PPL: 1015.666\n",
            "\t Val. Loss: 7.579 |  Val. PPL: 1957.368\n",
            "Epoch: 28 | Time: 0m 6s\n",
            "\tTrain Loss: 6.922 | Train PPL: 1014.081\n",
            "\t Val. Loss: 7.577 |  Val. PPL: 1953.204\n",
            "Epoch: 29 | Time: 0m 6s\n",
            "\tTrain Loss: 6.920 | Train PPL: 1012.583\n",
            "\t Val. Loss: 7.575 |  Val. PPL: 1948.923\n",
            "Epoch: 30 | Time: 0m 6s\n",
            "\tTrain Loss: 6.919 | Train PPL: 1011.259\n",
            "\t Val. Loss: 7.573 |  Val. PPL: 1944.280\n",
            "Epoch: 31 | Time: 0m 6s\n",
            "\tTrain Loss: 6.918 | Train PPL: 1009.973\n",
            "\t Val. Loss: 7.570 |  Val. PPL: 1939.504\n",
            "Epoch: 32 | Time: 0m 6s\n",
            "\tTrain Loss: 6.917 | Train PPL: 1008.796\n",
            "\t Val. Loss: 7.568 |  Val. PPL: 1934.507\n",
            "Epoch: 33 | Time: 0m 6s\n",
            "\tTrain Loss: 6.915 | Train PPL: 1007.718\n",
            "\t Val. Loss: 7.565 |  Val. PPL: 1929.483\n",
            "Epoch: 34 | Time: 0m 6s\n",
            "\tTrain Loss: 6.914 | Train PPL: 1006.681\n",
            "\t Val. Loss: 7.562 |  Val. PPL: 1924.258\n",
            "Epoch: 35 | Time: 0m 6s\n",
            "\tTrain Loss: 6.913 | Train PPL: 1005.717\n",
            "\t Val. Loss: 7.560 |  Val. PPL: 1919.045\n",
            "Epoch: 36 | Time: 0m 6s\n",
            "\tTrain Loss: 6.913 | Train PPL: 1004.842\n",
            "\t Val. Loss: 7.557 |  Val. PPL: 1913.858\n",
            "Epoch: 37 | Time: 0m 6s\n",
            "\tTrain Loss: 6.912 | Train PPL: 1004.034\n",
            "\t Val. Loss: 7.554 |  Val. PPL: 1908.692\n",
            "Epoch: 38 | Time: 0m 6s\n",
            "\tTrain Loss: 6.911 | Train PPL: 1003.288\n",
            "\t Val. Loss: 7.551 |  Val. PPL: 1903.566\n",
            "Epoch: 39 | Time: 0m 6s\n",
            "\tTrain Loss: 6.910 | Train PPL: 1002.537\n",
            "\t Val. Loss: 7.549 |  Val. PPL: 1898.596\n",
            "Epoch: 40 | Time: 0m 6s\n",
            "\tTrain Loss: 6.910 | Train PPL: 1001.864\n",
            "\t Val. Loss: 7.546 |  Val. PPL: 1893.573\n",
            "Epoch: 41 | Time: 0m 6s\n",
            "\tTrain Loss: 6.909 | Train PPL: 1001.259\n",
            "\t Val. Loss: 7.544 |  Val. PPL: 1888.737\n",
            "Epoch: 42 | Time: 0m 6s\n",
            "\tTrain Loss: 6.908 | Train PPL: 1000.627\n",
            "\t Val. Loss: 7.541 |  Val. PPL: 1884.030\n",
            "Epoch: 43 | Time: 0m 6s\n",
            "\tTrain Loss: 6.908 | Train PPL: 1000.077\n",
            "\t Val. Loss: 7.539 |  Val. PPL: 1879.444\n",
            "Epoch: 44 | Time: 0m 6s\n",
            "\tTrain Loss: 6.907 | Train PPL: 999.522\n",
            "\t Val. Loss: 7.536 |  Val. PPL: 1874.940\n",
            "Epoch: 45 | Time: 0m 6s\n",
            "\tTrain Loss: 6.907 | Train PPL: 999.012\n",
            "\t Val. Loss: 7.534 |  Val. PPL: 1870.602\n",
            "Epoch: 46 | Time: 0m 6s\n",
            "\tTrain Loss: 6.906 | Train PPL: 998.537\n",
            "\t Val. Loss: 7.532 |  Val. PPL: 1866.436\n",
            "Epoch: 47 | Time: 0m 6s\n",
            "\tTrain Loss: 6.906 | Train PPL: 998.076\n",
            "\t Val. Loss: 7.530 |  Val. PPL: 1862.359\n",
            "Epoch: 48 | Time: 0m 6s\n",
            "\tTrain Loss: 6.905 | Train PPL: 997.625\n",
            "\t Val. Loss: 7.528 |  Val. PPL: 1858.493\n",
            "Epoch: 49 | Time: 0m 6s\n",
            "\tTrain Loss: 6.905 | Train PPL: 997.187\n",
            "\t Val. Loss: 7.525 |  Val. PPL: 1854.724\n",
            "Epoch: 50 | Time: 0m 6s\n",
            "\tTrain Loss: 6.905 | Train PPL: 996.789\n",
            "\t Val. Loss: 7.524 |  Val. PPL: 1851.095\n"
          ],
          "name": "stdout"
        }
      ]
    },
    {
      "cell_type": "code",
      "metadata": {
        "colab": {
          "base_uri": "https://localhost:8080/"
        },
        "id": "RgovsaLSwYeI",
        "outputId": "36bb53d7-872f-4455-a659-de2a30ab65de"
      },
      "source": [
        "optimizer"
      ],
      "execution_count": null,
      "outputs": [
        {
          "output_type": "execute_result",
          "data": {
            "text/plain": [
              "Adam (\n",
              "Parameter Group 0\n",
              "    amsgrad: False\n",
              "    betas: (0.9, 0.999)\n",
              "    eps: 1e-08\n",
              "    lr: 1e-05\n",
              "    weight_decay: 0.01\n",
              ")"
            ]
          },
          "metadata": {
            "tags": []
          },
          "execution_count": 46
        }
      ]
    },
    {
      "cell_type": "code",
      "metadata": {
        "id": "O1cofC_WEH0g"
      },
      "source": [
        "optimizer = optim.Adam(model.parameters(), lr=5e-5, weight_decay=0.1)"
      ],
      "execution_count": null,
      "outputs": []
    },
    {
      "cell_type": "code",
      "metadata": {
        "colab": {
          "base_uri": "https://localhost:8080/"
        },
        "id": "dOJ-1MK6CE41",
        "outputId": "ddc1f0f8-a27a-448b-e4b6-6baacace1d15"
      },
      "source": [
        "optimizer = optim.Adam(model.parameters(), lr=1e-4, weight_decay=0.1)\r\n",
        "N_EPOCHS = 20\r\n",
        "CLIP = 1\r\n",
        "model.load_state_dict(torch.load('tut3-model.pt'))\r\n",
        "best_valid_loss = 6.034162958463033\r\n",
        "\r\n",
        "for epoch in range(N_EPOCHS):\r\n",
        "    \r\n",
        "    start_time = time.time()\r\n",
        "    \r\n",
        "    train_loss = train(model, train_iterator, optimizer, criterion, CLIP)\r\n",
        "    # valid_loss = evaluate(model, valid_iterator, criterion)\r\n",
        "    valid_loss = evaluate(model, test_iterator, criterion)\r\n",
        "\r\n",
        "    \r\n",
        "    end_time = time.time()\r\n",
        "    \r\n",
        "    epoch_mins, epoch_secs = epoch_time(start_time, end_time)\r\n",
        "    \r\n",
        "    if valid_loss < best_valid_loss:\r\n",
        "        best_valid_loss = valid_loss\r\n",
        "        torch.save(model.state_dict(), 'tut3-model.pt')\r\n",
        "    \r\n",
        "    print(f'Epoch: {epoch+1:02} | Time: {epoch_mins}m {epoch_secs}s')\r\n",
        "    print(f'\\tTrain Loss: {train_loss:.3f} | Train PPL: {math.exp(train_loss):7.3f}')\r\n",
        "    print(f'\\t Val. Loss: {valid_loss:.3f} |  Val. PPL: {math.exp(valid_loss):7.3f}')"
      ],
      "execution_count": null,
      "outputs": [
        {
          "output_type": "stream",
          "text": [
            "Epoch: 01 | Time: 0m 6s\n",
            "\tTrain Loss: 7.051 | Train PPL: 1153.614\n",
            "\t Val. Loss: 7.532 |  Val. PPL: 1866.087\n",
            "Epoch: 02 | Time: 0m 6s\n",
            "\tTrain Loss: 7.081 | Train PPL: 1188.803\n",
            "\t Val. Loss: 7.532 |  Val. PPL: 1866.802\n",
            "Epoch: 03 | Time: 0m 6s\n",
            "\tTrain Loss: 7.101 | Train PPL: 1213.427\n",
            "\t Val. Loss: 7.509 |  Val. PPL: 1824.043\n",
            "Epoch: 04 | Time: 0m 6s\n",
            "\tTrain Loss: 7.121 | Train PPL: 1237.470\n",
            "\t Val. Loss: 7.480 |  Val. PPL: 1772.238\n",
            "Epoch: 05 | Time: 0m 6s\n",
            "\tTrain Loss: 7.140 | Train PPL: 1261.187\n",
            "\t Val. Loss: 7.454 |  Val. PPL: 1726.829\n",
            "Epoch: 06 | Time: 0m 6s\n",
            "\tTrain Loss: 7.156 | Train PPL: 1281.329\n",
            "\t Val. Loss: 7.433 |  Val. PPL: 1691.220\n",
            "Epoch: 07 | Time: 0m 6s\n",
            "\tTrain Loss: 7.168 | Train PPL: 1296.904\n",
            "\t Val. Loss: 7.418 |  Val. PPL: 1665.573\n",
            "Epoch: 08 | Time: 0m 6s\n",
            "\tTrain Loss: 7.177 | Train PPL: 1308.534\n",
            "\t Val. Loss: 7.407 |  Val. PPL: 1648.158\n",
            "Epoch: 09 | Time: 0m 6s\n",
            "\tTrain Loss: 7.183 | Train PPL: 1317.174\n",
            "\t Val. Loss: 7.400 |  Val. PPL: 1636.021\n",
            "Epoch: 10 | Time: 0m 6s\n",
            "\tTrain Loss: 7.188 | Train PPL: 1323.496\n",
            "\t Val. Loss: 7.395 |  Val. PPL: 1627.358\n",
            "Epoch: 11 | Time: 0m 6s\n",
            "\tTrain Loss: 7.191 | Train PPL: 1328.082\n",
            "\t Val. Loss: 7.391 |  Val. PPL: 1621.255\n",
            "Epoch: 12 | Time: 0m 6s\n",
            "\tTrain Loss: 7.194 | Train PPL: 1331.418\n",
            "\t Val. Loss: 7.388 |  Val. PPL: 1616.868\n",
            "Epoch: 13 | Time: 0m 6s\n",
            "\tTrain Loss: 7.196 | Train PPL: 1333.849\n",
            "\t Val. Loss: 7.386 |  Val. PPL: 1613.640\n",
            "Epoch: 14 | Time: 0m 6s\n",
            "\tTrain Loss: 7.197 | Train PPL: 1335.597\n",
            "\t Val. Loss: 7.385 |  Val. PPL: 1611.223\n",
            "Epoch: 15 | Time: 0m 6s\n",
            "\tTrain Loss: 7.198 | Train PPL: 1336.827\n",
            "\t Val. Loss: 7.384 |  Val. PPL: 1609.501\n",
            "Epoch: 16 | Time: 0m 6s\n",
            "\tTrain Loss: 7.199 | Train PPL: 1337.693\n",
            "\t Val. Loss: 7.383 |  Val. PPL: 1608.254\n",
            "Epoch: 17 | Time: 0m 6s\n",
            "\tTrain Loss: 7.199 | Train PPL: 1338.316\n",
            "\t Val. Loss: 7.382 |  Val. PPL: 1607.336\n",
            "Epoch: 18 | Time: 0m 6s\n",
            "\tTrain Loss: 7.199 | Train PPL: 1338.752\n",
            "\t Val. Loss: 7.382 |  Val. PPL: 1606.660\n",
            "Epoch: 19 | Time: 0m 6s\n",
            "\tTrain Loss: 7.200 | Train PPL: 1339.052\n",
            "\t Val. Loss: 7.382 |  Val. PPL: 1606.161\n",
            "Epoch: 20 | Time: 0m 6s\n",
            "\tTrain Loss: 7.200 | Train PPL: 1339.253\n",
            "\t Val. Loss: 7.381 |  Val. PPL: 1605.797\n"
          ],
          "name": "stdout"
        }
      ]
    },
    {
      "cell_type": "code",
      "metadata": {
        "colab": {
          "base_uri": "https://localhost:8080/"
        },
        "id": "Q1lhFNSAD-oj",
        "outputId": "110c82cf-111d-42ce-9fdd-97626b31edca"
      },
      "source": [
        "best_valid_loss"
      ],
      "execution_count": null,
      "outputs": [
        {
          "output_type": "execute_result",
          "data": {
            "text/plain": [
              "6.034162958463033"
            ]
          },
          "metadata": {
            "tags": []
          },
          "execution_count": 50
        }
      ]
    },
    {
      "cell_type": "code",
      "metadata": {
        "colab": {
          "base_uri": "https://localhost:8080/"
        },
        "id": "2__kUzs3-Wcy",
        "outputId": "8b563dbb-3788-4808-c8c7-0ae701435926"
      },
      "source": [
        "optimizer = optim.Adam(model.parameters(), lr=1e-4, weight_decay=0.1)\r\n",
        "#optimizer = optim.Adam(model.parameters(), lr=1e-4, weight_decay=0.1)\r\n",
        "\r\n",
        "N_EPOCHS = 20\r\n",
        "CLIP = 1\r\n",
        "model.load_state_dict(torch.load('tut3-model.pt'))\r\n",
        "best_valid_loss = 7.532\r\n",
        "\r\n",
        "for epoch in range(N_EPOCHS):\r\n",
        "    \r\n",
        "    start_time = time.time()\r\n",
        "    \r\n",
        "    train_loss = train(model, train_iterator, optimizer, criterion, CLIP)\r\n",
        "    # valid_loss = evaluate(model, valid_iterator, criterion)\r\n",
        "    valid_loss = evaluate(model, test_iterator, criterion)\r\n",
        "\r\n",
        "    \r\n",
        "    end_time = time.time()\r\n",
        "    \r\n",
        "    epoch_mins, epoch_secs = epoch_time(start_time, end_time)\r\n",
        "    \r\n",
        "    if valid_loss < best_valid_loss:\r\n",
        "        best_valid_loss = valid_loss\r\n",
        "        torch.save(model.state_dict(), 'tut3-model.pt')\r\n",
        "    \r\n",
        "    print(f'Epoch: {epoch+1:02} | Time: {epoch_mins}m {epoch_secs}s')\r\n",
        "    print(f'\\tTrain Loss: {train_loss:.3f} | Train PPL: {math.exp(train_loss):7.3f}')\r\n",
        "    print(f'\\t Val. Loss: {valid_loss:.3f} |  Val. PPL: {math.exp(valid_loss):7.3f}')"
      ],
      "execution_count": null,
      "outputs": [
        {
          "output_type": "stream",
          "text": [
            "Epoch: 01 | Time: 0m 6s\n",
            "\tTrain Loss: 7.051 | Train PPL: 1153.707\n",
            "\t Val. Loss: 7.532 |  Val. PPL: 1866.139\n",
            "Epoch: 02 | Time: 0m 6s\n",
            "\tTrain Loss: 7.081 | Train PPL: 1188.758\n",
            "\t Val. Loss: 7.532 |  Val. PPL: 1866.764\n",
            "Epoch: 03 | Time: 0m 6s\n",
            "\tTrain Loss: 7.101 | Train PPL: 1213.415\n",
            "\t Val. Loss: 7.509 |  Val. PPL: 1824.059\n",
            "Epoch: 04 | Time: 0m 6s\n",
            "\tTrain Loss: 7.121 | Train PPL: 1237.477\n",
            "\t Val. Loss: 7.480 |  Val. PPL: 1772.236\n",
            "Epoch: 05 | Time: 0m 6s\n",
            "\tTrain Loss: 7.140 | Train PPL: 1261.177\n",
            "\t Val. Loss: 7.454 |  Val. PPL: 1726.854\n",
            "Epoch: 06 | Time: 0m 6s\n",
            "\tTrain Loss: 7.156 | Train PPL: 1281.329\n",
            "\t Val. Loss: 7.433 |  Val. PPL: 1691.231\n",
            "Epoch: 07 | Time: 0m 6s\n",
            "\tTrain Loss: 7.168 | Train PPL: 1296.906\n",
            "\t Val. Loss: 7.418 |  Val. PPL: 1665.579\n",
            "Epoch: 08 | Time: 0m 6s\n",
            "\tTrain Loss: 7.177 | Train PPL: 1308.536\n",
            "\t Val. Loss: 7.407 |  Val. PPL: 1648.166\n",
            "Epoch: 09 | Time: 0m 6s\n",
            "\tTrain Loss: 7.183 | Train PPL: 1317.175\n",
            "\t Val. Loss: 7.400 |  Val. PPL: 1636.027\n",
            "Epoch: 10 | Time: 0m 6s\n",
            "\tTrain Loss: 7.188 | Train PPL: 1323.497\n",
            "\t Val. Loss: 7.395 |  Val. PPL: 1627.363\n",
            "Epoch: 11 | Time: 0m 6s\n",
            "\tTrain Loss: 7.191 | Train PPL: 1328.083\n",
            "\t Val. Loss: 7.391 |  Val. PPL: 1621.258\n",
            "Epoch: 12 | Time: 0m 6s\n",
            "\tTrain Loss: 7.194 | Train PPL: 1331.421\n",
            "\t Val. Loss: 7.388 |  Val. PPL: 1616.869\n",
            "Epoch: 13 | Time: 0m 6s\n",
            "\tTrain Loss: 7.196 | Train PPL: 1333.850\n",
            "\t Val. Loss: 7.386 |  Val. PPL: 1613.635\n",
            "Epoch: 14 | Time: 0m 6s\n",
            "\tTrain Loss: 7.197 | Train PPL: 1335.597\n",
            "\t Val. Loss: 7.385 |  Val. PPL: 1611.220\n",
            "Epoch: 15 | Time: 0m 6s\n",
            "\tTrain Loss: 7.198 | Train PPL: 1336.824\n",
            "\t Val. Loss: 7.384 |  Val. PPL: 1609.504\n",
            "Epoch: 16 | Time: 0m 6s\n",
            "\tTrain Loss: 7.199 | Train PPL: 1337.692\n",
            "\t Val. Loss: 7.383 |  Val. PPL: 1608.257\n",
            "Epoch: 17 | Time: 0m 6s\n",
            "\tTrain Loss: 7.199 | Train PPL: 1338.316\n",
            "\t Val. Loss: 7.382 |  Val. PPL: 1607.338\n",
            "Epoch: 18 | Time: 0m 6s\n",
            "\tTrain Loss: 7.199 | Train PPL: 1338.753\n",
            "\t Val. Loss: 7.382 |  Val. PPL: 1606.663\n",
            "Epoch: 19 | Time: 0m 6s\n",
            "\tTrain Loss: 7.200 | Train PPL: 1339.053\n",
            "\t Val. Loss: 7.382 |  Val. PPL: 1606.163\n",
            "Epoch: 20 | Time: 0m 6s\n",
            "\tTrain Loss: 7.200 | Train PPL: 1339.253\n",
            "\t Val. Loss: 7.381 |  Val. PPL: 1605.798\n"
          ],
          "name": "stdout"
        }
      ]
    },
    {
      "cell_type": "code",
      "metadata": {
        "colab": {
          "base_uri": "https://localhost:8080/"
        },
        "id": "lYRo6Qd7HA9T",
        "outputId": "aa0ceef4-4dad-43de-c5b5-d6f3f7da331e"
      },
      "source": [
        "best_valid_loss"
      ],
      "execution_count": null,
      "outputs": [
        {
          "output_type": "execute_result",
          "data": {
            "text/plain": [
              "7.381375948588054"
            ]
          },
          "metadata": {
            "tags": []
          },
          "execution_count": 54
        }
      ]
    },
    {
      "cell_type": "code",
      "metadata": {
        "colab": {
          "base_uri": "https://localhost:8080/"
        },
        "id": "Sr_aosHDG_oZ",
        "outputId": "e59e11f1-18bf-47bd-b071-514a95c19281"
      },
      "source": [
        "optimizer = optim.Adam(model.parameters(), lr=1e-5, weight_decay=0.08)\r\n",
        "N_EPOCHS = 50\r\n",
        "CLIP = 1\r\n",
        "model.load_state_dict(torch.load('tut3-model.pt'))\r\n",
        "best_valid_loss = 7.381375948588054\r\n",
        "\r\n",
        "for epoch in range(N_EPOCHS):\r\n",
        "    \r\n",
        "    start_time = time.time()\r\n",
        "    \r\n",
        "    train_loss = train(model, train_iterator, optimizer, criterion, CLIP)\r\n",
        "    # valid_loss = evaluate(model, valid_iterator, criterion)\r\n",
        "    valid_loss = evaluate(model, test_iterator, criterion)\r\n",
        "\r\n",
        "    \r\n",
        "    end_time = time.time()\r\n",
        "    \r\n",
        "    epoch_mins, epoch_secs = epoch_time(start_time, end_time)\r\n",
        "    \r\n",
        "    if valid_loss < best_valid_loss:\r\n",
        "        best_valid_loss = valid_loss\r\n",
        "        torch.save(model.state_dict(), 'tut3-model.pt')\r\n",
        "    \r\n",
        "    print(f'Epoch: {epoch+1:02} | Time: {epoch_mins}m {epoch_secs}s')\r\n",
        "    print(f'\\tTrain Loss: {train_loss:.3f} | Train PPL: {math.exp(train_loss):7.3f}')\r\n",
        "    print(f'\\t Val. Loss: {valid_loss:.3f} |  Val. PPL: {math.exp(valid_loss):7.3f}')"
      ],
      "execution_count": null,
      "outputs": [
        {
          "output_type": "stream",
          "text": [
            "Epoch: 01 | Time: 0m 6s\n",
            "\tTrain Loss: 7.162 | Train PPL: 1289.133\n",
            "\t Val. Loss: 7.358 |  Val. PPL: 1569.005\n",
            "Epoch: 02 | Time: 0m 6s\n",
            "\tTrain Loss: 7.159 | Train PPL: 1285.702\n",
            "\t Val. Loss: 7.362 |  Val. PPL: 1575.030\n",
            "Epoch: 03 | Time: 0m 6s\n",
            "\tTrain Loss: 7.157 | Train PPL: 1283.036\n",
            "\t Val. Loss: 7.363 |  Val. PPL: 1576.296\n",
            "Epoch: 04 | Time: 0m 6s\n",
            "\tTrain Loss: 7.156 | Train PPL: 1281.178\n",
            "\t Val. Loss: 7.364 |  Val. PPL: 1578.004\n",
            "Epoch: 05 | Time: 0m 6s\n",
            "\tTrain Loss: 7.154 | Train PPL: 1279.185\n",
            "\t Val. Loss: 7.365 |  Val. PPL: 1579.579\n",
            "Epoch: 06 | Time: 0m 6s\n",
            "\tTrain Loss: 7.152 | Train PPL: 1277.294\n",
            "\t Val. Loss: 7.366 |  Val. PPL: 1581.092\n",
            "Epoch: 07 | Time: 0m 6s\n",
            "\tTrain Loss: 7.151 | Train PPL: 1275.513\n",
            "\t Val. Loss: 7.367 |  Val. PPL: 1582.516\n",
            "Epoch: 08 | Time: 0m 6s\n",
            "\tTrain Loss: 7.150 | Train PPL: 1273.832\n",
            "\t Val. Loss: 7.368 |  Val. PPL: 1583.842\n",
            "Epoch: 09 | Time: 0m 6s\n",
            "\tTrain Loss: 7.149 | Train PPL: 1272.246\n",
            "\t Val. Loss: 7.368 |  Val. PPL: 1585.077\n",
            "Epoch: 10 | Time: 0m 6s\n",
            "\tTrain Loss: 7.147 | Train PPL: 1270.748\n",
            "\t Val. Loss: 7.369 |  Val. PPL: 1586.223\n",
            "Epoch: 11 | Time: 0m 6s\n",
            "\tTrain Loss: 7.146 | Train PPL: 1269.337\n",
            "\t Val. Loss: 7.370 |  Val. PPL: 1587.280\n",
            "Epoch: 12 | Time: 0m 6s\n",
            "\tTrain Loss: 7.145 | Train PPL: 1268.005\n",
            "\t Val. Loss: 7.370 |  Val. PPL: 1588.256\n",
            "Epoch: 13 | Time: 0m 6s\n",
            "\tTrain Loss: 7.144 | Train PPL: 1266.746\n",
            "\t Val. Loss: 7.371 |  Val. PPL: 1589.161\n",
            "Epoch: 14 | Time: 0m 6s\n",
            "\tTrain Loss: 7.143 | Train PPL: 1265.560\n",
            "\t Val. Loss: 7.371 |  Val. PPL: 1589.992\n",
            "Epoch: 15 | Time: 0m 6s\n",
            "\tTrain Loss: 7.142 | Train PPL: 1264.439\n",
            "\t Val. Loss: 7.372 |  Val. PPL: 1590.756\n",
            "Epoch: 16 | Time: 0m 6s\n",
            "\tTrain Loss: 7.142 | Train PPL: 1263.380\n",
            "\t Val. Loss: 7.372 |  Val. PPL: 1591.462\n",
            "Epoch: 17 | Time: 0m 6s\n",
            "\tTrain Loss: 7.141 | Train PPL: 1262.379\n",
            "\t Val. Loss: 7.373 |  Val. PPL: 1592.110\n",
            "Epoch: 18 | Time: 0m 6s\n",
            "\tTrain Loss: 7.140 | Train PPL: 1261.434\n",
            "\t Val. Loss: 7.373 |  Val. PPL: 1592.705\n",
            "Epoch: 19 | Time: 0m 6s\n",
            "\tTrain Loss: 7.139 | Train PPL: 1260.539\n",
            "\t Val. Loss: 7.374 |  Val. PPL: 1593.255\n",
            "Epoch: 20 | Time: 0m 6s\n",
            "\tTrain Loss: 7.139 | Train PPL: 1259.693\n",
            "\t Val. Loss: 7.374 |  Val. PPL: 1593.758\n",
            "Epoch: 21 | Time: 0m 6s\n",
            "\tTrain Loss: 7.138 | Train PPL: 1258.894\n",
            "\t Val. Loss: 7.374 |  Val. PPL: 1594.222\n",
            "Epoch: 22 | Time: 0m 6s\n",
            "\tTrain Loss: 7.137 | Train PPL: 1258.137\n",
            "\t Val. Loss: 7.374 |  Val. PPL: 1594.647\n",
            "Epoch: 23 | Time: 0m 6s\n",
            "\tTrain Loss: 7.137 | Train PPL: 1257.421\n",
            "\t Val. Loss: 7.375 |  Val. PPL: 1595.041\n",
            "Epoch: 24 | Time: 0m 6s\n",
            "\tTrain Loss: 7.136 | Train PPL: 1256.743\n",
            "\t Val. Loss: 7.375 |  Val. PPL: 1595.402\n",
            "Epoch: 25 | Time: 0m 6s\n",
            "\tTrain Loss: 7.136 | Train PPL: 1256.101\n",
            "\t Val. Loss: 7.375 |  Val. PPL: 1595.734\n",
            "Epoch: 26 | Time: 0m 6s\n",
            "\tTrain Loss: 7.135 | Train PPL: 1255.494\n",
            "\t Val. Loss: 7.375 |  Val. PPL: 1596.039\n",
            "Epoch: 27 | Time: 0m 6s\n",
            "\tTrain Loss: 7.135 | Train PPL: 1254.919\n",
            "\t Val. Loss: 7.375 |  Val. PPL: 1596.320\n",
            "Epoch: 28 | Time: 0m 6s\n",
            "\tTrain Loss: 7.134 | Train PPL: 1254.373\n",
            "\t Val. Loss: 7.376 |  Val. PPL: 1596.579\n",
            "Epoch: 29 | Time: 0m 6s\n",
            "\tTrain Loss: 7.134 | Train PPL: 1253.857\n",
            "\t Val. Loss: 7.376 |  Val. PPL: 1596.817\n",
            "Epoch: 30 | Time: 0m 6s\n",
            "\tTrain Loss: 7.134 | Train PPL: 1253.367\n",
            "\t Val. Loss: 7.376 |  Val. PPL: 1597.036\n",
            "Epoch: 31 | Time: 0m 6s\n",
            "\tTrain Loss: 7.133 | Train PPL: 1252.902\n",
            "\t Val. Loss: 7.376 |  Val. PPL: 1597.239\n",
            "Epoch: 32 | Time: 0m 6s\n",
            "\tTrain Loss: 7.133 | Train PPL: 1252.462\n",
            "\t Val. Loss: 7.376 |  Val. PPL: 1597.425\n",
            "Epoch: 33 | Time: 0m 6s\n",
            "\tTrain Loss: 7.133 | Train PPL: 1252.044\n",
            "\t Val. Loss: 7.376 |  Val. PPL: 1597.595\n",
            "Epoch: 34 | Time: 0m 6s\n",
            "\tTrain Loss: 7.132 | Train PPL: 1251.648\n",
            "\t Val. Loss: 7.376 |  Val. PPL: 1597.754\n",
            "Epoch: 35 | Time: 0m 6s\n",
            "\tTrain Loss: 7.132 | Train PPL: 1251.272\n",
            "\t Val. Loss: 7.376 |  Val. PPL: 1597.900\n",
            "Epoch: 36 | Time: 0m 6s\n",
            "\tTrain Loss: 7.132 | Train PPL: 1250.915\n",
            "\t Val. Loss: 7.377 |  Val. PPL: 1598.035\n",
            "Epoch: 37 | Time: 0m 6s\n",
            "\tTrain Loss: 7.131 | Train PPL: 1250.577\n",
            "\t Val. Loss: 7.377 |  Val. PPL: 1598.157\n",
            "Epoch: 38 | Time: 0m 6s\n",
            "\tTrain Loss: 7.131 | Train PPL: 1250.255\n",
            "\t Val. Loss: 7.377 |  Val. PPL: 1598.273\n",
            "Epoch: 39 | Time: 0m 6s\n",
            "\tTrain Loss: 7.131 | Train PPL: 1249.949\n",
            "\t Val. Loss: 7.377 |  Val. PPL: 1598.379\n",
            "Epoch: 40 | Time: 0m 6s\n",
            "\tTrain Loss: 7.131 | Train PPL: 1249.660\n",
            "\t Val. Loss: 7.377 |  Val. PPL: 1598.476\n",
            "Epoch: 41 | Time: 0m 6s\n",
            "\tTrain Loss: 7.130 | Train PPL: 1249.384\n",
            "\t Val. Loss: 7.377 |  Val. PPL: 1598.566\n",
            "Epoch: 42 | Time: 0m 6s\n",
            "\tTrain Loss: 7.130 | Train PPL: 1249.123\n",
            "\t Val. Loss: 7.377 |  Val. PPL: 1598.650\n",
            "Epoch: 43 | Time: 0m 6s\n",
            "\tTrain Loss: 7.130 | Train PPL: 1248.875\n",
            "\t Val. Loss: 7.377 |  Val. PPL: 1598.725\n",
            "Epoch: 44 | Time: 0m 6s\n",
            "\tTrain Loss: 7.130 | Train PPL: 1248.639\n",
            "\t Val. Loss: 7.377 |  Val. PPL: 1598.796\n",
            "Epoch: 45 | Time: 0m 6s\n",
            "\tTrain Loss: 7.130 | Train PPL: 1248.413\n",
            "\t Val. Loss: 7.377 |  Val. PPL: 1598.861\n",
            "Epoch: 46 | Time: 0m 6s\n",
            "\tTrain Loss: 7.129 | Train PPL: 1248.200\n",
            "\t Val. Loss: 7.377 |  Val. PPL: 1598.921\n",
            "Epoch: 47 | Time: 0m 6s\n",
            "\tTrain Loss: 7.129 | Train PPL: 1247.997\n",
            "\t Val. Loss: 7.377 |  Val. PPL: 1598.977\n",
            "Epoch: 48 | Time: 0m 6s\n",
            "\tTrain Loss: 7.129 | Train PPL: 1247.803\n",
            "\t Val. Loss: 7.377 |  Val. PPL: 1599.028\n",
            "Epoch: 49 | Time: 0m 6s\n",
            "\tTrain Loss: 7.129 | Train PPL: 1247.620\n",
            "\t Val. Loss: 7.377 |  Val. PPL: 1599.076\n",
            "Epoch: 50 | Time: 0m 6s\n",
            "\tTrain Loss: 7.129 | Train PPL: 1247.446\n",
            "\t Val. Loss: 7.377 |  Val. PPL: 1599.120\n"
          ],
          "name": "stdout"
        }
      ]
    },
    {
      "cell_type": "code",
      "metadata": {
        "colab": {
          "base_uri": "https://localhost:8080/"
        },
        "id": "b446MbCKIAkU",
        "outputId": "6a3ac8a7-fa54-4663-e617-5bd6e1d05900"
      },
      "source": [
        "best_valid_loss"
      ],
      "execution_count": null,
      "outputs": [
        {
          "output_type": "execute_result",
          "data": {
            "text/plain": [
              "7.358197212219238"
            ]
          },
          "metadata": {
            "tags": []
          },
          "execution_count": 63
        }
      ]
    },
    {
      "cell_type": "code",
      "metadata": {
        "colab": {
          "base_uri": "https://localhost:8080/"
        },
        "id": "xYKG0OqnH-bE",
        "outputId": "aeb5c1d4-8432-4e43-ce8b-2682aebc6e50"
      },
      "source": [
        "optimizer = optim.Adam(model.parameters(), lr=1e-6, weight_decay=0.1)\r\n",
        "N_EPOCHS = 50\r\n",
        "CLIP = 1\r\n",
        "model.load_state_dict(torch.load('tut3-model.pt'))\r\n",
        "best_valid_loss = 7.381375948588054\r\n",
        "\r\n",
        "for epoch in range(N_EPOCHS):\r\n",
        "    \r\n",
        "    start_time = time.time()\r\n",
        "    \r\n",
        "    train_loss = train(model, train_iterator, optimizer, criterion, CLIP)\r\n",
        "    # valid_loss = evaluate(model, valid_iterator, criterion)\r\n",
        "    valid_loss = evaluate(model, test_iterator, criterion)\r\n",
        "\r\n",
        "    \r\n",
        "    end_time = time.time()\r\n",
        "    \r\n",
        "    epoch_mins, epoch_secs = epoch_time(start_time, end_time)\r\n",
        "    \r\n",
        "    if valid_loss < best_valid_loss:\r\n",
        "        best_valid_loss = valid_loss\r\n",
        "        torch.save(model.state_dict(), 'tut3-model.pt')\r\n",
        "    \r\n",
        "    print(f'Epoch: {epoch+1:02} | Time: {epoch_mins}m {epoch_secs}s')\r\n",
        "    print(f'\\tTrain Loss: {train_loss:.3f} | Train PPL: {math.exp(train_loss):7.3f}')\r\n",
        "    print(f'\\t Val. Loss: {valid_loss:.3f} |  Val. PPL: {math.exp(valid_loss):7.3f}')"
      ],
      "execution_count": null,
      "outputs": [
        {
          "output_type": "stream",
          "text": [
            "Epoch: 01 | Time: 0m 6s\n",
            "\tTrain Loss: 7.161 | Train PPL: 1288.055\n",
            "\t Val. Loss: 7.358 |  Val. PPL: 1568.311\n",
            "Epoch: 02 | Time: 0m 6s\n",
            "\tTrain Loss: 7.165 | Train PPL: 1293.501\n",
            "\t Val. Loss: 7.358 |  Val. PPL: 1568.317\n",
            "Epoch: 03 | Time: 0m 6s\n",
            "\tTrain Loss: 7.168 | Train PPL: 1296.988\n",
            "\t Val. Loss: 7.357 |  Val. PPL: 1567.842\n",
            "Epoch: 04 | Time: 0m 6s\n",
            "\tTrain Loss: 7.169 | Train PPL: 1298.831\n",
            "\t Val. Loss: 7.357 |  Val. PPL: 1567.491\n",
            "Epoch: 05 | Time: 0m 6s\n",
            "\tTrain Loss: 7.170 | Train PPL: 1299.895\n",
            "\t Val. Loss: 7.357 |  Val. PPL: 1567.388\n",
            "Epoch: 06 | Time: 0m 6s\n",
            "\tTrain Loss: 7.171 | Train PPL: 1300.526\n",
            "\t Val. Loss: 7.357 |  Val. PPL: 1567.475\n",
            "Epoch: 07 | Time: 0m 6s\n",
            "\tTrain Loss: 7.171 | Train PPL: 1300.886\n",
            "\t Val. Loss: 7.357 |  Val. PPL: 1567.691\n",
            "Epoch: 08 | Time: 0m 6s\n",
            "\tTrain Loss: 7.171 | Train PPL: 1301.071\n",
            "\t Val. Loss: 7.358 |  Val. PPL: 1567.984\n",
            "Epoch: 09 | Time: 0m 6s\n",
            "\tTrain Loss: 7.171 | Train PPL: 1301.145\n",
            "\t Val. Loss: 7.358 |  Val. PPL: 1568.326\n",
            "Epoch: 10 | Time: 0m 6s\n",
            "\tTrain Loss: 7.171 | Train PPL: 1301.151\n",
            "\t Val. Loss: 7.358 |  Val. PPL: 1568.696\n",
            "Epoch: 11 | Time: 0m 6s\n",
            "\tTrain Loss: 7.171 | Train PPL: 1301.116\n",
            "\t Val. Loss: 7.358 |  Val. PPL: 1569.081\n",
            "Epoch: 12 | Time: 0m 6s\n",
            "\tTrain Loss: 7.171 | Train PPL: 1301.056\n",
            "\t Val. Loss: 7.358 |  Val. PPL: 1569.471\n",
            "Epoch: 13 | Time: 0m 6s\n",
            "\tTrain Loss: 7.171 | Train PPL: 1300.982\n",
            "\t Val. Loss: 7.359 |  Val. PPL: 1569.864\n",
            "Epoch: 14 | Time: 0m 6s\n",
            "\tTrain Loss: 7.171 | Train PPL: 1300.899\n",
            "\t Val. Loss: 7.359 |  Val. PPL: 1570.256\n",
            "Epoch: 15 | Time: 0m 6s\n",
            "\tTrain Loss: 7.171 | Train PPL: 1300.811\n",
            "\t Val. Loss: 7.359 |  Val. PPL: 1570.645\n",
            "Epoch: 16 | Time: 0m 6s\n",
            "\tTrain Loss: 7.171 | Train PPL: 1300.721\n",
            "\t Val. Loss: 7.359 |  Val. PPL: 1571.031\n",
            "Epoch: 17 | Time: 0m 6s\n",
            "\tTrain Loss: 7.171 | Train PPL: 1300.628\n",
            "\t Val. Loss: 7.360 |  Val. PPL: 1571.415\n",
            "Epoch: 18 | Time: 0m 6s\n",
            "\tTrain Loss: 7.171 | Train PPL: 1300.534\n",
            "\t Val. Loss: 7.360 |  Val. PPL: 1571.792\n",
            "Epoch: 19 | Time: 0m 6s\n",
            "\tTrain Loss: 7.170 | Train PPL: 1300.439\n",
            "\t Val. Loss: 7.360 |  Val. PPL: 1572.167\n",
            "Epoch: 20 | Time: 0m 6s\n",
            "\tTrain Loss: 7.170 | Train PPL: 1300.344\n",
            "\t Val. Loss: 7.360 |  Val. PPL: 1572.540\n",
            "Epoch: 21 | Time: 0m 6s\n",
            "\tTrain Loss: 7.170 | Train PPL: 1300.247\n",
            "\t Val. Loss: 7.361 |  Val. PPL: 1572.907\n",
            "Epoch: 22 | Time: 0m 6s\n",
            "\tTrain Loss: 7.170 | Train PPL: 1300.151\n",
            "\t Val. Loss: 7.361 |  Val. PPL: 1573.271\n",
            "Epoch: 23 | Time: 0m 6s\n",
            "\tTrain Loss: 7.170 | Train PPL: 1300.054\n",
            "\t Val. Loss: 7.361 |  Val. PPL: 1573.630\n",
            "Epoch: 24 | Time: 0m 6s\n",
            "\tTrain Loss: 7.170 | Train PPL: 1299.957\n",
            "\t Val. Loss: 7.361 |  Val. PPL: 1573.986\n",
            "Epoch: 25 | Time: 0m 6s\n",
            "\tTrain Loss: 7.170 | Train PPL: 1299.859\n",
            "\t Val. Loss: 7.362 |  Val. PPL: 1574.339\n",
            "Epoch: 26 | Time: 0m 6s\n",
            "\tTrain Loss: 7.170 | Train PPL: 1299.762\n",
            "\t Val. Loss: 7.362 |  Val. PPL: 1574.687\n",
            "Epoch: 27 | Time: 0m 6s\n",
            "\tTrain Loss: 7.170 | Train PPL: 1299.664\n",
            "\t Val. Loss: 7.362 |  Val. PPL: 1575.032\n",
            "Epoch: 28 | Time: 0m 6s\n",
            "\tTrain Loss: 7.170 | Train PPL: 1299.567\n",
            "\t Val. Loss: 7.362 |  Val. PPL: 1575.374\n",
            "Epoch: 29 | Time: 0m 6s\n",
            "\tTrain Loss: 7.170 | Train PPL: 1299.469\n",
            "\t Val. Loss: 7.362 |  Val. PPL: 1575.711\n",
            "Epoch: 30 | Time: 0m 6s\n",
            "\tTrain Loss: 7.170 | Train PPL: 1299.371\n",
            "\t Val. Loss: 7.363 |  Val. PPL: 1576.045\n",
            "Epoch: 31 | Time: 0m 6s\n",
            "\tTrain Loss: 7.170 | Train PPL: 1299.273\n",
            "\t Val. Loss: 7.363 |  Val. PPL: 1576.377\n",
            "Epoch: 32 | Time: 0m 6s\n",
            "\tTrain Loss: 7.169 | Train PPL: 1299.175\n",
            "\t Val. Loss: 7.363 |  Val. PPL: 1576.703\n",
            "Epoch: 33 | Time: 0m 6s\n",
            "\tTrain Loss: 7.169 | Train PPL: 1299.078\n",
            "\t Val. Loss: 7.363 |  Val. PPL: 1577.028\n",
            "Epoch: 34 | Time: 0m 6s\n",
            "\tTrain Loss: 7.169 | Train PPL: 1298.980\n",
            "\t Val. Loss: 7.363 |  Val. PPL: 1577.347\n",
            "Epoch: 35 | Time: 0m 6s\n",
            "\tTrain Loss: 7.169 | Train PPL: 1298.882\n",
            "\t Val. Loss: 7.364 |  Val. PPL: 1577.664\n",
            "Epoch: 36 | Time: 0m 6s\n",
            "\tTrain Loss: 7.169 | Train PPL: 1298.785\n",
            "\t Val. Loss: 7.364 |  Val. PPL: 1577.977\n",
            "Epoch: 37 | Time: 0m 6s\n",
            "\tTrain Loss: 7.169 | Train PPL: 1298.688\n",
            "\t Val. Loss: 7.364 |  Val. PPL: 1578.287\n",
            "Epoch: 38 | Time: 0m 6s\n",
            "\tTrain Loss: 7.169 | Train PPL: 1298.591\n",
            "\t Val. Loss: 7.364 |  Val. PPL: 1578.593\n",
            "Epoch: 39 | Time: 0m 6s\n",
            "\tTrain Loss: 7.169 | Train PPL: 1298.493\n",
            "\t Val. Loss: 7.364 |  Val. PPL: 1578.897\n",
            "Epoch: 40 | Time: 0m 6s\n",
            "\tTrain Loss: 7.169 | Train PPL: 1298.397\n",
            "\t Val. Loss: 7.365 |  Val. PPL: 1579.197\n",
            "Epoch: 41 | Time: 0m 6s\n",
            "\tTrain Loss: 7.169 | Train PPL: 1298.300\n",
            "\t Val. Loss: 7.365 |  Val. PPL: 1579.494\n",
            "Epoch: 42 | Time: 0m 6s\n",
            "\tTrain Loss: 7.169 | Train PPL: 1298.203\n",
            "\t Val. Loss: 7.365 |  Val. PPL: 1579.787\n",
            "Epoch: 43 | Time: 0m 6s\n",
            "\tTrain Loss: 7.169 | Train PPL: 1298.107\n",
            "\t Val. Loss: 7.365 |  Val. PPL: 1580.078\n",
            "Epoch: 44 | Time: 0m 6s\n",
            "\tTrain Loss: 7.169 | Train PPL: 1298.010\n",
            "\t Val. Loss: 7.365 |  Val. PPL: 1580.365\n",
            "Epoch: 45 | Time: 0m 6s\n",
            "\tTrain Loss: 7.169 | Train PPL: 1297.914\n",
            "\t Val. Loss: 7.366 |  Val. PPL: 1580.648\n",
            "Epoch: 46 | Time: 0m 6s\n",
            "\tTrain Loss: 7.168 | Train PPL: 1297.818\n",
            "\t Val. Loss: 7.366 |  Val. PPL: 1580.929\n",
            "Epoch: 47 | Time: 0m 6s\n",
            "\tTrain Loss: 7.168 | Train PPL: 1297.722\n",
            "\t Val. Loss: 7.366 |  Val. PPL: 1581.206\n",
            "Epoch: 48 | Time: 0m 6s\n",
            "\tTrain Loss: 7.168 | Train PPL: 1297.626\n",
            "\t Val. Loss: 7.366 |  Val. PPL: 1581.481\n",
            "Epoch: 49 | Time: 0m 6s\n",
            "\tTrain Loss: 7.168 | Train PPL: 1297.530\n",
            "\t Val. Loss: 7.366 |  Val. PPL: 1581.752\n",
            "Epoch: 50 | Time: 0m 6s\n",
            "\tTrain Loss: 7.168 | Train PPL: 1297.434\n",
            "\t Val. Loss: 7.366 |  Val. PPL: 1582.020\n"
          ],
          "name": "stdout"
        }
      ]
    },
    {
      "cell_type": "code",
      "metadata": {
        "colab": {
          "base_uri": "https://localhost:8080/"
        },
        "id": "nCCoIJLMJouF",
        "outputId": "7dac242c-d330-4605-8a00-ed9b5f0e52a6"
      },
      "source": [
        "best_valid_loss"
      ],
      "execution_count": null,
      "outputs": [
        {
          "output_type": "execute_result",
          "data": {
            "text/plain": [
              "7.357165654500325"
            ]
          },
          "metadata": {
            "tags": []
          },
          "execution_count": 65
        }
      ]
    },
    {
      "cell_type": "markdown",
      "metadata": {
        "id": "zJm2KZKW9ejI"
      },
      "source": [
        "Finally, we test the model on the test set using these \"best\" parameters."
      ]
    },
    {
      "cell_type": "code",
      "metadata": {
        "id": "0ZlTvUHI9ejI",
        "colab": {
          "base_uri": "https://localhost:8080/"
        },
        "outputId": "8eace8ee-2632-43bb-bd45-9a7a7297a124"
      },
      "source": [
        "model.load_state_dict(torch.load('tut3-model.pt'))\n",
        "\n",
        "test_loss = evaluate(model, test_iterator, criterion)\n",
        "\n",
        "print(f'| Test Loss: {test_loss:.3f} | Test PPL: {math.exp(test_loss):7.3f} |')"
      ],
      "execution_count": null,
      "outputs": [
        {
          "output_type": "stream",
          "text": [
            "| Test Loss: 3.178 | Test PPL:  24.009 |\n"
          ],
          "name": "stdout"
        }
      ]
    }
  ]
}